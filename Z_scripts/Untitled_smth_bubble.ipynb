{
 "cells": [
  {
   "cell_type": "code",
   "execution_count": 2,
   "metadata": {},
   "outputs": [
    {
     "data": {
      "text/plain": [
       "(920.0950454545456, 0.023760000000000003)"
      ]
     },
     "execution_count": 2,
     "metadata": {},
     "output_type": "execute_result"
    }
   ],
   "source": [
    "Ca = 0.0230\n",
    "V0=0.2179e-9\n",
    "Umean=1.580\n",
    "Ub=1.944\n",
    "delta_zv=0.054\n",
    "d = 0.514e-3\n",
    "mu=0.88e-3\n",
    "rho=997\n",
    "sigma=0.072\n",
    "\n",
    "Re=rho*d*Umean/mu\n",
    "Ca=mu*Ub/sigma\n",
    "Re, Ca"
   ]
  },
  {
   "cell_type": "code",
   "execution_count": 10,
   "metadata": {},
   "outputs": [
    {
     "data": {
      "text/plain": [
       "(1.5800085080143151,\n",
       " 0.023760000000000003,\n",
       " 2.0606566782058233,\n",
       " 2.5758208477572793)"
      ]
     },
     "execution_count": 10,
     "metadata": {},
     "output_type": "execute_result"
    }
   ],
   "source": [
    "def calcUmean(Re):\n",
    "    return Re*mu/(rho*d)\n",
    "\n",
    "def calcCa(Ub):\n",
    "    return mu*Ub/sigma\n",
    "\n",
    "calcUmean(920.1), calcCa(Ub), calcUmean(1200), calcUmean(1500),\n"
   ]
  },
  {
   "cell_type": "code",
   "execution_count": 18,
   "metadata": {},
   "outputs": [
    {
     "data": {
      "text/plain": [
       "0.030695293898617828"
      ]
     },
     "execution_count": 18,
     "metadata": {},
     "output_type": "execute_result"
    }
   ],
   "source": [
    "import scipy.stats as stats\n",
    "Cas=[0.003, 0.008, 0.0098, 0.015, 0.0230 ]\n",
    "Umeans=[0.242, 0.666, 0.757, 1.118, 1.580]\n",
    "Ubs=[0.261, 0.704, 0.815 ,1.293, 1.944]\n",
    "slope, intercept, r_value, p_value, std_err = stats.linregress(Umeans, Ubs)\n",
    "calcCa(intercept + slope*2.060)"
   ]
  },
  {
   "cell_type": "code",
   "execution_count": 14,
   "metadata": {},
   "outputs": [
    {
     "data": {
      "text/plain": [
       "0.49992708342618836"
      ]
     },
     "execution_count": 14,
     "metadata": {},
     "output_type": "execute_result"
    }
   ],
   "source": [
    "intercept/(1 - slope*mu/sigma)"
   ]
  },
  {
   "cell_type": "code",
   "execution_count": null,
   "metadata": {},
   "outputs": [],
   "source": [
    "{0.003, 0.1751e-9, 0.242, 0.261, 0.013},  // 18 Air-Water\n",
    "{0.008, 0.1715e-9, 0.666, 0.704, 0.023},  // 19 Air-Water\n",
    "{0.0098, 0.2208e-9, 0.757, 0.815, 0.025}, // 20 Air-Water\n",
    "{0.015, 0.1882e-9, 1.118 ,1.293, 0.039},  // 21 Air-Water\n",
    "{0.0230, 0.2179e-9, 1.580, 1.944, 0.054}  // 22 Air-Water\n",
    "{0.0230, 0.2179e-9, 2.060, 1.944, 0.054}  // 23 Air-Water\n",
    "{0.0230, 0.2179e-9, 2.575, 1.944, 0.054} "
   ]
  }
 ],
 "metadata": {
  "kernelspec": {
   "display_name": "Python 3",
   "language": "python",
   "name": "python3"
  },
  "language_info": {
   "codemirror_mode": {
    "name": "ipython",
    "version": 3
   },
   "file_extension": ".py",
   "mimetype": "text/x-python",
   "name": "python",
   "nbconvert_exporter": "python",
   "pygments_lexer": "ipython3",
   "version": "3.8.5"
  }
 },
 "nbformat": 4,
 "nbformat_minor": 4
}
