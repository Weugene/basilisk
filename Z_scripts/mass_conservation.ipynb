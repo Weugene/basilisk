{
 "cells": [
  {
   "cell_type": "code",
   "execution_count": 24,
   "metadata": {},
   "outputs": [
    {
     "name": "stdout",
     "output_type": "stream",
     "text": [
      "path: C:/Users/Weugene/AppData/Local/Packages/CanonicalGroupLimited.UbuntuonWindows_79rhkp1fndgsc/LocalState/rootfs/home/e.sharaborin/basilisk/work/mass_conservation/COMPARISON/\n",
      "FILE name:  C:/Users/Weugene/AppData/Local/Packages/CanonicalGroupLimited.UbuntuonWindows_79rhkp1fndgsc/LocalState/rootfs/home/e.sharaborin/basilisk/work/mass_conservation/COMPARISON/m0.08\n",
      "FILE name:  C:/Users/Weugene/AppData/Local/Packages/CanonicalGroupLimited.UbuntuonWindows_79rhkp1fndgsc/LocalState/rootfs/home/e.sharaborin/basilisk/work/mass_conservation/COMPARISON/m0.125\n",
      "FILE name:  C:/Users/Weugene/AppData/Local/Packages/CanonicalGroupLimited.UbuntuonWindows_79rhkp1fndgsc/LocalState/rootfs/home/e.sharaborin/basilisk/work/mass_conservation/COMPARISON/m0.2\n"
     ]
    },
    {
     "ename": "TypeError",
     "evalue": "list indices must be integers or slices, not str",
     "output_type": "error",
     "traceback": [
      "\u001b[1;31m---------------------------------------------------------------------------\u001b[0m",
      "\u001b[1;31mTypeError\u001b[0m                                 Traceback (most recent call last)",
      "\u001b[1;32m<ipython-input-24-5c6e23664e20>\u001b[0m in \u001b[0;36m<module>\u001b[1;34m\u001b[0m\n\u001b[0;32m     96\u001b[0m     \u001b[0mfig\u001b[0m\u001b[1;33m.\u001b[0m\u001b[0mupdate_yaxes\u001b[0m\u001b[1;33m(\u001b[0m\u001b[0maxis_style\u001b[0m\u001b[1;33m)\u001b[0m\u001b[1;33m\u001b[0m\u001b[1;33m\u001b[0m\u001b[0m\n\u001b[0;32m     97\u001b[0m     \u001b[1;31m# fig.update_layout( yaxis_type = \"log\" )\u001b[0m\u001b[1;33m\u001b[0m\u001b[1;33m\u001b[0m\u001b[1;33m\u001b[0m\u001b[0m\n\u001b[1;32m---> 98\u001b[1;33m     \u001b[0mmaxy\u001b[0m \u001b[1;33m=\u001b[0m \u001b[0mmax\u001b[0m\u001b[1;33m(\u001b[0m\u001b[0mdf_exp\u001b[0m\u001b[1;33m[\u001b[0m\u001b[1;33m:\u001b[0m\u001b[1;33m]\u001b[0m\u001b[1;33m[\u001b[0m\u001b[0my\u001b[0m\u001b[1;33m]\u001b[0m\u001b[1;33m)\u001b[0m\u001b[1;33m\u001b[0m\u001b[1;33m\u001b[0m\u001b[0m\n\u001b[0m\u001b[0;32m     99\u001b[0m     \u001b[0mfig\u001b[0m\u001b[1;33m.\u001b[0m\u001b[0mupdate_yaxes\u001b[0m\u001b[1;33m(\u001b[0m\u001b[0mrange\u001b[0m\u001b[1;33m=\u001b[0m\u001b[1;33m[\u001b[0m\u001b[1;36m0\u001b[0m\u001b[1;33m,\u001b[0m\u001b[0mmaxy\u001b[0m\u001b[1;33m]\u001b[0m\u001b[1;33m)\u001b[0m\u001b[1;33m\u001b[0m\u001b[1;33m\u001b[0m\u001b[0m\n\u001b[0;32m    100\u001b[0m     \u001b[0mfig\u001b[0m\u001b[1;33m.\u001b[0m\u001b[0mupdate_xaxes\u001b[0m\u001b[1;33m(\u001b[0m\u001b[0mrange\u001b[0m\u001b[1;33m=\u001b[0m\u001b[1;33m[\u001b[0m\u001b[1;36m0\u001b[0m\u001b[1;33m,\u001b[0m\u001b[1;36m0.4\u001b[0m\u001b[1;33m]\u001b[0m\u001b[1;33m)\u001b[0m\u001b[1;33m\u001b[0m\u001b[1;33m\u001b[0m\u001b[0m\n",
      "\u001b[1;31mTypeError\u001b[0m: list indices must be integers or slices, not str"
     ]
    }
   ],
   "source": [
    "import pandas as pd\n",
    "import numpy as np\n",
    "import plotly.graph_objects as go\n",
    "import plotly.express as px\n",
    "from plotly.offline import iplot, init_notebook_mode\n",
    "import plotly.io as pio\n",
    "import glob, os, sys\n",
    "import logging\n",
    "from sys import argv\n",
    "import re\n",
    "import csv\n",
    "from scipy.signal import find_peaks\n",
    "from pathlib import Path\n",
    "pio.orca.config.executable = str(Path('C:/Users/Weugene/AppData/Local/Programs/orca/orca.exe'))\n",
    "np.set_printoptions(threshold=sys.maxsize)\n",
    "import scipy.spatial.distance as ds\n",
    "\n",
    "\n",
    "rpath = 'C:/Users/Weugene/AppData/Local/Packages/CanonicalGroupLimited.UbuntuonWindows_79rhkp1fndgsc/LocalState/rootfs/home/e.sharaborin/basilisk/work/mass_conservation/COMPARISON/'\n",
    "files_csv = ['m0.08',  'm0.125',  'm0.2']\n",
    "names = ['r=0.08', 'r=0.125', 'r=0.2' ]\n",
    "ynames = ['V<sub>g</sub>', 'U<sub>mean</sub>', 'U<sub>max</sub>']\n",
    "fnames = ['Vg', 'Umean', 'Umax']\n",
    "lines = ['solid', 'dot', 'dash', 'longdash']\n",
    "print (\"path:\", rpath)\n",
    "\n",
    "#WINDOWS 10\n",
    "path_ex = rpath\n",
    "#MAC OS\n",
    "# path_ex = '/Users/weugene/basilisk/work/tube/'\n",
    "for i,f in enumerate(files_csv):\n",
    "    files_csv[i] = rpath + files_csv[i]\n",
    "### STYLE\n",
    "yaxis = dict(\n",
    "              tickfont = dict(\n",
    "              family = 'Times New Roman',\n",
    "              size = 20,\n",
    "              color = 'black'\n",
    "              ),\n",
    "              titlefont = dict(\n",
    "                  family = 'Times New Roman',\n",
    "                  size = 25,\n",
    "                  color = 'black'\n",
    "              ),\n",
    "          )\n",
    "xaxis = dict(\n",
    "              tickfont = dict(\n",
    "                  family = 'Times New Roman',\n",
    "                  size = 20,\n",
    "                  color = 'black'\n",
    "              ),\n",
    "              titlefont = dict(\n",
    "                  family = 'Times New Roman',\n",
    "                  size = 25,\n",
    "                  color = 'black'\n",
    "              )\n",
    "          )\n",
    "axis_style = dict(showline=True, gridwidth=1, gridcolor='lightgrey', linewidth=2, linecolor='black', mirror=True, ticks='outside',\n",
    "                 tickfont = dict(family = 'Times New Roman', size = 18, color = 'black'))\n",
    "bg_style = {'plot_bgcolor': 'rgba(255, 255, 255, 1)', 'paper_bgcolor': 'rgba(255, 255, 255, 1)',}\n",
    "col =   ['blue',           'red',        'hsv(120,100,100)',       'black' ]\n",
    "\n",
    "### END of STYLE\n",
    "\n",
    "\n",
    "headers1=['level', 'i', 't', 'dt','avggas','statuavg', 'staturms', ' statumax', 'NAN' ]\n",
    "\n",
    "df_exp = []\n",
    "\n",
    "for i, file in enumerate(files_csv):\n",
    "    print('FILE name: ',file)\n",
    "    df_exp.append(pd.read_csv(Path(file), header=None, sep=' '))\n",
    "    df_exp[i].columns = headers1\n",
    "for j,y in enumerate(['avggas', 'statuavg', ' statumax']):\n",
    "    fig = go.Figure()\n",
    "    for i, file in enumerate(files_csv):\n",
    "        fig.add_trace(go.Scatter(x=df_exp[i]['t'], y=df_exp[i][y], name=names[i],\n",
    "                             mode='lines+markers',\n",
    "                             line=dict(color=col[i], width=2, dash = lines[i]),\n",
    "                             textfont=dict(\n",
    "                                family=\"sans serif\",\n",
    "                                size=18,\n",
    "                                color=\"LightSeaGreen\")\n",
    "                             ))\n",
    "\n",
    "    fig.update_layout(\n",
    "        width = 1000,\n",
    "        height = 500,\n",
    "        xaxis_title='t',\n",
    "        yaxis_title=ynames[j],\n",
    "        yaxis = yaxis,\n",
    "        xaxis = xaxis\n",
    "    )\n",
    "    fig.update_layout(bg_style)\n",
    "    fig.update_xaxes(axis_style)\n",
    "    fig.update_yaxes(axis_style)\n",
    "    # fig.update_layout( yaxis_type = \"log\" )\n",
    "    maxy = max(df_exp[:][y])\n",
    "    fig.update_yaxes(range=[0,maxy])\n",
    "    fig.update_xaxes(range=[0,0.4])\n",
    "    fig.update_layout(showlegend=True)\n",
    "    fig.update_layout(legend = dict(font = dict(family = \"Times New Roman\", size = 25, color = \"black\")),\n",
    "                      legend_title = dict(font = dict(family = \"Times New Roman\", size = 25, color = \"blue\")))\n",
    "\n",
    "    fig.update_layout(legend=dict(\n",
    "        yanchor=\"bottom\",\n",
    "        y=0.1,\n",
    "        xanchor=\"right\",\n",
    "        x=1,\n",
    "        bordercolor=\"Black\",\n",
    "        borderwidth=2\n",
    "    ))\n",
    "    fig.update_layout(\n",
    "        autosize=False,\n",
    "        width=850,\n",
    "        height=600,\n",
    "        margin=dict(\n",
    "            l=1,\n",
    "            r=1,\n",
    "            b=1,\n",
    "            t=1,\n",
    "            pad=4\n",
    "        ),\n",
    "    #     paper_bgcolor=\"LightSteelBlue\",\n",
    "    )\n",
    "\n",
    "    if True:\n",
    "        fn = rpath + fnames[j] + '.pdf'\n",
    "        iplot(fig)\n",
    "        pio.write_image(fig, str(Path(fn)))\n",
    "        print(\"Successfully generated:\", fn)\n"
   ]
  },
  {
   "cell_type": "code",
   "execution_count": null,
   "metadata": {},
   "outputs": [],
   "source": []
  },
  {
   "cell_type": "code",
   "execution_count": 30,
   "metadata": {},
   "outputs": [],
   "source": [
    "import numpy as np\n",
    "import pandas as pd\n",
    "from mpl_toolkits.mplot3d import axes3d\n",
    "import plotly.express as px\n",
    "import plotly.graph_objects as go\n",
    "from matplotlib import cm\n",
    "from scipy.interpolate import griddata\n",
    "from matplotlib.ticker import LinearLocator, FormatStrFormatter\n",
    "from scipy import interpolate\n",
    "import matplotlib.ticker as ticker\n",
    "import matplotlib as mpl\n",
    "import matplotlib.pyplot as plt\n",
    "%matplotlib inline\n",
    "\n",
    "#Plot numbers without .0. i.e. 1.000 => just 1\n",
    "class nf(float):\n",
    "    def __repr__(self):\n",
    "        s = f'{self:.1f}'\n",
    "        return f'{self:.0f}' if s[-1] == '0' else s\n",
    "\n",
    "    \n",
    "\n",
    "df_dict = pd.read_excel('https://drive.google.com/u/0/uc?id=1X7McO1BVxzI7ntRDWX3ycpKbFmqVUItg&export=download', header=[0, 1], index_col=0, sheet_name='Sheet2')\n",
    "df=df_dict.rename_axis((None,None), axis=1)\n",
    "df.columns.names = ['level', 'eta']\n",
    "level_l=list(df.columns.get_level_values('level'))\n",
    "eta_l=list(df.columns.get_level_values('eta'))\n",
    "level=list(df.columns.get_level_values('level').unique())\n",
    "eta=list(df.columns.get_level_values('eta').unique())\n",
    "phi = np.array([.05, .1, .2, .3, .4, .5, .6, .7, .75])\n",
    "\n",
    "minErr=df.min().min()\n",
    "maxErr=df.max().max()\n",
    "levels_log = np.logspace(np.log10(minErr), np.log10(maxErr), 11) #Log of Error\n",
    "levels = np.array([-3, -2.6, -2.2, -2, -1.5, -1.2, -1., -0.7, 0]) # log Error \n",
    "Nphi=len(phi)\n",
    "Nlevel=len(level)\n",
    "Neta=len(eta)\n",
    "fi=list(df.index)\n",
    "M = np.array(df).reshape(9, 4, 6) #PHI, LEVEL, ETA\n",
    "minErr=M.min()\n",
    "maxErr=M.max()\n",
    "\n"
   ]
  },
  {
   "cell_type": "code",
   "execution_count": null,
   "metadata": {},
   "outputs": [],
   "source": []
  },
  {
   "cell_type": "code",
   "execution_count": null,
   "metadata": {},
   "outputs": [],
   "source": []
  },
  {
   "cell_type": "code",
   "execution_count": 179,
   "metadata": {},
   "outputs": [
    {
     "data": {
      "application/vnd.plotly.v1+json": {
       "config": {
        "linkText": "Export to plot.ly",
        "plotlyServerURL": "https://plot.ly",
        "showLink": false
       },
       "data": [
        {
         "line": {
          "color": "blue",
          "dash": "solid",
          "width": 2
         },
         "marker": {
          "line": {
           "color": "rgb(0, 0, 250)",
           "width": 1
          },
          "size": 15,
          "symbol": "cross-open"
         },
         "mode": "lines+markers",
         "name": "J<sub>max</sub>=8 η=10<sup>-3</sup>, m≥ 5",
         "textfont": {
          "color": "LightSeaGreen",
          "family": "sans serif",
          "size": 18
         },
         "type": "scatter",
         "x": [
          0.05,
          0.1,
          0.2,
          0.3,
          0.4,
          0.5,
          0.6,
          0.7,
          0.75
         ],
         "y": [
          0.1114588688946016,
          0.10648811921063223,
          0.1216941587424802,
          0.15728474246841595,
          0.22154298040295559,
          0.33327011548211427,
          0.5529517867271696,
          0.8714630177514793,
          0.9808992082343627
         ]
        },
        {
         "line": {
          "color": "blue",
          "dash": "dot",
          "width": 2
         },
         "marker": {
          "line": {
           "color": "rgb(0, 0, 250)",
           "width": 1
          },
          "size": 15,
          "symbol": "triangle-down-open"
         },
         "mode": "lines+markers",
         "name": "J<sub>max</sub>=8 η=10<sup>-4</sup>, m= 2",
         "textfont": {
          "color": "LightSeaGreen",
          "family": "sans serif",
          "size": 18
         },
         "type": "scatter",
         "x": [
          0.05,
          0.1,
          0.2,
          0.3,
          0.4,
          0.5,
          0.6,
          0.7,
          0.75
         ],
         "y": [
          0.03706298200514143,
          0.042823197744663644,
          0.05200077624684651,
          0.06393683187560749,
          0.09226215062646281,
          0.12949018871467466,
          0.24384004537719803,
          0.5908779585798817,
          0.9128543151227236
         ]
        },
        {
         "line": {
          "color": "blue",
          "dash": "dash",
          "width": 2
         },
         "marker": {
          "line": {
           "color": "rgb(0, 0, 250)",
           "width": 1
          },
          "size": 15,
          "symbol": "circle-open"
         },
         "mode": "lines+markers",
         "name": "J<sub>max</sub>=8 η=10<sup>-5</sup>, m= 0",
         "textfont": {
          "color": "LightSeaGreen",
          "family": "sans serif",
          "size": 18
         },
         "type": "scatter",
         "x": [
          0.05,
          0.1,
          0.2,
          0.3,
          0.4,
          0.5,
          0.6,
          0.7,
          0.75
         ],
         "y": [
          0.012930591259640105,
          0.01848973016512281,
          0.02457209392586838,
          0.029789115646258576,
          0.04340722382853733,
          0.05185428598253677,
          0.10032898468519576,
          0.25108727810650894,
          0.6667110055423595
         ]
        },
        {
         "line": {
          "color": "blue",
          "dash": "longdash",
          "width": 2
         },
         "marker": {
          "line": {
           "color": "rgb(0, 0, 250)",
           "width": 1
          },
          "size": 15,
          "symbol": "circle-open"
         },
         "mode": "lines+markers",
         "name": "J<sub>max</sub>=8 η=10<sup>-6</sup>, m= 0",
         "textfont": {
          "color": "LightSeaGreen",
          "family": "sans serif",
          "size": 18
         },
         "type": "scatter",
         "x": [
          0.05,
          0.1,
          0.2,
          0.3,
          0.4,
          0.5,
          0.6,
          0.7,
          0.75
         ],
         "y": [
          0.0019537275064267483,
          0.0034716069271042314,
          0.007217155055307659,
          0.005004859086491745,
          0.015273761989994836,
          0.010900384940381092,
          0.06568916619398749,
          0.08566568047337283,
          0.386387965162312
         ]
        },
        {
         "line": {
          "color": "blue",
          "dash": "dashdot",
          "width": 2
         },
         "marker": {
          "line": {
           "color": "rgb(0, 0, 250)",
           "width": 1
          },
          "size": 15,
          "symbol": "circle-open"
         },
         "mode": "lines+markers",
         "name": "J<sub>max</sub>=8 η=10<sup>-15</sup>, m= 0",
         "textfont": {
          "color": "LightSeaGreen",
          "family": "sans serif",
          "size": 18
         },
         "type": "scatter",
         "x": [
          0.05,
          0.1,
          0.2,
          0.3,
          0.4,
          0.5,
          0.6,
          0.7,
          0.75
         ],
         "y": [
          0.012538560411311057,
          0.004744260974627571,
          0.00248204929167469,
          0.007006802721088333,
          0.0010968837486804164,
          0.008290301380152245,
          0.04204197390811111,
          0.03484467455621305,
          0.2790989707046714
         ]
        },
        {
         "line": {
          "color": "red",
          "dash": "solid",
          "width": 2
         },
         "marker": {
          "line": {
           "color": "rgb(0, 0, 250)",
           "width": 1
          },
          "size": 15,
          "symbol": "cross-open"
         },
         "mode": "lines+markers",
         "name": "J<sub>max</sub>=9 η=10<sup>-3</sup>, m≥ 5",
         "textfont": {
          "color": "LightSeaGreen",
          "family": "sans serif",
          "size": 18
         },
         "type": "scatter",
         "x": [
          0.05,
          0.1,
          0.2,
          0.3,
          0.4,
          0.5,
          0.6,
          0.7,
          0.75
         ],
         "y": [
          0.100694087403599,
          0.09383809907370111,
          0.10792742091985255,
          0.14009135082604474,
          0.203327367020056,
          0.3151309736175007,
          0.5386834940442428,
          0.8688683431952663,
          0.9806194774346794
         ]
        },
        {
         "line": {
          "color": "red",
          "dash": "dot",
          "width": 2
         },
         "marker": {
          "line": {
           "color": "rgb(0, 0, 250)",
           "width": 1
          },
          "size": 15,
          "symbol": "cross-open"
         },
         "mode": "lines+markers",
         "name": "J<sub>max</sub>=9 η=10<sup>-4</sup>, m≥ 5",
         "textfont": {
          "color": "LightSeaGreen",
          "family": "sans serif",
          "size": 18
         },
         "type": "scatter",
         "x": [
          0.05,
          0.1,
          0.2,
          0.3,
          0.4,
          0.5,
          0.6,
          0.7,
          0.75
         ],
         "y": [
          0.028399742930591283,
          0.03213451469995967,
          0.04039006404036481,
          0.04791836734693882,
          0.0743219055486713,
          0.10663224110412164,
          0.2082926829268293,
          0.5687707100591716,
          0.9099627870150435
         ]
        },
        {
         "line": {
          "color": "red",
          "dash": "dash",
          "width": 2
         },
         "marker": {
          "line": {
           "color": "rgb(0, 0, 250)",
           "width": 1
          },
          "size": 15,
          "symbol": "triangle-up-open"
         },
         "mode": "lines+markers",
         "name": "J<sub>max</sub>=9 η=10<sup>-5</sup>, m= 1",
         "textfont": {
          "color": "LightSeaGreen",
          "family": "sans serif",
          "size": 18
         },
         "type": "scatter",
         "x": [
          0.05,
          0.1,
          0.2,
          0.3,
          0.4,
          0.5,
          0.6,
          0.7,
          0.75
         ],
         "y": [
          0.013971722365038648,
          0.017660088602496887,
          0.024655540461866843,
          0.02699708454810501,
          0.04362292900087198,
          0.05310487278189832,
          0.09139534883720936,
          0.2329068047337278,
          0.650132224861441
         ]
        },
        {
         "line": {
          "color": "red",
          "dash": "longdash",
          "width": 2
         },
         "marker": {
          "line": {
           "color": "rgb(0, 0, 250)",
           "width": 1
          },
          "size": 15,
          "symbol": "circle-open"
         },
         "mode": "lines+markers",
         "name": "J<sub>max</sub>=9 η=10<sup>-6</sup>, m= 0",
         "textfont": {
          "color": "LightSeaGreen",
          "family": "sans serif",
          "size": 18
         },
         "type": "scatter",
         "x": [
          0.05,
          0.1,
          0.2,
          0.3,
          0.4,
          0.5,
          0.6,
          0.7,
          0.75
         ],
         "y": [
          0.004910025706940961,
          0.008385018123237937,
          0.013627013390258057,
          0.012886297376093368,
          0.025090642067098008,
          0.025477419960567054,
          0.07399319342030632,
          0.09420118343195269,
          0.3696302454473476
         ]
        },
        {
         "line": {
          "color": "red",
          "dash": "dashdot",
          "width": 2
         },
         "marker": {
          "line": {
           "color": "rgb(0, 0, 250)",
           "width": 1
          },
          "size": 15,
          "symbol": "circle-open"
         },
         "mode": "lines+markers",
         "name": "J<sub>max</sub>=9 η=10<sup>-15</sup>, m= 0",
         "textfont": {
          "color": "LightSeaGreen",
          "family": "sans serif",
          "size": 18
         },
         "type": "scatter",
         "x": [
          0.05,
          0.1,
          0.2,
          0.3,
          0.4,
          0.5,
          0.6,
          0.7,
          0.75
         ],
         "y": [
          0.0035411311053984242,
          0.0003584373741440605,
          0.004215020376479687,
          0.001457725947521921,
          0.008963238331267954,
          0.006512064594873648,
          0.04842881452070341,
          0.03496301775147934,
          0.243646080760095
         ]
        },
        {
         "line": {
          "color": "hsv(120,100,100)",
          "dash": "solid",
          "width": 2
         },
         "marker": {
          "line": {
           "color": "rgb(0, 0, 250)",
           "width": 1
          },
          "size": 15,
          "symbol": "cross-open"
         },
         "mode": "lines+markers",
         "name": "J<sub>max</sub>=10 η=10<sup>-3</sup>, m≥ 5",
         "textfont": {
          "color": "LightSeaGreen",
          "family": "sans serif",
          "size": 18
         },
         "type": "scatter",
         "x": [
          0.05,
          0.1,
          0.2,
          0.3,
          0.4,
          0.5,
          0.6,
          0.7,
          0.75
         ],
         "y": [
          0.09185732647814919,
          0.09001610954490533,
          0.1206908596933825,
          0.17026044703595727,
          0.25033273670200556,
          0.38164491597033134,
          0.6181695972773682,
          0.9013254437869822,
          0.9858583531274743
         ]
        },
        {
         "line": {
          "color": "hsv(120,100,100)",
          "dash": "dot",
          "width": 2
         },
         "marker": {
          "line": {
           "color": "rgb(0, 0, 250)",
           "width": 1
          },
          "size": 15,
          "symbol": "cross-open"
         },
         "mode": "lines+markers",
         "name": "J<sub>max</sub>=10 η=10<sup>-4</sup>, m≥ 5",
         "textfont": {
          "color": "LightSeaGreen",
          "family": "sans serif",
          "size": 18
         },
         "type": "scatter",
         "x": [
          0.05,
          0.1,
          0.2,
          0.3,
          0.4,
          0.5,
          0.6,
          0.7,
          0.75
         ],
         "y": [
          0.01662596401028273,
          0.0012444623439388882,
          0.021624296526295363,
          0.03459572400388726,
          0.06016797466611586,
          0.09290207492254243,
          0.21414066931366987,
          0.573599852071006,
          0.9141448931116389
         ]
        },
        {
         "line": {
          "color": "hsv(120,100,100)",
          "dash": "dash",
          "width": 2
         },
         "marker": {
          "line": {
           "color": "rgb(0, 0, 250)",
           "width": 1
          },
          "size": 15,
          "symbol": "square-open"
         },
         "mode": "lines+markers",
         "name": "J<sub>max</sub>=10 η=10<sup>-5</sup>, m= 3",
         "textfont": {
          "color": "LightSeaGreen",
          "family": "sans serif",
          "size": 18
         },
         "type": "scatter",
         "x": [
          0.05,
          0.1,
          0.2,
          0.3,
          0.4,
          0.5,
          0.6,
          0.7,
          0.75
         ],
         "y": [
          0.036368894601542474,
          0.0130527587595651,
          0.007189986415680183,
          0.017862001943634673,
          0.032066639129836136,
          0.042104966669796164,
          0.10265456608054453,
          0.20565828402366865,
          0.6281923990498812
         ]
        },
        {
         "line": {
          "color": "hsv(120,100,100)",
          "dash": "longdash",
          "width": 2
         },
         "marker": {
          "line": {
           "color": "rgb(0, 0, 250)",
           "width": 1
          },
          "size": 15,
          "symbol": "triangle-up-open"
         },
         "mode": "lines+markers",
         "name": "J<sub>max</sub>=10 η=10<sup>-6</sup>, m= 1",
         "textfont": {
          "color": "LightSeaGreen",
          "family": "sans serif",
          "size": 18
         },
         "type": "scatter",
         "x": [
          0.05,
          0.1,
          0.2,
          0.3,
          0.4,
          0.5,
          0.6,
          0.7,
          0.75
         ],
         "y": [
          0.03602827763496138,
          0.01782521143777698,
          0.007776052784785571,
          0.011205053449951465,
          0.022901464041488736,
          0.027991737864989066,
          0.07728871242200794,
          0.09318786982248518,
          0.33963895486935863
         ]
        },
        {
         "line": {
          "color": "hsv(120,100,100)",
          "dash": "dashdot",
          "width": 2
         },
         "marker": {
          "line": {
           "color": "rgb(0, 0, 250)",
           "width": 1
          },
          "size": 15,
          "symbol": "circle-open"
         },
         "mode": "lines+markers",
         "name": "J<sub>max</sub>=10 η=10<sup>-15</sup>, m= 0",
         "textfont": {
          "color": "LightSeaGreen",
          "family": "sans serif",
          "size": 18
         },
         "type": "scatter",
         "x": [
          0.05,
          0.1,
          0.2,
          0.3,
          0.4,
          0.5,
          0.6,
          0.7,
          0.75
         ],
         "y": [
          0.041150385604112986,
          0.023878372935964568,
          0.0002445177566465953,
          0.0013508260447036929,
          0.011138647941621886,
          0.011163271054360975,
          0.05372093023255816,
          0.03254437869822485,
          0.1976326207442597
         ]
        },
        {
         "line": {
          "color": "black",
          "dash": "solid",
          "width": 2
         },
         "marker": {
          "line": {
           "color": "rgb(0, 0, 250)",
           "width": 1
          },
          "size": 15,
          "symbol": "cross-open"
         },
         "mode": "lines+markers",
         "name": "J<sub>max</sub>=11 η=10<sup>-3</sup>, m≥ 5",
         "textfont": {
          "color": "LightSeaGreen",
          "family": "sans serif",
          "size": 18
         },
         "type": "scatter",
         "x": [
          0.05,
          0.1,
          0.2,
          0.3,
          0.4,
          0.5,
          0.6,
          0.7,
          0.75
         ],
         "y": [
          0.08706940874035995,
          0.08740636327023751,
          0.11755870366776636,
          0.16662390670553937,
          0.2464546330717334,
          0.3780058210496667,
          0.6162370958593306,
          0.901073224852071,
          0.9858472684085511
         ]
        },
        {
         "line": {
          "color": "black",
          "dash": "dot",
          "width": 2
         },
         "marker": {
          "line": {
           "color": "rgb(0, 0, 250)",
           "width": 1
          },
          "size": 15,
          "symbol": "cross-open"
         },
         "mode": "lines+markers",
         "name": "J<sub>max</sub>=11 η=10<sup>-4</sup>, m≥ 5",
         "textfont": {
          "color": "LightSeaGreen",
          "family": "sans serif",
          "size": 18
         },
         "type": "scatter",
         "x": [
          0.05,
          0.1,
          0.2,
          0.3,
          0.4,
          0.5,
          0.6,
          0.7,
          0.75
         ],
         "y": [
          0.02426092544987143,
          0.005497382198952946,
          0.017304482825538522,
          0.029275996112730834,
          0.05334801964293908,
          0.08367477232184768,
          0.20365853658536584,
          0.5669282544378698,
          0.9134125098970705
         ]
        },
        {
         "line": {
          "color": "black",
          "dash": "dash",
          "width": 2
         },
         "marker": {
          "line": {
           "color": "rgb(0, 0, 250)",
           "width": 1
          },
          "size": 15,
          "symbol": "cross-open"
         },
         "mode": "lines+markers",
         "name": "J<sub>max</sub>=11 η=10<sup>-5</sup>, m≥ 5",
         "textfont": {
          "color": "LightSeaGreen",
          "family": "sans serif",
          "size": 18
         },
         "type": "scatter",
         "x": [
          0.05,
          0.1,
          0.2,
          0.3,
          0.4,
          0.5,
          0.6,
          0.7,
          0.75
         ],
         "y": [
          0.04041773778920307,
          0.019387837293596485,
          0.009192703279642944,
          0.013265306122449068,
          0.02601312588921005,
          0.03362688949394405,
          0.09104934770277934,
          0.1837056213017752,
          0.6122224861441014
         ]
        },
        {
         "line": {
          "color": "black",
          "dash": "longdash",
          "width": 2
         },
         "marker": {
          "line": {
           "color": "rgb(0, 0, 250)",
           "width": 1
          },
          "size": 15,
          "symbol": "triangle-down-open"
         },
         "mode": "lines+markers",
         "name": "J<sub>max</sub>=11 η=10<sup>-6</sup>, m= 2",
         "textfont": {
          "color": "LightSeaGreen",
          "family": "sans serif",
          "size": 18
         },
         "type": "scatter",
         "x": [
          0.05,
          0.1,
          0.2,
          0.3,
          0.4,
          0.5,
          0.6,
          0.7,
          0.75
         ],
         "y": [
          0.04311053984575823,
          0.021264599275070573,
          0.006992043469823448,
          0.010330417881438313,
          0.02206159071090912,
          0.026200356774011783,
          0.07486103233125356,
          0.08674556213017746,
          0.3020791765637372
         ]
        },
        {
         "line": {
          "color": "black",
          "dash": "dashdot",
          "width": 2
         },
         "marker": {
          "line": {
           "color": "rgb(0, 0, 250)",
           "width": 1
          },
          "size": 15,
          "symbol": "circle-open"
         },
         "mode": "lines+markers",
         "name": "J<sub>max</sub>=11 η=10<sup>-15</sup>, m= 0",
         "textfont": {
          "color": "LightSeaGreen",
          "family": "sans serif",
          "size": 18
         },
         "type": "scatter",
         "x": [
          0.05,
          0.1,
          0.2,
          0.3,
          0.4,
          0.5,
          0.6,
          0.7,
          0.75
         ],
         "y": [
          0.04723650385604121,
          0.025678614579138247,
          0.0017096836794099977,
          0.003712342079689067,
          0.013525173252558514,
          0.014101962257065049,
          0.057725467952353934,
          0.0394452662721893,
          0.16541567695961995
         ]
        }
       ],
       "layout": {
        "autosize": false,
        "height": 600,
        "legend": {
         "bordercolor": "Black",
         "borderwidth": 0,
         "font": {
          "color": "black",
          "family": "Times New Roman",
          "size": 18
         },
         "title": {
          "font": {
           "color": "black",
           "family": "Times New Roman",
           "size": 20
          }
         },
         "x": 1.009,
         "xanchor": "left",
         "y": 0,
         "yanchor": "bottom"
        },
        "margin": {
         "b": 1,
         "l": 1,
         "pad": 4,
         "r": 1,
         "t": 1
        },
        "paper_bgcolor": "rgba(255, 255, 255, 1)",
        "plot_bgcolor": "rgba(255, 255, 255, 1)",
        "showlegend": true,
        "template": {
         "data": {
          "bar": [
           {
            "error_x": {
             "color": "#2a3f5f"
            },
            "error_y": {
             "color": "#2a3f5f"
            },
            "marker": {
             "line": {
              "color": "#E5ECF6",
              "width": 0.5
             }
            },
            "type": "bar"
           }
          ],
          "barpolar": [
           {
            "marker": {
             "line": {
              "color": "#E5ECF6",
              "width": 0.5
             }
            },
            "type": "barpolar"
           }
          ],
          "carpet": [
           {
            "aaxis": {
             "endlinecolor": "#2a3f5f",
             "gridcolor": "white",
             "linecolor": "white",
             "minorgridcolor": "white",
             "startlinecolor": "#2a3f5f"
            },
            "baxis": {
             "endlinecolor": "#2a3f5f",
             "gridcolor": "white",
             "linecolor": "white",
             "minorgridcolor": "white",
             "startlinecolor": "#2a3f5f"
            },
            "type": "carpet"
           }
          ],
          "choropleth": [
           {
            "colorbar": {
             "outlinewidth": 0,
             "ticks": ""
            },
            "type": "choropleth"
           }
          ],
          "contour": [
           {
            "colorbar": {
             "outlinewidth": 0,
             "ticks": ""
            },
            "colorscale": [
             [
              0,
              "#0d0887"
             ],
             [
              0.1111111111111111,
              "#46039f"
             ],
             [
              0.2222222222222222,
              "#7201a8"
             ],
             [
              0.3333333333333333,
              "#9c179e"
             ],
             [
              0.4444444444444444,
              "#bd3786"
             ],
             [
              0.5555555555555556,
              "#d8576b"
             ],
             [
              0.6666666666666666,
              "#ed7953"
             ],
             [
              0.7777777777777778,
              "#fb9f3a"
             ],
             [
              0.8888888888888888,
              "#fdca26"
             ],
             [
              1,
              "#f0f921"
             ]
            ],
            "type": "contour"
           }
          ],
          "contourcarpet": [
           {
            "colorbar": {
             "outlinewidth": 0,
             "ticks": ""
            },
            "type": "contourcarpet"
           }
          ],
          "heatmap": [
           {
            "colorbar": {
             "outlinewidth": 0,
             "ticks": ""
            },
            "colorscale": [
             [
              0,
              "#0d0887"
             ],
             [
              0.1111111111111111,
              "#46039f"
             ],
             [
              0.2222222222222222,
              "#7201a8"
             ],
             [
              0.3333333333333333,
              "#9c179e"
             ],
             [
              0.4444444444444444,
              "#bd3786"
             ],
             [
              0.5555555555555556,
              "#d8576b"
             ],
             [
              0.6666666666666666,
              "#ed7953"
             ],
             [
              0.7777777777777778,
              "#fb9f3a"
             ],
             [
              0.8888888888888888,
              "#fdca26"
             ],
             [
              1,
              "#f0f921"
             ]
            ],
            "type": "heatmap"
           }
          ],
          "heatmapgl": [
           {
            "colorbar": {
             "outlinewidth": 0,
             "ticks": ""
            },
            "colorscale": [
             [
              0,
              "#0d0887"
             ],
             [
              0.1111111111111111,
              "#46039f"
             ],
             [
              0.2222222222222222,
              "#7201a8"
             ],
             [
              0.3333333333333333,
              "#9c179e"
             ],
             [
              0.4444444444444444,
              "#bd3786"
             ],
             [
              0.5555555555555556,
              "#d8576b"
             ],
             [
              0.6666666666666666,
              "#ed7953"
             ],
             [
              0.7777777777777778,
              "#fb9f3a"
             ],
             [
              0.8888888888888888,
              "#fdca26"
             ],
             [
              1,
              "#f0f921"
             ]
            ],
            "type": "heatmapgl"
           }
          ],
          "histogram": [
           {
            "marker": {
             "colorbar": {
              "outlinewidth": 0,
              "ticks": ""
             }
            },
            "type": "histogram"
           }
          ],
          "histogram2d": [
           {
            "colorbar": {
             "outlinewidth": 0,
             "ticks": ""
            },
            "colorscale": [
             [
              0,
              "#0d0887"
             ],
             [
              0.1111111111111111,
              "#46039f"
             ],
             [
              0.2222222222222222,
              "#7201a8"
             ],
             [
              0.3333333333333333,
              "#9c179e"
             ],
             [
              0.4444444444444444,
              "#bd3786"
             ],
             [
              0.5555555555555556,
              "#d8576b"
             ],
             [
              0.6666666666666666,
              "#ed7953"
             ],
             [
              0.7777777777777778,
              "#fb9f3a"
             ],
             [
              0.8888888888888888,
              "#fdca26"
             ],
             [
              1,
              "#f0f921"
             ]
            ],
            "type": "histogram2d"
           }
          ],
          "histogram2dcontour": [
           {
            "colorbar": {
             "outlinewidth": 0,
             "ticks": ""
            },
            "colorscale": [
             [
              0,
              "#0d0887"
             ],
             [
              0.1111111111111111,
              "#46039f"
             ],
             [
              0.2222222222222222,
              "#7201a8"
             ],
             [
              0.3333333333333333,
              "#9c179e"
             ],
             [
              0.4444444444444444,
              "#bd3786"
             ],
             [
              0.5555555555555556,
              "#d8576b"
             ],
             [
              0.6666666666666666,
              "#ed7953"
             ],
             [
              0.7777777777777778,
              "#fb9f3a"
             ],
             [
              0.8888888888888888,
              "#fdca26"
             ],
             [
              1,
              "#f0f921"
             ]
            ],
            "type": "histogram2dcontour"
           }
          ],
          "mesh3d": [
           {
            "colorbar": {
             "outlinewidth": 0,
             "ticks": ""
            },
            "type": "mesh3d"
           }
          ],
          "parcoords": [
           {
            "line": {
             "colorbar": {
              "outlinewidth": 0,
              "ticks": ""
             }
            },
            "type": "parcoords"
           }
          ],
          "pie": [
           {
            "automargin": true,
            "type": "pie"
           }
          ],
          "scatter": [
           {
            "marker": {
             "colorbar": {
              "outlinewidth": 0,
              "ticks": ""
             }
            },
            "type": "scatter"
           }
          ],
          "scatter3d": [
           {
            "line": {
             "colorbar": {
              "outlinewidth": 0,
              "ticks": ""
             }
            },
            "marker": {
             "colorbar": {
              "outlinewidth": 0,
              "ticks": ""
             }
            },
            "type": "scatter3d"
           }
          ],
          "scattercarpet": [
           {
            "marker": {
             "colorbar": {
              "outlinewidth": 0,
              "ticks": ""
             }
            },
            "type": "scattercarpet"
           }
          ],
          "scattergeo": [
           {
            "marker": {
             "colorbar": {
              "outlinewidth": 0,
              "ticks": ""
             }
            },
            "type": "scattergeo"
           }
          ],
          "scattergl": [
           {
            "marker": {
             "colorbar": {
              "outlinewidth": 0,
              "ticks": ""
             }
            },
            "type": "scattergl"
           }
          ],
          "scattermapbox": [
           {
            "marker": {
             "colorbar": {
              "outlinewidth": 0,
              "ticks": ""
             }
            },
            "type": "scattermapbox"
           }
          ],
          "scatterpolar": [
           {
            "marker": {
             "colorbar": {
              "outlinewidth": 0,
              "ticks": ""
             }
            },
            "type": "scatterpolar"
           }
          ],
          "scatterpolargl": [
           {
            "marker": {
             "colorbar": {
              "outlinewidth": 0,
              "ticks": ""
             }
            },
            "type": "scatterpolargl"
           }
          ],
          "scatterternary": [
           {
            "marker": {
             "colorbar": {
              "outlinewidth": 0,
              "ticks": ""
             }
            },
            "type": "scatterternary"
           }
          ],
          "surface": [
           {
            "colorbar": {
             "outlinewidth": 0,
             "ticks": ""
            },
            "colorscale": [
             [
              0,
              "#0d0887"
             ],
             [
              0.1111111111111111,
              "#46039f"
             ],
             [
              0.2222222222222222,
              "#7201a8"
             ],
             [
              0.3333333333333333,
              "#9c179e"
             ],
             [
              0.4444444444444444,
              "#bd3786"
             ],
             [
              0.5555555555555556,
              "#d8576b"
             ],
             [
              0.6666666666666666,
              "#ed7953"
             ],
             [
              0.7777777777777778,
              "#fb9f3a"
             ],
             [
              0.8888888888888888,
              "#fdca26"
             ],
             [
              1,
              "#f0f921"
             ]
            ],
            "type": "surface"
           }
          ],
          "table": [
           {
            "cells": {
             "fill": {
              "color": "#EBF0F8"
             },
             "line": {
              "color": "white"
             }
            },
            "header": {
             "fill": {
              "color": "#C8D4E3"
             },
             "line": {
              "color": "white"
             }
            },
            "type": "table"
           }
          ]
         },
         "layout": {
          "annotationdefaults": {
           "arrowcolor": "#2a3f5f",
           "arrowhead": 0,
           "arrowwidth": 1
          },
          "coloraxis": {
           "colorbar": {
            "outlinewidth": 0,
            "ticks": ""
           }
          },
          "colorscale": {
           "diverging": [
            [
             0,
             "#8e0152"
            ],
            [
             0.1,
             "#c51b7d"
            ],
            [
             0.2,
             "#de77ae"
            ],
            [
             0.3,
             "#f1b6da"
            ],
            [
             0.4,
             "#fde0ef"
            ],
            [
             0.5,
             "#f7f7f7"
            ],
            [
             0.6,
             "#e6f5d0"
            ],
            [
             0.7,
             "#b8e186"
            ],
            [
             0.8,
             "#7fbc41"
            ],
            [
             0.9,
             "#4d9221"
            ],
            [
             1,
             "#276419"
            ]
           ],
           "sequential": [
            [
             0,
             "#0d0887"
            ],
            [
             0.1111111111111111,
             "#46039f"
            ],
            [
             0.2222222222222222,
             "#7201a8"
            ],
            [
             0.3333333333333333,
             "#9c179e"
            ],
            [
             0.4444444444444444,
             "#bd3786"
            ],
            [
             0.5555555555555556,
             "#d8576b"
            ],
            [
             0.6666666666666666,
             "#ed7953"
            ],
            [
             0.7777777777777778,
             "#fb9f3a"
            ],
            [
             0.8888888888888888,
             "#fdca26"
            ],
            [
             1,
             "#f0f921"
            ]
           ],
           "sequentialminus": [
            [
             0,
             "#0d0887"
            ],
            [
             0.1111111111111111,
             "#46039f"
            ],
            [
             0.2222222222222222,
             "#7201a8"
            ],
            [
             0.3333333333333333,
             "#9c179e"
            ],
            [
             0.4444444444444444,
             "#bd3786"
            ],
            [
             0.5555555555555556,
             "#d8576b"
            ],
            [
             0.6666666666666666,
             "#ed7953"
            ],
            [
             0.7777777777777778,
             "#fb9f3a"
            ],
            [
             0.8888888888888888,
             "#fdca26"
            ],
            [
             1,
             "#f0f921"
            ]
           ]
          },
          "colorway": [
           "#636efa",
           "#EF553B",
           "#00cc96",
           "#ab63fa",
           "#FFA15A",
           "#19d3f3",
           "#FF6692",
           "#B6E880",
           "#FF97FF",
           "#FECB52"
          ],
          "font": {
           "color": "#2a3f5f"
          },
          "geo": {
           "bgcolor": "white",
           "lakecolor": "white",
           "landcolor": "#E5ECF6",
           "showlakes": true,
           "showland": true,
           "subunitcolor": "white"
          },
          "hoverlabel": {
           "align": "left"
          },
          "hovermode": "closest",
          "mapbox": {
           "style": "light"
          },
          "paper_bgcolor": "white",
          "plot_bgcolor": "#E5ECF6",
          "polar": {
           "angularaxis": {
            "gridcolor": "white",
            "linecolor": "white",
            "ticks": ""
           },
           "bgcolor": "#E5ECF6",
           "radialaxis": {
            "gridcolor": "white",
            "linecolor": "white",
            "ticks": ""
           }
          },
          "scene": {
           "xaxis": {
            "backgroundcolor": "#E5ECF6",
            "gridcolor": "white",
            "gridwidth": 2,
            "linecolor": "white",
            "showbackground": true,
            "ticks": "",
            "zerolinecolor": "white"
           },
           "yaxis": {
            "backgroundcolor": "#E5ECF6",
            "gridcolor": "white",
            "gridwidth": 2,
            "linecolor": "white",
            "showbackground": true,
            "ticks": "",
            "zerolinecolor": "white"
           },
           "zaxis": {
            "backgroundcolor": "#E5ECF6",
            "gridcolor": "white",
            "gridwidth": 2,
            "linecolor": "white",
            "showbackground": true,
            "ticks": "",
            "zerolinecolor": "white"
           }
          },
          "shapedefaults": {
           "line": {
            "color": "#2a3f5f"
           }
          },
          "ternary": {
           "aaxis": {
            "gridcolor": "white",
            "linecolor": "white",
            "ticks": ""
           },
           "baxis": {
            "gridcolor": "white",
            "linecolor": "white",
            "ticks": ""
           },
           "bgcolor": "#E5ECF6",
           "caxis": {
            "gridcolor": "white",
            "linecolor": "white",
            "ticks": ""
           }
          },
          "title": {
           "x": 0.05
          },
          "xaxis": {
           "automargin": true,
           "gridcolor": "white",
           "linecolor": "white",
           "ticks": "",
           "title": {
            "standoff": 15
           },
           "zerolinecolor": "white",
           "zerolinewidth": 2
          },
          "yaxis": {
           "automargin": true,
           "gridcolor": "white",
           "linecolor": "white",
           "ticks": "",
           "title": {
            "standoff": 15
           },
           "zerolinecolor": "white",
           "zerolinewidth": 2
          }
         }
        },
        "width": 850,
        "xaxis": {
         "gridcolor": "lightgrey",
         "gridwidth": 1,
         "linecolor": "black",
         "linewidth": 1,
         "mirror": true,
         "showline": true,
         "tickfont": {
          "color": "black",
          "family": "Times New Roman",
          "size": 18
         },
         "ticks": "outside",
         "title": {
          "font": {
           "color": "black",
           "family": "Times New Roman",
           "size": 25
          },
          "text": "φ<sub>s</sub>"
         }
        },
        "yaxis": {
         "gridcolor": "lightgrey",
         "gridwidth": 1,
         "linecolor": "black",
         "linewidth": 1,
         "mirror": true,
         "showline": true,
         "tickfont": {
          "color": "black",
          "family": "Times New Roman",
          "size": 18
         },
         "ticks": "outside",
         "title": {
          "font": {
           "color": "black",
           "family": "Times New Roman",
           "size": 25
          },
          "text": "E"
         },
         "type": "log"
        }
       }
      },
      "text/html": [
       "<div>                            <div id=\"7e0ae4db-65a6-4dd1-b9ee-fec6ccd2bc7e\" class=\"plotly-graph-div\" style=\"height:600px; width:850px;\"></div>            <script type=\"text/javascript\">                require([\"plotly\"], function(Plotly) {                    window.PLOTLYENV=window.PLOTLYENV || {};                                    if (document.getElementById(\"7e0ae4db-65a6-4dd1-b9ee-fec6ccd2bc7e\")) {                    Plotly.newPlot(                        \"7e0ae4db-65a6-4dd1-b9ee-fec6ccd2bc7e\",                        [{\"line\": {\"color\": \"blue\", \"dash\": \"solid\", \"width\": 2}, \"marker\": {\"line\": {\"color\": \"rgb(0, 0, 250)\", \"width\": 1}, \"size\": 15, \"symbol\": \"cross-open\"}, \"mode\": \"lines+markers\", \"name\": \"J<sub>max</sub>=8 \\u03b7=10<sup>-3</sup>, m\\u2265 5\", \"textfont\": {\"color\": \"LightSeaGreen\", \"family\": \"sans serif\", \"size\": 18}, \"type\": \"scatter\", \"x\": [0.05, 0.1, 0.2, 0.3, 0.4, 0.5, 0.6, 0.7, 0.75], \"y\": [0.1114588688946016, 0.10648811921063223, 0.1216941587424802, 0.15728474246841595, 0.22154298040295559, 0.33327011548211427, 0.5529517867271696, 0.8714630177514793, 0.9808992082343627]}, {\"line\": {\"color\": \"blue\", \"dash\": \"dot\", \"width\": 2}, \"marker\": {\"line\": {\"color\": \"rgb(0, 0, 250)\", \"width\": 1}, \"size\": 15, \"symbol\": \"triangle-down-open\"}, \"mode\": \"lines+markers\", \"name\": \"J<sub>max</sub>=8 \\u03b7=10<sup>-4</sup>, m= 2\", \"textfont\": {\"color\": \"LightSeaGreen\", \"family\": \"sans serif\", \"size\": 18}, \"type\": \"scatter\", \"x\": [0.05, 0.1, 0.2, 0.3, 0.4, 0.5, 0.6, 0.7, 0.75], \"y\": [0.03706298200514143, 0.042823197744663644, 0.05200077624684651, 0.06393683187560749, 0.09226215062646281, 0.12949018871467466, 0.24384004537719803, 0.5908779585798817, 0.9128543151227236]}, {\"line\": {\"color\": \"blue\", \"dash\": \"dash\", \"width\": 2}, \"marker\": {\"line\": {\"color\": \"rgb(0, 0, 250)\", \"width\": 1}, \"size\": 15, \"symbol\": \"circle-open\"}, \"mode\": \"lines+markers\", \"name\": \"J<sub>max</sub>=8 \\u03b7=10<sup>-5</sup>, m= 0\", \"textfont\": {\"color\": \"LightSeaGreen\", \"family\": \"sans serif\", \"size\": 18}, \"type\": \"scatter\", \"x\": [0.05, 0.1, 0.2, 0.3, 0.4, 0.5, 0.6, 0.7, 0.75], \"y\": [0.012930591259640105, 0.01848973016512281, 0.02457209392586838, 0.029789115646258576, 0.04340722382853733, 0.05185428598253677, 0.10032898468519576, 0.25108727810650894, 0.6667110055423595]}, {\"line\": {\"color\": \"blue\", \"dash\": \"longdash\", \"width\": 2}, \"marker\": {\"line\": {\"color\": \"rgb(0, 0, 250)\", \"width\": 1}, \"size\": 15, \"symbol\": \"circle-open\"}, \"mode\": \"lines+markers\", \"name\": \"J<sub>max</sub>=8 \\u03b7=10<sup>-6</sup>, m= 0\", \"textfont\": {\"color\": \"LightSeaGreen\", \"family\": \"sans serif\", \"size\": 18}, \"type\": \"scatter\", \"x\": [0.05, 0.1, 0.2, 0.3, 0.4, 0.5, 0.6, 0.7, 0.75], \"y\": [0.0019537275064267483, 0.0034716069271042314, 0.007217155055307659, 0.005004859086491745, 0.015273761989994836, 0.010900384940381092, 0.06568916619398749, 0.08566568047337283, 0.386387965162312]}, {\"line\": {\"color\": \"blue\", \"dash\": \"dashdot\", \"width\": 2}, \"marker\": {\"line\": {\"color\": \"rgb(0, 0, 250)\", \"width\": 1}, \"size\": 15, \"symbol\": \"circle-open\"}, \"mode\": \"lines+markers\", \"name\": \"J<sub>max</sub>=8 \\u03b7=10<sup>-15</sup>, m= 0\", \"textfont\": {\"color\": \"LightSeaGreen\", \"family\": \"sans serif\", \"size\": 18}, \"type\": \"scatter\", \"x\": [0.05, 0.1, 0.2, 0.3, 0.4, 0.5, 0.6, 0.7, 0.75], \"y\": [0.012538560411311057, 0.004744260974627571, 0.00248204929167469, 0.007006802721088333, 0.0010968837486804164, 0.008290301380152245, 0.04204197390811111, 0.03484467455621305, 0.2790989707046714]}, {\"line\": {\"color\": \"red\", \"dash\": \"solid\", \"width\": 2}, \"marker\": {\"line\": {\"color\": \"rgb(0, 0, 250)\", \"width\": 1}, \"size\": 15, \"symbol\": \"cross-open\"}, \"mode\": \"lines+markers\", \"name\": \"J<sub>max</sub>=9 \\u03b7=10<sup>-3</sup>, m\\u2265 5\", \"textfont\": {\"color\": \"LightSeaGreen\", \"family\": \"sans serif\", \"size\": 18}, \"type\": \"scatter\", \"x\": [0.05, 0.1, 0.2, 0.3, 0.4, 0.5, 0.6, 0.7, 0.75], \"y\": [0.100694087403599, 0.09383809907370111, 0.10792742091985255, 0.14009135082604474, 0.203327367020056, 0.3151309736175007, 0.5386834940442428, 0.8688683431952663, 0.9806194774346794]}, {\"line\": {\"color\": \"red\", \"dash\": \"dot\", \"width\": 2}, \"marker\": {\"line\": {\"color\": \"rgb(0, 0, 250)\", \"width\": 1}, \"size\": 15, \"symbol\": \"cross-open\"}, \"mode\": \"lines+markers\", \"name\": \"J<sub>max</sub>=9 \\u03b7=10<sup>-4</sup>, m\\u2265 5\", \"textfont\": {\"color\": \"LightSeaGreen\", \"family\": \"sans serif\", \"size\": 18}, \"type\": \"scatter\", \"x\": [0.05, 0.1, 0.2, 0.3, 0.4, 0.5, 0.6, 0.7, 0.75], \"y\": [0.028399742930591283, 0.03213451469995967, 0.04039006404036481, 0.04791836734693882, 0.0743219055486713, 0.10663224110412164, 0.2082926829268293, 0.5687707100591716, 0.9099627870150435]}, {\"line\": {\"color\": \"red\", \"dash\": \"dash\", \"width\": 2}, \"marker\": {\"line\": {\"color\": \"rgb(0, 0, 250)\", \"width\": 1}, \"size\": 15, \"symbol\": \"triangle-up-open\"}, \"mode\": \"lines+markers\", \"name\": \"J<sub>max</sub>=9 \\u03b7=10<sup>-5</sup>, m= 1\", \"textfont\": {\"color\": \"LightSeaGreen\", \"family\": \"sans serif\", \"size\": 18}, \"type\": \"scatter\", \"x\": [0.05, 0.1, 0.2, 0.3, 0.4, 0.5, 0.6, 0.7, 0.75], \"y\": [0.013971722365038648, 0.017660088602496887, 0.024655540461866843, 0.02699708454810501, 0.04362292900087198, 0.05310487278189832, 0.09139534883720936, 0.2329068047337278, 0.650132224861441]}, {\"line\": {\"color\": \"red\", \"dash\": \"longdash\", \"width\": 2}, \"marker\": {\"line\": {\"color\": \"rgb(0, 0, 250)\", \"width\": 1}, \"size\": 15, \"symbol\": \"circle-open\"}, \"mode\": \"lines+markers\", \"name\": \"J<sub>max</sub>=9 \\u03b7=10<sup>-6</sup>, m= 0\", \"textfont\": {\"color\": \"LightSeaGreen\", \"family\": \"sans serif\", \"size\": 18}, \"type\": \"scatter\", \"x\": [0.05, 0.1, 0.2, 0.3, 0.4, 0.5, 0.6, 0.7, 0.75], \"y\": [0.004910025706940961, 0.008385018123237937, 0.013627013390258057, 0.012886297376093368, 0.025090642067098008, 0.025477419960567054, 0.07399319342030632, 0.09420118343195269, 0.3696302454473476]}, {\"line\": {\"color\": \"red\", \"dash\": \"dashdot\", \"width\": 2}, \"marker\": {\"line\": {\"color\": \"rgb(0, 0, 250)\", \"width\": 1}, \"size\": 15, \"symbol\": \"circle-open\"}, \"mode\": \"lines+markers\", \"name\": \"J<sub>max</sub>=9 \\u03b7=10<sup>-15</sup>, m= 0\", \"textfont\": {\"color\": \"LightSeaGreen\", \"family\": \"sans serif\", \"size\": 18}, \"type\": \"scatter\", \"x\": [0.05, 0.1, 0.2, 0.3, 0.4, 0.5, 0.6, 0.7, 0.75], \"y\": [0.0035411311053984242, 0.0003584373741440605, 0.004215020376479687, 0.001457725947521921, 0.008963238331267954, 0.006512064594873648, 0.04842881452070341, 0.03496301775147934, 0.243646080760095]}, {\"line\": {\"color\": \"hsv(120,100,100)\", \"dash\": \"solid\", \"width\": 2}, \"marker\": {\"line\": {\"color\": \"rgb(0, 0, 250)\", \"width\": 1}, \"size\": 15, \"symbol\": \"cross-open\"}, \"mode\": \"lines+markers\", \"name\": \"J<sub>max</sub>=10 \\u03b7=10<sup>-3</sup>, m\\u2265 5\", \"textfont\": {\"color\": \"LightSeaGreen\", \"family\": \"sans serif\", \"size\": 18}, \"type\": \"scatter\", \"x\": [0.05, 0.1, 0.2, 0.3, 0.4, 0.5, 0.6, 0.7, 0.75], \"y\": [0.09185732647814919, 0.09001610954490533, 0.1206908596933825, 0.17026044703595727, 0.25033273670200556, 0.38164491597033134, 0.6181695972773682, 0.9013254437869822, 0.9858583531274743]}, {\"line\": {\"color\": \"hsv(120,100,100)\", \"dash\": \"dot\", \"width\": 2}, \"marker\": {\"line\": {\"color\": \"rgb(0, 0, 250)\", \"width\": 1}, \"size\": 15, \"symbol\": \"cross-open\"}, \"mode\": \"lines+markers\", \"name\": \"J<sub>max</sub>=10 \\u03b7=10<sup>-4</sup>, m\\u2265 5\", \"textfont\": {\"color\": \"LightSeaGreen\", \"family\": \"sans serif\", \"size\": 18}, \"type\": \"scatter\", \"x\": [0.05, 0.1, 0.2, 0.3, 0.4, 0.5, 0.6, 0.7, 0.75], \"y\": [0.01662596401028273, 0.0012444623439388882, 0.021624296526295363, 0.03459572400388726, 0.06016797466611586, 0.09290207492254243, 0.21414066931366987, 0.573599852071006, 0.9141448931116389]}, {\"line\": {\"color\": \"hsv(120,100,100)\", \"dash\": \"dash\", \"width\": 2}, \"marker\": {\"line\": {\"color\": \"rgb(0, 0, 250)\", \"width\": 1}, \"size\": 15, \"symbol\": \"square-open\"}, \"mode\": \"lines+markers\", \"name\": \"J<sub>max</sub>=10 \\u03b7=10<sup>-5</sup>, m= 3\", \"textfont\": {\"color\": \"LightSeaGreen\", \"family\": \"sans serif\", \"size\": 18}, \"type\": \"scatter\", \"x\": [0.05, 0.1, 0.2, 0.3, 0.4, 0.5, 0.6, 0.7, 0.75], \"y\": [0.036368894601542474, 0.0130527587595651, 0.007189986415680183, 0.017862001943634673, 0.032066639129836136, 0.042104966669796164, 0.10265456608054453, 0.20565828402366865, 0.6281923990498812]}, {\"line\": {\"color\": \"hsv(120,100,100)\", \"dash\": \"longdash\", \"width\": 2}, \"marker\": {\"line\": {\"color\": \"rgb(0, 0, 250)\", \"width\": 1}, \"size\": 15, \"symbol\": \"triangle-up-open\"}, \"mode\": \"lines+markers\", \"name\": \"J<sub>max</sub>=10 \\u03b7=10<sup>-6</sup>, m= 1\", \"textfont\": {\"color\": \"LightSeaGreen\", \"family\": \"sans serif\", \"size\": 18}, \"type\": \"scatter\", \"x\": [0.05, 0.1, 0.2, 0.3, 0.4, 0.5, 0.6, 0.7, 0.75], \"y\": [0.03602827763496138, 0.01782521143777698, 0.007776052784785571, 0.011205053449951465, 0.022901464041488736, 0.027991737864989066, 0.07728871242200794, 0.09318786982248518, 0.33963895486935863]}, {\"line\": {\"color\": \"hsv(120,100,100)\", \"dash\": \"dashdot\", \"width\": 2}, \"marker\": {\"line\": {\"color\": \"rgb(0, 0, 250)\", \"width\": 1}, \"size\": 15, \"symbol\": \"circle-open\"}, \"mode\": \"lines+markers\", \"name\": \"J<sub>max</sub>=10 \\u03b7=10<sup>-15</sup>, m= 0\", \"textfont\": {\"color\": \"LightSeaGreen\", \"family\": \"sans serif\", \"size\": 18}, \"type\": \"scatter\", \"x\": [0.05, 0.1, 0.2, 0.3, 0.4, 0.5, 0.6, 0.7, 0.75], \"y\": [0.041150385604112986, 0.023878372935964568, 0.0002445177566465953, 0.0013508260447036929, 0.011138647941621886, 0.011163271054360975, 0.05372093023255816, 0.03254437869822485, 0.1976326207442597]}, {\"line\": {\"color\": \"black\", \"dash\": \"solid\", \"width\": 2}, \"marker\": {\"line\": {\"color\": \"rgb(0, 0, 250)\", \"width\": 1}, \"size\": 15, \"symbol\": \"cross-open\"}, \"mode\": \"lines+markers\", \"name\": \"J<sub>max</sub>=11 \\u03b7=10<sup>-3</sup>, m\\u2265 5\", \"textfont\": {\"color\": \"LightSeaGreen\", \"family\": \"sans serif\", \"size\": 18}, \"type\": \"scatter\", \"x\": [0.05, 0.1, 0.2, 0.3, 0.4, 0.5, 0.6, 0.7, 0.75], \"y\": [0.08706940874035995, 0.08740636327023751, 0.11755870366776636, 0.16662390670553937, 0.2464546330717334, 0.3780058210496667, 0.6162370958593306, 0.901073224852071, 0.9858472684085511]}, {\"line\": {\"color\": \"black\", \"dash\": \"dot\", \"width\": 2}, \"marker\": {\"line\": {\"color\": \"rgb(0, 0, 250)\", \"width\": 1}, \"size\": 15, \"symbol\": \"cross-open\"}, \"mode\": \"lines+markers\", \"name\": \"J<sub>max</sub>=11 \\u03b7=10<sup>-4</sup>, m\\u2265 5\", \"textfont\": {\"color\": \"LightSeaGreen\", \"family\": \"sans serif\", \"size\": 18}, \"type\": \"scatter\", \"x\": [0.05, 0.1, 0.2, 0.3, 0.4, 0.5, 0.6, 0.7, 0.75], \"y\": [0.02426092544987143, 0.005497382198952946, 0.017304482825538522, 0.029275996112730834, 0.05334801964293908, 0.08367477232184768, 0.20365853658536584, 0.5669282544378698, 0.9134125098970705]}, {\"line\": {\"color\": \"black\", \"dash\": \"dash\", \"width\": 2}, \"marker\": {\"line\": {\"color\": \"rgb(0, 0, 250)\", \"width\": 1}, \"size\": 15, \"symbol\": \"cross-open\"}, \"mode\": \"lines+markers\", \"name\": \"J<sub>max</sub>=11 \\u03b7=10<sup>-5</sup>, m\\u2265 5\", \"textfont\": {\"color\": \"LightSeaGreen\", \"family\": \"sans serif\", \"size\": 18}, \"type\": \"scatter\", \"x\": [0.05, 0.1, 0.2, 0.3, 0.4, 0.5, 0.6, 0.7, 0.75], \"y\": [0.04041773778920307, 0.019387837293596485, 0.009192703279642944, 0.013265306122449068, 0.02601312588921005, 0.03362688949394405, 0.09104934770277934, 0.1837056213017752, 0.6122224861441014]}, {\"line\": {\"color\": \"black\", \"dash\": \"longdash\", \"width\": 2}, \"marker\": {\"line\": {\"color\": \"rgb(0, 0, 250)\", \"width\": 1}, \"size\": 15, \"symbol\": \"triangle-down-open\"}, \"mode\": \"lines+markers\", \"name\": \"J<sub>max</sub>=11 \\u03b7=10<sup>-6</sup>, m= 2\", \"textfont\": {\"color\": \"LightSeaGreen\", \"family\": \"sans serif\", \"size\": 18}, \"type\": \"scatter\", \"x\": [0.05, 0.1, 0.2, 0.3, 0.4, 0.5, 0.6, 0.7, 0.75], \"y\": [0.04311053984575823, 0.021264599275070573, 0.006992043469823448, 0.010330417881438313, 0.02206159071090912, 0.026200356774011783, 0.07486103233125356, 0.08674556213017746, 0.3020791765637372]}, {\"line\": {\"color\": \"black\", \"dash\": \"dashdot\", \"width\": 2}, \"marker\": {\"line\": {\"color\": \"rgb(0, 0, 250)\", \"width\": 1}, \"size\": 15, \"symbol\": \"circle-open\"}, \"mode\": \"lines+markers\", \"name\": \"J<sub>max</sub>=11 \\u03b7=10<sup>-15</sup>, m= 0\", \"textfont\": {\"color\": \"LightSeaGreen\", \"family\": \"sans serif\", \"size\": 18}, \"type\": \"scatter\", \"x\": [0.05, 0.1, 0.2, 0.3, 0.4, 0.5, 0.6, 0.7, 0.75], \"y\": [0.04723650385604121, 0.025678614579138247, 0.0017096836794099977, 0.003712342079689067, 0.013525173252558514, 0.014101962257065049, 0.057725467952353934, 0.0394452662721893, 0.16541567695961995]}],                        {\"autosize\": false, \"height\": 600, \"legend\": {\"bordercolor\": \"Black\", \"borderwidth\": 0, \"font\": {\"color\": \"black\", \"family\": \"Times New Roman\", \"size\": 18}, \"title\": {\"font\": {\"color\": \"black\", \"family\": \"Times New Roman\", \"size\": 20}}, \"x\": 1.009, \"xanchor\": \"left\", \"y\": 0, \"yanchor\": \"bottom\"}, \"margin\": {\"b\": 1, \"l\": 1, \"pad\": 4, \"r\": 1, \"t\": 1}, \"paper_bgcolor\": \"rgba(255, 255, 255, 1)\", \"plot_bgcolor\": \"rgba(255, 255, 255, 1)\", \"showlegend\": true, \"template\": {\"data\": {\"bar\": [{\"error_x\": {\"color\": \"#2a3f5f\"}, \"error_y\": {\"color\": \"#2a3f5f\"}, \"marker\": {\"line\": {\"color\": \"#E5ECF6\", \"width\": 0.5}}, \"type\": \"bar\"}], \"barpolar\": [{\"marker\": {\"line\": {\"color\": \"#E5ECF6\", \"width\": 0.5}}, \"type\": \"barpolar\"}], \"carpet\": [{\"aaxis\": {\"endlinecolor\": \"#2a3f5f\", \"gridcolor\": \"white\", \"linecolor\": \"white\", \"minorgridcolor\": \"white\", \"startlinecolor\": \"#2a3f5f\"}, \"baxis\": {\"endlinecolor\": \"#2a3f5f\", \"gridcolor\": \"white\", \"linecolor\": \"white\", \"minorgridcolor\": \"white\", \"startlinecolor\": \"#2a3f5f\"}, \"type\": \"carpet\"}], \"choropleth\": [{\"colorbar\": {\"outlinewidth\": 0, \"ticks\": \"\"}, \"type\": \"choropleth\"}], \"contour\": [{\"colorbar\": {\"outlinewidth\": 0, \"ticks\": \"\"}, \"colorscale\": [[0.0, \"#0d0887\"], [0.1111111111111111, \"#46039f\"], [0.2222222222222222, \"#7201a8\"], [0.3333333333333333, \"#9c179e\"], [0.4444444444444444, \"#bd3786\"], [0.5555555555555556, \"#d8576b\"], [0.6666666666666666, \"#ed7953\"], [0.7777777777777778, \"#fb9f3a\"], [0.8888888888888888, \"#fdca26\"], [1.0, \"#f0f921\"]], \"type\": \"contour\"}], \"contourcarpet\": [{\"colorbar\": {\"outlinewidth\": 0, \"ticks\": \"\"}, \"type\": \"contourcarpet\"}], \"heatmap\": [{\"colorbar\": {\"outlinewidth\": 0, \"ticks\": \"\"}, \"colorscale\": [[0.0, \"#0d0887\"], [0.1111111111111111, \"#46039f\"], [0.2222222222222222, \"#7201a8\"], [0.3333333333333333, \"#9c179e\"], [0.4444444444444444, \"#bd3786\"], [0.5555555555555556, \"#d8576b\"], [0.6666666666666666, \"#ed7953\"], [0.7777777777777778, \"#fb9f3a\"], [0.8888888888888888, \"#fdca26\"], [1.0, \"#f0f921\"]], \"type\": \"heatmap\"}], \"heatmapgl\": [{\"colorbar\": {\"outlinewidth\": 0, \"ticks\": \"\"}, \"colorscale\": [[0.0, \"#0d0887\"], [0.1111111111111111, \"#46039f\"], [0.2222222222222222, \"#7201a8\"], [0.3333333333333333, \"#9c179e\"], [0.4444444444444444, \"#bd3786\"], [0.5555555555555556, \"#d8576b\"], [0.6666666666666666, \"#ed7953\"], [0.7777777777777778, \"#fb9f3a\"], [0.8888888888888888, \"#fdca26\"], [1.0, \"#f0f921\"]], \"type\": \"heatmapgl\"}], \"histogram\": [{\"marker\": {\"colorbar\": {\"outlinewidth\": 0, \"ticks\": \"\"}}, \"type\": \"histogram\"}], \"histogram2d\": [{\"colorbar\": {\"outlinewidth\": 0, \"ticks\": \"\"}, \"colorscale\": [[0.0, \"#0d0887\"], [0.1111111111111111, \"#46039f\"], [0.2222222222222222, \"#7201a8\"], [0.3333333333333333, \"#9c179e\"], [0.4444444444444444, \"#bd3786\"], [0.5555555555555556, \"#d8576b\"], [0.6666666666666666, \"#ed7953\"], [0.7777777777777778, \"#fb9f3a\"], [0.8888888888888888, \"#fdca26\"], [1.0, \"#f0f921\"]], \"type\": \"histogram2d\"}], \"histogram2dcontour\": [{\"colorbar\": {\"outlinewidth\": 0, \"ticks\": \"\"}, \"colorscale\": [[0.0, \"#0d0887\"], [0.1111111111111111, \"#46039f\"], [0.2222222222222222, \"#7201a8\"], [0.3333333333333333, \"#9c179e\"], [0.4444444444444444, \"#bd3786\"], [0.5555555555555556, \"#d8576b\"], [0.6666666666666666, \"#ed7953\"], [0.7777777777777778, \"#fb9f3a\"], [0.8888888888888888, \"#fdca26\"], [1.0, \"#f0f921\"]], \"type\": \"histogram2dcontour\"}], \"mesh3d\": [{\"colorbar\": {\"outlinewidth\": 0, \"ticks\": \"\"}, \"type\": \"mesh3d\"}], \"parcoords\": [{\"line\": {\"colorbar\": {\"outlinewidth\": 0, \"ticks\": \"\"}}, \"type\": \"parcoords\"}], \"pie\": [{\"automargin\": true, \"type\": \"pie\"}], \"scatter\": [{\"marker\": {\"colorbar\": {\"outlinewidth\": 0, \"ticks\": \"\"}}, \"type\": \"scatter\"}], \"scatter3d\": [{\"line\": {\"colorbar\": {\"outlinewidth\": 0, \"ticks\": \"\"}}, \"marker\": {\"colorbar\": {\"outlinewidth\": 0, \"ticks\": \"\"}}, \"type\": \"scatter3d\"}], \"scattercarpet\": [{\"marker\": {\"colorbar\": {\"outlinewidth\": 0, \"ticks\": \"\"}}, \"type\": \"scattercarpet\"}], \"scattergeo\": [{\"marker\": {\"colorbar\": {\"outlinewidth\": 0, \"ticks\": \"\"}}, \"type\": \"scattergeo\"}], \"scattergl\": [{\"marker\": {\"colorbar\": {\"outlinewidth\": 0, \"ticks\": \"\"}}, \"type\": \"scattergl\"}], \"scattermapbox\": [{\"marker\": {\"colorbar\": {\"outlinewidth\": 0, \"ticks\": \"\"}}, \"type\": \"scattermapbox\"}], \"scatterpolar\": [{\"marker\": {\"colorbar\": {\"outlinewidth\": 0, \"ticks\": \"\"}}, \"type\": \"scatterpolar\"}], \"scatterpolargl\": [{\"marker\": {\"colorbar\": {\"outlinewidth\": 0, \"ticks\": \"\"}}, \"type\": \"scatterpolargl\"}], \"scatterternary\": [{\"marker\": {\"colorbar\": {\"outlinewidth\": 0, \"ticks\": \"\"}}, \"type\": \"scatterternary\"}], \"surface\": [{\"colorbar\": {\"outlinewidth\": 0, \"ticks\": \"\"}, \"colorscale\": [[0.0, \"#0d0887\"], [0.1111111111111111, \"#46039f\"], [0.2222222222222222, \"#7201a8\"], [0.3333333333333333, \"#9c179e\"], [0.4444444444444444, \"#bd3786\"], [0.5555555555555556, \"#d8576b\"], [0.6666666666666666, \"#ed7953\"], [0.7777777777777778, \"#fb9f3a\"], [0.8888888888888888, \"#fdca26\"], [1.0, \"#f0f921\"]], \"type\": \"surface\"}], \"table\": [{\"cells\": {\"fill\": {\"color\": \"#EBF0F8\"}, \"line\": {\"color\": \"white\"}}, \"header\": {\"fill\": {\"color\": \"#C8D4E3\"}, \"line\": {\"color\": \"white\"}}, \"type\": \"table\"}]}, \"layout\": {\"annotationdefaults\": {\"arrowcolor\": \"#2a3f5f\", \"arrowhead\": 0, \"arrowwidth\": 1}, \"coloraxis\": {\"colorbar\": {\"outlinewidth\": 0, \"ticks\": \"\"}}, \"colorscale\": {\"diverging\": [[0, \"#8e0152\"], [0.1, \"#c51b7d\"], [0.2, \"#de77ae\"], [0.3, \"#f1b6da\"], [0.4, \"#fde0ef\"], [0.5, \"#f7f7f7\"], [0.6, \"#e6f5d0\"], [0.7, \"#b8e186\"], [0.8, \"#7fbc41\"], [0.9, \"#4d9221\"], [1, \"#276419\"]], \"sequential\": [[0.0, \"#0d0887\"], [0.1111111111111111, \"#46039f\"], [0.2222222222222222, \"#7201a8\"], [0.3333333333333333, \"#9c179e\"], [0.4444444444444444, \"#bd3786\"], [0.5555555555555556, \"#d8576b\"], [0.6666666666666666, \"#ed7953\"], [0.7777777777777778, \"#fb9f3a\"], [0.8888888888888888, \"#fdca26\"], [1.0, \"#f0f921\"]], \"sequentialminus\": [[0.0, \"#0d0887\"], [0.1111111111111111, \"#46039f\"], [0.2222222222222222, \"#7201a8\"], [0.3333333333333333, \"#9c179e\"], [0.4444444444444444, \"#bd3786\"], [0.5555555555555556, \"#d8576b\"], [0.6666666666666666, \"#ed7953\"], [0.7777777777777778, \"#fb9f3a\"], [0.8888888888888888, \"#fdca26\"], [1.0, \"#f0f921\"]]}, \"colorway\": [\"#636efa\", \"#EF553B\", \"#00cc96\", \"#ab63fa\", \"#FFA15A\", \"#19d3f3\", \"#FF6692\", \"#B6E880\", \"#FF97FF\", \"#FECB52\"], \"font\": {\"color\": \"#2a3f5f\"}, \"geo\": {\"bgcolor\": \"white\", \"lakecolor\": \"white\", \"landcolor\": \"#E5ECF6\", \"showlakes\": true, \"showland\": true, \"subunitcolor\": \"white\"}, \"hoverlabel\": {\"align\": \"left\"}, \"hovermode\": \"closest\", \"mapbox\": {\"style\": \"light\"}, \"paper_bgcolor\": \"white\", \"plot_bgcolor\": \"#E5ECF6\", \"polar\": {\"angularaxis\": {\"gridcolor\": \"white\", \"linecolor\": \"white\", \"ticks\": \"\"}, \"bgcolor\": \"#E5ECF6\", \"radialaxis\": {\"gridcolor\": \"white\", \"linecolor\": \"white\", \"ticks\": \"\"}}, \"scene\": {\"xaxis\": {\"backgroundcolor\": \"#E5ECF6\", \"gridcolor\": \"white\", \"gridwidth\": 2, \"linecolor\": \"white\", \"showbackground\": true, \"ticks\": \"\", \"zerolinecolor\": \"white\"}, \"yaxis\": {\"backgroundcolor\": \"#E5ECF6\", \"gridcolor\": \"white\", \"gridwidth\": 2, \"linecolor\": \"white\", \"showbackground\": true, \"ticks\": \"\", \"zerolinecolor\": \"white\"}, \"zaxis\": {\"backgroundcolor\": \"#E5ECF6\", \"gridcolor\": \"white\", \"gridwidth\": 2, \"linecolor\": \"white\", \"showbackground\": true, \"ticks\": \"\", \"zerolinecolor\": \"white\"}}, \"shapedefaults\": {\"line\": {\"color\": \"#2a3f5f\"}}, \"ternary\": {\"aaxis\": {\"gridcolor\": \"white\", \"linecolor\": \"white\", \"ticks\": \"\"}, \"baxis\": {\"gridcolor\": \"white\", \"linecolor\": \"white\", \"ticks\": \"\"}, \"bgcolor\": \"#E5ECF6\", \"caxis\": {\"gridcolor\": \"white\", \"linecolor\": \"white\", \"ticks\": \"\"}}, \"title\": {\"x\": 0.05}, \"xaxis\": {\"automargin\": true, \"gridcolor\": \"white\", \"linecolor\": \"white\", \"ticks\": \"\", \"title\": {\"standoff\": 15}, \"zerolinecolor\": \"white\", \"zerolinewidth\": 2}, \"yaxis\": {\"automargin\": true, \"gridcolor\": \"white\", \"linecolor\": \"white\", \"ticks\": \"\", \"title\": {\"standoff\": 15}, \"zerolinecolor\": \"white\", \"zerolinewidth\": 2}}}, \"width\": 850, \"xaxis\": {\"gridcolor\": \"lightgrey\", \"gridwidth\": 1, \"linecolor\": \"black\", \"linewidth\": 1, \"mirror\": true, \"showline\": true, \"tickfont\": {\"color\": \"black\", \"family\": \"Times New Roman\", \"size\": 18}, \"ticks\": \"outside\", \"title\": {\"font\": {\"color\": \"black\", \"family\": \"Times New Roman\", \"size\": 25}, \"text\": \"\\u03c6<sub>s</sub>\"}}, \"yaxis\": {\"gridcolor\": \"lightgrey\", \"gridwidth\": 1, \"linecolor\": \"black\", \"linewidth\": 1, \"mirror\": true, \"showline\": true, \"tickfont\": {\"color\": \"black\", \"family\": \"Times New Roman\", \"size\": 18}, \"ticks\": \"outside\", \"title\": {\"font\": {\"color\": \"black\", \"family\": \"Times New Roman\", \"size\": 25}, \"text\": \"E\"}, \"type\": \"log\"}},                        {\"responsive\": true}                    ).then(function(){\n",
       "                            \n",
       "var gd = document.getElementById('7e0ae4db-65a6-4dd1-b9ee-fec6ccd2bc7e');\n",
       "var x = new MutationObserver(function (mutations, observer) {{\n",
       "        var display = window.getComputedStyle(gd).display;\n",
       "        if (!display || display === 'none') {{\n",
       "            console.log([gd, 'removed!']);\n",
       "            Plotly.purge(gd);\n",
       "            observer.disconnect();\n",
       "        }}\n",
       "}});\n",
       "\n",
       "// Listen for the removal of the full notebook cells\n",
       "var notebookContainer = gd.closest('#notebook-container');\n",
       "if (notebookContainer) {{\n",
       "    x.observe(notebookContainer, {childList: true});\n",
       "}}\n",
       "\n",
       "// Listen for the clearing of the current output cell\n",
       "var outputEl = gd.closest('.output');\n",
       "if (outputEl) {{\n",
       "    x.observe(outputEl, {childList: true});\n",
       "}}\n",
       "\n",
       "                        })                };                });            </script>        </div>"
      ]
     },
     "metadata": {},
     "output_type": "display_data"
    },
    {
     "name": "stdout",
     "output_type": "stream",
     "text": [
      "Successfully generated: C:/Users/Weugene/AppData/Local/Packages/CanonicalGroupLimited.UbuntuonWindows_79rhkp1fndgsc/LocalState/rootfs/home/e.sharaborin/basilisk/work/cylinders_penalization/comparison_BP_Pt_EB/res10/logError_vs_phi_for_diff_eta_l=8-11.pdf\n"
     ]
    }
   ],
   "source": [
    "#Parameters\n",
    "lev = 10\n",
    "# etas = [1e-15, 1e-06, 0.0001, 0.001]\n",
    "etas = [ 1e-03, 1e-04, 1e-05, 1e-06, 1e-15 ]\n",
    "rpath = 'C:/Users/Weugene/AppData/Local/Packages/CanonicalGroupLimited.UbuntuonWindows_79rhkp1fndgsc/LocalState/rootfs/home/e.sharaborin/basilisk/work/cylinders_penalization/comparison_BP_Pt_EB/res10/'\n",
    "\n",
    "# Plotly for Pandas\n",
    "pd.options.plotting.backend = \"plotly\"\n",
    "### STYLE\n",
    "yaxis = dict(\n",
    "              tickfont = dict(\n",
    "              family = 'Times New Roman',\n",
    "              size = 20,\n",
    "              color = 'black'\n",
    "              ),\n",
    "              titlefont = dict(\n",
    "                  family = 'Times New Roman',\n",
    "                  size = 25,\n",
    "                  color = 'black'\n",
    "              ),\n",
    "          )\n",
    "xaxis = dict(\n",
    "              tickfont = dict(\n",
    "                  family = 'Times New Roman',\n",
    "                  size = 20,\n",
    "                  color = 'black'\n",
    "              ),\n",
    "              titlefont = dict(\n",
    "                  family = 'Times New Roman',\n",
    "                  size = 25,\n",
    "                  color = 'black'\n",
    "              )\n",
    "          )\n",
    "axis_style = dict(showline=True, gridwidth=1, gridcolor='lightgrey', linewidth=1, linecolor='black', mirror=True, ticks='outside',\n",
    "                 tickfont = dict(family = 'Times New Roman', size = 18, color = 'black'))\n",
    "bg_style = {'plot_bgcolor': 'rgba(255, 255, 255, 1)', 'paper_bgcolor': 'rgba(255, 255, 255, 1)',}\n",
    "col =   ['blue',           'red',        'hsv(120,100,100)',       'black', 'magenta', 'goldenrod' ]\n",
    "lines = ['solid', 'dot', 'dash', 'longdash', \"dashdot\", \"longdashdot\"]\n",
    "mst = ['circle', 'triangle-up', 'triangle-down','square', 'diamond', 'cross',  'x-thin', 'cross-thin' ]\n",
    "mst = ['circle-open', 'triangle-up-open', 'triangle-down-open', 'square-open', 'diamond-open', 'cross-open', 'x-thin-open', 'cross-thin-open' ]\n",
    "### END of STYLE\n",
    "# m = []\n",
    "# for i,et in enumerate(eta):\n",
    "#     print(int(np.sqrt(et)*2**lev))\n",
    "#     m.append(max(5,int(np.sqrt(et)*2**lev)))\n",
    "    \n",
    "    \n",
    "fig = go.Figure()\n",
    "for j,lev in enumerate([8,9,10,11]):\n",
    "    for i,et in enumerate(etas):\n",
    "        m = min(int(np.sqrt(et)*2**lev), 5)\n",
    "        if m == 5:\n",
    "            nm = '≥ ' + str(m)\n",
    "        else:\n",
    "            nm = '= ' + str(m)\n",
    "#         print(m)\n",
    "        pw=np.log10(et)\n",
    "#         fig.add_trace(go.Scatter(x=phi, y=df[lev][et].values, name=u\"\\u03B7=10<sup>\" + str(int(pw))+'</sup>, J<sub>max</sub>='+str(lev)+', m ' + nm,\n",
    "        fig.add_trace(go.Scatter(x=phi, y=df[lev][et].values, name='J<sub>max</sub>='+str(lev)+u\" \\u03B7=10<sup>\" + str(int(pw))+'</sup>, m' + nm,\n",
    "\n",
    "                             mode='lines+markers',\n",
    "                             marker = dict(\n",
    "                                     size = 15,\n",
    "                                     line = dict(\n",
    "                                      color = 'rgb(0, 0, 250)',\n",
    "                                      width = 1\n",
    "                                      )\n",
    "                                 ),\n",
    "                             marker_symbol = mst[m],\n",
    "                             line=dict(width=2, dash = lines[i], color = col[j]\n",
    "                                      ),\n",
    "                             textfont=dict(\n",
    "                                family=\"sans serif\",\n",
    "                                size=18,\n",
    "                                color=\"LightSeaGreen\")\n",
    "                             ))\n",
    "\n",
    "    \n",
    "fig.update_layout(\n",
    "    width = 1000,\n",
    "    height = 500,\n",
    "    xaxis_title=u'\\u03c6<sub>s</sub>',\n",
    "    yaxis_title='E',\n",
    "    yaxis = yaxis,\n",
    "    xaxis = xaxis\n",
    ")\n",
    "fig.update_layout(bg_style)\n",
    "fig.update_xaxes(axis_style)\n",
    "fig.update_yaxes(axis_style)\n",
    "fig.update_layout( yaxis_type = \"log\" )\n",
    "# fig.update_yaxes(range=[-5,0])\n",
    "#     fig.update_xaxes(range=[xmin-x0,xmax-x0])\n",
    "fig.update_layout(showlegend=True)\n",
    "fig.update_layout(legend = dict(font = dict(family = \"Times New Roman\", size = 20, color = \"black\")),\n",
    "                  legend_title = dict(font = dict(family = \"Times New Roman\", size = 20, color = \"black\")))\n",
    "\n",
    "\n",
    "# fig.update_layout(legend_title_text=u\"          \\u03B7\")\n",
    "fig.update_layout(\n",
    "    autosize=False,\n",
    "    width=850,\n",
    "    height=600,\n",
    "    margin=dict(\n",
    "        l=1,\n",
    "        r=1,\n",
    "        b=1,\n",
    "        t=1,\n",
    "        pad=4\n",
    "    ),\n",
    "#     paper_bgcolor=\"LightSteelBlue\"\n",
    ")\n",
    "fig.update_layout(legend=dict(\n",
    "    font = dict(family = \"Times New Roman\", size = 18, color = \"black\"),\n",
    "    yanchor=\"bottom\",\n",
    "    y=0,\n",
    "    xanchor=\"left\",\n",
    "    x=1.009,\n",
    "    bordercolor=\"Black\",\n",
    "    borderwidth=0\n",
    "))\n",
    "if True:\n",
    "    fn = rpath + 'logError_vs_phi_for_diff_eta_l=8-11.pdf'\n",
    "    iplot(fig)\n",
    "    pio.write_image(fig, str(Path(fn)))\n",
    "    print(\"Successfully generated:\", fn)\n",
    "\n",
    "\n"
   ]
  },
  {
   "cell_type": "code",
   "execution_count": 34,
   "metadata": {},
   "outputs": [
    {
     "data": {
      "text/plain": [
       "plotly.graph_objs._figure.Figure"
      ]
     },
     "execution_count": 34,
     "metadata": {},
     "output_type": "execute_result"
    }
   ],
   "source": [
    "type(df[10].plot())"
   ]
  },
  {
   "cell_type": "code",
   "execution_count": 166,
   "metadata": {},
   "outputs": [
    {
     "data": {
      "text/plain": [
       "-6"
      ]
     },
     "execution_count": 166,
     "metadata": {},
     "output_type": "execute_result"
    }
   ],
   "source": [
    "        fig.add_trace(go.Scatter(x=phi, y=df[lev][et].values, name='J<sub>max</sub>='+str(lev)+u\" \\u03B7=10<sup>\" + str(int(pw))+'</sup>, m' + nm\n"
   ]
  },
  {
   "cell_type": "code",
   "execution_count": 160,
   "metadata": {},
   "outputs": [
    {
     "data": {
      "text/plain": [
       "3"
      ]
     },
     "execution_count": 160,
     "metadata": {},
     "output_type": "execute_result"
    }
   ],
   "source": [
    "round(3.24)"
   ]
  },
  {
   "cell_type": "code",
   "execution_count": 44,
   "metadata": {},
   "outputs": [
    {
     "name": "stderr",
     "output_type": "stream",
     "text": [
      "C:\\Users\\Weugene\\Anaconda3\\lib\\site-packages\\scipy\\interpolate\\_fitpack_impl.py:976: RuntimeWarning:\n",
      "\n",
      "No more knots can be added because the number of B-spline\n",
      "coefficients already exceeds the number of data points m.\n",
      "Probable causes: either s or m too small. (fp>s)\n",
      "\tkx,ky=3,3 nx,ny=14,15 m=100 fp=0.000000 s=0.000000\n",
      "\n"
     ]
    },
    {
     "data": {
      "application/vnd.plotly.v1+json": {
       "config": {
        "plotlyServerURL": "https://plot.ly"
       },
       "data": [
        {
         "type": "contour",
         "x": [
          0.6904559304079186,
          0.8324514267191774,
          0.44089571464033916,
          0.656389721495599,
          0.9918542330383741,
          0.1222458296273613,
          0.06333378387802813,
          0.3968364089085805,
          0.9232083270770933,
          0.8639782703007673,
          0.4326735485306591,
          0.6673836416019171,
          0.6626782115236066,
          0.8651853406375813,
          0.0519018620789542,
          0.12396735800413006,
          0.2786875767651583,
          0.8016081758005907,
          0.09975036474021193,
          0.42690313041006933,
          0.6456503400238373,
          0.07201305861845209,
          0.31155235257902403,
          0.9890929822349176,
          0.7519331718553259,
          0.15396004384674333,
          0.3501309087353509,
          0.7070055976165939,
          0.8607517641706399,
          0.8230816014170002,
          0.18925985636385334,
          0.07175521864443601,
          0.9595928887014048,
          0.8831511903828742,
          0.10624263701589842,
          0.6179518697035031,
          0.21915851083613258,
          0.1546878647706852,
          0.8865233268059294,
          0.1882184658175744,
          0.11581259603039529,
          0.819380170082898,
          0.7260863644992654,
          0.6007662127117862,
          0.8667868654707488,
          0.8888986286267557,
          0.15269419400380568,
          0.005821951601476805,
          0.8133810090776934,
          0.6523951889911741,
          0.11952916952043913,
          0.2614185574538599,
          0.608964796751244,
          0.9596831936493078,
          0.6160258623017336,
          0.5604488135557562,
          0.7797624141806166,
          0.1867005073296345,
          0.8092347554861986,
          0.022195796767771503,
          0.7335252305583592,
          0.746822163111724,
          0.42741617599469683,
          0.6290618727554664,
          0.18340195019660366,
          0.014533979018484633,
          0.2466536772601452,
          0.045395694708178835,
          0.5825849386056066,
          0.11750551405594911,
          0.941543097828208,
          0.2719371965163685,
          0.4085200714438286,
          0.12226204432436649,
          0.1568694675376059,
          0.46765317055787803,
          0.787211870705766,
          0.2897908850896507,
          0.8579079551376726,
          0.9627241968316167,
          0.8297341458359488,
          0.5588237086876501,
          0.4665648752257632,
          0.3953363044175494,
          0.4962873943685333,
          0.8955800706596555,
          0.2794712552839532,
          0.9156682082730881,
          0.0320528865808094,
          0.7216120129110125,
          0.08093898384200948,
          0.20501617112965476,
          0.2529450973428454,
          0.43931035358536885,
          0.22139163195093314,
          0.7497094161081416,
          0.08471357490911124,
          0.12298300716507504,
          0.29055704338559196,
          0.3216226078169876
         ],
         "y": [
          0.3953697494599655,
          0.3893573763177417,
          0.2531038673278009,
          0.34223711112521327,
          0.3096018557156641,
          0.7968258292755382,
          0.5730474579075473,
          0.6469008070652448,
          0.18196726938751973,
          0.9874686091817064,
          0.392910667327231,
          0.5662145655515956,
          0.6086380776016029,
          0.4955613923117642,
          0.6407135020598946,
          0.09602422878945971,
          0.8070503988581899,
          0.40811039767658375,
          0.3524649152254421,
          0.9339184636706865,
          0.4692134100445159,
          0.9529431512506686,
          0.41236142546527044,
          0.563217302256485,
          0.5992629644178654,
          0.21770723809719184,
          0.11625140001267165,
          0.16941228327077706,
          0.014258499313030026,
          0.10982236856585204,
          0.6275608361201436,
          0.42897840868650305,
          0.6155747130053602,
          0.8248021642890222,
          0.6874652491902628,
          0.21032603319438747,
          0.5030893461099764,
          0.0842940302008649,
          0.9557792620540336,
          0.42881885045694834,
          0.33179953603797185,
          0.7038497192044274,
          0.44474837508906784,
          0.1467714558992107,
          0.23201442148084994,
          0.013199579262054617,
          0.7252561407706651,
          0.7878437771086507,
          0.8708131277197211,
          0.02807552953000847,
          0.334996674866204,
          0.44234197832590716,
          0.04895679369556172,
          0.602152902711525,
          0.07609687900197448,
          0.3598470929239659,
          0.7396049591105573,
          0.3068131833806671,
          0.2898592612780696,
          0.7840450656595289,
          0.2761294449381465,
          0.7154876210444355,
          0.06568073569999022,
          0.17731254655383755,
          0.18730898148966624,
          0.22056403628843135,
          0.7410022399448549,
          0.5876631097236706,
          0.6319401001784507,
          0.8009715430879008,
          0.6453417058352188,
          0.1078339788167405,
          0.28038330786313814,
          0.5307100148865841,
          0.13412915491122324,
          0.5784697818576439,
          0.9292642757113984,
          0.8820351368295174,
          0.3950080019110608,
          0.04928731906171868,
          0.21187990534270906,
          0.6208308980568564,
          0.08332368334268436,
          0.5452566962432894,
          0.12732603359430394,
          0.1638688858490992,
          0.4154802826584095,
          0.4936573804852675,
          0.6558804302438993,
          0.09853973349355583,
          0.8914051893762553,
          0.5364211913035345,
          0.8427343767964087,
          0.4035506934674252,
          0.5095369855218875,
          0.010030076348494288,
          0.6283238255516441,
          0.49422108294598144,
          0.6365055787720418,
          0.04626253338709252
         ],
         "z": [
          -0.13360320352078725,
          -0.06342305026689969,
          0.0943541404939942,
          -0.08583120722643679,
          0.007006283254787581,
          0.0036554339786596195,
          0.028818908430422972,
          0.04734782684538702,
          0.006595246927093467,
          -0.001538060369564712,
          0.14154117866991217,
          -0.06775226943586804,
          -0.10159463263822716,
          -4.420105916097208e-05,
          0.03182226528526184,
          1.8835348726910655e-05,
          -0.16824698800080903,
          -0.09521373689841377,
          0.028014963791151128,
          0.14831444739955602,
          -0.007874318154874832,
          0.03454131501942246,
          -0.10932745329441293,
          0.005974992912465537,
          -0.1791433823379411,
          -0.01459200269652899,
          -0.0019983290759323286,
          -0.022122519695297865,
          -1.393252053246987e-07,
          -0.002015312554109568,
          -0.10477709464075836,
          0.022460287483598768,
          0.033799573532103014,
          0.006225641109331549,
          0.0025252427773575963,
          0.005815332814746166,
          -0.0002401407685751879,
          -0.0003789599736234812,
          0.011373624824187975,
          -0.05945021443370837,
          0.011386842848674614,
          -0.00031721392901108323,
          -0.07066843794949677,
          0.005142592580356469,
          -0.004662322191924267,
          8.226263570335035e-08,
          -0.004543628347166071,
          0.0057557175129518984,
          -0.0011547517612136118,
          -7.5090603356782485e-06,
          0.007044740891973535,
          -0.07607412868253775,
          4.3220485976047696e-05,
          0.03301465624518024,
          0.00014070288337427885,
          0.17805647466346242,
          -0.049603468658678485,
          -0.09108148071724723,
          -0.08600079489242633,
          0.020518578459366478,
          -0.1280392129966119,
          -0.004209219222453696,
          0.00043978511349564587,
          -0.0017636190896129081,
          -0.018267061699799487,
          0.004639884692649198,
          -0.06211705413091158,
          0.031638969099492244,
          0.112353731244931,
          0.009335676300036512,
          0.030723023916330913,
          -0.004038974624797226,
          0.06886359987738193,
          0.0005539028946833465,
          -0.0025908769914072434,
          0.17469048640167087,
          -0.14644240912024364,
          -0.02143257820901202,
          -0.022227240013500526,
          2.9830233175751877e-05,
          -0.02175585775182386,
          0.1790821464482953,
          0.0017253110353261723,
          0.018953271200031232,
          0.010221513010588348,
          0.002621507156019053,
          -0.12813675926266235,
          0.0002363985305529181,
          0.01688231910912863,
          -0.0027888314170924668,
          0.011054306994661887,
          -0.028713944020020876,
          -0.043423425579531216,
          0.14074223176812295,
          -0.0023504752646485885,
          -2.9989624886970397e-07,
          0.03532020521270097,
          1.4224750126681348e-05,
          -0.15533638263602992,
          -9.807283576289538e-05
         ]
        }
       ],
       "layout": {
        "template": {
         "data": {
          "bar": [
           {
            "error_x": {
             "color": "#2a3f5f"
            },
            "error_y": {
             "color": "#2a3f5f"
            },
            "marker": {
             "line": {
              "color": "#E5ECF6",
              "width": 0.5
             }
            },
            "type": "bar"
           }
          ],
          "barpolar": [
           {
            "marker": {
             "line": {
              "color": "#E5ECF6",
              "width": 0.5
             }
            },
            "type": "barpolar"
           }
          ],
          "carpet": [
           {
            "aaxis": {
             "endlinecolor": "#2a3f5f",
             "gridcolor": "white",
             "linecolor": "white",
             "minorgridcolor": "white",
             "startlinecolor": "#2a3f5f"
            },
            "baxis": {
             "endlinecolor": "#2a3f5f",
             "gridcolor": "white",
             "linecolor": "white",
             "minorgridcolor": "white",
             "startlinecolor": "#2a3f5f"
            },
            "type": "carpet"
           }
          ],
          "choropleth": [
           {
            "colorbar": {
             "outlinewidth": 0,
             "ticks": ""
            },
            "type": "choropleth"
           }
          ],
          "contour": [
           {
            "colorbar": {
             "outlinewidth": 0,
             "ticks": ""
            },
            "colorscale": [
             [
              0,
              "#0d0887"
             ],
             [
              0.1111111111111111,
              "#46039f"
             ],
             [
              0.2222222222222222,
              "#7201a8"
             ],
             [
              0.3333333333333333,
              "#9c179e"
             ],
             [
              0.4444444444444444,
              "#bd3786"
             ],
             [
              0.5555555555555556,
              "#d8576b"
             ],
             [
              0.6666666666666666,
              "#ed7953"
             ],
             [
              0.7777777777777778,
              "#fb9f3a"
             ],
             [
              0.8888888888888888,
              "#fdca26"
             ],
             [
              1,
              "#f0f921"
             ]
            ],
            "type": "contour"
           }
          ],
          "contourcarpet": [
           {
            "colorbar": {
             "outlinewidth": 0,
             "ticks": ""
            },
            "type": "contourcarpet"
           }
          ],
          "heatmap": [
           {
            "colorbar": {
             "outlinewidth": 0,
             "ticks": ""
            },
            "colorscale": [
             [
              0,
              "#0d0887"
             ],
             [
              0.1111111111111111,
              "#46039f"
             ],
             [
              0.2222222222222222,
              "#7201a8"
             ],
             [
              0.3333333333333333,
              "#9c179e"
             ],
             [
              0.4444444444444444,
              "#bd3786"
             ],
             [
              0.5555555555555556,
              "#d8576b"
             ],
             [
              0.6666666666666666,
              "#ed7953"
             ],
             [
              0.7777777777777778,
              "#fb9f3a"
             ],
             [
              0.8888888888888888,
              "#fdca26"
             ],
             [
              1,
              "#f0f921"
             ]
            ],
            "type": "heatmap"
           }
          ],
          "heatmapgl": [
           {
            "colorbar": {
             "outlinewidth": 0,
             "ticks": ""
            },
            "colorscale": [
             [
              0,
              "#0d0887"
             ],
             [
              0.1111111111111111,
              "#46039f"
             ],
             [
              0.2222222222222222,
              "#7201a8"
             ],
             [
              0.3333333333333333,
              "#9c179e"
             ],
             [
              0.4444444444444444,
              "#bd3786"
             ],
             [
              0.5555555555555556,
              "#d8576b"
             ],
             [
              0.6666666666666666,
              "#ed7953"
             ],
             [
              0.7777777777777778,
              "#fb9f3a"
             ],
             [
              0.8888888888888888,
              "#fdca26"
             ],
             [
              1,
              "#f0f921"
             ]
            ],
            "type": "heatmapgl"
           }
          ],
          "histogram": [
           {
            "marker": {
             "colorbar": {
              "outlinewidth": 0,
              "ticks": ""
             }
            },
            "type": "histogram"
           }
          ],
          "histogram2d": [
           {
            "colorbar": {
             "outlinewidth": 0,
             "ticks": ""
            },
            "colorscale": [
             [
              0,
              "#0d0887"
             ],
             [
              0.1111111111111111,
              "#46039f"
             ],
             [
              0.2222222222222222,
              "#7201a8"
             ],
             [
              0.3333333333333333,
              "#9c179e"
             ],
             [
              0.4444444444444444,
              "#bd3786"
             ],
             [
              0.5555555555555556,
              "#d8576b"
             ],
             [
              0.6666666666666666,
              "#ed7953"
             ],
             [
              0.7777777777777778,
              "#fb9f3a"
             ],
             [
              0.8888888888888888,
              "#fdca26"
             ],
             [
              1,
              "#f0f921"
             ]
            ],
            "type": "histogram2d"
           }
          ],
          "histogram2dcontour": [
           {
            "colorbar": {
             "outlinewidth": 0,
             "ticks": ""
            },
            "colorscale": [
             [
              0,
              "#0d0887"
             ],
             [
              0.1111111111111111,
              "#46039f"
             ],
             [
              0.2222222222222222,
              "#7201a8"
             ],
             [
              0.3333333333333333,
              "#9c179e"
             ],
             [
              0.4444444444444444,
              "#bd3786"
             ],
             [
              0.5555555555555556,
              "#d8576b"
             ],
             [
              0.6666666666666666,
              "#ed7953"
             ],
             [
              0.7777777777777778,
              "#fb9f3a"
             ],
             [
              0.8888888888888888,
              "#fdca26"
             ],
             [
              1,
              "#f0f921"
             ]
            ],
            "type": "histogram2dcontour"
           }
          ],
          "mesh3d": [
           {
            "colorbar": {
             "outlinewidth": 0,
             "ticks": ""
            },
            "type": "mesh3d"
           }
          ],
          "parcoords": [
           {
            "line": {
             "colorbar": {
              "outlinewidth": 0,
              "ticks": ""
             }
            },
            "type": "parcoords"
           }
          ],
          "pie": [
           {
            "automargin": true,
            "type": "pie"
           }
          ],
          "scatter": [
           {
            "marker": {
             "colorbar": {
              "outlinewidth": 0,
              "ticks": ""
             }
            },
            "type": "scatter"
           }
          ],
          "scatter3d": [
           {
            "line": {
             "colorbar": {
              "outlinewidth": 0,
              "ticks": ""
             }
            },
            "marker": {
             "colorbar": {
              "outlinewidth": 0,
              "ticks": ""
             }
            },
            "type": "scatter3d"
           }
          ],
          "scattercarpet": [
           {
            "marker": {
             "colorbar": {
              "outlinewidth": 0,
              "ticks": ""
             }
            },
            "type": "scattercarpet"
           }
          ],
          "scattergeo": [
           {
            "marker": {
             "colorbar": {
              "outlinewidth": 0,
              "ticks": ""
             }
            },
            "type": "scattergeo"
           }
          ],
          "scattergl": [
           {
            "marker": {
             "colorbar": {
              "outlinewidth": 0,
              "ticks": ""
             }
            },
            "type": "scattergl"
           }
          ],
          "scattermapbox": [
           {
            "marker": {
             "colorbar": {
              "outlinewidth": 0,
              "ticks": ""
             }
            },
            "type": "scattermapbox"
           }
          ],
          "scatterpolar": [
           {
            "marker": {
             "colorbar": {
              "outlinewidth": 0,
              "ticks": ""
             }
            },
            "type": "scatterpolar"
           }
          ],
          "scatterpolargl": [
           {
            "marker": {
             "colorbar": {
              "outlinewidth": 0,
              "ticks": ""
             }
            },
            "type": "scatterpolargl"
           }
          ],
          "scatterternary": [
           {
            "marker": {
             "colorbar": {
              "outlinewidth": 0,
              "ticks": ""
             }
            },
            "type": "scatterternary"
           }
          ],
          "surface": [
           {
            "colorbar": {
             "outlinewidth": 0,
             "ticks": ""
            },
            "colorscale": [
             [
              0,
              "#0d0887"
             ],
             [
              0.1111111111111111,
              "#46039f"
             ],
             [
              0.2222222222222222,
              "#7201a8"
             ],
             [
              0.3333333333333333,
              "#9c179e"
             ],
             [
              0.4444444444444444,
              "#bd3786"
             ],
             [
              0.5555555555555556,
              "#d8576b"
             ],
             [
              0.6666666666666666,
              "#ed7953"
             ],
             [
              0.7777777777777778,
              "#fb9f3a"
             ],
             [
              0.8888888888888888,
              "#fdca26"
             ],
             [
              1,
              "#f0f921"
             ]
            ],
            "type": "surface"
           }
          ],
          "table": [
           {
            "cells": {
             "fill": {
              "color": "#EBF0F8"
             },
             "line": {
              "color": "white"
             }
            },
            "header": {
             "fill": {
              "color": "#C8D4E3"
             },
             "line": {
              "color": "white"
             }
            },
            "type": "table"
           }
          ]
         },
         "layout": {
          "annotationdefaults": {
           "arrowcolor": "#2a3f5f",
           "arrowhead": 0,
           "arrowwidth": 1
          },
          "coloraxis": {
           "colorbar": {
            "outlinewidth": 0,
            "ticks": ""
           }
          },
          "colorscale": {
           "diverging": [
            [
             0,
             "#8e0152"
            ],
            [
             0.1,
             "#c51b7d"
            ],
            [
             0.2,
             "#de77ae"
            ],
            [
             0.3,
             "#f1b6da"
            ],
            [
             0.4,
             "#fde0ef"
            ],
            [
             0.5,
             "#f7f7f7"
            ],
            [
             0.6,
             "#e6f5d0"
            ],
            [
             0.7,
             "#b8e186"
            ],
            [
             0.8,
             "#7fbc41"
            ],
            [
             0.9,
             "#4d9221"
            ],
            [
             1,
             "#276419"
            ]
           ],
           "sequential": [
            [
             0,
             "#0d0887"
            ],
            [
             0.1111111111111111,
             "#46039f"
            ],
            [
             0.2222222222222222,
             "#7201a8"
            ],
            [
             0.3333333333333333,
             "#9c179e"
            ],
            [
             0.4444444444444444,
             "#bd3786"
            ],
            [
             0.5555555555555556,
             "#d8576b"
            ],
            [
             0.6666666666666666,
             "#ed7953"
            ],
            [
             0.7777777777777778,
             "#fb9f3a"
            ],
            [
             0.8888888888888888,
             "#fdca26"
            ],
            [
             1,
             "#f0f921"
            ]
           ],
           "sequentialminus": [
            [
             0,
             "#0d0887"
            ],
            [
             0.1111111111111111,
             "#46039f"
            ],
            [
             0.2222222222222222,
             "#7201a8"
            ],
            [
             0.3333333333333333,
             "#9c179e"
            ],
            [
             0.4444444444444444,
             "#bd3786"
            ],
            [
             0.5555555555555556,
             "#d8576b"
            ],
            [
             0.6666666666666666,
             "#ed7953"
            ],
            [
             0.7777777777777778,
             "#fb9f3a"
            ],
            [
             0.8888888888888888,
             "#fdca26"
            ],
            [
             1,
             "#f0f921"
            ]
           ]
          },
          "colorway": [
           "#636efa",
           "#EF553B",
           "#00cc96",
           "#ab63fa",
           "#FFA15A",
           "#19d3f3",
           "#FF6692",
           "#B6E880",
           "#FF97FF",
           "#FECB52"
          ],
          "font": {
           "color": "#2a3f5f"
          },
          "geo": {
           "bgcolor": "white",
           "lakecolor": "white",
           "landcolor": "#E5ECF6",
           "showlakes": true,
           "showland": true,
           "subunitcolor": "white"
          },
          "hoverlabel": {
           "align": "left"
          },
          "hovermode": "closest",
          "mapbox": {
           "style": "light"
          },
          "paper_bgcolor": "white",
          "plot_bgcolor": "#E5ECF6",
          "polar": {
           "angularaxis": {
            "gridcolor": "white",
            "linecolor": "white",
            "ticks": ""
           },
           "bgcolor": "#E5ECF6",
           "radialaxis": {
            "gridcolor": "white",
            "linecolor": "white",
            "ticks": ""
           }
          },
          "scene": {
           "xaxis": {
            "backgroundcolor": "#E5ECF6",
            "gridcolor": "white",
            "gridwidth": 2,
            "linecolor": "white",
            "showbackground": true,
            "ticks": "",
            "zerolinecolor": "white"
           },
           "yaxis": {
            "backgroundcolor": "#E5ECF6",
            "gridcolor": "white",
            "gridwidth": 2,
            "linecolor": "white",
            "showbackground": true,
            "ticks": "",
            "zerolinecolor": "white"
           },
           "zaxis": {
            "backgroundcolor": "#E5ECF6",
            "gridcolor": "white",
            "gridwidth": 2,
            "linecolor": "white",
            "showbackground": true,
            "ticks": "",
            "zerolinecolor": "white"
           }
          },
          "shapedefaults": {
           "line": {
            "color": "#2a3f5f"
           }
          },
          "ternary": {
           "aaxis": {
            "gridcolor": "white",
            "linecolor": "white",
            "ticks": ""
           },
           "baxis": {
            "gridcolor": "white",
            "linecolor": "white",
            "ticks": ""
           },
           "bgcolor": "#E5ECF6",
           "caxis": {
            "gridcolor": "white",
            "linecolor": "white",
            "ticks": ""
           }
          },
          "title": {
           "x": 0.05
          },
          "xaxis": {
           "automargin": true,
           "gridcolor": "white",
           "linecolor": "white",
           "ticks": "",
           "title": {
            "standoff": 15
           },
           "zerolinecolor": "white",
           "zerolinewidth": 2
          },
          "yaxis": {
           "automargin": true,
           "gridcolor": "white",
           "linecolor": "white",
           "ticks": "",
           "title": {
            "standoff": 15
           },
           "zerolinecolor": "white",
           "zerolinewidth": 2
          }
         }
        }
       }
      },
      "text/html": [
       "<div>                            <div id=\"844bfe8a-f5cf-455c-af59-7bc779433eac\" class=\"plotly-graph-div\" style=\"height:525px; width:100%;\"></div>            <script type=\"text/javascript\">                require([\"plotly\"], function(Plotly) {                    window.PLOTLYENV=window.PLOTLYENV || {};                                    if (document.getElementById(\"844bfe8a-f5cf-455c-af59-7bc779433eac\")) {                    Plotly.newPlot(                        \"844bfe8a-f5cf-455c-af59-7bc779433eac\",                        [{\"type\": \"contour\", \"x\": [0.6904559304079186, 0.8324514267191774, 0.44089571464033916, 0.656389721495599, 0.9918542330383741, 0.1222458296273613, 0.06333378387802813, 0.3968364089085805, 0.9232083270770933, 0.8639782703007673, 0.4326735485306591, 0.6673836416019171, 0.6626782115236066, 0.8651853406375813, 0.0519018620789542, 0.12396735800413006, 0.2786875767651583, 0.8016081758005907, 0.09975036474021193, 0.42690313041006933, 0.6456503400238373, 0.07201305861845209, 0.31155235257902403, 0.9890929822349176, 0.7519331718553259, 0.15396004384674333, 0.3501309087353509, 0.7070055976165939, 0.8607517641706399, 0.8230816014170002, 0.18925985636385334, 0.07175521864443601, 0.9595928887014048, 0.8831511903828742, 0.10624263701589842, 0.6179518697035031, 0.21915851083613258, 0.1546878647706852, 0.8865233268059294, 0.1882184658175744, 0.11581259603039529, 0.819380170082898, 0.7260863644992654, 0.6007662127117862, 0.8667868654707488, 0.8888986286267557, 0.15269419400380568, 0.005821951601476805, 0.8133810090776934, 0.6523951889911741, 0.11952916952043913, 0.2614185574538599, 0.608964796751244, 0.9596831936493078, 0.6160258623017336, 0.5604488135557562, 0.7797624141806166, 0.1867005073296345, 0.8092347554861986, 0.022195796767771503, 0.7335252305583592, 0.746822163111724, 0.42741617599469683, 0.6290618727554664, 0.18340195019660366, 0.014533979018484633, 0.2466536772601452, 0.045395694708178835, 0.5825849386056066, 0.11750551405594911, 0.941543097828208, 0.2719371965163685, 0.4085200714438286, 0.12226204432436649, 0.1568694675376059, 0.46765317055787803, 0.787211870705766, 0.2897908850896507, 0.8579079551376726, 0.9627241968316167, 0.8297341458359488, 0.5588237086876501, 0.4665648752257632, 0.3953363044175494, 0.4962873943685333, 0.8955800706596555, 0.2794712552839532, 0.9156682082730881, 0.0320528865808094, 0.7216120129110125, 0.08093898384200948, 0.20501617112965476, 0.2529450973428454, 0.43931035358536885, 0.22139163195093314, 0.7497094161081416, 0.08471357490911124, 0.12298300716507504, 0.29055704338559196, 0.3216226078169876], \"y\": [0.3953697494599655, 0.3893573763177417, 0.2531038673278009, 0.34223711112521327, 0.3096018557156641, 0.7968258292755382, 0.5730474579075473, 0.6469008070652448, 0.18196726938751973, 0.9874686091817064, 0.392910667327231, 0.5662145655515956, 0.6086380776016029, 0.4955613923117642, 0.6407135020598946, 0.09602422878945971, 0.8070503988581899, 0.40811039767658375, 0.3524649152254421, 0.9339184636706865, 0.4692134100445159, 0.9529431512506686, 0.41236142546527044, 0.563217302256485, 0.5992629644178654, 0.21770723809719184, 0.11625140001267165, 0.16941228327077706, 0.014258499313030026, 0.10982236856585204, 0.6275608361201436, 0.42897840868650305, 0.6155747130053602, 0.8248021642890222, 0.6874652491902628, 0.21032603319438747, 0.5030893461099764, 0.0842940302008649, 0.9557792620540336, 0.42881885045694834, 0.33179953603797185, 0.7038497192044274, 0.44474837508906784, 0.1467714558992107, 0.23201442148084994, 0.013199579262054617, 0.7252561407706651, 0.7878437771086507, 0.8708131277197211, 0.02807552953000847, 0.334996674866204, 0.44234197832590716, 0.04895679369556172, 0.602152902711525, 0.07609687900197448, 0.3598470929239659, 0.7396049591105573, 0.3068131833806671, 0.2898592612780696, 0.7840450656595289, 0.2761294449381465, 0.7154876210444355, 0.06568073569999022, 0.17731254655383755, 0.18730898148966624, 0.22056403628843135, 0.7410022399448549, 0.5876631097236706, 0.6319401001784507, 0.8009715430879008, 0.6453417058352188, 0.1078339788167405, 0.28038330786313814, 0.5307100148865841, 0.13412915491122324, 0.5784697818576439, 0.9292642757113984, 0.8820351368295174, 0.3950080019110608, 0.04928731906171868, 0.21187990534270906, 0.6208308980568564, 0.08332368334268436, 0.5452566962432894, 0.12732603359430394, 0.1638688858490992, 0.4154802826584095, 0.4936573804852675, 0.6558804302438993, 0.09853973349355583, 0.8914051893762553, 0.5364211913035345, 0.8427343767964087, 0.4035506934674252, 0.5095369855218875, 0.010030076348494288, 0.6283238255516441, 0.49422108294598144, 0.6365055787720418, 0.04626253338709252], \"z\": [-0.13360320352078725, -0.06342305026689969, 0.0943541404939942, -0.08583120722643679, 0.007006283254787581, 0.0036554339786596195, 0.028818908430422972, 0.04734782684538702, 0.006595246927093467, -0.001538060369564712, 0.14154117866991217, -0.06775226943586804, -0.10159463263822716, -4.420105916097208e-05, 0.03182226528526184, 1.8835348726910655e-05, -0.16824698800080903, -0.09521373689841377, 0.028014963791151128, 0.14831444739955602, -0.007874318154874832, 0.03454131501942246, -0.10932745329441293, 0.005974992912465537, -0.1791433823379411, -0.01459200269652899, -0.0019983290759323286, -0.022122519695297865, -1.393252053246987e-07, -0.002015312554109568, -0.10477709464075836, 0.022460287483598768, 0.033799573532103014, 0.006225641109331549, 0.0025252427773575963, 0.005815332814746166, -0.0002401407685751879, -0.0003789599736234812, 0.011373624824187975, -0.05945021443370837, 0.011386842848674614, -0.00031721392901108323, -0.07066843794949677, 0.005142592580356469, -0.004662322191924267, 8.226263570335035e-08, -0.004543628347166071, 0.0057557175129518984, -0.0011547517612136118, -7.5090603356782485e-06, 0.007044740891973535, -0.07607412868253775, 4.3220485976047696e-05, 0.03301465624518024, 0.00014070288337427885, 0.17805647466346242, -0.049603468658678485, -0.09108148071724723, -0.08600079489242633, 0.020518578459366478, -0.1280392129966119, -0.004209219222453696, 0.00043978511349564587, -0.0017636190896129081, -0.018267061699799487, 0.004639884692649198, -0.06211705413091158, 0.031638969099492244, 0.112353731244931, 0.009335676300036512, 0.030723023916330913, -0.004038974624797226, 0.06886359987738193, 0.0005539028946833465, -0.0025908769914072434, 0.17469048640167087, -0.14644240912024364, -0.02143257820901202, -0.022227240013500526, 2.9830233175751877e-05, -0.02175585775182386, 0.1790821464482953, 0.0017253110353261723, 0.018953271200031232, 0.010221513010588348, 0.002621507156019053, -0.12813675926266235, 0.0002363985305529181, 0.01688231910912863, -0.0027888314170924668, 0.011054306994661887, -0.028713944020020876, -0.043423425579531216, 0.14074223176812295, -0.0023504752646485885, -2.9989624886970397e-07, 0.03532020521270097, 1.4224750126681348e-05, -0.15533638263602992, -9.807283576289538e-05]}],                        {\"template\": {\"data\": {\"bar\": [{\"error_x\": {\"color\": \"#2a3f5f\"}, \"error_y\": {\"color\": \"#2a3f5f\"}, \"marker\": {\"line\": {\"color\": \"#E5ECF6\", \"width\": 0.5}}, \"type\": \"bar\"}], \"barpolar\": [{\"marker\": {\"line\": {\"color\": \"#E5ECF6\", \"width\": 0.5}}, \"type\": \"barpolar\"}], \"carpet\": [{\"aaxis\": {\"endlinecolor\": \"#2a3f5f\", \"gridcolor\": \"white\", \"linecolor\": \"white\", \"minorgridcolor\": \"white\", \"startlinecolor\": \"#2a3f5f\"}, \"baxis\": {\"endlinecolor\": \"#2a3f5f\", \"gridcolor\": \"white\", \"linecolor\": \"white\", \"minorgridcolor\": \"white\", \"startlinecolor\": \"#2a3f5f\"}, \"type\": \"carpet\"}], \"choropleth\": [{\"colorbar\": {\"outlinewidth\": 0, \"ticks\": \"\"}, \"type\": \"choropleth\"}], \"contour\": [{\"colorbar\": {\"outlinewidth\": 0, \"ticks\": \"\"}, \"colorscale\": [[0.0, \"#0d0887\"], [0.1111111111111111, \"#46039f\"], [0.2222222222222222, \"#7201a8\"], [0.3333333333333333, \"#9c179e\"], [0.4444444444444444, \"#bd3786\"], [0.5555555555555556, \"#d8576b\"], [0.6666666666666666, \"#ed7953\"], [0.7777777777777778, \"#fb9f3a\"], [0.8888888888888888, \"#fdca26\"], [1.0, \"#f0f921\"]], \"type\": \"contour\"}], \"contourcarpet\": [{\"colorbar\": {\"outlinewidth\": 0, \"ticks\": \"\"}, \"type\": \"contourcarpet\"}], \"heatmap\": [{\"colorbar\": {\"outlinewidth\": 0, \"ticks\": \"\"}, \"colorscale\": [[0.0, \"#0d0887\"], [0.1111111111111111, \"#46039f\"], [0.2222222222222222, \"#7201a8\"], [0.3333333333333333, \"#9c179e\"], [0.4444444444444444, \"#bd3786\"], [0.5555555555555556, \"#d8576b\"], [0.6666666666666666, \"#ed7953\"], [0.7777777777777778, \"#fb9f3a\"], [0.8888888888888888, \"#fdca26\"], [1.0, \"#f0f921\"]], \"type\": \"heatmap\"}], \"heatmapgl\": [{\"colorbar\": {\"outlinewidth\": 0, \"ticks\": \"\"}, \"colorscale\": [[0.0, \"#0d0887\"], [0.1111111111111111, \"#46039f\"], [0.2222222222222222, \"#7201a8\"], [0.3333333333333333, \"#9c179e\"], [0.4444444444444444, \"#bd3786\"], [0.5555555555555556, \"#d8576b\"], [0.6666666666666666, \"#ed7953\"], [0.7777777777777778, \"#fb9f3a\"], [0.8888888888888888, \"#fdca26\"], [1.0, \"#f0f921\"]], \"type\": \"heatmapgl\"}], \"histogram\": [{\"marker\": {\"colorbar\": {\"outlinewidth\": 0, \"ticks\": \"\"}}, \"type\": \"histogram\"}], \"histogram2d\": [{\"colorbar\": {\"outlinewidth\": 0, \"ticks\": \"\"}, \"colorscale\": [[0.0, \"#0d0887\"], [0.1111111111111111, \"#46039f\"], [0.2222222222222222, \"#7201a8\"], [0.3333333333333333, \"#9c179e\"], [0.4444444444444444, \"#bd3786\"], [0.5555555555555556, \"#d8576b\"], [0.6666666666666666, \"#ed7953\"], [0.7777777777777778, \"#fb9f3a\"], [0.8888888888888888, \"#fdca26\"], [1.0, \"#f0f921\"]], \"type\": \"histogram2d\"}], \"histogram2dcontour\": [{\"colorbar\": {\"outlinewidth\": 0, \"ticks\": \"\"}, \"colorscale\": [[0.0, \"#0d0887\"], [0.1111111111111111, \"#46039f\"], [0.2222222222222222, \"#7201a8\"], [0.3333333333333333, \"#9c179e\"], [0.4444444444444444, \"#bd3786\"], [0.5555555555555556, \"#d8576b\"], [0.6666666666666666, \"#ed7953\"], [0.7777777777777778, \"#fb9f3a\"], [0.8888888888888888, \"#fdca26\"], [1.0, \"#f0f921\"]], \"type\": \"histogram2dcontour\"}], \"mesh3d\": [{\"colorbar\": {\"outlinewidth\": 0, \"ticks\": \"\"}, \"type\": \"mesh3d\"}], \"parcoords\": [{\"line\": {\"colorbar\": {\"outlinewidth\": 0, \"ticks\": \"\"}}, \"type\": \"parcoords\"}], \"pie\": [{\"automargin\": true, \"type\": \"pie\"}], \"scatter\": [{\"marker\": {\"colorbar\": {\"outlinewidth\": 0, \"ticks\": \"\"}}, \"type\": \"scatter\"}], \"scatter3d\": [{\"line\": {\"colorbar\": {\"outlinewidth\": 0, \"ticks\": \"\"}}, \"marker\": {\"colorbar\": {\"outlinewidth\": 0, \"ticks\": \"\"}}, \"type\": \"scatter3d\"}], \"scattercarpet\": [{\"marker\": {\"colorbar\": {\"outlinewidth\": 0, \"ticks\": \"\"}}, \"type\": \"scattercarpet\"}], \"scattergeo\": [{\"marker\": {\"colorbar\": {\"outlinewidth\": 0, \"ticks\": \"\"}}, \"type\": \"scattergeo\"}], \"scattergl\": [{\"marker\": {\"colorbar\": {\"outlinewidth\": 0, \"ticks\": \"\"}}, \"type\": \"scattergl\"}], \"scattermapbox\": [{\"marker\": {\"colorbar\": {\"outlinewidth\": 0, \"ticks\": \"\"}}, \"type\": \"scattermapbox\"}], \"scatterpolar\": [{\"marker\": {\"colorbar\": {\"outlinewidth\": 0, \"ticks\": \"\"}}, \"type\": \"scatterpolar\"}], \"scatterpolargl\": [{\"marker\": {\"colorbar\": {\"outlinewidth\": 0, \"ticks\": \"\"}}, \"type\": \"scatterpolargl\"}], \"scatterternary\": [{\"marker\": {\"colorbar\": {\"outlinewidth\": 0, \"ticks\": \"\"}}, \"type\": \"scatterternary\"}], \"surface\": [{\"colorbar\": {\"outlinewidth\": 0, \"ticks\": \"\"}, \"colorscale\": [[0.0, \"#0d0887\"], [0.1111111111111111, \"#46039f\"], [0.2222222222222222, \"#7201a8\"], [0.3333333333333333, \"#9c179e\"], [0.4444444444444444, \"#bd3786\"], [0.5555555555555556, \"#d8576b\"], [0.6666666666666666, \"#ed7953\"], [0.7777777777777778, \"#fb9f3a\"], [0.8888888888888888, \"#fdca26\"], [1.0, \"#f0f921\"]], \"type\": \"surface\"}], \"table\": [{\"cells\": {\"fill\": {\"color\": \"#EBF0F8\"}, \"line\": {\"color\": \"white\"}}, \"header\": {\"fill\": {\"color\": \"#C8D4E3\"}, \"line\": {\"color\": \"white\"}}, \"type\": \"table\"}]}, \"layout\": {\"annotationdefaults\": {\"arrowcolor\": \"#2a3f5f\", \"arrowhead\": 0, \"arrowwidth\": 1}, \"coloraxis\": {\"colorbar\": {\"outlinewidth\": 0, \"ticks\": \"\"}}, \"colorscale\": {\"diverging\": [[0, \"#8e0152\"], [0.1, \"#c51b7d\"], [0.2, \"#de77ae\"], [0.3, \"#f1b6da\"], [0.4, \"#fde0ef\"], [0.5, \"#f7f7f7\"], [0.6, \"#e6f5d0\"], [0.7, \"#b8e186\"], [0.8, \"#7fbc41\"], [0.9, \"#4d9221\"], [1, \"#276419\"]], \"sequential\": [[0.0, \"#0d0887\"], [0.1111111111111111, \"#46039f\"], [0.2222222222222222, \"#7201a8\"], [0.3333333333333333, \"#9c179e\"], [0.4444444444444444, \"#bd3786\"], [0.5555555555555556, \"#d8576b\"], [0.6666666666666666, \"#ed7953\"], [0.7777777777777778, \"#fb9f3a\"], [0.8888888888888888, \"#fdca26\"], [1.0, \"#f0f921\"]], \"sequentialminus\": [[0.0, \"#0d0887\"], [0.1111111111111111, \"#46039f\"], [0.2222222222222222, \"#7201a8\"], [0.3333333333333333, \"#9c179e\"], [0.4444444444444444, \"#bd3786\"], [0.5555555555555556, \"#d8576b\"], [0.6666666666666666, \"#ed7953\"], [0.7777777777777778, \"#fb9f3a\"], [0.8888888888888888, \"#fdca26\"], [1.0, \"#f0f921\"]]}, \"colorway\": [\"#636efa\", \"#EF553B\", \"#00cc96\", \"#ab63fa\", \"#FFA15A\", \"#19d3f3\", \"#FF6692\", \"#B6E880\", \"#FF97FF\", \"#FECB52\"], \"font\": {\"color\": \"#2a3f5f\"}, \"geo\": {\"bgcolor\": \"white\", \"lakecolor\": \"white\", \"landcolor\": \"#E5ECF6\", \"showlakes\": true, \"showland\": true, \"subunitcolor\": \"white\"}, \"hoverlabel\": {\"align\": \"left\"}, \"hovermode\": \"closest\", \"mapbox\": {\"style\": \"light\"}, \"paper_bgcolor\": \"white\", \"plot_bgcolor\": \"#E5ECF6\", \"polar\": {\"angularaxis\": {\"gridcolor\": \"white\", \"linecolor\": \"white\", \"ticks\": \"\"}, \"bgcolor\": \"#E5ECF6\", \"radialaxis\": {\"gridcolor\": \"white\", \"linecolor\": \"white\", \"ticks\": \"\"}}, \"scene\": {\"xaxis\": {\"backgroundcolor\": \"#E5ECF6\", \"gridcolor\": \"white\", \"gridwidth\": 2, \"linecolor\": \"white\", \"showbackground\": true, \"ticks\": \"\", \"zerolinecolor\": \"white\"}, \"yaxis\": {\"backgroundcolor\": \"#E5ECF6\", \"gridcolor\": \"white\", \"gridwidth\": 2, \"linecolor\": \"white\", \"showbackground\": true, \"ticks\": \"\", \"zerolinecolor\": \"white\"}, \"zaxis\": {\"backgroundcolor\": \"#E5ECF6\", \"gridcolor\": \"white\", \"gridwidth\": 2, \"linecolor\": \"white\", \"showbackground\": true, \"ticks\": \"\", \"zerolinecolor\": \"white\"}}, \"shapedefaults\": {\"line\": {\"color\": \"#2a3f5f\"}}, \"ternary\": {\"aaxis\": {\"gridcolor\": \"white\", \"linecolor\": \"white\", \"ticks\": \"\"}, \"baxis\": {\"gridcolor\": \"white\", \"linecolor\": \"white\", \"ticks\": \"\"}, \"bgcolor\": \"#E5ECF6\", \"caxis\": {\"gridcolor\": \"white\", \"linecolor\": \"white\", \"ticks\": \"\"}}, \"title\": {\"x\": 0.05}, \"xaxis\": {\"automargin\": true, \"gridcolor\": \"white\", \"linecolor\": \"white\", \"ticks\": \"\", \"title\": {\"standoff\": 15}, \"zerolinecolor\": \"white\", \"zerolinewidth\": 2}, \"yaxis\": {\"automargin\": true, \"gridcolor\": \"white\", \"linecolor\": \"white\", \"ticks\": \"\", \"title\": {\"standoff\": 15}, \"zerolinecolor\": \"white\", \"zerolinewidth\": 2}}}},                        {\"responsive\": true}                    ).then(function(){\n",
       "                            \n",
       "var gd = document.getElementById('844bfe8a-f5cf-455c-af59-7bc779433eac');\n",
       "var x = new MutationObserver(function (mutations, observer) {{\n",
       "        var display = window.getComputedStyle(gd).display;\n",
       "        if (!display || display === 'none') {{\n",
       "            console.log([gd, 'removed!']);\n",
       "            Plotly.purge(gd);\n",
       "            observer.disconnect();\n",
       "        }}\n",
       "}});\n",
       "\n",
       "// Listen for the removal of the full notebook cells\n",
       "var notebookContainer = gd.closest('#notebook-container');\n",
       "if (notebookContainer) {{\n",
       "    x.observe(notebookContainer, {childList: true});\n",
       "}}\n",
       "\n",
       "// Listen for the clearing of the current output cell\n",
       "var outputEl = gd.closest('.output');\n",
       "if (outputEl) {{\n",
       "    x.observe(outputEl, {childList: true});\n",
       "}}\n",
       "\n",
       "                        })                };                });            </script>        </div>"
      ]
     },
     "metadata": {},
     "output_type": "display_data"
    }
   ],
   "source": [
    "import plotly.graph_objects as go\n",
    "from scipy.interpolate import griddata\n",
    "\n",
    "\n",
    "feature_x = eta_l\n",
    "feature_y = phi\n",
    "# Creating 2-D grid of features  \n",
    "[X, Y] = np.meshgrid(feature_x, feature_y) \n",
    "Z = df[10][:]\n",
    "\n",
    "points = np.random.rand(100, 2)\n",
    "values = func(points[:,0], points[:,1])\n",
    "f = interpolate.interp2d(x=points[:,0], y=points[:,1], z=values, kind='cubic')\n",
    "\n",
    "# grid_z0 = griddata(points, values, (X, Y), method='cubic')  \n",
    "\n",
    "\n",
    "fig = go.Figure(data =\n",
    "    go.Contour(\n",
    "        z=values,\n",
    "        x=points[:,0], # horizontal axis\n",
    "        y=points[:,1] # vertical axis\n",
    "    ))\n",
    "\n",
    "# fig = go.Figure(data =\n",
    "#     go.Contour(\n",
    "#         z=Z,\n",
    "#         x=X, # horizontal axis\n",
    "#         y=Y # vertical axis\n",
    "#     ))\n",
    "fig.show()"
   ]
  },
  {
   "cell_type": "code",
   "execution_count": null,
   "metadata": {},
   "outputs": [],
   "source": []
  }
 ],
 "metadata": {
  "kernelspec": {
   "display_name": "Python 3",
   "language": "python",
   "name": "python3"
  },
  "language_info": {
   "codemirror_mode": {
    "name": "ipython",
    "version": 3
   },
   "file_extension": ".py",
   "mimetype": "text/x-python",
   "name": "python",
   "nbconvert_exporter": "python",
   "pygments_lexer": "ipython3",
   "version": "3.7.4"
  }
 },
 "nbformat": 4,
 "nbformat_minor": 2
}
