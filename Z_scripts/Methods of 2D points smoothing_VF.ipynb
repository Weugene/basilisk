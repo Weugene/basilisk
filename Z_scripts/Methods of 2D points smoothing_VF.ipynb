{
 "cells": [
  {
   "cell_type": "code",
   "execution_count": 354,
   "metadata": {
    "executionInfo": {
     "elapsed": 764,
     "status": "ok",
     "timestamp": 1610893523568,
     "user": {
      "displayName": "Vl F",
      "photoUrl": "",
      "userId": "14485856366916106708"
     },
     "user_tz": -180
    },
    "id": "skyvOETwHBsm"
   },
   "outputs": [],
   "source": [
    "import numpy as np\n",
    "import matplotlib.pyplot as plt\n",
    "import json\n",
    "path='/home/e.sharaborin/results/tube/res22_adaptffsu/upd_calc/'\n",
    "fn = 'r_over_x_t=16.1542.csv'\n",
    "# fn = 'r_over_x_t=11.9414.csv'\n",
    "\n",
    "f_name=path + fn\n",
    "\n",
    "with open(f_name, 'r') as f:\n",
    "    lists = json.load(f)\n",
    "    x, y, x_box_smooth, y_box_smooth, x_sorted, y_sorted = np.array(lists[0]), np.array(lists[1]), np.array(lists[2]), np.array(lists[3]), np.array(lists[4]), np.array(lists[5])"
   ]
  },
  {
   "cell_type": "code",
   "execution_count": 109,
   "metadata": {
    "executionInfo": {
     "elapsed": 1153,
     "status": "ok",
     "timestamp": 1610893523964,
     "user": {
      "displayName": "Vl F",
      "photoUrl": "",
      "userId": "14485856366916106708"
     },
     "user_tz": -180
    },
    "id": "9iZtbxuGHLUu"
   },
   "outputs": [],
   "source": [
    "# crop, renormalize\n",
    "\n",
    "x, y = x[y>0.3], y[y>0.3]\n",
    "\n",
    "def smoother_vf(xin, yin, N_polynomials = 20, sigma = 1):\n",
    "    xin_min = min(xin)\n",
    "    xin_max = max(xin)\n",
    "    yin_min = min(yin)\n",
    "    yin_max = max(yin)\n",
    "    \n",
    "    x = (xin - xin_min)/(xin_max - xin_min)\n",
    "    y = (yin - yin_min)/(yin_max - yin_min)\n",
    "\n",
    "    x = x.reshape((len(x), 1))\n",
    "    D = np.hstack([np.cos(2*np.pi*x*i) for i in range(N_polynomials)] + [np.sin(2*np.pi*x*i) for i in range(N_polynomials)])\n",
    "    w = np.linalg.inv(D.T @ D + sigma*np.eye(2*N_polynomials)) @ D.T @ y\n",
    "    \n",
    "    X = np.linspace(min(x), max(x), 1000)\n",
    "\n",
    "    X = X.reshape((len(X), 1))\n",
    "    D = np.hstack([np.cos(2*np.pi*X*i)for i in range(N_polynomials)] + [np.sin(2*np.pi*X*i) for i in range(N_polynomials)])\n",
    "    Y = D @ w\n",
    "    \n",
    "    plt.plot(x, y, \".\", color=\"grey\", alpha=0.3, label=\"data\")\n",
    "    plt.plot(X, Y, color=\"red\", label=\"fit\")\n",
    "    plt.legend();\n",
    "    \n",
    "    return (x + xin_min)*(xin_max - xin_min), (y + yin_min)*(yin_max - yin_min)\n",
    "    \n",
    "x = (x - min(x))/(max(x) - min(x))\n",
    "y = (y - min(y))/(max(y) - min(y))\n",
    "\n",
    "# x = x - np.mean(x)\n",
    "# y = y - np.mean(y)"
   ]
  },
  {
   "cell_type": "code",
   "execution_count": 110,
   "metadata": {
    "colab": {
     "base_uri": "https://localhost:8080/",
     "height": 282
    },
    "executionInfo": {
     "elapsed": 1522,
     "status": "ok",
     "timestamp": 1610893524342,
     "user": {
      "displayName": "Vl F",
      "photoUrl": "",
      "userId": "14485856366916106708"
     },
     "user_tz": -180
    },
    "id": "cl6ANK0pHBs0",
    "outputId": "645770fb-1e69-48fd-905d-fb8d6ef194ea"
   },
   "outputs": [
    {
     "data": {
      "text/plain": [
       "[<matplotlib.lines.Line2D at 0x7fe8668e5220>]"
      ]
     },
     "execution_count": 110,
     "metadata": {},
     "output_type": "execute_result"
    },
    {
     "data": {
      "image/png": "[encoded data removed]",
      "text/plain": [
       "<Figure size 432x288 with 1 Axes>"
      ]
     },
     "metadata": {
      "needs_background": "light"
     },
     "output_type": "display_data"
    }
   ],
   "source": [
    "plt.plot(x, y, \".\")"
   ]
  },
  {
   "cell_type": "code",
   "execution_count": 96,
   "metadata": {
    "executionInfo": {
     "elapsed": 2386,
     "status": "ok",
     "timestamp": 1610893525215,
     "user": {
      "displayName": "Vl F",
      "photoUrl": "",
      "userId": "14485856366916106708"
     },
     "user_tz": -180
    },
    "id": "TBiyV4CbHBs1"
   },
   "outputs": [],
   "source": [
    "N_polynomials = 20\n",
    "sigma = 1\n",
    "\n",
    "x = x.reshape((len(x), 1))\n",
    "D = np.hstack([np.cos(2*np.pi*x*i) for i in range(N_polynomials)] + [np.sin(2*np.pi*x*i) for i in range(N_polynomials)])\n",
    "\n",
    "w = np.linalg.inv(D.T @ D + sigma*np.eye(2*N_polynomials)) @ D.T @ y"
   ]
  },
  {
   "cell_type": "code",
   "execution_count": 97,
   "metadata": {
    "executionInfo": {
     "elapsed": 2385,
     "status": "ok",
     "timestamp": 1610893525217,
     "user": {
      "displayName": "Vl F",
      "photoUrl": "",
      "userId": "14485856366916106708"
     },
     "user_tz": -180
    },
    "id": "J2Q2wTOKLrNO"
   },
   "outputs": [],
   "source": [
    "X = np.linspace(min(x), max(x), 1000)\n",
    "\n",
    "X = X.reshape((len(X), 1))\n",
    "D = np.hstack([np.cos(2*np.pi*X*i)for i in range(N_polynomials)] + [np.sin(2*np.pi*X*i) for i in range(N_polynomials)])\n",
    "Y = D @ w"
   ]
  },
  {
   "cell_type": "code",
   "execution_count": 100,
   "metadata": {
    "colab": {
     "base_uri": "https://localhost:8080/",
     "height": 265
    },
    "executionInfo": {
     "elapsed": 2379,
     "status": "ok",
     "timestamp": 1610893525218,
     "user": {
      "displayName": "Vl F",
      "photoUrl": "",
      "userId": "14485856366916106708"
     },
     "user_tz": -180
    },
    "id": "jiQQoL8kL0Vk",
    "outputId": "aee740f7-9365-46b9-d691-b8d5f9a8ee69"
   },
   "outputs": [
    {
     "data": {
      "image/png": "[encoded data removed]",
      "text/plain": [
       "<Figure size 432x288 with 1 Axes>"
      ]
     },
     "metadata": {
      "needs_background": "light"
     },
     "output_type": "display_data"
    }
   ],
   "source": [
    "plt.plot(x, y, \".\", color=\"grey\", alpha=0.3, label=\"data\")\n",
    "plt.plot(X, Y, color=\"red\", label=\"fit\")\n",
    "plt.legend();"
   ]
  },
  {
   "cell_type": "code",
   "execution_count": 101,
   "metadata": {
    "executionInfo": {
     "elapsed": 2373,
     "status": "ok",
     "timestamp": 1610893525219,
     "user": {
      "displayName": "Vl F",
      "photoUrl": "",
      "userId": "14485856366916106708"
     },
     "user_tz": -180
    },
    "id": "wNmumofDNXNK"
   },
   "outputs": [],
   "source": [
    "dD = np.hstack([-2*np.pi*i*np.sin(2*np.pi*X*i)for i in range(N_polynomials)] + [2*np.pi*i*np.cos(2*np.pi*X*i) for i in range(N_polynomials)])\n",
    "dY = dD @ w"
   ]
  },
  {
   "cell_type": "code",
   "execution_count": 102,
   "metadata": {
    "colab": {
     "base_uri": "https://localhost:8080/",
     "height": 265
    },
    "executionInfo": {
     "elapsed": 2759,
     "status": "ok",
     "timestamp": 1610893525612,
     "user": {
      "displayName": "Vl F",
      "photoUrl": "",
      "userId": "14485856366916106708"
     },
     "user_tz": -180
    },
    "id": "UwjvazJRNwSa",
    "outputId": "40219774-0ff2-4617-d565-d2e4a10f091f"
   },
   "outputs": [
    {
     "data": {
      "image/png": "[encoded data removed]",
      "text/plain": [
       "<Figure size 432x288 with 1 Axes>"
      ]
     },
     "metadata": {
      "needs_background": "light"
     },
     "output_type": "display_data"
    }
   ],
   "source": [
    "plt.plot(X, dY, color=\"red\", label=\"derivative\")\n",
    "plt.legend();"
   ]
  },
  {
   "cell_type": "code",
   "execution_count": 103,
   "metadata": {
    "executionInfo": {
     "elapsed": 2753,
     "status": "ok",
     "timestamp": 1610893525613,
     "user": {
      "displayName": "Vl F",
      "photoUrl": "",
      "userId": "14485856366916106708"
     },
     "user_tz": -180
    },
    "id": "ViODiaJZs8hj"
   },
   "outputs": [],
   "source": [
    "f = lambda x: -np.dot(w, [np.cos(2*np.pi*x*i)for i in range(N_polynomials)] + [np.sin(2*np.pi*x*i) for i in range(N_polynomials)])\n",
    "df = lambda x: -np.dot(w, [-2*np.pi*i*np.sin(2*np.pi*x*i)for i in range(N_polynomials)] + [2*np.pi*i*np.cos(2*np.pi*x*i) for i in range(N_polynomials)])"
   ]
  },
  {
   "cell_type": "code",
   "execution_count": 104,
   "metadata": {
    "executionInfo": {
     "elapsed": 2751,
     "status": "ok",
     "timestamp": 1610893525614,
     "user": {
      "displayName": "Vl F",
      "photoUrl": "",
      "userId": "14485856366916106708"
     },
     "user_tz": -180
    },
    "id": "dQN4noOltfE2"
   },
   "outputs": [],
   "source": [
    "from scipy.optimize import minimize"
   ]
  },
  {
   "cell_type": "code",
   "execution_count": 105,
   "metadata": {
    "colab": {
     "base_uri": "https://localhost:8080/"
    },
    "executionInfo": {
     "elapsed": 2746,
     "status": "ok",
     "timestamp": 1610893525615,
     "user": {
      "displayName": "Vl F",
      "photoUrl": "",
      "userId": "14485856366916106708"
     },
     "user_tz": -180
    },
    "id": "QReorLLNtn9p",
    "outputId": "ce1555a4-92c6-478a-aba1-ebe213bcffc4"
   },
   "outputs": [
    {
     "data": {
      "text/plain": [
       "array([0.07182741])"
      ]
     },
     "execution_count": 105,
     "metadata": {},
     "output_type": "execute_result"
    }
   ],
   "source": [
    "res = minimize(f, 0, bounds=[(0, 0.1),])\n",
    "res.x"
   ]
  },
  {
   "cell_type": "code",
   "execution_count": 106,
   "metadata": {
    "colab": {
     "base_uri": "https://localhost:8080/"
    },
    "executionInfo": {
     "elapsed": 2736,
     "status": "ok",
     "timestamp": 1610893525616,
     "user": {
      "displayName": "Vl F",
      "photoUrl": "",
      "userId": "14485856366916106708"
     },
     "user_tz": -180
    },
    "id": "p3xv3drGuvsw",
    "outputId": "e7e797fb-8fd6-48af-b45c-e10133aa3f11"
   },
   "outputs": [
    {
     "data": {
      "text/plain": [
       "array([-0.8010038])"
      ]
     },
     "execution_count": 106,
     "metadata": {},
     "output_type": "execute_result"
    }
   ],
   "source": [
    "res.fun"
   ]
  },
  {
   "cell_type": "code",
   "execution_count": 107,
   "metadata": {
    "colab": {
     "base_uri": "https://localhost:8080/",
     "height": 265
    },
    "executionInfo": {
     "elapsed": 3095,
     "status": "ok",
     "timestamp": 1610893525983,
     "user": {
      "displayName": "Vl F",
      "photoUrl": "",
      "userId": "14485856366916106708"
     },
     "user_tz": -180
    },
    "id": "Xmpwndqqt5B1",
    "outputId": "fb2e8a0b-ba25-4d02-fd23-28e3f328814b"
   },
   "outputs": [
    {
     "data": {
      "image/png": "[encoded data removed]",
      "text/plain": [
       "<Figure size 432x288 with 1 Axes>"
      ]
     },
     "metadata": {
      "needs_background": "light"
     },
     "output_type": "display_data"
    }
   ],
   "source": [
    "plt.plot(res.x, -res.fun, \"o\", color=\"navy\", label=\"max\")\n",
    "plt.plot(X, Y, color=\"red\", label=\"fit\")\n",
    "plt.legend();"
   ]
  },
  {
   "cell_type": "code",
   "execution_count": null,
   "metadata": {},
   "outputs": [],
   "source": []
  },
  {
   "cell_type": "code",
   "execution_count": null,
   "metadata": {},
   "outputs": [],
   "source": []
  },
  {
   "cell_type": "code",
   "execution_count": null,
   "metadata": {},
   "outputs": [],
   "source": []
  },
  {
   "cell_type": "code",
   "execution_count": null,
   "metadata": {},
   "outputs": [],
   "source": []
  },
  {
   "cell_type": "code",
   "execution_count": 429,
   "metadata": {},
   "outputs": [],
   "source": []
  },
  {
   "cell_type": "code",
   "execution_count": null,
   "metadata": {},
   "outputs": [],
   "source": []
  },
  {
   "cell_type": "code",
   "execution_count": null,
   "metadata": {},
   "outputs": [],
   "source": []
  },
  {
   "cell_type": "code",
   "execution_count": 333,
   "metadata": {},
   "outputs": [
    {
     "data": {
      "text/plain": [
       "[<matplotlib.lines.Line2D at 0x7fe8491a9250>]"
      ]
     },
     "execution_count": 333,
     "metadata": {},
     "output_type": "execute_result"
    },
    {
     "data": {
      "image/png": "[encoded data removed]",
      "text/plain": [
       "<Figure size 720x720 with 1 Axes>"
      ]
     },
     "metadata": {
      "needs_background": "light"
     },
     "output_type": "display_data"
    }
   ],
   "source": [
    "# https://stackoverflow.com/a/50714300/7200745\n",
    "from scipy.spatial import Delaunay\n",
    "import numpy as np\n",
    "\n",
    "def alpha_shape(points, alpha, only_outer=True):\n",
    "    \"\"\"\n",
    "    Compute the alpha shape (concave hull) of a set of points.\n",
    "    :param points: np.array of shape (n,2) points.\n",
    "    :param alpha: alpha value.\n",
    "    :param only_outer: boolean value to specify if we keep only the outer border\n",
    "    or also inner edges.\n",
    "    :return: set of (i,j) pairs representing edges of the alpha-shape. (i,j) are\n",
    "    the indices in the points array.\n",
    "    \"\"\"\n",
    "    assert points.shape[0] > 3, \"Need at least four points\"\n",
    "\n",
    "    def add_edge(edges, i, j):\n",
    "        \"\"\"\n",
    "        Add an edge between the i-th and j-th points,\n",
    "        if not in the list already\n",
    "        \"\"\"\n",
    "        if (i, j) in edges or (j, i) in edges:\n",
    "            # already added\n",
    "            assert (j, i) in edges, \"Can't go twice over same directed edge right?\"\n",
    "            if only_outer:\n",
    "                # if both neighboring triangles are in shape, it's not a boundary edge\n",
    "                edges.remove((j, i))\n",
    "            return\n",
    "        edges.add((i, j))\n",
    "\n",
    "    tri = Delaunay(points)\n",
    "    edges = set()\n",
    "    # Loop over triangles:\n",
    "    # ia, ib, ic = indices of corner points of the triangle\n",
    "    for ia, ib, ic in tri.vertices:\n",
    "        pa = points[ia]\n",
    "        pb = points[ib]\n",
    "        pc = points[ic]\n",
    "        # Computing radius of triangle circumcircle\n",
    "        # www.mathalino.com/reviewer/derivation-of-formulas/derivation-of-formula-for-radius-of-circumcircle\n",
    "        a = np.sqrt((pa[0] - pb[0]) ** 2 + (pa[1] - pb[1]) ** 2)\n",
    "        b = np.sqrt((pb[0] - pc[0]) ** 2 + (pb[1] - pc[1]) ** 2)\n",
    "        c = np.sqrt((pc[0] - pa[0]) ** 2 + (pc[1] - pa[1]) ** 2)\n",
    "        s = (a + b + c) / 2.0\n",
    "        area = np.sqrt(s * (s - a) * (s - b) * (s - c))\n",
    "        circum_r = a * b * c / (4.0 * area)\n",
    "        if circum_r < alpha:\n",
    "            add_edge(edges, ia, ib)\n",
    "            add_edge(edges, ib, ic)\n",
    "            add_edge(edges, ic, ia)\n",
    "    return edges\n",
    "\n",
    "def find_edges_with(i, edge_set):\n",
    "    i_first = [j for (x,j) in edge_set if x==i]\n",
    "    i_second = [j for (j,x) in edge_set if x==i]\n",
    "    return i_first,i_second\n",
    "\n",
    "def stitch_boundaries(edges):\n",
    "    edge_set = edges.copy()\n",
    "    boundary_lst = []\n",
    "    while len(edge_set) > 0:\n",
    "        boundary = []\n",
    "        edge0 = edge_set.pop()\n",
    "        boundary.append(edge0)\n",
    "        last_edge = edge0\n",
    "        while len(edge_set) > 0:\n",
    "            i,j = last_edge\n",
    "            j_first, j_second = find_edges_with(j, edge_set)\n",
    "            if j_first:\n",
    "                edge_set.remove((j, j_first[0]))\n",
    "                edge_with_j = (j, j_first[0])\n",
    "                boundary.append(edge_with_j)\n",
    "                last_edge = edge_with_j\n",
    "            elif j_second:\n",
    "                edge_set.remove((j_second[0], j))\n",
    "                edge_with_j = (j, j_second[0])  # flip edge rep\n",
    "                boundary.append(edge_with_j)\n",
    "                last_edge = edge_with_j\n",
    "\n",
    "            if edge0[0] == last_edge[1]:\n",
    "                break\n",
    "\n",
    "        boundary_lst.append(boundary)\n",
    "    return boundary_lst[0]\n",
    "\n",
    "\n",
    "#generating of random points\n",
    "N = 1000\n",
    "r = 1 - 2*np.random.random((N,2))\n",
    "r_norm = np.linalg.norm(r, axis=1)\n",
    "points = r[r_norm <= 1] \n",
    "plt.figure(figsize=(10,10))\n",
    "plt.scatter(points[:,0], points[:,1], color='k', s=1)\n",
    "\n",
    "#from \n",
    "# Computing the alpha shape\n",
    "edges = alpha_shape(points, alpha=1, only_outer=True)\n",
    "#order edges\n",
    "edges = stitch_boundaries(edges)\n",
    "# plt.axis('equal')\n",
    "edge_points = np.zeros((len(edges),2))\n",
    "k=0\n",
    "for i, j in edges:\n",
    "    edge_points[k,:] = points[[i, j], 0][0] , points[[i, j], 1][0]\n",
    "    k += 1\n",
    "plt.plot(edge_points[:,0],edge_points[:,1])\n",
    "\n",
    "#theoretical edges\n",
    "# xx = np.linspace(-1,1, 100)\n",
    "# yy_upper =  np.sqrt(1 - xx**2)\n",
    "# yy_lower = -np.sqrt(1 - xx**2)\n",
    "# plt.plot(xx, yy_upper, 'r:')\n",
    "# plt.plot(xx, yy_lower, 'b:')"
   ]
  },
  {
   "cell_type": "code",
   "execution_count": null,
   "metadata": {},
   "outputs": [],
   "source": []
  },
  {
   "cell_type": "code",
   "execution_count": 414,
   "metadata": {},
   "outputs": [
    {
     "data": {
      "application/vnd.plotly.v1+json": {
       "config": {
        "plotlyServerURL": "https://plot.ly"
       },
       "data": [
        {
         "fill": "tozeroy",
         "line": {
          "color": "indigo"
         },
         "mode": "lines",
         "type": "scatter",
         "x": [
          0.9870072239645131,
          0.9435973115467358,
          0.8366052469804455,
          0.6233751906171869,
          0.2895645601990138,
          0.2678711969825609,
          0.1918019220457503,
          0.04094170789516571,
          -0.11536323426652562,
          -0.1756618340538305,
          -0.45433250025227956,
          -0.6596020574777621,
          -0.8076566148566211,
          -0.8926683234883144,
          -0.938642974497385,
          -0.9752006983926713
         ],
         "y": [
          0.1376493537621717,
          0.3261658362820501,
          0.5416262530511147,
          0.7689347984953356,
          0.9395710933337496,
          0.9514223754561766,
          0.9812344822278793,
          0.9712807223140794,
          0.9749979038348797,
          0.9617033028754018,
          0.8779728857488156,
          0.7220033510846637,
          0.5809269789533502,
          0.42903588452034325,
          0.2597671674195414,
          0.11810034264001512
         ]
        },
        {
         "fill": "tozeroy",
         "fillcolor": "rgba(0,0,100,0.1)",
         "line": {
          "color": "indigo"
         },
         "mode": "lines",
         "type": "scatter",
         "x": [
          -0.9752006983926713,
          -0.565111153687621,
          -0.19554503293664416,
          0.10812790837941888,
          0.32718649409416733,
          0.69470465082984,
          0.9870072239645131
         ],
         "y": [
          0.11810034264001512,
          0.42188500191631406,
          0.5142185036194418,
          0.5147704284496981,
          0.48520350605652074,
          0.36742140437049775,
          0.1376493537621717
         ]
        }
       ],
       "layout": {
        "plot_bgcolor": "rgba(0,0,100,0.1)",
        "template": {
         "data": {
          "bar": [
           {
            "error_x": {
             "color": "#2a3f5f"
            },
            "error_y": {
             "color": "#2a3f5f"
            },
            "marker": {
             "line": {
              "color": "#E5ECF6",
              "width": 0.5
             }
            },
            "type": "bar"
           }
          ],
          "barpolar": [
           {
            "marker": {
             "line": {
              "color": "#E5ECF6",
              "width": 0.5
             }
            },
            "type": "barpolar"
           }
          ],
          "carpet": [
           {
            "aaxis": {
             "endlinecolor": "#2a3f5f",
             "gridcolor": "white",
             "linecolor": "white",
             "minorgridcolor": "white",
             "startlinecolor": "#2a3f5f"
            },
            "baxis": {
             "endlinecolor": "#2a3f5f",
             "gridcolor": "white",
             "linecolor": "white",
             "minorgridcolor": "white",
             "startlinecolor": "#2a3f5f"
            },
            "type": "carpet"
           }
          ],
          "choropleth": [
           {
            "colorbar": {
             "outlinewidth": 0,
             "ticks": ""
            },
            "type": "choropleth"
           }
          ],
          "contour": [
           {
            "colorbar": {
             "outlinewidth": 0,
             "ticks": ""
            },
            "colorscale": [
             [
              0,
              "#0d0887"
             ],
             [
              0.1111111111111111,
              "#46039f"
             ],
             [
              0.2222222222222222,
              "#7201a8"
             ],
             [
              0.3333333333333333,
              "#9c179e"
             ],
             [
              0.4444444444444444,
              "#bd3786"
             ],
             [
              0.5555555555555556,
              "#d8576b"
             ],
             [
              0.6666666666666666,
              "#ed7953"
             ],
             [
              0.7777777777777778,
              "#fb9f3a"
             ],
             [
              0.8888888888888888,
              "#fdca26"
             ],
             [
              1,
              "#f0f921"
             ]
            ],
            "type": "contour"
           }
          ],
          "contourcarpet": [
           {
            "colorbar": {
             "outlinewidth": 0,
             "ticks": ""
            },
            "type": "contourcarpet"
           }
          ],
          "heatmap": [
           {
            "colorbar": {
             "outlinewidth": 0,
             "ticks": ""
            },
            "colorscale": [
             [
              0,
              "#0d0887"
             ],
             [
              0.1111111111111111,
              "#46039f"
             ],
             [
              0.2222222222222222,
              "#7201a8"
             ],
             [
              0.3333333333333333,
              "#9c179e"
             ],
             [
              0.4444444444444444,
              "#bd3786"
             ],
             [
              0.5555555555555556,
              "#d8576b"
             ],
             [
              0.6666666666666666,
              "#ed7953"
             ],
             [
              0.7777777777777778,
              "#fb9f3a"
             ],
             [
              0.8888888888888888,
              "#fdca26"
             ],
             [
              1,
              "#f0f921"
             ]
            ],
            "type": "heatmap"
           }
          ],
          "heatmapgl": [
           {
            "colorbar": {
             "outlinewidth": 0,
             "ticks": ""
            },
            "colorscale": [
             [
              0,
              "#0d0887"
             ],
             [
              0.1111111111111111,
              "#46039f"
             ],
             [
              0.2222222222222222,
              "#7201a8"
             ],
             [
              0.3333333333333333,
              "#9c179e"
             ],
             [
              0.4444444444444444,
              "#bd3786"
             ],
             [
              0.5555555555555556,
              "#d8576b"
             ],
             [
              0.6666666666666666,
              "#ed7953"
             ],
             [
              0.7777777777777778,
              "#fb9f3a"
             ],
             [
              0.8888888888888888,
              "#fdca26"
             ],
             [
              1,
              "#f0f921"
             ]
            ],
            "type": "heatmapgl"
           }
          ],
          "histogram": [
           {
            "marker": {
             "colorbar": {
              "outlinewidth": 0,
              "ticks": ""
             }
            },
            "type": "histogram"
           }
          ],
          "histogram2d": [
           {
            "colorbar": {
             "outlinewidth": 0,
             "ticks": ""
            },
            "colorscale": [
             [
              0,
              "#0d0887"
             ],
             [
              0.1111111111111111,
              "#46039f"
             ],
             [
              0.2222222222222222,
              "#7201a8"
             ],
             [
              0.3333333333333333,
              "#9c179e"
             ],
             [
              0.4444444444444444,
              "#bd3786"
             ],
             [
              0.5555555555555556,
              "#d8576b"
             ],
             [
              0.6666666666666666,
              "#ed7953"
             ],
             [
              0.7777777777777778,
              "#fb9f3a"
             ],
             [
              0.8888888888888888,
              "#fdca26"
             ],
             [
              1,
              "#f0f921"
             ]
            ],
            "type": "histogram2d"
           }
          ],
          "histogram2dcontour": [
           {
            "colorbar": {
             "outlinewidth": 0,
             "ticks": ""
            },
            "colorscale": [
             [
              0,
              "#0d0887"
             ],
             [
              0.1111111111111111,
              "#46039f"
             ],
             [
              0.2222222222222222,
              "#7201a8"
             ],
             [
              0.3333333333333333,
              "#9c179e"
             ],
             [
              0.4444444444444444,
              "#bd3786"
             ],
             [
              0.5555555555555556,
              "#d8576b"
             ],
             [
              0.6666666666666666,
              "#ed7953"
             ],
             [
              0.7777777777777778,
              "#fb9f3a"
             ],
             [
              0.8888888888888888,
              "#fdca26"
             ],
             [
              1,
              "#f0f921"
             ]
            ],
            "type": "histogram2dcontour"
           }
          ],
          "mesh3d": [
           {
            "colorbar": {
             "outlinewidth": 0,
             "ticks": ""
            },
            "type": "mesh3d"
           }
          ],
          "parcoords": [
           {
            "line": {
             "colorbar": {
              "outlinewidth": 0,
              "ticks": ""
             }
            },
            "type": "parcoords"
           }
          ],
          "pie": [
           {
            "automargin": true,
            "type": "pie"
           }
          ],
          "scatter": [
           {
            "marker": {
             "colorbar": {
              "outlinewidth": 0,
              "ticks": ""
             }
            },
            "type": "scatter"
           }
          ],
          "scatter3d": [
           {
            "line": {
             "colorbar": {
              "outlinewidth": 0,
              "ticks": ""
             }
            },
            "marker": {
             "colorbar": {
              "outlinewidth": 0,
              "ticks": ""
             }
            },
            "type": "scatter3d"
           }
          ],
          "scattercarpet": [
           {
            "marker": {
             "colorbar": {
              "outlinewidth": 0,
              "ticks": ""
             }
            },
            "type": "scattercarpet"
           }
          ],
          "scattergeo": [
           {
            "marker": {
             "colorbar": {
              "outlinewidth": 0,
              "ticks": ""
             }
            },
            "type": "scattergeo"
           }
          ],
          "scattergl": [
           {
            "marker": {
             "colorbar": {
              "outlinewidth": 0,
              "ticks": ""
             }
            },
            "type": "scattergl"
           }
          ],
          "scattermapbox": [
           {
            "marker": {
             "colorbar": {
              "outlinewidth": 0,
              "ticks": ""
             }
            },
            "type": "scattermapbox"
           }
          ],
          "scatterpolar": [
           {
            "marker": {
             "colorbar": {
              "outlinewidth": 0,
              "ticks": ""
             }
            },
            "type": "scatterpolar"
           }
          ],
          "scatterpolargl": [
           {
            "marker": {
             "colorbar": {
              "outlinewidth": 0,
              "ticks": ""
             }
            },
            "type": "scatterpolargl"
           }
          ],
          "scatterternary": [
           {
            "marker": {
             "colorbar": {
              "outlinewidth": 0,
              "ticks": ""
             }
            },
            "type": "scatterternary"
           }
          ],
          "surface": [
           {
            "colorbar": {
             "outlinewidth": 0,
             "ticks": ""
            },
            "colorscale": [
             [
              0,
              "#0d0887"
             ],
             [
              0.1111111111111111,
              "#46039f"
             ],
             [
              0.2222222222222222,
              "#7201a8"
             ],
             [
              0.3333333333333333,
              "#9c179e"
             ],
             [
              0.4444444444444444,
              "#bd3786"
             ],
             [
              0.5555555555555556,
              "#d8576b"
             ],
             [
              0.6666666666666666,
              "#ed7953"
             ],
             [
              0.7777777777777778,
              "#fb9f3a"
             ],
             [
              0.8888888888888888,
              "#fdca26"
             ],
             [
              1,
              "#f0f921"
             ]
            ],
            "type": "surface"
           }
          ],
          "table": [
           {
            "cells": {
             "fill": {
              "color": "#EBF0F8"
             },
             "line": {
              "color": "white"
             }
            },
            "header": {
             "fill": {
              "color": "#C8D4E3"
             },
             "line": {
              "color": "white"
             }
            },
            "type": "table"
           }
          ]
         },
         "layout": {
          "annotationdefaults": {
           "arrowcolor": "#2a3f5f",
           "arrowhead": 0,
           "arrowwidth": 1
          },
          "autotypenumbers": "strict",
          "coloraxis": {
           "colorbar": {
            "outlinewidth": 0,
            "ticks": ""
           }
          },
          "colorscale": {
           "diverging": [
            [
             0,
             "#8e0152"
            ],
            [
             0.1,
             "#c51b7d"
            ],
            [
             0.2,
             "#de77ae"
            ],
            [
             0.3,
             "#f1b6da"
            ],
            [
             0.4,
             "#fde0ef"
            ],
            [
             0.5,
             "#f7f7f7"
            ],
            [
             0.6,
             "#e6f5d0"
            ],
            [
             0.7,
             "#b8e186"
            ],
            [
             0.8,
             "#7fbc41"
            ],
            [
             0.9,
             "#4d9221"
            ],
            [
             1,
             "#276419"
            ]
           ],
           "sequential": [
            [
             0,
             "#0d0887"
            ],
            [
             0.1111111111111111,
             "#46039f"
            ],
            [
             0.2222222222222222,
             "#7201a8"
            ],
            [
             0.3333333333333333,
             "#9c179e"
            ],
            [
             0.4444444444444444,
             "#bd3786"
            ],
            [
             0.5555555555555556,
             "#d8576b"
            ],
            [
             0.6666666666666666,
             "#ed7953"
            ],
            [
             0.7777777777777778,
             "#fb9f3a"
            ],
            [
             0.8888888888888888,
             "#fdca26"
            ],
            [
             1,
             "#f0f921"
            ]
           ],
           "sequentialminus": [
            [
             0,
             "#0d0887"
            ],
            [
             0.1111111111111111,
             "#46039f"
            ],
            [
             0.2222222222222222,
             "#7201a8"
            ],
            [
             0.3333333333333333,
             "#9c179e"
            ],
            [
             0.4444444444444444,
             "#bd3786"
            ],
            [
             0.5555555555555556,
             "#d8576b"
            ],
            [
             0.6666666666666666,
             "#ed7953"
            ],
            [
             0.7777777777777778,
             "#fb9f3a"
            ],
            [
             0.8888888888888888,
             "#fdca26"
            ],
            [
             1,
             "#f0f921"
            ]
           ]
          },
          "colorway": [
           "#636efa",
           "#EF553B",
           "#00cc96",
           "#ab63fa",
           "#FFA15A",
           "#19d3f3",
           "#FF6692",
           "#B6E880",
           "#FF97FF",
           "#FECB52"
          ],
          "font": {
           "color": "#2a3f5f"
          },
          "geo": {
           "bgcolor": "white",
           "lakecolor": "white",
           "landcolor": "#E5ECF6",
           "showlakes": true,
           "showland": true,
           "subunitcolor": "white"
          },
          "hoverlabel": {
           "align": "left"
          },
          "hovermode": "closest",
          "mapbox": {
           "style": "light"
          },
          "paper_bgcolor": "white",
          "plot_bgcolor": "#E5ECF6",
          "polar": {
           "angularaxis": {
            "gridcolor": "white",
            "linecolor": "white",
            "ticks": ""
           },
           "bgcolor": "#E5ECF6",
           "radialaxis": {
            "gridcolor": "white",
            "linecolor": "white",
            "ticks": ""
           }
          },
          "scene": {
           "xaxis": {
            "backgroundcolor": "#E5ECF6",
            "gridcolor": "white",
            "gridwidth": 2,
            "linecolor": "white",
            "showbackground": true,
            "ticks": "",
            "zerolinecolor": "white"
           },
           "yaxis": {
            "backgroundcolor": "#E5ECF6",
            "gridcolor": "white",
            "gridwidth": 2,
            "linecolor": "white",
            "showbackground": true,
            "ticks": "",
            "zerolinecolor": "white"
           },
           "zaxis": {
            "backgroundcolor": "#E5ECF6",
            "gridcolor": "white",
            "gridwidth": 2,
            "linecolor": "white",
            "showbackground": true,
            "ticks": "",
            "zerolinecolor": "white"
           }
          },
          "shapedefaults": {
           "line": {
            "color": "#2a3f5f"
           }
          },
          "ternary": {
           "aaxis": {
            "gridcolor": "white",
            "linecolor": "white",
            "ticks": ""
           },
           "baxis": {
            "gridcolor": "white",
            "linecolor": "white",
            "ticks": ""
           },
           "bgcolor": "#E5ECF6",
           "caxis": {
            "gridcolor": "white",
            "linecolor": "white",
            "ticks": ""
           }
          },
          "title": {
           "x": 0.05
          },
          "xaxis": {
           "automargin": true,
           "gridcolor": "white",
           "linecolor": "white",
           "ticks": "",
           "title": {
            "standoff": 15
           },
           "zerolinecolor": "white",
           "zerolinewidth": 2
          },
          "yaxis": {
           "automargin": true,
           "gridcolor": "white",
           "linecolor": "white",
           "ticks": "",
           "title": {
            "standoff": 15
           },
           "zerolinecolor": "white",
           "zerolinewidth": 2
          }
         }
        }
       }
      },
      "text/html": [
       "<div>                            <div id=\"e321423e-19dc-4a00-9a22-9926de26866c\" class=\"plotly-graph-div\" style=\"height:525px; width:100%;\"></div>            <script type=\"text/javascript\">                require([\"plotly\"], function(Plotly) {                    window.PLOTLYENV=window.PLOTLYENV || {};                                    if (document.getElementById(\"e321423e-19dc-4a00-9a22-9926de26866c\")) {                    Plotly.newPlot(                        \"e321423e-19dc-4a00-9a22-9926de26866c\",                        [{\"fill\": \"tozeroy\", \"line\": {\"color\": \"indigo\"}, \"mode\": \"lines\", \"type\": \"scatter\", \"x\": [0.9870072239645131, 0.9435973115467358, 0.8366052469804455, 0.6233751906171869, 0.2895645601990138, 0.2678711969825609, 0.1918019220457503, 0.04094170789516571, -0.11536323426652562, -0.1756618340538305, -0.45433250025227956, -0.6596020574777621, -0.8076566148566211, -0.8926683234883144, -0.938642974497385, -0.9752006983926713], \"y\": [0.1376493537621717, 0.3261658362820501, 0.5416262530511147, 0.7689347984953356, 0.9395710933337496, 0.9514223754561766, 0.9812344822278793, 0.9712807223140794, 0.9749979038348797, 0.9617033028754018, 0.8779728857488156, 0.7220033510846637, 0.5809269789533502, 0.42903588452034325, 0.2597671674195414, 0.11810034264001512]}, {\"fill\": \"tozeroy\", \"fillcolor\": \"rgba(0,0,100,0.1)\", \"line\": {\"color\": \"indigo\"}, \"mode\": \"lines\", \"type\": \"scatter\", \"x\": [-0.9752006983926713, -0.565111153687621, -0.19554503293664416, 0.10812790837941888, 0.32718649409416733, 0.69470465082984, 0.9870072239645131], \"y\": [0.11810034264001512, 0.42188500191631406, 0.5142185036194418, 0.5147704284496981, 0.48520350605652074, 0.36742140437049775, 0.1376493537621717]}],                        {\"plot_bgcolor\": \"rgba(0,0,100,0.1)\", \"template\": {\"data\": {\"bar\": [{\"error_x\": {\"color\": \"#2a3f5f\"}, \"error_y\": {\"color\": \"#2a3f5f\"}, \"marker\": {\"line\": {\"color\": \"#E5ECF6\", \"width\": 0.5}}, \"type\": \"bar\"}], \"barpolar\": [{\"marker\": {\"line\": {\"color\": \"#E5ECF6\", \"width\": 0.5}}, \"type\": \"barpolar\"}], \"carpet\": [{\"aaxis\": {\"endlinecolor\": \"#2a3f5f\", \"gridcolor\": \"white\", \"linecolor\": \"white\", \"minorgridcolor\": \"white\", \"startlinecolor\": \"#2a3f5f\"}, \"baxis\": {\"endlinecolor\": \"#2a3f5f\", \"gridcolor\": \"white\", \"linecolor\": \"white\", \"minorgridcolor\": \"white\", \"startlinecolor\": \"#2a3f5f\"}, \"type\": \"carpet\"}], \"choropleth\": [{\"colorbar\": {\"outlinewidth\": 0, \"ticks\": \"\"}, \"type\": \"choropleth\"}], \"contour\": [{\"colorbar\": {\"outlinewidth\": 0, \"ticks\": \"\"}, \"colorscale\": [[0.0, \"#0d0887\"], [0.1111111111111111, \"#46039f\"], [0.2222222222222222, \"#7201a8\"], [0.3333333333333333, \"#9c179e\"], [0.4444444444444444, \"#bd3786\"], [0.5555555555555556, \"#d8576b\"], [0.6666666666666666, \"#ed7953\"], [0.7777777777777778, \"#fb9f3a\"], [0.8888888888888888, \"#fdca26\"], [1.0, \"#f0f921\"]], \"type\": \"contour\"}], \"contourcarpet\": [{\"colorbar\": {\"outlinewidth\": 0, \"ticks\": \"\"}, \"type\": \"contourcarpet\"}], \"heatmap\": [{\"colorbar\": {\"outlinewidth\": 0, \"ticks\": \"\"}, \"colorscale\": [[0.0, \"#0d0887\"], [0.1111111111111111, \"#46039f\"], [0.2222222222222222, \"#7201a8\"], [0.3333333333333333, \"#9c179e\"], [0.4444444444444444, \"#bd3786\"], [0.5555555555555556, \"#d8576b\"], [0.6666666666666666, \"#ed7953\"], [0.7777777777777778, \"#fb9f3a\"], [0.8888888888888888, \"#fdca26\"], [1.0, \"#f0f921\"]], \"type\": \"heatmap\"}], \"heatmapgl\": [{\"colorbar\": {\"outlinewidth\": 0, \"ticks\": \"\"}, \"colorscale\": [[0.0, \"#0d0887\"], [0.1111111111111111, \"#46039f\"], [0.2222222222222222, \"#7201a8\"], [0.3333333333333333, \"#9c179e\"], [0.4444444444444444, \"#bd3786\"], [0.5555555555555556, \"#d8576b\"], [0.6666666666666666, \"#ed7953\"], [0.7777777777777778, \"#fb9f3a\"], [0.8888888888888888, \"#fdca26\"], [1.0, \"#f0f921\"]], \"type\": \"heatmapgl\"}], \"histogram\": [{\"marker\": {\"colorbar\": {\"outlinewidth\": 0, \"ticks\": \"\"}}, \"type\": \"histogram\"}], \"histogram2d\": [{\"colorbar\": {\"outlinewidth\": 0, \"ticks\": \"\"}, \"colorscale\": [[0.0, \"#0d0887\"], [0.1111111111111111, \"#46039f\"], [0.2222222222222222, \"#7201a8\"], [0.3333333333333333, \"#9c179e\"], [0.4444444444444444, \"#bd3786\"], [0.5555555555555556, \"#d8576b\"], [0.6666666666666666, \"#ed7953\"], [0.7777777777777778, \"#fb9f3a\"], [0.8888888888888888, \"#fdca26\"], [1.0, \"#f0f921\"]], \"type\": \"histogram2d\"}], \"histogram2dcontour\": [{\"colorbar\": {\"outlinewidth\": 0, \"ticks\": \"\"}, \"colorscale\": [[0.0, \"#0d0887\"], [0.1111111111111111, \"#46039f\"], [0.2222222222222222, \"#7201a8\"], [0.3333333333333333, \"#9c179e\"], [0.4444444444444444, \"#bd3786\"], [0.5555555555555556, \"#d8576b\"], [0.6666666666666666, \"#ed7953\"], [0.7777777777777778, \"#fb9f3a\"], [0.8888888888888888, \"#fdca26\"], [1.0, \"#f0f921\"]], \"type\": \"histogram2dcontour\"}], \"mesh3d\": [{\"colorbar\": {\"outlinewidth\": 0, \"ticks\": \"\"}, \"type\": \"mesh3d\"}], \"parcoords\": [{\"line\": {\"colorbar\": {\"outlinewidth\": 0, \"ticks\": \"\"}}, \"type\": \"parcoords\"}], \"pie\": [{\"automargin\": true, \"type\": \"pie\"}], \"scatter\": [{\"marker\": {\"colorbar\": {\"outlinewidth\": 0, \"ticks\": \"\"}}, \"type\": \"scatter\"}], \"scatter3d\": [{\"line\": {\"colorbar\": {\"outlinewidth\": 0, \"ticks\": \"\"}}, \"marker\": {\"colorbar\": {\"outlinewidth\": 0, \"ticks\": \"\"}}, \"type\": \"scatter3d\"}], \"scattercarpet\": [{\"marker\": {\"colorbar\": {\"outlinewidth\": 0, \"ticks\": \"\"}}, \"type\": \"scattercarpet\"}], \"scattergeo\": [{\"marker\": {\"colorbar\": {\"outlinewidth\": 0, \"ticks\": \"\"}}, \"type\": \"scattergeo\"}], \"scattergl\": [{\"marker\": {\"colorbar\": {\"outlinewidth\": 0, \"ticks\": \"\"}}, \"type\": \"scattergl\"}], \"scattermapbox\": [{\"marker\": {\"colorbar\": {\"outlinewidth\": 0, \"ticks\": \"\"}}, \"type\": \"scattermapbox\"}], \"scatterpolar\": [{\"marker\": {\"colorbar\": {\"outlinewidth\": 0, \"ticks\": \"\"}}, \"type\": \"scatterpolar\"}], \"scatterpolargl\": [{\"marker\": {\"colorbar\": {\"outlinewidth\": 0, \"ticks\": \"\"}}, \"type\": \"scatterpolargl\"}], \"scatterternary\": [{\"marker\": {\"colorbar\": {\"outlinewidth\": 0, \"ticks\": \"\"}}, \"type\": \"scatterternary\"}], \"surface\": [{\"colorbar\": {\"outlinewidth\": 0, \"ticks\": \"\"}, \"colorscale\": [[0.0, \"#0d0887\"], [0.1111111111111111, \"#46039f\"], [0.2222222222222222, \"#7201a8\"], [0.3333333333333333, \"#9c179e\"], [0.4444444444444444, \"#bd3786\"], [0.5555555555555556, \"#d8576b\"], [0.6666666666666666, \"#ed7953\"], [0.7777777777777778, \"#fb9f3a\"], [0.8888888888888888, \"#fdca26\"], [1.0, \"#f0f921\"]], \"type\": \"surface\"}], \"table\": [{\"cells\": {\"fill\": {\"color\": \"#EBF0F8\"}, \"line\": {\"color\": \"white\"}}, \"header\": {\"fill\": {\"color\": \"#C8D4E3\"}, \"line\": {\"color\": \"white\"}}, \"type\": \"table\"}]}, \"layout\": {\"annotationdefaults\": {\"arrowcolor\": \"#2a3f5f\", \"arrowhead\": 0, \"arrowwidth\": 1}, \"autotypenumbers\": \"strict\", \"coloraxis\": {\"colorbar\": {\"outlinewidth\": 0, \"ticks\": \"\"}}, \"colorscale\": {\"diverging\": [[0, \"#8e0152\"], [0.1, \"#c51b7d\"], [0.2, \"#de77ae\"], [0.3, \"#f1b6da\"], [0.4, \"#fde0ef\"], [0.5, \"#f7f7f7\"], [0.6, \"#e6f5d0\"], [0.7, \"#b8e186\"], [0.8, \"#7fbc41\"], [0.9, \"#4d9221\"], [1, \"#276419\"]], \"sequential\": [[0.0, \"#0d0887\"], [0.1111111111111111, \"#46039f\"], [0.2222222222222222, \"#7201a8\"], [0.3333333333333333, \"#9c179e\"], [0.4444444444444444, \"#bd3786\"], [0.5555555555555556, \"#d8576b\"], [0.6666666666666666, \"#ed7953\"], [0.7777777777777778, \"#fb9f3a\"], [0.8888888888888888, \"#fdca26\"], [1.0, \"#f0f921\"]], \"sequentialminus\": [[0.0, \"#0d0887\"], [0.1111111111111111, \"#46039f\"], [0.2222222222222222, \"#7201a8\"], [0.3333333333333333, \"#9c179e\"], [0.4444444444444444, \"#bd3786\"], [0.5555555555555556, \"#d8576b\"], [0.6666666666666666, \"#ed7953\"], [0.7777777777777778, \"#fb9f3a\"], [0.8888888888888888, \"#fdca26\"], [1.0, \"#f0f921\"]]}, \"colorway\": [\"#636efa\", \"#EF553B\", \"#00cc96\", \"#ab63fa\", \"#FFA15A\", \"#19d3f3\", \"#FF6692\", \"#B6E880\", \"#FF97FF\", \"#FECB52\"], \"font\": {\"color\": \"#2a3f5f\"}, \"geo\": {\"bgcolor\": \"white\", \"lakecolor\": \"white\", \"landcolor\": \"#E5ECF6\", \"showlakes\": true, \"showland\": true, \"subunitcolor\": \"white\"}, \"hoverlabel\": {\"align\": \"left\"}, \"hovermode\": \"closest\", \"mapbox\": {\"style\": \"light\"}, \"paper_bgcolor\": \"white\", \"plot_bgcolor\": \"#E5ECF6\", \"polar\": {\"angularaxis\": {\"gridcolor\": \"white\", \"linecolor\": \"white\", \"ticks\": \"\"}, \"bgcolor\": \"#E5ECF6\", \"radialaxis\": {\"gridcolor\": \"white\", \"linecolor\": \"white\", \"ticks\": \"\"}}, \"scene\": {\"xaxis\": {\"backgroundcolor\": \"#E5ECF6\", \"gridcolor\": \"white\", \"gridwidth\": 2, \"linecolor\": \"white\", \"showbackground\": true, \"ticks\": \"\", \"zerolinecolor\": \"white\"}, \"yaxis\": {\"backgroundcolor\": \"#E5ECF6\", \"gridcolor\": \"white\", \"gridwidth\": 2, \"linecolor\": \"white\", \"showbackground\": true, \"ticks\": \"\", \"zerolinecolor\": \"white\"}, \"zaxis\": {\"backgroundcolor\": \"#E5ECF6\", \"gridcolor\": \"white\", \"gridwidth\": 2, \"linecolor\": \"white\", \"showbackground\": true, \"ticks\": \"\", \"zerolinecolor\": \"white\"}}, \"shapedefaults\": {\"line\": {\"color\": \"#2a3f5f\"}}, \"ternary\": {\"aaxis\": {\"gridcolor\": \"white\", \"linecolor\": \"white\", \"ticks\": \"\"}, \"baxis\": {\"gridcolor\": \"white\", \"linecolor\": \"white\", \"ticks\": \"\"}, \"bgcolor\": \"#E5ECF6\", \"caxis\": {\"gridcolor\": \"white\", \"linecolor\": \"white\", \"ticks\": \"\"}}, \"title\": {\"x\": 0.05}, \"xaxis\": {\"automargin\": true, \"gridcolor\": \"white\", \"linecolor\": \"white\", \"ticks\": \"\", \"title\": {\"standoff\": 15}, \"zerolinecolor\": \"white\", \"zerolinewidth\": 2}, \"yaxis\": {\"automargin\": true, \"gridcolor\": \"white\", \"linecolor\": \"white\", \"ticks\": \"\", \"title\": {\"standoff\": 15}, \"zerolinecolor\": \"white\", \"zerolinewidth\": 2}}}},                        {\"responsive\": true}                    ).then(function(){\n",
       "                            \n",
       "var gd = document.getElementById('e321423e-19dc-4a00-9a22-9926de26866c');\n",
       "var x = new MutationObserver(function (mutations, observer) {{\n",
       "        var display = window.getComputedStyle(gd).display;\n",
       "        if (!display || display === 'none') {{\n",
       "            console.log([gd, 'removed!']);\n",
       "            Plotly.purge(gd);\n",
       "            observer.disconnect();\n",
       "        }}\n",
       "}});\n",
       "\n",
       "// Listen for the removal of the full notebook cells\n",
       "var notebookContainer = gd.closest('#notebook-container');\n",
       "if (notebookContainer) {{\n",
       "    x.observe(notebookContainer, {childList: true});\n",
       "}}\n",
       "\n",
       "// Listen for the clearing of the current output cell\n",
       "var outputEl = gd.closest('.output');\n",
       "if (outputEl) {{\n",
       "    x.observe(outputEl, {childList: true});\n",
       "}}\n",
       "\n",
       "                        })                };                });            </script>        </div>"
      ]
     },
     "metadata": {},
     "output_type": "display_data"
    },
    {
     "data": {
      "image/png": "[encoded data removed]",
      "text/plain": [
       "<Figure size 720x720 with 1 Axes>"
      ]
     },
     "metadata": {
      "needs_background": "light"
     },
     "output_type": "display_data"
    }
   ],
   "source": [
    "# https://stackoverflow.com/a/50714300/7200745\n",
    "from scipy.spatial import Delaunay\n",
    "import numpy as np\n",
    "\n",
    "def alpha_shape(points, alpha, only_outer=True):\n",
    "    \"\"\"\n",
    "    Compute the alpha shape (concave hull) of a set of points.\n",
    "    :param points: np.array of shape (n,2) points.\n",
    "    :param alpha: alpha value.\n",
    "    :param only_outer: boolean value to specify if we keep only the outer border\n",
    "    or also inner edges.\n",
    "    :return: set of (i,j) pairs representing edges of the alpha-shape. (i,j) are\n",
    "    the indices in the points array.\n",
    "    \"\"\"\n",
    "    assert points.shape[0] > 3, \"Need at least four points\"\n",
    "\n",
    "    def add_edge(edges, i, j):\n",
    "        \"\"\"\n",
    "        Add an edge between the i-th and j-th points,\n",
    "        if not in the list already\n",
    "        \"\"\"\n",
    "        if (i, j) in edges or (j, i) in edges:\n",
    "            # already added\n",
    "            assert (j, i) in edges, \"Can't go twice over same directed edge right?\"\n",
    "            if only_outer:\n",
    "                # if both neighboring triangles are in shape, it's not a boundary edge\n",
    "                edges.remove((j, i))\n",
    "            return\n",
    "        edges.add((i, j))\n",
    "\n",
    "    tri = Delaunay(points)\n",
    "    edges = set()\n",
    "    # Loop over triangles:\n",
    "    # ia, ib, ic = indices of corner points of the triangle\n",
    "    for ia, ib, ic in tri.vertices:\n",
    "        pa = points[ia]\n",
    "        pb = points[ib]\n",
    "        pc = points[ic]\n",
    "        # Computing radius of triangle circumcircle\n",
    "        # www.mathalino.com/reviewer/derivation-of-formulas/derivation-of-formula-for-radius-of-circumcircle\n",
    "        a = np.sqrt((pa[0] - pb[0]) ** 2 + (pa[1] - pb[1]) ** 2)\n",
    "        b = np.sqrt((pb[0] - pc[0]) ** 2 + (pb[1] - pc[1]) ** 2)\n",
    "        c = np.sqrt((pc[0] - pa[0]) ** 2 + (pc[1] - pa[1]) ** 2)\n",
    "        s = (a + b + c) / 2.0\n",
    "        area = np.sqrt(s * (s - a) * (s - b) * (s - c))\n",
    "        circum_r = a * b * c / (4.0 * area)\n",
    "        if circum_r < alpha:\n",
    "            add_edge(edges, ia, ib)\n",
    "            add_edge(edges, ib, ic)\n",
    "            add_edge(edges, ic, ia)\n",
    "    return edges\n",
    "\n",
    "\n",
    "\n",
    "def find_edges_with(i, edge_set):\n",
    "    i_first = [j for (x,j) in edge_set if x==i]\n",
    "    i_second = [j for (j,x) in edge_set if x==i]\n",
    "    return i_first,i_second\n",
    "\n",
    "def stitch_boundaries(edges):\n",
    "    edge_set = edges.copy()\n",
    "    boundary_lst = []\n",
    "    while len(edge_set) > 0:\n",
    "        boundary = []\n",
    "        edge0 = edge_set.pop()\n",
    "        boundary.append(edge0)\n",
    "        last_edge = edge0\n",
    "        while len(edge_set) > 0:\n",
    "            i,j = last_edge\n",
    "            j_first, j_second = find_edges_with(j, edge_set)\n",
    "            if j_first:\n",
    "                edge_set.remove((j, j_first[0]))\n",
    "                edge_with_j = (j, j_first[0])\n",
    "                boundary.append(edge_with_j)\n",
    "                last_edge = edge_with_j\n",
    "            elif j_second:\n",
    "                edge_set.remove((j_second[0], j))\n",
    "                edge_with_j = (j, j_second[0])  # flip edge rep\n",
    "                boundary.append(edge_with_j)\n",
    "                last_edge = edge_with_j\n",
    "\n",
    "            if edge0[0] == last_edge[1]:\n",
    "                break\n",
    "\n",
    "        boundary_lst.append(boundary)\n",
    "    return boundary_lst[0]\n",
    "\n",
    "#generating of random points\n",
    "N = 1000\n",
    "r = 1 - 2*np.random.random((N,2))\n",
    "r_norm = np.linalg.norm(r, axis=1)\n",
    "points = r[(r_norm <= 1) & (r[:,0]**2 + 4*r[:,1]**2 >=1) & (r[:,1]>0)] \n",
    "plt.figure(figsize=(10,10))\n",
    "plt.scatter(points[:,0], points[:,1], color='k', s=1)\n",
    "\n",
    "# Computing the alpha shape\n",
    "edges = alpha_shape(points, alpha=1, only_outer=True)\n",
    "#order edges\n",
    "edges = stitch_boundaries(edges)\n",
    "plt.axis('equal')\n",
    "edge_points = np.zeros((len(edges),2))\n",
    "k=0\n",
    "for i, j in edges:\n",
    "    edge_points[k,:] = points[[i, j], 0][0] , points[[i, j], 1][0]\n",
    "    k += 1\n",
    "plt.plot(edge_points[:,0],edge_points[:,1])\n",
    "\n",
    "min_x_ind = np.argmin(edge_points[:, 0])\n",
    "max_x_ind = np.argmax(edge_points[:, 0])\n",
    "if min_x_ind < max_x_ind:\n",
    "    lower_hull = edge_points[min_x_ind:max_x_ind+1, :]\n",
    "    upper_hull = np.concatenate([edge_points[max_x_ind:, :], edge_points[:min_x_ind+1, :]])\n",
    "else:\n",
    "    upper_hull = edge_points[max_x_ind:min_x_ind+1, :]\n",
    "    lower_hull = np.concatenate([edge_points[min_x_ind:, :], edge_points[:max_x_ind+1, :]])\n",
    "    \n",
    "plt.plot(upper_hull[:,0],upper_hull[:,1], \"r\", lw=3 )\n",
    "plt.plot(lower_hull[:,0],lower_hull[:,1], \"b\", lw=3 )\n",
    "\n",
    "#theoretical edges\n",
    "# xx = np.linspace(-1,1, 100)\n",
    "# yy_upper =  np.sqrt(1 - xx**2)\n",
    "# yy_lower = -np.sqrt(1 - xx**2)\n",
    "# plt.plot(xx, yy_upper, 'r:')\n",
    "# plt.plot(xx, yy_lower, 'b:')\n",
    "fig = go.Figure()\n",
    "fig.add_trace(go.Scatter(x=upper_hull[:,0],y=upper_hull[:,1], mode='lines', line_color='indigo', fill='tozeroy')) # fill to trace0 y\n",
    "fig.add_trace(go.Scatter(x=lower_hull[:,0],y=lower_hull[:,1], mode='lines', line_color='indigo', fill='tozeroy', fillcolor='rgba(0,0,100,0.1)')) # fill down to xaxis\n",
    "layout = go.Layout(\n",
    "#     paper_bgcolor='rgba(0,0,0,0)',\n",
    "    plot_bgcolor='rgba(0,0,100,0.1)'\n",
    ")\n",
    "fig.update_layout(layout)\n",
    "\n",
    "fig.show()"
   ]
  },
  {
   "cell_type": "code",
   "execution_count": null,
   "metadata": {},
   "outputs": [],
   "source": []
  },
  {
   "cell_type": "code",
   "execution_count": null,
   "metadata": {},
   "outputs": [],
   "source": []
  },
  {
   "cell_type": "code",
   "execution_count": null,
   "metadata": {},
   "outputs": [],
   "source": []
  },
  {
   "cell_type": "code",
   "execution_count": null,
   "metadata": {},
   "outputs": [],
   "source": []
  },
  {
   "cell_type": "code",
   "execution_count": null,
   "metadata": {},
   "outputs": [],
   "source": []
  },
  {
   "cell_type": "code",
   "execution_count": null,
   "metadata": {},
   "outputs": [],
   "source": []
  },
  {
   "cell_type": "code",
   "execution_count": null,
   "metadata": {},
   "outputs": [],
   "source": [
    "# def smooth_in_mini_square(x, y, dx, dy):\n",
    "# \tN = x.size\n",
    "# \tpoints=np.c_[x,y]\n",
    "# \tdl = np.sqrt(dx**2 + dy**2)\n",
    "# \txnew = np.zeros(N)\n",
    "# \tynew = np.zeros(N)\n",
    "# \tfor i,pi in enumerate(points):\n",
    "# \t\tdist = np.linalg.norm(points - pi*np.ones((N,1)), axis=1)\n",
    "# \t\t# print(dist)\n",
    "# \t\targs = (dist < dl)\n",
    "# \t\t# print(args)\n",
    "# \t\txnew[i] = x[args].mean()\n",
    "# \t\tynew[i] = y[args].mean()\n",
    "# \treturn xnew, ynew\n",
    "\n",
    "# def get_item(item):\n",
    "# \tx,y = item\n",
    "# \treturn (item[0], item[1])\n",
    "\n",
    "# def sort_by_theta (arr, x_cm, shift=True):\n",
    "# \ttheta = np.arctan2(arr[:,1] - 0.25, arr[:,0] - x_cm)\n",
    "# \tif shift: #shift from -pi,pi to 0, 2pi\n",
    "# \t\ttheta = np.where(theta<0 , 2*np.pi+theta, theta)\n",
    "# \tprint('thetaMinMax:', theta.min(), theta.max())\n",
    "# \targs = (-theta).argsort(kind='mergesort')\n",
    "# \treturn arr[args]\n",
    "\n",
    "# #sort and delete the same points\n",
    "# def sort_by_three_part(x, y):\n",
    "# \tarr = np.c_[x,y]\n",
    "# \tprint('arr.shape:',arr.shape)\n",
    "# \txmin = x.min()\n",
    "# \txmax = x.max()\n",
    "\t\n",
    "# \tx_cm = 0.5*(xmin + xmax)\n",
    "\n",
    "# \t#split points into 3 parts\n",
    "# \tfirst_part  = arr[(y <  0.35) & (x <  x_cm)]\n",
    "# \tsecond_part = arr[(y >= 0.35) & (x <  x_cm)]\n",
    "# \tthird_part  = arr[              (x >= x_cm)]\n",
    "\n",
    "# \t#sort each part\n",
    "# \tfirst_part = sort_by_theta(first_part, x_cm, shift=True) # sort by theta\n",
    "# \t#The last column (or row if keys is a 2D array) is the primary sort key.\n",
    "# \tsecond_part = second_part[np.lexsort((second_part[:,1],second_part[:,0]))] # sort by x\n",
    "# \tthird_part = sort_by_theta(third_part, x_cm, shift=False) # sort by theta\n",
    "\t\n",
    "# \t#gather all points\n",
    "# \tsorted_points = np.concatenate((first_part, second_part, third_part))\n",
    "\t\n",
    "# \t#delete the same points\n",
    "# \tjump = np.sqrt(np.diff(sorted_points[:,0])**2 + np.diff(sorted_points[:,1])**2)\n",
    "# \tsorted_points = sorted_points[:-1]\n",
    "# \t# smooth_jump = gaussian_filter1d(jump, 5, mode='wrap')  # window of size 5 is arbitrary\n",
    "# \t# limit = 5*np.median(smooth_jump)    # factor 2 is arbitrary\n",
    "# \t# sorted_points = sorted_points[(jump > 0) & (smooth_jump < limit)]\n",
    "# \tsorted_points = sorted_points[jump>0]\n",
    "\n",
    "# \t#find initial point\n",
    "# \tx0, y0 = first_part[0]\n",
    "# \tprint('num_of_points=', arr.shape[0])\n",
    "# \tprint('Starting point:', x0, y0)\n",
    "# \tprint('MinMax point X:', xmin, xmax)\n",
    "\n",
    "# \t#create stats file\n",
    "# \tfn = \"r_over_x_t={}.csv\".format(timesteps[0])\n",
    "# \twith open(fn, 'w') as f:\n",
    "# \t\tf.write(json.dumps(sorted_points.tolist()))\n",
    "# \treturn sorted_points[:,0], sorted_points[:,1], x0, xmin, xmax\n",
    "# '''\n",
    "# \tmsize = 0.2\n",
    "# \tplt.figure()\n",
    "# \tplt.plot(first_part[:,0], first_part[:,1], '-',  markersize=msize)\n",
    "# \tplt.plot(second_part[:,0], second_part[:,1], '-',  markersize=msize)\n",
    "# \tplt.plot(third_part[:,0], third_part[:,1], '-',  markersize=msize)\n",
    "# \tplt.xlabel('x')\n",
    "# \tplt.ylabel('Radius')\n",
    "# \tplt.legend(['first_part', 'second_part', 'third_part', 'xz4', 'xz5'], loc='best')\n",
    "# \tplt.grid()\n",
    "# \tplt.savefig(\"test_parts.eps\")\n",
    "# '''\n",
    "\n",
    "\n",
    "\n",
    "\n",
    "# def nearest_point(x, y, x0, y0):\n",
    "# \tvalues = (x - x0)**2 + (y - y0)**2\n",
    "# \tindex_min = np.argmin(values)\n",
    "# \tif values[index_min] > 0.01 and y0 > 0.35:\n",
    "# \t\tprint(\"ERROR!!!:\",x[index_min], y[index_min], values[index_min])\n",
    "# \t\treturn None, None\n",
    "# \treturn x[index_min], y[index_min]\n",
    "\n",
    "# def sort_by_nearest(x, y):\n",
    "# \taa = np.c_[x,y]\n",
    "# \taa = list(map(tuple, aa))\n",
    "# \taa = np.array(sorted(aa, key=lambda item: get_item(item)))\n",
    "# \tx,y = aa[:,0], aa[:,1]\n",
    "# \txmin = x[0]\n",
    "# \txmax = x[-1]\n",
    "# \tx_cm = 0.5*(xmin + xmax)\n",
    "\n",
    "# \t#find initial point\n",
    "# \tfirst_part  = aa[(y <  0.35) & (x <  x_cm)]\n",
    "# \tfirst_part = sort_by_theta(first_part, x_cm, shift=True) # sort by theta\n",
    "# \tx0, y0 = first_part[0]\n",
    "# \tprint('Starting point:', x0, y0)\n",
    "# \tprint('MinMax point X:', xmin, xmax)\n",
    "\n",
    "# \txx, yy = [], []\n",
    "# \tx_copy, y_copy = np.copy(x), np.copy(y)\n",
    "# \tfor i,xi in enumerate(x_copy[:-1]):\n",
    "# \t\tyi = y_copy[i]\n",
    "# \t\tx_copy[i] = np.inf\n",
    "# \t\ta,b = nearest_point(x_copy, y_copy, xi, yi)\n",
    "# \t\tif a != None and b != None:\n",
    "# \t\t\txx.append(a)\n",
    "# \t\t\tyy.append(b)\n",
    "# \t# jump = np.sqrt(np.diff(sorted_points[:,0])**2 + np.diff(sorted_points[:,1])**2)\n",
    "# \t# sorted_points = sorted_points[:-1]\n",
    "# \t# smooth_jump = gaussian_filter1d(jump, 5, mode='wrap')  # window of size 5 is arbitrary\n",
    "# \t# limit = 5*np.median(smooth_jump)    # factor 2 is arbitrary\n",
    "# \t# sorted_points = sorted_points[(jump > 0) & (smooth_jump < limit)]\n",
    "# \t# sorted_points = sorted_points[jump>0]\n",
    "\n",
    "# \treturn np.asarray(xx), np.asarray(yy), x0, xmin, xmax\n",
    "\n",
    "# def sort_points(x, y):\n",
    "# \tpoints = np.c_[x, y]\n",
    "\n",
    "# \tclf = NearestNeighbors(2).fit(points)\n",
    "# \tG = clf.kneighbors_graph()\n",
    "# \tT = nx.from_scipy_sparse_matrix(G)\n",
    "\n",
    "# \torder = list(nx.dfs_preorder_nodes(T, 0))\n",
    "\n",
    "# \txx = x[order]\n",
    "# \tyy = y[order]\n",
    "\n",
    "# \t# plt.plot(xx, yy, 'r.')\n",
    "# \t# plt.savefig(\"test.png\")\n",
    "# \t# plt.show()\n",
    "\n",
    "# \tpaths = [list(nx.dfs_preorder_nodes(T, i)) for i in range(len(points))]\n",
    "\n",
    "# \tmindist = np.inf\n",
    "# \tminidx = 0\n",
    "\n",
    "# \tfor i in range(len(points)):\n",
    "# \t\tp = paths[i]           # order of nodes\n",
    "# \t\tordered = points[p]    # ordered nodes\n",
    "# \t\t# find cost of that order by the sum of euclidean distances between points (i) and (i+1)\n",
    "# \t\tcost = (((ordered[:-1] - ordered[1:])**2).sum(1)).sum()\n",
    "# \t\tif cost < mindist:\n",
    "# \t\t\tmindist = cost\n",
    "# \t\t\tminidx = i\n",
    "\n",
    "# \topt_order = paths[minidx]\n",
    "\n",
    "# \txx = x[opt_order]\n",
    "# \tyy = y[opt_order]\n",
    "\n",
    "# \treturn xx, yy\n",
    "\n",
    "# def non_uniform_savgol(x, y, window, polynom):\n",
    "# \t\"\"\"\n",
    "#     Applies a Savitzky-Golay filter to y with non-uniform spacing\n",
    "#     as defined in x\n",
    "\n",
    "#     This is based on https://dsp.stackexchange.com/questions/1676/savitzky-golay-smoothing-filter-for-not-equally-spaced-data\n",
    "#     The borders are interpolated like scipy.signal.savgol_filter would do\n",
    "\n",
    "#     Parameters\n",
    "#     ----------\n",
    "#     x : array_like\n",
    "#         List of floats representing the x values of the data\n",
    "#     y : array_like\n",
    "#         List of floats representing the y values. Must have same length\n",
    "#         as x\n",
    "#     window : int (odd)\n",
    "#         Window length of datapoints. Must be odd and smaller than x\n",
    "#     polynom : int\n",
    "#         The order of polynom used. Must be smaller than the window size\n",
    "\n",
    "#     Returns\n",
    "#     -------\n",
    "#     np.array of float\n",
    "#         The smoothed y values\n",
    "#     \"\"\"\n",
    "# \tif len(x) != len(y):\n",
    "# \t\traise ValueError('\"x\" and \"y\" must be of the same size')\n",
    "\n",
    "# \tif len(x) < window:\n",
    "# \t\traise ValueError('The data size must be larger than the window size')\n",
    "\n",
    "# \tif type(window) is not int:\n",
    "# \t\traise TypeError('\"window\" must be an integer')\n",
    "\n",
    "# \tif window % 2 == 0:\n",
    "# \t\traise ValueError('The \"window\" must be an odd integer')\n",
    "\n",
    "# \tif type(polynom) is not int:\n",
    "# \t\traise TypeError('\"polynom\" must be an integer')\n",
    "\n",
    "# \tif polynom >= window:\n",
    "# \t\traise ValueError('\"polynom\" must be less than \"window\"')\n",
    "\n",
    "# \thalf_window = window // 2\n",
    "# \tpolynom += 1\n",
    "\n",
    "# \t# Initialize variables\n",
    "# \tA = np.empty((window, polynom))     # Matrix\n",
    "# \ttA = np.empty((polynom, window))    # Transposed matrix\n",
    "# \tt = np.empty(window)                # Local x variables\n",
    "# \ty_smoothed = np.full(len(y), np.nan)\n",
    "\n",
    "# \t# Start smoothing\n",
    "# \tfor i in range(half_window, len(x) - half_window, 1):\n",
    "# \t\t# Center a window of x values on x[i]\n",
    "# \t\tfor j in range(0, window, 1):\n",
    "# \t\t\tt[j] = x[i + j - half_window] - x[i]\n",
    "\n",
    "# \t\t# Create the initial matrix A and its transposed form tA\n",
    "# \t\tfor j in range(0, window, 1):\n",
    "# \t\t\tr = 1.0\n",
    "# \t\t\tfor k in range(0, polynom, 1):\n",
    "# \t\t\t\tA[j, k] = r\n",
    "# \t\t\t\ttA[k, j] = r\n",
    "# \t\t\t\tr *= t[j]\n",
    "\n",
    "# \t\t# Multiply the two matrices\n",
    "# \t\ttAA = np.matmul(tA, A)\n",
    "\n",
    "# \t\t# Invert the product of the matrices\n",
    "# \t\ttAA = np.linalg.inv(tAA)\n",
    "\n",
    "# \t\t# Calculate the pseudoinverse of the design matrix\n",
    "# \t\tcoeffs = np.matmul(tAA, tA)\n",
    "\n",
    "# \t\t# Calculate c0 which is also the y value for y[i]\n",
    "# \t\ty_smoothed[i] = 0\n",
    "# \t\tfor j in range(0, window, 1):\n",
    "# \t\t\ty_smoothed[i] += coeffs[0, j] * y[i + j - half_window]\n",
    "\n",
    "# \t\t# If at the end or beginning, store all coefficients for the polynom\n",
    "# \t\tif i == half_window:\n",
    "# \t\t\tfirst_coeffs = np.zeros(polynom)\n",
    "# \t\t\tfor j in range(0, window, 1):\n",
    "# \t\t\t\tfor k in range(polynom):\n",
    "# \t\t\t\t\tfirst_coeffs[k] += coeffs[k, j] * y[j]\n",
    "# \t\telif i == len(x) - half_window - 1:\n",
    "# \t\t\tlast_coeffs = np.zeros(polynom)\n",
    "# \t\t\tfor j in range(0, window, 1):\n",
    "# \t\t\t\tfor k in range(polynom):\n",
    "# \t\t\t\t\tlast_coeffs[k] += coeffs[k, j] * y[len(y) - window + j]\n",
    "\n",
    "# \t# Interpolate the result at the left border\n",
    "# \tfor i in range(0, half_window, 1):\n",
    "# \t\ty_smoothed[i] = 0\n",
    "# \t\tx_i = 1\n",
    "# \t\tfor j in range(0, polynom, 1):\n",
    "# \t\t\ty_smoothed[i] += first_coeffs[j] * x_i\n",
    "# \t\t\tx_i *= x[i] - x[half_window]\n",
    "\n",
    "# \t# Interpolate the result at the right border\n",
    "# \tfor i in range(len(x) - half_window, len(x), 1):\n",
    "# \t\ty_smoothed[i] = 0\n",
    "# \t\tx_i = 1\n",
    "# \t\tfor j in range(0, polynom, 1):\n",
    "# \t\t\ty_smoothed[i] += last_coeffs[j] * x_i\n",
    "# \t\t\tx_i *= x[i] - x[-half_window - 1]\n",
    "\n",
    "# \treturn y_smoothed\n",
    "\n",
    "\n",
    "\n",
    "# def calc_delta(x, y, x0, x_rmax, x_cm):\n",
    "# \t#     mask = np.logical_and(x >= x_rmax + x0, x <= x_cm + x0)   \n",
    "# \tmask = (x >= x_rmax + x0) * (x <= x_cm + x0) * (y>=0.35)\n",
    "# \tdelta_min = 0.5 - max(y[mask])\n",
    "# \tdelta_max = 0.5 - min(y[mask])\n",
    "# \tprint('***yMINMAX',min(y[mask]),max(y[mask]))\n",
    "# \tprint('----xMINMAX', min(x[mask]), max(x[mask]))\n",
    "\n",
    "# \tss = np.trapz(y=y[mask], x=x[mask])   \n",
    "\n",
    "# \t#     L = x_cm - x_rmax\n",
    "# \tL = x[mask][-1] - x[mask][0]\n",
    "# \trad_mean = ss/L\n",
    "# \tdelta_mean = 0.5 - rad_mean\n",
    "# \tprint('S=', ss, ' L=', L, 'x_cm=', x_cm, 'x_rmax=', x_rmax, 'rad_mean=', rad_mean, 'delta_mean=', delta_mean)\n",
    "# \tprint('delta_min=', delta_min, 'delta_max=', delta_max, 'delta_mean=', delta_mean)\n",
    "# \treturn delta_min, delta_max, delta_mean \n",
    "\n",
    "\n",
    "\n",
    "\n",
    "\n",
    "\n",
    "\n",
    "\n",
    "# '''\n",
    "# msize = 0.02\n",
    "# lwidth = 0.1\n",
    "# plt.figure()\n",
    "# #plot raw points\n",
    "# plt.plot(x, y, 'b.',  markersize=msize,  linewidth=lwidth, label='raw')\n",
    "# #plot after smoothing\n",
    "# plt.plot(XX, YY, 'k-',  markersize=msize,  linewidth=lwidth, label='smoothed line')\n",
    "# #plot vertical lines\n",
    "# plt.plot([x_peak, x_peak], [0,0.5], 'b:',  markersize=msize,  linewidth=0.5)\n",
    "# plt.plot([x_mean, x_mean], [0,0.5], 'b:',  markersize=msize,  linewidth=0.5)\n",
    "# plt.xlabel('x')\n",
    "# plt.ylabel('Radius')\n",
    "# plt.ylim(0, 0.5)\n",
    "# plt.grid()\n",
    "# plt.legend(['original', 'smoothed line'], loc='lower center')\n",
    "# fn = \"graph_r_over_x_t\" + str(timesteps[0]) + \".eps\"\n",
    "# plt.savefig(fn)\n",
    "# '''\n"
   ]
  },
  {
   "cell_type": "code",
   "execution_count": 423,
   "metadata": {},
   "outputs": [],
   "source": []
  },
  {
   "cell_type": "code",
   "execution_count": null,
   "metadata": {},
   "outputs": [],
   "source": []
  }
 ],
 "metadata": {
  "colab": {
   "name": "Methods of 2D points smoothing.ipynb",
   "provenance": []
  },
  "kernelspec": {
   "display_name": "Python 3",
   "language": "python",
   "name": "python3"
  },
  "language_info": {
   "codemirror_mode": {
    "name": "ipython",
    "version": 3
   },
   "file_extension": ".py",
   "mimetype": "text/x-python",
   "name": "python",
   "nbconvert_exporter": "python",
   "pygments_lexer": "ipython3",
   "version": "3.8.5"
  }
 },
 "nbformat": 4,
 "nbformat_minor": 1
}
