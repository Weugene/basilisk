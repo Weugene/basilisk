{
 "cells": [
  {
   "cell_type": "code",
   "execution_count": 80,
   "metadata": {},
   "outputs": [],
   "source": [
    "import numpy as np\n",
    "import plotly.graph_objects as go\n",
    "from pathlib import Path\n",
    "def plot_graph(list_x_, list_y_, names, xtitle, ytitle, image_name, mode=['lines+markers'],\\\n",
    "               xrange=[], yrange=[],\\\n",
    "\t\t\t   dash=['solid', 'dot', 'dash', 'longdash'],\\\n",
    "\t\t\t   colors=['blue', 'red', 'hsv(120,100,100)', 'green', 'black' ],\\\n",
    "\t\t\t   marker_size=15,\\\n",
    "\t\t\t   marker_style = ['circle', 'triangle-up', 'triangle-down','square', 'diamond', 'cross',  'x-thin', 'cross-thin' ],\\\n",
    "\t\t\t   width=1000, height=500, path='./'):\n",
    "\t\n",
    "\tlist_x, list_y = [], []\n",
    "\tfor i,x in enumerate(list_x_):\n",
    "\t\ty = list_y_[i]\n",
    "\t\tlist_x.append(np.array(x))\n",
    "\t\tlist_y.append(np.array(y))\n",
    "\tif mode == []:\n",
    "\t\tfor i in range(len(list_x)):\n",
    "\t\t\tmode.append('lines+markers')\n",
    "\tif xrange == []:\n",
    "\t\tminx, maxx = [], []\n",
    "\t\tfor i,x in enumerate(list_x):\n",
    "\t\t\tminx.append(x.min())\n",
    "\t\t\tmaxx.append(x.max())\n",
    "\t\txrange = [minx, maxx]\n",
    "\tif yrange == []:\n",
    "\t\tminy, maxy = [], []\n",
    "\t\tfor i,y in enumerate(list_y):\n",
    "\t\t\tminy.append(y.min())\n",
    "\t\t\tmaxy.append(y.max())\n",
    "\t\tyrange = [miny, maxy]\n",
    "\tfigborderlinesize = 0.7\n",
    "\tlegborderlinesize = 0.7\n",
    "\tyaxis = dict(\n",
    "\t\ttickfont = dict(\n",
    "\t\t\tfamily = 'Times New Roman',\n",
    "\t\t\tsize = 20,\n",
    "\t\t\tcolor = 'black'\n",
    "\t\t),\n",
    "\t\ttitlefont = dict(\n",
    "\t\t\tfamily = 'Times New Roman',\n",
    "\t\t\tsize = 25,\n",
    "\t\t\tcolor = 'black'\n",
    "\t\t),\n",
    "\t)\n",
    "\txaxis = dict(\n",
    "\t\ttickfont = dict(\n",
    "\t\t\tfamily = 'Times New Roman',\n",
    "\t\t\tsize = 20,\n",
    "\t\t\tcolor = 'black'\n",
    "\t\t),\n",
    "\t\ttitlefont = dict(\n",
    "\t\t\tfamily = 'Times New Roman',\n",
    "\t\t\tsize = 25,\n",
    "\t\t\tcolor = 'black'\n",
    "\t\t)\n",
    "\t)\n",
    "\n",
    "\taxis_style = dict(showline=True, gridwidth=1, gridcolor='lightgrey', linewidth=figborderlinesize, linecolor='black', mirror=True, ticks='outside',\n",
    "\t\t\t\t\t  tickfont = dict(family = 'Times New Roman', size = 20, color = 'black'))\n",
    "\tbg_style = {'plot_bgcolor': 'rgba(255, 255, 255, 1)', 'paper_bgcolor': 'rgba(255, 255, 255, 1)',}\n",
    "\n",
    "\n",
    "\tfig = go.Figure()\n",
    "\tfor i,x in enumerate(list_x):\n",
    "\t\tprint('curve number',i)        \n",
    "\t\ty = list_y[i]\n",
    "\t\tfig.add_trace(go.Scatter(x=x, y=y, name=names[i],\n",
    "\t\t\t\t\t\t\t\t mode=mode[i],\n",
    "\t\t\t\t\t\t\t\t marker=dict(\n",
    "\t\t\t\t\t\t\t\t\t size=marker_size,\n",
    "\t\t\t\t\t\t\t\t\t line=dict(\n",
    "\t\t\t\t\t\t\t\t\t\t color=colors[i],\n",
    "\t\t\t\t\t\t\t\t\t\t width=1\n",
    "\t\t\t\t\t\t\t\t\t )\n",
    "\t\t\t\t\t\t\t\t ),\n",
    "\t\t\t\t\t\t\t\t marker_symbol=marker_style[i],\n",
    "\t\t\t\t\t\t\t\t line=dict(color=colors[i], width=2, dash=dash[i]),\n",
    "\t\t\t\t\t\t\t\t textfont=dict(\n",
    "\t\t\t\t\t\t\t\t\t family=\"Times New Roman\",\n",
    "\t\t\t\t\t\t\t\t\t size=18,\n",
    "\t\t\t\t\t\t\t\t\t color=\"LightSeaGreen\")\n",
    "\t\t\t\t\t\t\t\t ))\n",
    "\tfig.update_layout(\n",
    "\t\twidth = width,\n",
    "\t\theight = height,\n",
    "\t\txaxis_title=xtitle,\n",
    "\t\tyaxis_title=ytitle,\n",
    "\t\tyaxis = yaxis,\n",
    "\t\txaxis = xaxis,\n",
    "\t\tshowlegend=True\n",
    "\t)\n",
    "\tfig.update_layout(bg_style)\n",
    "\tfig.update_xaxes(axis_style)\n",
    "\tfig.update_yaxes(axis_style)\n",
    "\tfig.update_layout(legend=dict(\n",
    "\t\t# yanchor=\"bottom\",\n",
    "\t\t# y=0.1,\n",
    "\t\t# xanchor=\"left\",\n",
    "\t\t# x=1.01,\n",
    "\t\tbgcolor=\"White\",\n",
    "\t\tbordercolor=\"Black\",\n",
    "\t\tborderwidth=figborderlinesize\n",
    "\t))\n",
    "\tfig.update_layout(\n",
    "\t\tautosize=False,\n",
    "\t\tmargin=dict(\n",
    "\t\t\tl=0,\n",
    "\t\t\tr=0,\n",
    "\t\t\tb=0,\n",
    "\t\t\tt=0,\n",
    "\t\t\tpad=0.1\n",
    "\t\t),\n",
    "\t\t#     paper_bgcolor=\"LightSteelBlue\",\n",
    "\t)\n",
    "\tfig.update_xaxes(range=xrange)\n",
    "\tfig.update_yaxes(range=yrange)\n",
    "\tfig.show()\n",
    "\tfn = path + image_name\n",
    "\tfig.write_image(str(Path(fn)), engine='kaleido')\n",
    "\tprint(\"Successfully generated:\", fn)"
   ]
  },
  {
   "cell_type": "markdown",
   "metadata": {},
   "source": [
    "# Task 1\n",
    "Do a study of the effect of the choice of polynomial interpolation points in the interval $[0, 1]$. Use the following three grid distributions of $N+1$ points each for Lagrange and Hermite interpolation.\n",
    "\n",
    "> Equispaced: $x_i =\\frac{i}{N},$\n",
    "\n",
    ">Chebyshev: $x_i =\\frac12( 1 - \\cos(\\frac{i\\pi}{N})),$\n",
    "\n",
    ">arc sine points: $x_i =\\frac12 + \\frac1\\pi\\sin^{-1}(\\frac{2i}{N}-1)$\n",
    "\n",
    "where $i = 0, . . . , N$ for all these distributions. For each of the following functions:\n",
    ">i. $(1+x^2)^{-1}$\n",
    "\n",
    ">ii. $(x-\\frac12)^2\\mathrm{sign}(x-\\frac12)$\n",
    "\n",
    ">iii. $|x − \\frac12|$\n",
    "\n",
    ">iv. $\\sqrt{1 − x^2}$\n",
    "\n",
    ">v. Heaviside function: ${\\begin{cases}0,&x<0;\\\\1,&x\\geqslant 0.\\end{cases}}$\n",
    "\n",
    ">(a) compute polynomial interpolants for all $3$ point sets for $N = 10, 20, 40,$ and $80$\n",
    "for Lagrange interpolant and for $N = 5, 10, 20,$ and $40$ for Hermite interpolant\n",
    "and plot it;\n",
    "\n",
    ">(b) estimate the maximum error each interpolant makes on the entire interval $[0, 1]$;\n",
    "\n",
    ">(c) plot these errors in log-log scale and estimate the order of convergence of the\n",
    "error as a function of $N$;\n",
    "\n",
    ">(d) discuss the effectiveness of the choice for interpolation points;\n",
    "\n",
    ">(e) compare Lagrange and Hermite interpolation.\n",
    "For Hermite interpolation, provide derivatives evaluated analytically."
   ]
  },
  {
   "cell_type": "markdown",
   "metadata": {},
   "source": [
    "# Define functions and their derivatives"
   ]
  },
  {
   "cell_type": "code",
   "execution_count": 81,
   "metadata": {},
   "outputs": [],
   "source": [
    "# define functions:\n",
    "def Runge(x):\n",
    "    return 1/(1 + x**2)\n",
    "\n",
    "def mod_sign(x):\n",
    "    return (x - 0.5)**2*np.sign(x - 0.5)\n",
    "\n",
    "def mod(x):\n",
    "    return np.abs(x - 0.5)\n",
    "    \n",
    "def sqrt_root(x):\n",
    "    return np.sqrt(1 - x**2)\n",
    "    \n",
    "def heaviside(x):\n",
    "    return np.heaviside(x, 1)\n",
    "\n",
    "# define derivative of functions:\n",
    "def Runge_diff(x):\n",
    "    return -2*x/(1+x**2)**2\n",
    "\n",
    "def mod_sign_diff(x):\n",
    "    return 2*(x-0.5)*np.sign(x-0.5)\n",
    "\n",
    "def mod_diff(x):\n",
    "    return np.sign(x-0.5)\n",
    "    \n",
    "def sqrt_root_diff(x):\n",
    "    return -x/np.sqrt(1.0-x**2)\n",
    "    \n",
    "def heaviside_diff(x):\n",
    "    f = heaviside(x)\n",
    "    return np.gradient(f)"
   ]
  },
  {
   "cell_type": "code",
   "execution_count": null,
   "metadata": {},
   "outputs": [],
   "source": []
  },
  {
   "attachments": {
    "image-3.png": {
     "image/png": "[encoded data removed]"
    },
    "image-4.png": {
     "image/png": "[encoded data removed]"
    }
   },
   "cell_type": "markdown",
   "metadata": {},
   "source": [
    "# ill-posed problems\n",
    "## Condition number:\n",
    "$$cond(f) = \\frac{|x||f'(x)|}{|f(x)|}$$\n",
    "\n",
    "due to poor mesh, poor numerical algorithm \n",
    "\n",
    "![image-4.png](attachment:image-4.png)\n",
    "## The Runge problem:\n",
    "![image-3.png](attachment:image-3.png)\n",
    "\n",
    "## Condition number for equispaced problem and Chebushev problem\n"
   ]
  },
  {
   "cell_type": "markdown",
   "metadata": {},
   "source": [
    "# Define Meshes"
   ]
  },
  {
   "cell_type": "code",
   "execution_count": 82,
   "metadata": {},
   "outputs": [],
   "source": [
    "def equispaced_mesh(t):\n",
    "    return t/t.shape\n",
    "\n",
    "def chebushev_mesh(t):\n",
    "    return 0.5*(1 - np.cos(t*np.pi/t.shape))\n",
    "\n",
    "def arcsin_mesh(t):\n",
    "    return 0.5 + (1/np.pi)*np.arcsin(2*t/t.shape - 1)\n",
    "                \n",
    "def Mesh(f_mesh, N):\n",
    "    t = np.arange(0,N)\n",
    "    return f_mesh(t)"
   ]
  },
  {
   "cell_type": "markdown",
   "metadata": {},
   "source": [
    "# Mesh Generation"
   ]
  },
  {
   "cell_type": "code",
   "execution_count": 83,
   "metadata": {},
   "outputs": [
    {
     "name": "stdout",
     "output_type": "stream",
     "text": [
      "curve number 0\n",
      "curve number 1\n",
      "curve number 2\n"
     ]
    },
    {
     "data": {
      "application/vnd.plotly.v1+json": {
       "config": {
        "plotlyServerURL": "https://plot.ly"
       },
       "data": [
        {
         "line": {
          "color": "blue",
          "dash": "solid",
          "width": 2
         },
         "marker": {
          "line": {
           "color": "blue",
           "width": 1
          },
          "size": 10,
          "symbol": "circle"
         },
         "mode": "markers",
         "name": "equispaced",
         "textfont": {
          "color": "LightSeaGreen",
          "family": "Times New Roman",
          "size": 18
         },
         "type": "scatter",
         "x": [
          0,
          0.2,
          0.4,
          0.6,
          0.8
         ],
         "y": [
          0,
          0,
          0,
          0,
          0
         ]
        },
        {
         "line": {
          "color": "red",
          "dash": "dot",
          "width": 2
         },
         "marker": {
          "line": {
           "color": "red",
           "width": 1
          },
          "size": 10,
          "symbol": "triangle-up"
         },
         "mode": "markers",
         "name": "chebushev",
         "textfont": {
          "color": "LightSeaGreen",
          "family": "Times New Roman",
          "size": 18
         },
         "type": "scatter",
         "x": [
          0,
          0.09549150281252627,
          0.3454915028125263,
          0.6545084971874737,
          0.9045084971874737
         ],
         "y": [
          1,
          1,
          1,
          1,
          1
         ]
        },
        {
         "line": {
          "color": "hsv(120,100,100)",
          "dash": "dash",
          "width": 2
         },
         "marker": {
          "line": {
           "color": "hsv(120,100,100)",
           "width": 1
          },
          "size": 10,
          "symbol": "triangle-down"
         },
         "mode": "markers",
         "name": "arcsin",
         "textfont": {
          "color": "LightSeaGreen",
          "family": "Times New Roman",
          "size": 18
         },
         "type": "scatter",
         "x": [
          0,
          0.2951672353008665,
          0.4359057831510251,
          0.5640942168489749,
          0.7048327646991335
         ],
         "y": [
          2,
          2,
          2,
          2,
          2
         ]
        }
       ],
       "layout": {
        "autosize": false,
        "height": 500,
        "legend": {
         "bgcolor": "White",
         "bordercolor": "Black",
         "borderwidth": 0.7
        },
        "margin": {
         "b": 0,
         "l": 0,
         "pad": 0.1,
         "r": 0,
         "t": 0
        },
        "paper_bgcolor": "rgba(255, 255, 255, 1)",
        "plot_bgcolor": "rgba(255, 255, 255, 1)",
        "showlegend": true,
        "template": {
         "data": {
          "bar": [
           {
            "error_x": {
             "color": "#2a3f5f"
            },
            "error_y": {
             "color": "#2a3f5f"
            },
            "marker": {
             "line": {
              "color": "#E5ECF6",
              "width": 0.5
             }
            },
            "type": "bar"
           }
          ],
          "barpolar": [
           {
            "marker": {
             "line": {
              "color": "#E5ECF6",
              "width": 0.5
             }
            },
            "type": "barpolar"
           }
          ],
          "carpet": [
           {
            "aaxis": {
             "endlinecolor": "#2a3f5f",
             "gridcolor": "white",
             "linecolor": "white",
             "minorgridcolor": "white",
             "startlinecolor": "#2a3f5f"
            },
            "baxis": {
             "endlinecolor": "#2a3f5f",
             "gridcolor": "white",
             "linecolor": "white",
             "minorgridcolor": "white",
             "startlinecolor": "#2a3f5f"
            },
            "type": "carpet"
           }
          ],
          "choropleth": [
           {
            "colorbar": {
             "outlinewidth": 0,
             "ticks": ""
            },
            "type": "choropleth"
           }
          ],
          "contour": [
           {
            "colorbar": {
             "outlinewidth": 0,
             "ticks": ""
            },
            "colorscale": [
             [
              0,
              "#0d0887"
             ],
             [
              0.1111111111111111,
              "#46039f"
             ],
             [
              0.2222222222222222,
              "#7201a8"
             ],
             [
              0.3333333333333333,
              "#9c179e"
             ],
             [
              0.4444444444444444,
              "#bd3786"
             ],
             [
              0.5555555555555556,
              "#d8576b"
             ],
             [
              0.6666666666666666,
              "#ed7953"
             ],
             [
              0.7777777777777778,
              "#fb9f3a"
             ],
             [
              0.8888888888888888,
              "#fdca26"
             ],
             [
              1,
              "#f0f921"
             ]
            ],
            "type": "contour"
           }
          ],
          "contourcarpet": [
           {
            "colorbar": {
             "outlinewidth": 0,
             "ticks": ""
            },
            "type": "contourcarpet"
           }
          ],
          "heatmap": [
           {
            "colorbar": {
             "outlinewidth": 0,
             "ticks": ""
            },
            "colorscale": [
             [
              0,
              "#0d0887"
             ],
             [
              0.1111111111111111,
              "#46039f"
             ],
             [
              0.2222222222222222,
              "#7201a8"
             ],
             [
              0.3333333333333333,
              "#9c179e"
             ],
             [
              0.4444444444444444,
              "#bd3786"
             ],
             [
              0.5555555555555556,
              "#d8576b"
             ],
             [
              0.6666666666666666,
              "#ed7953"
             ],
             [
              0.7777777777777778,
              "#fb9f3a"
             ],
             [
              0.8888888888888888,
              "#fdca26"
             ],
             [
              1,
              "#f0f921"
             ]
            ],
            "type": "heatmap"
           }
          ],
          "heatmapgl": [
           {
            "colorbar": {
             "outlinewidth": 0,
             "ticks": ""
            },
            "colorscale": [
             [
              0,
              "#0d0887"
             ],
             [
              0.1111111111111111,
              "#46039f"
             ],
             [
              0.2222222222222222,
              "#7201a8"
             ],
             [
              0.3333333333333333,
              "#9c179e"
             ],
             [
              0.4444444444444444,
              "#bd3786"
             ],
             [
              0.5555555555555556,
              "#d8576b"
             ],
             [
              0.6666666666666666,
              "#ed7953"
             ],
             [
              0.7777777777777778,
              "#fb9f3a"
             ],
             [
              0.8888888888888888,
              "#fdca26"
             ],
             [
              1,
              "#f0f921"
             ]
            ],
            "type": "heatmapgl"
           }
          ],
          "histogram": [
           {
            "marker": {
             "colorbar": {
              "outlinewidth": 0,
              "ticks": ""
             }
            },
            "type": "histogram"
           }
          ],
          "histogram2d": [
           {
            "colorbar": {
             "outlinewidth": 0,
             "ticks": ""
            },
            "colorscale": [
             [
              0,
              "#0d0887"
             ],
             [
              0.1111111111111111,
              "#46039f"
             ],
             [
              0.2222222222222222,
              "#7201a8"
             ],
             [
              0.3333333333333333,
              "#9c179e"
             ],
             [
              0.4444444444444444,
              "#bd3786"
             ],
             [
              0.5555555555555556,
              "#d8576b"
             ],
             [
              0.6666666666666666,
              "#ed7953"
             ],
             [
              0.7777777777777778,
              "#fb9f3a"
             ],
             [
              0.8888888888888888,
              "#fdca26"
             ],
             [
              1,
              "#f0f921"
             ]
            ],
            "type": "histogram2d"
           }
          ],
          "histogram2dcontour": [
           {
            "colorbar": {
             "outlinewidth": 0,
             "ticks": ""
            },
            "colorscale": [
             [
              0,
              "#0d0887"
             ],
             [
              0.1111111111111111,
              "#46039f"
             ],
             [
              0.2222222222222222,
              "#7201a8"
             ],
             [
              0.3333333333333333,
              "#9c179e"
             ],
             [
              0.4444444444444444,
              "#bd3786"
             ],
             [
              0.5555555555555556,
              "#d8576b"
             ],
             [
              0.6666666666666666,
              "#ed7953"
             ],
             [
              0.7777777777777778,
              "#fb9f3a"
             ],
             [
              0.8888888888888888,
              "#fdca26"
             ],
             [
              1,
              "#f0f921"
             ]
            ],
            "type": "histogram2dcontour"
           }
          ],
          "mesh3d": [
           {
            "colorbar": {
             "outlinewidth": 0,
             "ticks": ""
            },
            "type": "mesh3d"
           }
          ],
          "parcoords": [
           {
            "line": {
             "colorbar": {
              "outlinewidth": 0,
              "ticks": ""
             }
            },
            "type": "parcoords"
           }
          ],
          "pie": [
           {
            "automargin": true,
            "type": "pie"
           }
          ],
          "scatter": [
           {
            "marker": {
             "colorbar": {
              "outlinewidth": 0,
              "ticks": ""
             }
            },
            "type": "scatter"
           }
          ],
          "scatter3d": [
           {
            "line": {
             "colorbar": {
              "outlinewidth": 0,
              "ticks": ""
             }
            },
            "marker": {
             "colorbar": {
              "outlinewidth": 0,
              "ticks": ""
             }
            },
            "type": "scatter3d"
           }
          ],
          "scattercarpet": [
           {
            "marker": {
             "colorbar": {
              "outlinewidth": 0,
              "ticks": ""
             }
            },
            "type": "scattercarpet"
           }
          ],
          "scattergeo": [
           {
            "marker": {
             "colorbar": {
              "outlinewidth": 0,
              "ticks": ""
             }
            },
            "type": "scattergeo"
           }
          ],
          "scattergl": [
           {
            "marker": {
             "colorbar": {
              "outlinewidth": 0,
              "ticks": ""
             }
            },
            "type": "scattergl"
           }
          ],
          "scattermapbox": [
           {
            "marker": {
             "colorbar": {
              "outlinewidth": 0,
              "ticks": ""
             }
            },
            "type": "scattermapbox"
           }
          ],
          "scatterpolar": [
           {
            "marker": {
             "colorbar": {
              "outlinewidth": 0,
              "ticks": ""
             }
            },
            "type": "scatterpolar"
           }
          ],
          "scatterpolargl": [
           {
            "marker": {
             "colorbar": {
              "outlinewidth": 0,
              "ticks": ""
             }
            },
            "type": "scatterpolargl"
           }
          ],
          "scatterternary": [
           {
            "marker": {
             "colorbar": {
              "outlinewidth": 0,
              "ticks": ""
             }
            },
            "type": "scatterternary"
           }
          ],
          "surface": [
           {
            "colorbar": {
             "outlinewidth": 0,
             "ticks": ""
            },
            "colorscale": [
             [
              0,
              "#0d0887"
             ],
             [
              0.1111111111111111,
              "#46039f"
             ],
             [
              0.2222222222222222,
              "#7201a8"
             ],
             [
              0.3333333333333333,
              "#9c179e"
             ],
             [
              0.4444444444444444,
              "#bd3786"
             ],
             [
              0.5555555555555556,
              "#d8576b"
             ],
             [
              0.6666666666666666,
              "#ed7953"
             ],
             [
              0.7777777777777778,
              "#fb9f3a"
             ],
             [
              0.8888888888888888,
              "#fdca26"
             ],
             [
              1,
              "#f0f921"
             ]
            ],
            "type": "surface"
           }
          ],
          "table": [
           {
            "cells": {
             "fill": {
              "color": "#EBF0F8"
             },
             "line": {
              "color": "white"
             }
            },
            "header": {
             "fill": {
              "color": "#C8D4E3"
             },
             "line": {
              "color": "white"
             }
            },
            "type": "table"
           }
          ]
         },
         "layout": {
          "annotationdefaults": {
           "arrowcolor": "#2a3f5f",
           "arrowhead": 0,
           "arrowwidth": 1
          },
          "autotypenumbers": "strict",
          "coloraxis": {
           "colorbar": {
            "outlinewidth": 0,
            "ticks": ""
           }
          },
          "colorscale": {
           "diverging": [
            [
             0,
             "#8e0152"
            ],
            [
             0.1,
             "#c51b7d"
            ],
            [
             0.2,
             "#de77ae"
            ],
            [
             0.3,
             "#f1b6da"
            ],
            [
             0.4,
             "#fde0ef"
            ],
            [
             0.5,
             "#f7f7f7"
            ],
            [
             0.6,
             "#e6f5d0"
            ],
            [
             0.7,
             "#b8e186"
            ],
            [
             0.8,
             "#7fbc41"
            ],
            [
             0.9,
             "#4d9221"
            ],
            [
             1,
             "#276419"
            ]
           ],
           "sequential": [
            [
             0,
             "#0d0887"
            ],
            [
             0.1111111111111111,
             "#46039f"
            ],
            [
             0.2222222222222222,
             "#7201a8"
            ],
            [
             0.3333333333333333,
             "#9c179e"
            ],
            [
             0.4444444444444444,
             "#bd3786"
            ],
            [
             0.5555555555555556,
             "#d8576b"
            ],
            [
             0.6666666666666666,
             "#ed7953"
            ],
            [
             0.7777777777777778,
             "#fb9f3a"
            ],
            [
             0.8888888888888888,
             "#fdca26"
            ],
            [
             1,
             "#f0f921"
            ]
           ],
           "sequentialminus": [
            [
             0,
             "#0d0887"
            ],
            [
             0.1111111111111111,
             "#46039f"
            ],
            [
             0.2222222222222222,
             "#7201a8"
            ],
            [
             0.3333333333333333,
             "#9c179e"
            ],
            [
             0.4444444444444444,
             "#bd3786"
            ],
            [
             0.5555555555555556,
             "#d8576b"
            ],
            [
             0.6666666666666666,
             "#ed7953"
            ],
            [
             0.7777777777777778,
             "#fb9f3a"
            ],
            [
             0.8888888888888888,
             "#fdca26"
            ],
            [
             1,
             "#f0f921"
            ]
           ]
          },
          "colorway": [
           "#636efa",
           "#EF553B",
           "#00cc96",
           "#ab63fa",
           "#FFA15A",
           "#19d3f3",
           "#FF6692",
           "#B6E880",
           "#FF97FF",
           "#FECB52"
          ],
          "font": {
           "color": "#2a3f5f"
          },
          "geo": {
           "bgcolor": "white",
           "lakecolor": "white",
           "landcolor": "#E5ECF6",
           "showlakes": true,
           "showland": true,
           "subunitcolor": "white"
          },
          "hoverlabel": {
           "align": "left"
          },
          "hovermode": "closest",
          "mapbox": {
           "style": "light"
          },
          "paper_bgcolor": "white",
          "plot_bgcolor": "#E5ECF6",
          "polar": {
           "angularaxis": {
            "gridcolor": "white",
            "linecolor": "white",
            "ticks": ""
           },
           "bgcolor": "#E5ECF6",
           "radialaxis": {
            "gridcolor": "white",
            "linecolor": "white",
            "ticks": ""
           }
          },
          "scene": {
           "xaxis": {
            "backgroundcolor": "#E5ECF6",
            "gridcolor": "white",
            "gridwidth": 2,
            "linecolor": "white",
            "showbackground": true,
            "ticks": "",
            "zerolinecolor": "white"
           },
           "yaxis": {
            "backgroundcolor": "#E5ECF6",
            "gridcolor": "white",
            "gridwidth": 2,
            "linecolor": "white",
            "showbackground": true,
            "ticks": "",
            "zerolinecolor": "white"
           },
           "zaxis": {
            "backgroundcolor": "#E5ECF6",
            "gridcolor": "white",
            "gridwidth": 2,
            "linecolor": "white",
            "showbackground": true,
            "ticks": "",
            "zerolinecolor": "white"
           }
          },
          "shapedefaults": {
           "line": {
            "color": "#2a3f5f"
           }
          },
          "ternary": {
           "aaxis": {
            "gridcolor": "white",
            "linecolor": "white",
            "ticks": ""
           },
           "baxis": {
            "gridcolor": "white",
            "linecolor": "white",
            "ticks": ""
           },
           "bgcolor": "#E5ECF6",
           "caxis": {
            "gridcolor": "white",
            "linecolor": "white",
            "ticks": ""
           }
          },
          "title": {
           "x": 0.05
          },
          "xaxis": {
           "automargin": true,
           "gridcolor": "white",
           "linecolor": "white",
           "ticks": "",
           "title": {
            "standoff": 15
           },
           "zerolinecolor": "white",
           "zerolinewidth": 2
          },
          "yaxis": {
           "automargin": true,
           "gridcolor": "white",
           "linecolor": "white",
           "ticks": "",
           "title": {
            "standoff": 15
           },
           "zerolinecolor": "white",
           "zerolinewidth": 2
          }
         }
        },
        "width": 1000,
        "xaxis": {
         "gridcolor": "lightgrey",
         "gridwidth": 1,
         "linecolor": "black",
         "linewidth": 0.7,
         "mirror": true,
         "range": [
          [
           0,
           0,
           0
          ],
          [
           0.8,
           0.9045084971874737,
           0.7048327646991335
          ]
         ],
         "showline": true,
         "tickfont": {
          "color": "black",
          "family": "Times New Roman",
          "size": 20
         },
         "ticks": "outside",
         "title": {
          "font": {
           "color": "black",
           "family": "Times New Roman",
           "size": 25
          },
          "text": "x"
         }
        },
        "yaxis": {
         "gridcolor": "lightgrey",
         "gridwidth": 1,
         "linecolor": "black",
         "linewidth": 0.7,
         "mirror": true,
         "range": [
          [
           0,
           1,
           2
          ],
          [
           0,
           1,
           2
          ]
         ],
         "showline": true,
         "tickfont": {
          "color": "black",
          "family": "Times New Roman",
          "size": 20
         },
         "ticks": "outside",
         "title": {
          "font": {
           "color": "black",
           "family": "Times New Roman",
           "size": 25
          },
          "text": "-"
         }
        }
       }
      },
      "text/html": [
       "<div>                            <div id=\"b21cf206-1bd7-4480-a9b9-b479dad0608e\" class=\"plotly-graph-div\" style=\"height:500px; width:1000px;\"></div>            <script type=\"text/javascript\">                require([\"plotly\"], function(Plotly) {                    window.PLOTLYENV=window.PLOTLYENV || {};                                    if (document.getElementById(\"b21cf206-1bd7-4480-a9b9-b479dad0608e\")) {                    Plotly.newPlot(                        \"b21cf206-1bd7-4480-a9b9-b479dad0608e\",                        [{\"line\": {\"color\": \"blue\", \"dash\": \"solid\", \"width\": 2}, \"marker\": {\"line\": {\"color\": \"blue\", \"width\": 1}, \"size\": 10, \"symbol\": \"circle\"}, \"mode\": \"markers\", \"name\": \"equispaced\", \"textfont\": {\"color\": \"LightSeaGreen\", \"family\": \"Times New Roman\", \"size\": 18}, \"type\": \"scatter\", \"x\": [0.0, 0.2, 0.4, 0.6, 0.8], \"y\": [0.0, 0.0, 0.0, 0.0, 0.0]}, {\"line\": {\"color\": \"red\", \"dash\": \"dot\", \"width\": 2}, \"marker\": {\"line\": {\"color\": \"red\", \"width\": 1}, \"size\": 10, \"symbol\": \"triangle-up\"}, \"mode\": \"markers\", \"name\": \"chebushev\", \"textfont\": {\"color\": \"LightSeaGreen\", \"family\": \"Times New Roman\", \"size\": 18}, \"type\": \"scatter\", \"x\": [0.0, 0.09549150281252627, 0.3454915028125263, 0.6545084971874737, 0.9045084971874737], \"y\": [1.0, 1.0, 1.0, 1.0, 1.0]}, {\"line\": {\"color\": \"hsv(120,100,100)\", \"dash\": \"dash\", \"width\": 2}, \"marker\": {\"line\": {\"color\": \"hsv(120,100,100)\", \"width\": 1}, \"size\": 10, \"symbol\": \"triangle-down\"}, \"mode\": \"markers\", \"name\": \"arcsin\", \"textfont\": {\"color\": \"LightSeaGreen\", \"family\": \"Times New Roman\", \"size\": 18}, \"type\": \"scatter\", \"x\": [0.0, 0.2951672353008665, 0.4359057831510251, 0.5640942168489749, 0.7048327646991335], \"y\": [2.0, 2.0, 2.0, 2.0, 2.0]}],                        {\"autosize\": false, \"height\": 500, \"legend\": {\"bgcolor\": \"White\", \"bordercolor\": \"Black\", \"borderwidth\": 0.7}, \"margin\": {\"b\": 0, \"l\": 0, \"pad\": 0.1, \"r\": 0, \"t\": 0}, \"paper_bgcolor\": \"rgba(255, 255, 255, 1)\", \"plot_bgcolor\": \"rgba(255, 255, 255, 1)\", \"showlegend\": true, \"template\": {\"data\": {\"bar\": [{\"error_x\": {\"color\": \"#2a3f5f\"}, \"error_y\": {\"color\": \"#2a3f5f\"}, \"marker\": {\"line\": {\"color\": \"#E5ECF6\", \"width\": 0.5}}, \"type\": \"bar\"}], \"barpolar\": [{\"marker\": {\"line\": {\"color\": \"#E5ECF6\", \"width\": 0.5}}, \"type\": \"barpolar\"}], \"carpet\": [{\"aaxis\": {\"endlinecolor\": \"#2a3f5f\", \"gridcolor\": \"white\", \"linecolor\": \"white\", \"minorgridcolor\": \"white\", \"startlinecolor\": \"#2a3f5f\"}, \"baxis\": {\"endlinecolor\": \"#2a3f5f\", \"gridcolor\": \"white\", \"linecolor\": \"white\", \"minorgridcolor\": \"white\", \"startlinecolor\": \"#2a3f5f\"}, \"type\": \"carpet\"}], \"choropleth\": [{\"colorbar\": {\"outlinewidth\": 0, \"ticks\": \"\"}, \"type\": \"choropleth\"}], \"contour\": [{\"colorbar\": {\"outlinewidth\": 0, \"ticks\": \"\"}, \"colorscale\": [[0.0, \"#0d0887\"], [0.1111111111111111, \"#46039f\"], [0.2222222222222222, \"#7201a8\"], [0.3333333333333333, \"#9c179e\"], [0.4444444444444444, \"#bd3786\"], [0.5555555555555556, \"#d8576b\"], [0.6666666666666666, \"#ed7953\"], [0.7777777777777778, \"#fb9f3a\"], [0.8888888888888888, \"#fdca26\"], [1.0, \"#f0f921\"]], \"type\": \"contour\"}], \"contourcarpet\": [{\"colorbar\": {\"outlinewidth\": 0, \"ticks\": \"\"}, \"type\": \"contourcarpet\"}], \"heatmap\": [{\"colorbar\": {\"outlinewidth\": 0, \"ticks\": \"\"}, \"colorscale\": [[0.0, \"#0d0887\"], [0.1111111111111111, \"#46039f\"], [0.2222222222222222, \"#7201a8\"], [0.3333333333333333, \"#9c179e\"], [0.4444444444444444, \"#bd3786\"], [0.5555555555555556, \"#d8576b\"], [0.6666666666666666, \"#ed7953\"], [0.7777777777777778, \"#fb9f3a\"], [0.8888888888888888, \"#fdca26\"], [1.0, \"#f0f921\"]], \"type\": \"heatmap\"}], \"heatmapgl\": [{\"colorbar\": {\"outlinewidth\": 0, \"ticks\": \"\"}, \"colorscale\": [[0.0, \"#0d0887\"], [0.1111111111111111, \"#46039f\"], [0.2222222222222222, \"#7201a8\"], [0.3333333333333333, \"#9c179e\"], [0.4444444444444444, \"#bd3786\"], [0.5555555555555556, \"#d8576b\"], [0.6666666666666666, \"#ed7953\"], [0.7777777777777778, \"#fb9f3a\"], [0.8888888888888888, \"#fdca26\"], [1.0, \"#f0f921\"]], \"type\": \"heatmapgl\"}], \"histogram\": [{\"marker\": {\"colorbar\": {\"outlinewidth\": 0, \"ticks\": \"\"}}, \"type\": \"histogram\"}], \"histogram2d\": [{\"colorbar\": {\"outlinewidth\": 0, \"ticks\": \"\"}, \"colorscale\": [[0.0, \"#0d0887\"], [0.1111111111111111, \"#46039f\"], [0.2222222222222222, \"#7201a8\"], [0.3333333333333333, \"#9c179e\"], [0.4444444444444444, \"#bd3786\"], [0.5555555555555556, \"#d8576b\"], [0.6666666666666666, \"#ed7953\"], [0.7777777777777778, \"#fb9f3a\"], [0.8888888888888888, \"#fdca26\"], [1.0, \"#f0f921\"]], \"type\": \"histogram2d\"}], \"histogram2dcontour\": [{\"colorbar\": {\"outlinewidth\": 0, \"ticks\": \"\"}, \"colorscale\": [[0.0, \"#0d0887\"], [0.1111111111111111, \"#46039f\"], [0.2222222222222222, \"#7201a8\"], [0.3333333333333333, \"#9c179e\"], [0.4444444444444444, \"#bd3786\"], [0.5555555555555556, \"#d8576b\"], [0.6666666666666666, \"#ed7953\"], [0.7777777777777778, \"#fb9f3a\"], [0.8888888888888888, \"#fdca26\"], [1.0, \"#f0f921\"]], \"type\": \"histogram2dcontour\"}], \"mesh3d\": [{\"colorbar\": {\"outlinewidth\": 0, \"ticks\": \"\"}, \"type\": \"mesh3d\"}], \"parcoords\": [{\"line\": {\"colorbar\": {\"outlinewidth\": 0, \"ticks\": \"\"}}, \"type\": \"parcoords\"}], \"pie\": [{\"automargin\": true, \"type\": \"pie\"}], \"scatter\": [{\"marker\": {\"colorbar\": {\"outlinewidth\": 0, \"ticks\": \"\"}}, \"type\": \"scatter\"}], \"scatter3d\": [{\"line\": {\"colorbar\": {\"outlinewidth\": 0, \"ticks\": \"\"}}, \"marker\": {\"colorbar\": {\"outlinewidth\": 0, \"ticks\": \"\"}}, \"type\": \"scatter3d\"}], \"scattercarpet\": [{\"marker\": {\"colorbar\": {\"outlinewidth\": 0, \"ticks\": \"\"}}, \"type\": \"scattercarpet\"}], \"scattergeo\": [{\"marker\": {\"colorbar\": {\"outlinewidth\": 0, \"ticks\": \"\"}}, \"type\": \"scattergeo\"}], \"scattergl\": [{\"marker\": {\"colorbar\": {\"outlinewidth\": 0, \"ticks\": \"\"}}, \"type\": \"scattergl\"}], \"scattermapbox\": [{\"marker\": {\"colorbar\": {\"outlinewidth\": 0, \"ticks\": \"\"}}, \"type\": \"scattermapbox\"}], \"scatterpolar\": [{\"marker\": {\"colorbar\": {\"outlinewidth\": 0, \"ticks\": \"\"}}, \"type\": \"scatterpolar\"}], \"scatterpolargl\": [{\"marker\": {\"colorbar\": {\"outlinewidth\": 0, \"ticks\": \"\"}}, \"type\": \"scatterpolargl\"}], \"scatterternary\": [{\"marker\": {\"colorbar\": {\"outlinewidth\": 0, \"ticks\": \"\"}}, \"type\": \"scatterternary\"}], \"surface\": [{\"colorbar\": {\"outlinewidth\": 0, \"ticks\": \"\"}, \"colorscale\": [[0.0, \"#0d0887\"], [0.1111111111111111, \"#46039f\"], [0.2222222222222222, \"#7201a8\"], [0.3333333333333333, \"#9c179e\"], [0.4444444444444444, \"#bd3786\"], [0.5555555555555556, \"#d8576b\"], [0.6666666666666666, \"#ed7953\"], [0.7777777777777778, \"#fb9f3a\"], [0.8888888888888888, \"#fdca26\"], [1.0, \"#f0f921\"]], \"type\": \"surface\"}], \"table\": [{\"cells\": {\"fill\": {\"color\": \"#EBF0F8\"}, \"line\": {\"color\": \"white\"}}, \"header\": {\"fill\": {\"color\": \"#C8D4E3\"}, \"line\": {\"color\": \"white\"}}, \"type\": \"table\"}]}, \"layout\": {\"annotationdefaults\": {\"arrowcolor\": \"#2a3f5f\", \"arrowhead\": 0, \"arrowwidth\": 1}, \"autotypenumbers\": \"strict\", \"coloraxis\": {\"colorbar\": {\"outlinewidth\": 0, \"ticks\": \"\"}}, \"colorscale\": {\"diverging\": [[0, \"#8e0152\"], [0.1, \"#c51b7d\"], [0.2, \"#de77ae\"], [0.3, \"#f1b6da\"], [0.4, \"#fde0ef\"], [0.5, \"#f7f7f7\"], [0.6, \"#e6f5d0\"], [0.7, \"#b8e186\"], [0.8, \"#7fbc41\"], [0.9, \"#4d9221\"], [1, \"#276419\"]], \"sequential\": [[0.0, \"#0d0887\"], [0.1111111111111111, \"#46039f\"], [0.2222222222222222, \"#7201a8\"], [0.3333333333333333, \"#9c179e\"], [0.4444444444444444, \"#bd3786\"], [0.5555555555555556, \"#d8576b\"], [0.6666666666666666, \"#ed7953\"], [0.7777777777777778, \"#fb9f3a\"], [0.8888888888888888, \"#fdca26\"], [1.0, \"#f0f921\"]], \"sequentialminus\": [[0.0, \"#0d0887\"], [0.1111111111111111, \"#46039f\"], [0.2222222222222222, \"#7201a8\"], [0.3333333333333333, \"#9c179e\"], [0.4444444444444444, \"#bd3786\"], [0.5555555555555556, \"#d8576b\"], [0.6666666666666666, \"#ed7953\"], [0.7777777777777778, \"#fb9f3a\"], [0.8888888888888888, \"#fdca26\"], [1.0, \"#f0f921\"]]}, \"colorway\": [\"#636efa\", \"#EF553B\", \"#00cc96\", \"#ab63fa\", \"#FFA15A\", \"#19d3f3\", \"#FF6692\", \"#B6E880\", \"#FF97FF\", \"#FECB52\"], \"font\": {\"color\": \"#2a3f5f\"}, \"geo\": {\"bgcolor\": \"white\", \"lakecolor\": \"white\", \"landcolor\": \"#E5ECF6\", \"showlakes\": true, \"showland\": true, \"subunitcolor\": \"white\"}, \"hoverlabel\": {\"align\": \"left\"}, \"hovermode\": \"closest\", \"mapbox\": {\"style\": \"light\"}, \"paper_bgcolor\": \"white\", \"plot_bgcolor\": \"#E5ECF6\", \"polar\": {\"angularaxis\": {\"gridcolor\": \"white\", \"linecolor\": \"white\", \"ticks\": \"\"}, \"bgcolor\": \"#E5ECF6\", \"radialaxis\": {\"gridcolor\": \"white\", \"linecolor\": \"white\", \"ticks\": \"\"}}, \"scene\": {\"xaxis\": {\"backgroundcolor\": \"#E5ECF6\", \"gridcolor\": \"white\", \"gridwidth\": 2, \"linecolor\": \"white\", \"showbackground\": true, \"ticks\": \"\", \"zerolinecolor\": \"white\"}, \"yaxis\": {\"backgroundcolor\": \"#E5ECF6\", \"gridcolor\": \"white\", \"gridwidth\": 2, \"linecolor\": \"white\", \"showbackground\": true, \"ticks\": \"\", \"zerolinecolor\": \"white\"}, \"zaxis\": {\"backgroundcolor\": \"#E5ECF6\", \"gridcolor\": \"white\", \"gridwidth\": 2, \"linecolor\": \"white\", \"showbackground\": true, \"ticks\": \"\", \"zerolinecolor\": \"white\"}}, \"shapedefaults\": {\"line\": {\"color\": \"#2a3f5f\"}}, \"ternary\": {\"aaxis\": {\"gridcolor\": \"white\", \"linecolor\": \"white\", \"ticks\": \"\"}, \"baxis\": {\"gridcolor\": \"white\", \"linecolor\": \"white\", \"ticks\": \"\"}, \"bgcolor\": \"#E5ECF6\", \"caxis\": {\"gridcolor\": \"white\", \"linecolor\": \"white\", \"ticks\": \"\"}}, \"title\": {\"x\": 0.05}, \"xaxis\": {\"automargin\": true, \"gridcolor\": \"white\", \"linecolor\": \"white\", \"ticks\": \"\", \"title\": {\"standoff\": 15}, \"zerolinecolor\": \"white\", \"zerolinewidth\": 2}, \"yaxis\": {\"automargin\": true, \"gridcolor\": \"white\", \"linecolor\": \"white\", \"ticks\": \"\", \"title\": {\"standoff\": 15}, \"zerolinecolor\": \"white\", \"zerolinewidth\": 2}}}, \"width\": 1000, \"xaxis\": {\"gridcolor\": \"lightgrey\", \"gridwidth\": 1, \"linecolor\": \"black\", \"linewidth\": 0.7, \"mirror\": true, \"range\": [[0.0, 0.0, 0.0], [0.8, 0.9045084971874737, 0.7048327646991335]], \"showline\": true, \"tickfont\": {\"color\": \"black\", \"family\": \"Times New Roman\", \"size\": 20}, \"ticks\": \"outside\", \"title\": {\"font\": {\"color\": \"black\", \"family\": \"Times New Roman\", \"size\": 25}, \"text\": \"x\"}}, \"yaxis\": {\"gridcolor\": \"lightgrey\", \"gridwidth\": 1, \"linecolor\": \"black\", \"linewidth\": 0.7, \"mirror\": true, \"range\": [[0.0, 1.0, 2.0], [0.0, 1.0, 2.0]], \"showline\": true, \"tickfont\": {\"color\": \"black\", \"family\": \"Times New Roman\", \"size\": 20}, \"ticks\": \"outside\", \"title\": {\"font\": {\"color\": \"black\", \"family\": \"Times New Roman\", \"size\": 25}, \"text\": \"-\"}}},                        {\"responsive\": true}                    ).then(function(){\n",
       "                            \n",
       "var gd = document.getElementById('b21cf206-1bd7-4480-a9b9-b479dad0608e');\n",
       "var x = new MutationObserver(function (mutations, observer) {{\n",
       "        var display = window.getComputedStyle(gd).display;\n",
       "        if (!display || display === 'none') {{\n",
       "            console.log([gd, 'removed!']);\n",
       "            Plotly.purge(gd);\n",
       "            observer.disconnect();\n",
       "        }}\n",
       "}});\n",
       "\n",
       "// Listen for the removal of the full notebook cells\n",
       "var notebookContainer = gd.closest('#notebook-container');\n",
       "if (notebookContainer) {{\n",
       "    x.observe(notebookContainer, {childList: true});\n",
       "}}\n",
       "\n",
       "// Listen for the clearing of the current output cell\n",
       "var outputEl = gd.closest('.output');\n",
       "if (outputEl) {{\n",
       "    x.observe(outputEl, {childList: true});\n",
       "}}\n",
       "\n",
       "                        })                };                });            </script>        </div>"
      ]
     },
     "metadata": {},
     "output_type": "display_data"
    },
    {
     "name": "stdout",
     "output_type": "stream",
     "text": [
      "Successfully generated: ./meshes.pdf\n"
     ]
    }
   ],
   "source": [
    "N = 5\n",
    "list_x, list_y = [], []\n",
    "\n",
    "f = Runge\n",
    "df = Runge_diff\n",
    "\n",
    "# Generation of equispaced mesh\n",
    "xi_eq = Mesh(equispaced_mesh, N)\n",
    "fi_eq = f(xi_eq)\n",
    "list_x.append(xi_eq)\n",
    "list_y.append(np.zeros(N))\n",
    "\n",
    "# Generation of Chebushev mesh\n",
    "xi_cheb = Mesh(chebushev_mesh, N)\n",
    "fi_cheb = f(xi_cheb)\n",
    "list_x.append(xi_cheb)\n",
    "list_y.append(np.ones(N))\n",
    "\n",
    "# Generation of arcsin mesh\n",
    "xi_arc = Mesh(arcsin_mesh, N)\n",
    "fi_arc = f(xi_arc)\n",
    "list_x.append(xi_arc)\n",
    "list_y.append(2*np.ones(N))\n",
    "\n",
    "fn = \"meshes.pdf\"\n",
    "plot_graph(list_x, list_y, names=['equispaced', 'chebushev', 'arcsin'], xtitle='x', ytitle='-', \\\n",
    "            image_name=fn, mode=['markers','markers','markers'],\\\n",
    "#             xrange=[0,4], yrange=[0,0.45],\\\n",
    "#             dash=['solid', 'solid', 'solid', 'dash', 'dash', 'dash', 'dash', 'dash'],\\\n",
    "            colors=['blue', 'red', 'hsv(120,100,100)', 'green', 'indigo', 'aqua', 'goldenrod', 'black', 'pink'],\\\n",
    "            marker_size=10,\\\n",
    "            marker_style = ['circle', 'triangle-up', 'triangle-down','square', 'diamond', 'cross',  'x-thin', 'cross-thin', 'circle', 'triangle-up', 'triangle-down' ],\\\n",
    "            width=1000, height=500, path=\"./\")"
   ]
  },
  {
   "attachments": {
    "image.png": {
     "image/png": "[encoded data removed]"
    }
   },
   "cell_type": "markdown",
   "metadata": {},
   "source": [
    "# Some hints:\n",
    "\n",
    "![image.png](attachment:image.png)"
   ]
  },
  {
   "cell_type": "code",
   "execution_count": 84,
   "metadata": {},
   "outputs": [],
   "source": [
    "class LagrangePoly:\n",
    "\n",
    "    def __init__(self, X, Y):\n",
    "        self.n = X.shape[0]\n",
    "        self.X = X\n",
    "        self.Y = Y\n",
    "\n",
    "    def basis(self, x, j):\n",
    "        b = [(x - self.X[m]) / (self.X[j] - self.X[m])\n",
    "             for m in range(self.n) if m != j]\n",
    "        return np.prod(b, axis=0)\n",
    "\n",
    "    def interpolate(self, x):\n",
    "        b = [self.Y[j]*self.basis(x, j) for j in range(self.n)]\n",
    "        return np.sum(b, axis=0)"
   ]
  },
  {
   "cell_type": "code",
   "execution_count": 85,
   "metadata": {},
   "outputs": [
    {
     "name": "stdout",
     "output_type": "stream",
     "text": [
      "curve number 0\n",
      "curve number 1\n",
      "curve number 2\n"
     ]
    },
    {
     "data": {
      "application/vnd.plotly.v1+json": {
       "config": {
        "plotlyServerURL": "https://plot.ly"
       },
       "data": [
        {
         "line": {
          "color": "blue",
          "dash": "solid",
          "width": 2
         },
         "marker": {
          "line": {
           "color": "blue",
           "width": 1
          },
          "size": 10,
          "symbol": "circle"
         },
         "mode": "markers",
         "name": "equispaced",
         "textfont": {
          "color": "LightSeaGreen",
          "family": "Times New Roman",
          "size": 18
         },
         "type": "scatter",
         "x": [
          0,
          0.2,
          0.4,
          0.6,
          0.8
         ],
         "y": [
          1,
          0.9615384615384615,
          0.8620689655172413,
          0.7352941176470589,
          0.6097560975609756
         ]
        },
        {
         "line": {
          "color": "red",
          "dash": "dot",
          "width": 2
         },
         "marker": {
          "line": {
           "color": "red",
           "width": 1
          },
          "size": 10,
          "symbol": "triangle-up"
         },
         "mode": "markers",
         "name": "chebushev",
         "textfont": {
          "color": "LightSeaGreen",
          "family": "Times New Roman",
          "size": 18
         },
         "type": "scatter",
         "x": [
          0,
          0.09549150281252627,
          0.3454915028125263,
          0.6545084971874737,
          0.9045084971874737
         ],
         "y": [
          1,
          0.9909637708942952,
          0.8933641441458571,
          0.7000931396748103,
          0.5500139748560623
         ]
        },
        {
         "line": {
          "color": "hsv(120,100,100)",
          "dash": "dash",
          "width": 2
         },
         "marker": {
          "line": {
           "color": "hsv(120,100,100)",
           "width": 1
          },
          "size": 10,
          "symbol": "triangle-down"
         },
         "mode": "markers",
         "name": "arcsin",
         "textfont": {
          "color": "LightSeaGreen",
          "family": "Times New Roman",
          "size": 18
         },
         "type": "scatter",
         "x": [
          0,
          0.2951672353008665,
          0.4359057831510251,
          0.5640942168489749,
          0.7048327646991335
         ],
         "y": [
          1,
          0.9198585247916148,
          0.8403263529247416,
          0.7586089107970275,
          0.6680967383384773
         ]
        }
       ],
       "layout": {
        "autosize": false,
        "height": 500,
        "legend": {
         "bgcolor": "White",
         "bordercolor": "Black",
         "borderwidth": 0.7
        },
        "margin": {
         "b": 0,
         "l": 0,
         "pad": 0.1,
         "r": 0,
         "t": 0
        },
        "paper_bgcolor": "rgba(255, 255, 255, 1)",
        "plot_bgcolor": "rgba(255, 255, 255, 1)",
        "showlegend": true,
        "template": {
         "data": {
          "bar": [
           {
            "error_x": {
             "color": "#2a3f5f"
            },
            "error_y": {
             "color": "#2a3f5f"
            },
            "marker": {
             "line": {
              "color": "#E5ECF6",
              "width": 0.5
             }
            },
            "type": "bar"
           }
          ],
          "barpolar": [
           {
            "marker": {
             "line": {
              "color": "#E5ECF6",
              "width": 0.5
             }
            },
            "type": "barpolar"
           }
          ],
          "carpet": [
           {
            "aaxis": {
             "endlinecolor": "#2a3f5f",
             "gridcolor": "white",
             "linecolor": "white",
             "minorgridcolor": "white",
             "startlinecolor": "#2a3f5f"
            },
            "baxis": {
             "endlinecolor": "#2a3f5f",
             "gridcolor": "white",
             "linecolor": "white",
             "minorgridcolor": "white",
             "startlinecolor": "#2a3f5f"
            },
            "type": "carpet"
           }
          ],
          "choropleth": [
           {
            "colorbar": {
             "outlinewidth": 0,
             "ticks": ""
            },
            "type": "choropleth"
           }
          ],
          "contour": [
           {
            "colorbar": {
             "outlinewidth": 0,
             "ticks": ""
            },
            "colorscale": [
             [
              0,
              "#0d0887"
             ],
             [
              0.1111111111111111,
              "#46039f"
             ],
             [
              0.2222222222222222,
              "#7201a8"
             ],
             [
              0.3333333333333333,
              "#9c179e"
             ],
             [
              0.4444444444444444,
              "#bd3786"
             ],
             [
              0.5555555555555556,
              "#d8576b"
             ],
             [
              0.6666666666666666,
              "#ed7953"
             ],
             [
              0.7777777777777778,
              "#fb9f3a"
             ],
             [
              0.8888888888888888,
              "#fdca26"
             ],
             [
              1,
              "#f0f921"
             ]
            ],
            "type": "contour"
           }
          ],
          "contourcarpet": [
           {
            "colorbar": {
             "outlinewidth": 0,
             "ticks": ""
            },
            "type": "contourcarpet"
           }
          ],
          "heatmap": [
           {
            "colorbar": {
             "outlinewidth": 0,
             "ticks": ""
            },
            "colorscale": [
             [
              0,
              "#0d0887"
             ],
             [
              0.1111111111111111,
              "#46039f"
             ],
             [
              0.2222222222222222,
              "#7201a8"
             ],
             [
              0.3333333333333333,
              "#9c179e"
             ],
             [
              0.4444444444444444,
              "#bd3786"
             ],
             [
              0.5555555555555556,
              "#d8576b"
             ],
             [
              0.6666666666666666,
              "#ed7953"
             ],
             [
              0.7777777777777778,
              "#fb9f3a"
             ],
             [
              0.8888888888888888,
              "#fdca26"
             ],
             [
              1,
              "#f0f921"
             ]
            ],
            "type": "heatmap"
           }
          ],
          "heatmapgl": [
           {
            "colorbar": {
             "outlinewidth": 0,
             "ticks": ""
            },
            "colorscale": [
             [
              0,
              "#0d0887"
             ],
             [
              0.1111111111111111,
              "#46039f"
             ],
             [
              0.2222222222222222,
              "#7201a8"
             ],
             [
              0.3333333333333333,
              "#9c179e"
             ],
             [
              0.4444444444444444,
              "#bd3786"
             ],
             [
              0.5555555555555556,
              "#d8576b"
             ],
             [
              0.6666666666666666,
              "#ed7953"
             ],
             [
              0.7777777777777778,
              "#fb9f3a"
             ],
             [
              0.8888888888888888,
              "#fdca26"
             ],
             [
              1,
              "#f0f921"
             ]
            ],
            "type": "heatmapgl"
           }
          ],
          "histogram": [
           {
            "marker": {
             "colorbar": {
              "outlinewidth": 0,
              "ticks": ""
             }
            },
            "type": "histogram"
           }
          ],
          "histogram2d": [
           {
            "colorbar": {
             "outlinewidth": 0,
             "ticks": ""
            },
            "colorscale": [
             [
              0,
              "#0d0887"
             ],
             [
              0.1111111111111111,
              "#46039f"
             ],
             [
              0.2222222222222222,
              "#7201a8"
             ],
             [
              0.3333333333333333,
              "#9c179e"
             ],
             [
              0.4444444444444444,
              "#bd3786"
             ],
             [
              0.5555555555555556,
              "#d8576b"
             ],
             [
              0.6666666666666666,
              "#ed7953"
             ],
             [
              0.7777777777777778,
              "#fb9f3a"
             ],
             [
              0.8888888888888888,
              "#fdca26"
             ],
             [
              1,
              "#f0f921"
             ]
            ],
            "type": "histogram2d"
           }
          ],
          "histogram2dcontour": [
           {
            "colorbar": {
             "outlinewidth": 0,
             "ticks": ""
            },
            "colorscale": [
             [
              0,
              "#0d0887"
             ],
             [
              0.1111111111111111,
              "#46039f"
             ],
             [
              0.2222222222222222,
              "#7201a8"
             ],
             [
              0.3333333333333333,
              "#9c179e"
             ],
             [
              0.4444444444444444,
              "#bd3786"
             ],
             [
              0.5555555555555556,
              "#d8576b"
             ],
             [
              0.6666666666666666,
              "#ed7953"
             ],
             [
              0.7777777777777778,
              "#fb9f3a"
             ],
             [
              0.8888888888888888,
              "#fdca26"
             ],
             [
              1,
              "#f0f921"
             ]
            ],
            "type": "histogram2dcontour"
           }
          ],
          "mesh3d": [
           {
            "colorbar": {
             "outlinewidth": 0,
             "ticks": ""
            },
            "type": "mesh3d"
           }
          ],
          "parcoords": [
           {
            "line": {
             "colorbar": {
              "outlinewidth": 0,
              "ticks": ""
             }
            },
            "type": "parcoords"
           }
          ],
          "pie": [
           {
            "automargin": true,
            "type": "pie"
           }
          ],
          "scatter": [
           {
            "marker": {
             "colorbar": {
              "outlinewidth": 0,
              "ticks": ""
             }
            },
            "type": "scatter"
           }
          ],
          "scatter3d": [
           {
            "line": {
             "colorbar": {
              "outlinewidth": 0,
              "ticks": ""
             }
            },
            "marker": {
             "colorbar": {
              "outlinewidth": 0,
              "ticks": ""
             }
            },
            "type": "scatter3d"
           }
          ],
          "scattercarpet": [
           {
            "marker": {
             "colorbar": {
              "outlinewidth": 0,
              "ticks": ""
             }
            },
            "type": "scattercarpet"
           }
          ],
          "scattergeo": [
           {
            "marker": {
             "colorbar": {
              "outlinewidth": 0,
              "ticks": ""
             }
            },
            "type": "scattergeo"
           }
          ],
          "scattergl": [
           {
            "marker": {
             "colorbar": {
              "outlinewidth": 0,
              "ticks": ""
             }
            },
            "type": "scattergl"
           }
          ],
          "scattermapbox": [
           {
            "marker": {
             "colorbar": {
              "outlinewidth": 0,
              "ticks": ""
             }
            },
            "type": "scattermapbox"
           }
          ],
          "scatterpolar": [
           {
            "marker": {
             "colorbar": {
              "outlinewidth": 0,
              "ticks": ""
             }
            },
            "type": "scatterpolar"
           }
          ],
          "scatterpolargl": [
           {
            "marker": {
             "colorbar": {
              "outlinewidth": 0,
              "ticks": ""
             }
            },
            "type": "scatterpolargl"
           }
          ],
          "scatterternary": [
           {
            "marker": {
             "colorbar": {
              "outlinewidth": 0,
              "ticks": ""
             }
            },
            "type": "scatterternary"
           }
          ],
          "surface": [
           {
            "colorbar": {
             "outlinewidth": 0,
             "ticks": ""
            },
            "colorscale": [
             [
              0,
              "#0d0887"
             ],
             [
              0.1111111111111111,
              "#46039f"
             ],
             [
              0.2222222222222222,
              "#7201a8"
             ],
             [
              0.3333333333333333,
              "#9c179e"
             ],
             [
              0.4444444444444444,
              "#bd3786"
             ],
             [
              0.5555555555555556,
              "#d8576b"
             ],
             [
              0.6666666666666666,
              "#ed7953"
             ],
             [
              0.7777777777777778,
              "#fb9f3a"
             ],
             [
              0.8888888888888888,
              "#fdca26"
             ],
             [
              1,
              "#f0f921"
             ]
            ],
            "type": "surface"
           }
          ],
          "table": [
           {
            "cells": {
             "fill": {
              "color": "#EBF0F8"
             },
             "line": {
              "color": "white"
             }
            },
            "header": {
             "fill": {
              "color": "#C8D4E3"
             },
             "line": {
              "color": "white"
             }
            },
            "type": "table"
           }
          ]
         },
         "layout": {
          "annotationdefaults": {
           "arrowcolor": "#2a3f5f",
           "arrowhead": 0,
           "arrowwidth": 1
          },
          "autotypenumbers": "strict",
          "coloraxis": {
           "colorbar": {
            "outlinewidth": 0,
            "ticks": ""
           }
          },
          "colorscale": {
           "diverging": [
            [
             0,
             "#8e0152"
            ],
            [
             0.1,
             "#c51b7d"
            ],
            [
             0.2,
             "#de77ae"
            ],
            [
             0.3,
             "#f1b6da"
            ],
            [
             0.4,
             "#fde0ef"
            ],
            [
             0.5,
             "#f7f7f7"
            ],
            [
             0.6,
             "#e6f5d0"
            ],
            [
             0.7,
             "#b8e186"
            ],
            [
             0.8,
             "#7fbc41"
            ],
            [
             0.9,
             "#4d9221"
            ],
            [
             1,
             "#276419"
            ]
           ],
           "sequential": [
            [
             0,
             "#0d0887"
            ],
            [
             0.1111111111111111,
             "#46039f"
            ],
            [
             0.2222222222222222,
             "#7201a8"
            ],
            [
             0.3333333333333333,
             "#9c179e"
            ],
            [
             0.4444444444444444,
             "#bd3786"
            ],
            [
             0.5555555555555556,
             "#d8576b"
            ],
            [
             0.6666666666666666,
             "#ed7953"
            ],
            [
             0.7777777777777778,
             "#fb9f3a"
            ],
            [
             0.8888888888888888,
             "#fdca26"
            ],
            [
             1,
             "#f0f921"
            ]
           ],
           "sequentialminus": [
            [
             0,
             "#0d0887"
            ],
            [
             0.1111111111111111,
             "#46039f"
            ],
            [
             0.2222222222222222,
             "#7201a8"
            ],
            [
             0.3333333333333333,
             "#9c179e"
            ],
            [
             0.4444444444444444,
             "#bd3786"
            ],
            [
             0.5555555555555556,
             "#d8576b"
            ],
            [
             0.6666666666666666,
             "#ed7953"
            ],
            [
             0.7777777777777778,
             "#fb9f3a"
            ],
            [
             0.8888888888888888,
             "#fdca26"
            ],
            [
             1,
             "#f0f921"
            ]
           ]
          },
          "colorway": [
           "#636efa",
           "#EF553B",
           "#00cc96",
           "#ab63fa",
           "#FFA15A",
           "#19d3f3",
           "#FF6692",
           "#B6E880",
           "#FF97FF",
           "#FECB52"
          ],
          "font": {
           "color": "#2a3f5f"
          },
          "geo": {
           "bgcolor": "white",
           "lakecolor": "white",
           "landcolor": "#E5ECF6",
           "showlakes": true,
           "showland": true,
           "subunitcolor": "white"
          },
          "hoverlabel": {
           "align": "left"
          },
          "hovermode": "closest",
          "mapbox": {
           "style": "light"
          },
          "paper_bgcolor": "white",
          "plot_bgcolor": "#E5ECF6",
          "polar": {
           "angularaxis": {
            "gridcolor": "white",
            "linecolor": "white",
            "ticks": ""
           },
           "bgcolor": "#E5ECF6",
           "radialaxis": {
            "gridcolor": "white",
            "linecolor": "white",
            "ticks": ""
           }
          },
          "scene": {
           "xaxis": {
            "backgroundcolor": "#E5ECF6",
            "gridcolor": "white",
            "gridwidth": 2,
            "linecolor": "white",
            "showbackground": true,
            "ticks": "",
            "zerolinecolor": "white"
           },
           "yaxis": {
            "backgroundcolor": "#E5ECF6",
            "gridcolor": "white",
            "gridwidth": 2,
            "linecolor": "white",
            "showbackground": true,
            "ticks": "",
            "zerolinecolor": "white"
           },
           "zaxis": {
            "backgroundcolor": "#E5ECF6",
            "gridcolor": "white",
            "gridwidth": 2,
            "linecolor": "white",
            "showbackground": true,
            "ticks": "",
            "zerolinecolor": "white"
           }
          },
          "shapedefaults": {
           "line": {
            "color": "#2a3f5f"
           }
          },
          "ternary": {
           "aaxis": {
            "gridcolor": "white",
            "linecolor": "white",
            "ticks": ""
           },
           "baxis": {
            "gridcolor": "white",
            "linecolor": "white",
            "ticks": ""
           },
           "bgcolor": "#E5ECF6",
           "caxis": {
            "gridcolor": "white",
            "linecolor": "white",
            "ticks": ""
           }
          },
          "title": {
           "x": 0.05
          },
          "xaxis": {
           "automargin": true,
           "gridcolor": "white",
           "linecolor": "white",
           "ticks": "",
           "title": {
            "standoff": 15
           },
           "zerolinecolor": "white",
           "zerolinewidth": 2
          },
          "yaxis": {
           "automargin": true,
           "gridcolor": "white",
           "linecolor": "white",
           "ticks": "",
           "title": {
            "standoff": 15
           },
           "zerolinecolor": "white",
           "zerolinewidth": 2
          }
         }
        },
        "width": 1000,
        "xaxis": {
         "gridcolor": "lightgrey",
         "gridwidth": 1,
         "linecolor": "black",
         "linewidth": 0.7,
         "mirror": true,
         "range": [
          [
           0,
           0,
           0
          ],
          [
           0.8,
           0.9045084971874737,
           0.7048327646991335
          ]
         ],
         "showline": true,
         "tickfont": {
          "color": "black",
          "family": "Times New Roman",
          "size": 20
         },
         "ticks": "outside",
         "title": {
          "font": {
           "color": "black",
           "family": "Times New Roman",
           "size": 25
          },
          "text": "x"
         }
        },
        "yaxis": {
         "gridcolor": "lightgrey",
         "gridwidth": 1,
         "linecolor": "black",
         "linewidth": 0.7,
         "mirror": true,
         "range": [
          [
           0.6097560975609756,
           0.5500139748560623,
           0.6680967383384773
          ],
          [
           1,
           1,
           1
          ]
         ],
         "showline": true,
         "tickfont": {
          "color": "black",
          "family": "Times New Roman",
          "size": 20
         },
         "ticks": "outside",
         "title": {
          "font": {
           "color": "black",
           "family": "Times New Roman",
           "size": 25
          },
          "text": "-"
         }
        }
       }
      },
      "text/html": [
       "<div>                            <div id=\"4fe448b2-19fe-4f96-95ec-d4b1a3bb051b\" class=\"plotly-graph-div\" style=\"height:500px; width:1000px;\"></div>            <script type=\"text/javascript\">                require([\"plotly\"], function(Plotly) {                    window.PLOTLYENV=window.PLOTLYENV || {};                                    if (document.getElementById(\"4fe448b2-19fe-4f96-95ec-d4b1a3bb051b\")) {                    Plotly.newPlot(                        \"4fe448b2-19fe-4f96-95ec-d4b1a3bb051b\",                        [{\"line\": {\"color\": \"blue\", \"dash\": \"solid\", \"width\": 2}, \"marker\": {\"line\": {\"color\": \"blue\", \"width\": 1}, \"size\": 10, \"symbol\": \"circle\"}, \"mode\": \"markers\", \"name\": \"equispaced\", \"textfont\": {\"color\": \"LightSeaGreen\", \"family\": \"Times New Roman\", \"size\": 18}, \"type\": \"scatter\", \"x\": [0.0, 0.2, 0.4, 0.6, 0.8], \"y\": [1.0, 0.9615384615384615, 0.8620689655172413, 0.7352941176470589, 0.6097560975609756]}, {\"line\": {\"color\": \"red\", \"dash\": \"dot\", \"width\": 2}, \"marker\": {\"line\": {\"color\": \"red\", \"width\": 1}, \"size\": 10, \"symbol\": \"triangle-up\"}, \"mode\": \"markers\", \"name\": \"chebushev\", \"textfont\": {\"color\": \"LightSeaGreen\", \"family\": \"Times New Roman\", \"size\": 18}, \"type\": \"scatter\", \"x\": [0.0, 0.09549150281252627, 0.3454915028125263, 0.6545084971874737, 0.9045084971874737], \"y\": [1.0, 0.9909637708942952, 0.8933641441458571, 0.7000931396748103, 0.5500139748560623]}, {\"line\": {\"color\": \"hsv(120,100,100)\", \"dash\": \"dash\", \"width\": 2}, \"marker\": {\"line\": {\"color\": \"hsv(120,100,100)\", \"width\": 1}, \"size\": 10, \"symbol\": \"triangle-down\"}, \"mode\": \"markers\", \"name\": \"arcsin\", \"textfont\": {\"color\": \"LightSeaGreen\", \"family\": \"Times New Roman\", \"size\": 18}, \"type\": \"scatter\", \"x\": [0.0, 0.2951672353008665, 0.4359057831510251, 0.5640942168489749, 0.7048327646991335], \"y\": [1.0, 0.9198585247916148, 0.8403263529247416, 0.7586089107970275, 0.6680967383384773]}],                        {\"autosize\": false, \"height\": 500, \"legend\": {\"bgcolor\": \"White\", \"bordercolor\": \"Black\", \"borderwidth\": 0.7}, \"margin\": {\"b\": 0, \"l\": 0, \"pad\": 0.1, \"r\": 0, \"t\": 0}, \"paper_bgcolor\": \"rgba(255, 255, 255, 1)\", \"plot_bgcolor\": \"rgba(255, 255, 255, 1)\", \"showlegend\": true, \"template\": {\"data\": {\"bar\": [{\"error_x\": {\"color\": \"#2a3f5f\"}, \"error_y\": {\"color\": \"#2a3f5f\"}, \"marker\": {\"line\": {\"color\": \"#E5ECF6\", \"width\": 0.5}}, \"type\": \"bar\"}], \"barpolar\": [{\"marker\": {\"line\": {\"color\": \"#E5ECF6\", \"width\": 0.5}}, \"type\": \"barpolar\"}], \"carpet\": [{\"aaxis\": {\"endlinecolor\": \"#2a3f5f\", \"gridcolor\": \"white\", \"linecolor\": \"white\", \"minorgridcolor\": \"white\", \"startlinecolor\": \"#2a3f5f\"}, \"baxis\": {\"endlinecolor\": \"#2a3f5f\", \"gridcolor\": \"white\", \"linecolor\": \"white\", \"minorgridcolor\": \"white\", \"startlinecolor\": \"#2a3f5f\"}, \"type\": \"carpet\"}], \"choropleth\": [{\"colorbar\": {\"outlinewidth\": 0, \"ticks\": \"\"}, \"type\": \"choropleth\"}], \"contour\": [{\"colorbar\": {\"outlinewidth\": 0, \"ticks\": \"\"}, \"colorscale\": [[0.0, \"#0d0887\"], [0.1111111111111111, \"#46039f\"], [0.2222222222222222, \"#7201a8\"], [0.3333333333333333, \"#9c179e\"], [0.4444444444444444, \"#bd3786\"], [0.5555555555555556, \"#d8576b\"], [0.6666666666666666, \"#ed7953\"], [0.7777777777777778, \"#fb9f3a\"], [0.8888888888888888, \"#fdca26\"], [1.0, \"#f0f921\"]], \"type\": \"contour\"}], \"contourcarpet\": [{\"colorbar\": {\"outlinewidth\": 0, \"ticks\": \"\"}, \"type\": \"contourcarpet\"}], \"heatmap\": [{\"colorbar\": {\"outlinewidth\": 0, \"ticks\": \"\"}, \"colorscale\": [[0.0, \"#0d0887\"], [0.1111111111111111, \"#46039f\"], [0.2222222222222222, \"#7201a8\"], [0.3333333333333333, \"#9c179e\"], [0.4444444444444444, \"#bd3786\"], [0.5555555555555556, \"#d8576b\"], [0.6666666666666666, \"#ed7953\"], [0.7777777777777778, \"#fb9f3a\"], [0.8888888888888888, \"#fdca26\"], [1.0, \"#f0f921\"]], \"type\": \"heatmap\"}], \"heatmapgl\": [{\"colorbar\": {\"outlinewidth\": 0, \"ticks\": \"\"}, \"colorscale\": [[0.0, \"#0d0887\"], [0.1111111111111111, \"#46039f\"], [0.2222222222222222, \"#7201a8\"], [0.3333333333333333, \"#9c179e\"], [0.4444444444444444, \"#bd3786\"], [0.5555555555555556, \"#d8576b\"], [0.6666666666666666, \"#ed7953\"], [0.7777777777777778, \"#fb9f3a\"], [0.8888888888888888, \"#fdca26\"], [1.0, \"#f0f921\"]], \"type\": \"heatmapgl\"}], \"histogram\": [{\"marker\": {\"colorbar\": {\"outlinewidth\": 0, \"ticks\": \"\"}}, \"type\": \"histogram\"}], \"histogram2d\": [{\"colorbar\": {\"outlinewidth\": 0, \"ticks\": \"\"}, \"colorscale\": [[0.0, \"#0d0887\"], [0.1111111111111111, \"#46039f\"], [0.2222222222222222, \"#7201a8\"], [0.3333333333333333, \"#9c179e\"], [0.4444444444444444, \"#bd3786\"], [0.5555555555555556, \"#d8576b\"], [0.6666666666666666, \"#ed7953\"], [0.7777777777777778, \"#fb9f3a\"], [0.8888888888888888, \"#fdca26\"], [1.0, \"#f0f921\"]], \"type\": \"histogram2d\"}], \"histogram2dcontour\": [{\"colorbar\": {\"outlinewidth\": 0, \"ticks\": \"\"}, \"colorscale\": [[0.0, \"#0d0887\"], [0.1111111111111111, \"#46039f\"], [0.2222222222222222, \"#7201a8\"], [0.3333333333333333, \"#9c179e\"], [0.4444444444444444, \"#bd3786\"], [0.5555555555555556, \"#d8576b\"], [0.6666666666666666, \"#ed7953\"], [0.7777777777777778, \"#fb9f3a\"], [0.8888888888888888, \"#fdca26\"], [1.0, \"#f0f921\"]], \"type\": \"histogram2dcontour\"}], \"mesh3d\": [{\"colorbar\": {\"outlinewidth\": 0, \"ticks\": \"\"}, \"type\": \"mesh3d\"}], \"parcoords\": [{\"line\": {\"colorbar\": {\"outlinewidth\": 0, \"ticks\": \"\"}}, \"type\": \"parcoords\"}], \"pie\": [{\"automargin\": true, \"type\": \"pie\"}], \"scatter\": [{\"marker\": {\"colorbar\": {\"outlinewidth\": 0, \"ticks\": \"\"}}, \"type\": \"scatter\"}], \"scatter3d\": [{\"line\": {\"colorbar\": {\"outlinewidth\": 0, \"ticks\": \"\"}}, \"marker\": {\"colorbar\": {\"outlinewidth\": 0, \"ticks\": \"\"}}, \"type\": \"scatter3d\"}], \"scattercarpet\": [{\"marker\": {\"colorbar\": {\"outlinewidth\": 0, \"ticks\": \"\"}}, \"type\": \"scattercarpet\"}], \"scattergeo\": [{\"marker\": {\"colorbar\": {\"outlinewidth\": 0, \"ticks\": \"\"}}, \"type\": \"scattergeo\"}], \"scattergl\": [{\"marker\": {\"colorbar\": {\"outlinewidth\": 0, \"ticks\": \"\"}}, \"type\": \"scattergl\"}], \"scattermapbox\": [{\"marker\": {\"colorbar\": {\"outlinewidth\": 0, \"ticks\": \"\"}}, \"type\": \"scattermapbox\"}], \"scatterpolar\": [{\"marker\": {\"colorbar\": {\"outlinewidth\": 0, \"ticks\": \"\"}}, \"type\": \"scatterpolar\"}], \"scatterpolargl\": [{\"marker\": {\"colorbar\": {\"outlinewidth\": 0, \"ticks\": \"\"}}, \"type\": \"scatterpolargl\"}], \"scatterternary\": [{\"marker\": {\"colorbar\": {\"outlinewidth\": 0, \"ticks\": \"\"}}, \"type\": \"scatterternary\"}], \"surface\": [{\"colorbar\": {\"outlinewidth\": 0, \"ticks\": \"\"}, \"colorscale\": [[0.0, \"#0d0887\"], [0.1111111111111111, \"#46039f\"], [0.2222222222222222, \"#7201a8\"], [0.3333333333333333, \"#9c179e\"], [0.4444444444444444, \"#bd3786\"], [0.5555555555555556, \"#d8576b\"], [0.6666666666666666, \"#ed7953\"], [0.7777777777777778, \"#fb9f3a\"], [0.8888888888888888, \"#fdca26\"], [1.0, \"#f0f921\"]], \"type\": \"surface\"}], \"table\": [{\"cells\": {\"fill\": {\"color\": \"#EBF0F8\"}, \"line\": {\"color\": \"white\"}}, \"header\": {\"fill\": {\"color\": \"#C8D4E3\"}, \"line\": {\"color\": \"white\"}}, \"type\": \"table\"}]}, \"layout\": {\"annotationdefaults\": {\"arrowcolor\": \"#2a3f5f\", \"arrowhead\": 0, \"arrowwidth\": 1}, \"autotypenumbers\": \"strict\", \"coloraxis\": {\"colorbar\": {\"outlinewidth\": 0, \"ticks\": \"\"}}, \"colorscale\": {\"diverging\": [[0, \"#8e0152\"], [0.1, \"#c51b7d\"], [0.2, \"#de77ae\"], [0.3, \"#f1b6da\"], [0.4, \"#fde0ef\"], [0.5, \"#f7f7f7\"], [0.6, \"#e6f5d0\"], [0.7, \"#b8e186\"], [0.8, \"#7fbc41\"], [0.9, \"#4d9221\"], [1, \"#276419\"]], \"sequential\": [[0.0, \"#0d0887\"], [0.1111111111111111, \"#46039f\"], [0.2222222222222222, \"#7201a8\"], [0.3333333333333333, \"#9c179e\"], [0.4444444444444444, \"#bd3786\"], [0.5555555555555556, \"#d8576b\"], [0.6666666666666666, \"#ed7953\"], [0.7777777777777778, \"#fb9f3a\"], [0.8888888888888888, \"#fdca26\"], [1.0, \"#f0f921\"]], \"sequentialminus\": [[0.0, \"#0d0887\"], [0.1111111111111111, \"#46039f\"], [0.2222222222222222, \"#7201a8\"], [0.3333333333333333, \"#9c179e\"], [0.4444444444444444, \"#bd3786\"], [0.5555555555555556, \"#d8576b\"], [0.6666666666666666, \"#ed7953\"], [0.7777777777777778, \"#fb9f3a\"], [0.8888888888888888, \"#fdca26\"], [1.0, \"#f0f921\"]]}, \"colorway\": [\"#636efa\", \"#EF553B\", \"#00cc96\", \"#ab63fa\", \"#FFA15A\", \"#19d3f3\", \"#FF6692\", \"#B6E880\", \"#FF97FF\", \"#FECB52\"], \"font\": {\"color\": \"#2a3f5f\"}, \"geo\": {\"bgcolor\": \"white\", \"lakecolor\": \"white\", \"landcolor\": \"#E5ECF6\", \"showlakes\": true, \"showland\": true, \"subunitcolor\": \"white\"}, \"hoverlabel\": {\"align\": \"left\"}, \"hovermode\": \"closest\", \"mapbox\": {\"style\": \"light\"}, \"paper_bgcolor\": \"white\", \"plot_bgcolor\": \"#E5ECF6\", \"polar\": {\"angularaxis\": {\"gridcolor\": \"white\", \"linecolor\": \"white\", \"ticks\": \"\"}, \"bgcolor\": \"#E5ECF6\", \"radialaxis\": {\"gridcolor\": \"white\", \"linecolor\": \"white\", \"ticks\": \"\"}}, \"scene\": {\"xaxis\": {\"backgroundcolor\": \"#E5ECF6\", \"gridcolor\": \"white\", \"gridwidth\": 2, \"linecolor\": \"white\", \"showbackground\": true, \"ticks\": \"\", \"zerolinecolor\": \"white\"}, \"yaxis\": {\"backgroundcolor\": \"#E5ECF6\", \"gridcolor\": \"white\", \"gridwidth\": 2, \"linecolor\": \"white\", \"showbackground\": true, \"ticks\": \"\", \"zerolinecolor\": \"white\"}, \"zaxis\": {\"backgroundcolor\": \"#E5ECF6\", \"gridcolor\": \"white\", \"gridwidth\": 2, \"linecolor\": \"white\", \"showbackground\": true, \"ticks\": \"\", \"zerolinecolor\": \"white\"}}, \"shapedefaults\": {\"line\": {\"color\": \"#2a3f5f\"}}, \"ternary\": {\"aaxis\": {\"gridcolor\": \"white\", \"linecolor\": \"white\", \"ticks\": \"\"}, \"baxis\": {\"gridcolor\": \"white\", \"linecolor\": \"white\", \"ticks\": \"\"}, \"bgcolor\": \"#E5ECF6\", \"caxis\": {\"gridcolor\": \"white\", \"linecolor\": \"white\", \"ticks\": \"\"}}, \"title\": {\"x\": 0.05}, \"xaxis\": {\"automargin\": true, \"gridcolor\": \"white\", \"linecolor\": \"white\", \"ticks\": \"\", \"title\": {\"standoff\": 15}, \"zerolinecolor\": \"white\", \"zerolinewidth\": 2}, \"yaxis\": {\"automargin\": true, \"gridcolor\": \"white\", \"linecolor\": \"white\", \"ticks\": \"\", \"title\": {\"standoff\": 15}, \"zerolinecolor\": \"white\", \"zerolinewidth\": 2}}}, \"width\": 1000, \"xaxis\": {\"gridcolor\": \"lightgrey\", \"gridwidth\": 1, \"linecolor\": \"black\", \"linewidth\": 0.7, \"mirror\": true, \"range\": [[0.0, 0.0, 0.0], [0.8, 0.9045084971874737, 0.7048327646991335]], \"showline\": true, \"tickfont\": {\"color\": \"black\", \"family\": \"Times New Roman\", \"size\": 20}, \"ticks\": \"outside\", \"title\": {\"font\": {\"color\": \"black\", \"family\": \"Times New Roman\", \"size\": 25}, \"text\": \"x\"}}, \"yaxis\": {\"gridcolor\": \"lightgrey\", \"gridwidth\": 1, \"linecolor\": \"black\", \"linewidth\": 0.7, \"mirror\": true, \"range\": [[0.6097560975609756, 0.5500139748560623, 0.6680967383384773], [1.0, 1.0, 1.0]], \"showline\": true, \"tickfont\": {\"color\": \"black\", \"family\": \"Times New Roman\", \"size\": 20}, \"ticks\": \"outside\", \"title\": {\"font\": {\"color\": \"black\", \"family\": \"Times New Roman\", \"size\": 25}, \"text\": \"-\"}}},                        {\"responsive\": true}                    ).then(function(){\n",
       "                            \n",
       "var gd = document.getElementById('4fe448b2-19fe-4f96-95ec-d4b1a3bb051b');\n",
       "var x = new MutationObserver(function (mutations, observer) {{\n",
       "        var display = window.getComputedStyle(gd).display;\n",
       "        if (!display || display === 'none') {{\n",
       "            console.log([gd, 'removed!']);\n",
       "            Plotly.purge(gd);\n",
       "            observer.disconnect();\n",
       "        }}\n",
       "}});\n",
       "\n",
       "// Listen for the removal of the full notebook cells\n",
       "var notebookContainer = gd.closest('#notebook-container');\n",
       "if (notebookContainer) {{\n",
       "    x.observe(notebookContainer, {childList: true});\n",
       "}}\n",
       "\n",
       "// Listen for the clearing of the current output cell\n",
       "var outputEl = gd.closest('.output');\n",
       "if (outputEl) {{\n",
       "    x.observe(outputEl, {childList: true});\n",
       "}}\n",
       "\n",
       "                        })                };                });            </script>        </div>"
      ]
     },
     "metadata": {},
     "output_type": "display_data"
    },
    {
     "name": "stdout",
     "output_type": "stream",
     "text": [
      "Successfully generated: ./fun.pdf\n"
     ]
    }
   ],
   "source": [
    "list_y = []\n",
    "list_y.append(fi_eq)\n",
    "list_y.append(fi_cheb)\n",
    "list_y.append(fi_arc)\n",
    "\n",
    "fn = \"fun.pdf\"\n",
    "plot_graph(list_x, list_y, names=['equispaced', 'chebushev', 'arcsin'], xtitle='x', ytitle='-', \\\n",
    "            image_name=fn, mode=['markers','markers','markers'],\\\n",
    "#             xrange=[0,4], yrange=[0,0.45],\\\n",
    "#             dash=['solid', 'solid', 'solid', 'dash', 'dash', 'dash', 'dash', 'dash'],\\\n",
    "            colors=['blue', 'red', 'hsv(120,100,100)', 'green', 'indigo', 'aqua', 'goldenrod', 'black', 'pink'],\\\n",
    "            marker_size=10,\\\n",
    "            marker_style = ['circle', 'triangle-up', 'triangle-down','square', 'diamond', 'cross',  'x-thin', 'cross-thin', 'circle', 'triangle-up', 'triangle-down' ],\\\n",
    "            width=1000, height=500, path=\"./\")"
   ]
  },
  {
   "cell_type": "code",
   "execution_count": 86,
   "metadata": {
    "scrolled": true
   },
   "outputs": [
    {
     "name": "stdout",
     "output_type": "stream",
     "text": [
      "curve number 0\n",
      "curve number 1\n",
      "curve number 2\n"
     ]
    },
    {
     "data": {
      "application/vnd.plotly.v1+json": {
       "config": {
        "plotlyServerURL": "https://plot.ly"
       },
       "data": [
        {
         "line": {
          "color": "blue",
          "dash": "solid",
          "width": 2
         },
         "marker": {
          "line": {
           "color": "blue",
           "width": 1
          },
          "size": 10,
          "symbol": "circle"
         },
         "mode": "markers",
         "name": "equispaced",
         "textfont": {
          "color": "LightSeaGreen",
          "family": "Times New Roman",
          "size": 18
         },
         "type": "scatter",
         "x": [
          0,
          0.001001001001001001,
          0.002002002002002002,
          0.003003003003003003,
          0.004004004004004004,
          0.005005005005005005,
          0.006006006006006006,
          0.007007007007007007,
          0.008008008008008008,
          0.009009009009009009,
          0.01001001001001001,
          0.011011011011011011,
          0.012012012012012012,
          0.013013013013013013,
          0.014014014014014014,
          0.015015015015015015,
          0.016016016016016016,
          0.017017017017017015,
          0.018018018018018018,
          0.01901901901901902,
          0.02002002002002002,
          0.02102102102102102,
          0.022022022022022022,
          0.023023023023023025,
          0.024024024024024024,
          0.025025025025025023,
          0.026026026026026026,
          0.02702702702702703,
          0.028028028028028028,
          0.029029029029029027,
          0.03003003003003003,
          0.031031031031031032,
          0.03203203203203203,
          0.03303303303303303,
          0.03403403403403403,
          0.035035035035035036,
          0.036036036036036036,
          0.037037037037037035,
          0.03803803803803804,
          0.03903903903903904,
          0.04004004004004004,
          0.04104104104104104,
          0.04204204204204204,
          0.043043043043043044,
          0.044044044044044044,
          0.04504504504504504,
          0.04604604604604605,
          0.04704704704704705,
          0.04804804804804805,
          0.04904904904904905,
          0.050050050050050046,
          0.05105105105105105,
          0.05205205205205205,
          0.05305305305305305,
          0.05405405405405406,
          0.055055055055055056,
          0.056056056056056056,
          0.057057057057057055,
          0.058058058058058054,
          0.05905905905905906,
          0.06006006006006006,
          0.06106106106106106,
          0.062062062062062065,
          0.06306306306306306,
          0.06406406406406406,
          0.06506506506506507,
          0.06606606606606606,
          0.06706706706706707,
          0.06806806806806806,
          0.06906906906906907,
          0.07007007007007007,
          0.07107107107107107,
          0.07207207207207207,
          0.07307307307307308,
          0.07407407407407407,
          0.07507507507507508,
          0.07607607607607608,
          0.07707707707707707,
          0.07807807807807808,
          0.07907907907907907,
          0.08008008008008008,
          0.08108108108108109,
          0.08208208208208208,
          0.08308308308308308,
          0.08408408408408408,
          0.08508508508508508,
          0.08608608608608609,
          0.08708708708708708,
          0.08808808808808809,
          0.0890890890890891,
          0.09009009009009009,
          0.09109109109109109,
          0.0920920920920921,
          0.09309309309309309,
          0.0940940940940941,
          0.09509509509509509,
          0.0960960960960961,
          0.0970970970970971,
          0.0980980980980981,
          0.0990990990990991,
          0.10010010010010009,
          0.1011011011011011,
          0.1021021021021021,
          0.1031031031031031,
          0.1041041041041041,
          0.10510510510510511,
          0.1061061061061061,
          0.10710710710710711,
          0.10810810810810811,
          0.1091091091091091,
          0.11011011011011011,
          0.1111111111111111,
          0.11211211211211211,
          0.11311311311311312,
          0.11411411411411411,
          0.11511511511511512,
          0.11611611611611611,
          0.11711711711711711,
          0.11811811811811812,
          0.11911911911911911,
          0.12012012012012012,
          0.12112112112112113,
          0.12212212212212212,
          0.12312312312312312,
          0.12412412412412413,
          0.12512512512512514,
          0.12612612612612611,
          0.12712712712712712,
          0.12812812812812813,
          0.12912912912912913,
          0.13013013013013014,
          0.13113113113113112,
          0.13213213213213212,
          0.13313313313313313,
          0.13413413413413414,
          0.13513513513513514,
          0.13613613613613612,
          0.13713713713713713,
          0.13813813813813813,
          0.13913913913913914,
          0.14014014014014015,
          0.14114114114114115,
          0.14214214214214213,
          0.14314314314314314,
          0.14414414414414414,
          0.14514514514514515,
          0.14614614614614616,
          0.14714714714714713,
          0.14814814814814814,
          0.14914914914914915,
          0.15015015015015015,
          0.15115115115115116,
          0.15215215215215216,
          0.15315315315315314,
          0.15415415415415415,
          0.15515515515515516,
          0.15615615615615616,
          0.15715715715715717,
          0.15815815815815815,
          0.15915915915915915,
          0.16016016016016016,
          0.16116116116116116,
          0.16216216216216217,
          0.16316316316316315,
          0.16416416416416416,
          0.16516516516516516,
          0.16616616616616617,
          0.16716716716716717,
          0.16816816816816815,
          0.16916916916916916,
          0.17017017017017017,
          0.17117117117117117,
          0.17217217217217218,
          0.17317317317317318,
          0.17417417417417416,
          0.17517517517517517,
          0.17617617617617617,
          0.17717717717717718,
          0.1781781781781782,
          0.17917917917917917,
          0.18018018018018017,
          0.18118118118118118,
          0.18218218218218218,
          0.1831831831831832,
          0.1841841841841842,
          0.18518518518518517,
          0.18618618618618618,
          0.1871871871871872,
          0.1881881881881882,
          0.1891891891891892,
          0.19019019019019018,
          0.19119119119119118,
          0.1921921921921922,
          0.1931931931931932,
          0.1941941941941942,
          0.19519519519519518,
          0.1961961961961962,
          0.1971971971971972,
          0.1981981981981982,
          0.1991991991991992,
          0.20020020020020018,
          0.2012012012012012,
          0.2022022022022022,
          0.2032032032032032,
          0.2042042042042042,
          0.20520520520520522,
          0.2062062062062062,
          0.2072072072072072,
          0.2082082082082082,
          0.2092092092092092,
          0.21021021021021022,
          0.2112112112112112,
          0.2122122122122122,
          0.2132132132132132,
          0.21421421421421422,
          0.21521521521521522,
          0.21621621621621623,
          0.2172172172172172,
          0.2182182182182182,
          0.21921921921921922,
          0.22022022022022023,
          0.22122122122122123,
          0.2222222222222222,
          0.22322322322322322,
          0.22422422422422422,
          0.22522522522522523,
          0.22622622622622623,
          0.2272272272272272,
          0.22822822822822822,
          0.22922922922922923,
          0.23023023023023023,
          0.23123123123123124,
          0.23223223223223222,
          0.23323323323323322,
          0.23423423423423423,
          0.23523523523523523,
          0.23623623623623624,
          0.23723723723723725,
          0.23823823823823823,
          0.23923923923923923,
          0.24024024024024024,
          0.24124124124124124,
          0.24224224224224225,
          0.24324324324324323,
          0.24424424424424424,
          0.24524524524524524,
          0.24624624624624625,
          0.24724724724724725,
          0.24824824824824826,
          0.24924924924924924,
          0.2502502502502503,
          0.25125125125125125,
          0.25225225225225223,
          0.25325325325325326,
          0.25425425425425424,
          0.2552552552552553,
          0.25625625625625625,
          0.25725725725725723,
          0.25825825825825827,
          0.25925925925925924,
          0.2602602602602603,
          0.26126126126126126,
          0.26226226226226224,
          0.26326326326326327,
          0.26426426426426425,
          0.2652652652652653,
          0.26626626626626626,
          0.26726726726726724,
          0.2682682682682683,
          0.26926926926926925,
          0.2702702702702703,
          0.27127127127127126,
          0.27227227227227224,
          0.2732732732732733,
          0.27427427427427425,
          0.2752752752752753,
          0.27627627627627627,
          0.2772772772772773,
          0.2782782782782783,
          0.27927927927927926,
          0.2802802802802803,
          0.28128128128128127,
          0.2822822822822823,
          0.2832832832832833,
          0.28428428428428426,
          0.2852852852852853,
          0.2862862862862863,
          0.2872872872872873,
          0.2882882882882883,
          0.28928928928928926,
          0.2902902902902903,
          0.2912912912912913,
          0.2922922922922923,
          0.2932932932932933,
          0.29429429429429427,
          0.2952952952952953,
          0.2962962962962963,
          0.2972972972972973,
          0.2982982982982983,
          0.29929929929929927,
          0.3003003003003003,
          0.3013013013013013,
          0.3023023023023023,
          0.3033033033033033,
          0.30430430430430433,
          0.3053053053053053,
          0.3063063063063063,
          0.3073073073073073,
          0.3083083083083083,
          0.30930930930930933,
          0.3103103103103103,
          0.3113113113113113,
          0.3123123123123123,
          0.3133133133133133,
          0.31431431431431434,
          0.3153153153153153,
          0.3163163163163163,
          0.3173173173173173,
          0.3183183183183183,
          0.31931931931931934,
          0.3203203203203203,
          0.3213213213213213,
          0.32232232232232233,
          0.3233233233233233,
          0.32432432432432434,
          0.3253253253253253,
          0.3263263263263263,
          0.32732732732732733,
          0.3283283283283283,
          0.32932932932932935,
          0.3303303303303303,
          0.3313313313313313,
          0.33233233233233234,
          0.3333333333333333,
          0.33433433433433435,
          0.3353353353353353,
          0.3363363363363363,
          0.33733733733733734,
          0.3383383383383383,
          0.33933933933933935,
          0.34034034034034033,
          0.34134134134134136,
          0.34234234234234234,
          0.3433433433433433,
          0.34434434434434436,
          0.34534534534534533,
          0.34634634634634637,
          0.34734734734734735,
          0.3483483483483483,
          0.34934934934934936,
          0.35035035035035034,
          0.35135135135135137,
          0.35235235235235235,
          0.3533533533533533,
          0.35435435435435436,
          0.35535535535535534,
          0.3563563563563564,
          0.35735735735735735,
          0.35835835835835833,
          0.35935935935935936,
          0.36036036036036034,
          0.3613613613613614,
          0.36236236236236236,
          0.36336336336336333,
          0.36436436436436437,
          0.36536536536536535,
          0.3663663663663664,
          0.36736736736736736,
          0.3683683683683684,
          0.36936936936936937,
          0.37037037037037035,
          0.3713713713713714,
          0.37237237237237236,
          0.3733733733733734,
          0.3743743743743744,
          0.37537537537537535,
          0.3763763763763764,
          0.37737737737737737,
          0.3783783783783784,
          0.3793793793793794,
          0.38038038038038036,
          0.3813813813813814,
          0.38238238238238237,
          0.3833833833833834,
          0.3843843843843844,
          0.38538538538538536,
          0.3863863863863864,
          0.38738738738738737,
          0.3883883883883884,
          0.3893893893893894,
          0.39039039039039036,
          0.3913913913913914,
          0.3923923923923924,
          0.3933933933933934,
          0.3943943943943944,
          0.39539539539539537,
          0.3963963963963964,
          0.3973973973973974,
          0.3983983983983984,
          0.3993993993993994,
          0.40040040040040037,
          0.4014014014014014,
          0.4024024024024024,
          0.4034034034034034,
          0.4044044044044044,
          0.40540540540540543,
          0.4064064064064064,
          0.4074074074074074,
          0.4084084084084084,
          0.4094094094094094,
          0.41041041041041043,
          0.4114114114114114,
          0.4124124124124124,
          0.4134134134134134,
          0.4144144144144144,
          0.41541541541541543,
          0.4164164164164164,
          0.4174174174174174,
          0.4184184184184184,
          0.4194194194194194,
          0.42042042042042044,
          0.4214214214214214,
          0.4224224224224224,
          0.42342342342342343,
          0.4244244244244244,
          0.42542542542542544,
          0.4264264264264264,
          0.4274274274274274,
          0.42842842842842843,
          0.4294294294294294,
          0.43043043043043044,
          0.4314314314314314,
          0.43243243243243246,
          0.43343343343343343,
          0.4344344344344344,
          0.43543543543543545,
          0.4364364364364364,
          0.43743743743743746,
          0.43843843843843844,
          0.4394394394394394,
          0.44044044044044045,
          0.44144144144144143,
          0.44244244244244246,
          0.44344344344344344,
          0.4444444444444444,
          0.44544544544544545,
          0.44644644644644643,
          0.44744744744744747,
          0.44844844844844844,
          0.4494494494494494,
          0.45045045045045046,
          0.45145145145145144,
          0.45245245245245247,
          0.45345345345345345,
          0.4544544544544544,
          0.45545545545545546,
          0.45645645645645644,
          0.4574574574574575,
          0.45845845845845845,
          0.45945945945945943,
          0.46046046046046046,
          0.46146146146146144,
          0.4624624624624625,
          0.46346346346346345,
          0.46446446446446443,
          0.46546546546546547,
          0.46646646646646645,
          0.4674674674674675,
          0.46846846846846846,
          0.4694694694694695,
          0.47047047047047047,
          0.47147147147147145,
          0.4724724724724725,
          0.47347347347347346,
          0.4744744744744745,
          0.4754754754754755,
          0.47647647647647645,
          0.4774774774774775,
          0.47847847847847846,
          0.4794794794794795,
          0.4804804804804805,
          0.48148148148148145,
          0.4824824824824825,
          0.48348348348348347,
          0.4844844844844845,
          0.4854854854854855,
          0.48648648648648646,
          0.4874874874874875,
          0.48848848848848847,
          0.4894894894894895,
          0.4904904904904905,
          0.49149149149149146,
          0.4924924924924925,
          0.4934934934934935,
          0.4944944944944945,
          0.4954954954954955,
          0.4964964964964965,
          0.4974974974974975,
          0.4984984984984985,
          0.4994994994994995,
          0.5005005005005005,
          0.5015015015015015,
          0.5025025025025025,
          0.5035035035035035,
          0.5045045045045045,
          0.5055055055055055,
          0.5065065065065065,
          0.5075075075075075,
          0.5085085085085085,
          0.5095095095095095,
          0.5105105105105106,
          0.5115115115115115,
          0.5125125125125125,
          0.5135135135135135,
          0.5145145145145145,
          0.5155155155155156,
          0.5165165165165165,
          0.5175175175175175,
          0.5185185185185185,
          0.5195195195195195,
          0.5205205205205206,
          0.5215215215215215,
          0.5225225225225225,
          0.5235235235235235,
          0.5245245245245245,
          0.5255255255255256,
          0.5265265265265265,
          0.5275275275275275,
          0.5285285285285285,
          0.5295295295295295,
          0.5305305305305306,
          0.5315315315315315,
          0.5325325325325325,
          0.5335335335335335,
          0.5345345345345345,
          0.5355355355355356,
          0.5365365365365365,
          0.5375375375375375,
          0.5385385385385385,
          0.5395395395395395,
          0.5405405405405406,
          0.5415415415415415,
          0.5425425425425425,
          0.5435435435435435,
          0.5445445445445445,
          0.5455455455455456,
          0.5465465465465466,
          0.5475475475475475,
          0.5485485485485485,
          0.5495495495495496,
          0.5505505505505506,
          0.5515515515515516,
          0.5525525525525525,
          0.5535535535535535,
          0.5545545545545546,
          0.5555555555555556,
          0.5565565565565566,
          0.5575575575575575,
          0.5585585585585585,
          0.5595595595595596,
          0.5605605605605606,
          0.5615615615615616,
          0.5625625625625625,
          0.5635635635635635,
          0.5645645645645646,
          0.5655655655655656,
          0.5665665665665666,
          0.5675675675675675,
          0.5685685685685685,
          0.5695695695695696,
          0.5705705705705706,
          0.5715715715715716,
          0.5725725725725725,
          0.5735735735735735,
          0.5745745745745746,
          0.5755755755755756,
          0.5765765765765766,
          0.5775775775775776,
          0.5785785785785785,
          0.5795795795795796,
          0.5805805805805806,
          0.5815815815815816,
          0.5825825825825826,
          0.5835835835835835,
          0.5845845845845846,
          0.5855855855855856,
          0.5865865865865866,
          0.5875875875875876,
          0.5885885885885885,
          0.5895895895895896,
          0.5905905905905906,
          0.5915915915915916,
          0.5925925925925926,
          0.5935935935935935,
          0.5945945945945946,
          0.5955955955955956,
          0.5965965965965966,
          0.5975975975975976,
          0.5985985985985985,
          0.5995995995995996,
          0.6006006006006006,
          0.6016016016016016,
          0.6026026026026026,
          0.6036036036036035,
          0.6046046046046046,
          0.6056056056056056,
          0.6066066066066066,
          0.6076076076076076,
          0.6086086086086087,
          0.6096096096096096,
          0.6106106106106106,
          0.6116116116116116,
          0.6126126126126126,
          0.6136136136136137,
          0.6146146146146146,
          0.6156156156156156,
          0.6166166166166166,
          0.6176176176176176,
          0.6186186186186187,
          0.6196196196196196,
          0.6206206206206206,
          0.6216216216216216,
          0.6226226226226226,
          0.6236236236236237,
          0.6246246246246246,
          0.6256256256256256,
          0.6266266266266266,
          0.6276276276276276,
          0.6286286286286287,
          0.6296296296296297,
          0.6306306306306306,
          0.6316316316316316,
          0.6326326326326326,
          0.6336336336336337,
          0.6346346346346347,
          0.6356356356356356,
          0.6366366366366366,
          0.6376376376376376,
          0.6386386386386387,
          0.6396396396396397,
          0.6406406406406406,
          0.6416416416416416,
          0.6426426426426426,
          0.6436436436436437,
          0.6446446446446447,
          0.6456456456456456,
          0.6466466466466466,
          0.6476476476476476,
          0.6486486486486487,
          0.6496496496496497,
          0.6506506506506506,
          0.6516516516516516,
          0.6526526526526526,
          0.6536536536536537,
          0.6546546546546547,
          0.6556556556556556,
          0.6566566566566566,
          0.6576576576576576,
          0.6586586586586587,
          0.6596596596596597,
          0.6606606606606606,
          0.6616616616616616,
          0.6626626626626626,
          0.6636636636636637,
          0.6646646646646647,
          0.6656656656656657,
          0.6666666666666666,
          0.6676676676676676,
          0.6686686686686687,
          0.6696696696696697,
          0.6706706706706707,
          0.6716716716716716,
          0.6726726726726726,
          0.6736736736736737,
          0.6746746746746747,
          0.6756756756756757,
          0.6766766766766766,
          0.6776776776776777,
          0.6786786786786787,
          0.6796796796796797,
          0.6806806806806807,
          0.6816816816816816,
          0.6826826826826827,
          0.6836836836836837,
          0.6846846846846847,
          0.6856856856856857,
          0.6866866866866866,
          0.6876876876876877,
          0.6886886886886887,
          0.6896896896896897,
          0.6906906906906907,
          0.6916916916916916,
          0.6926926926926927,
          0.6936936936936937,
          0.6946946946946947,
          0.6956956956956957,
          0.6966966966966966,
          0.6976976976976977,
          0.6986986986986987,
          0.6996996996996997,
          0.7007007007007007,
          0.7017017017017017,
          0.7027027027027027,
          0.7037037037037037,
          0.7047047047047047,
          0.7057057057057057,
          0.7067067067067067,
          0.7077077077077077,
          0.7087087087087087,
          0.7097097097097097,
          0.7107107107107107,
          0.7117117117117117,
          0.7127127127127127,
          0.7137137137137137,
          0.7147147147147147,
          0.7157157157157157,
          0.7167167167167167,
          0.7177177177177178,
          0.7187187187187187,
          0.7197197197197197,
          0.7207207207207207,
          0.7217217217217217,
          0.7227227227227228,
          0.7237237237237237,
          0.7247247247247247,
          0.7257257257257257,
          0.7267267267267267,
          0.7277277277277278,
          0.7287287287287287,
          0.7297297297297297,
          0.7307307307307307,
          0.7317317317317317,
          0.7327327327327328,
          0.7337337337337337,
          0.7347347347347347,
          0.7357357357357357,
          0.7367367367367368,
          0.7377377377377378,
          0.7387387387387387,
          0.7397397397397397,
          0.7407407407407407,
          0.7417417417417418,
          0.7427427427427428,
          0.7437437437437437,
          0.7447447447447447,
          0.7457457457457457,
          0.7467467467467468,
          0.7477477477477478,
          0.7487487487487487,
          0.7497497497497497,
          0.7507507507507507,
          0.7517517517517518,
          0.7527527527527528,
          0.7537537537537538,
          0.7547547547547547,
          0.7557557557557557,
          0.7567567567567568,
          0.7577577577577578,
          0.7587587587587588,
          0.7597597597597597,
          0.7607607607607607,
          0.7617617617617618,
          0.7627627627627628,
          0.7637637637637638,
          0.7647647647647647,
          0.7657657657657657,
          0.7667667667667668,
          0.7677677677677678,
          0.7687687687687688,
          0.7697697697697697,
          0.7707707707707707,
          0.7717717717717718,
          0.7727727727727728,
          0.7737737737737738,
          0.7747747747747747,
          0.7757757757757757,
          0.7767767767767768,
          0.7777777777777778,
          0.7787787787787788,
          0.7797797797797797,
          0.7807807807807807,
          0.7817817817817818,
          0.7827827827827828,
          0.7837837837837838,
          0.7847847847847848,
          0.7857857857857857,
          0.7867867867867868,
          0.7877877877877878,
          0.7887887887887888,
          0.7897897897897898,
          0.7907907907907907,
          0.7917917917917918,
          0.7927927927927928,
          0.7937937937937938,
          0.7947947947947948,
          0.7957957957957957,
          0.7967967967967968,
          0.7977977977977978,
          0.7987987987987988,
          0.7997997997997998,
          0.8008008008008007,
          0.8018018018018018,
          0.8028028028028028,
          0.8038038038038038,
          0.8048048048048048,
          0.8058058058058059,
          0.8068068068068068,
          0.8078078078078078,
          0.8088088088088088,
          0.8098098098098098,
          0.8108108108108109,
          0.8118118118118118,
          0.8128128128128128,
          0.8138138138138138,
          0.8148148148148148,
          0.8158158158158159,
          0.8168168168168168,
          0.8178178178178178,
          0.8188188188188188,
          0.8198198198198198,
          0.8208208208208209,
          0.8218218218218218,
          0.8228228228228228,
          0.8238238238238238,
          0.8248248248248248,
          0.8258258258258259,
          0.8268268268268268,
          0.8278278278278278,
          0.8288288288288288,
          0.8298298298298298,
          0.8308308308308309,
          0.8318318318318318,
          0.8328328328328328,
          0.8338338338338338,
          0.8348348348348348,
          0.8358358358358359,
          0.8368368368368369,
          0.8378378378378378,
          0.8388388388388388,
          0.8398398398398398,
          0.8408408408408409,
          0.8418418418418419,
          0.8428428428428428,
          0.8438438438438438,
          0.8448448448448448,
          0.8458458458458459,
          0.8468468468468469,
          0.8478478478478478,
          0.8488488488488488,
          0.8498498498498498,
          0.8508508508508509,
          0.8518518518518519,
          0.8528528528528528,
          0.8538538538538538,
          0.8548548548548548,
          0.8558558558558559,
          0.8568568568568569,
          0.8578578578578578,
          0.8588588588588588,
          0.8598598598598598,
          0.8608608608608609,
          0.8618618618618619,
          0.8628628628628628,
          0.8638638638638638,
          0.8648648648648649,
          0.8658658658658659,
          0.8668668668668669,
          0.8678678678678678,
          0.8688688688688688,
          0.8698698698698699,
          0.8708708708708709,
          0.8718718718718719,
          0.8728728728728729,
          0.8738738738738738,
          0.8748748748748749,
          0.8758758758758759,
          0.8768768768768769,
          0.8778778778778779,
          0.8788788788788788,
          0.8798798798798799,
          0.8808808808808809,
          0.8818818818818819,
          0.8828828828828829,
          0.8838838838838838,
          0.8848848848848849,
          0.8858858858858859,
          0.8868868868868869,
          0.8878878878878879,
          0.8888888888888888,
          0.8898898898898899,
          0.8908908908908909,
          0.8918918918918919,
          0.8928928928928929,
          0.8938938938938938,
          0.8948948948948949,
          0.8958958958958959,
          0.8968968968968969,
          0.8978978978978979,
          0.8988988988988988,
          0.8998998998998999,
          0.9009009009009009,
          0.9019019019019019,
          0.9029029029029029,
          0.9039039039039038,
          0.9049049049049049,
          0.9059059059059059,
          0.9069069069069069,
          0.9079079079079079,
          0.9089089089089089,
          0.9099099099099099,
          0.9109109109109109,
          0.9119119119119119,
          0.9129129129129129,
          0.9139139139139139,
          0.914914914914915,
          0.9159159159159159,
          0.9169169169169169,
          0.9179179179179179,
          0.9189189189189189,
          0.91991991991992,
          0.9209209209209209,
          0.9219219219219219,
          0.9229229229229229,
          0.9239239239239239,
          0.924924924924925,
          0.9259259259259259,
          0.9269269269269269,
          0.9279279279279279,
          0.9289289289289289,
          0.92992992992993,
          0.9309309309309309,
          0.9319319319319319,
          0.9329329329329329,
          0.933933933933934,
          0.934934934934935,
          0.9359359359359359,
          0.9369369369369369,
          0.9379379379379379,
          0.938938938938939,
          0.93993993993994,
          0.9409409409409409,
          0.9419419419419419,
          0.9429429429429429,
          0.943943943943944,
          0.944944944944945,
          0.9459459459459459,
          0.9469469469469469,
          0.9479479479479479,
          0.948948948948949,
          0.94994994994995,
          0.950950950950951,
          0.9519519519519519,
          0.9529529529529529,
          0.953953953953954,
          0.954954954954955,
          0.955955955955956,
          0.9569569569569569,
          0.9579579579579579,
          0.958958958958959,
          0.95995995995996,
          0.960960960960961,
          0.9619619619619619,
          0.9629629629629629,
          0.963963963963964,
          0.964964964964965,
          0.965965965965966,
          0.9669669669669669,
          0.9679679679679679,
          0.968968968968969,
          0.96996996996997,
          0.970970970970971,
          0.9719719719719719,
          0.9729729729729729,
          0.973973973973974,
          0.974974974974975,
          0.975975975975976,
          0.9769769769769769,
          0.9779779779779779,
          0.978978978978979,
          0.97997997997998,
          0.980980980980981,
          0.9819819819819819,
          0.9829829829829829,
          0.983983983983984,
          0.984984984984985,
          0.985985985985986,
          0.986986986986987,
          0.9879879879879879,
          0.988988988988989,
          0.98998998998999,
          0.990990990990991,
          0.991991991991992,
          0.992992992992993,
          0.993993993993994,
          0.994994994994995,
          0.995995995995996,
          0.996996996996997,
          0.997997997997998,
          0.998998998998999,
          1
         ],
         "y": [
          1,
          1.0000216119644876,
          1.0000407381197018,
          1.0000573836567643,
          1.0000715537635567,
          1.0000832536247244,
          1.0000924884216726,
          1.0000992633325692,
          1.0001035835323437,
          1.0001054541926881,
          1.0001048804820554,
          1.000101867565661,
          1.000096420605481,
          1.000088544760254,
          1.0000782451854817,
          1.0000655270334253,
          1.0000503954531095,
          1.0000328555903193,
          1.0000129125876025,
          0.9999905715842695,
          0.9999658377163911,
          0.9999387161168005,
          0.9999092119150917,
          0.9998773302376222,
          0.99984307620751,
          0.9998064549446356,
          0.9997674715656415,
          0.9997261311839308,
          0.9996824389096696,
          0.9996363998497851,
          0.9995880191079671,
          0.9995373017846656,
          0.9994842529770948,
          0.999428877779228,
          0.999371181281803,
          0.9993111685723173,
          0.9992488447350307,
          0.9991842148509659,
          0.9991172839979057,
          0.9990480572503965,
          0.9989765396797445,
          0.9989027363540202,
          0.9988266523380528,
          0.9987482926934358,
          0.9986676624785236,
          0.9985847667484329,
          0.9984996105550412,
          0.9984121989469885,
          0.9983225369696762,
          0.9982306296652684,
          0.9981364820726905,
          0.9980400992276287,
          0.9979414861625323,
          0.9978406479066114,
          0.9977375894858398,
          0.9976323159229508,
          0.9975248322374404,
          0.9974151434455669,
          0.99730325456035,
          0.9971891705915709,
          0.997072896545773,
          0.9969544374262608,
          0.9968337982331024,
          0.9967109839631252,
          0.9965859996099212,
          0.9964588501638408,
          0.9963295406119994,
          0.9961980759382724,
          0.9960644611232972,
          0.9959287011444744,
          0.9957908009759641,
          0.9956507655886896,
          0.9955085999503362,
          0.9953643090253503,
          0.9952178977749409,
          0.9950693711570773,
          0.9949187341264921,
          0.9947659916346789,
          0.9946111486298937,
          0.9944542100571544,
          0.99429518085824,
          0.9941340659716902,
          0.9939708703328097,
          0.9938055988736626,
          0.9936382565230758,
          0.9934688482066368,
          0.9932973788466951,
          0.9931238533623642,
          0.9929482766695168,
          0.9927706536807892,
          0.9925909893055775,
          0.992409288450042,
          0.992225556017102,
          0.9920397969064417,
          0.9918520160145055,
          0.991662218234499,
          0.9914704084563897,
          0.9912765915669092,
          0.9910807724495481,
          0.9908829559845597,
          0.9906831470489601,
          0.9904813505165252,
          0.990277571257795,
          0.9900718141400701,
          0.989864084027413,
          0.9896543857806471,
          0.9894427242573592,
          0.9892291043118966,
          0.9890135307953705,
          0.9887960085556506,
          0.9885765424373713,
          0.9883551372819266,
          0.9881317979274745,
          0.9879065292089336,
          0.9876793359579843,
          0.9874502230030681,
          0.9872191951693897,
          0.9869862572789149,
          0.9867514141503723,
          0.9865146705992498,
          0.9862760314377998,
          0.9860355014750343,
          0.9857930855167292,
          0.9855487883654216,
          0.9853026148204089,
          0.9850545696777517,
          0.9848046577302718,
          0.9845528837675538,
          0.9842992525759433,
          0.9840437689385483,
          0.9837864376352357,
          0.9835272634426393,
          0.9832662511341509,
          0.9830034054799252,
          0.9827387312468788,
          0.9824722331986901,
          0.9822039160957985,
          0.9819337846954067,
          0.9816618437514786,
          0.9813880980147395,
          0.9811125522326755,
          0.9808352111495363,
          0.9805560795063345,
          0.980275162040841,
          0.9799924634875907,
          0.9797079885778797,
          0.9794217420397656,
          0.97913372859807,
          0.9788439529743744,
          0.9785524198870206,
          0.9782591340511152,
          0.9779641001785243,
          0.9776673229778778,
          0.9773688071545665,
          0.9770685574107423,
          0.9767665784453198,
          0.9764628749539737,
          0.9761574516291449,
          0.9758503131600302,
          0.9755414642325928,
          0.9752309095295558,
          0.974918653730403,
          0.9746047015113832,
          0.9742890575455039,
          0.973971726502536,
          0.9736527130490119,
          0.973332021848225,
          0.9730096575602319,
          0.9726856248418506,
          0.9723599283466597,
          0.9720325727250014,
          0.9717035626239775,
          0.9713729026874547,
          0.9710405975560585,
          0.9707066518671776,
          0.9703710702549623,
          0.970033857350325,
          0.9696950177809389,
          0.9693545561712412,
          0.9690124771424279,
          0.968668785312459,
          0.968323485296055,
          0.9679765817046999,
          0.967628079146638,
          0.9672779822268744,
          0.9669262955471801,
          0.9665730237060828,
          0.9662181712988758,
          0.9658617429176123,
          0.9655037431511072,
          0.9651441765849393,
          0.9647830478014464,
          0.9644203613797301,
          0.9640561218956533,
          0.9636903339218392,
          0.9633230020276762,
          0.9629541307793105,
          0.9625837247396535,
          0.9622117884683763,
          0.9618383265219109,
          0.9614633434534554,
          0.9610868438129653,
          0.9607088321471596,
          0.9603293129995193,
          0.9599482909102866,
          0.9595657704164665,
          0.9591817560518244,
          0.9587962523468888,
          0.9584092638289488,
          0.9580207950220561,
          0.9576308504470245,
          0.9572394346214285,
          0.9568465520596057,
          0.956452207272654,
          0.9560564047684345,
          0.9556591490515695,
          0.955260444623443,
          0.9548602959822006,
          0.9544587076227504,
          0.9540556840367617,
          0.9536512297126665,
          0.9532453491356572,
          0.9528380467876888,
          0.952429327147478,
          0.9520191946905033,
          0.951607653889006,
          0.951194709211987,
          0.9507803651252109,
          0.950364626091203,
          0.9499474965692507,
          0.9495289810154042,
          0.9491090838824736,
          0.9486878096200326,
          0.9482651626744155,
          0.9478411474887187,
          0.9474157685028013,
          0.9469890301532827,
          0.9465609368735451,
          0.9461314930937319,
          0.9457007032407488,
          0.9452685717382637,
          0.9448351030067051,
          0.9444003014632641,
          0.9439641715218936,
          0.9435267175933074,
          0.9430879440849832,
          0.9426478554011578,
          0.9422064559428316,
          0.9417637501077667,
          0.9413197422904857,
          0.9408744368822751,
          0.9404278382711816,
          0.9399799508420139,
          0.9395307789763429,
          0.9390803270525003,
          0.9386285994455823,
          0.9381756005274434,
          0.9377213346667023,
          0.9372658062287387,
          0.9368090195756934,
          0.936350979066471,
          0.9358916890567357,
          0.9354311538989144,
          0.9349693779421965,
          0.9345063655325316,
          0.9340421210126334,
          0.9335766487219749,
          0.9331099529967919,
          0.9326420381700834,
          0.9321729085716074,
          0.9317025685278867,
          0.9312310223622035,
          0.930758274394603,
          0.9302843289418917,
          0.9298091903176384,
          0.9293328628321738,
          0.9288553507925893,
          0.9283766585027389,
          0.9278967902632393,
          0.9274157503714667,
          0.926933543121562,
          0.9264501728044247,
          0.9259656437077186,
          0.9254799601158686,
          0.9249931263100608,
          0.9245051465682438,
          0.9240160251651278,
          0.9235257663721841,
          0.923034374457648,
          0.9225418536865132,
          0.9220482083205381,
          0.9215534426182419,
          0.9210575608349045,
          0.9205605672225705,
          0.9200624660300424,
          0.919563261502888,
          0.9190629578834347,
          0.9185615594107726,
          0.9180590703207542,
          0.9175554948459916,
          0.9170508372158616,
          0.9165451016565005,
          0.9160382923908074,
          0.9155304136384431,
          0.9150214696158301,
          0.9145114645361526,
          0.9140004026093576,
          0.9134882880421519,
          0.9129751250380059,
          0.9124609177971508,
          0.9119456705165804,
          0.9114293873900496,
          0.9109120726080754,
          0.9103937303579365,
          0.9098743648236737,
          0.9093539801860887,
          0.9088325806227464,
          0.9083101703079722,
          0.9077867534128544,
          0.907262334105242,
          0.9067369165497465,
          0.9062105049077417,
          0.9056831033373616,
          0.9051547159935036,
          0.9046253470278259,
          0.9040950005887491,
          0.903563680821455,
          0.9030313918678881,
          0.9024981378667539,
          0.9019639229535197,
          0.9014287512604152,
          0.9008926269164316,
          0.9003555540473215,
          0.8998175367756,
          0.8992785792205434,
          0.8987386854981902,
          0.8981978597213409,
          0.8976561059995568,
          0.8971134284391622,
          0.8965698311432423,
          0.8960253182116443,
          0.8954798937409784,
          0.894933561824614,
          0.8943863265526852,
          0.8938381920120859,
          0.8932891622864725,
          0.8927392414562637,
          0.8921884335986388,
          0.8916367427875398,
          0.8910841730936702,
          0.8905307285844954,
          0.8899764133242429,
          0.8894212313739012,
          0.8888651867912213,
          0.8883082836307157,
          0.8877505259436587,
          0.8871919177780865,
          0.8866324631787971,
          0.8860721661873507,
          0.8855110308420681,
          0.884949061178033,
          0.8843862612270906,
          0.883822635017848,
          0.8832581865756739,
          0.8826929199226987,
          0.8821268390778145,
          0.8815599480566763,
          0.8809922508716995,
          0.8804237515320619,
          0.8798544540437034,
          0.8792843624093248,
          0.8787134806283899,
          0.8781418126971232,
          0.8775693626085115,
          0.8769961343523041,
          0.8764221319150102,
          0.8758473592799028,
          0.8752718204270153,
          0.874695519333144,
          0.8741184599718467,
          0.8735406463134419,
          0.8729620823250116,
          0.8723827719703982,
          0.8718027192102064,
          0.8712219280018038,
          0.8706404022993173,
          0.8700581460536383,
          0.8694751632124181,
          0.8688914577200705,
          0.8683070335177717,
          0.8677218945434585,
          0.8671360447318301,
          0.8665494880143478,
          0.8659622283192336,
          0.8653742695714735,
          0.8647856156928124,
          0.8641962706017593,
          0.863606238213584,
          0.8630155224403181,
          0.8624241271907559,
          0.8618320563704516,
          0.8612393138817233,
          0.8606459036236496,
          0.8600518294920714,
          0.8594570953795915,
          0.8588617051755739,
          0.8582656627661448,
          0.8576689720341926,
          0.8570716368593665,
          0.8564736611180787,
          0.855875048683502,
          0.8552758034255717,
          0.8546759292109853,
          0.8540754299032011,
          0.85347430936244,
          0.8528725714456841,
          0.8522702200066775,
          0.8516672588959265,
          0.851063691960699,
          0.8504595230450239,
          0.8498547559896933,
          0.8492493946322601,
          0.8486434428070394,
          0.8480369043451076,
          0.8474297830743038,
          0.8468220828192283,
          0.8462138074012432,
          0.8456049606384721,
          0.8449955463458013,
          0.8443855683348787,
          0.8437750304141125,
          0.8431639363886753,
          0.8425522900604987,
          0.841940095228279,
          0.8413273556874715,
          0.8407140752302952,
          0.8401002576457302,
          0.8394859067195185,
          0.8388710262341638,
          0.8382556199689319,
          0.83763969169985,
          0.8370232451997073,
          0.836406284238055,
          0.8357888125812056,
          0.8351708339922338,
          0.8345523522309761,
          0.8339333710540306,
          0.8333138942147578,
          0.8326939254632785,
          0.8320734685464768,
          0.8314525272079984,
          0.8308311051882503,
          0.8302092062244011,
          0.8295868340503819,
          0.8289639923968857,
          0.8283406849913664,
          0.8277169155580398,
          0.8270926878178851,
          0.8264680054886412,
          0.8258428722848097,
          0.8252172919176547,
          0.8245912680952003,
          0.8239648045222346,
          0.8233379049003057,
          0.8227105729277246,
          0.8220828122995636,
          0.8214546267076563,
          0.8208260198406,
          0.8201969953837511,
          0.8195675570192302,
          0.8189377084259184,
          0.8183074532794584,
          0.817676795252256,
          0.8170457380134775,
          0.8164142852290519,
          0.8157824405616692,
          0.8151502076707817,
          0.8145175902126038,
          0.8138845918401105,
          0.8132512162030405,
          0.8126174669478922,
          0.8119833477179271,
          0.8113488621531685,
          0.810714013890401,
          0.8100788065631712,
          0.8094432438017879,
          0.8088073292333205,
          0.8081710664816015,
          0.8075344591672248,
          0.806897510907546,
          0.8062602253166823,
          0.8056226060055128,
          0.8049846565816787,
          0.8043463806495832,
          0.8037077818103906,
          0.8030688636620269,
          0.8024296297991805,
          0.8017900838133019,
          0.8011502292926025,
          0.8005100698220561,
          0.7998696089833979,
          0.799228850355125,
          0.7985877975124971,
          0.7979464540275344,
          0.7973048234690197,
          0.7966629094024972,
          0.7960207153902734,
          0.7953782449914163,
          0.7947355017617556,
          0.7940924892538828,
          0.7934492110171516,
          0.792805670597677,
          0.7921618715383362,
          0.7915178173787678,
          0.7908735116553728,
          0.790228957901313,
          0.7895841596465131,
          0.7889391204176591,
          0.7882938437381986,
          0.7876483331283413,
          0.7870025921050586,
          0.7863566241820839,
          0.7857104328699122,
          0.7850640216758001,
          0.7844173941037663,
          0.7837705536545911,
          0.7831235038258171,
          0.7824762481117481,
          0.78182879000345,
          0.7811811329887502,
          0.780533280552238,
          0.7798852361752653,
          0.7792370033359447,
          0.7785885855091511,
          0.7779399861665208,
          0.7772912087764525,
          0.7766422568041067,
          0.775993133711405,
          0.7753438429570313,
          0.7746943879964311,
          0.7740447722818122,
          0.7733949992621438,
          0.7727450723831564,
          0.7720949950873437,
          0.7714447708139593,
          0.7707944029990204,
          0.770143895075305,
          0.7694932504723533,
          0.7688424726164665,
          0.7681915649307091,
          0.7675405308349058,
          0.7668893737456443,
          0.7662380970762732,
          0.7655867042369039,
          0.7649351986344087,
          0.7642835836724219,
          0.7636318627513399,
          0.7629800392683206,
          0.7623281166172842,
          0.7616760981889118,
          0.7610239873706472,
          0.7603717875466958,
          0.7597195020980241,
          0.7590671344023612,
          0.758414687834198,
          0.7577621657647864,
          0.7571095715621411,
          0.7564569085910375,
          0.7558041802130145,
          0.7551513897863709,
          0.7544985406661683,
          0.75384563620423,
          0.753192679749141,
          0.7525396746462483,
          0.7518866242376602,
          0.7512335318622474,
          0.7505804008556421,
          0.7499272345502382,
          0.7492740362751921,
          0.7486208093564205,
          0.7479675571166035,
          0.7473142828751822,
          0.7466609899483595,
          0.7460076816491004,
          0.7453543612871315,
          0.7447010321689412,
          0.74404769759778,
          0.7433943608736594,
          0.7427410252933537,
          0.7420876941503985,
          0.7414343707350907,
          0.7407810583344905,
          0.7401277602324181,
          0.739474479709457,
          0.7388212200429514,
          0.7381679845070074,
          0.7375147763724942,
          0.7368615989070411,
          0.7362084553750404,
          0.7355553490376453,
          0.7349022831527718,
          0.7342492609750966,
          0.7335962857560588,
          0.7329433607438598,
          0.7322904891834615,
          0.7316376743165888,
          0.730984919381728,
          0.730332227614127,
          0.7296796022457955,
          0.7290270465055053,
          0.7283745636187902,
          0.7277221568079448,
          0.7270698292920263,
          0.7264175842868539,
          0.7257654250050081,
          0.7251133546558313,
          0.7244613764454277,
          0.7238094935766634,
          0.7231577092491661,
          0.7225060266593257,
          0.7218544490002937,
          0.7212029794619831,
          0.720551621231069,
          0.7199003774909885,
          0.7192492514219397,
          0.7185982462008839,
          0.7179473650015424,
          0.7172966109944001,
          0.7166459873467022,
          0.7159954972224565,
          0.7153451437824332,
          0.7146949301841624,
          0.714044859581938,
          0.7133949351268143,
          0.7127451599666086,
          0.7120955372458989,
          0.7114460701060253,
          0.7107967616850899,
          0.7101476151179572,
          0.7094986335362521,
          0.7088498200683625,
          0.7082011778394375,
          0.7075527099713881,
          0.7069044195828871,
          0.7062563097893696,
          0.7056083837030316,
          0.7049606444328315,
          0.7043130950844894,
          0.703665738760487,
          0.7030185785600682,
          0.7023716175792384,
          0.701724858910765,
          0.7010783056441765,
          0.7004319608657643,
          0.699785827658581,
          0.6991399091024412,
          0.6984942082739205,
          0.6978487282463576,
          0.6972034720898519,
          0.6965584428712652,
          0.6959136436542218,
          0.6952690774991059,
          0.6946247474630648,
          0.6939806566000073,
          0.6933368079606046,
          0.692693204592289,
          0.6920498495392542,
          0.6914067458424564,
          0.6907638965396142,
          0.6901213046652068,
          0.6894789732504756,
          0.6888369053234239,
          0.6881951039088166,
          0.6875535720281809,
          0.6869123126998052,
          0.68627132893874,
          0.685630623756798,
          0.684990200162553,
          0.6843500611613401,
          0.6837102097552585,
          0.6830706489431666,
          0.6824313817206858,
          0.6817924110801992,
          0.6811537400108519,
          0.6805153714985503,
          0.6798773085259634,
          0.6792395540725208,
          0.6786021111144146,
          0.6779649826245991,
          0.67732817157279,
          0.6766916809254648,
          0.6760555136458621,
          0.6754196726939834,
          0.6747841610265916,
          0.6741489815972117,
          0.6735141373561296,
          0.6728796312503939,
          0.6722454662238144,
          0.6716116452169636,
          0.6709781711671745,
          0.670345047008543,
          0.669712275671926,
          0.669079860084943,
          0.6684478031719744,
          0.6678161078541631,
          0.667184777049414,
          0.6665538136723926,
          0.6659232206345277,
          0.6652930008440088,
          0.6646631572057874,
          0.6640336926215775,
          0.6634046099898541,
          0.6627759122058542,
          0.6621476021615766,
          0.6615196827457823,
          0.6608921568439938,
          0.6602650273384953,
          0.6596382971083324,
          0.6590119690293136,
          0.6583860459740081,
          0.657760530811748,
          0.6571354264086261,
          0.6565107356274976,
          0.6558864613279793,
          0.6552626063664502,
          0.6546391735960503,
          0.6540161658666824,
          0.6533935860250103,
          0.65277143691446,
          0.6521497213752188,
          0.6515284422442368,
          0.6509076023552248,
          0.6502872045386563,
          0.6496672516217658,
          0.64904774642855,
          0.6484286917797681,
          0.6478100904929391,
          0.6471919453823463,
          0.6465742592590329,
          0.645957034930805,
          0.6453402752022297,
          0.6447239828746366,
          0.6441081607461165,
          0.6434928116115226,
          0.6428779382624694,
          0.6422635434873334,
          0.641649630071253,
          0.6410362007961283,
          0.6404232584406211,
          0.639810805780155,
          0.6391988455869156,
          0.6385873806298503,
          0.6379764136746682,
          0.63736594748384,
          0.6367559848165982,
          0.6361465284289379,
          0.6355375810736151,
          0.6349291455001476,
          0.634321224454816,
          0.6337138206806612,
          0.6331069369174871,
          0.6325005759018589,
          0.6318947403671039,
          0.6312894330433108,
          0.6306846566573303,
          0.6300804139327751,
          0.6294767075900192,
          0.6288735403461987,
          0.6282709149152119,
          0.6276688340077181,
          0.627067300331139,
          0.6264663165896579,
          0.6258658854842197,
          0.6252660097125317,
          0.624666691969062,
          0.6240679349450416,
          0.6234697413284627,
          0.6228721138040791,
          0.6222750550534073,
          0.6216785677547245,
          0.6210826545830703,
          0.6204873182102462,
          0.619892561304815,
          0.6192983865321018,
          0.6187047965541933,
          0.6181117940299381,
          0.6175193816149461,
          0.6169275619615897,
          0.6163363377190031,
          0.6157457115330814,
          0.6151556860464826,
          0.6145662638986258,
          0.6139774477256918,
          0.6133892401606242,
          0.6128016438331271,
          0.6122146613696674,
          0.6116282953934731,
          0.6110425485245345,
          0.6104574233796036,
          0.6098729225721937,
          0.6092890487125808,
          0.6087058044078018,
          0.6081231922616561,
          0.6075412148747046,
          0.6069598748442695,
          0.6063791747644363,
          0.6057991172260505,
          0.6052197048167203,
          0.6046409401208159,
          0.6040628257194689,
          0.6034853641905729,
          0.6029085581087831,
          0.6023324100455163,
          0.6017569225689519,
          0.6011820982440303,
          0.6006079396324544,
          0.6000344492926883,
          0.5994616297799579,
          0.5988894836462513,
          0.5983180134403183,
          0.5977472217076704,
          0.5971771109905808,
          0.5966076838280846,
          0.5960389427559789,
          0.5954708903068222,
          0.5949035290099347,
          0.5943368613914,
          0.5937708899740606,
          0.5932056172775237,
          0.5926410458181559,
          0.5920771781090877,
          0.59151401666021,
          0.5909515639781759,
          0.5903898225664006,
          0.58982879492506,
          0.5892684835510935,
          0.5887088909382017,
          0.5881500195768453,
          0.5875918719542492,
          0.5870344505543994,
          0.5864777578580426,
          0.5859217963426888,
          0.5853665684826084,
          0.5848120767488357,
          0.5842583236091634,
          0.5837053115281499,
          0.583153042967113,
          0.5826015203841315,
          0.5820507462340491,
          0.5815007229684683,
          0.5809514530357563,
          0.5804029388810384,
          0.5798551829462045,
          0.579308187669906,
          0.5787619554875549,
          0.5782164888313265,
          0.5776717901301567,
          0.5771278618097426,
          0.5765847062925465,
          0.5760423259977879,
          0.5755007233414519,
          0.5749599007362833,
          0.5744198605917877,
          0.5738806053142365,
          0.5733421373066594,
          0.5728044589688482,
          0.5722675726973585,
          0.5717314808855056,
          0.5711961859233676,
          0.5706616901977842,
          0.570127996092357,
          0.56959510598745,
          0.5690630222601862,
          0.5685317472844558,
          0.5680012834309053,
          0.5674716330669446,
          0.5669427985567481,
          0.5664147822612486,
          0.5658875865381428,
          0.5653612137418875,
          0.5648356662237033,
          0.564310946331571,
          0.5637870564102327,
          0.5632639988011949,
          0.5627417758427242,
          0.5622203898698481,
          0.5616998432143578,
          0.5611801382048061,
          0.5606612771665045,
          0.5601432624215308,
          0.5596260962887225,
          0.5591097810836783,
          0.5585943191187592,
          0.5580797127030894,
          0.5575659641425523,
          0.5570530757397933,
          0.5565410497942229,
          0.5560298886020119,
          0.5555195944560893,
          0.5550101696461516,
          0.5545016164586538,
          0.5539939371768106,
          0.5534871340806047,
          0.5529812094467756,
          0.5524761655488253,
          0.5519720046570193,
          0.551468729038384,
          0.5509663409567054,
          0.5504648426725374,
          0.5499642364431896,
          0.5494645245227348,
          0.5489657091620082,
          0.5484677926086092,
          0.5479707771068942,
          0.5474746648979858,
          0.5469794582197656,
          0.5464851593068785,
          0.5459917703907313,
          0.5454992936994898,
          0.5450077314580857,
          0.5445170858882096,
          0.5440273592083145,
          0.5435385536336166,
          0.5430506713760919,
          0.5425637146444797,
          0.5420776856442813,
          0.5415925865777564,
          0.5411084196439324,
          0.5406251870385923,
          0.540142890954288,
          0.5396615335803243,
          0.5391811171027738,
          0.5387016437044734,
          0.5382231155650135,
          0.5377455348607532,
          0.5372689037648093,
          0.5367932244470637,
          0.5363184990741585,
          0.5358447298094959,
          0.5353719188132442,
          0.5349000682423299,
          0.5344291802504402,
          0.5339592569880303,
          0.5334903006023115,
          0.5330223132372556,
          0.5325552970336034,
          0.5320892541288513,
          0.5316241866572597,
          0.5311600967498502,
          0.5306969865344096,
          0.5302348581354757,
          0.5297737136743632,
          0.5293135552691401,
          0.5288543850346379,
          0.5283962050824447,
          0.527939017520918,
          0.5274828244551761,
          0.5270276279870938,
          0.5265734302153118,
          0.5261202332352357,
          0.5256680391390227,
          0.525216850015604,
          0.524766667950662,
          0.5243174950266494,
          0.5238693333227737,
          0.5234221849150114,
          0.5229760518760935,
          0.5225309362755173,
          0.5220868401795418,
          0.5216437656511848,
          0.5212017147502284,
          0.520760689533216,
          0.5203206920534535,
          0.5198817243610088,
          0.5194437885027083,
          0.519006886522142,
          0.5185710204596665,
          0.5181361923523902,
          0.5177024042341967,
          0.5172696581357159,
          0.516837956084351,
          0.5164073001042628,
          0.5159776922163775,
          0.5155491344383756,
          0.5151216287847076,
          0.5146951772665749,
          0.514269781891957,
          0.5138454446655838,
          0.5134221675889434,
          0.5129999526602993,
          0.5125788018746622,
          0.5121587172238149,
          0.5117397006962996,
          0.511321754277422,
          0.5109048799492379,
          0.5104890796905783,
          0.5100743554770348,
          0.5096607092809564,
          0.5092481430714524,
          0.5088366588143951
         ]
        },
        {
         "line": {
          "color": "red",
          "dash": "dot",
          "width": 2
         },
         "marker": {
          "line": {
           "color": "red",
           "width": 1
          },
          "size": 10,
          "symbol": "triangle-up"
         },
         "mode": "markers",
         "name": "chebushev",
         "textfont": {
          "color": "LightSeaGreen",
          "family": "Times New Roman",
          "size": 18
         },
         "type": "scatter",
         "x": [
          0,
          0.001001001001001001,
          0.002002002002002002,
          0.003003003003003003,
          0.004004004004004004,
          0.005005005005005005,
          0.006006006006006006,
          0.007007007007007007,
          0.008008008008008008,
          0.009009009009009009,
          0.01001001001001001,
          0.011011011011011011,
          0.012012012012012012,
          0.013013013013013013,
          0.014014014014014014,
          0.015015015015015015,
          0.016016016016016016,
          0.017017017017017015,
          0.018018018018018018,
          0.01901901901901902,
          0.02002002002002002,
          0.02102102102102102,
          0.022022022022022022,
          0.023023023023023025,
          0.024024024024024024,
          0.025025025025025023,
          0.026026026026026026,
          0.02702702702702703,
          0.028028028028028028,
          0.029029029029029027,
          0.03003003003003003,
          0.031031031031031032,
          0.03203203203203203,
          0.03303303303303303,
          0.03403403403403403,
          0.035035035035035036,
          0.036036036036036036,
          0.037037037037037035,
          0.03803803803803804,
          0.03903903903903904,
          0.04004004004004004,
          0.04104104104104104,
          0.04204204204204204,
          0.043043043043043044,
          0.044044044044044044,
          0.04504504504504504,
          0.04604604604604605,
          0.04704704704704705,
          0.04804804804804805,
          0.04904904904904905,
          0.050050050050050046,
          0.05105105105105105,
          0.05205205205205205,
          0.05305305305305305,
          0.05405405405405406,
          0.055055055055055056,
          0.056056056056056056,
          0.057057057057057055,
          0.058058058058058054,
          0.05905905905905906,
          0.06006006006006006,
          0.06106106106106106,
          0.062062062062062065,
          0.06306306306306306,
          0.06406406406406406,
          0.06506506506506507,
          0.06606606606606606,
          0.06706706706706707,
          0.06806806806806806,
          0.06906906906906907,
          0.07007007007007007,
          0.07107107107107107,
          0.07207207207207207,
          0.07307307307307308,
          0.07407407407407407,
          0.07507507507507508,
          0.07607607607607608,
          0.07707707707707707,
          0.07807807807807808,
          0.07907907907907907,
          0.08008008008008008,
          0.08108108108108109,
          0.08208208208208208,
          0.08308308308308308,
          0.08408408408408408,
          0.08508508508508508,
          0.08608608608608609,
          0.08708708708708708,
          0.08808808808808809,
          0.0890890890890891,
          0.09009009009009009,
          0.09109109109109109,
          0.0920920920920921,
          0.09309309309309309,
          0.0940940940940941,
          0.09509509509509509,
          0.0960960960960961,
          0.0970970970970971,
          0.0980980980980981,
          0.0990990990990991,
          0.10010010010010009,
          0.1011011011011011,
          0.1021021021021021,
          0.1031031031031031,
          0.1041041041041041,
          0.10510510510510511,
          0.1061061061061061,
          0.10710710710710711,
          0.10810810810810811,
          0.1091091091091091,
          0.11011011011011011,
          0.1111111111111111,
          0.11211211211211211,
          0.11311311311311312,
          0.11411411411411411,
          0.11511511511511512,
          0.11611611611611611,
          0.11711711711711711,
          0.11811811811811812,
          0.11911911911911911,
          0.12012012012012012,
          0.12112112112112113,
          0.12212212212212212,
          0.12312312312312312,
          0.12412412412412413,
          0.12512512512512514,
          0.12612612612612611,
          0.12712712712712712,
          0.12812812812812813,
          0.12912912912912913,
          0.13013013013013014,
          0.13113113113113112,
          0.13213213213213212,
          0.13313313313313313,
          0.13413413413413414,
          0.13513513513513514,
          0.13613613613613612,
          0.13713713713713713,
          0.13813813813813813,
          0.13913913913913914,
          0.14014014014014015,
          0.14114114114114115,
          0.14214214214214213,
          0.14314314314314314,
          0.14414414414414414,
          0.14514514514514515,
          0.14614614614614616,
          0.14714714714714713,
          0.14814814814814814,
          0.14914914914914915,
          0.15015015015015015,
          0.15115115115115116,
          0.15215215215215216,
          0.15315315315315314,
          0.15415415415415415,
          0.15515515515515516,
          0.15615615615615616,
          0.15715715715715717,
          0.15815815815815815,
          0.15915915915915915,
          0.16016016016016016,
          0.16116116116116116,
          0.16216216216216217,
          0.16316316316316315,
          0.16416416416416416,
          0.16516516516516516,
          0.16616616616616617,
          0.16716716716716717,
          0.16816816816816815,
          0.16916916916916916,
          0.17017017017017017,
          0.17117117117117117,
          0.17217217217217218,
          0.17317317317317318,
          0.17417417417417416,
          0.17517517517517517,
          0.17617617617617617,
          0.17717717717717718,
          0.1781781781781782,
          0.17917917917917917,
          0.18018018018018017,
          0.18118118118118118,
          0.18218218218218218,
          0.1831831831831832,
          0.1841841841841842,
          0.18518518518518517,
          0.18618618618618618,
          0.1871871871871872,
          0.1881881881881882,
          0.1891891891891892,
          0.19019019019019018,
          0.19119119119119118,
          0.1921921921921922,
          0.1931931931931932,
          0.1941941941941942,
          0.19519519519519518,
          0.1961961961961962,
          0.1971971971971972,
          0.1981981981981982,
          0.1991991991991992,
          0.20020020020020018,
          0.2012012012012012,
          0.2022022022022022,
          0.2032032032032032,
          0.2042042042042042,
          0.20520520520520522,
          0.2062062062062062,
          0.2072072072072072,
          0.2082082082082082,
          0.2092092092092092,
          0.21021021021021022,
          0.2112112112112112,
          0.2122122122122122,
          0.2132132132132132,
          0.21421421421421422,
          0.21521521521521522,
          0.21621621621621623,
          0.2172172172172172,
          0.2182182182182182,
          0.21921921921921922,
          0.22022022022022023,
          0.22122122122122123,
          0.2222222222222222,
          0.22322322322322322,
          0.22422422422422422,
          0.22522522522522523,
          0.22622622622622623,
          0.2272272272272272,
          0.22822822822822822,
          0.22922922922922923,
          0.23023023023023023,
          0.23123123123123124,
          0.23223223223223222,
          0.23323323323323322,
          0.23423423423423423,
          0.23523523523523523,
          0.23623623623623624,
          0.23723723723723725,
          0.23823823823823823,
          0.23923923923923923,
          0.24024024024024024,
          0.24124124124124124,
          0.24224224224224225,
          0.24324324324324323,
          0.24424424424424424,
          0.24524524524524524,
          0.24624624624624625,
          0.24724724724724725,
          0.24824824824824826,
          0.24924924924924924,
          0.2502502502502503,
          0.25125125125125125,
          0.25225225225225223,
          0.25325325325325326,
          0.25425425425425424,
          0.2552552552552553,
          0.25625625625625625,
          0.25725725725725723,
          0.25825825825825827,
          0.25925925925925924,
          0.2602602602602603,
          0.26126126126126126,
          0.26226226226226224,
          0.26326326326326327,
          0.26426426426426425,
          0.2652652652652653,
          0.26626626626626626,
          0.26726726726726724,
          0.2682682682682683,
          0.26926926926926925,
          0.2702702702702703,
          0.27127127127127126,
          0.27227227227227224,
          0.2732732732732733,
          0.27427427427427425,
          0.2752752752752753,
          0.27627627627627627,
          0.2772772772772773,
          0.2782782782782783,
          0.27927927927927926,
          0.2802802802802803,
          0.28128128128128127,
          0.2822822822822823,
          0.2832832832832833,
          0.28428428428428426,
          0.2852852852852853,
          0.2862862862862863,
          0.2872872872872873,
          0.2882882882882883,
          0.28928928928928926,
          0.2902902902902903,
          0.2912912912912913,
          0.2922922922922923,
          0.2932932932932933,
          0.29429429429429427,
          0.2952952952952953,
          0.2962962962962963,
          0.2972972972972973,
          0.2982982982982983,
          0.29929929929929927,
          0.3003003003003003,
          0.3013013013013013,
          0.3023023023023023,
          0.3033033033033033,
          0.30430430430430433,
          0.3053053053053053,
          0.3063063063063063,
          0.3073073073073073,
          0.3083083083083083,
          0.30930930930930933,
          0.3103103103103103,
          0.3113113113113113,
          0.3123123123123123,
          0.3133133133133133,
          0.31431431431431434,
          0.3153153153153153,
          0.3163163163163163,
          0.3173173173173173,
          0.3183183183183183,
          0.31931931931931934,
          0.3203203203203203,
          0.3213213213213213,
          0.32232232232232233,
          0.3233233233233233,
          0.32432432432432434,
          0.3253253253253253,
          0.3263263263263263,
          0.32732732732732733,
          0.3283283283283283,
          0.32932932932932935,
          0.3303303303303303,
          0.3313313313313313,
          0.33233233233233234,
          0.3333333333333333,
          0.33433433433433435,
          0.3353353353353353,
          0.3363363363363363,
          0.33733733733733734,
          0.3383383383383383,
          0.33933933933933935,
          0.34034034034034033,
          0.34134134134134136,
          0.34234234234234234,
          0.3433433433433433,
          0.34434434434434436,
          0.34534534534534533,
          0.34634634634634637,
          0.34734734734734735,
          0.3483483483483483,
          0.34934934934934936,
          0.35035035035035034,
          0.35135135135135137,
          0.35235235235235235,
          0.3533533533533533,
          0.35435435435435436,
          0.35535535535535534,
          0.3563563563563564,
          0.35735735735735735,
          0.35835835835835833,
          0.35935935935935936,
          0.36036036036036034,
          0.3613613613613614,
          0.36236236236236236,
          0.36336336336336333,
          0.36436436436436437,
          0.36536536536536535,
          0.3663663663663664,
          0.36736736736736736,
          0.3683683683683684,
          0.36936936936936937,
          0.37037037037037035,
          0.3713713713713714,
          0.37237237237237236,
          0.3733733733733734,
          0.3743743743743744,
          0.37537537537537535,
          0.3763763763763764,
          0.37737737737737737,
          0.3783783783783784,
          0.3793793793793794,
          0.38038038038038036,
          0.3813813813813814,
          0.38238238238238237,
          0.3833833833833834,
          0.3843843843843844,
          0.38538538538538536,
          0.3863863863863864,
          0.38738738738738737,
          0.3883883883883884,
          0.3893893893893894,
          0.39039039039039036,
          0.3913913913913914,
          0.3923923923923924,
          0.3933933933933934,
          0.3943943943943944,
          0.39539539539539537,
          0.3963963963963964,
          0.3973973973973974,
          0.3983983983983984,
          0.3993993993993994,
          0.40040040040040037,
          0.4014014014014014,
          0.4024024024024024,
          0.4034034034034034,
          0.4044044044044044,
          0.40540540540540543,
          0.4064064064064064,
          0.4074074074074074,
          0.4084084084084084,
          0.4094094094094094,
          0.41041041041041043,
          0.4114114114114114,
          0.4124124124124124,
          0.4134134134134134,
          0.4144144144144144,
          0.41541541541541543,
          0.4164164164164164,
          0.4174174174174174,
          0.4184184184184184,
          0.4194194194194194,
          0.42042042042042044,
          0.4214214214214214,
          0.4224224224224224,
          0.42342342342342343,
          0.4244244244244244,
          0.42542542542542544,
          0.4264264264264264,
          0.4274274274274274,
          0.42842842842842843,
          0.4294294294294294,
          0.43043043043043044,
          0.4314314314314314,
          0.43243243243243246,
          0.43343343343343343,
          0.4344344344344344,
          0.43543543543543545,
          0.4364364364364364,
          0.43743743743743746,
          0.43843843843843844,
          0.4394394394394394,
          0.44044044044044045,
          0.44144144144144143,
          0.44244244244244246,
          0.44344344344344344,
          0.4444444444444444,
          0.44544544544544545,
          0.44644644644644643,
          0.44744744744744747,
          0.44844844844844844,
          0.4494494494494494,
          0.45045045045045046,
          0.45145145145145144,
          0.45245245245245247,
          0.45345345345345345,
          0.4544544544544544,
          0.45545545545545546,
          0.45645645645645644,
          0.4574574574574575,
          0.45845845845845845,
          0.45945945945945943,
          0.46046046046046046,
          0.46146146146146144,
          0.4624624624624625,
          0.46346346346346345,
          0.46446446446446443,
          0.46546546546546547,
          0.46646646646646645,
          0.4674674674674675,
          0.46846846846846846,
          0.4694694694694695,
          0.47047047047047047,
          0.47147147147147145,
          0.4724724724724725,
          0.47347347347347346,
          0.4744744744744745,
          0.4754754754754755,
          0.47647647647647645,
          0.4774774774774775,
          0.47847847847847846,
          0.4794794794794795,
          0.4804804804804805,
          0.48148148148148145,
          0.4824824824824825,
          0.48348348348348347,
          0.4844844844844845,
          0.4854854854854855,
          0.48648648648648646,
          0.4874874874874875,
          0.48848848848848847,
          0.4894894894894895,
          0.4904904904904905,
          0.49149149149149146,
          0.4924924924924925,
          0.4934934934934935,
          0.4944944944944945,
          0.4954954954954955,
          0.4964964964964965,
          0.4974974974974975,
          0.4984984984984985,
          0.4994994994994995,
          0.5005005005005005,
          0.5015015015015015,
          0.5025025025025025,
          0.5035035035035035,
          0.5045045045045045,
          0.5055055055055055,
          0.5065065065065065,
          0.5075075075075075,
          0.5085085085085085,
          0.5095095095095095,
          0.5105105105105106,
          0.5115115115115115,
          0.5125125125125125,
          0.5135135135135135,
          0.5145145145145145,
          0.5155155155155156,
          0.5165165165165165,
          0.5175175175175175,
          0.5185185185185185,
          0.5195195195195195,
          0.5205205205205206,
          0.5215215215215215,
          0.5225225225225225,
          0.5235235235235235,
          0.5245245245245245,
          0.5255255255255256,
          0.5265265265265265,
          0.5275275275275275,
          0.5285285285285285,
          0.5295295295295295,
          0.5305305305305306,
          0.5315315315315315,
          0.5325325325325325,
          0.5335335335335335,
          0.5345345345345345,
          0.5355355355355356,
          0.5365365365365365,
          0.5375375375375375,
          0.5385385385385385,
          0.5395395395395395,
          0.5405405405405406,
          0.5415415415415415,
          0.5425425425425425,
          0.5435435435435435,
          0.5445445445445445,
          0.5455455455455456,
          0.5465465465465466,
          0.5475475475475475,
          0.5485485485485485,
          0.5495495495495496,
          0.5505505505505506,
          0.5515515515515516,
          0.5525525525525525,
          0.5535535535535535,
          0.5545545545545546,
          0.5555555555555556,
          0.5565565565565566,
          0.5575575575575575,
          0.5585585585585585,
          0.5595595595595596,
          0.5605605605605606,
          0.5615615615615616,
          0.5625625625625625,
          0.5635635635635635,
          0.5645645645645646,
          0.5655655655655656,
          0.5665665665665666,
          0.5675675675675675,
          0.5685685685685685,
          0.5695695695695696,
          0.5705705705705706,
          0.5715715715715716,
          0.5725725725725725,
          0.5735735735735735,
          0.5745745745745746,
          0.5755755755755756,
          0.5765765765765766,
          0.5775775775775776,
          0.5785785785785785,
          0.5795795795795796,
          0.5805805805805806,
          0.5815815815815816,
          0.5825825825825826,
          0.5835835835835835,
          0.5845845845845846,
          0.5855855855855856,
          0.5865865865865866,
          0.5875875875875876,
          0.5885885885885885,
          0.5895895895895896,
          0.5905905905905906,
          0.5915915915915916,
          0.5925925925925926,
          0.5935935935935935,
          0.5945945945945946,
          0.5955955955955956,
          0.5965965965965966,
          0.5975975975975976,
          0.5985985985985985,
          0.5995995995995996,
          0.6006006006006006,
          0.6016016016016016,
          0.6026026026026026,
          0.6036036036036035,
          0.6046046046046046,
          0.6056056056056056,
          0.6066066066066066,
          0.6076076076076076,
          0.6086086086086087,
          0.6096096096096096,
          0.6106106106106106,
          0.6116116116116116,
          0.6126126126126126,
          0.6136136136136137,
          0.6146146146146146,
          0.6156156156156156,
          0.6166166166166166,
          0.6176176176176176,
          0.6186186186186187,
          0.6196196196196196,
          0.6206206206206206,
          0.6216216216216216,
          0.6226226226226226,
          0.6236236236236237,
          0.6246246246246246,
          0.6256256256256256,
          0.6266266266266266,
          0.6276276276276276,
          0.6286286286286287,
          0.6296296296296297,
          0.6306306306306306,
          0.6316316316316316,
          0.6326326326326326,
          0.6336336336336337,
          0.6346346346346347,
          0.6356356356356356,
          0.6366366366366366,
          0.6376376376376376,
          0.6386386386386387,
          0.6396396396396397,
          0.6406406406406406,
          0.6416416416416416,
          0.6426426426426426,
          0.6436436436436437,
          0.6446446446446447,
          0.6456456456456456,
          0.6466466466466466,
          0.6476476476476476,
          0.6486486486486487,
          0.6496496496496497,
          0.6506506506506506,
          0.6516516516516516,
          0.6526526526526526,
          0.6536536536536537,
          0.6546546546546547,
          0.6556556556556556,
          0.6566566566566566,
          0.6576576576576576,
          0.6586586586586587,
          0.6596596596596597,
          0.6606606606606606,
          0.6616616616616616,
          0.6626626626626626,
          0.6636636636636637,
          0.6646646646646647,
          0.6656656656656657,
          0.6666666666666666,
          0.6676676676676676,
          0.6686686686686687,
          0.6696696696696697,
          0.6706706706706707,
          0.6716716716716716,
          0.6726726726726726,
          0.6736736736736737,
          0.6746746746746747,
          0.6756756756756757,
          0.6766766766766766,
          0.6776776776776777,
          0.6786786786786787,
          0.6796796796796797,
          0.6806806806806807,
          0.6816816816816816,
          0.6826826826826827,
          0.6836836836836837,
          0.6846846846846847,
          0.6856856856856857,
          0.6866866866866866,
          0.6876876876876877,
          0.6886886886886887,
          0.6896896896896897,
          0.6906906906906907,
          0.6916916916916916,
          0.6926926926926927,
          0.6936936936936937,
          0.6946946946946947,
          0.6956956956956957,
          0.6966966966966966,
          0.6976976976976977,
          0.6986986986986987,
          0.6996996996996997,
          0.7007007007007007,
          0.7017017017017017,
          0.7027027027027027,
          0.7037037037037037,
          0.7047047047047047,
          0.7057057057057057,
          0.7067067067067067,
          0.7077077077077077,
          0.7087087087087087,
          0.7097097097097097,
          0.7107107107107107,
          0.7117117117117117,
          0.7127127127127127,
          0.7137137137137137,
          0.7147147147147147,
          0.7157157157157157,
          0.7167167167167167,
          0.7177177177177178,
          0.7187187187187187,
          0.7197197197197197,
          0.7207207207207207,
          0.7217217217217217,
          0.7227227227227228,
          0.7237237237237237,
          0.7247247247247247,
          0.7257257257257257,
          0.7267267267267267,
          0.7277277277277278,
          0.7287287287287287,
          0.7297297297297297,
          0.7307307307307307,
          0.7317317317317317,
          0.7327327327327328,
          0.7337337337337337,
          0.7347347347347347,
          0.7357357357357357,
          0.7367367367367368,
          0.7377377377377378,
          0.7387387387387387,
          0.7397397397397397,
          0.7407407407407407,
          0.7417417417417418,
          0.7427427427427428,
          0.7437437437437437,
          0.7447447447447447,
          0.7457457457457457,
          0.7467467467467468,
          0.7477477477477478,
          0.7487487487487487,
          0.7497497497497497,
          0.7507507507507507,
          0.7517517517517518,
          0.7527527527527528,
          0.7537537537537538,
          0.7547547547547547,
          0.7557557557557557,
          0.7567567567567568,
          0.7577577577577578,
          0.7587587587587588,
          0.7597597597597597,
          0.7607607607607607,
          0.7617617617617618,
          0.7627627627627628,
          0.7637637637637638,
          0.7647647647647647,
          0.7657657657657657,
          0.7667667667667668,
          0.7677677677677678,
          0.7687687687687688,
          0.7697697697697697,
          0.7707707707707707,
          0.7717717717717718,
          0.7727727727727728,
          0.7737737737737738,
          0.7747747747747747,
          0.7757757757757757,
          0.7767767767767768,
          0.7777777777777778,
          0.7787787787787788,
          0.7797797797797797,
          0.7807807807807807,
          0.7817817817817818,
          0.7827827827827828,
          0.7837837837837838,
          0.7847847847847848,
          0.7857857857857857,
          0.7867867867867868,
          0.7877877877877878,
          0.7887887887887888,
          0.7897897897897898,
          0.7907907907907907,
          0.7917917917917918,
          0.7927927927927928,
          0.7937937937937938,
          0.7947947947947948,
          0.7957957957957957,
          0.7967967967967968,
          0.7977977977977978,
          0.7987987987987988,
          0.7997997997997998,
          0.8008008008008007,
          0.8018018018018018,
          0.8028028028028028,
          0.8038038038038038,
          0.8048048048048048,
          0.8058058058058059,
          0.8068068068068068,
          0.8078078078078078,
          0.8088088088088088,
          0.8098098098098098,
          0.8108108108108109,
          0.8118118118118118,
          0.8128128128128128,
          0.8138138138138138,
          0.8148148148148148,
          0.8158158158158159,
          0.8168168168168168,
          0.8178178178178178,
          0.8188188188188188,
          0.8198198198198198,
          0.8208208208208209,
          0.8218218218218218,
          0.8228228228228228,
          0.8238238238238238,
          0.8248248248248248,
          0.8258258258258259,
          0.8268268268268268,
          0.8278278278278278,
          0.8288288288288288,
          0.8298298298298298,
          0.8308308308308309,
          0.8318318318318318,
          0.8328328328328328,
          0.8338338338338338,
          0.8348348348348348,
          0.8358358358358359,
          0.8368368368368369,
          0.8378378378378378,
          0.8388388388388388,
          0.8398398398398398,
          0.8408408408408409,
          0.8418418418418419,
          0.8428428428428428,
          0.8438438438438438,
          0.8448448448448448,
          0.8458458458458459,
          0.8468468468468469,
          0.8478478478478478,
          0.8488488488488488,
          0.8498498498498498,
          0.8508508508508509,
          0.8518518518518519,
          0.8528528528528528,
          0.8538538538538538,
          0.8548548548548548,
          0.8558558558558559,
          0.8568568568568569,
          0.8578578578578578,
          0.8588588588588588,
          0.8598598598598598,
          0.8608608608608609,
          0.8618618618618619,
          0.8628628628628628,
          0.8638638638638638,
          0.8648648648648649,
          0.8658658658658659,
          0.8668668668668669,
          0.8678678678678678,
          0.8688688688688688,
          0.8698698698698699,
          0.8708708708708709,
          0.8718718718718719,
          0.8728728728728729,
          0.8738738738738738,
          0.8748748748748749,
          0.8758758758758759,
          0.8768768768768769,
          0.8778778778778779,
          0.8788788788788788,
          0.8798798798798799,
          0.8808808808808809,
          0.8818818818818819,
          0.8828828828828829,
          0.8838838838838838,
          0.8848848848848849,
          0.8858858858858859,
          0.8868868868868869,
          0.8878878878878879,
          0.8888888888888888,
          0.8898898898898899,
          0.8908908908908909,
          0.8918918918918919,
          0.8928928928928929,
          0.8938938938938938,
          0.8948948948948949,
          0.8958958958958959,
          0.8968968968968969,
          0.8978978978978979,
          0.8988988988988988,
          0.8998998998998999,
          0.9009009009009009,
          0.9019019019019019,
          0.9029029029029029,
          0.9039039039039038,
          0.9049049049049049,
          0.9059059059059059,
          0.9069069069069069,
          0.9079079079079079,
          0.9089089089089089,
          0.9099099099099099,
          0.9109109109109109,
          0.9119119119119119,
          0.9129129129129129,
          0.9139139139139139,
          0.914914914914915,
          0.9159159159159159,
          0.9169169169169169,
          0.9179179179179179,
          0.9189189189189189,
          0.91991991991992,
          0.9209209209209209,
          0.9219219219219219,
          0.9229229229229229,
          0.9239239239239239,
          0.924924924924925,
          0.9259259259259259,
          0.9269269269269269,
          0.9279279279279279,
          0.9289289289289289,
          0.92992992992993,
          0.9309309309309309,
          0.9319319319319319,
          0.9329329329329329,
          0.933933933933934,
          0.934934934934935,
          0.9359359359359359,
          0.9369369369369369,
          0.9379379379379379,
          0.938938938938939,
          0.93993993993994,
          0.9409409409409409,
          0.9419419419419419,
          0.9429429429429429,
          0.943943943943944,
          0.944944944944945,
          0.9459459459459459,
          0.9469469469469469,
          0.9479479479479479,
          0.948948948948949,
          0.94994994994995,
          0.950950950950951,
          0.9519519519519519,
          0.9529529529529529,
          0.953953953953954,
          0.954954954954955,
          0.955955955955956,
          0.9569569569569569,
          0.9579579579579579,
          0.958958958958959,
          0.95995995995996,
          0.960960960960961,
          0.9619619619619619,
          0.9629629629629629,
          0.963963963963964,
          0.964964964964965,
          0.965965965965966,
          0.9669669669669669,
          0.9679679679679679,
          0.968968968968969,
          0.96996996996997,
          0.970970970970971,
          0.9719719719719719,
          0.9729729729729729,
          0.973973973973974,
          0.974974974974975,
          0.975975975975976,
          0.9769769769769769,
          0.9779779779779779,
          0.978978978978979,
          0.97997997997998,
          0.980980980980981,
          0.9819819819819819,
          0.9829829829829829,
          0.983983983983984,
          0.984984984984985,
          0.985985985985986,
          0.986986986986987,
          0.9879879879879879,
          0.988988988988989,
          0.98998998998999,
          0.990990990990991,
          0.991991991991992,
          0.992992992992993,
          0.993993993993994,
          0.994994994994995,
          0.995995995995996,
          0.996996996996997,
          0.997997997997998,
          0.998998998998999,
          1
         ],
         "y": [
          1,
          1.000010063368508,
          1.00001776323067,
          1.0000231042468226,
          1.0000260910748984,
          1.000026728370421,
          1.0000250207865091,
          1.0000209729738745,
          1.0000145895808212,
          1.0000058752532492,
          0.9999948346346504,
          0.9999814723661105,
          0.999965793086308,
          0.9999478014315155,
          0.9999275020355999,
          0.9999048995300205,
          0.9998799985438305,
          0.9998528037036761,
          0.9998233196337978,
          0.9997915509560293,
          0.9997575022897978,
          0.9997211782521234,
          0.9996825834576203,
          0.9996417225184964,
          0.9995986000445527,
          0.9995532206431845,
          0.9995055889193787,
          0.9994557094757176,
          0.9994035869123757,
          0.9993492258271224,
          0.9992926308153195,
          0.9992338064699224,
          0.9991727573814801,
          0.999109488138135,
          0.9990440033256242,
          0.9989763075272765,
          0.9989064053240146,
          0.9988343012943561,
          0.9987600000144097,
          0.9986835060578804,
          0.9986048239960645,
          0.9985239583978528,
          0.9984409138297289,
          0.9983556948557702,
          0.9982683060376492,
          0.9981787519346288,
          0.9980870371035679,
          0.9979931660989174,
          0.997897143472723,
          0.9977989737746233,
          0.9976986615518497,
          0.9975962113492279,
          0.9974916277091769,
          0.9973849151717096,
          0.9972760782744321,
          0.9971651215525431,
          0.9970520495388357,
          0.9969368667636975,
          0.9968195777551072,
          0.9967001870386393,
          0.9965786991374603,
          0.9964551185723305,
          0.9963294498616045,
          0.9962016975212293,
          0.9960718660647458,
          0.9959399600032891,
          0.9958059838455863,
          0.9956699420979594,
          0.9955318392643232,
          0.9953916798461867,
          0.9952494683426516,
          0.9951052092504125,
          0.9949589070637592,
          0.9948105662745741,
          0.9946601913723332,
          0.9945077868441056,
          0.9943533571745541,
          0.9941969068459363,
          0.9940384403381006,
          0.9938779621284918,
          0.993715476692146,
          0.9935509885016931,
          0.9933845020273583,
          0.9932160217369584,
          0.9930455520959045,
          0.9928730975672009,
          0.9926986626114451,
          0.9925222516868291,
          0.9923438692491378,
          0.9921635197517495,
          0.9919812076456358,
          0.9917969373793625,
          0.9916107133990879,
          0.9914225401485652,
          0.9912324220691396,
          0.9910403635997515,
          0.9908463691769318,
          0.9906504432348092,
          0.9904525902051021,
          0.9902528145171249,
          0.9900511205977829,
          0.9898475128715779,
          0.9896419957606031,
          0.9894345736845461,
          0.989225251060688,
          0.9890140323039025,
          0.9888009218266577,
          0.9885859240390151,
          0.9883690433486298,
          0.9881502841607498,
          0.9879296508782167,
          0.987707147901466,
          0.9874827796285273,
          0.9872565504550217,
          0.9870284647741662,
          0.9867985269767687,
          0.9865667414512331,
          0.9863331125835554,
          0.9860976447573258,
          0.9858603423537274,
          0.9856212097515367,
          0.9853802513271236,
          0.985137471454453,
          0.9848928745050816,
          0.9846464648481601,
          0.9843982468504333,
          0.9841482248762383,
          0.983896403287507,
          0.9836427864437639,
          0.9833873787021276,
          0.9831301844173091,
          0.9828712079416141,
          0.9826104536249416,
          0.9823479258147839,
          0.9820836288562262,
          0.9818175670919483,
          0.9815497448622224,
          0.9812801665049158,
          0.9810088363554872,
          0.9807357587469901,
          0.9804609380100716,
          0.9801843784729715,
          0.9799060844615239,
          0.9796260602991558,
          0.9793443103068881,
          0.9790608388033348,
          0.9787756501047036,
          0.9784887485247963,
          0.9782001383750067,
          0.9779098239643241,
          0.9776178095993294,
          0.9773240995841979,
          0.9770286982206985,
          0.9767316098081933,
          0.9764328386436384,
          0.9761323890215825,
          0.9758302652341682,
          0.9755264715711321,
          0.975221012319804,
          0.9749138917651063,
          0.9746051141895565,
          0.9742946838732642,
          0.9739826050939335,
          0.9736688821268616,
          0.9733535192449392,
          0.9730365207186495,
          0.9727178908160716,
          0.972397633802876,
          0.9720757539423269,
          0.9717522554952831,
          0.971427142720196,
          0.9711004198731109,
          0.970772091207666,
          0.9704421609750944,
          0.9701106334242205,
          0.9697775128014648,
          0.9694428033508381,
          0.9691065093139484,
          0.9687686349299949,
          0.9684291844357696,
          0.9680881620656601,
          0.9677455720516461,
          0.9674014186233021,
          0.9670557060077941,
          0.9667084384298827,
          0.9663596201119231,
          0.9660092552738618,
          0.9656573481332406,
          0.965303902905194,
          0.9649489238024497,
          0.9645924150353291,
          0.9642343808117482,
          0.9638748253372149,
          0.963513752814832,
          0.9631511674452939,
          0.9627870734268905,
          0.9624214749555041,
          0.962054376224611,
          0.9616857814252805,
          0.9613156947461756,
          0.9609441203735536,
          0.9605710624912634,
          0.9601965252807495,
          0.9598205129210483,
          0.9594430295887909,
          0.9590640794582008,
          0.9586836667010961,
          0.9583017954868873,
          0.9579184699825796,
          0.9575336943527699,
          0.957147472759651,
          0.9567598093630073,
          0.9563707083202172,
          0.9559801737862532,
          0.9555882099136798,
          0.9551948208526573,
          0.9548000107509375,
          0.9544037837538665,
          0.9540061440043838,
          0.9536070956430226,
          0.9532066428079091,
          0.9528047896347634,
          0.9524015402568992,
          0.9519968988052236,
          0.951590869408236,
          0.9511834561920314,
          0.9507746632802972,
          0.9503644947943142,
          0.949952954852957,
          0.9495400475726928,
          0.9491257770675844,
          0.948710147449286,
          0.9482931628270458,
          0.9478748273077068,
          0.9474551449957029,
          0.9470341199930643,
          0.946611756399413,
          0.9461880583119648,
          0.9457630298255294,
          0.9453366750325096,
          0.9449089980229017,
          0.9444800028842962,
          0.9440496937018762,
          0.9436180745584181,
          0.9431851495342931,
          0.9427509227074645,
          0.9423153981534904,
          0.9418785799455213,
          0.9414404721543014,
          0.9410010788481687,
          0.9405604040930552,
          0.9401184519524854,
          0.9396752264875771,
          0.9392307317570432,
          0.9387849718171881,
          0.9383379507219114,
          0.9378896725227056,
          0.937440141268656,
          0.9369893610064424,
          0.936537335780337,
          0.9360840696322072,
          0.9356295666015124,
          0.935173830725306,
          0.9347168660382345,
          0.9342586765725382,
          0.9337992663580521,
          0.9333386394222024,
          0.9328767997900101,
          0.9324137514840898,
          0.9319494985246494,
          0.9314840449294902,
          0.9310173947140067,
          0.9305495518911876,
          0.9300805204716146,
          0.9296103044634629,
          0.929138907872502,
          0.9286663347020931,
          0.9281925889531929,
          0.9277176746243507,
          0.9272415957117087,
          0.9267643562090037,
          0.9262859601075653,
          0.9258064113963167,
          0.925325714061775,
          0.9248438720880503,
          0.9243608894568466,
          0.9238767701474607,
          0.923391518136784,
          0.9229051373993005,
          0.9224176319070878,
          0.9219290056298175,
          0.9214392625347542,
          0.9209484065867561,
          0.9204564417482753,
          0.9199633719793568,
          0.9194692012376395,
          0.9189739334783555,
          0.9184775726543302,
          0.9179801227159837,
          0.9174815876113283,
          0.9169819712859701,
          0.916481277683109,
          0.9159795107435381,
          0.915476674405645,
          0.9149727726054083,
          0.9144678092764033,
          0.9139617883497961,
          0.9134547137543481,
          0.9129465894164137,
          0.9124374192599397,
          0.9119272072064681,
          0.9114159571751334,
          0.9109036730826636,
          0.9103903588433808,
          0.9098760183691998,
          0.9093606555696295,
          0.9088442743517721,
          0.9083268786203234,
          0.9078084722775724,
          0.9072890592234016,
          0.9067686433552878,
          0.9062472285683,
          0.9057248187551019,
          0.9052014178059501,
          0.9046770296086943,
          0.9041516580487784,
          0.9036253070092402,
          0.9030979803707095,
          0.902569682011411,
          0.902040415807162,
          0.9015101856313738,
          0.9009789953550508,
          0.9004468488467919,
          0.8999137499727881,
          0.8993797025968244,
          0.8988447105802798,
          0.8983087777821266,
          0.89777190805893,
          0.8972341052648494,
          0.896695373251637,
          0.8961557158686395,
          0.8956151369627968,
          0.8950736403786406,
          0.8945312299582989,
          0.8939879095414912,
          0.8934436829655312,
          0.892898554065326,
          0.8923525266733764,
          0.8918056046197761,
          0.891257791732213,
          0.890709091835968,
          0.8901595087539159,
          0.8896090463065248,
          0.8890577083118563,
          0.8885054985855647,
          0.8879524209408994,
          0.8873984791887028,
          0.8868436771374094,
          0.8862880185930493,
          0.885731507359244,
          0.8851741472372108,
          0.884615942025758,
          0.8840568955212892,
          0.8834970115178014,
          0.882936293806884,
          0.8823747461777207,
          0.8818123724170891,
          0.8812491763093587,
          0.8806851616364946,
          0.8801203321780533,
          0.8795546917111868,
          0.878988244010639,
          0.878420992848748,
          0.8778529419954457,
          0.8772840952182566,
          0.8767144562822995,
          0.8761440289502865,
          0.8755728169825229,
          0.8750008241369078,
          0.8744280541689334,
          0.8738545108316864,
          0.8732801978758457,
          0.8727051190496843,
          0.8721292780990687,
          0.8715526787674595,
          0.8709753247959096,
          0.8703972199230657,
          0.869818367885169,
          0.869238772416053,
          0.8686584372471449,
          0.868077366107467,
          0.8674955627236323,
          0.8669130308198492,
          0.8663297741179194,
          0.8657457963372377,
          0.8651611011947926,
          0.8645756924051657,
          0.863989573680533,
          0.8634027487306632,
          0.8628152212629189,
          0.8622269949822556,
          0.8616380735912228,
          0.8610484607899636,
          0.8604581602762147,
          0.8598671757453056,
          0.8592755108901601,
          0.8586831694012949,
          0.8580901549668204,
          0.8574964712724403,
          0.8569021220014523,
          0.8563071108347471,
          0.8557114414508094,
          0.8551151175257169,
          0.8545181427331414,
          0.8539205207443469,
          0.8533222552281925,
          0.85272334985113,
          0.852123808277204,
          0.851523634168055,
          0.8509228311829138,
          0.8503214029786074,
          0.849719353209554,
          0.8491166855277676,
          0.8485134035828539,
          0.8479095110220132,
          0.8473050114900386,
          0.8466999086293163,
          0.8460942060798281,
          0.845487907479147,
          0.8448810164624398,
          0.8442735366624684,
          0.8436654717095865,
          0.8430568252317425,
          0.842447600854477,
          0.8418378022009252,
          0.8412274328918156,
          0.8406164965454695,
          0.8400049967778029,
          0.8393929372023241,
          0.8387803214301357,
          0.8381671530699331,
          0.8375534357280062,
          0.8369391730082375,
          0.8363243685121033,
          0.835709025838673,
          0.8350931485846107,
          0.8344767403441726,
          0.8338598047092094,
          0.8332423452691644,
          0.8326243656110751,
          0.8320058693195727,
          0.8313868599768807,
          0.8307673411628177,
          0.830147316454794,
          0.8295267894278153,
          0.8289057636544792,
          0.828284242704978,
          0.8276622301470966,
          0.8270397295462139,
          0.8264167444653019,
          0.8257932784649269,
          0.825169335103247,
          0.8245449179360163,
          0.8239200305165806,
          0.8232946763958794,
          0.8226688591224457,
          0.8220425822424069,
          0.8214158492994829,
          0.820788663834987,
          0.8201610293878272,
          0.819532949494504,
          0.818904427689111,
          0.8182754675033367,
          0.8176460724664617,
          0.8170162461053614,
          0.8163859919445033,
          0.8157553135059494,
          0.8151242143093551,
          0.8144926978719684,
          0.813860767708632,
          0.8132284273317821,
          0.8125956802514468,
          0.8119625299752498,
          0.8113289800084064,
          0.8106950338537268,
          0.8100606950116137,
          0.8094259669800646,
          0.8087908532546687,
          0.8081553573286103,
          0.8075194826926665,
          0.8068832328352076,
          0.8062466112421983,
          0.8056096213971957,
          0.8049722667813513,
          0.8043345508734095,
          0.8036964771497083,
          0.80305804908418,
          0.8024192701483491,
          0.8017801438113348,
          0.8011406735398484,
          0.8005008627981962,
          0.7998607150482774,
          0.7992202337495836,
          0.7985794223592025,
          0.7979382843318124,
          0.7972968231196871,
          0.7966550421726925,
          0.7960129449382897,
          0.7953705348615316,
          0.7947278153850654,
          0.7940847899491316,
          0.7934414619915648,
          0.7927978349477922,
          0.7921539122508346,
          0.7915096973313068,
          0.7908651936174177,
          0.7902204045349676,
          0.7895753335073524,
          0.7889299839555601,
          0.7882843592981733,
          0.7876384629513672,
          0.786992298328911,
          0.7863458688421674,
          0.7856991779000916,
          0.7850522289092347,
          0.7844050252737383,
          0.7837575703953396,
          0.783109867673369,
          0.782461920504749,
          0.7818137322839974,
          0.7811653064032246,
          0.7805166462521347,
          0.7798677552180252,
          0.7792186366857866,
          0.7785692940379043,
          0.7779197306544553,
          0.7772699499131122,
          0.7766199551891393,
          0.7759697498553951,
          0.7753193372823318,
          0.7746687208379949,
          0.7740179038880237,
          0.7733668897956499,
          0.7727156819217007,
          0.772064283624594,
          0.7714126982603439,
          0.7707609291825565,
          0.7701089797424322,
          0.769456853288764,
          0.7688045531679388,
          0.7681520827239376,
          0.767499445298334,
          0.7668466442302957,
          0.7661936828565831,
          0.7655405645115513,
          0.7648872925271479,
          0.7642338702329144,
          0.7635803009559858,
          0.7629265880210907,
          0.7622727347505506,
          0.7616187444642812,
          0.7609646204797916,
          0.7603103661121839,
          0.7596559846741543,
          0.7590014794759922,
          0.7583468538255803,
          0.757692111028395,
          0.7570372543875066,
          0.7563822872035784,
          0.755727212774867,
          0.7550720343972229,
          0.7544167553640903,
          0.7537613789665064,
          0.753105908493102,
          0.7524503472301016,
          0.7517946984613229,
          0.7511389654681775,
          0.7504831515296704,
          0.7498272599223997,
          0.7491712939205576,
          0.7485152567959291,
          0.7478591518178934,
          0.7472029822534227,
          0.7465467513670826,
          0.745890462421033,
          0.7452341186750263,
          0.7445777233864093,
          0.7439212798101213,
          0.7432647911986964,
          0.7426082608022605,
          0.7419516918685347,
          0.7412950876428327,
          0.7406384513680616,
          0.7399817862847223,
          0.7393250956309093,
          0.7386683826423104,
          0.7380116505522064,
          0.737354902591473,
          0.7366981419885777,
          0.7360413719695831,
          0.735384595758144,
          0.7347278165755092,
          0.734071037640521,
          0.7334142621696157,
          0.7327574933768216,
          0.7321007344737626,
          0.7314439886696543,
          0.7307872591713072,
          0.7301305491831235,
          0.7294738619071007,
          0.7288172005428291,
          0.7281605682874921,
          0.7275039683358674,
          0.7268474038803254,
          0.7261908781108309,
          0.7255343942149409,
          0.7248779553778075,
          0.7242215647821747,
          0.7235652256083811,
          0.7229089410343583,
          0.7222527142356321,
          0.7215965483853206,
          0.7209404466541363,
          0.7202844122103848,
          0.7196284482199655,
          0.7189725578463712,
          0.718316744250688,
          0.7176610105915955,
          0.7170053600253674,
          0.7163497957058698,
          0.7156943207845632,
          0.7150389384105015,
          0.7143836517303316,
          0.7137284638882944,
          0.713073378026224,
          0.7124183972835483,
          0.7117635247972882,
          0.7111087637020588,
          0.7104541171300676,
          0.7097995882111172,
          0.709145180072602,
          0.7084908958395112,
          0.7078367386344268,
          0.7071827115775242,
          0.7065288177865731,
          0.7058750603769358,
          0.7052214424615687,
          0.7045679671510214,
          0.7039146375534369,
          0.703261456774552,
          0.7026084279176968,
          0.7019555540837947,
          0.7013028383713635,
          0.7006502838765134,
          0.6999978936929485,
          0.6993456709119668,
          0.698693618622459,
          0.69804173991091,
          0.697390037861398,
          0.6967385155555942,
          0.6960871760727638,
          0.6954360224897663,
          0.694785057881053,
          0.6941342853186695,
          0.6934837078722551,
          0.6928333286090425,
          0.6921831505938575,
          0.6915331768891201,
          0.6908834105548429,
          0.6902338546486331,
          0.6895845122256905,
          0.6889353863388087,
          0.6882864800383744,
          0.6876377963723687,
          0.6869893383863659,
          0.6863411091235332,
          0.6856931116246314,
          0.6850453489280155,
          0.6843978240696332,
          0.6837505400830264,
          0.6831034999993303,
          0.682456706847273,
          0.6818101636531767,
          0.6811638734409573,
          0.6805178392321236,
          0.6798720640457776,
          0.6792265508986165,
          0.6785813028049289,
          0.6779363227765984,
          0.6772916138231009,
          0.6766471789515075,
          0.6760030211664804,
          0.6753591434702771,
          0.6747155488627486,
          0.6740722403413387,
          0.6734292209010847,
          0.6727864935346182,
          0.6721440612321627,
          0.671501926981537,
          0.6708600937681523,
          0.6702185645750137,
          0.6695773423827197,
          0.668936430169462,
          0.6682958309110266,
          0.6676555475807923,
          0.6670155831497312,
          0.6663759405864099,
          0.665736622856987,
          0.6650976329252164,
          0.6644589737524446,
          0.663820648297611,
          0.663182659517249,
          0.6625450103654862,
          0.6619077037940425,
          0.6612707427522322,
          0.6606341301869624,
          0.6599978690427344,
          0.6593619622616423,
          0.6587264127833742,
          0.6580912235452119,
          0.6574563974820298,
          0.6568219375262967,
          0.6561878466080739,
          0.6555541276550179,
          0.6549207835923767,
          0.6542878173429931,
          0.653655231827303,
          0.6530230299633359,
          0.6523912146667146,
          0.6517597888506554,
          0.6511287554259685,
          0.650498117301057,
          0.6498678773819181,
          0.6492380385721421,
          0.6486086037729124,
          0.6479795758830073,
          0.6473509577987964,
          0.6467227524142456,
          0.6460949626209118,
          0.6454675913079467,
          0.6448406413620952,
          0.6442141156676956,
          0.6435880171066799,
          0.6429623485585731,
          0.6423371129004946,
          0.641712313007156,
          0.6410879517508642,
          0.6404640320015172,
          0.6398405566266092,
          0.6392175284912258,
          0.6385949504580472,
          0.6379728253873461,
          0.63735115613699,
          0.6367299455624393,
          0.6361091965167471,
          0.6354889118505618,
          0.6348690944121232,
          0.6342497470472663,
          0.6336308725994183,
          0.6330124739096015,
          0.6323945538164293,
          0.6317771151561109,
          0.6311601607624485,
          0.6305436934668366,
          0.6299277160982646,
          0.6293122314833142,
          0.6286972424461617,
          0.628082751808576,
          0.6274687623899201,
          0.6268552770071504,
          0.6262422984748166,
          0.6256298296050617,
          0.6250178732076229,
          0.62440643208983,
          0.6237955090566074,
          0.623185106910472,
          0.6225752284515345,
          0.621965876477499,
          0.6213570537836637,
          0.6207487631629195,
          0.620141007405752,
          0.6195337893002381,
          0.6189271116320503,
          0.618320977184454,
          0.6177153887383071,
          0.6171103490720629,
          0.6165058609617666,
          0.6159019271810575,
          0.6152985505011682,
          0.6146957336909251,
          0.6140934795167476,
          0.6134917907426493,
          0.612890670130237,
          0.6122901204387107,
          0.6116901444248636,
          0.6110907448430838,
          0.6104919244453515,
          0.6098936859812409,
          0.6092960321979202,
          0.6086989658401498,
          0.608102489650285,
          0.6075066063682735,
          0.6069113187316575,
          0.6063166294755719,
          0.6057225413327454,
          0.6051290570335,
          0.6045361793057519,
          0.6039439108750094,
          0.6033522544643761,
          0.6027612127945476,
          0.6021707885838137,
          0.6015809845480575,
          0.600991803400756,
          0.6004032478529786,
          0.5998153206133898,
          0.599228024388246,
          0.5986413618813984,
          0.5980553357942906,
          0.5974699488259609,
          0.5968852036730401,
          0.5963011030297525,
          0.5957176495879167,
          0.5951348460369443,
          0.59455269506384,
          0.5939711993532029,
          0.5933903615872247,
          0.5928101844456912,
          0.5922306706059818,
          0.5916518227430686,
          0.5910736435295179,
          0.5904961356354892,
          0.5899193017287357,
          0.5893431444746043,
          0.5887676665360344,
          0.5881928705735602,
          0.5876187592453084,
          0.5870453352069996,
          0.5864726011119481,
          0.5859005596110617,
          0.5853292133528406,
          0.5847585649833802,
          0.584188617146368,
          0.583619372483086,
          0.583050833632409,
          0.5824830032308053,
          0.5819158839123377,
          0.5813494783086611,
          0.5807837890490251,
          0.5802188187602714,
          0.5796545700668367,
          0.5790910455907505,
          0.5785282479516353,
          0.5779661797667086,
          0.5774048436507795,
          0.5768442422162519,
          0.5762843780731226,
          0.5757252538289825,
          0.5751668720890155,
          0.5746092354559986,
          0.5740523465303037,
          0.5734962079098946,
          0.5729408221903296,
          0.5723861919647601,
          0.5718323198239309,
          0.5712792083561808,
          0.5707268601474418,
          0.5701752777812392,
          0.5696244638386921,
          0.5690744208985129,
          0.5685251515370076,
          0.5679766583280753,
          0.5674289438432099,
          0.566882010651497,
          0.5663358613196171,
          0.5657904984118429,
          0.5652459244900425,
          0.5647021421136754,
          0.5641591538397959,
          0.5636169622230516,
          0.563075569815683,
          0.5625349791675252,
          0.5619951928260052,
          0.5614562133361454,
          0.5609180432405603,
          0.5603806850794579,
          0.5598441413906411,
          0.5593084147095045,
          0.5587735075690373,
          0.558239422499822,
          0.5577061620300343,
          0.557173728685444,
          0.5566421249894135,
          0.5561113534628995,
          0.5555814166244519,
          0.5550523169902141,
          0.5545240570739227,
          0.5539966393869085,
          0.5534700664380952,
          0.5529443407340001,
          0.5524194647787343,
          0.5518954410740019,
          0.5513722721191011,
          0.5508499604109228,
          0.5503285084439524,
          0.549807918710268,
          0.5492881936995415,
          0.5487693358990384,
          0.5482513477936172,
          0.5477342318657304,
          0.547217990595424,
          0.5467026264603372,
          0.546188141935703,
          0.5456745394943476,
          0.5451618216066909,
          0.5446499907407462,
          0.5441390493621203,
          0.5436289999340138,
          0.54311984491722,
          0.5426115867701264,
          0.5421042279487144,
          0.5415977709065575,
          0.5410922180948241,
          0.5405875719622751,
          0.5400838349552654,
          0.5395810095177431,
          0.5390790980912509,
          0.5385781031149234,
          0.538078027025489,
          0.5375788722572709,
          0.5370806412421841,
          0.5365833364097388,
          0.5360869601870368,
          0.5355915149987747,
          0.5350970032672426,
          0.5346034274123233,
          0.5341107898514941,
          0.5336190929998248,
          0.533128339269979,
          0.5326385310722146,
          0.5321496708143822,
          0.5316617609019257,
          0.5311748037378832,
          0.5306888017228859,
          0.5302037572551582,
          0.5297196727305187,
          0.5292365505423788,
          0.5287543930817441,
          0.5282732027372132,
          0.5277929818949785,
          0.5273137329388251,
          0.5268354582501331,
          0.5263581602078744,
          0.5258818411886158,
          0.5254065035665167,
          0.5249321497133308,
          0.5244587819984038,
          0.5239864027886768,
          0.5235150144486835,
          0.5230446193405502,
          0.5225752198239985,
          0.5221068182563426,
          0.5216394169924894,
          0.5211730183849409,
          0.5207076247837916,
          0.5202432385367295,
          0.5197798619890363,
          0.5193174974835865,
          0.5188561473608497,
          0.5183958139588887,
          0.5179364996133572,
          0.5174782066575065,
          0.5170209374221777,
          0.516564694235807,
          0.5161094794244252,
          0.5156552953116548,
          0.5152021442187117,
          0.5147500284644072,
          0.514298950365144,
          0.5138489122349199,
          0.5133999163853256,
          0.5129519651255449,
          0.5125050607623556,
          0.5120592056001283,
          0.5116144019408285,
          0.5111706520840138,
          0.5107279583268357,
          0.5102863229640398,
          0.5098457482879636,
          0.5094062365885405,
          0.5089677901532949,
          0.5085304112673473,
          0.5080941022134098,
          0.5076588652717877,
          0.5072247027203814,
          0.5067916168346839,
          0.5063596098877806,
          0.5059286841503543,
          0.5054988418906753,
          0.5050700853746136,
          0.5046424168656272
         ]
        },
        {
         "line": {
          "color": "hsv(120,100,100)",
          "dash": "dash",
          "width": 2
         },
         "marker": {
          "line": {
           "color": "hsv(120,100,100)",
           "width": 1
          },
          "size": 10,
          "symbol": "triangle-down"
         },
         "mode": "markers",
         "name": "arcsin",
         "textfont": {
          "color": "LightSeaGreen",
          "family": "Times New Roman",
          "size": 18
         },
         "type": "scatter",
         "x": [
          0,
          0.001001001001001001,
          0.002002002002002002,
          0.003003003003003003,
          0.004004004004004004,
          0.005005005005005005,
          0.006006006006006006,
          0.007007007007007007,
          0.008008008008008008,
          0.009009009009009009,
          0.01001001001001001,
          0.011011011011011011,
          0.012012012012012012,
          0.013013013013013013,
          0.014014014014014014,
          0.015015015015015015,
          0.016016016016016016,
          0.017017017017017015,
          0.018018018018018018,
          0.01901901901901902,
          0.02002002002002002,
          0.02102102102102102,
          0.022022022022022022,
          0.023023023023023025,
          0.024024024024024024,
          0.025025025025025023,
          0.026026026026026026,
          0.02702702702702703,
          0.028028028028028028,
          0.029029029029029027,
          0.03003003003003003,
          0.031031031031031032,
          0.03203203203203203,
          0.03303303303303303,
          0.03403403403403403,
          0.035035035035035036,
          0.036036036036036036,
          0.037037037037037035,
          0.03803803803803804,
          0.03903903903903904,
          0.04004004004004004,
          0.04104104104104104,
          0.04204204204204204,
          0.043043043043043044,
          0.044044044044044044,
          0.04504504504504504,
          0.04604604604604605,
          0.04704704704704705,
          0.04804804804804805,
          0.04904904904904905,
          0.050050050050050046,
          0.05105105105105105,
          0.05205205205205205,
          0.05305305305305305,
          0.05405405405405406,
          0.055055055055055056,
          0.056056056056056056,
          0.057057057057057055,
          0.058058058058058054,
          0.05905905905905906,
          0.06006006006006006,
          0.06106106106106106,
          0.062062062062062065,
          0.06306306306306306,
          0.06406406406406406,
          0.06506506506506507,
          0.06606606606606606,
          0.06706706706706707,
          0.06806806806806806,
          0.06906906906906907,
          0.07007007007007007,
          0.07107107107107107,
          0.07207207207207207,
          0.07307307307307308,
          0.07407407407407407,
          0.07507507507507508,
          0.07607607607607608,
          0.07707707707707707,
          0.07807807807807808,
          0.07907907907907907,
          0.08008008008008008,
          0.08108108108108109,
          0.08208208208208208,
          0.08308308308308308,
          0.08408408408408408,
          0.08508508508508508,
          0.08608608608608609,
          0.08708708708708708,
          0.08808808808808809,
          0.0890890890890891,
          0.09009009009009009,
          0.09109109109109109,
          0.0920920920920921,
          0.09309309309309309,
          0.0940940940940941,
          0.09509509509509509,
          0.0960960960960961,
          0.0970970970970971,
          0.0980980980980981,
          0.0990990990990991,
          0.10010010010010009,
          0.1011011011011011,
          0.1021021021021021,
          0.1031031031031031,
          0.1041041041041041,
          0.10510510510510511,
          0.1061061061061061,
          0.10710710710710711,
          0.10810810810810811,
          0.1091091091091091,
          0.11011011011011011,
          0.1111111111111111,
          0.11211211211211211,
          0.11311311311311312,
          0.11411411411411411,
          0.11511511511511512,
          0.11611611611611611,
          0.11711711711711711,
          0.11811811811811812,
          0.11911911911911911,
          0.12012012012012012,
          0.12112112112112113,
          0.12212212212212212,
          0.12312312312312312,
          0.12412412412412413,
          0.12512512512512514,
          0.12612612612612611,
          0.12712712712712712,
          0.12812812812812813,
          0.12912912912912913,
          0.13013013013013014,
          0.13113113113113112,
          0.13213213213213212,
          0.13313313313313313,
          0.13413413413413414,
          0.13513513513513514,
          0.13613613613613612,
          0.13713713713713713,
          0.13813813813813813,
          0.13913913913913914,
          0.14014014014014015,
          0.14114114114114115,
          0.14214214214214213,
          0.14314314314314314,
          0.14414414414414414,
          0.14514514514514515,
          0.14614614614614616,
          0.14714714714714713,
          0.14814814814814814,
          0.14914914914914915,
          0.15015015015015015,
          0.15115115115115116,
          0.15215215215215216,
          0.15315315315315314,
          0.15415415415415415,
          0.15515515515515516,
          0.15615615615615616,
          0.15715715715715717,
          0.15815815815815815,
          0.15915915915915915,
          0.16016016016016016,
          0.16116116116116116,
          0.16216216216216217,
          0.16316316316316315,
          0.16416416416416416,
          0.16516516516516516,
          0.16616616616616617,
          0.16716716716716717,
          0.16816816816816815,
          0.16916916916916916,
          0.17017017017017017,
          0.17117117117117117,
          0.17217217217217218,
          0.17317317317317318,
          0.17417417417417416,
          0.17517517517517517,
          0.17617617617617617,
          0.17717717717717718,
          0.1781781781781782,
          0.17917917917917917,
          0.18018018018018017,
          0.18118118118118118,
          0.18218218218218218,
          0.1831831831831832,
          0.1841841841841842,
          0.18518518518518517,
          0.18618618618618618,
          0.1871871871871872,
          0.1881881881881882,
          0.1891891891891892,
          0.19019019019019018,
          0.19119119119119118,
          0.1921921921921922,
          0.1931931931931932,
          0.1941941941941942,
          0.19519519519519518,
          0.1961961961961962,
          0.1971971971971972,
          0.1981981981981982,
          0.1991991991991992,
          0.20020020020020018,
          0.2012012012012012,
          0.2022022022022022,
          0.2032032032032032,
          0.2042042042042042,
          0.20520520520520522,
          0.2062062062062062,
          0.2072072072072072,
          0.2082082082082082,
          0.2092092092092092,
          0.21021021021021022,
          0.2112112112112112,
          0.2122122122122122,
          0.2132132132132132,
          0.21421421421421422,
          0.21521521521521522,
          0.21621621621621623,
          0.2172172172172172,
          0.2182182182182182,
          0.21921921921921922,
          0.22022022022022023,
          0.22122122122122123,
          0.2222222222222222,
          0.22322322322322322,
          0.22422422422422422,
          0.22522522522522523,
          0.22622622622622623,
          0.2272272272272272,
          0.22822822822822822,
          0.22922922922922923,
          0.23023023023023023,
          0.23123123123123124,
          0.23223223223223222,
          0.23323323323323322,
          0.23423423423423423,
          0.23523523523523523,
          0.23623623623623624,
          0.23723723723723725,
          0.23823823823823823,
          0.23923923923923923,
          0.24024024024024024,
          0.24124124124124124,
          0.24224224224224225,
          0.24324324324324323,
          0.24424424424424424,
          0.24524524524524524,
          0.24624624624624625,
          0.24724724724724725,
          0.24824824824824826,
          0.24924924924924924,
          0.2502502502502503,
          0.25125125125125125,
          0.25225225225225223,
          0.25325325325325326,
          0.25425425425425424,
          0.2552552552552553,
          0.25625625625625625,
          0.25725725725725723,
          0.25825825825825827,
          0.25925925925925924,
          0.2602602602602603,
          0.26126126126126126,
          0.26226226226226224,
          0.26326326326326327,
          0.26426426426426425,
          0.2652652652652653,
          0.26626626626626626,
          0.26726726726726724,
          0.2682682682682683,
          0.26926926926926925,
          0.2702702702702703,
          0.27127127127127126,
          0.27227227227227224,
          0.2732732732732733,
          0.27427427427427425,
          0.2752752752752753,
          0.27627627627627627,
          0.2772772772772773,
          0.2782782782782783,
          0.27927927927927926,
          0.2802802802802803,
          0.28128128128128127,
          0.2822822822822823,
          0.2832832832832833,
          0.28428428428428426,
          0.2852852852852853,
          0.2862862862862863,
          0.2872872872872873,
          0.2882882882882883,
          0.28928928928928926,
          0.2902902902902903,
          0.2912912912912913,
          0.2922922922922923,
          0.2932932932932933,
          0.29429429429429427,
          0.2952952952952953,
          0.2962962962962963,
          0.2972972972972973,
          0.2982982982982983,
          0.29929929929929927,
          0.3003003003003003,
          0.3013013013013013,
          0.3023023023023023,
          0.3033033033033033,
          0.30430430430430433,
          0.3053053053053053,
          0.3063063063063063,
          0.3073073073073073,
          0.3083083083083083,
          0.30930930930930933,
          0.3103103103103103,
          0.3113113113113113,
          0.3123123123123123,
          0.3133133133133133,
          0.31431431431431434,
          0.3153153153153153,
          0.3163163163163163,
          0.3173173173173173,
          0.3183183183183183,
          0.31931931931931934,
          0.3203203203203203,
          0.3213213213213213,
          0.32232232232232233,
          0.3233233233233233,
          0.32432432432432434,
          0.3253253253253253,
          0.3263263263263263,
          0.32732732732732733,
          0.3283283283283283,
          0.32932932932932935,
          0.3303303303303303,
          0.3313313313313313,
          0.33233233233233234,
          0.3333333333333333,
          0.33433433433433435,
          0.3353353353353353,
          0.3363363363363363,
          0.33733733733733734,
          0.3383383383383383,
          0.33933933933933935,
          0.34034034034034033,
          0.34134134134134136,
          0.34234234234234234,
          0.3433433433433433,
          0.34434434434434436,
          0.34534534534534533,
          0.34634634634634637,
          0.34734734734734735,
          0.3483483483483483,
          0.34934934934934936,
          0.35035035035035034,
          0.35135135135135137,
          0.35235235235235235,
          0.3533533533533533,
          0.35435435435435436,
          0.35535535535535534,
          0.3563563563563564,
          0.35735735735735735,
          0.35835835835835833,
          0.35935935935935936,
          0.36036036036036034,
          0.3613613613613614,
          0.36236236236236236,
          0.36336336336336333,
          0.36436436436436437,
          0.36536536536536535,
          0.3663663663663664,
          0.36736736736736736,
          0.3683683683683684,
          0.36936936936936937,
          0.37037037037037035,
          0.3713713713713714,
          0.37237237237237236,
          0.3733733733733734,
          0.3743743743743744,
          0.37537537537537535,
          0.3763763763763764,
          0.37737737737737737,
          0.3783783783783784,
          0.3793793793793794,
          0.38038038038038036,
          0.3813813813813814,
          0.38238238238238237,
          0.3833833833833834,
          0.3843843843843844,
          0.38538538538538536,
          0.3863863863863864,
          0.38738738738738737,
          0.3883883883883884,
          0.3893893893893894,
          0.39039039039039036,
          0.3913913913913914,
          0.3923923923923924,
          0.3933933933933934,
          0.3943943943943944,
          0.39539539539539537,
          0.3963963963963964,
          0.3973973973973974,
          0.3983983983983984,
          0.3993993993993994,
          0.40040040040040037,
          0.4014014014014014,
          0.4024024024024024,
          0.4034034034034034,
          0.4044044044044044,
          0.40540540540540543,
          0.4064064064064064,
          0.4074074074074074,
          0.4084084084084084,
          0.4094094094094094,
          0.41041041041041043,
          0.4114114114114114,
          0.4124124124124124,
          0.4134134134134134,
          0.4144144144144144,
          0.41541541541541543,
          0.4164164164164164,
          0.4174174174174174,
          0.4184184184184184,
          0.4194194194194194,
          0.42042042042042044,
          0.4214214214214214,
          0.4224224224224224,
          0.42342342342342343,
          0.4244244244244244,
          0.42542542542542544,
          0.4264264264264264,
          0.4274274274274274,
          0.42842842842842843,
          0.4294294294294294,
          0.43043043043043044,
          0.4314314314314314,
          0.43243243243243246,
          0.43343343343343343,
          0.4344344344344344,
          0.43543543543543545,
          0.4364364364364364,
          0.43743743743743746,
          0.43843843843843844,
          0.4394394394394394,
          0.44044044044044045,
          0.44144144144144143,
          0.44244244244244246,
          0.44344344344344344,
          0.4444444444444444,
          0.44544544544544545,
          0.44644644644644643,
          0.44744744744744747,
          0.44844844844844844,
          0.4494494494494494,
          0.45045045045045046,
          0.45145145145145144,
          0.45245245245245247,
          0.45345345345345345,
          0.4544544544544544,
          0.45545545545545546,
          0.45645645645645644,
          0.4574574574574575,
          0.45845845845845845,
          0.45945945945945943,
          0.46046046046046046,
          0.46146146146146144,
          0.4624624624624625,
          0.46346346346346345,
          0.46446446446446443,
          0.46546546546546547,
          0.46646646646646645,
          0.4674674674674675,
          0.46846846846846846,
          0.4694694694694695,
          0.47047047047047047,
          0.47147147147147145,
          0.4724724724724725,
          0.47347347347347346,
          0.4744744744744745,
          0.4754754754754755,
          0.47647647647647645,
          0.4774774774774775,
          0.47847847847847846,
          0.4794794794794795,
          0.4804804804804805,
          0.48148148148148145,
          0.4824824824824825,
          0.48348348348348347,
          0.4844844844844845,
          0.4854854854854855,
          0.48648648648648646,
          0.4874874874874875,
          0.48848848848848847,
          0.4894894894894895,
          0.4904904904904905,
          0.49149149149149146,
          0.4924924924924925,
          0.4934934934934935,
          0.4944944944944945,
          0.4954954954954955,
          0.4964964964964965,
          0.4974974974974975,
          0.4984984984984985,
          0.4994994994994995,
          0.5005005005005005,
          0.5015015015015015,
          0.5025025025025025,
          0.5035035035035035,
          0.5045045045045045,
          0.5055055055055055,
          0.5065065065065065,
          0.5075075075075075,
          0.5085085085085085,
          0.5095095095095095,
          0.5105105105105106,
          0.5115115115115115,
          0.5125125125125125,
          0.5135135135135135,
          0.5145145145145145,
          0.5155155155155156,
          0.5165165165165165,
          0.5175175175175175,
          0.5185185185185185,
          0.5195195195195195,
          0.5205205205205206,
          0.5215215215215215,
          0.5225225225225225,
          0.5235235235235235,
          0.5245245245245245,
          0.5255255255255256,
          0.5265265265265265,
          0.5275275275275275,
          0.5285285285285285,
          0.5295295295295295,
          0.5305305305305306,
          0.5315315315315315,
          0.5325325325325325,
          0.5335335335335335,
          0.5345345345345345,
          0.5355355355355356,
          0.5365365365365365,
          0.5375375375375375,
          0.5385385385385385,
          0.5395395395395395,
          0.5405405405405406,
          0.5415415415415415,
          0.5425425425425425,
          0.5435435435435435,
          0.5445445445445445,
          0.5455455455455456,
          0.5465465465465466,
          0.5475475475475475,
          0.5485485485485485,
          0.5495495495495496,
          0.5505505505505506,
          0.5515515515515516,
          0.5525525525525525,
          0.5535535535535535,
          0.5545545545545546,
          0.5555555555555556,
          0.5565565565565566,
          0.5575575575575575,
          0.5585585585585585,
          0.5595595595595596,
          0.5605605605605606,
          0.5615615615615616,
          0.5625625625625625,
          0.5635635635635635,
          0.5645645645645646,
          0.5655655655655656,
          0.5665665665665666,
          0.5675675675675675,
          0.5685685685685685,
          0.5695695695695696,
          0.5705705705705706,
          0.5715715715715716,
          0.5725725725725725,
          0.5735735735735735,
          0.5745745745745746,
          0.5755755755755756,
          0.5765765765765766,
          0.5775775775775776,
          0.5785785785785785,
          0.5795795795795796,
          0.5805805805805806,
          0.5815815815815816,
          0.5825825825825826,
          0.5835835835835835,
          0.5845845845845846,
          0.5855855855855856,
          0.5865865865865866,
          0.5875875875875876,
          0.5885885885885885,
          0.5895895895895896,
          0.5905905905905906,
          0.5915915915915916,
          0.5925925925925926,
          0.5935935935935935,
          0.5945945945945946,
          0.5955955955955956,
          0.5965965965965966,
          0.5975975975975976,
          0.5985985985985985,
          0.5995995995995996,
          0.6006006006006006,
          0.6016016016016016,
          0.6026026026026026,
          0.6036036036036035,
          0.6046046046046046,
          0.6056056056056056,
          0.6066066066066066,
          0.6076076076076076,
          0.6086086086086087,
          0.6096096096096096,
          0.6106106106106106,
          0.6116116116116116,
          0.6126126126126126,
          0.6136136136136137,
          0.6146146146146146,
          0.6156156156156156,
          0.6166166166166166,
          0.6176176176176176,
          0.6186186186186187,
          0.6196196196196196,
          0.6206206206206206,
          0.6216216216216216,
          0.6226226226226226,
          0.6236236236236237,
          0.6246246246246246,
          0.6256256256256256,
          0.6266266266266266,
          0.6276276276276276,
          0.6286286286286287,
          0.6296296296296297,
          0.6306306306306306,
          0.6316316316316316,
          0.6326326326326326,
          0.6336336336336337,
          0.6346346346346347,
          0.6356356356356356,
          0.6366366366366366,
          0.6376376376376376,
          0.6386386386386387,
          0.6396396396396397,
          0.6406406406406406,
          0.6416416416416416,
          0.6426426426426426,
          0.6436436436436437,
          0.6446446446446447,
          0.6456456456456456,
          0.6466466466466466,
          0.6476476476476476,
          0.6486486486486487,
          0.6496496496496497,
          0.6506506506506506,
          0.6516516516516516,
          0.6526526526526526,
          0.6536536536536537,
          0.6546546546546547,
          0.6556556556556556,
          0.6566566566566566,
          0.6576576576576576,
          0.6586586586586587,
          0.6596596596596597,
          0.6606606606606606,
          0.6616616616616616,
          0.6626626626626626,
          0.6636636636636637,
          0.6646646646646647,
          0.6656656656656657,
          0.6666666666666666,
          0.6676676676676676,
          0.6686686686686687,
          0.6696696696696697,
          0.6706706706706707,
          0.6716716716716716,
          0.6726726726726726,
          0.6736736736736737,
          0.6746746746746747,
          0.6756756756756757,
          0.6766766766766766,
          0.6776776776776777,
          0.6786786786786787,
          0.6796796796796797,
          0.6806806806806807,
          0.6816816816816816,
          0.6826826826826827,
          0.6836836836836837,
          0.6846846846846847,
          0.6856856856856857,
          0.6866866866866866,
          0.6876876876876877,
          0.6886886886886887,
          0.6896896896896897,
          0.6906906906906907,
          0.6916916916916916,
          0.6926926926926927,
          0.6936936936936937,
          0.6946946946946947,
          0.6956956956956957,
          0.6966966966966966,
          0.6976976976976977,
          0.6986986986986987,
          0.6996996996996997,
          0.7007007007007007,
          0.7017017017017017,
          0.7027027027027027,
          0.7037037037037037,
          0.7047047047047047,
          0.7057057057057057,
          0.7067067067067067,
          0.7077077077077077,
          0.7087087087087087,
          0.7097097097097097,
          0.7107107107107107,
          0.7117117117117117,
          0.7127127127127127,
          0.7137137137137137,
          0.7147147147147147,
          0.7157157157157157,
          0.7167167167167167,
          0.7177177177177178,
          0.7187187187187187,
          0.7197197197197197,
          0.7207207207207207,
          0.7217217217217217,
          0.7227227227227228,
          0.7237237237237237,
          0.7247247247247247,
          0.7257257257257257,
          0.7267267267267267,
          0.7277277277277278,
          0.7287287287287287,
          0.7297297297297297,
          0.7307307307307307,
          0.7317317317317317,
          0.7327327327327328,
          0.7337337337337337,
          0.7347347347347347,
          0.7357357357357357,
          0.7367367367367368,
          0.7377377377377378,
          0.7387387387387387,
          0.7397397397397397,
          0.7407407407407407,
          0.7417417417417418,
          0.7427427427427428,
          0.7437437437437437,
          0.7447447447447447,
          0.7457457457457457,
          0.7467467467467468,
          0.7477477477477478,
          0.7487487487487487,
          0.7497497497497497,
          0.7507507507507507,
          0.7517517517517518,
          0.7527527527527528,
          0.7537537537537538,
          0.7547547547547547,
          0.7557557557557557,
          0.7567567567567568,
          0.7577577577577578,
          0.7587587587587588,
          0.7597597597597597,
          0.7607607607607607,
          0.7617617617617618,
          0.7627627627627628,
          0.7637637637637638,
          0.7647647647647647,
          0.7657657657657657,
          0.7667667667667668,
          0.7677677677677678,
          0.7687687687687688,
          0.7697697697697697,
          0.7707707707707707,
          0.7717717717717718,
          0.7727727727727728,
          0.7737737737737738,
          0.7747747747747747,
          0.7757757757757757,
          0.7767767767767768,
          0.7777777777777778,
          0.7787787787787788,
          0.7797797797797797,
          0.7807807807807807,
          0.7817817817817818,
          0.7827827827827828,
          0.7837837837837838,
          0.7847847847847848,
          0.7857857857857857,
          0.7867867867867868,
          0.7877877877877878,
          0.7887887887887888,
          0.7897897897897898,
          0.7907907907907907,
          0.7917917917917918,
          0.7927927927927928,
          0.7937937937937938,
          0.7947947947947948,
          0.7957957957957957,
          0.7967967967967968,
          0.7977977977977978,
          0.7987987987987988,
          0.7997997997997998,
          0.8008008008008007,
          0.8018018018018018,
          0.8028028028028028,
          0.8038038038038038,
          0.8048048048048048,
          0.8058058058058059,
          0.8068068068068068,
          0.8078078078078078,
          0.8088088088088088,
          0.8098098098098098,
          0.8108108108108109,
          0.8118118118118118,
          0.8128128128128128,
          0.8138138138138138,
          0.8148148148148148,
          0.8158158158158159,
          0.8168168168168168,
          0.8178178178178178,
          0.8188188188188188,
          0.8198198198198198,
          0.8208208208208209,
          0.8218218218218218,
          0.8228228228228228,
          0.8238238238238238,
          0.8248248248248248,
          0.8258258258258259,
          0.8268268268268268,
          0.8278278278278278,
          0.8288288288288288,
          0.8298298298298298,
          0.8308308308308309,
          0.8318318318318318,
          0.8328328328328328,
          0.8338338338338338,
          0.8348348348348348,
          0.8358358358358359,
          0.8368368368368369,
          0.8378378378378378,
          0.8388388388388388,
          0.8398398398398398,
          0.8408408408408409,
          0.8418418418418419,
          0.8428428428428428,
          0.8438438438438438,
          0.8448448448448448,
          0.8458458458458459,
          0.8468468468468469,
          0.8478478478478478,
          0.8488488488488488,
          0.8498498498498498,
          0.8508508508508509,
          0.8518518518518519,
          0.8528528528528528,
          0.8538538538538538,
          0.8548548548548548,
          0.8558558558558559,
          0.8568568568568569,
          0.8578578578578578,
          0.8588588588588588,
          0.8598598598598598,
          0.8608608608608609,
          0.8618618618618619,
          0.8628628628628628,
          0.8638638638638638,
          0.8648648648648649,
          0.8658658658658659,
          0.8668668668668669,
          0.8678678678678678,
          0.8688688688688688,
          0.8698698698698699,
          0.8708708708708709,
          0.8718718718718719,
          0.8728728728728729,
          0.8738738738738738,
          0.8748748748748749,
          0.8758758758758759,
          0.8768768768768769,
          0.8778778778778779,
          0.8788788788788788,
          0.8798798798798799,
          0.8808808808808809,
          0.8818818818818819,
          0.8828828828828829,
          0.8838838838838838,
          0.8848848848848849,
          0.8858858858858859,
          0.8868868868868869,
          0.8878878878878879,
          0.8888888888888888,
          0.8898898898898899,
          0.8908908908908909,
          0.8918918918918919,
          0.8928928928928929,
          0.8938938938938938,
          0.8948948948948949,
          0.8958958958958959,
          0.8968968968968969,
          0.8978978978978979,
          0.8988988988988988,
          0.8998998998998999,
          0.9009009009009009,
          0.9019019019019019,
          0.9029029029029029,
          0.9039039039039038,
          0.9049049049049049,
          0.9059059059059059,
          0.9069069069069069,
          0.9079079079079079,
          0.9089089089089089,
          0.9099099099099099,
          0.9109109109109109,
          0.9119119119119119,
          0.9129129129129129,
          0.9139139139139139,
          0.914914914914915,
          0.9159159159159159,
          0.9169169169169169,
          0.9179179179179179,
          0.9189189189189189,
          0.91991991991992,
          0.9209209209209209,
          0.9219219219219219,
          0.9229229229229229,
          0.9239239239239239,
          0.924924924924925,
          0.9259259259259259,
          0.9269269269269269,
          0.9279279279279279,
          0.9289289289289289,
          0.92992992992993,
          0.9309309309309309,
          0.9319319319319319,
          0.9329329329329329,
          0.933933933933934,
          0.934934934934935,
          0.9359359359359359,
          0.9369369369369369,
          0.9379379379379379,
          0.938938938938939,
          0.93993993993994,
          0.9409409409409409,
          0.9419419419419419,
          0.9429429429429429,
          0.943943943943944,
          0.944944944944945,
          0.9459459459459459,
          0.9469469469469469,
          0.9479479479479479,
          0.948948948948949,
          0.94994994994995,
          0.950950950950951,
          0.9519519519519519,
          0.9529529529529529,
          0.953953953953954,
          0.954954954954955,
          0.955955955955956,
          0.9569569569569569,
          0.9579579579579579,
          0.958958958958959,
          0.95995995995996,
          0.960960960960961,
          0.9619619619619619,
          0.9629629629629629,
          0.963963963963964,
          0.964964964964965,
          0.965965965965966,
          0.9669669669669669,
          0.9679679679679679,
          0.968968968968969,
          0.96996996996997,
          0.970970970970971,
          0.9719719719719719,
          0.9729729729729729,
          0.973973973973974,
          0.974974974974975,
          0.975975975975976,
          0.9769769769769769,
          0.9779779779779779,
          0.978978978978979,
          0.97997997997998,
          0.980980980980981,
          0.9819819819819819,
          0.9829829829829829,
          0.983983983983984,
          0.984984984984985,
          0.985985985985986,
          0.986986986986987,
          0.9879879879879879,
          0.988988988988989,
          0.98998998998999,
          0.990990990990991,
          0.991991991991992,
          0.992992992992993,
          0.993993993993994,
          0.994994994994995,
          0.995995995995996,
          0.996996996996997,
          0.997997997997998,
          0.998998998998999,
          1
         ],
         "y": [
          1,
          1.0000297314184294,
          1.0000568972019714,
          1.0000815028892491,
          1.000103554015084,
          1.000123056110495,
          1.0001400147026973,
          1.0001544353151057,
          1.0001663234673315,
          1.0001756846751846,
          1.0001825244506721,
          1.0001868483019993,
          1.000188661733568,
          1.00018797024598,
          1.0001847793360323,
          1.0001790944967217,
          1.0001709212172414,
          1.0001602649829826,
          1.0001471312755346,
          1.0001315255726846,
          1.0001134533484168,
          1.000092920072913,
          1.000069931212555,
          1.0000444922299185,
          1.0000166085837794,
          0.9999862857291122,
          0.999953529117087,
          0.9999183441950731,
          0.9998807364066358,
          0.9998407111915399,
          0.9997982739857478,
          0.9997534302214182,
          0.9997061853269092,
          0.9996565447267752,
          0.9996045138417696,
          0.999550098088843,
          0.9994933028811436,
          0.9994341336280171,
          0.9993725957350076,
          0.999308694603856,
          0.9992424356325027,
          0.9991738242150836,
          0.999102865741934,
          0.9990295655995862,
          0.9989539291707699,
          0.9988759618344139,
          0.9987956689656415,
          0.9987130559357804,
          0.9986281281123471,
          0.9985408908590633,
          0.9984513495358435,
          0.9983595094988048,
          0.9982653761002563,
          0.9981689546887089,
          0.9980702506088714,
          0.9979692692016467,
          0.9978660158041394,
          0.9977604957496492,
          0.9976527143676752,
          0.9975426769839121,
          0.9974303889202566,
          0.9973158554947974,
          0.9971990820218258,
          0.9970800738118274,
          0.9969588361714881,
          0.9968353744036904,
          0.9967096938075138,
          0.9965817996782366,
          0.9964516973073352,
          0.9963193919824819,
          0.9961848889875488,
          0.9960481936026044,
          0.9959093111039159,
          0.9957682467639464,
          0.9956250058513598,
          0.9954795936310148,
          0.9953320153639692,
          0.9951822763074784,
          0.9950303817149955,
          0.9948763368361717,
          0.9947201469168545,
          0.9945618171990903,
          0.9944013529211244,
          0.9942387593173968,
          0.9940740416185492,
          0.9939072050514156,
          0.9937382548390327,
          0.9935671962006342,
          0.9933940343516497,
          0.9932187745037053,
          0.9930414218646293,
          0.992861981638445,
          0.992680459025373,
          0.9924968592218325,
          0.9923111874204399,
          0.9921234488100108,
          0.9919336485755557,
          0.9917417918982863,
          0.9915478839556109,
          0.9913519299211317,
          0.9911539349646539,
          0.9909539042521793,
          0.9907518429459061,
          0.9905477562042294,
          0.9903416491817443,
          0.9901335270292414,
          0.9899233948937125,
          0.9897112579183431,
          0.989497121242518,
          0.989280990001822,
          0.9890628693280341,
          0.9888427643491329,
          0.9886206801892937,
          0.9883966219688894,
          0.9881705948044948,
          0.9879426038088756,
          0.987712654091,
          0.9874807507560338,
          0.9872468989053371,
          0.9870111036364728,
          0.9867733700431953,
          0.9865337032154607,
          0.9862921082394261,
          0.9860485901974387,
          0.9858031541680481,
          0.9855558052260026,
          0.9853065484422417,
          0.985055388883914,
          0.9848023316143532,
          0.9845473816930996,
          0.9842905441758886,
          0.9840318241146528,
          0.9837712265575225,
          0.983508756548824,
          0.9832444191290866,
          0.9829782193350332,
          0.9827101621995837,
          0.98244025275186,
          0.9821684960171778,
          0.9818948970170499,
          0.9816194607691926,
          0.9813421922875134,
          0.9810630965821207,
          0.980782178659319,
          0.9804994435216152,
          0.9802148961677073,
          0.9799285415924963,
          0.9796403847870762,
          0.9793504307387428,
          0.979058684430989,
          0.978765150843504,
          0.9784698349521734,
          0.9781727417290846,
          0.9778738761425201,
          0.9775732431569609,
          0.977270847733086,
          0.9769666948277707,
          0.9766607893940866,
          0.9763531363813087,
          0.9760437407349063,
          0.9757326073965455,
          0.9754197413040901,
          0.9751051473916036,
          0.9747888305893482,
          0.9744707958237785,
          0.974151048017553,
          0.9738295920895237,
          0.9735064329547425,
          0.9731815755244582,
          0.9728550247061174,
          0.972526785403364,
          0.9721968625160421,
          0.9718652609401883,
          0.9715319855680438,
          0.9711970412880421,
          0.9708604329848167,
          0.9705221655391996,
          0.9701822438282158,
          0.9698406727250941,
          0.9694974570992582,
          0.9691526018163317,
          0.9688061117381309,
          0.9684579917226739,
          0.9681082466241777,
          0.9677568812930518,
          0.9674039005759114,
          0.9670493093155583,
          0.9666931123510033,
          0.9663353145174474,
          0.9659759206462935,
          0.9656149355651403,
          0.9652523640977835,
          0.9648882110642187,
          0.9645224812806383,
          0.964155179559433,
          0.963786310709189,
          0.9634158795346925,
          0.9630438908369259,
          0.9626703494130715,
          0.9622952600565066,
          0.9619186275568081,
          0.961540456699751,
          0.9611607522673067,
          0.960779519037644,
          0.9603967617851307,
          0.9600124852803325,
          0.9596266942900116,
          0.9592393935771292,
          0.9588505879008415,
          0.9584602820165069,
          0.9580684806756781,
          0.9576751886261069,
          0.9572804106117418,
          0.956884151372731,
          0.9564864156454171,
          0.9560872081623453,
          0.9556865336522534,
          0.9552843968400794,
          0.9548808024469605,
          0.9544757551902285,
          0.9540692597834145,
          0.953661320936249,
          0.9532519433546565,
          0.9528411317407618,
          0.9524288907928878,
          0.9520152252055533,
          0.9516001396694758,
          0.9511836388715706,
          0.9507657274949513,
          0.9503464102189274,
          0.9499256917190073,
          0.9495035766668984,
          0.9490800697305033,
          0.9486551755739241,
          0.9482288988574598,
          0.9478012442376079,
          0.9473722163670633,
          0.9469418198947175,
          0.9465100594656619,
          0.9460769397211838,
          0.9456424652987689,
          0.9452066408321008,
          0.9447694709510608,
          0.944330960281727,
          0.9438911134463774,
          0.9434499350634853,
          0.9430074297477228,
          0.9425636021099607,
          0.9421184567572647,
          0.9416719982929023,
          0.9412242313163354,
          0.940775160423225,
          0.9403247902054287,
          0.9398731252510045,
          0.9394201701442045,
          0.9389659294654822,
          0.938510407791485,
          0.9380536096950612,
          0.937595539745256,
          0.9371362025073118,
          0.9366756025426685,
          0.9362137444089639,
          0.935750632660035,
          0.9352862718459138,
          0.9348206665128335,
          0.9343538212032213,
          0.9338857404557052,
          0.9334164288051089,
          0.9329458907824545,
          0.9324741309149625,
          0.9320011537260509,
          0.9315269637353338,
          0.9310515654586259,
          0.9305749634079371,
          0.9300971620914759,
          0.929618166013649,
          0.9291379796750604,
          0.9286566075725123,
          0.9281740541990031,
          0.9276903240437315,
          0.9272054215920914,
          0.926719351325676,
          0.9262321177222755,
          0.9257437252558784,
          0.9252541783966707,
          0.924763481611035,
          0.9242716393615545,
          0.9237786561070067,
          0.9232845363023696,
          0.922789284398817,
          0.9222929048437218,
          0.9217954020806532,
          0.9212967805493799,
          0.920797044685867,
          0.9202961989222778,
          0.9197942476869733,
          0.9192911954045121,
          0.9187870464956511,
          0.9182818053773436,
          0.9177754764627424,
          0.9172680641611968,
          0.9167595728782539,
          0.9162500070156594,
          0.9157393709713554,
          0.9152276691394832,
          0.9147149059103804,
          0.9142010856705837,
          0.9136862128028266,
          0.9131702916860405,
          0.9126533266953546,
          0.9121353222020963,
          0.9116162825737895,
          0.9110962121741577,
          0.9105751153631201,
          0.9100529964967949,
          0.909529859927498,
          0.9090057100037422,
          0.9084805510702395,
          0.9079543874678978,
          0.9074272235338241,
          0.9068990636013226,
          0.9063699119998955,
          0.9058397730552423,
          0.9053086510892608,
          0.9047765504200456,
          0.9042434753618904,
          0.9037094302252855,
          0.903174419316919,
          0.9026384469396778,
          0.9021015173926451,
          0.9015636349711028,
          0.9010248039665307,
          0.9004850286666052,
          0.8999443133552013,
          0.8994026623123915,
          0.8988600798144464,
          0.8983165701338338,
          0.8977721375392187,
          0.8972267862954659,
          0.8966805206636357,
          0.8961333449009878,
          0.8955852632609782,
          0.8950362799932612,
          0.8944863993436897,
          0.8939356255543126,
          0.8933839628633782,
          0.8928314155053315,
          0.8922779877108159,
          0.8917236837066718,
          0.891168507715938,
          0.8906124639578509,
          0.890055556647844,
          0.8894977899975496,
          0.8889391682147965,
          0.8883796955036125,
          0.8878193760642223,
          0.8872582140930481,
          0.8866962137827109,
          0.8861333793220291,
          0.8855697148960175,
          0.8850052246858905,
          0.8844399128690591,
          0.8838737836191326,
          0.8833068411059178,
          0.8827390894954186,
          0.8821705329498378,
          0.8816011756275751,
          0.8810310216832289,
          0.8804600752675936,
          0.8798883405276634,
          0.8793158216066284,
          0.8787425226438774,
          0.8781684477749971,
          0.8775936011317714,
          0.8770179868421825,
          0.876441609030409,
          0.875864471816829,
          0.8752865793180175,
          0.8747079356467474,
          0.8741285449119884,
          0.8735484112189097,
          0.8729675386688767,
          0.8723859313594534,
          0.8718035933844008,
          0.8712205288336785,
          0.8706367417934429,
          0.8700522363460491,
          0.8694670165700497,
          0.8688810865401937,
          0.8682944503274302,
          0.8677071119989038,
          0.8671190756179586,
          0.866530345244135,
          0.8659409249331715,
          0.8653508187370056,
          0.8647600307037709,
          0.8641685648777993,
          0.8635764252996203,
          0.8629836160059619,
          0.8623901410297486,
          0.8617960044001041,
          0.8612012101423483,
          0.8606057622779996,
          0.8600096648247747,
          0.8594129217965867,
          0.8588155372035476,
          0.8582175150519659,
          0.8576188593443498,
          0.8570195740794029,
          0.8564196632520289,
          0.8558191308533266,
          0.855217980870595,
          0.8546162172873294,
          0.8540138440832232,
          0.8534108652341672,
          0.852807284712251,
          0.8522031064857608,
          0.8515983345191808,
          0.8509929727731935,
          0.850387025204678,
          0.8497804957667121,
          0.8491733884085716,
          0.848565707075729,
          0.8479574557098549,
          0.8473486382488182,
          0.8467392586266846,
          0.8461293207737183,
          0.8455188286163811,
          0.8449077860773322,
          0.8442961970754285,
          0.8436840655257253,
          0.8430713953394746,
          0.8424581904241275,
          0.8418444546833314,
          0.8412301920169324,
          0.8406154063209739,
          0.8400001014876975,
          0.8393842814055414,
          0.8387679499591428,
          0.8381511110293361,
          0.8375337684931534,
          0.8369159262238249,
          0.8362975880907779,
          0.835678757959638,
          0.8350594396922281,
          0.8344396371465693,
          0.8338193541768797,
          0.8331985946335757,
          0.8325773623632722,
          0.83195566120878,
          0.8313334950091088,
          0.8307108675994661,
          0.8300877828112567,
          0.8294642444720831,
          0.828840256405746,
          0.8282158224322436,
          0.8275909463677715,
          0.8269656320247236,
          0.826339883211691,
          0.8257137037334632,
          0.8250870973910264,
          0.8244600679815659,
          0.8238326192984636,
          0.8232047551312994,
          0.8225764792658511,
          0.8219477954840945,
          0.8213187075642024,
          0.8206892192805461,
          0.8200593344036939,
          0.8194290567004126,
          0.818798389933666,
          0.8181673378626164,
          0.8175359042426233,
          0.8169040928252435,
          0.8162719073582326,
          0.8156393515855432,
          0.8150064292473264,
          0.8143731440799294,
          0.8137394998158992,
          0.8131055001839791,
          0.8124711489091105,
          0.8118364497124331,
          0.8112014063112829,
          0.8105660224191955,
          0.8099303017459025,
          0.809294247997335,
          0.80865786487562,
          0.8080211560790834,
          0.8073841253022488,
          0.8067467762358367,
          0.8061091125667665,
          0.8054711379781545,
          0.8048328561493145,
          0.804194270755759,
          0.8035553854691977,
          0.802916203957538,
          0.8022767298848849,
          0.8016369669115414,
          0.8009969186940086,
          0.8003565888849842,
          0.7997159811333647,
          0.7990750990842439,
          0.7984339463789133,
          0.7977925266548622,
          0.7971508435457779,
          0.7965089006815448,
          0.7958667016882456,
          0.7952242501881606,
          0.7945815497997678,
          0.793938604137743,
          0.7932954168129592,
          0.7926519914324878,
          0.7920083315995979,
          0.7913644409137562,
          0.7907203229706267,
          0.7900759813620715,
          0.7894314196761507,
          0.7887866414971219,
          0.7881416504054399,
          0.7874964499777585,
          0.7868510437869282,
          0.786205435401997,
          0.7855596283882117,
          0.784913626307016,
          0.7842674327160517,
          0.783621051169158,
          0.7829744852163724,
          0.7823277384039297,
          0.7816808142742623,
          0.7810337163660008,
          0.7803864482139733,
          0.7797390133492054,
          0.7790914152989208,
          0.7784436575865408,
          0.7777957437316841,
          0.7771476772501681,
          0.7764994616540069,
          0.7758511004514125,
          0.7752025971467953,
          0.7745539552407626,
          0.7739051782301201,
          0.7732562696078707,
          0.7726072328632155,
          0.771958071481553,
          0.7713087889444797,
          0.7706593887297892,
          0.7700098743114737,
          0.7693602491597229,
          0.7687105167409236,
          0.768060680517661,
          0.767410743948718,
          0.7667607104890751,
          0.7661105835899101,
          0.7654603666985995,
          0.7648100632587163,
          0.7641596767100322,
          0.7635092104885167,
          0.7628586680263362,
          0.7622080527518555,
          0.7615573680896369,
          0.7609066174604403,
          0.7602558042812236,
          0.7596049319651424,
          0.75895400392155,
          0.7583030235559969,
          0.7576519942702328,
          0.757000919462203,
          0.7563498025260528,
          0.7556986468521231,
          0.7550474558269541,
          0.7543962328332832,
          0.7537449812500454,
          0.7530937044523734,
          0.7524424058115984,
          0.7517910886952481,
          0.7511397564670483,
          0.750488412486924,
          0.7498370601109949,
          0.7491857026915822,
          0.7485343435772013,
          0.7478829861125675,
          0.7472316336385938,
          0.7465802894923894,
          0.7459289570072628,
          0.7452776395127193,
          0.7446263403344628,
          0.7439750627943935,
          0.7433238102106116,
          0.7426725858974124,
          0.7420213931652904,
          0.741370235320938,
          0.7407191156672449,
          0.740068037503299,
          0.7394170041243846,
          0.7387660188219849,
          0.7381150848837812,
          0.7374642055936517,
          0.7368133842316721,
          0.7361626240741167,
          0.7355119283934569,
          0.7348613004583627,
          0.7342107435337,
          0.7335602608805345,
          0.7329098557561287,
          0.7322595314139424,
          0.7316092911036342,
          0.7309591380710596,
          0.730309075558272,
          0.7296591068035228,
          0.7290092350412607,
          0.7283594635021324,
          0.7277097954129828,
          0.727060233996853,
          0.7264107824729843,
          0.7257614440568132,
          0.7251122219599749,
          0.7244631193903035,
          0.7238141395518294,
          0.7231652856447811,
          0.722516560865584,
          0.7218679684068638,
          0.7212195114574408,
          0.7205711932023351,
          0.7199230168227637,
          0.7192749854961416,
          0.7186271023960816,
          0.717979370692394,
          0.7173317935510868,
          0.7166843741343658,
          0.7160371156006351,
          0.7153900211044953,
          0.7147430937967465,
          0.7140963368243842,
          0.7134497533306038,
          0.7128033464547974,
          0.7121571193325548,
          0.7115110750956639,
          0.7108652168721097,
          0.7102195477860762,
          0.7095740709579437,
          0.7089287895042912,
          0.7082837065378947,
          0.7076388251677287,
          0.7069941484989648,
          0.7063496796329725,
          0.7057054216673196,
          0.7050613776957707,
          0.7044175508082887,
          0.7037739440910339,
          0.7031305606263649,
          0.7024874034928374,
          0.7018444757652054,
          0.70120178051442,
          0.7005593208076304,
          0.699917099708184,
          0.6992751202756248,
          0.6986333855656954,
          0.6979918986303364,
          0.6973506625176846,
          0.6967096802720766,
          0.6960689549340449,
          0.6954284895403209,
          0.6947882871238336,
          0.694148350713709,
          0.6935086833352714,
          0.6928692880100431,
          0.6922301677557436,
          0.6915913255862904,
          0.6909527645117984,
          0.6903144875385807,
          0.6896764976691478,
          0.6890387979022083,
          0.6884013912326681,
          0.6877642806516313,
          0.6871274691463989,
          0.6864909597004705,
          0.6858547552935432,
          0.6852188589015114,
          0.6845832734964683,
          0.6839480020467033,
          0.6833130475167046,
          0.6826784128671581,
          0.6820441010549471,
          0.6814101150331527,
          0.6807764577510536,
          0.6801431321541273,
          0.6795101411840466,
          0.6788774877786847,
          0.6782451748721112,
          0.6776132053945936,
          0.6769815822725969,
          0.6763503084287843,
          0.6757193867820167,
          0.6750888202473526,
          0.6744586117360477,
          0.6738287641555565,
          0.6731992804095301,
          0.6725701633978185,
          0.6719414160164684,
          0.6713130411577249,
          0.6706850417100303,
          0.6700574205580254,
          0.6694301805825474,
          0.6688033246606333,
          0.6681768556655158,
          0.667550776466626,
          0.6669250899295938,
          0.6662997989162449,
          0.6656749062846045,
          0.665050414888894,
          0.6644263275795343,
          0.6638026472031422,
          0.6631793766025336,
          0.6625565186167217,
          0.6619340760809165,
          0.661312051826528,
          0.6606904486811604,
          0.66006926946862,
          0.6594485170089076,
          0.6588281941182224,
          0.6582083036089618,
          0.6575888482897212,
          0.6569698309652929,
          0.6563512544366674,
          0.655733121501033,
          0.6551154349517756,
          0.6544981975784792,
          0.6538814121669239,
          0.6532650814990897,
          0.652649208353154,
          0.6520337955034898,
          0.6514188457206711,
          0.6508043617714672,
          0.6501903464188452,
          0.6495768024219719,
          0.648963732536209,
          0.6483511395131187,
          0.6477390261004599,
          0.6471273950421876,
          0.6465162490784572,
          0.6459055909456193,
          0.6452954233762251,
          0.6446857490990215,
          0.6440765708389525,
          0.643467891317162,
          0.642859713250991,
          0.6422520393539761,
          0.6416448723358542,
          0.6410382149025597,
          0.640432069756224,
          0.6398264395951747,
          0.6392213271139399,
          0.6386167350032447,
          0.6380126659500109,
          0.6374091226373588,
          0.6368061077446069,
          0.636203623947269,
          0.6356016739170602,
          0.6350002603218908,
          0.6343993858258705,
          0.6337990530893041,
          0.6331992647686964,
          0.6326000235167508,
          0.6320013319823652,
          0.6314031928106401,
          0.630805608642867,
          0.63020858211654,
          0.6296121158653505,
          0.6290162125191874,
          0.6284208747041342,
          0.6278261050424783,
          0.6272319061526979,
          0.6266382806494752,
          0.6260452311436855,
          0.6254527602424054,
          0.6248608705489043,
          0.6242695646626553,
          0.6236788451793249,
          0.6230887146907786,
          0.6224991757850822,
          0.6219102310464939,
          0.6213218830554743,
          0.6207341343886799,
          0.6201469876189638,
          0.6195604453153796,
          0.6189745100431789,
          0.6183891843638054,
          0.6178044708349058,
          0.6172203720103238,
          0.6166368904400983,
          0.6160540286704717,
          0.6154717892438757,
          0.6148901746989468,
          0.6143091875705182,
          0.6137288303896153,
          0.613149105683469,
          0.6125700159755016,
          0.6119915637853377,
          0.6114137516287945,
          0.6108365820178956,
          0.6102600574608505,
          0.6096841804620778,
          0.6091089535221856,
          0.6085343791379847,
          0.6079604598024826,
          0.6073871980048806,
          0.6068145962305844,
          0.6062426569611903,
          0.6056713826745002,
          0.6051007758445075,
          0.6045308389414026,
          0.6039615744315818,
          0.6033929847776278,
          0.6028250724383324,
          0.6022578398686758,
          0.6016912895198447,
          0.6011254238392136,
          0.6005602452703616,
          0.5999957562530631,
          0.5994319592232897,
          0.5988688566132154,
          0.5983064508512062,
          0.5977447443618291,
          0.5971837395658488,
          0.5966234388802194,
          0.5960638447181101,
          0.5955049594888724,
          0.5949467855980624,
          0.5943893254474326,
          0.5938325814349286,
          0.5932765559547053,
          0.5927212513971041,
          0.5921666701486683,
          0.5916128145921382,
          0.591059687106458,
          0.5905072900667565,
          0.5899556258443739,
          0.5894046968068376,
          0.5888545053178809,
          0.5883050537374297,
          0.5877563444216083,
          0.5872083797227394,
          0.5866611619893467,
          0.5861146935661461,
          0.5855689767940531,
          0.5850240140101826,
          0.5844798075478441,
          0.583936359736553,
          0.5833936729020102,
          0.58285174936612,
          0.5823105914469862,
          0.5817702014589115,
          0.5812305817123908,
          0.5806917345141263,
          0.5801536621670027,
          0.5796163669701149,
          0.5790798512187489,
          0.5785441172043946,
          0.578009167214736,
          0.5774750035336544,
          0.5769416284412299,
          0.5764090442137397,
          0.5758772531236587,
          0.5753462574396586,
          0.5748160594266158,
          0.5742866613455879,
          0.5737580654538585,
          0.5732302740048776,
          0.5727032892483077,
          0.5721771134300084,
          0.5716517487920365,
          0.5711271975726602,
          0.5706034620063152,
          0.5700805443236563,
          0.5695584467515387,
          0.5690371715129947,
          0.5685167208272812,
          0.5679970969098314,
          0.5674783019722875,
          0.5669603382224819,
          0.5664432078644603,
          0.5659269130984397,
          0.5654114561208594,
          0.5648968391243461,
          0.5643830642977239,
          0.5638701338260157,
          0.563358049890442,
          0.5628468146684229,
          0.5623364303335778,
          0.5618268990557054,
          0.5613182230008382,
          0.5608104043311704,
          0.5603034452051183,
          0.5597973477772857,
          0.5592921141984686,
          0.5587877466156748,
          0.558284247172093,
          0.5577816180071302,
          0.5572798612563847,
          0.5567789790516207,
          0.556278973520854,
          0.5557798467882638,
          0.5552816009742383,
          0.5547842381953441,
          0.5542877605643781,
          0.5537921701903104,
          0.5532974691783172,
          0.5528036596297676,
          0.5523107436422485,
          0.5518187233095082,
          0.5513276007215238,
          0.5508373779644682,
          0.550348057120674,
          0.5498596402687275,
          0.5493721294833804,
          0.5488855268355914,
          0.548399834392499,
          0.5479150542174578,
          0.547431188370032,
          0.546948238905955,
          0.5464662078771676,
          0.5459850973318137,
          0.5455049093142383,
          0.5450256458649703,
          0.5445473090207518,
          0.5440699008145051,
          0.543593423275369,
          0.5431178784286752,
          0.5426432682959339,
          0.5421695948948813,
          0.5416968602394387,
          0.5412250663397176,
          0.5407542152020337,
          0.5402843088289071,
          0.5398153492190572,
          0.5393473383673708,
          0.5388802782649762,
          0.538414170899169,
          0.537949018253455,
          0.5374848223075359,
          0.5370215850373059,
          0.5365593084148772,
          0.536097994408502,
          0.5356376449827147,
          0.5351782620982073,
          0.5347198477118207,
          0.534262403776685,
          0.5338059322420579,
          0.5333504350534302,
          0.5328959141524798,
          0.5324423714770798,
          0.5319898089613062,
          0.531538228535422,
          0.5310876321258986,
          0.5306380216554194,
          0.5301893990428255,
          0.529741766203192,
          0.5292951250477662,
          0.5288494774840231,
          0.5284048254156186,
          0.527961170742385,
          0.5275185153603825,
          0.5270768611618664,
          0.5266362100352726,
          0.5261965638652644,
          0.5257579245326482,
          0.5253202939145112,
          0.5248836738840463,
          0.524448066310713,
          0.5240134730601493,
          0.5235798959941604,
          0.52314733697078,
          0.5227157978442438,
          0.5222852804649794,
          0.521855786679609,
          0.5214273183309306,
          0.5209998772579834,
          0.5205734652959677,
          0.5201480842763164,
          0.519723736026604,
          0.519300422370657,
          0.5188781451285092,
          0.5184569061163007,
          0.5180367071464929,
          0.5176175500276656,
          0.5171994365645816,
          0.5167823685582853,
          0.5163663478059419,
          0.5159513761009329,
          0.5155374552328595,
          0.515124586987513,
          0.5147127731468792,
          0.5143020154891111,
          0.513892315788592,
          0.5134836758159267,
          0.5130760973378603,
          0.5126695821174057,
          0.5122641319136605,
          0.5118597484820491,
          0.5114564335741214
         ]
        }
       ],
       "layout": {
        "autosize": false,
        "height": 500,
        "legend": {
         "bgcolor": "White",
         "bordercolor": "Black",
         "borderwidth": 0.7
        },
        "margin": {
         "b": 0,
         "l": 0,
         "pad": 0.1,
         "r": 0,
         "t": 0
        },
        "paper_bgcolor": "rgba(255, 255, 255, 1)",
        "plot_bgcolor": "rgba(255, 255, 255, 1)",
        "showlegend": true,
        "template": {
         "data": {
          "bar": [
           {
            "error_x": {
             "color": "#2a3f5f"
            },
            "error_y": {
             "color": "#2a3f5f"
            },
            "marker": {
             "line": {
              "color": "#E5ECF6",
              "width": 0.5
             }
            },
            "type": "bar"
           }
          ],
          "barpolar": [
           {
            "marker": {
             "line": {
              "color": "#E5ECF6",
              "width": 0.5
             }
            },
            "type": "barpolar"
           }
          ],
          "carpet": [
           {
            "aaxis": {
             "endlinecolor": "#2a3f5f",
             "gridcolor": "white",
             "linecolor": "white",
             "minorgridcolor": "white",
             "startlinecolor": "#2a3f5f"
            },
            "baxis": {
             "endlinecolor": "#2a3f5f",
             "gridcolor": "white",
             "linecolor": "white",
             "minorgridcolor": "white",
             "startlinecolor": "#2a3f5f"
            },
            "type": "carpet"
           }
          ],
          "choropleth": [
           {
            "colorbar": {
             "outlinewidth": 0,
             "ticks": ""
            },
            "type": "choropleth"
           }
          ],
          "contour": [
           {
            "colorbar": {
             "outlinewidth": 0,
             "ticks": ""
            },
            "colorscale": [
             [
              0,
              "#0d0887"
             ],
             [
              0.1111111111111111,
              "#46039f"
             ],
             [
              0.2222222222222222,
              "#7201a8"
             ],
             [
              0.3333333333333333,
              "#9c179e"
             ],
             [
              0.4444444444444444,
              "#bd3786"
             ],
             [
              0.5555555555555556,
              "#d8576b"
             ],
             [
              0.6666666666666666,
              "#ed7953"
             ],
             [
              0.7777777777777778,
              "#fb9f3a"
             ],
             [
              0.8888888888888888,
              "#fdca26"
             ],
             [
              1,
              "#f0f921"
             ]
            ],
            "type": "contour"
           }
          ],
          "contourcarpet": [
           {
            "colorbar": {
             "outlinewidth": 0,
             "ticks": ""
            },
            "type": "contourcarpet"
           }
          ],
          "heatmap": [
           {
            "colorbar": {
             "outlinewidth": 0,
             "ticks": ""
            },
            "colorscale": [
             [
              0,
              "#0d0887"
             ],
             [
              0.1111111111111111,
              "#46039f"
             ],
             [
              0.2222222222222222,
              "#7201a8"
             ],
             [
              0.3333333333333333,
              "#9c179e"
             ],
             [
              0.4444444444444444,
              "#bd3786"
             ],
             [
              0.5555555555555556,
              "#d8576b"
             ],
             [
              0.6666666666666666,
              "#ed7953"
             ],
             [
              0.7777777777777778,
              "#fb9f3a"
             ],
             [
              0.8888888888888888,
              "#fdca26"
             ],
             [
              1,
              "#f0f921"
             ]
            ],
            "type": "heatmap"
           }
          ],
          "heatmapgl": [
           {
            "colorbar": {
             "outlinewidth": 0,
             "ticks": ""
            },
            "colorscale": [
             [
              0,
              "#0d0887"
             ],
             [
              0.1111111111111111,
              "#46039f"
             ],
             [
              0.2222222222222222,
              "#7201a8"
             ],
             [
              0.3333333333333333,
              "#9c179e"
             ],
             [
              0.4444444444444444,
              "#bd3786"
             ],
             [
              0.5555555555555556,
              "#d8576b"
             ],
             [
              0.6666666666666666,
              "#ed7953"
             ],
             [
              0.7777777777777778,
              "#fb9f3a"
             ],
             [
              0.8888888888888888,
              "#fdca26"
             ],
             [
              1,
              "#f0f921"
             ]
            ],
            "type": "heatmapgl"
           }
          ],
          "histogram": [
           {
            "marker": {
             "colorbar": {
              "outlinewidth": 0,
              "ticks": ""
             }
            },
            "type": "histogram"
           }
          ],
          "histogram2d": [
           {
            "colorbar": {
             "outlinewidth": 0,
             "ticks": ""
            },
            "colorscale": [
             [
              0,
              "#0d0887"
             ],
             [
              0.1111111111111111,
              "#46039f"
             ],
             [
              0.2222222222222222,
              "#7201a8"
             ],
             [
              0.3333333333333333,
              "#9c179e"
             ],
             [
              0.4444444444444444,
              "#bd3786"
             ],
             [
              0.5555555555555556,
              "#d8576b"
             ],
             [
              0.6666666666666666,
              "#ed7953"
             ],
             [
              0.7777777777777778,
              "#fb9f3a"
             ],
             [
              0.8888888888888888,
              "#fdca26"
             ],
             [
              1,
              "#f0f921"
             ]
            ],
            "type": "histogram2d"
           }
          ],
          "histogram2dcontour": [
           {
            "colorbar": {
             "outlinewidth": 0,
             "ticks": ""
            },
            "colorscale": [
             [
              0,
              "#0d0887"
             ],
             [
              0.1111111111111111,
              "#46039f"
             ],
             [
              0.2222222222222222,
              "#7201a8"
             ],
             [
              0.3333333333333333,
              "#9c179e"
             ],
             [
              0.4444444444444444,
              "#bd3786"
             ],
             [
              0.5555555555555556,
              "#d8576b"
             ],
             [
              0.6666666666666666,
              "#ed7953"
             ],
             [
              0.7777777777777778,
              "#fb9f3a"
             ],
             [
              0.8888888888888888,
              "#fdca26"
             ],
             [
              1,
              "#f0f921"
             ]
            ],
            "type": "histogram2dcontour"
           }
          ],
          "mesh3d": [
           {
            "colorbar": {
             "outlinewidth": 0,
             "ticks": ""
            },
            "type": "mesh3d"
           }
          ],
          "parcoords": [
           {
            "line": {
             "colorbar": {
              "outlinewidth": 0,
              "ticks": ""
             }
            },
            "type": "parcoords"
           }
          ],
          "pie": [
           {
            "automargin": true,
            "type": "pie"
           }
          ],
          "scatter": [
           {
            "marker": {
             "colorbar": {
              "outlinewidth": 0,
              "ticks": ""
             }
            },
            "type": "scatter"
           }
          ],
          "scatter3d": [
           {
            "line": {
             "colorbar": {
              "outlinewidth": 0,
              "ticks": ""
             }
            },
            "marker": {
             "colorbar": {
              "outlinewidth": 0,
              "ticks": ""
             }
            },
            "type": "scatter3d"
           }
          ],
          "scattercarpet": [
           {
            "marker": {
             "colorbar": {
              "outlinewidth": 0,
              "ticks": ""
             }
            },
            "type": "scattercarpet"
           }
          ],
          "scattergeo": [
           {
            "marker": {
             "colorbar": {
              "outlinewidth": 0,
              "ticks": ""
             }
            },
            "type": "scattergeo"
           }
          ],
          "scattergl": [
           {
            "marker": {
             "colorbar": {
              "outlinewidth": 0,
              "ticks": ""
             }
            },
            "type": "scattergl"
           }
          ],
          "scattermapbox": [
           {
            "marker": {
             "colorbar": {
              "outlinewidth": 0,
              "ticks": ""
             }
            },
            "type": "scattermapbox"
           }
          ],
          "scatterpolar": [
           {
            "marker": {
             "colorbar": {
              "outlinewidth": 0,
              "ticks": ""
             }
            },
            "type": "scatterpolar"
           }
          ],
          "scatterpolargl": [
           {
            "marker": {
             "colorbar": {
              "outlinewidth": 0,
              "ticks": ""
             }
            },
            "type": "scatterpolargl"
           }
          ],
          "scatterternary": [
           {
            "marker": {
             "colorbar": {
              "outlinewidth": 0,
              "ticks": ""
             }
            },
            "type": "scatterternary"
           }
          ],
          "surface": [
           {
            "colorbar": {
             "outlinewidth": 0,
             "ticks": ""
            },
            "colorscale": [
             [
              0,
              "#0d0887"
             ],
             [
              0.1111111111111111,
              "#46039f"
             ],
             [
              0.2222222222222222,
              "#7201a8"
             ],
             [
              0.3333333333333333,
              "#9c179e"
             ],
             [
              0.4444444444444444,
              "#bd3786"
             ],
             [
              0.5555555555555556,
              "#d8576b"
             ],
             [
              0.6666666666666666,
              "#ed7953"
             ],
             [
              0.7777777777777778,
              "#fb9f3a"
             ],
             [
              0.8888888888888888,
              "#fdca26"
             ],
             [
              1,
              "#f0f921"
             ]
            ],
            "type": "surface"
           }
          ],
          "table": [
           {
            "cells": {
             "fill": {
              "color": "#EBF0F8"
             },
             "line": {
              "color": "white"
             }
            },
            "header": {
             "fill": {
              "color": "#C8D4E3"
             },
             "line": {
              "color": "white"
             }
            },
            "type": "table"
           }
          ]
         },
         "layout": {
          "annotationdefaults": {
           "arrowcolor": "#2a3f5f",
           "arrowhead": 0,
           "arrowwidth": 1
          },
          "autotypenumbers": "strict",
          "coloraxis": {
           "colorbar": {
            "outlinewidth": 0,
            "ticks": ""
           }
          },
          "colorscale": {
           "diverging": [
            [
             0,
             "#8e0152"
            ],
            [
             0.1,
             "#c51b7d"
            ],
            [
             0.2,
             "#de77ae"
            ],
            [
             0.3,
             "#f1b6da"
            ],
            [
             0.4,
             "#fde0ef"
            ],
            [
             0.5,
             "#f7f7f7"
            ],
            [
             0.6,
             "#e6f5d0"
            ],
            [
             0.7,
             "#b8e186"
            ],
            [
             0.8,
             "#7fbc41"
            ],
            [
             0.9,
             "#4d9221"
            ],
            [
             1,
             "#276419"
            ]
           ],
           "sequential": [
            [
             0,
             "#0d0887"
            ],
            [
             0.1111111111111111,
             "#46039f"
            ],
            [
             0.2222222222222222,
             "#7201a8"
            ],
            [
             0.3333333333333333,
             "#9c179e"
            ],
            [
             0.4444444444444444,
             "#bd3786"
            ],
            [
             0.5555555555555556,
             "#d8576b"
            ],
            [
             0.6666666666666666,
             "#ed7953"
            ],
            [
             0.7777777777777778,
             "#fb9f3a"
            ],
            [
             0.8888888888888888,
             "#fdca26"
            ],
            [
             1,
             "#f0f921"
            ]
           ],
           "sequentialminus": [
            [
             0,
             "#0d0887"
            ],
            [
             0.1111111111111111,
             "#46039f"
            ],
            [
             0.2222222222222222,
             "#7201a8"
            ],
            [
             0.3333333333333333,
             "#9c179e"
            ],
            [
             0.4444444444444444,
             "#bd3786"
            ],
            [
             0.5555555555555556,
             "#d8576b"
            ],
            [
             0.6666666666666666,
             "#ed7953"
            ],
            [
             0.7777777777777778,
             "#fb9f3a"
            ],
            [
             0.8888888888888888,
             "#fdca26"
            ],
            [
             1,
             "#f0f921"
            ]
           ]
          },
          "colorway": [
           "#636efa",
           "#EF553B",
           "#00cc96",
           "#ab63fa",
           "#FFA15A",
           "#19d3f3",
           "#FF6692",
           "#B6E880",
           "#FF97FF",
           "#FECB52"
          ],
          "font": {
           "color": "#2a3f5f"
          },
          "geo": {
           "bgcolor": "white",
           "lakecolor": "white",
           "landcolor": "#E5ECF6",
           "showlakes": true,
           "showland": true,
           "subunitcolor": "white"
          },
          "hoverlabel": {
           "align": "left"
          },
          "hovermode": "closest",
          "mapbox": {
           "style": "light"
          },
          "paper_bgcolor": "white",
          "plot_bgcolor": "#E5ECF6",
          "polar": {
           "angularaxis": {
            "gridcolor": "white",
            "linecolor": "white",
            "ticks": ""
           },
           "bgcolor": "#E5ECF6",
           "radialaxis": {
            "gridcolor": "white",
            "linecolor": "white",
            "ticks": ""
           }
          },
          "scene": {
           "xaxis": {
            "backgroundcolor": "#E5ECF6",
            "gridcolor": "white",
            "gridwidth": 2,
            "linecolor": "white",
            "showbackground": true,
            "ticks": "",
            "zerolinecolor": "white"
           },
           "yaxis": {
            "backgroundcolor": "#E5ECF6",
            "gridcolor": "white",
            "gridwidth": 2,
            "linecolor": "white",
            "showbackground": true,
            "ticks": "",
            "zerolinecolor": "white"
           },
           "zaxis": {
            "backgroundcolor": "#E5ECF6",
            "gridcolor": "white",
            "gridwidth": 2,
            "linecolor": "white",
            "showbackground": true,
            "ticks": "",
            "zerolinecolor": "white"
           }
          },
          "shapedefaults": {
           "line": {
            "color": "#2a3f5f"
           }
          },
          "ternary": {
           "aaxis": {
            "gridcolor": "white",
            "linecolor": "white",
            "ticks": ""
           },
           "baxis": {
            "gridcolor": "white",
            "linecolor": "white",
            "ticks": ""
           },
           "bgcolor": "#E5ECF6",
           "caxis": {
            "gridcolor": "white",
            "linecolor": "white",
            "ticks": ""
           }
          },
          "title": {
           "x": 0.05
          },
          "xaxis": {
           "automargin": true,
           "gridcolor": "white",
           "linecolor": "white",
           "ticks": "",
           "title": {
            "standoff": 15
           },
           "zerolinecolor": "white",
           "zerolinewidth": 2
          },
          "yaxis": {
           "automargin": true,
           "gridcolor": "white",
           "linecolor": "white",
           "ticks": "",
           "title": {
            "standoff": 15
           },
           "zerolinecolor": "white",
           "zerolinewidth": 2
          }
         }
        },
        "width": 1000,
        "xaxis": {
         "gridcolor": "lightgrey",
         "gridwidth": 1,
         "linecolor": "black",
         "linewidth": 0.7,
         "mirror": true,
         "range": [
          [
           0,
           0,
           0
          ],
          [
           1,
           1,
           1
          ]
         ],
         "showline": true,
         "tickfont": {
          "color": "black",
          "family": "Times New Roman",
          "size": 20
         },
         "ticks": "outside",
         "title": {
          "font": {
           "color": "black",
           "family": "Times New Roman",
           "size": 25
          },
          "text": "x"
         }
        },
        "yaxis": {
         "gridcolor": "lightgrey",
         "gridwidth": 1,
         "linecolor": "black",
         "linewidth": 0.7,
         "mirror": true,
         "range": [
          [
           0.5088366588143951,
           0.5046424168656272,
           0.5114564335741214
          ],
          [
           1.0001054541926881,
           1.000026728370421,
           1.000188661733568
          ]
         ],
         "showline": true,
         "tickfont": {
          "color": "black",
          "family": "Times New Roman",
          "size": 20
         },
         "ticks": "outside",
         "title": {
          "font": {
           "color": "black",
           "family": "Times New Roman",
           "size": 25
          },
          "text": "-"
         }
        }
       }
      },
      "text/html": [
       "<div>                            <div id=\"0cbdcdb6-e468-4732-a8ac-39cd16666da8\" class=\"plotly-graph-div\" style=\"height:500px; width:1000px;\"></div>            <script type=\"text/javascript\">                require([\"plotly\"], function(Plotly) {                    window.PLOTLYENV=window.PLOTLYENV || {};                                    if (document.getElementById(\"0cbdcdb6-e468-4732-a8ac-39cd16666da8\")) {                    Plotly.newPlot(                        \"0cbdcdb6-e468-4732-a8ac-39cd16666da8\",                        [{\"line\": {\"color\": \"blue\", \"dash\": \"solid\", \"width\": 2}, \"marker\": {\"line\": {\"color\": \"blue\", \"width\": 1}, \"size\": 10, \"symbol\": \"circle\"}, \"mode\": \"markers\", \"name\": \"equispaced\", \"textfont\": {\"color\": \"LightSeaGreen\", \"family\": \"Times New Roman\", \"size\": 18}, \"type\": \"scatter\", \"x\": [0.0, 0.001001001001001001, 0.002002002002002002, 0.003003003003003003, 0.004004004004004004, 0.005005005005005005, 0.006006006006006006, 0.007007007007007007, 0.008008008008008008, 0.009009009009009009, 0.01001001001001001, 0.011011011011011011, 0.012012012012012012, 0.013013013013013013, 0.014014014014014014, 0.015015015015015015, 0.016016016016016016, 0.017017017017017015, 0.018018018018018018, 0.01901901901901902, 0.02002002002002002, 0.02102102102102102, 0.022022022022022022, 0.023023023023023025, 0.024024024024024024, 0.025025025025025023, 0.026026026026026026, 0.02702702702702703, 0.028028028028028028, 0.029029029029029027, 0.03003003003003003, 0.031031031031031032, 0.03203203203203203, 0.03303303303303303, 0.03403403403403403, 0.035035035035035036, 0.036036036036036036, 0.037037037037037035, 0.03803803803803804, 0.03903903903903904, 0.04004004004004004, 0.04104104104104104, 0.04204204204204204, 0.043043043043043044, 0.044044044044044044, 0.04504504504504504, 0.04604604604604605, 0.04704704704704705, 0.04804804804804805, 0.04904904904904905, 0.050050050050050046, 0.05105105105105105, 0.05205205205205205, 0.05305305305305305, 0.05405405405405406, 0.055055055055055056, 0.056056056056056056, 0.057057057057057055, 0.058058058058058054, 0.05905905905905906, 0.06006006006006006, 0.06106106106106106, 0.062062062062062065, 0.06306306306306306, 0.06406406406406406, 0.06506506506506507, 0.06606606606606606, 0.06706706706706707, 0.06806806806806806, 0.06906906906906907, 0.07007007007007007, 0.07107107107107107, 0.07207207207207207, 0.07307307307307308, 0.07407407407407407, 0.07507507507507508, 0.07607607607607608, 0.07707707707707707, 0.07807807807807808, 0.07907907907907907, 0.08008008008008008, 0.08108108108108109, 0.08208208208208208, 0.08308308308308308, 0.08408408408408408, 0.08508508508508508, 0.08608608608608609, 0.08708708708708708, 0.08808808808808809, 0.0890890890890891, 0.09009009009009009, 0.09109109109109109, 0.0920920920920921, 0.09309309309309309, 0.0940940940940941, 0.09509509509509509, 0.0960960960960961, 0.0970970970970971, 0.0980980980980981, 0.0990990990990991, 0.10010010010010009, 0.1011011011011011, 0.1021021021021021, 0.1031031031031031, 0.1041041041041041, 0.10510510510510511, 0.1061061061061061, 0.10710710710710711, 0.10810810810810811, 0.1091091091091091, 0.11011011011011011, 0.1111111111111111, 0.11211211211211211, 0.11311311311311312, 0.11411411411411411, 0.11511511511511512, 0.11611611611611611, 0.11711711711711711, 0.11811811811811812, 0.11911911911911911, 0.12012012012012012, 0.12112112112112113, 0.12212212212212212, 0.12312312312312312, 0.12412412412412413, 0.12512512512512514, 0.12612612612612611, 0.12712712712712712, 0.12812812812812813, 0.12912912912912913, 0.13013013013013014, 0.13113113113113112, 0.13213213213213212, 0.13313313313313313, 0.13413413413413414, 0.13513513513513514, 0.13613613613613612, 0.13713713713713713, 0.13813813813813813, 0.13913913913913914, 0.14014014014014015, 0.14114114114114115, 0.14214214214214213, 0.14314314314314314, 0.14414414414414414, 0.14514514514514515, 0.14614614614614616, 0.14714714714714713, 0.14814814814814814, 0.14914914914914915, 0.15015015015015015, 0.15115115115115116, 0.15215215215215216, 0.15315315315315314, 0.15415415415415415, 0.15515515515515516, 0.15615615615615616, 0.15715715715715717, 0.15815815815815815, 0.15915915915915915, 0.16016016016016016, 0.16116116116116116, 0.16216216216216217, 0.16316316316316315, 0.16416416416416416, 0.16516516516516516, 0.16616616616616617, 0.16716716716716717, 0.16816816816816815, 0.16916916916916916, 0.17017017017017017, 0.17117117117117117, 0.17217217217217218, 0.17317317317317318, 0.17417417417417416, 0.17517517517517517, 0.17617617617617617, 0.17717717717717718, 0.1781781781781782, 0.17917917917917917, 0.18018018018018017, 0.18118118118118118, 0.18218218218218218, 0.1831831831831832, 0.1841841841841842, 0.18518518518518517, 0.18618618618618618, 0.1871871871871872, 0.1881881881881882, 0.1891891891891892, 0.19019019019019018, 0.19119119119119118, 0.1921921921921922, 0.1931931931931932, 0.1941941941941942, 0.19519519519519518, 0.1961961961961962, 0.1971971971971972, 0.1981981981981982, 0.1991991991991992, 0.20020020020020018, 0.2012012012012012, 0.2022022022022022, 0.2032032032032032, 0.2042042042042042, 0.20520520520520522, 0.2062062062062062, 0.2072072072072072, 0.2082082082082082, 0.2092092092092092, 0.21021021021021022, 0.2112112112112112, 0.2122122122122122, 0.2132132132132132, 0.21421421421421422, 0.21521521521521522, 0.21621621621621623, 0.2172172172172172, 0.2182182182182182, 0.21921921921921922, 0.22022022022022023, 0.22122122122122123, 0.2222222222222222, 0.22322322322322322, 0.22422422422422422, 0.22522522522522523, 0.22622622622622623, 0.2272272272272272, 0.22822822822822822, 0.22922922922922923, 0.23023023023023023, 0.23123123123123124, 0.23223223223223222, 0.23323323323323322, 0.23423423423423423, 0.23523523523523523, 0.23623623623623624, 0.23723723723723725, 0.23823823823823823, 0.23923923923923923, 0.24024024024024024, 0.24124124124124124, 0.24224224224224225, 0.24324324324324323, 0.24424424424424424, 0.24524524524524524, 0.24624624624624625, 0.24724724724724725, 0.24824824824824826, 0.24924924924924924, 0.2502502502502503, 0.25125125125125125, 0.25225225225225223, 0.25325325325325326, 0.25425425425425424, 0.2552552552552553, 0.25625625625625625, 0.25725725725725723, 0.25825825825825827, 0.25925925925925924, 0.2602602602602603, 0.26126126126126126, 0.26226226226226224, 0.26326326326326327, 0.26426426426426425, 0.2652652652652653, 0.26626626626626626, 0.26726726726726724, 0.2682682682682683, 0.26926926926926925, 0.2702702702702703, 0.27127127127127126, 0.27227227227227224, 0.2732732732732733, 0.27427427427427425, 0.2752752752752753, 0.27627627627627627, 0.2772772772772773, 0.2782782782782783, 0.27927927927927926, 0.2802802802802803, 0.28128128128128127, 0.2822822822822823, 0.2832832832832833, 0.28428428428428426, 0.2852852852852853, 0.2862862862862863, 0.2872872872872873, 0.2882882882882883, 0.28928928928928926, 0.2902902902902903, 0.2912912912912913, 0.2922922922922923, 0.2932932932932933, 0.29429429429429427, 0.2952952952952953, 0.2962962962962963, 0.2972972972972973, 0.2982982982982983, 0.29929929929929927, 0.3003003003003003, 0.3013013013013013, 0.3023023023023023, 0.3033033033033033, 0.30430430430430433, 0.3053053053053053, 0.3063063063063063, 0.3073073073073073, 0.3083083083083083, 0.30930930930930933, 0.3103103103103103, 0.3113113113113113, 0.3123123123123123, 0.3133133133133133, 0.31431431431431434, 0.3153153153153153, 0.3163163163163163, 0.3173173173173173, 0.3183183183183183, 0.31931931931931934, 0.3203203203203203, 0.3213213213213213, 0.32232232232232233, 0.3233233233233233, 0.32432432432432434, 0.3253253253253253, 0.3263263263263263, 0.32732732732732733, 0.3283283283283283, 0.32932932932932935, 0.3303303303303303, 0.3313313313313313, 0.33233233233233234, 0.3333333333333333, 0.33433433433433435, 0.3353353353353353, 0.3363363363363363, 0.33733733733733734, 0.3383383383383383, 0.33933933933933935, 0.34034034034034033, 0.34134134134134136, 0.34234234234234234, 0.3433433433433433, 0.34434434434434436, 0.34534534534534533, 0.34634634634634637, 0.34734734734734735, 0.3483483483483483, 0.34934934934934936, 0.35035035035035034, 0.35135135135135137, 0.35235235235235235, 0.3533533533533533, 0.35435435435435436, 0.35535535535535534, 0.3563563563563564, 0.35735735735735735, 0.35835835835835833, 0.35935935935935936, 0.36036036036036034, 0.3613613613613614, 0.36236236236236236, 0.36336336336336333, 0.36436436436436437, 0.36536536536536535, 0.3663663663663664, 0.36736736736736736, 0.3683683683683684, 0.36936936936936937, 0.37037037037037035, 0.3713713713713714, 0.37237237237237236, 0.3733733733733734, 0.3743743743743744, 0.37537537537537535, 0.3763763763763764, 0.37737737737737737, 0.3783783783783784, 0.3793793793793794, 0.38038038038038036, 0.3813813813813814, 0.38238238238238237, 0.3833833833833834, 0.3843843843843844, 0.38538538538538536, 0.3863863863863864, 0.38738738738738737, 0.3883883883883884, 0.3893893893893894, 0.39039039039039036, 0.3913913913913914, 0.3923923923923924, 0.3933933933933934, 0.3943943943943944, 0.39539539539539537, 0.3963963963963964, 0.3973973973973974, 0.3983983983983984, 0.3993993993993994, 0.40040040040040037, 0.4014014014014014, 0.4024024024024024, 0.4034034034034034, 0.4044044044044044, 0.40540540540540543, 0.4064064064064064, 0.4074074074074074, 0.4084084084084084, 0.4094094094094094, 0.41041041041041043, 0.4114114114114114, 0.4124124124124124, 0.4134134134134134, 0.4144144144144144, 0.41541541541541543, 0.4164164164164164, 0.4174174174174174, 0.4184184184184184, 0.4194194194194194, 0.42042042042042044, 0.4214214214214214, 0.4224224224224224, 0.42342342342342343, 0.4244244244244244, 0.42542542542542544, 0.4264264264264264, 0.4274274274274274, 0.42842842842842843, 0.4294294294294294, 0.43043043043043044, 0.4314314314314314, 0.43243243243243246, 0.43343343343343343, 0.4344344344344344, 0.43543543543543545, 0.4364364364364364, 0.43743743743743746, 0.43843843843843844, 0.4394394394394394, 0.44044044044044045, 0.44144144144144143, 0.44244244244244246, 0.44344344344344344, 0.4444444444444444, 0.44544544544544545, 0.44644644644644643, 0.44744744744744747, 0.44844844844844844, 0.4494494494494494, 0.45045045045045046, 0.45145145145145144, 0.45245245245245247, 0.45345345345345345, 0.4544544544544544, 0.45545545545545546, 0.45645645645645644, 0.4574574574574575, 0.45845845845845845, 0.45945945945945943, 0.46046046046046046, 0.46146146146146144, 0.4624624624624625, 0.46346346346346345, 0.46446446446446443, 0.46546546546546547, 0.46646646646646645, 0.4674674674674675, 0.46846846846846846, 0.4694694694694695, 0.47047047047047047, 0.47147147147147145, 0.4724724724724725, 0.47347347347347346, 0.4744744744744745, 0.4754754754754755, 0.47647647647647645, 0.4774774774774775, 0.47847847847847846, 0.4794794794794795, 0.4804804804804805, 0.48148148148148145, 0.4824824824824825, 0.48348348348348347, 0.4844844844844845, 0.4854854854854855, 0.48648648648648646, 0.4874874874874875, 0.48848848848848847, 0.4894894894894895, 0.4904904904904905, 0.49149149149149146, 0.4924924924924925, 0.4934934934934935, 0.4944944944944945, 0.4954954954954955, 0.4964964964964965, 0.4974974974974975, 0.4984984984984985, 0.4994994994994995, 0.5005005005005005, 0.5015015015015015, 0.5025025025025025, 0.5035035035035035, 0.5045045045045045, 0.5055055055055055, 0.5065065065065065, 0.5075075075075075, 0.5085085085085085, 0.5095095095095095, 0.5105105105105106, 0.5115115115115115, 0.5125125125125125, 0.5135135135135135, 0.5145145145145145, 0.5155155155155156, 0.5165165165165165, 0.5175175175175175, 0.5185185185185185, 0.5195195195195195, 0.5205205205205206, 0.5215215215215215, 0.5225225225225225, 0.5235235235235235, 0.5245245245245245, 0.5255255255255256, 0.5265265265265265, 0.5275275275275275, 0.5285285285285285, 0.5295295295295295, 0.5305305305305306, 0.5315315315315315, 0.5325325325325325, 0.5335335335335335, 0.5345345345345345, 0.5355355355355356, 0.5365365365365365, 0.5375375375375375, 0.5385385385385385, 0.5395395395395395, 0.5405405405405406, 0.5415415415415415, 0.5425425425425425, 0.5435435435435435, 0.5445445445445445, 0.5455455455455456, 0.5465465465465466, 0.5475475475475475, 0.5485485485485485, 0.5495495495495496, 0.5505505505505506, 0.5515515515515516, 0.5525525525525525, 0.5535535535535535, 0.5545545545545546, 0.5555555555555556, 0.5565565565565566, 0.5575575575575575, 0.5585585585585585, 0.5595595595595596, 0.5605605605605606, 0.5615615615615616, 0.5625625625625625, 0.5635635635635635, 0.5645645645645646, 0.5655655655655656, 0.5665665665665666, 0.5675675675675675, 0.5685685685685685, 0.5695695695695696, 0.5705705705705706, 0.5715715715715716, 0.5725725725725725, 0.5735735735735735, 0.5745745745745746, 0.5755755755755756, 0.5765765765765766, 0.5775775775775776, 0.5785785785785785, 0.5795795795795796, 0.5805805805805806, 0.5815815815815816, 0.5825825825825826, 0.5835835835835835, 0.5845845845845846, 0.5855855855855856, 0.5865865865865866, 0.5875875875875876, 0.5885885885885885, 0.5895895895895896, 0.5905905905905906, 0.5915915915915916, 0.5925925925925926, 0.5935935935935935, 0.5945945945945946, 0.5955955955955956, 0.5965965965965966, 0.5975975975975976, 0.5985985985985985, 0.5995995995995996, 0.6006006006006006, 0.6016016016016016, 0.6026026026026026, 0.6036036036036035, 0.6046046046046046, 0.6056056056056056, 0.6066066066066066, 0.6076076076076076, 0.6086086086086087, 0.6096096096096096, 0.6106106106106106, 0.6116116116116116, 0.6126126126126126, 0.6136136136136137, 0.6146146146146146, 0.6156156156156156, 0.6166166166166166, 0.6176176176176176, 0.6186186186186187, 0.6196196196196196, 0.6206206206206206, 0.6216216216216216, 0.6226226226226226, 0.6236236236236237, 0.6246246246246246, 0.6256256256256256, 0.6266266266266266, 0.6276276276276276, 0.6286286286286287, 0.6296296296296297, 0.6306306306306306, 0.6316316316316316, 0.6326326326326326, 0.6336336336336337, 0.6346346346346347, 0.6356356356356356, 0.6366366366366366, 0.6376376376376376, 0.6386386386386387, 0.6396396396396397, 0.6406406406406406, 0.6416416416416416, 0.6426426426426426, 0.6436436436436437, 0.6446446446446447, 0.6456456456456456, 0.6466466466466466, 0.6476476476476476, 0.6486486486486487, 0.6496496496496497, 0.6506506506506506, 0.6516516516516516, 0.6526526526526526, 0.6536536536536537, 0.6546546546546547, 0.6556556556556556, 0.6566566566566566, 0.6576576576576576, 0.6586586586586587, 0.6596596596596597, 0.6606606606606606, 0.6616616616616616, 0.6626626626626626, 0.6636636636636637, 0.6646646646646647, 0.6656656656656657, 0.6666666666666666, 0.6676676676676676, 0.6686686686686687, 0.6696696696696697, 0.6706706706706707, 0.6716716716716716, 0.6726726726726726, 0.6736736736736737, 0.6746746746746747, 0.6756756756756757, 0.6766766766766766, 0.6776776776776777, 0.6786786786786787, 0.6796796796796797, 0.6806806806806807, 0.6816816816816816, 0.6826826826826827, 0.6836836836836837, 0.6846846846846847, 0.6856856856856857, 0.6866866866866866, 0.6876876876876877, 0.6886886886886887, 0.6896896896896897, 0.6906906906906907, 0.6916916916916916, 0.6926926926926927, 0.6936936936936937, 0.6946946946946947, 0.6956956956956957, 0.6966966966966966, 0.6976976976976977, 0.6986986986986987, 0.6996996996996997, 0.7007007007007007, 0.7017017017017017, 0.7027027027027027, 0.7037037037037037, 0.7047047047047047, 0.7057057057057057, 0.7067067067067067, 0.7077077077077077, 0.7087087087087087, 0.7097097097097097, 0.7107107107107107, 0.7117117117117117, 0.7127127127127127, 0.7137137137137137, 0.7147147147147147, 0.7157157157157157, 0.7167167167167167, 0.7177177177177178, 0.7187187187187187, 0.7197197197197197, 0.7207207207207207, 0.7217217217217217, 0.7227227227227228, 0.7237237237237237, 0.7247247247247247, 0.7257257257257257, 0.7267267267267267, 0.7277277277277278, 0.7287287287287287, 0.7297297297297297, 0.7307307307307307, 0.7317317317317317, 0.7327327327327328, 0.7337337337337337, 0.7347347347347347, 0.7357357357357357, 0.7367367367367368, 0.7377377377377378, 0.7387387387387387, 0.7397397397397397, 0.7407407407407407, 0.7417417417417418, 0.7427427427427428, 0.7437437437437437, 0.7447447447447447, 0.7457457457457457, 0.7467467467467468, 0.7477477477477478, 0.7487487487487487, 0.7497497497497497, 0.7507507507507507, 0.7517517517517518, 0.7527527527527528, 0.7537537537537538, 0.7547547547547547, 0.7557557557557557, 0.7567567567567568, 0.7577577577577578, 0.7587587587587588, 0.7597597597597597, 0.7607607607607607, 0.7617617617617618, 0.7627627627627628, 0.7637637637637638, 0.7647647647647647, 0.7657657657657657, 0.7667667667667668, 0.7677677677677678, 0.7687687687687688, 0.7697697697697697, 0.7707707707707707, 0.7717717717717718, 0.7727727727727728, 0.7737737737737738, 0.7747747747747747, 0.7757757757757757, 0.7767767767767768, 0.7777777777777778, 0.7787787787787788, 0.7797797797797797, 0.7807807807807807, 0.7817817817817818, 0.7827827827827828, 0.7837837837837838, 0.7847847847847848, 0.7857857857857857, 0.7867867867867868, 0.7877877877877878, 0.7887887887887888, 0.7897897897897898, 0.7907907907907907, 0.7917917917917918, 0.7927927927927928, 0.7937937937937938, 0.7947947947947948, 0.7957957957957957, 0.7967967967967968, 0.7977977977977978, 0.7987987987987988, 0.7997997997997998, 0.8008008008008007, 0.8018018018018018, 0.8028028028028028, 0.8038038038038038, 0.8048048048048048, 0.8058058058058059, 0.8068068068068068, 0.8078078078078078, 0.8088088088088088, 0.8098098098098098, 0.8108108108108109, 0.8118118118118118, 0.8128128128128128, 0.8138138138138138, 0.8148148148148148, 0.8158158158158159, 0.8168168168168168, 0.8178178178178178, 0.8188188188188188, 0.8198198198198198, 0.8208208208208209, 0.8218218218218218, 0.8228228228228228, 0.8238238238238238, 0.8248248248248248, 0.8258258258258259, 0.8268268268268268, 0.8278278278278278, 0.8288288288288288, 0.8298298298298298, 0.8308308308308309, 0.8318318318318318, 0.8328328328328328, 0.8338338338338338, 0.8348348348348348, 0.8358358358358359, 0.8368368368368369, 0.8378378378378378, 0.8388388388388388, 0.8398398398398398, 0.8408408408408409, 0.8418418418418419, 0.8428428428428428, 0.8438438438438438, 0.8448448448448448, 0.8458458458458459, 0.8468468468468469, 0.8478478478478478, 0.8488488488488488, 0.8498498498498498, 0.8508508508508509, 0.8518518518518519, 0.8528528528528528, 0.8538538538538538, 0.8548548548548548, 0.8558558558558559, 0.8568568568568569, 0.8578578578578578, 0.8588588588588588, 0.8598598598598598, 0.8608608608608609, 0.8618618618618619, 0.8628628628628628, 0.8638638638638638, 0.8648648648648649, 0.8658658658658659, 0.8668668668668669, 0.8678678678678678, 0.8688688688688688, 0.8698698698698699, 0.8708708708708709, 0.8718718718718719, 0.8728728728728729, 0.8738738738738738, 0.8748748748748749, 0.8758758758758759, 0.8768768768768769, 0.8778778778778779, 0.8788788788788788, 0.8798798798798799, 0.8808808808808809, 0.8818818818818819, 0.8828828828828829, 0.8838838838838838, 0.8848848848848849, 0.8858858858858859, 0.8868868868868869, 0.8878878878878879, 0.8888888888888888, 0.8898898898898899, 0.8908908908908909, 0.8918918918918919, 0.8928928928928929, 0.8938938938938938, 0.8948948948948949, 0.8958958958958959, 0.8968968968968969, 0.8978978978978979, 0.8988988988988988, 0.8998998998998999, 0.9009009009009009, 0.9019019019019019, 0.9029029029029029, 0.9039039039039038, 0.9049049049049049, 0.9059059059059059, 0.9069069069069069, 0.9079079079079079, 0.9089089089089089, 0.9099099099099099, 0.9109109109109109, 0.9119119119119119, 0.9129129129129129, 0.9139139139139139, 0.914914914914915, 0.9159159159159159, 0.9169169169169169, 0.9179179179179179, 0.9189189189189189, 0.91991991991992, 0.9209209209209209, 0.9219219219219219, 0.9229229229229229, 0.9239239239239239, 0.924924924924925, 0.9259259259259259, 0.9269269269269269, 0.9279279279279279, 0.9289289289289289, 0.92992992992993, 0.9309309309309309, 0.9319319319319319, 0.9329329329329329, 0.933933933933934, 0.934934934934935, 0.9359359359359359, 0.9369369369369369, 0.9379379379379379, 0.938938938938939, 0.93993993993994, 0.9409409409409409, 0.9419419419419419, 0.9429429429429429, 0.943943943943944, 0.944944944944945, 0.9459459459459459, 0.9469469469469469, 0.9479479479479479, 0.948948948948949, 0.94994994994995, 0.950950950950951, 0.9519519519519519, 0.9529529529529529, 0.953953953953954, 0.954954954954955, 0.955955955955956, 0.9569569569569569, 0.9579579579579579, 0.958958958958959, 0.95995995995996, 0.960960960960961, 0.9619619619619619, 0.9629629629629629, 0.963963963963964, 0.964964964964965, 0.965965965965966, 0.9669669669669669, 0.9679679679679679, 0.968968968968969, 0.96996996996997, 0.970970970970971, 0.9719719719719719, 0.9729729729729729, 0.973973973973974, 0.974974974974975, 0.975975975975976, 0.9769769769769769, 0.9779779779779779, 0.978978978978979, 0.97997997997998, 0.980980980980981, 0.9819819819819819, 0.9829829829829829, 0.983983983983984, 0.984984984984985, 0.985985985985986, 0.986986986986987, 0.9879879879879879, 0.988988988988989, 0.98998998998999, 0.990990990990991, 0.991991991991992, 0.992992992992993, 0.993993993993994, 0.994994994994995, 0.995995995995996, 0.996996996996997, 0.997997997997998, 0.998998998998999, 1.0], \"y\": [1.0, 1.0000216119644876, 1.0000407381197018, 1.0000573836567643, 1.0000715537635567, 1.0000832536247244, 1.0000924884216726, 1.0000992633325692, 1.0001035835323437, 1.0001054541926881, 1.0001048804820554, 1.000101867565661, 1.000096420605481, 1.000088544760254, 1.0000782451854817, 1.0000655270334253, 1.0000503954531095, 1.0000328555903193, 1.0000129125876025, 0.9999905715842695, 0.9999658377163911, 0.9999387161168005, 0.9999092119150917, 0.9998773302376222, 0.99984307620751, 0.9998064549446356, 0.9997674715656415, 0.9997261311839308, 0.9996824389096696, 0.9996363998497851, 0.9995880191079671, 0.9995373017846656, 0.9994842529770948, 0.999428877779228, 0.999371181281803, 0.9993111685723173, 0.9992488447350307, 0.9991842148509659, 0.9991172839979057, 0.9990480572503965, 0.9989765396797445, 0.9989027363540202, 0.9988266523380528, 0.9987482926934358, 0.9986676624785236, 0.9985847667484329, 0.9984996105550412, 0.9984121989469885, 0.9983225369696762, 0.9982306296652684, 0.9981364820726905, 0.9980400992276287, 0.9979414861625323, 0.9978406479066114, 0.9977375894858398, 0.9976323159229508, 0.9975248322374404, 0.9974151434455669, 0.99730325456035, 0.9971891705915709, 0.997072896545773, 0.9969544374262608, 0.9968337982331024, 0.9967109839631252, 0.9965859996099212, 0.9964588501638408, 0.9963295406119994, 0.9961980759382724, 0.9960644611232972, 0.9959287011444744, 0.9957908009759641, 0.9956507655886896, 0.9955085999503362, 0.9953643090253503, 0.9952178977749409, 0.9950693711570773, 0.9949187341264921, 0.9947659916346789, 0.9946111486298937, 0.9944542100571544, 0.99429518085824, 0.9941340659716902, 0.9939708703328097, 0.9938055988736626, 0.9936382565230758, 0.9934688482066368, 0.9932973788466951, 0.9931238533623642, 0.9929482766695168, 0.9927706536807892, 0.9925909893055775, 0.992409288450042, 0.992225556017102, 0.9920397969064417, 0.9918520160145055, 0.991662218234499, 0.9914704084563897, 0.9912765915669092, 0.9910807724495481, 0.9908829559845597, 0.9906831470489601, 0.9904813505165252, 0.990277571257795, 0.9900718141400701, 0.989864084027413, 0.9896543857806471, 0.9894427242573592, 0.9892291043118966, 0.9890135307953705, 0.9887960085556506, 0.9885765424373713, 0.9883551372819266, 0.9881317979274745, 0.9879065292089336, 0.9876793359579843, 0.9874502230030681, 0.9872191951693897, 0.9869862572789149, 0.9867514141503723, 0.9865146705992498, 0.9862760314377998, 0.9860355014750343, 0.9857930855167292, 0.9855487883654216, 0.9853026148204089, 0.9850545696777517, 0.9848046577302718, 0.9845528837675538, 0.9842992525759433, 0.9840437689385483, 0.9837864376352357, 0.9835272634426393, 0.9832662511341509, 0.9830034054799252, 0.9827387312468788, 0.9824722331986901, 0.9822039160957985, 0.9819337846954067, 0.9816618437514786, 0.9813880980147395, 0.9811125522326755, 0.9808352111495363, 0.9805560795063345, 0.980275162040841, 0.9799924634875907, 0.9797079885778797, 0.9794217420397656, 0.97913372859807, 0.9788439529743744, 0.9785524198870206, 0.9782591340511152, 0.9779641001785243, 0.9776673229778778, 0.9773688071545665, 0.9770685574107423, 0.9767665784453198, 0.9764628749539737, 0.9761574516291449, 0.9758503131600302, 0.9755414642325928, 0.9752309095295558, 0.974918653730403, 0.9746047015113832, 0.9742890575455039, 0.973971726502536, 0.9736527130490119, 0.973332021848225, 0.9730096575602319, 0.9726856248418506, 0.9723599283466597, 0.9720325727250014, 0.9717035626239775, 0.9713729026874547, 0.9710405975560585, 0.9707066518671776, 0.9703710702549623, 0.970033857350325, 0.9696950177809389, 0.9693545561712412, 0.9690124771424279, 0.968668785312459, 0.968323485296055, 0.9679765817046999, 0.967628079146638, 0.9672779822268744, 0.9669262955471801, 0.9665730237060828, 0.9662181712988758, 0.9658617429176123, 0.9655037431511072, 0.9651441765849393, 0.9647830478014464, 0.9644203613797301, 0.9640561218956533, 0.9636903339218392, 0.9633230020276762, 0.9629541307793105, 0.9625837247396535, 0.9622117884683763, 0.9618383265219109, 0.9614633434534554, 0.9610868438129653, 0.9607088321471596, 0.9603293129995193, 0.9599482909102866, 0.9595657704164665, 0.9591817560518244, 0.9587962523468888, 0.9584092638289488, 0.9580207950220561, 0.9576308504470245, 0.9572394346214285, 0.9568465520596057, 0.956452207272654, 0.9560564047684345, 0.9556591490515695, 0.955260444623443, 0.9548602959822006, 0.9544587076227504, 0.9540556840367617, 0.9536512297126665, 0.9532453491356572, 0.9528380467876888, 0.952429327147478, 0.9520191946905033, 0.951607653889006, 0.951194709211987, 0.9507803651252109, 0.950364626091203, 0.9499474965692507, 0.9495289810154042, 0.9491090838824736, 0.9486878096200326, 0.9482651626744155, 0.9478411474887187, 0.9474157685028013, 0.9469890301532827, 0.9465609368735451, 0.9461314930937319, 0.9457007032407488, 0.9452685717382637, 0.9448351030067051, 0.9444003014632641, 0.9439641715218936, 0.9435267175933074, 0.9430879440849832, 0.9426478554011578, 0.9422064559428316, 0.9417637501077667, 0.9413197422904857, 0.9408744368822751, 0.9404278382711816, 0.9399799508420139, 0.9395307789763429, 0.9390803270525003, 0.9386285994455823, 0.9381756005274434, 0.9377213346667023, 0.9372658062287387, 0.9368090195756934, 0.936350979066471, 0.9358916890567357, 0.9354311538989144, 0.9349693779421965, 0.9345063655325316, 0.9340421210126334, 0.9335766487219749, 0.9331099529967919, 0.9326420381700834, 0.9321729085716074, 0.9317025685278867, 0.9312310223622035, 0.930758274394603, 0.9302843289418917, 0.9298091903176384, 0.9293328628321738, 0.9288553507925893, 0.9283766585027389, 0.9278967902632393, 0.9274157503714667, 0.926933543121562, 0.9264501728044247, 0.9259656437077186, 0.9254799601158686, 0.9249931263100608, 0.9245051465682438, 0.9240160251651278, 0.9235257663721841, 0.923034374457648, 0.9225418536865132, 0.9220482083205381, 0.9215534426182419, 0.9210575608349045, 0.9205605672225705, 0.9200624660300424, 0.919563261502888, 0.9190629578834347, 0.9185615594107726, 0.9180590703207542, 0.9175554948459916, 0.9170508372158616, 0.9165451016565005, 0.9160382923908074, 0.9155304136384431, 0.9150214696158301, 0.9145114645361526, 0.9140004026093576, 0.9134882880421519, 0.9129751250380059, 0.9124609177971508, 0.9119456705165804, 0.9114293873900496, 0.9109120726080754, 0.9103937303579365, 0.9098743648236737, 0.9093539801860887, 0.9088325806227464, 0.9083101703079722, 0.9077867534128544, 0.907262334105242, 0.9067369165497465, 0.9062105049077417, 0.9056831033373616, 0.9051547159935036, 0.9046253470278259, 0.9040950005887491, 0.903563680821455, 0.9030313918678881, 0.9024981378667539, 0.9019639229535197, 0.9014287512604152, 0.9008926269164316, 0.9003555540473215, 0.8998175367756, 0.8992785792205434, 0.8987386854981902, 0.8981978597213409, 0.8976561059995568, 0.8971134284391622, 0.8965698311432423, 0.8960253182116443, 0.8954798937409784, 0.894933561824614, 0.8943863265526852, 0.8938381920120859, 0.8932891622864725, 0.8927392414562637, 0.8921884335986388, 0.8916367427875398, 0.8910841730936702, 0.8905307285844954, 0.8899764133242429, 0.8894212313739012, 0.8888651867912213, 0.8883082836307157, 0.8877505259436587, 0.8871919177780865, 0.8866324631787971, 0.8860721661873507, 0.8855110308420681, 0.884949061178033, 0.8843862612270906, 0.883822635017848, 0.8832581865756739, 0.8826929199226987, 0.8821268390778145, 0.8815599480566763, 0.8809922508716995, 0.8804237515320619, 0.8798544540437034, 0.8792843624093248, 0.8787134806283899, 0.8781418126971232, 0.8775693626085115, 0.8769961343523041, 0.8764221319150102, 0.8758473592799028, 0.8752718204270153, 0.874695519333144, 0.8741184599718467, 0.8735406463134419, 0.8729620823250116, 0.8723827719703982, 0.8718027192102064, 0.8712219280018038, 0.8706404022993173, 0.8700581460536383, 0.8694751632124181, 0.8688914577200705, 0.8683070335177717, 0.8677218945434585, 0.8671360447318301, 0.8665494880143478, 0.8659622283192336, 0.8653742695714735, 0.8647856156928124, 0.8641962706017593, 0.863606238213584, 0.8630155224403181, 0.8624241271907559, 0.8618320563704516, 0.8612393138817233, 0.8606459036236496, 0.8600518294920714, 0.8594570953795915, 0.8588617051755739, 0.8582656627661448, 0.8576689720341926, 0.8570716368593665, 0.8564736611180787, 0.855875048683502, 0.8552758034255717, 0.8546759292109853, 0.8540754299032011, 0.85347430936244, 0.8528725714456841, 0.8522702200066775, 0.8516672588959265, 0.851063691960699, 0.8504595230450239, 0.8498547559896933, 0.8492493946322601, 0.8486434428070394, 0.8480369043451076, 0.8474297830743038, 0.8468220828192283, 0.8462138074012432, 0.8456049606384721, 0.8449955463458013, 0.8443855683348787, 0.8437750304141125, 0.8431639363886753, 0.8425522900604987, 0.841940095228279, 0.8413273556874715, 0.8407140752302952, 0.8401002576457302, 0.8394859067195185, 0.8388710262341638, 0.8382556199689319, 0.83763969169985, 0.8370232451997073, 0.836406284238055, 0.8357888125812056, 0.8351708339922338, 0.8345523522309761, 0.8339333710540306, 0.8333138942147578, 0.8326939254632785, 0.8320734685464768, 0.8314525272079984, 0.8308311051882503, 0.8302092062244011, 0.8295868340503819, 0.8289639923968857, 0.8283406849913664, 0.8277169155580398, 0.8270926878178851, 0.8264680054886412, 0.8258428722848097, 0.8252172919176547, 0.8245912680952003, 0.8239648045222346, 0.8233379049003057, 0.8227105729277246, 0.8220828122995636, 0.8214546267076563, 0.8208260198406, 0.8201969953837511, 0.8195675570192302, 0.8189377084259184, 0.8183074532794584, 0.817676795252256, 0.8170457380134775, 0.8164142852290519, 0.8157824405616692, 0.8151502076707817, 0.8145175902126038, 0.8138845918401105, 0.8132512162030405, 0.8126174669478922, 0.8119833477179271, 0.8113488621531685, 0.810714013890401, 0.8100788065631712, 0.8094432438017879, 0.8088073292333205, 0.8081710664816015, 0.8075344591672248, 0.806897510907546, 0.8062602253166823, 0.8056226060055128, 0.8049846565816787, 0.8043463806495832, 0.8037077818103906, 0.8030688636620269, 0.8024296297991805, 0.8017900838133019, 0.8011502292926025, 0.8005100698220561, 0.7998696089833979, 0.799228850355125, 0.7985877975124971, 0.7979464540275344, 0.7973048234690197, 0.7966629094024972, 0.7960207153902734, 0.7953782449914163, 0.7947355017617556, 0.7940924892538828, 0.7934492110171516, 0.792805670597677, 0.7921618715383362, 0.7915178173787678, 0.7908735116553728, 0.790228957901313, 0.7895841596465131, 0.7889391204176591, 0.7882938437381986, 0.7876483331283413, 0.7870025921050586, 0.7863566241820839, 0.7857104328699122, 0.7850640216758001, 0.7844173941037663, 0.7837705536545911, 0.7831235038258171, 0.7824762481117481, 0.78182879000345, 0.7811811329887502, 0.780533280552238, 0.7798852361752653, 0.7792370033359447, 0.7785885855091511, 0.7779399861665208, 0.7772912087764525, 0.7766422568041067, 0.775993133711405, 0.7753438429570313, 0.7746943879964311, 0.7740447722818122, 0.7733949992621438, 0.7727450723831564, 0.7720949950873437, 0.7714447708139593, 0.7707944029990204, 0.770143895075305, 0.7694932504723533, 0.7688424726164665, 0.7681915649307091, 0.7675405308349058, 0.7668893737456443, 0.7662380970762732, 0.7655867042369039, 0.7649351986344087, 0.7642835836724219, 0.7636318627513399, 0.7629800392683206, 0.7623281166172842, 0.7616760981889118, 0.7610239873706472, 0.7603717875466958, 0.7597195020980241, 0.7590671344023612, 0.758414687834198, 0.7577621657647864, 0.7571095715621411, 0.7564569085910375, 0.7558041802130145, 0.7551513897863709, 0.7544985406661683, 0.75384563620423, 0.753192679749141, 0.7525396746462483, 0.7518866242376602, 0.7512335318622474, 0.7505804008556421, 0.7499272345502382, 0.7492740362751921, 0.7486208093564205, 0.7479675571166035, 0.7473142828751822, 0.7466609899483595, 0.7460076816491004, 0.7453543612871315, 0.7447010321689412, 0.74404769759778, 0.7433943608736594, 0.7427410252933537, 0.7420876941503985, 0.7414343707350907, 0.7407810583344905, 0.7401277602324181, 0.739474479709457, 0.7388212200429514, 0.7381679845070074, 0.7375147763724942, 0.7368615989070411, 0.7362084553750404, 0.7355553490376453, 0.7349022831527718, 0.7342492609750966, 0.7335962857560588, 0.7329433607438598, 0.7322904891834615, 0.7316376743165888, 0.730984919381728, 0.730332227614127, 0.7296796022457955, 0.7290270465055053, 0.7283745636187902, 0.7277221568079448, 0.7270698292920263, 0.7264175842868539, 0.7257654250050081, 0.7251133546558313, 0.7244613764454277, 0.7238094935766634, 0.7231577092491661, 0.7225060266593257, 0.7218544490002937, 0.7212029794619831, 0.720551621231069, 0.7199003774909885, 0.7192492514219397, 0.7185982462008839, 0.7179473650015424, 0.7172966109944001, 0.7166459873467022, 0.7159954972224565, 0.7153451437824332, 0.7146949301841624, 0.714044859581938, 0.7133949351268143, 0.7127451599666086, 0.7120955372458989, 0.7114460701060253, 0.7107967616850899, 0.7101476151179572, 0.7094986335362521, 0.7088498200683625, 0.7082011778394375, 0.7075527099713881, 0.7069044195828871, 0.7062563097893696, 0.7056083837030316, 0.7049606444328315, 0.7043130950844894, 0.703665738760487, 0.7030185785600682, 0.7023716175792384, 0.701724858910765, 0.7010783056441765, 0.7004319608657643, 0.699785827658581, 0.6991399091024412, 0.6984942082739205, 0.6978487282463576, 0.6972034720898519, 0.6965584428712652, 0.6959136436542218, 0.6952690774991059, 0.6946247474630648, 0.6939806566000073, 0.6933368079606046, 0.692693204592289, 0.6920498495392542, 0.6914067458424564, 0.6907638965396142, 0.6901213046652068, 0.6894789732504756, 0.6888369053234239, 0.6881951039088166, 0.6875535720281809, 0.6869123126998052, 0.68627132893874, 0.685630623756798, 0.684990200162553, 0.6843500611613401, 0.6837102097552585, 0.6830706489431666, 0.6824313817206858, 0.6817924110801992, 0.6811537400108519, 0.6805153714985503, 0.6798773085259634, 0.6792395540725208, 0.6786021111144146, 0.6779649826245991, 0.67732817157279, 0.6766916809254648, 0.6760555136458621, 0.6754196726939834, 0.6747841610265916, 0.6741489815972117, 0.6735141373561296, 0.6728796312503939, 0.6722454662238144, 0.6716116452169636, 0.6709781711671745, 0.670345047008543, 0.669712275671926, 0.669079860084943, 0.6684478031719744, 0.6678161078541631, 0.667184777049414, 0.6665538136723926, 0.6659232206345277, 0.6652930008440088, 0.6646631572057874, 0.6640336926215775, 0.6634046099898541, 0.6627759122058542, 0.6621476021615766, 0.6615196827457823, 0.6608921568439938, 0.6602650273384953, 0.6596382971083324, 0.6590119690293136, 0.6583860459740081, 0.657760530811748, 0.6571354264086261, 0.6565107356274976, 0.6558864613279793, 0.6552626063664502, 0.6546391735960503, 0.6540161658666824, 0.6533935860250103, 0.65277143691446, 0.6521497213752188, 0.6515284422442368, 0.6509076023552248, 0.6502872045386563, 0.6496672516217658, 0.64904774642855, 0.6484286917797681, 0.6478100904929391, 0.6471919453823463, 0.6465742592590329, 0.645957034930805, 0.6453402752022297, 0.6447239828746366, 0.6441081607461165, 0.6434928116115226, 0.6428779382624694, 0.6422635434873334, 0.641649630071253, 0.6410362007961283, 0.6404232584406211, 0.639810805780155, 0.6391988455869156, 0.6385873806298503, 0.6379764136746682, 0.63736594748384, 0.6367559848165982, 0.6361465284289379, 0.6355375810736151, 0.6349291455001476, 0.634321224454816, 0.6337138206806612, 0.6331069369174871, 0.6325005759018589, 0.6318947403671039, 0.6312894330433108, 0.6306846566573303, 0.6300804139327751, 0.6294767075900192, 0.6288735403461987, 0.6282709149152119, 0.6276688340077181, 0.627067300331139, 0.6264663165896579, 0.6258658854842197, 0.6252660097125317, 0.624666691969062, 0.6240679349450416, 0.6234697413284627, 0.6228721138040791, 0.6222750550534073, 0.6216785677547245, 0.6210826545830703, 0.6204873182102462, 0.619892561304815, 0.6192983865321018, 0.6187047965541933, 0.6181117940299381, 0.6175193816149461, 0.6169275619615897, 0.6163363377190031, 0.6157457115330814, 0.6151556860464826, 0.6145662638986258, 0.6139774477256918, 0.6133892401606242, 0.6128016438331271, 0.6122146613696674, 0.6116282953934731, 0.6110425485245345, 0.6104574233796036, 0.6098729225721937, 0.6092890487125808, 0.6087058044078018, 0.6081231922616561, 0.6075412148747046, 0.6069598748442695, 0.6063791747644363, 0.6057991172260505, 0.6052197048167203, 0.6046409401208159, 0.6040628257194689, 0.6034853641905729, 0.6029085581087831, 0.6023324100455163, 0.6017569225689519, 0.6011820982440303, 0.6006079396324544, 0.6000344492926883, 0.5994616297799579, 0.5988894836462513, 0.5983180134403183, 0.5977472217076704, 0.5971771109905808, 0.5966076838280846, 0.5960389427559789, 0.5954708903068222, 0.5949035290099347, 0.5943368613914, 0.5937708899740606, 0.5932056172775237, 0.5926410458181559, 0.5920771781090877, 0.59151401666021, 0.5909515639781759, 0.5903898225664006, 0.58982879492506, 0.5892684835510935, 0.5887088909382017, 0.5881500195768453, 0.5875918719542492, 0.5870344505543994, 0.5864777578580426, 0.5859217963426888, 0.5853665684826084, 0.5848120767488357, 0.5842583236091634, 0.5837053115281499, 0.583153042967113, 0.5826015203841315, 0.5820507462340491, 0.5815007229684683, 0.5809514530357563, 0.5804029388810384, 0.5798551829462045, 0.579308187669906, 0.5787619554875549, 0.5782164888313265, 0.5776717901301567, 0.5771278618097426, 0.5765847062925465, 0.5760423259977879, 0.5755007233414519, 0.5749599007362833, 0.5744198605917877, 0.5738806053142365, 0.5733421373066594, 0.5728044589688482, 0.5722675726973585, 0.5717314808855056, 0.5711961859233676, 0.5706616901977842, 0.570127996092357, 0.56959510598745, 0.5690630222601862, 0.5685317472844558, 0.5680012834309053, 0.5674716330669446, 0.5669427985567481, 0.5664147822612486, 0.5658875865381428, 0.5653612137418875, 0.5648356662237033, 0.564310946331571, 0.5637870564102327, 0.5632639988011949, 0.5627417758427242, 0.5622203898698481, 0.5616998432143578, 0.5611801382048061, 0.5606612771665045, 0.5601432624215308, 0.5596260962887225, 0.5591097810836783, 0.5585943191187592, 0.5580797127030894, 0.5575659641425523, 0.5570530757397933, 0.5565410497942229, 0.5560298886020119, 0.5555195944560893, 0.5550101696461516, 0.5545016164586538, 0.5539939371768106, 0.5534871340806047, 0.5529812094467756, 0.5524761655488253, 0.5519720046570193, 0.551468729038384, 0.5509663409567054, 0.5504648426725374, 0.5499642364431896, 0.5494645245227348, 0.5489657091620082, 0.5484677926086092, 0.5479707771068942, 0.5474746648979858, 0.5469794582197656, 0.5464851593068785, 0.5459917703907313, 0.5454992936994898, 0.5450077314580857, 0.5445170858882096, 0.5440273592083145, 0.5435385536336166, 0.5430506713760919, 0.5425637146444797, 0.5420776856442813, 0.5415925865777564, 0.5411084196439324, 0.5406251870385923, 0.540142890954288, 0.5396615335803243, 0.5391811171027738, 0.5387016437044734, 0.5382231155650135, 0.5377455348607532, 0.5372689037648093, 0.5367932244470637, 0.5363184990741585, 0.5358447298094959, 0.5353719188132442, 0.5349000682423299, 0.5344291802504402, 0.5339592569880303, 0.5334903006023115, 0.5330223132372556, 0.5325552970336034, 0.5320892541288513, 0.5316241866572597, 0.5311600967498502, 0.5306969865344096, 0.5302348581354757, 0.5297737136743632, 0.5293135552691401, 0.5288543850346379, 0.5283962050824447, 0.527939017520918, 0.5274828244551761, 0.5270276279870938, 0.5265734302153118, 0.5261202332352357, 0.5256680391390227, 0.525216850015604, 0.524766667950662, 0.5243174950266494, 0.5238693333227737, 0.5234221849150114, 0.5229760518760935, 0.5225309362755173, 0.5220868401795418, 0.5216437656511848, 0.5212017147502284, 0.520760689533216, 0.5203206920534535, 0.5198817243610088, 0.5194437885027083, 0.519006886522142, 0.5185710204596665, 0.5181361923523902, 0.5177024042341967, 0.5172696581357159, 0.516837956084351, 0.5164073001042628, 0.5159776922163775, 0.5155491344383756, 0.5151216287847076, 0.5146951772665749, 0.514269781891957, 0.5138454446655838, 0.5134221675889434, 0.5129999526602993, 0.5125788018746622, 0.5121587172238149, 0.5117397006962996, 0.511321754277422, 0.5109048799492379, 0.5104890796905783, 0.5100743554770348, 0.5096607092809564, 0.5092481430714524, 0.5088366588143951]}, {\"line\": {\"color\": \"red\", \"dash\": \"dot\", \"width\": 2}, \"marker\": {\"line\": {\"color\": \"red\", \"width\": 1}, \"size\": 10, \"symbol\": \"triangle-up\"}, \"mode\": \"markers\", \"name\": \"chebushev\", \"textfont\": {\"color\": \"LightSeaGreen\", \"family\": \"Times New Roman\", \"size\": 18}, \"type\": \"scatter\", \"x\": [0.0, 0.001001001001001001, 0.002002002002002002, 0.003003003003003003, 0.004004004004004004, 0.005005005005005005, 0.006006006006006006, 0.007007007007007007, 0.008008008008008008, 0.009009009009009009, 0.01001001001001001, 0.011011011011011011, 0.012012012012012012, 0.013013013013013013, 0.014014014014014014, 0.015015015015015015, 0.016016016016016016, 0.017017017017017015, 0.018018018018018018, 0.01901901901901902, 0.02002002002002002, 0.02102102102102102, 0.022022022022022022, 0.023023023023023025, 0.024024024024024024, 0.025025025025025023, 0.026026026026026026, 0.02702702702702703, 0.028028028028028028, 0.029029029029029027, 0.03003003003003003, 0.031031031031031032, 0.03203203203203203, 0.03303303303303303, 0.03403403403403403, 0.035035035035035036, 0.036036036036036036, 0.037037037037037035, 0.03803803803803804, 0.03903903903903904, 0.04004004004004004, 0.04104104104104104, 0.04204204204204204, 0.043043043043043044, 0.044044044044044044, 0.04504504504504504, 0.04604604604604605, 0.04704704704704705, 0.04804804804804805, 0.04904904904904905, 0.050050050050050046, 0.05105105105105105, 0.05205205205205205, 0.05305305305305305, 0.05405405405405406, 0.055055055055055056, 0.056056056056056056, 0.057057057057057055, 0.058058058058058054, 0.05905905905905906, 0.06006006006006006, 0.06106106106106106, 0.062062062062062065, 0.06306306306306306, 0.06406406406406406, 0.06506506506506507, 0.06606606606606606, 0.06706706706706707, 0.06806806806806806, 0.06906906906906907, 0.07007007007007007, 0.07107107107107107, 0.07207207207207207, 0.07307307307307308, 0.07407407407407407, 0.07507507507507508, 0.07607607607607608, 0.07707707707707707, 0.07807807807807808, 0.07907907907907907, 0.08008008008008008, 0.08108108108108109, 0.08208208208208208, 0.08308308308308308, 0.08408408408408408, 0.08508508508508508, 0.08608608608608609, 0.08708708708708708, 0.08808808808808809, 0.0890890890890891, 0.09009009009009009, 0.09109109109109109, 0.0920920920920921, 0.09309309309309309, 0.0940940940940941, 0.09509509509509509, 0.0960960960960961, 0.0970970970970971, 0.0980980980980981, 0.0990990990990991, 0.10010010010010009, 0.1011011011011011, 0.1021021021021021, 0.1031031031031031, 0.1041041041041041, 0.10510510510510511, 0.1061061061061061, 0.10710710710710711, 0.10810810810810811, 0.1091091091091091, 0.11011011011011011, 0.1111111111111111, 0.11211211211211211, 0.11311311311311312, 0.11411411411411411, 0.11511511511511512, 0.11611611611611611, 0.11711711711711711, 0.11811811811811812, 0.11911911911911911, 0.12012012012012012, 0.12112112112112113, 0.12212212212212212, 0.12312312312312312, 0.12412412412412413, 0.12512512512512514, 0.12612612612612611, 0.12712712712712712, 0.12812812812812813, 0.12912912912912913, 0.13013013013013014, 0.13113113113113112, 0.13213213213213212, 0.13313313313313313, 0.13413413413413414, 0.13513513513513514, 0.13613613613613612, 0.13713713713713713, 0.13813813813813813, 0.13913913913913914, 0.14014014014014015, 0.14114114114114115, 0.14214214214214213, 0.14314314314314314, 0.14414414414414414, 0.14514514514514515, 0.14614614614614616, 0.14714714714714713, 0.14814814814814814, 0.14914914914914915, 0.15015015015015015, 0.15115115115115116, 0.15215215215215216, 0.15315315315315314, 0.15415415415415415, 0.15515515515515516, 0.15615615615615616, 0.15715715715715717, 0.15815815815815815, 0.15915915915915915, 0.16016016016016016, 0.16116116116116116, 0.16216216216216217, 0.16316316316316315, 0.16416416416416416, 0.16516516516516516, 0.16616616616616617, 0.16716716716716717, 0.16816816816816815, 0.16916916916916916, 0.17017017017017017, 0.17117117117117117, 0.17217217217217218, 0.17317317317317318, 0.17417417417417416, 0.17517517517517517, 0.17617617617617617, 0.17717717717717718, 0.1781781781781782, 0.17917917917917917, 0.18018018018018017, 0.18118118118118118, 0.18218218218218218, 0.1831831831831832, 0.1841841841841842, 0.18518518518518517, 0.18618618618618618, 0.1871871871871872, 0.1881881881881882, 0.1891891891891892, 0.19019019019019018, 0.19119119119119118, 0.1921921921921922, 0.1931931931931932, 0.1941941941941942, 0.19519519519519518, 0.1961961961961962, 0.1971971971971972, 0.1981981981981982, 0.1991991991991992, 0.20020020020020018, 0.2012012012012012, 0.2022022022022022, 0.2032032032032032, 0.2042042042042042, 0.20520520520520522, 0.2062062062062062, 0.2072072072072072, 0.2082082082082082, 0.2092092092092092, 0.21021021021021022, 0.2112112112112112, 0.2122122122122122, 0.2132132132132132, 0.21421421421421422, 0.21521521521521522, 0.21621621621621623, 0.2172172172172172, 0.2182182182182182, 0.21921921921921922, 0.22022022022022023, 0.22122122122122123, 0.2222222222222222, 0.22322322322322322, 0.22422422422422422, 0.22522522522522523, 0.22622622622622623, 0.2272272272272272, 0.22822822822822822, 0.22922922922922923, 0.23023023023023023, 0.23123123123123124, 0.23223223223223222, 0.23323323323323322, 0.23423423423423423, 0.23523523523523523, 0.23623623623623624, 0.23723723723723725, 0.23823823823823823, 0.23923923923923923, 0.24024024024024024, 0.24124124124124124, 0.24224224224224225, 0.24324324324324323, 0.24424424424424424, 0.24524524524524524, 0.24624624624624625, 0.24724724724724725, 0.24824824824824826, 0.24924924924924924, 0.2502502502502503, 0.25125125125125125, 0.25225225225225223, 0.25325325325325326, 0.25425425425425424, 0.2552552552552553, 0.25625625625625625, 0.25725725725725723, 0.25825825825825827, 0.25925925925925924, 0.2602602602602603, 0.26126126126126126, 0.26226226226226224, 0.26326326326326327, 0.26426426426426425, 0.2652652652652653, 0.26626626626626626, 0.26726726726726724, 0.2682682682682683, 0.26926926926926925, 0.2702702702702703, 0.27127127127127126, 0.27227227227227224, 0.2732732732732733, 0.27427427427427425, 0.2752752752752753, 0.27627627627627627, 0.2772772772772773, 0.2782782782782783, 0.27927927927927926, 0.2802802802802803, 0.28128128128128127, 0.2822822822822823, 0.2832832832832833, 0.28428428428428426, 0.2852852852852853, 0.2862862862862863, 0.2872872872872873, 0.2882882882882883, 0.28928928928928926, 0.2902902902902903, 0.2912912912912913, 0.2922922922922923, 0.2932932932932933, 0.29429429429429427, 0.2952952952952953, 0.2962962962962963, 0.2972972972972973, 0.2982982982982983, 0.29929929929929927, 0.3003003003003003, 0.3013013013013013, 0.3023023023023023, 0.3033033033033033, 0.30430430430430433, 0.3053053053053053, 0.3063063063063063, 0.3073073073073073, 0.3083083083083083, 0.30930930930930933, 0.3103103103103103, 0.3113113113113113, 0.3123123123123123, 0.3133133133133133, 0.31431431431431434, 0.3153153153153153, 0.3163163163163163, 0.3173173173173173, 0.3183183183183183, 0.31931931931931934, 0.3203203203203203, 0.3213213213213213, 0.32232232232232233, 0.3233233233233233, 0.32432432432432434, 0.3253253253253253, 0.3263263263263263, 0.32732732732732733, 0.3283283283283283, 0.32932932932932935, 0.3303303303303303, 0.3313313313313313, 0.33233233233233234, 0.3333333333333333, 0.33433433433433435, 0.3353353353353353, 0.3363363363363363, 0.33733733733733734, 0.3383383383383383, 0.33933933933933935, 0.34034034034034033, 0.34134134134134136, 0.34234234234234234, 0.3433433433433433, 0.34434434434434436, 0.34534534534534533, 0.34634634634634637, 0.34734734734734735, 0.3483483483483483, 0.34934934934934936, 0.35035035035035034, 0.35135135135135137, 0.35235235235235235, 0.3533533533533533, 0.35435435435435436, 0.35535535535535534, 0.3563563563563564, 0.35735735735735735, 0.35835835835835833, 0.35935935935935936, 0.36036036036036034, 0.3613613613613614, 0.36236236236236236, 0.36336336336336333, 0.36436436436436437, 0.36536536536536535, 0.3663663663663664, 0.36736736736736736, 0.3683683683683684, 0.36936936936936937, 0.37037037037037035, 0.3713713713713714, 0.37237237237237236, 0.3733733733733734, 0.3743743743743744, 0.37537537537537535, 0.3763763763763764, 0.37737737737737737, 0.3783783783783784, 0.3793793793793794, 0.38038038038038036, 0.3813813813813814, 0.38238238238238237, 0.3833833833833834, 0.3843843843843844, 0.38538538538538536, 0.3863863863863864, 0.38738738738738737, 0.3883883883883884, 0.3893893893893894, 0.39039039039039036, 0.3913913913913914, 0.3923923923923924, 0.3933933933933934, 0.3943943943943944, 0.39539539539539537, 0.3963963963963964, 0.3973973973973974, 0.3983983983983984, 0.3993993993993994, 0.40040040040040037, 0.4014014014014014, 0.4024024024024024, 0.4034034034034034, 0.4044044044044044, 0.40540540540540543, 0.4064064064064064, 0.4074074074074074, 0.4084084084084084, 0.4094094094094094, 0.41041041041041043, 0.4114114114114114, 0.4124124124124124, 0.4134134134134134, 0.4144144144144144, 0.41541541541541543, 0.4164164164164164, 0.4174174174174174, 0.4184184184184184, 0.4194194194194194, 0.42042042042042044, 0.4214214214214214, 0.4224224224224224, 0.42342342342342343, 0.4244244244244244, 0.42542542542542544, 0.4264264264264264, 0.4274274274274274, 0.42842842842842843, 0.4294294294294294, 0.43043043043043044, 0.4314314314314314, 0.43243243243243246, 0.43343343343343343, 0.4344344344344344, 0.43543543543543545, 0.4364364364364364, 0.43743743743743746, 0.43843843843843844, 0.4394394394394394, 0.44044044044044045, 0.44144144144144143, 0.44244244244244246, 0.44344344344344344, 0.4444444444444444, 0.44544544544544545, 0.44644644644644643, 0.44744744744744747, 0.44844844844844844, 0.4494494494494494, 0.45045045045045046, 0.45145145145145144, 0.45245245245245247, 0.45345345345345345, 0.4544544544544544, 0.45545545545545546, 0.45645645645645644, 0.4574574574574575, 0.45845845845845845, 0.45945945945945943, 0.46046046046046046, 0.46146146146146144, 0.4624624624624625, 0.46346346346346345, 0.46446446446446443, 0.46546546546546547, 0.46646646646646645, 0.4674674674674675, 0.46846846846846846, 0.4694694694694695, 0.47047047047047047, 0.47147147147147145, 0.4724724724724725, 0.47347347347347346, 0.4744744744744745, 0.4754754754754755, 0.47647647647647645, 0.4774774774774775, 0.47847847847847846, 0.4794794794794795, 0.4804804804804805, 0.48148148148148145, 0.4824824824824825, 0.48348348348348347, 0.4844844844844845, 0.4854854854854855, 0.48648648648648646, 0.4874874874874875, 0.48848848848848847, 0.4894894894894895, 0.4904904904904905, 0.49149149149149146, 0.4924924924924925, 0.4934934934934935, 0.4944944944944945, 0.4954954954954955, 0.4964964964964965, 0.4974974974974975, 0.4984984984984985, 0.4994994994994995, 0.5005005005005005, 0.5015015015015015, 0.5025025025025025, 0.5035035035035035, 0.5045045045045045, 0.5055055055055055, 0.5065065065065065, 0.5075075075075075, 0.5085085085085085, 0.5095095095095095, 0.5105105105105106, 0.5115115115115115, 0.5125125125125125, 0.5135135135135135, 0.5145145145145145, 0.5155155155155156, 0.5165165165165165, 0.5175175175175175, 0.5185185185185185, 0.5195195195195195, 0.5205205205205206, 0.5215215215215215, 0.5225225225225225, 0.5235235235235235, 0.5245245245245245, 0.5255255255255256, 0.5265265265265265, 0.5275275275275275, 0.5285285285285285, 0.5295295295295295, 0.5305305305305306, 0.5315315315315315, 0.5325325325325325, 0.5335335335335335, 0.5345345345345345, 0.5355355355355356, 0.5365365365365365, 0.5375375375375375, 0.5385385385385385, 0.5395395395395395, 0.5405405405405406, 0.5415415415415415, 0.5425425425425425, 0.5435435435435435, 0.5445445445445445, 0.5455455455455456, 0.5465465465465466, 0.5475475475475475, 0.5485485485485485, 0.5495495495495496, 0.5505505505505506, 0.5515515515515516, 0.5525525525525525, 0.5535535535535535, 0.5545545545545546, 0.5555555555555556, 0.5565565565565566, 0.5575575575575575, 0.5585585585585585, 0.5595595595595596, 0.5605605605605606, 0.5615615615615616, 0.5625625625625625, 0.5635635635635635, 0.5645645645645646, 0.5655655655655656, 0.5665665665665666, 0.5675675675675675, 0.5685685685685685, 0.5695695695695696, 0.5705705705705706, 0.5715715715715716, 0.5725725725725725, 0.5735735735735735, 0.5745745745745746, 0.5755755755755756, 0.5765765765765766, 0.5775775775775776, 0.5785785785785785, 0.5795795795795796, 0.5805805805805806, 0.5815815815815816, 0.5825825825825826, 0.5835835835835835, 0.5845845845845846, 0.5855855855855856, 0.5865865865865866, 0.5875875875875876, 0.5885885885885885, 0.5895895895895896, 0.5905905905905906, 0.5915915915915916, 0.5925925925925926, 0.5935935935935935, 0.5945945945945946, 0.5955955955955956, 0.5965965965965966, 0.5975975975975976, 0.5985985985985985, 0.5995995995995996, 0.6006006006006006, 0.6016016016016016, 0.6026026026026026, 0.6036036036036035, 0.6046046046046046, 0.6056056056056056, 0.6066066066066066, 0.6076076076076076, 0.6086086086086087, 0.6096096096096096, 0.6106106106106106, 0.6116116116116116, 0.6126126126126126, 0.6136136136136137, 0.6146146146146146, 0.6156156156156156, 0.6166166166166166, 0.6176176176176176, 0.6186186186186187, 0.6196196196196196, 0.6206206206206206, 0.6216216216216216, 0.6226226226226226, 0.6236236236236237, 0.6246246246246246, 0.6256256256256256, 0.6266266266266266, 0.6276276276276276, 0.6286286286286287, 0.6296296296296297, 0.6306306306306306, 0.6316316316316316, 0.6326326326326326, 0.6336336336336337, 0.6346346346346347, 0.6356356356356356, 0.6366366366366366, 0.6376376376376376, 0.6386386386386387, 0.6396396396396397, 0.6406406406406406, 0.6416416416416416, 0.6426426426426426, 0.6436436436436437, 0.6446446446446447, 0.6456456456456456, 0.6466466466466466, 0.6476476476476476, 0.6486486486486487, 0.6496496496496497, 0.6506506506506506, 0.6516516516516516, 0.6526526526526526, 0.6536536536536537, 0.6546546546546547, 0.6556556556556556, 0.6566566566566566, 0.6576576576576576, 0.6586586586586587, 0.6596596596596597, 0.6606606606606606, 0.6616616616616616, 0.6626626626626626, 0.6636636636636637, 0.6646646646646647, 0.6656656656656657, 0.6666666666666666, 0.6676676676676676, 0.6686686686686687, 0.6696696696696697, 0.6706706706706707, 0.6716716716716716, 0.6726726726726726, 0.6736736736736737, 0.6746746746746747, 0.6756756756756757, 0.6766766766766766, 0.6776776776776777, 0.6786786786786787, 0.6796796796796797, 0.6806806806806807, 0.6816816816816816, 0.6826826826826827, 0.6836836836836837, 0.6846846846846847, 0.6856856856856857, 0.6866866866866866, 0.6876876876876877, 0.6886886886886887, 0.6896896896896897, 0.6906906906906907, 0.6916916916916916, 0.6926926926926927, 0.6936936936936937, 0.6946946946946947, 0.6956956956956957, 0.6966966966966966, 0.6976976976976977, 0.6986986986986987, 0.6996996996996997, 0.7007007007007007, 0.7017017017017017, 0.7027027027027027, 0.7037037037037037, 0.7047047047047047, 0.7057057057057057, 0.7067067067067067, 0.7077077077077077, 0.7087087087087087, 0.7097097097097097, 0.7107107107107107, 0.7117117117117117, 0.7127127127127127, 0.7137137137137137, 0.7147147147147147, 0.7157157157157157, 0.7167167167167167, 0.7177177177177178, 0.7187187187187187, 0.7197197197197197, 0.7207207207207207, 0.7217217217217217, 0.7227227227227228, 0.7237237237237237, 0.7247247247247247, 0.7257257257257257, 0.7267267267267267, 0.7277277277277278, 0.7287287287287287, 0.7297297297297297, 0.7307307307307307, 0.7317317317317317, 0.7327327327327328, 0.7337337337337337, 0.7347347347347347, 0.7357357357357357, 0.7367367367367368, 0.7377377377377378, 0.7387387387387387, 0.7397397397397397, 0.7407407407407407, 0.7417417417417418, 0.7427427427427428, 0.7437437437437437, 0.7447447447447447, 0.7457457457457457, 0.7467467467467468, 0.7477477477477478, 0.7487487487487487, 0.7497497497497497, 0.7507507507507507, 0.7517517517517518, 0.7527527527527528, 0.7537537537537538, 0.7547547547547547, 0.7557557557557557, 0.7567567567567568, 0.7577577577577578, 0.7587587587587588, 0.7597597597597597, 0.7607607607607607, 0.7617617617617618, 0.7627627627627628, 0.7637637637637638, 0.7647647647647647, 0.7657657657657657, 0.7667667667667668, 0.7677677677677678, 0.7687687687687688, 0.7697697697697697, 0.7707707707707707, 0.7717717717717718, 0.7727727727727728, 0.7737737737737738, 0.7747747747747747, 0.7757757757757757, 0.7767767767767768, 0.7777777777777778, 0.7787787787787788, 0.7797797797797797, 0.7807807807807807, 0.7817817817817818, 0.7827827827827828, 0.7837837837837838, 0.7847847847847848, 0.7857857857857857, 0.7867867867867868, 0.7877877877877878, 0.7887887887887888, 0.7897897897897898, 0.7907907907907907, 0.7917917917917918, 0.7927927927927928, 0.7937937937937938, 0.7947947947947948, 0.7957957957957957, 0.7967967967967968, 0.7977977977977978, 0.7987987987987988, 0.7997997997997998, 0.8008008008008007, 0.8018018018018018, 0.8028028028028028, 0.8038038038038038, 0.8048048048048048, 0.8058058058058059, 0.8068068068068068, 0.8078078078078078, 0.8088088088088088, 0.8098098098098098, 0.8108108108108109, 0.8118118118118118, 0.8128128128128128, 0.8138138138138138, 0.8148148148148148, 0.8158158158158159, 0.8168168168168168, 0.8178178178178178, 0.8188188188188188, 0.8198198198198198, 0.8208208208208209, 0.8218218218218218, 0.8228228228228228, 0.8238238238238238, 0.8248248248248248, 0.8258258258258259, 0.8268268268268268, 0.8278278278278278, 0.8288288288288288, 0.8298298298298298, 0.8308308308308309, 0.8318318318318318, 0.8328328328328328, 0.8338338338338338, 0.8348348348348348, 0.8358358358358359, 0.8368368368368369, 0.8378378378378378, 0.8388388388388388, 0.8398398398398398, 0.8408408408408409, 0.8418418418418419, 0.8428428428428428, 0.8438438438438438, 0.8448448448448448, 0.8458458458458459, 0.8468468468468469, 0.8478478478478478, 0.8488488488488488, 0.8498498498498498, 0.8508508508508509, 0.8518518518518519, 0.8528528528528528, 0.8538538538538538, 0.8548548548548548, 0.8558558558558559, 0.8568568568568569, 0.8578578578578578, 0.8588588588588588, 0.8598598598598598, 0.8608608608608609, 0.8618618618618619, 0.8628628628628628, 0.8638638638638638, 0.8648648648648649, 0.8658658658658659, 0.8668668668668669, 0.8678678678678678, 0.8688688688688688, 0.8698698698698699, 0.8708708708708709, 0.8718718718718719, 0.8728728728728729, 0.8738738738738738, 0.8748748748748749, 0.8758758758758759, 0.8768768768768769, 0.8778778778778779, 0.8788788788788788, 0.8798798798798799, 0.8808808808808809, 0.8818818818818819, 0.8828828828828829, 0.8838838838838838, 0.8848848848848849, 0.8858858858858859, 0.8868868868868869, 0.8878878878878879, 0.8888888888888888, 0.8898898898898899, 0.8908908908908909, 0.8918918918918919, 0.8928928928928929, 0.8938938938938938, 0.8948948948948949, 0.8958958958958959, 0.8968968968968969, 0.8978978978978979, 0.8988988988988988, 0.8998998998998999, 0.9009009009009009, 0.9019019019019019, 0.9029029029029029, 0.9039039039039038, 0.9049049049049049, 0.9059059059059059, 0.9069069069069069, 0.9079079079079079, 0.9089089089089089, 0.9099099099099099, 0.9109109109109109, 0.9119119119119119, 0.9129129129129129, 0.9139139139139139, 0.914914914914915, 0.9159159159159159, 0.9169169169169169, 0.9179179179179179, 0.9189189189189189, 0.91991991991992, 0.9209209209209209, 0.9219219219219219, 0.9229229229229229, 0.9239239239239239, 0.924924924924925, 0.9259259259259259, 0.9269269269269269, 0.9279279279279279, 0.9289289289289289, 0.92992992992993, 0.9309309309309309, 0.9319319319319319, 0.9329329329329329, 0.933933933933934, 0.934934934934935, 0.9359359359359359, 0.9369369369369369, 0.9379379379379379, 0.938938938938939, 0.93993993993994, 0.9409409409409409, 0.9419419419419419, 0.9429429429429429, 0.943943943943944, 0.944944944944945, 0.9459459459459459, 0.9469469469469469, 0.9479479479479479, 0.948948948948949, 0.94994994994995, 0.950950950950951, 0.9519519519519519, 0.9529529529529529, 0.953953953953954, 0.954954954954955, 0.955955955955956, 0.9569569569569569, 0.9579579579579579, 0.958958958958959, 0.95995995995996, 0.960960960960961, 0.9619619619619619, 0.9629629629629629, 0.963963963963964, 0.964964964964965, 0.965965965965966, 0.9669669669669669, 0.9679679679679679, 0.968968968968969, 0.96996996996997, 0.970970970970971, 0.9719719719719719, 0.9729729729729729, 0.973973973973974, 0.974974974974975, 0.975975975975976, 0.9769769769769769, 0.9779779779779779, 0.978978978978979, 0.97997997997998, 0.980980980980981, 0.9819819819819819, 0.9829829829829829, 0.983983983983984, 0.984984984984985, 0.985985985985986, 0.986986986986987, 0.9879879879879879, 0.988988988988989, 0.98998998998999, 0.990990990990991, 0.991991991991992, 0.992992992992993, 0.993993993993994, 0.994994994994995, 0.995995995995996, 0.996996996996997, 0.997997997997998, 0.998998998998999, 1.0], \"y\": [1.0, 1.000010063368508, 1.00001776323067, 1.0000231042468226, 1.0000260910748984, 1.000026728370421, 1.0000250207865091, 1.0000209729738745, 1.0000145895808212, 1.0000058752532492, 0.9999948346346504, 0.9999814723661105, 0.999965793086308, 0.9999478014315155, 0.9999275020355999, 0.9999048995300205, 0.9998799985438305, 0.9998528037036761, 0.9998233196337978, 0.9997915509560293, 0.9997575022897978, 0.9997211782521234, 0.9996825834576203, 0.9996417225184964, 0.9995986000445527, 0.9995532206431845, 0.9995055889193787, 0.9994557094757176, 0.9994035869123757, 0.9993492258271224, 0.9992926308153195, 0.9992338064699224, 0.9991727573814801, 0.999109488138135, 0.9990440033256242, 0.9989763075272765, 0.9989064053240146, 0.9988343012943561, 0.9987600000144097, 0.9986835060578804, 0.9986048239960645, 0.9985239583978528, 0.9984409138297289, 0.9983556948557702, 0.9982683060376492, 0.9981787519346288, 0.9980870371035679, 0.9979931660989174, 0.997897143472723, 0.9977989737746233, 0.9976986615518497, 0.9975962113492279, 0.9974916277091769, 0.9973849151717096, 0.9972760782744321, 0.9971651215525431, 0.9970520495388357, 0.9969368667636975, 0.9968195777551072, 0.9967001870386393, 0.9965786991374603, 0.9964551185723305, 0.9963294498616045, 0.9962016975212293, 0.9960718660647458, 0.9959399600032891, 0.9958059838455863, 0.9956699420979594, 0.9955318392643232, 0.9953916798461867, 0.9952494683426516, 0.9951052092504125, 0.9949589070637592, 0.9948105662745741, 0.9946601913723332, 0.9945077868441056, 0.9943533571745541, 0.9941969068459363, 0.9940384403381006, 0.9938779621284918, 0.993715476692146, 0.9935509885016931, 0.9933845020273583, 0.9932160217369584, 0.9930455520959045, 0.9928730975672009, 0.9926986626114451, 0.9925222516868291, 0.9923438692491378, 0.9921635197517495, 0.9919812076456358, 0.9917969373793625, 0.9916107133990879, 0.9914225401485652, 0.9912324220691396, 0.9910403635997515, 0.9908463691769318, 0.9906504432348092, 0.9904525902051021, 0.9902528145171249, 0.9900511205977829, 0.9898475128715779, 0.9896419957606031, 0.9894345736845461, 0.989225251060688, 0.9890140323039025, 0.9888009218266577, 0.9885859240390151, 0.9883690433486298, 0.9881502841607498, 0.9879296508782167, 0.987707147901466, 0.9874827796285273, 0.9872565504550217, 0.9870284647741662, 0.9867985269767687, 0.9865667414512331, 0.9863331125835554, 0.9860976447573258, 0.9858603423537274, 0.9856212097515367, 0.9853802513271236, 0.985137471454453, 0.9848928745050816, 0.9846464648481601, 0.9843982468504333, 0.9841482248762383, 0.983896403287507, 0.9836427864437639, 0.9833873787021276, 0.9831301844173091, 0.9828712079416141, 0.9826104536249416, 0.9823479258147839, 0.9820836288562262, 0.9818175670919483, 0.9815497448622224, 0.9812801665049158, 0.9810088363554872, 0.9807357587469901, 0.9804609380100716, 0.9801843784729715, 0.9799060844615239, 0.9796260602991558, 0.9793443103068881, 0.9790608388033348, 0.9787756501047036, 0.9784887485247963, 0.9782001383750067, 0.9779098239643241, 0.9776178095993294, 0.9773240995841979, 0.9770286982206985, 0.9767316098081933, 0.9764328386436384, 0.9761323890215825, 0.9758302652341682, 0.9755264715711321, 0.975221012319804, 0.9749138917651063, 0.9746051141895565, 0.9742946838732642, 0.9739826050939335, 0.9736688821268616, 0.9733535192449392, 0.9730365207186495, 0.9727178908160716, 0.972397633802876, 0.9720757539423269, 0.9717522554952831, 0.971427142720196, 0.9711004198731109, 0.970772091207666, 0.9704421609750944, 0.9701106334242205, 0.9697775128014648, 0.9694428033508381, 0.9691065093139484, 0.9687686349299949, 0.9684291844357696, 0.9680881620656601, 0.9677455720516461, 0.9674014186233021, 0.9670557060077941, 0.9667084384298827, 0.9663596201119231, 0.9660092552738618, 0.9656573481332406, 0.965303902905194, 0.9649489238024497, 0.9645924150353291, 0.9642343808117482, 0.9638748253372149, 0.963513752814832, 0.9631511674452939, 0.9627870734268905, 0.9624214749555041, 0.962054376224611, 0.9616857814252805, 0.9613156947461756, 0.9609441203735536, 0.9605710624912634, 0.9601965252807495, 0.9598205129210483, 0.9594430295887909, 0.9590640794582008, 0.9586836667010961, 0.9583017954868873, 0.9579184699825796, 0.9575336943527699, 0.957147472759651, 0.9567598093630073, 0.9563707083202172, 0.9559801737862532, 0.9555882099136798, 0.9551948208526573, 0.9548000107509375, 0.9544037837538665, 0.9540061440043838, 0.9536070956430226, 0.9532066428079091, 0.9528047896347634, 0.9524015402568992, 0.9519968988052236, 0.951590869408236, 0.9511834561920314, 0.9507746632802972, 0.9503644947943142, 0.949952954852957, 0.9495400475726928, 0.9491257770675844, 0.948710147449286, 0.9482931628270458, 0.9478748273077068, 0.9474551449957029, 0.9470341199930643, 0.946611756399413, 0.9461880583119648, 0.9457630298255294, 0.9453366750325096, 0.9449089980229017, 0.9444800028842962, 0.9440496937018762, 0.9436180745584181, 0.9431851495342931, 0.9427509227074645, 0.9423153981534904, 0.9418785799455213, 0.9414404721543014, 0.9410010788481687, 0.9405604040930552, 0.9401184519524854, 0.9396752264875771, 0.9392307317570432, 0.9387849718171881, 0.9383379507219114, 0.9378896725227056, 0.937440141268656, 0.9369893610064424, 0.936537335780337, 0.9360840696322072, 0.9356295666015124, 0.935173830725306, 0.9347168660382345, 0.9342586765725382, 0.9337992663580521, 0.9333386394222024, 0.9328767997900101, 0.9324137514840898, 0.9319494985246494, 0.9314840449294902, 0.9310173947140067, 0.9305495518911876, 0.9300805204716146, 0.9296103044634629, 0.929138907872502, 0.9286663347020931, 0.9281925889531929, 0.9277176746243507, 0.9272415957117087, 0.9267643562090037, 0.9262859601075653, 0.9258064113963167, 0.925325714061775, 0.9248438720880503, 0.9243608894568466, 0.9238767701474607, 0.923391518136784, 0.9229051373993005, 0.9224176319070878, 0.9219290056298175, 0.9214392625347542, 0.9209484065867561, 0.9204564417482753, 0.9199633719793568, 0.9194692012376395, 0.9189739334783555, 0.9184775726543302, 0.9179801227159837, 0.9174815876113283, 0.9169819712859701, 0.916481277683109, 0.9159795107435381, 0.915476674405645, 0.9149727726054083, 0.9144678092764033, 0.9139617883497961, 0.9134547137543481, 0.9129465894164137, 0.9124374192599397, 0.9119272072064681, 0.9114159571751334, 0.9109036730826636, 0.9103903588433808, 0.9098760183691998, 0.9093606555696295, 0.9088442743517721, 0.9083268786203234, 0.9078084722775724, 0.9072890592234016, 0.9067686433552878, 0.9062472285683, 0.9057248187551019, 0.9052014178059501, 0.9046770296086943, 0.9041516580487784, 0.9036253070092402, 0.9030979803707095, 0.902569682011411, 0.902040415807162, 0.9015101856313738, 0.9009789953550508, 0.9004468488467919, 0.8999137499727881, 0.8993797025968244, 0.8988447105802798, 0.8983087777821266, 0.89777190805893, 0.8972341052648494, 0.896695373251637, 0.8961557158686395, 0.8956151369627968, 0.8950736403786406, 0.8945312299582989, 0.8939879095414912, 0.8934436829655312, 0.892898554065326, 0.8923525266733764, 0.8918056046197761, 0.891257791732213, 0.890709091835968, 0.8901595087539159, 0.8896090463065248, 0.8890577083118563, 0.8885054985855647, 0.8879524209408994, 0.8873984791887028, 0.8868436771374094, 0.8862880185930493, 0.885731507359244, 0.8851741472372108, 0.884615942025758, 0.8840568955212892, 0.8834970115178014, 0.882936293806884, 0.8823747461777207, 0.8818123724170891, 0.8812491763093587, 0.8806851616364946, 0.8801203321780533, 0.8795546917111868, 0.878988244010639, 0.878420992848748, 0.8778529419954457, 0.8772840952182566, 0.8767144562822995, 0.8761440289502865, 0.8755728169825229, 0.8750008241369078, 0.8744280541689334, 0.8738545108316864, 0.8732801978758457, 0.8727051190496843, 0.8721292780990687, 0.8715526787674595, 0.8709753247959096, 0.8703972199230657, 0.869818367885169, 0.869238772416053, 0.8686584372471449, 0.868077366107467, 0.8674955627236323, 0.8669130308198492, 0.8663297741179194, 0.8657457963372377, 0.8651611011947926, 0.8645756924051657, 0.863989573680533, 0.8634027487306632, 0.8628152212629189, 0.8622269949822556, 0.8616380735912228, 0.8610484607899636, 0.8604581602762147, 0.8598671757453056, 0.8592755108901601, 0.8586831694012949, 0.8580901549668204, 0.8574964712724403, 0.8569021220014523, 0.8563071108347471, 0.8557114414508094, 0.8551151175257169, 0.8545181427331414, 0.8539205207443469, 0.8533222552281925, 0.85272334985113, 0.852123808277204, 0.851523634168055, 0.8509228311829138, 0.8503214029786074, 0.849719353209554, 0.8491166855277676, 0.8485134035828539, 0.8479095110220132, 0.8473050114900386, 0.8466999086293163, 0.8460942060798281, 0.845487907479147, 0.8448810164624398, 0.8442735366624684, 0.8436654717095865, 0.8430568252317425, 0.842447600854477, 0.8418378022009252, 0.8412274328918156, 0.8406164965454695, 0.8400049967778029, 0.8393929372023241, 0.8387803214301357, 0.8381671530699331, 0.8375534357280062, 0.8369391730082375, 0.8363243685121033, 0.835709025838673, 0.8350931485846107, 0.8344767403441726, 0.8338598047092094, 0.8332423452691644, 0.8326243656110751, 0.8320058693195727, 0.8313868599768807, 0.8307673411628177, 0.830147316454794, 0.8295267894278153, 0.8289057636544792, 0.828284242704978, 0.8276622301470966, 0.8270397295462139, 0.8264167444653019, 0.8257932784649269, 0.825169335103247, 0.8245449179360163, 0.8239200305165806, 0.8232946763958794, 0.8226688591224457, 0.8220425822424069, 0.8214158492994829, 0.820788663834987, 0.8201610293878272, 0.819532949494504, 0.818904427689111, 0.8182754675033367, 0.8176460724664617, 0.8170162461053614, 0.8163859919445033, 0.8157553135059494, 0.8151242143093551, 0.8144926978719684, 0.813860767708632, 0.8132284273317821, 0.8125956802514468, 0.8119625299752498, 0.8113289800084064, 0.8106950338537268, 0.8100606950116137, 0.8094259669800646, 0.8087908532546687, 0.8081553573286103, 0.8075194826926665, 0.8068832328352076, 0.8062466112421983, 0.8056096213971957, 0.8049722667813513, 0.8043345508734095, 0.8036964771497083, 0.80305804908418, 0.8024192701483491, 0.8017801438113348, 0.8011406735398484, 0.8005008627981962, 0.7998607150482774, 0.7992202337495836, 0.7985794223592025, 0.7979382843318124, 0.7972968231196871, 0.7966550421726925, 0.7960129449382897, 0.7953705348615316, 0.7947278153850654, 0.7940847899491316, 0.7934414619915648, 0.7927978349477922, 0.7921539122508346, 0.7915096973313068, 0.7908651936174177, 0.7902204045349676, 0.7895753335073524, 0.7889299839555601, 0.7882843592981733, 0.7876384629513672, 0.786992298328911, 0.7863458688421674, 0.7856991779000916, 0.7850522289092347, 0.7844050252737383, 0.7837575703953396, 0.783109867673369, 0.782461920504749, 0.7818137322839974, 0.7811653064032246, 0.7805166462521347, 0.7798677552180252, 0.7792186366857866, 0.7785692940379043, 0.7779197306544553, 0.7772699499131122, 0.7766199551891393, 0.7759697498553951, 0.7753193372823318, 0.7746687208379949, 0.7740179038880237, 0.7733668897956499, 0.7727156819217007, 0.772064283624594, 0.7714126982603439, 0.7707609291825565, 0.7701089797424322, 0.769456853288764, 0.7688045531679388, 0.7681520827239376, 0.767499445298334, 0.7668466442302957, 0.7661936828565831, 0.7655405645115513, 0.7648872925271479, 0.7642338702329144, 0.7635803009559858, 0.7629265880210907, 0.7622727347505506, 0.7616187444642812, 0.7609646204797916, 0.7603103661121839, 0.7596559846741543, 0.7590014794759922, 0.7583468538255803, 0.757692111028395, 0.7570372543875066, 0.7563822872035784, 0.755727212774867, 0.7550720343972229, 0.7544167553640903, 0.7537613789665064, 0.753105908493102, 0.7524503472301016, 0.7517946984613229, 0.7511389654681775, 0.7504831515296704, 0.7498272599223997, 0.7491712939205576, 0.7485152567959291, 0.7478591518178934, 0.7472029822534227, 0.7465467513670826, 0.745890462421033, 0.7452341186750263, 0.7445777233864093, 0.7439212798101213, 0.7432647911986964, 0.7426082608022605, 0.7419516918685347, 0.7412950876428327, 0.7406384513680616, 0.7399817862847223, 0.7393250956309093, 0.7386683826423104, 0.7380116505522064, 0.737354902591473, 0.7366981419885777, 0.7360413719695831, 0.735384595758144, 0.7347278165755092, 0.734071037640521, 0.7334142621696157, 0.7327574933768216, 0.7321007344737626, 0.7314439886696543, 0.7307872591713072, 0.7301305491831235, 0.7294738619071007, 0.7288172005428291, 0.7281605682874921, 0.7275039683358674, 0.7268474038803254, 0.7261908781108309, 0.7255343942149409, 0.7248779553778075, 0.7242215647821747, 0.7235652256083811, 0.7229089410343583, 0.7222527142356321, 0.7215965483853206, 0.7209404466541363, 0.7202844122103848, 0.7196284482199655, 0.7189725578463712, 0.718316744250688, 0.7176610105915955, 0.7170053600253674, 0.7163497957058698, 0.7156943207845632, 0.7150389384105015, 0.7143836517303316, 0.7137284638882944, 0.713073378026224, 0.7124183972835483, 0.7117635247972882, 0.7111087637020588, 0.7104541171300676, 0.7097995882111172, 0.709145180072602, 0.7084908958395112, 0.7078367386344268, 0.7071827115775242, 0.7065288177865731, 0.7058750603769358, 0.7052214424615687, 0.7045679671510214, 0.7039146375534369, 0.703261456774552, 0.7026084279176968, 0.7019555540837947, 0.7013028383713635, 0.7006502838765134, 0.6999978936929485, 0.6993456709119668, 0.698693618622459, 0.69804173991091, 0.697390037861398, 0.6967385155555942, 0.6960871760727638, 0.6954360224897663, 0.694785057881053, 0.6941342853186695, 0.6934837078722551, 0.6928333286090425, 0.6921831505938575, 0.6915331768891201, 0.6908834105548429, 0.6902338546486331, 0.6895845122256905, 0.6889353863388087, 0.6882864800383744, 0.6876377963723687, 0.6869893383863659, 0.6863411091235332, 0.6856931116246314, 0.6850453489280155, 0.6843978240696332, 0.6837505400830264, 0.6831034999993303, 0.682456706847273, 0.6818101636531767, 0.6811638734409573, 0.6805178392321236, 0.6798720640457776, 0.6792265508986165, 0.6785813028049289, 0.6779363227765984, 0.6772916138231009, 0.6766471789515075, 0.6760030211664804, 0.6753591434702771, 0.6747155488627486, 0.6740722403413387, 0.6734292209010847, 0.6727864935346182, 0.6721440612321627, 0.671501926981537, 0.6708600937681523, 0.6702185645750137, 0.6695773423827197, 0.668936430169462, 0.6682958309110266, 0.6676555475807923, 0.6670155831497312, 0.6663759405864099, 0.665736622856987, 0.6650976329252164, 0.6644589737524446, 0.663820648297611, 0.663182659517249, 0.6625450103654862, 0.6619077037940425, 0.6612707427522322, 0.6606341301869624, 0.6599978690427344, 0.6593619622616423, 0.6587264127833742, 0.6580912235452119, 0.6574563974820298, 0.6568219375262967, 0.6561878466080739, 0.6555541276550179, 0.6549207835923767, 0.6542878173429931, 0.653655231827303, 0.6530230299633359, 0.6523912146667146, 0.6517597888506554, 0.6511287554259685, 0.650498117301057, 0.6498678773819181, 0.6492380385721421, 0.6486086037729124, 0.6479795758830073, 0.6473509577987964, 0.6467227524142456, 0.6460949626209118, 0.6454675913079467, 0.6448406413620952, 0.6442141156676956, 0.6435880171066799, 0.6429623485585731, 0.6423371129004946, 0.641712313007156, 0.6410879517508642, 0.6404640320015172, 0.6398405566266092, 0.6392175284912258, 0.6385949504580472, 0.6379728253873461, 0.63735115613699, 0.6367299455624393, 0.6361091965167471, 0.6354889118505618, 0.6348690944121232, 0.6342497470472663, 0.6336308725994183, 0.6330124739096015, 0.6323945538164293, 0.6317771151561109, 0.6311601607624485, 0.6305436934668366, 0.6299277160982646, 0.6293122314833142, 0.6286972424461617, 0.628082751808576, 0.6274687623899201, 0.6268552770071504, 0.6262422984748166, 0.6256298296050617, 0.6250178732076229, 0.62440643208983, 0.6237955090566074, 0.623185106910472, 0.6225752284515345, 0.621965876477499, 0.6213570537836637, 0.6207487631629195, 0.620141007405752, 0.6195337893002381, 0.6189271116320503, 0.618320977184454, 0.6177153887383071, 0.6171103490720629, 0.6165058609617666, 0.6159019271810575, 0.6152985505011682, 0.6146957336909251, 0.6140934795167476, 0.6134917907426493, 0.612890670130237, 0.6122901204387107, 0.6116901444248636, 0.6110907448430838, 0.6104919244453515, 0.6098936859812409, 0.6092960321979202, 0.6086989658401498, 0.608102489650285, 0.6075066063682735, 0.6069113187316575, 0.6063166294755719, 0.6057225413327454, 0.6051290570335, 0.6045361793057519, 0.6039439108750094, 0.6033522544643761, 0.6027612127945476, 0.6021707885838137, 0.6015809845480575, 0.600991803400756, 0.6004032478529786, 0.5998153206133898, 0.599228024388246, 0.5986413618813984, 0.5980553357942906, 0.5974699488259609, 0.5968852036730401, 0.5963011030297525, 0.5957176495879167, 0.5951348460369443, 0.59455269506384, 0.5939711993532029, 0.5933903615872247, 0.5928101844456912, 0.5922306706059818, 0.5916518227430686, 0.5910736435295179, 0.5904961356354892, 0.5899193017287357, 0.5893431444746043, 0.5887676665360344, 0.5881928705735602, 0.5876187592453084, 0.5870453352069996, 0.5864726011119481, 0.5859005596110617, 0.5853292133528406, 0.5847585649833802, 0.584188617146368, 0.583619372483086, 0.583050833632409, 0.5824830032308053, 0.5819158839123377, 0.5813494783086611, 0.5807837890490251, 0.5802188187602714, 0.5796545700668367, 0.5790910455907505, 0.5785282479516353, 0.5779661797667086, 0.5774048436507795, 0.5768442422162519, 0.5762843780731226, 0.5757252538289825, 0.5751668720890155, 0.5746092354559986, 0.5740523465303037, 0.5734962079098946, 0.5729408221903296, 0.5723861919647601, 0.5718323198239309, 0.5712792083561808, 0.5707268601474418, 0.5701752777812392, 0.5696244638386921, 0.5690744208985129, 0.5685251515370076, 0.5679766583280753, 0.5674289438432099, 0.566882010651497, 0.5663358613196171, 0.5657904984118429, 0.5652459244900425, 0.5647021421136754, 0.5641591538397959, 0.5636169622230516, 0.563075569815683, 0.5625349791675252, 0.5619951928260052, 0.5614562133361454, 0.5609180432405603, 0.5603806850794579, 0.5598441413906411, 0.5593084147095045, 0.5587735075690373, 0.558239422499822, 0.5577061620300343, 0.557173728685444, 0.5566421249894135, 0.5561113534628995, 0.5555814166244519, 0.5550523169902141, 0.5545240570739227, 0.5539966393869085, 0.5534700664380952, 0.5529443407340001, 0.5524194647787343, 0.5518954410740019, 0.5513722721191011, 0.5508499604109228, 0.5503285084439524, 0.549807918710268, 0.5492881936995415, 0.5487693358990384, 0.5482513477936172, 0.5477342318657304, 0.547217990595424, 0.5467026264603372, 0.546188141935703, 0.5456745394943476, 0.5451618216066909, 0.5446499907407462, 0.5441390493621203, 0.5436289999340138, 0.54311984491722, 0.5426115867701264, 0.5421042279487144, 0.5415977709065575, 0.5410922180948241, 0.5405875719622751, 0.5400838349552654, 0.5395810095177431, 0.5390790980912509, 0.5385781031149234, 0.538078027025489, 0.5375788722572709, 0.5370806412421841, 0.5365833364097388, 0.5360869601870368, 0.5355915149987747, 0.5350970032672426, 0.5346034274123233, 0.5341107898514941, 0.5336190929998248, 0.533128339269979, 0.5326385310722146, 0.5321496708143822, 0.5316617609019257, 0.5311748037378832, 0.5306888017228859, 0.5302037572551582, 0.5297196727305187, 0.5292365505423788, 0.5287543930817441, 0.5282732027372132, 0.5277929818949785, 0.5273137329388251, 0.5268354582501331, 0.5263581602078744, 0.5258818411886158, 0.5254065035665167, 0.5249321497133308, 0.5244587819984038, 0.5239864027886768, 0.5235150144486835, 0.5230446193405502, 0.5225752198239985, 0.5221068182563426, 0.5216394169924894, 0.5211730183849409, 0.5207076247837916, 0.5202432385367295, 0.5197798619890363, 0.5193174974835865, 0.5188561473608497, 0.5183958139588887, 0.5179364996133572, 0.5174782066575065, 0.5170209374221777, 0.516564694235807, 0.5161094794244252, 0.5156552953116548, 0.5152021442187117, 0.5147500284644072, 0.514298950365144, 0.5138489122349199, 0.5133999163853256, 0.5129519651255449, 0.5125050607623556, 0.5120592056001283, 0.5116144019408285, 0.5111706520840138, 0.5107279583268357, 0.5102863229640398, 0.5098457482879636, 0.5094062365885405, 0.5089677901532949, 0.5085304112673473, 0.5080941022134098, 0.5076588652717877, 0.5072247027203814, 0.5067916168346839, 0.5063596098877806, 0.5059286841503543, 0.5054988418906753, 0.5050700853746136, 0.5046424168656272]}, {\"line\": {\"color\": \"hsv(120,100,100)\", \"dash\": \"dash\", \"width\": 2}, \"marker\": {\"line\": {\"color\": \"hsv(120,100,100)\", \"width\": 1}, \"size\": 10, \"symbol\": \"triangle-down\"}, \"mode\": \"markers\", \"name\": \"arcsin\", \"textfont\": {\"color\": \"LightSeaGreen\", \"family\": \"Times New Roman\", \"size\": 18}, \"type\": \"scatter\", \"x\": [0.0, 0.001001001001001001, 0.002002002002002002, 0.003003003003003003, 0.004004004004004004, 0.005005005005005005, 0.006006006006006006, 0.007007007007007007, 0.008008008008008008, 0.009009009009009009, 0.01001001001001001, 0.011011011011011011, 0.012012012012012012, 0.013013013013013013, 0.014014014014014014, 0.015015015015015015, 0.016016016016016016, 0.017017017017017015, 0.018018018018018018, 0.01901901901901902, 0.02002002002002002, 0.02102102102102102, 0.022022022022022022, 0.023023023023023025, 0.024024024024024024, 0.025025025025025023, 0.026026026026026026, 0.02702702702702703, 0.028028028028028028, 0.029029029029029027, 0.03003003003003003, 0.031031031031031032, 0.03203203203203203, 0.03303303303303303, 0.03403403403403403, 0.035035035035035036, 0.036036036036036036, 0.037037037037037035, 0.03803803803803804, 0.03903903903903904, 0.04004004004004004, 0.04104104104104104, 0.04204204204204204, 0.043043043043043044, 0.044044044044044044, 0.04504504504504504, 0.04604604604604605, 0.04704704704704705, 0.04804804804804805, 0.04904904904904905, 0.050050050050050046, 0.05105105105105105, 0.05205205205205205, 0.05305305305305305, 0.05405405405405406, 0.055055055055055056, 0.056056056056056056, 0.057057057057057055, 0.058058058058058054, 0.05905905905905906, 0.06006006006006006, 0.06106106106106106, 0.062062062062062065, 0.06306306306306306, 0.06406406406406406, 0.06506506506506507, 0.06606606606606606, 0.06706706706706707, 0.06806806806806806, 0.06906906906906907, 0.07007007007007007, 0.07107107107107107, 0.07207207207207207, 0.07307307307307308, 0.07407407407407407, 0.07507507507507508, 0.07607607607607608, 0.07707707707707707, 0.07807807807807808, 0.07907907907907907, 0.08008008008008008, 0.08108108108108109, 0.08208208208208208, 0.08308308308308308, 0.08408408408408408, 0.08508508508508508, 0.08608608608608609, 0.08708708708708708, 0.08808808808808809, 0.0890890890890891, 0.09009009009009009, 0.09109109109109109, 0.0920920920920921, 0.09309309309309309, 0.0940940940940941, 0.09509509509509509, 0.0960960960960961, 0.0970970970970971, 0.0980980980980981, 0.0990990990990991, 0.10010010010010009, 0.1011011011011011, 0.1021021021021021, 0.1031031031031031, 0.1041041041041041, 0.10510510510510511, 0.1061061061061061, 0.10710710710710711, 0.10810810810810811, 0.1091091091091091, 0.11011011011011011, 0.1111111111111111, 0.11211211211211211, 0.11311311311311312, 0.11411411411411411, 0.11511511511511512, 0.11611611611611611, 0.11711711711711711, 0.11811811811811812, 0.11911911911911911, 0.12012012012012012, 0.12112112112112113, 0.12212212212212212, 0.12312312312312312, 0.12412412412412413, 0.12512512512512514, 0.12612612612612611, 0.12712712712712712, 0.12812812812812813, 0.12912912912912913, 0.13013013013013014, 0.13113113113113112, 0.13213213213213212, 0.13313313313313313, 0.13413413413413414, 0.13513513513513514, 0.13613613613613612, 0.13713713713713713, 0.13813813813813813, 0.13913913913913914, 0.14014014014014015, 0.14114114114114115, 0.14214214214214213, 0.14314314314314314, 0.14414414414414414, 0.14514514514514515, 0.14614614614614616, 0.14714714714714713, 0.14814814814814814, 0.14914914914914915, 0.15015015015015015, 0.15115115115115116, 0.15215215215215216, 0.15315315315315314, 0.15415415415415415, 0.15515515515515516, 0.15615615615615616, 0.15715715715715717, 0.15815815815815815, 0.15915915915915915, 0.16016016016016016, 0.16116116116116116, 0.16216216216216217, 0.16316316316316315, 0.16416416416416416, 0.16516516516516516, 0.16616616616616617, 0.16716716716716717, 0.16816816816816815, 0.16916916916916916, 0.17017017017017017, 0.17117117117117117, 0.17217217217217218, 0.17317317317317318, 0.17417417417417416, 0.17517517517517517, 0.17617617617617617, 0.17717717717717718, 0.1781781781781782, 0.17917917917917917, 0.18018018018018017, 0.18118118118118118, 0.18218218218218218, 0.1831831831831832, 0.1841841841841842, 0.18518518518518517, 0.18618618618618618, 0.1871871871871872, 0.1881881881881882, 0.1891891891891892, 0.19019019019019018, 0.19119119119119118, 0.1921921921921922, 0.1931931931931932, 0.1941941941941942, 0.19519519519519518, 0.1961961961961962, 0.1971971971971972, 0.1981981981981982, 0.1991991991991992, 0.20020020020020018, 0.2012012012012012, 0.2022022022022022, 0.2032032032032032, 0.2042042042042042, 0.20520520520520522, 0.2062062062062062, 0.2072072072072072, 0.2082082082082082, 0.2092092092092092, 0.21021021021021022, 0.2112112112112112, 0.2122122122122122, 0.2132132132132132, 0.21421421421421422, 0.21521521521521522, 0.21621621621621623, 0.2172172172172172, 0.2182182182182182, 0.21921921921921922, 0.22022022022022023, 0.22122122122122123, 0.2222222222222222, 0.22322322322322322, 0.22422422422422422, 0.22522522522522523, 0.22622622622622623, 0.2272272272272272, 0.22822822822822822, 0.22922922922922923, 0.23023023023023023, 0.23123123123123124, 0.23223223223223222, 0.23323323323323322, 0.23423423423423423, 0.23523523523523523, 0.23623623623623624, 0.23723723723723725, 0.23823823823823823, 0.23923923923923923, 0.24024024024024024, 0.24124124124124124, 0.24224224224224225, 0.24324324324324323, 0.24424424424424424, 0.24524524524524524, 0.24624624624624625, 0.24724724724724725, 0.24824824824824826, 0.24924924924924924, 0.2502502502502503, 0.25125125125125125, 0.25225225225225223, 0.25325325325325326, 0.25425425425425424, 0.2552552552552553, 0.25625625625625625, 0.25725725725725723, 0.25825825825825827, 0.25925925925925924, 0.2602602602602603, 0.26126126126126126, 0.26226226226226224, 0.26326326326326327, 0.26426426426426425, 0.2652652652652653, 0.26626626626626626, 0.26726726726726724, 0.2682682682682683, 0.26926926926926925, 0.2702702702702703, 0.27127127127127126, 0.27227227227227224, 0.2732732732732733, 0.27427427427427425, 0.2752752752752753, 0.27627627627627627, 0.2772772772772773, 0.2782782782782783, 0.27927927927927926, 0.2802802802802803, 0.28128128128128127, 0.2822822822822823, 0.2832832832832833, 0.28428428428428426, 0.2852852852852853, 0.2862862862862863, 0.2872872872872873, 0.2882882882882883, 0.28928928928928926, 0.2902902902902903, 0.2912912912912913, 0.2922922922922923, 0.2932932932932933, 0.29429429429429427, 0.2952952952952953, 0.2962962962962963, 0.2972972972972973, 0.2982982982982983, 0.29929929929929927, 0.3003003003003003, 0.3013013013013013, 0.3023023023023023, 0.3033033033033033, 0.30430430430430433, 0.3053053053053053, 0.3063063063063063, 0.3073073073073073, 0.3083083083083083, 0.30930930930930933, 0.3103103103103103, 0.3113113113113113, 0.3123123123123123, 0.3133133133133133, 0.31431431431431434, 0.3153153153153153, 0.3163163163163163, 0.3173173173173173, 0.3183183183183183, 0.31931931931931934, 0.3203203203203203, 0.3213213213213213, 0.32232232232232233, 0.3233233233233233, 0.32432432432432434, 0.3253253253253253, 0.3263263263263263, 0.32732732732732733, 0.3283283283283283, 0.32932932932932935, 0.3303303303303303, 0.3313313313313313, 0.33233233233233234, 0.3333333333333333, 0.33433433433433435, 0.3353353353353353, 0.3363363363363363, 0.33733733733733734, 0.3383383383383383, 0.33933933933933935, 0.34034034034034033, 0.34134134134134136, 0.34234234234234234, 0.3433433433433433, 0.34434434434434436, 0.34534534534534533, 0.34634634634634637, 0.34734734734734735, 0.3483483483483483, 0.34934934934934936, 0.35035035035035034, 0.35135135135135137, 0.35235235235235235, 0.3533533533533533, 0.35435435435435436, 0.35535535535535534, 0.3563563563563564, 0.35735735735735735, 0.35835835835835833, 0.35935935935935936, 0.36036036036036034, 0.3613613613613614, 0.36236236236236236, 0.36336336336336333, 0.36436436436436437, 0.36536536536536535, 0.3663663663663664, 0.36736736736736736, 0.3683683683683684, 0.36936936936936937, 0.37037037037037035, 0.3713713713713714, 0.37237237237237236, 0.3733733733733734, 0.3743743743743744, 0.37537537537537535, 0.3763763763763764, 0.37737737737737737, 0.3783783783783784, 0.3793793793793794, 0.38038038038038036, 0.3813813813813814, 0.38238238238238237, 0.3833833833833834, 0.3843843843843844, 0.38538538538538536, 0.3863863863863864, 0.38738738738738737, 0.3883883883883884, 0.3893893893893894, 0.39039039039039036, 0.3913913913913914, 0.3923923923923924, 0.3933933933933934, 0.3943943943943944, 0.39539539539539537, 0.3963963963963964, 0.3973973973973974, 0.3983983983983984, 0.3993993993993994, 0.40040040040040037, 0.4014014014014014, 0.4024024024024024, 0.4034034034034034, 0.4044044044044044, 0.40540540540540543, 0.4064064064064064, 0.4074074074074074, 0.4084084084084084, 0.4094094094094094, 0.41041041041041043, 0.4114114114114114, 0.4124124124124124, 0.4134134134134134, 0.4144144144144144, 0.41541541541541543, 0.4164164164164164, 0.4174174174174174, 0.4184184184184184, 0.4194194194194194, 0.42042042042042044, 0.4214214214214214, 0.4224224224224224, 0.42342342342342343, 0.4244244244244244, 0.42542542542542544, 0.4264264264264264, 0.4274274274274274, 0.42842842842842843, 0.4294294294294294, 0.43043043043043044, 0.4314314314314314, 0.43243243243243246, 0.43343343343343343, 0.4344344344344344, 0.43543543543543545, 0.4364364364364364, 0.43743743743743746, 0.43843843843843844, 0.4394394394394394, 0.44044044044044045, 0.44144144144144143, 0.44244244244244246, 0.44344344344344344, 0.4444444444444444, 0.44544544544544545, 0.44644644644644643, 0.44744744744744747, 0.44844844844844844, 0.4494494494494494, 0.45045045045045046, 0.45145145145145144, 0.45245245245245247, 0.45345345345345345, 0.4544544544544544, 0.45545545545545546, 0.45645645645645644, 0.4574574574574575, 0.45845845845845845, 0.45945945945945943, 0.46046046046046046, 0.46146146146146144, 0.4624624624624625, 0.46346346346346345, 0.46446446446446443, 0.46546546546546547, 0.46646646646646645, 0.4674674674674675, 0.46846846846846846, 0.4694694694694695, 0.47047047047047047, 0.47147147147147145, 0.4724724724724725, 0.47347347347347346, 0.4744744744744745, 0.4754754754754755, 0.47647647647647645, 0.4774774774774775, 0.47847847847847846, 0.4794794794794795, 0.4804804804804805, 0.48148148148148145, 0.4824824824824825, 0.48348348348348347, 0.4844844844844845, 0.4854854854854855, 0.48648648648648646, 0.4874874874874875, 0.48848848848848847, 0.4894894894894895, 0.4904904904904905, 0.49149149149149146, 0.4924924924924925, 0.4934934934934935, 0.4944944944944945, 0.4954954954954955, 0.4964964964964965, 0.4974974974974975, 0.4984984984984985, 0.4994994994994995, 0.5005005005005005, 0.5015015015015015, 0.5025025025025025, 0.5035035035035035, 0.5045045045045045, 0.5055055055055055, 0.5065065065065065, 0.5075075075075075, 0.5085085085085085, 0.5095095095095095, 0.5105105105105106, 0.5115115115115115, 0.5125125125125125, 0.5135135135135135, 0.5145145145145145, 0.5155155155155156, 0.5165165165165165, 0.5175175175175175, 0.5185185185185185, 0.5195195195195195, 0.5205205205205206, 0.5215215215215215, 0.5225225225225225, 0.5235235235235235, 0.5245245245245245, 0.5255255255255256, 0.5265265265265265, 0.5275275275275275, 0.5285285285285285, 0.5295295295295295, 0.5305305305305306, 0.5315315315315315, 0.5325325325325325, 0.5335335335335335, 0.5345345345345345, 0.5355355355355356, 0.5365365365365365, 0.5375375375375375, 0.5385385385385385, 0.5395395395395395, 0.5405405405405406, 0.5415415415415415, 0.5425425425425425, 0.5435435435435435, 0.5445445445445445, 0.5455455455455456, 0.5465465465465466, 0.5475475475475475, 0.5485485485485485, 0.5495495495495496, 0.5505505505505506, 0.5515515515515516, 0.5525525525525525, 0.5535535535535535, 0.5545545545545546, 0.5555555555555556, 0.5565565565565566, 0.5575575575575575, 0.5585585585585585, 0.5595595595595596, 0.5605605605605606, 0.5615615615615616, 0.5625625625625625, 0.5635635635635635, 0.5645645645645646, 0.5655655655655656, 0.5665665665665666, 0.5675675675675675, 0.5685685685685685, 0.5695695695695696, 0.5705705705705706, 0.5715715715715716, 0.5725725725725725, 0.5735735735735735, 0.5745745745745746, 0.5755755755755756, 0.5765765765765766, 0.5775775775775776, 0.5785785785785785, 0.5795795795795796, 0.5805805805805806, 0.5815815815815816, 0.5825825825825826, 0.5835835835835835, 0.5845845845845846, 0.5855855855855856, 0.5865865865865866, 0.5875875875875876, 0.5885885885885885, 0.5895895895895896, 0.5905905905905906, 0.5915915915915916, 0.5925925925925926, 0.5935935935935935, 0.5945945945945946, 0.5955955955955956, 0.5965965965965966, 0.5975975975975976, 0.5985985985985985, 0.5995995995995996, 0.6006006006006006, 0.6016016016016016, 0.6026026026026026, 0.6036036036036035, 0.6046046046046046, 0.6056056056056056, 0.6066066066066066, 0.6076076076076076, 0.6086086086086087, 0.6096096096096096, 0.6106106106106106, 0.6116116116116116, 0.6126126126126126, 0.6136136136136137, 0.6146146146146146, 0.6156156156156156, 0.6166166166166166, 0.6176176176176176, 0.6186186186186187, 0.6196196196196196, 0.6206206206206206, 0.6216216216216216, 0.6226226226226226, 0.6236236236236237, 0.6246246246246246, 0.6256256256256256, 0.6266266266266266, 0.6276276276276276, 0.6286286286286287, 0.6296296296296297, 0.6306306306306306, 0.6316316316316316, 0.6326326326326326, 0.6336336336336337, 0.6346346346346347, 0.6356356356356356, 0.6366366366366366, 0.6376376376376376, 0.6386386386386387, 0.6396396396396397, 0.6406406406406406, 0.6416416416416416, 0.6426426426426426, 0.6436436436436437, 0.6446446446446447, 0.6456456456456456, 0.6466466466466466, 0.6476476476476476, 0.6486486486486487, 0.6496496496496497, 0.6506506506506506, 0.6516516516516516, 0.6526526526526526, 0.6536536536536537, 0.6546546546546547, 0.6556556556556556, 0.6566566566566566, 0.6576576576576576, 0.6586586586586587, 0.6596596596596597, 0.6606606606606606, 0.6616616616616616, 0.6626626626626626, 0.6636636636636637, 0.6646646646646647, 0.6656656656656657, 0.6666666666666666, 0.6676676676676676, 0.6686686686686687, 0.6696696696696697, 0.6706706706706707, 0.6716716716716716, 0.6726726726726726, 0.6736736736736737, 0.6746746746746747, 0.6756756756756757, 0.6766766766766766, 0.6776776776776777, 0.6786786786786787, 0.6796796796796797, 0.6806806806806807, 0.6816816816816816, 0.6826826826826827, 0.6836836836836837, 0.6846846846846847, 0.6856856856856857, 0.6866866866866866, 0.6876876876876877, 0.6886886886886887, 0.6896896896896897, 0.6906906906906907, 0.6916916916916916, 0.6926926926926927, 0.6936936936936937, 0.6946946946946947, 0.6956956956956957, 0.6966966966966966, 0.6976976976976977, 0.6986986986986987, 0.6996996996996997, 0.7007007007007007, 0.7017017017017017, 0.7027027027027027, 0.7037037037037037, 0.7047047047047047, 0.7057057057057057, 0.7067067067067067, 0.7077077077077077, 0.7087087087087087, 0.7097097097097097, 0.7107107107107107, 0.7117117117117117, 0.7127127127127127, 0.7137137137137137, 0.7147147147147147, 0.7157157157157157, 0.7167167167167167, 0.7177177177177178, 0.7187187187187187, 0.7197197197197197, 0.7207207207207207, 0.7217217217217217, 0.7227227227227228, 0.7237237237237237, 0.7247247247247247, 0.7257257257257257, 0.7267267267267267, 0.7277277277277278, 0.7287287287287287, 0.7297297297297297, 0.7307307307307307, 0.7317317317317317, 0.7327327327327328, 0.7337337337337337, 0.7347347347347347, 0.7357357357357357, 0.7367367367367368, 0.7377377377377378, 0.7387387387387387, 0.7397397397397397, 0.7407407407407407, 0.7417417417417418, 0.7427427427427428, 0.7437437437437437, 0.7447447447447447, 0.7457457457457457, 0.7467467467467468, 0.7477477477477478, 0.7487487487487487, 0.7497497497497497, 0.7507507507507507, 0.7517517517517518, 0.7527527527527528, 0.7537537537537538, 0.7547547547547547, 0.7557557557557557, 0.7567567567567568, 0.7577577577577578, 0.7587587587587588, 0.7597597597597597, 0.7607607607607607, 0.7617617617617618, 0.7627627627627628, 0.7637637637637638, 0.7647647647647647, 0.7657657657657657, 0.7667667667667668, 0.7677677677677678, 0.7687687687687688, 0.7697697697697697, 0.7707707707707707, 0.7717717717717718, 0.7727727727727728, 0.7737737737737738, 0.7747747747747747, 0.7757757757757757, 0.7767767767767768, 0.7777777777777778, 0.7787787787787788, 0.7797797797797797, 0.7807807807807807, 0.7817817817817818, 0.7827827827827828, 0.7837837837837838, 0.7847847847847848, 0.7857857857857857, 0.7867867867867868, 0.7877877877877878, 0.7887887887887888, 0.7897897897897898, 0.7907907907907907, 0.7917917917917918, 0.7927927927927928, 0.7937937937937938, 0.7947947947947948, 0.7957957957957957, 0.7967967967967968, 0.7977977977977978, 0.7987987987987988, 0.7997997997997998, 0.8008008008008007, 0.8018018018018018, 0.8028028028028028, 0.8038038038038038, 0.8048048048048048, 0.8058058058058059, 0.8068068068068068, 0.8078078078078078, 0.8088088088088088, 0.8098098098098098, 0.8108108108108109, 0.8118118118118118, 0.8128128128128128, 0.8138138138138138, 0.8148148148148148, 0.8158158158158159, 0.8168168168168168, 0.8178178178178178, 0.8188188188188188, 0.8198198198198198, 0.8208208208208209, 0.8218218218218218, 0.8228228228228228, 0.8238238238238238, 0.8248248248248248, 0.8258258258258259, 0.8268268268268268, 0.8278278278278278, 0.8288288288288288, 0.8298298298298298, 0.8308308308308309, 0.8318318318318318, 0.8328328328328328, 0.8338338338338338, 0.8348348348348348, 0.8358358358358359, 0.8368368368368369, 0.8378378378378378, 0.8388388388388388, 0.8398398398398398, 0.8408408408408409, 0.8418418418418419, 0.8428428428428428, 0.8438438438438438, 0.8448448448448448, 0.8458458458458459, 0.8468468468468469, 0.8478478478478478, 0.8488488488488488, 0.8498498498498498, 0.8508508508508509, 0.8518518518518519, 0.8528528528528528, 0.8538538538538538, 0.8548548548548548, 0.8558558558558559, 0.8568568568568569, 0.8578578578578578, 0.8588588588588588, 0.8598598598598598, 0.8608608608608609, 0.8618618618618619, 0.8628628628628628, 0.8638638638638638, 0.8648648648648649, 0.8658658658658659, 0.8668668668668669, 0.8678678678678678, 0.8688688688688688, 0.8698698698698699, 0.8708708708708709, 0.8718718718718719, 0.8728728728728729, 0.8738738738738738, 0.8748748748748749, 0.8758758758758759, 0.8768768768768769, 0.8778778778778779, 0.8788788788788788, 0.8798798798798799, 0.8808808808808809, 0.8818818818818819, 0.8828828828828829, 0.8838838838838838, 0.8848848848848849, 0.8858858858858859, 0.8868868868868869, 0.8878878878878879, 0.8888888888888888, 0.8898898898898899, 0.8908908908908909, 0.8918918918918919, 0.8928928928928929, 0.8938938938938938, 0.8948948948948949, 0.8958958958958959, 0.8968968968968969, 0.8978978978978979, 0.8988988988988988, 0.8998998998998999, 0.9009009009009009, 0.9019019019019019, 0.9029029029029029, 0.9039039039039038, 0.9049049049049049, 0.9059059059059059, 0.9069069069069069, 0.9079079079079079, 0.9089089089089089, 0.9099099099099099, 0.9109109109109109, 0.9119119119119119, 0.9129129129129129, 0.9139139139139139, 0.914914914914915, 0.9159159159159159, 0.9169169169169169, 0.9179179179179179, 0.9189189189189189, 0.91991991991992, 0.9209209209209209, 0.9219219219219219, 0.9229229229229229, 0.9239239239239239, 0.924924924924925, 0.9259259259259259, 0.9269269269269269, 0.9279279279279279, 0.9289289289289289, 0.92992992992993, 0.9309309309309309, 0.9319319319319319, 0.9329329329329329, 0.933933933933934, 0.934934934934935, 0.9359359359359359, 0.9369369369369369, 0.9379379379379379, 0.938938938938939, 0.93993993993994, 0.9409409409409409, 0.9419419419419419, 0.9429429429429429, 0.943943943943944, 0.944944944944945, 0.9459459459459459, 0.9469469469469469, 0.9479479479479479, 0.948948948948949, 0.94994994994995, 0.950950950950951, 0.9519519519519519, 0.9529529529529529, 0.953953953953954, 0.954954954954955, 0.955955955955956, 0.9569569569569569, 0.9579579579579579, 0.958958958958959, 0.95995995995996, 0.960960960960961, 0.9619619619619619, 0.9629629629629629, 0.963963963963964, 0.964964964964965, 0.965965965965966, 0.9669669669669669, 0.9679679679679679, 0.968968968968969, 0.96996996996997, 0.970970970970971, 0.9719719719719719, 0.9729729729729729, 0.973973973973974, 0.974974974974975, 0.975975975975976, 0.9769769769769769, 0.9779779779779779, 0.978978978978979, 0.97997997997998, 0.980980980980981, 0.9819819819819819, 0.9829829829829829, 0.983983983983984, 0.984984984984985, 0.985985985985986, 0.986986986986987, 0.9879879879879879, 0.988988988988989, 0.98998998998999, 0.990990990990991, 0.991991991991992, 0.992992992992993, 0.993993993993994, 0.994994994994995, 0.995995995995996, 0.996996996996997, 0.997997997997998, 0.998998998998999, 1.0], \"y\": [1.0, 1.0000297314184294, 1.0000568972019714, 1.0000815028892491, 1.000103554015084, 1.000123056110495, 1.0001400147026973, 1.0001544353151057, 1.0001663234673315, 1.0001756846751846, 1.0001825244506721, 1.0001868483019993, 1.000188661733568, 1.00018797024598, 1.0001847793360323, 1.0001790944967217, 1.0001709212172414, 1.0001602649829826, 1.0001471312755346, 1.0001315255726846, 1.0001134533484168, 1.000092920072913, 1.000069931212555, 1.0000444922299185, 1.0000166085837794, 0.9999862857291122, 0.999953529117087, 0.9999183441950731, 0.9998807364066358, 0.9998407111915399, 0.9997982739857478, 0.9997534302214182, 0.9997061853269092, 0.9996565447267752, 0.9996045138417696, 0.999550098088843, 0.9994933028811436, 0.9994341336280171, 0.9993725957350076, 0.999308694603856, 0.9992424356325027, 0.9991738242150836, 0.999102865741934, 0.9990295655995862, 0.9989539291707699, 0.9988759618344139, 0.9987956689656415, 0.9987130559357804, 0.9986281281123471, 0.9985408908590633, 0.9984513495358435, 0.9983595094988048, 0.9982653761002563, 0.9981689546887089, 0.9980702506088714, 0.9979692692016467, 0.9978660158041394, 0.9977604957496492, 0.9976527143676752, 0.9975426769839121, 0.9974303889202566, 0.9973158554947974, 0.9971990820218258, 0.9970800738118274, 0.9969588361714881, 0.9968353744036904, 0.9967096938075138, 0.9965817996782366, 0.9964516973073352, 0.9963193919824819, 0.9961848889875488, 0.9960481936026044, 0.9959093111039159, 0.9957682467639464, 0.9956250058513598, 0.9954795936310148, 0.9953320153639692, 0.9951822763074784, 0.9950303817149955, 0.9948763368361717, 0.9947201469168545, 0.9945618171990903, 0.9944013529211244, 0.9942387593173968, 0.9940740416185492, 0.9939072050514156, 0.9937382548390327, 0.9935671962006342, 0.9933940343516497, 0.9932187745037053, 0.9930414218646293, 0.992861981638445, 0.992680459025373, 0.9924968592218325, 0.9923111874204399, 0.9921234488100108, 0.9919336485755557, 0.9917417918982863, 0.9915478839556109, 0.9913519299211317, 0.9911539349646539, 0.9909539042521793, 0.9907518429459061, 0.9905477562042294, 0.9903416491817443, 0.9901335270292414, 0.9899233948937125, 0.9897112579183431, 0.989497121242518, 0.989280990001822, 0.9890628693280341, 0.9888427643491329, 0.9886206801892937, 0.9883966219688894, 0.9881705948044948, 0.9879426038088756, 0.987712654091, 0.9874807507560338, 0.9872468989053371, 0.9870111036364728, 0.9867733700431953, 0.9865337032154607, 0.9862921082394261, 0.9860485901974387, 0.9858031541680481, 0.9855558052260026, 0.9853065484422417, 0.985055388883914, 0.9848023316143532, 0.9845473816930996, 0.9842905441758886, 0.9840318241146528, 0.9837712265575225, 0.983508756548824, 0.9832444191290866, 0.9829782193350332, 0.9827101621995837, 0.98244025275186, 0.9821684960171778, 0.9818948970170499, 0.9816194607691926, 0.9813421922875134, 0.9810630965821207, 0.980782178659319, 0.9804994435216152, 0.9802148961677073, 0.9799285415924963, 0.9796403847870762, 0.9793504307387428, 0.979058684430989, 0.978765150843504, 0.9784698349521734, 0.9781727417290846, 0.9778738761425201, 0.9775732431569609, 0.977270847733086, 0.9769666948277707, 0.9766607893940866, 0.9763531363813087, 0.9760437407349063, 0.9757326073965455, 0.9754197413040901, 0.9751051473916036, 0.9747888305893482, 0.9744707958237785, 0.974151048017553, 0.9738295920895237, 0.9735064329547425, 0.9731815755244582, 0.9728550247061174, 0.972526785403364, 0.9721968625160421, 0.9718652609401883, 0.9715319855680438, 0.9711970412880421, 0.9708604329848167, 0.9705221655391996, 0.9701822438282158, 0.9698406727250941, 0.9694974570992582, 0.9691526018163317, 0.9688061117381309, 0.9684579917226739, 0.9681082466241777, 0.9677568812930518, 0.9674039005759114, 0.9670493093155583, 0.9666931123510033, 0.9663353145174474, 0.9659759206462935, 0.9656149355651403, 0.9652523640977835, 0.9648882110642187, 0.9645224812806383, 0.964155179559433, 0.963786310709189, 0.9634158795346925, 0.9630438908369259, 0.9626703494130715, 0.9622952600565066, 0.9619186275568081, 0.961540456699751, 0.9611607522673067, 0.960779519037644, 0.9603967617851307, 0.9600124852803325, 0.9596266942900116, 0.9592393935771292, 0.9588505879008415, 0.9584602820165069, 0.9580684806756781, 0.9576751886261069, 0.9572804106117418, 0.956884151372731, 0.9564864156454171, 0.9560872081623453, 0.9556865336522534, 0.9552843968400794, 0.9548808024469605, 0.9544757551902285, 0.9540692597834145, 0.953661320936249, 0.9532519433546565, 0.9528411317407618, 0.9524288907928878, 0.9520152252055533, 0.9516001396694758, 0.9511836388715706, 0.9507657274949513, 0.9503464102189274, 0.9499256917190073, 0.9495035766668984, 0.9490800697305033, 0.9486551755739241, 0.9482288988574598, 0.9478012442376079, 0.9473722163670633, 0.9469418198947175, 0.9465100594656619, 0.9460769397211838, 0.9456424652987689, 0.9452066408321008, 0.9447694709510608, 0.944330960281727, 0.9438911134463774, 0.9434499350634853, 0.9430074297477228, 0.9425636021099607, 0.9421184567572647, 0.9416719982929023, 0.9412242313163354, 0.940775160423225, 0.9403247902054287, 0.9398731252510045, 0.9394201701442045, 0.9389659294654822, 0.938510407791485, 0.9380536096950612, 0.937595539745256, 0.9371362025073118, 0.9366756025426685, 0.9362137444089639, 0.935750632660035, 0.9352862718459138, 0.9348206665128335, 0.9343538212032213, 0.9338857404557052, 0.9334164288051089, 0.9329458907824545, 0.9324741309149625, 0.9320011537260509, 0.9315269637353338, 0.9310515654586259, 0.9305749634079371, 0.9300971620914759, 0.929618166013649, 0.9291379796750604, 0.9286566075725123, 0.9281740541990031, 0.9276903240437315, 0.9272054215920914, 0.926719351325676, 0.9262321177222755, 0.9257437252558784, 0.9252541783966707, 0.924763481611035, 0.9242716393615545, 0.9237786561070067, 0.9232845363023696, 0.922789284398817, 0.9222929048437218, 0.9217954020806532, 0.9212967805493799, 0.920797044685867, 0.9202961989222778, 0.9197942476869733, 0.9192911954045121, 0.9187870464956511, 0.9182818053773436, 0.9177754764627424, 0.9172680641611968, 0.9167595728782539, 0.9162500070156594, 0.9157393709713554, 0.9152276691394832, 0.9147149059103804, 0.9142010856705837, 0.9136862128028266, 0.9131702916860405, 0.9126533266953546, 0.9121353222020963, 0.9116162825737895, 0.9110962121741577, 0.9105751153631201, 0.9100529964967949, 0.909529859927498, 0.9090057100037422, 0.9084805510702395, 0.9079543874678978, 0.9074272235338241, 0.9068990636013226, 0.9063699119998955, 0.9058397730552423, 0.9053086510892608, 0.9047765504200456, 0.9042434753618904, 0.9037094302252855, 0.903174419316919, 0.9026384469396778, 0.9021015173926451, 0.9015636349711028, 0.9010248039665307, 0.9004850286666052, 0.8999443133552013, 0.8994026623123915, 0.8988600798144464, 0.8983165701338338, 0.8977721375392187, 0.8972267862954659, 0.8966805206636357, 0.8961333449009878, 0.8955852632609782, 0.8950362799932612, 0.8944863993436897, 0.8939356255543126, 0.8933839628633782, 0.8928314155053315, 0.8922779877108159, 0.8917236837066718, 0.891168507715938, 0.8906124639578509, 0.890055556647844, 0.8894977899975496, 0.8889391682147965, 0.8883796955036125, 0.8878193760642223, 0.8872582140930481, 0.8866962137827109, 0.8861333793220291, 0.8855697148960175, 0.8850052246858905, 0.8844399128690591, 0.8838737836191326, 0.8833068411059178, 0.8827390894954186, 0.8821705329498378, 0.8816011756275751, 0.8810310216832289, 0.8804600752675936, 0.8798883405276634, 0.8793158216066284, 0.8787425226438774, 0.8781684477749971, 0.8775936011317714, 0.8770179868421825, 0.876441609030409, 0.875864471816829, 0.8752865793180175, 0.8747079356467474, 0.8741285449119884, 0.8735484112189097, 0.8729675386688767, 0.8723859313594534, 0.8718035933844008, 0.8712205288336785, 0.8706367417934429, 0.8700522363460491, 0.8694670165700497, 0.8688810865401937, 0.8682944503274302, 0.8677071119989038, 0.8671190756179586, 0.866530345244135, 0.8659409249331715, 0.8653508187370056, 0.8647600307037709, 0.8641685648777993, 0.8635764252996203, 0.8629836160059619, 0.8623901410297486, 0.8617960044001041, 0.8612012101423483, 0.8606057622779996, 0.8600096648247747, 0.8594129217965867, 0.8588155372035476, 0.8582175150519659, 0.8576188593443498, 0.8570195740794029, 0.8564196632520289, 0.8558191308533266, 0.855217980870595, 0.8546162172873294, 0.8540138440832232, 0.8534108652341672, 0.852807284712251, 0.8522031064857608, 0.8515983345191808, 0.8509929727731935, 0.850387025204678, 0.8497804957667121, 0.8491733884085716, 0.848565707075729, 0.8479574557098549, 0.8473486382488182, 0.8467392586266846, 0.8461293207737183, 0.8455188286163811, 0.8449077860773322, 0.8442961970754285, 0.8436840655257253, 0.8430713953394746, 0.8424581904241275, 0.8418444546833314, 0.8412301920169324, 0.8406154063209739, 0.8400001014876975, 0.8393842814055414, 0.8387679499591428, 0.8381511110293361, 0.8375337684931534, 0.8369159262238249, 0.8362975880907779, 0.835678757959638, 0.8350594396922281, 0.8344396371465693, 0.8338193541768797, 0.8331985946335757, 0.8325773623632722, 0.83195566120878, 0.8313334950091088, 0.8307108675994661, 0.8300877828112567, 0.8294642444720831, 0.828840256405746, 0.8282158224322436, 0.8275909463677715, 0.8269656320247236, 0.826339883211691, 0.8257137037334632, 0.8250870973910264, 0.8244600679815659, 0.8238326192984636, 0.8232047551312994, 0.8225764792658511, 0.8219477954840945, 0.8213187075642024, 0.8206892192805461, 0.8200593344036939, 0.8194290567004126, 0.818798389933666, 0.8181673378626164, 0.8175359042426233, 0.8169040928252435, 0.8162719073582326, 0.8156393515855432, 0.8150064292473264, 0.8143731440799294, 0.8137394998158992, 0.8131055001839791, 0.8124711489091105, 0.8118364497124331, 0.8112014063112829, 0.8105660224191955, 0.8099303017459025, 0.809294247997335, 0.80865786487562, 0.8080211560790834, 0.8073841253022488, 0.8067467762358367, 0.8061091125667665, 0.8054711379781545, 0.8048328561493145, 0.804194270755759, 0.8035553854691977, 0.802916203957538, 0.8022767298848849, 0.8016369669115414, 0.8009969186940086, 0.8003565888849842, 0.7997159811333647, 0.7990750990842439, 0.7984339463789133, 0.7977925266548622, 0.7971508435457779, 0.7965089006815448, 0.7958667016882456, 0.7952242501881606, 0.7945815497997678, 0.793938604137743, 0.7932954168129592, 0.7926519914324878, 0.7920083315995979, 0.7913644409137562, 0.7907203229706267, 0.7900759813620715, 0.7894314196761507, 0.7887866414971219, 0.7881416504054399, 0.7874964499777585, 0.7868510437869282, 0.786205435401997, 0.7855596283882117, 0.784913626307016, 0.7842674327160517, 0.783621051169158, 0.7829744852163724, 0.7823277384039297, 0.7816808142742623, 0.7810337163660008, 0.7803864482139733, 0.7797390133492054, 0.7790914152989208, 0.7784436575865408, 0.7777957437316841, 0.7771476772501681, 0.7764994616540069, 0.7758511004514125, 0.7752025971467953, 0.7745539552407626, 0.7739051782301201, 0.7732562696078707, 0.7726072328632155, 0.771958071481553, 0.7713087889444797, 0.7706593887297892, 0.7700098743114737, 0.7693602491597229, 0.7687105167409236, 0.768060680517661, 0.767410743948718, 0.7667607104890751, 0.7661105835899101, 0.7654603666985995, 0.7648100632587163, 0.7641596767100322, 0.7635092104885167, 0.7628586680263362, 0.7622080527518555, 0.7615573680896369, 0.7609066174604403, 0.7602558042812236, 0.7596049319651424, 0.75895400392155, 0.7583030235559969, 0.7576519942702328, 0.757000919462203, 0.7563498025260528, 0.7556986468521231, 0.7550474558269541, 0.7543962328332832, 0.7537449812500454, 0.7530937044523734, 0.7524424058115984, 0.7517910886952481, 0.7511397564670483, 0.750488412486924, 0.7498370601109949, 0.7491857026915822, 0.7485343435772013, 0.7478829861125675, 0.7472316336385938, 0.7465802894923894, 0.7459289570072628, 0.7452776395127193, 0.7446263403344628, 0.7439750627943935, 0.7433238102106116, 0.7426725858974124, 0.7420213931652904, 0.741370235320938, 0.7407191156672449, 0.740068037503299, 0.7394170041243846, 0.7387660188219849, 0.7381150848837812, 0.7374642055936517, 0.7368133842316721, 0.7361626240741167, 0.7355119283934569, 0.7348613004583627, 0.7342107435337, 0.7335602608805345, 0.7329098557561287, 0.7322595314139424, 0.7316092911036342, 0.7309591380710596, 0.730309075558272, 0.7296591068035228, 0.7290092350412607, 0.7283594635021324, 0.7277097954129828, 0.727060233996853, 0.7264107824729843, 0.7257614440568132, 0.7251122219599749, 0.7244631193903035, 0.7238141395518294, 0.7231652856447811, 0.722516560865584, 0.7218679684068638, 0.7212195114574408, 0.7205711932023351, 0.7199230168227637, 0.7192749854961416, 0.7186271023960816, 0.717979370692394, 0.7173317935510868, 0.7166843741343658, 0.7160371156006351, 0.7153900211044953, 0.7147430937967465, 0.7140963368243842, 0.7134497533306038, 0.7128033464547974, 0.7121571193325548, 0.7115110750956639, 0.7108652168721097, 0.7102195477860762, 0.7095740709579437, 0.7089287895042912, 0.7082837065378947, 0.7076388251677287, 0.7069941484989648, 0.7063496796329725, 0.7057054216673196, 0.7050613776957707, 0.7044175508082887, 0.7037739440910339, 0.7031305606263649, 0.7024874034928374, 0.7018444757652054, 0.70120178051442, 0.7005593208076304, 0.699917099708184, 0.6992751202756248, 0.6986333855656954, 0.6979918986303364, 0.6973506625176846, 0.6967096802720766, 0.6960689549340449, 0.6954284895403209, 0.6947882871238336, 0.694148350713709, 0.6935086833352714, 0.6928692880100431, 0.6922301677557436, 0.6915913255862904, 0.6909527645117984, 0.6903144875385807, 0.6896764976691478, 0.6890387979022083, 0.6884013912326681, 0.6877642806516313, 0.6871274691463989, 0.6864909597004705, 0.6858547552935432, 0.6852188589015114, 0.6845832734964683, 0.6839480020467033, 0.6833130475167046, 0.6826784128671581, 0.6820441010549471, 0.6814101150331527, 0.6807764577510536, 0.6801431321541273, 0.6795101411840466, 0.6788774877786847, 0.6782451748721112, 0.6776132053945936, 0.6769815822725969, 0.6763503084287843, 0.6757193867820167, 0.6750888202473526, 0.6744586117360477, 0.6738287641555565, 0.6731992804095301, 0.6725701633978185, 0.6719414160164684, 0.6713130411577249, 0.6706850417100303, 0.6700574205580254, 0.6694301805825474, 0.6688033246606333, 0.6681768556655158, 0.667550776466626, 0.6669250899295938, 0.6662997989162449, 0.6656749062846045, 0.665050414888894, 0.6644263275795343, 0.6638026472031422, 0.6631793766025336, 0.6625565186167217, 0.6619340760809165, 0.661312051826528, 0.6606904486811604, 0.66006926946862, 0.6594485170089076, 0.6588281941182224, 0.6582083036089618, 0.6575888482897212, 0.6569698309652929, 0.6563512544366674, 0.655733121501033, 0.6551154349517756, 0.6544981975784792, 0.6538814121669239, 0.6532650814990897, 0.652649208353154, 0.6520337955034898, 0.6514188457206711, 0.6508043617714672, 0.6501903464188452, 0.6495768024219719, 0.648963732536209, 0.6483511395131187, 0.6477390261004599, 0.6471273950421876, 0.6465162490784572, 0.6459055909456193, 0.6452954233762251, 0.6446857490990215, 0.6440765708389525, 0.643467891317162, 0.642859713250991, 0.6422520393539761, 0.6416448723358542, 0.6410382149025597, 0.640432069756224, 0.6398264395951747, 0.6392213271139399, 0.6386167350032447, 0.6380126659500109, 0.6374091226373588, 0.6368061077446069, 0.636203623947269, 0.6356016739170602, 0.6350002603218908, 0.6343993858258705, 0.6337990530893041, 0.6331992647686964, 0.6326000235167508, 0.6320013319823652, 0.6314031928106401, 0.630805608642867, 0.63020858211654, 0.6296121158653505, 0.6290162125191874, 0.6284208747041342, 0.6278261050424783, 0.6272319061526979, 0.6266382806494752, 0.6260452311436855, 0.6254527602424054, 0.6248608705489043, 0.6242695646626553, 0.6236788451793249, 0.6230887146907786, 0.6224991757850822, 0.6219102310464939, 0.6213218830554743, 0.6207341343886799, 0.6201469876189638, 0.6195604453153796, 0.6189745100431789, 0.6183891843638054, 0.6178044708349058, 0.6172203720103238, 0.6166368904400983, 0.6160540286704717, 0.6154717892438757, 0.6148901746989468, 0.6143091875705182, 0.6137288303896153, 0.613149105683469, 0.6125700159755016, 0.6119915637853377, 0.6114137516287945, 0.6108365820178956, 0.6102600574608505, 0.6096841804620778, 0.6091089535221856, 0.6085343791379847, 0.6079604598024826, 0.6073871980048806, 0.6068145962305844, 0.6062426569611903, 0.6056713826745002, 0.6051007758445075, 0.6045308389414026, 0.6039615744315818, 0.6033929847776278, 0.6028250724383324, 0.6022578398686758, 0.6016912895198447, 0.6011254238392136, 0.6005602452703616, 0.5999957562530631, 0.5994319592232897, 0.5988688566132154, 0.5983064508512062, 0.5977447443618291, 0.5971837395658488, 0.5966234388802194, 0.5960638447181101, 0.5955049594888724, 0.5949467855980624, 0.5943893254474326, 0.5938325814349286, 0.5932765559547053, 0.5927212513971041, 0.5921666701486683, 0.5916128145921382, 0.591059687106458, 0.5905072900667565, 0.5899556258443739, 0.5894046968068376, 0.5888545053178809, 0.5883050537374297, 0.5877563444216083, 0.5872083797227394, 0.5866611619893467, 0.5861146935661461, 0.5855689767940531, 0.5850240140101826, 0.5844798075478441, 0.583936359736553, 0.5833936729020102, 0.58285174936612, 0.5823105914469862, 0.5817702014589115, 0.5812305817123908, 0.5806917345141263, 0.5801536621670027, 0.5796163669701149, 0.5790798512187489, 0.5785441172043946, 0.578009167214736, 0.5774750035336544, 0.5769416284412299, 0.5764090442137397, 0.5758772531236587, 0.5753462574396586, 0.5748160594266158, 0.5742866613455879, 0.5737580654538585, 0.5732302740048776, 0.5727032892483077, 0.5721771134300084, 0.5716517487920365, 0.5711271975726602, 0.5706034620063152, 0.5700805443236563, 0.5695584467515387, 0.5690371715129947, 0.5685167208272812, 0.5679970969098314, 0.5674783019722875, 0.5669603382224819, 0.5664432078644603, 0.5659269130984397, 0.5654114561208594, 0.5648968391243461, 0.5643830642977239, 0.5638701338260157, 0.563358049890442, 0.5628468146684229, 0.5623364303335778, 0.5618268990557054, 0.5613182230008382, 0.5608104043311704, 0.5603034452051183, 0.5597973477772857, 0.5592921141984686, 0.5587877466156748, 0.558284247172093, 0.5577816180071302, 0.5572798612563847, 0.5567789790516207, 0.556278973520854, 0.5557798467882638, 0.5552816009742383, 0.5547842381953441, 0.5542877605643781, 0.5537921701903104, 0.5532974691783172, 0.5528036596297676, 0.5523107436422485, 0.5518187233095082, 0.5513276007215238, 0.5508373779644682, 0.550348057120674, 0.5498596402687275, 0.5493721294833804, 0.5488855268355914, 0.548399834392499, 0.5479150542174578, 0.547431188370032, 0.546948238905955, 0.5464662078771676, 0.5459850973318137, 0.5455049093142383, 0.5450256458649703, 0.5445473090207518, 0.5440699008145051, 0.543593423275369, 0.5431178784286752, 0.5426432682959339, 0.5421695948948813, 0.5416968602394387, 0.5412250663397176, 0.5407542152020337, 0.5402843088289071, 0.5398153492190572, 0.5393473383673708, 0.5388802782649762, 0.538414170899169, 0.537949018253455, 0.5374848223075359, 0.5370215850373059, 0.5365593084148772, 0.536097994408502, 0.5356376449827147, 0.5351782620982073, 0.5347198477118207, 0.534262403776685, 0.5338059322420579, 0.5333504350534302, 0.5328959141524798, 0.5324423714770798, 0.5319898089613062, 0.531538228535422, 0.5310876321258986, 0.5306380216554194, 0.5301893990428255, 0.529741766203192, 0.5292951250477662, 0.5288494774840231, 0.5284048254156186, 0.527961170742385, 0.5275185153603825, 0.5270768611618664, 0.5266362100352726, 0.5261965638652644, 0.5257579245326482, 0.5253202939145112, 0.5248836738840463, 0.524448066310713, 0.5240134730601493, 0.5235798959941604, 0.52314733697078, 0.5227157978442438, 0.5222852804649794, 0.521855786679609, 0.5214273183309306, 0.5209998772579834, 0.5205734652959677, 0.5201480842763164, 0.519723736026604, 0.519300422370657, 0.5188781451285092, 0.5184569061163007, 0.5180367071464929, 0.5176175500276656, 0.5171994365645816, 0.5167823685582853, 0.5163663478059419, 0.5159513761009329, 0.5155374552328595, 0.515124586987513, 0.5147127731468792, 0.5143020154891111, 0.513892315788592, 0.5134836758159267, 0.5130760973378603, 0.5126695821174057, 0.5122641319136605, 0.5118597484820491, 0.5114564335741214]}],                        {\"autosize\": false, \"height\": 500, \"legend\": {\"bgcolor\": \"White\", \"bordercolor\": \"Black\", \"borderwidth\": 0.7}, \"margin\": {\"b\": 0, \"l\": 0, \"pad\": 0.1, \"r\": 0, \"t\": 0}, \"paper_bgcolor\": \"rgba(255, 255, 255, 1)\", \"plot_bgcolor\": \"rgba(255, 255, 255, 1)\", \"showlegend\": true, \"template\": {\"data\": {\"bar\": [{\"error_x\": {\"color\": \"#2a3f5f\"}, \"error_y\": {\"color\": \"#2a3f5f\"}, \"marker\": {\"line\": {\"color\": \"#E5ECF6\", \"width\": 0.5}}, \"type\": \"bar\"}], \"barpolar\": [{\"marker\": {\"line\": {\"color\": \"#E5ECF6\", \"width\": 0.5}}, \"type\": \"barpolar\"}], \"carpet\": [{\"aaxis\": {\"endlinecolor\": \"#2a3f5f\", \"gridcolor\": \"white\", \"linecolor\": \"white\", \"minorgridcolor\": \"white\", \"startlinecolor\": \"#2a3f5f\"}, \"baxis\": {\"endlinecolor\": \"#2a3f5f\", \"gridcolor\": \"white\", \"linecolor\": \"white\", \"minorgridcolor\": \"white\", \"startlinecolor\": \"#2a3f5f\"}, \"type\": \"carpet\"}], \"choropleth\": [{\"colorbar\": {\"outlinewidth\": 0, \"ticks\": \"\"}, \"type\": \"choropleth\"}], \"contour\": [{\"colorbar\": {\"outlinewidth\": 0, \"ticks\": \"\"}, \"colorscale\": [[0.0, \"#0d0887\"], [0.1111111111111111, \"#46039f\"], [0.2222222222222222, \"#7201a8\"], [0.3333333333333333, \"#9c179e\"], [0.4444444444444444, \"#bd3786\"], [0.5555555555555556, \"#d8576b\"], [0.6666666666666666, \"#ed7953\"], [0.7777777777777778, \"#fb9f3a\"], [0.8888888888888888, \"#fdca26\"], [1.0, \"#f0f921\"]], \"type\": \"contour\"}], \"contourcarpet\": [{\"colorbar\": {\"outlinewidth\": 0, \"ticks\": \"\"}, \"type\": \"contourcarpet\"}], \"heatmap\": [{\"colorbar\": {\"outlinewidth\": 0, \"ticks\": \"\"}, \"colorscale\": [[0.0, \"#0d0887\"], [0.1111111111111111, \"#46039f\"], [0.2222222222222222, \"#7201a8\"], [0.3333333333333333, \"#9c179e\"], [0.4444444444444444, \"#bd3786\"], [0.5555555555555556, \"#d8576b\"], [0.6666666666666666, \"#ed7953\"], [0.7777777777777778, \"#fb9f3a\"], [0.8888888888888888, \"#fdca26\"], [1.0, \"#f0f921\"]], \"type\": \"heatmap\"}], \"heatmapgl\": [{\"colorbar\": {\"outlinewidth\": 0, \"ticks\": \"\"}, \"colorscale\": [[0.0, \"#0d0887\"], [0.1111111111111111, \"#46039f\"], [0.2222222222222222, \"#7201a8\"], [0.3333333333333333, \"#9c179e\"], [0.4444444444444444, \"#bd3786\"], [0.5555555555555556, \"#d8576b\"], [0.6666666666666666, \"#ed7953\"], [0.7777777777777778, \"#fb9f3a\"], [0.8888888888888888, \"#fdca26\"], [1.0, \"#f0f921\"]], \"type\": \"heatmapgl\"}], \"histogram\": [{\"marker\": {\"colorbar\": {\"outlinewidth\": 0, \"ticks\": \"\"}}, \"type\": \"histogram\"}], \"histogram2d\": [{\"colorbar\": {\"outlinewidth\": 0, \"ticks\": \"\"}, \"colorscale\": [[0.0, \"#0d0887\"], [0.1111111111111111, \"#46039f\"], [0.2222222222222222, \"#7201a8\"], [0.3333333333333333, \"#9c179e\"], [0.4444444444444444, \"#bd3786\"], [0.5555555555555556, \"#d8576b\"], [0.6666666666666666, \"#ed7953\"], [0.7777777777777778, \"#fb9f3a\"], [0.8888888888888888, \"#fdca26\"], [1.0, \"#f0f921\"]], \"type\": \"histogram2d\"}], \"histogram2dcontour\": [{\"colorbar\": {\"outlinewidth\": 0, \"ticks\": \"\"}, \"colorscale\": [[0.0, \"#0d0887\"], [0.1111111111111111, \"#46039f\"], [0.2222222222222222, \"#7201a8\"], [0.3333333333333333, \"#9c179e\"], [0.4444444444444444, \"#bd3786\"], [0.5555555555555556, \"#d8576b\"], [0.6666666666666666, \"#ed7953\"], [0.7777777777777778, \"#fb9f3a\"], [0.8888888888888888, \"#fdca26\"], [1.0, \"#f0f921\"]], \"type\": \"histogram2dcontour\"}], \"mesh3d\": [{\"colorbar\": {\"outlinewidth\": 0, \"ticks\": \"\"}, \"type\": \"mesh3d\"}], \"parcoords\": [{\"line\": {\"colorbar\": {\"outlinewidth\": 0, \"ticks\": \"\"}}, \"type\": \"parcoords\"}], \"pie\": [{\"automargin\": true, \"type\": \"pie\"}], \"scatter\": [{\"marker\": {\"colorbar\": {\"outlinewidth\": 0, \"ticks\": \"\"}}, \"type\": \"scatter\"}], \"scatter3d\": [{\"line\": {\"colorbar\": {\"outlinewidth\": 0, \"ticks\": \"\"}}, \"marker\": {\"colorbar\": {\"outlinewidth\": 0, \"ticks\": \"\"}}, \"type\": \"scatter3d\"}], \"scattercarpet\": [{\"marker\": {\"colorbar\": {\"outlinewidth\": 0, \"ticks\": \"\"}}, \"type\": \"scattercarpet\"}], \"scattergeo\": [{\"marker\": {\"colorbar\": {\"outlinewidth\": 0, \"ticks\": \"\"}}, \"type\": \"scattergeo\"}], \"scattergl\": [{\"marker\": {\"colorbar\": {\"outlinewidth\": 0, \"ticks\": \"\"}}, \"type\": \"scattergl\"}], \"scattermapbox\": [{\"marker\": {\"colorbar\": {\"outlinewidth\": 0, \"ticks\": \"\"}}, \"type\": \"scattermapbox\"}], \"scatterpolar\": [{\"marker\": {\"colorbar\": {\"outlinewidth\": 0, \"ticks\": \"\"}}, \"type\": \"scatterpolar\"}], \"scatterpolargl\": [{\"marker\": {\"colorbar\": {\"outlinewidth\": 0, \"ticks\": \"\"}}, \"type\": \"scatterpolargl\"}], \"scatterternary\": [{\"marker\": {\"colorbar\": {\"outlinewidth\": 0, \"ticks\": \"\"}}, \"type\": \"scatterternary\"}], \"surface\": [{\"colorbar\": {\"outlinewidth\": 0, \"ticks\": \"\"}, \"colorscale\": [[0.0, \"#0d0887\"], [0.1111111111111111, \"#46039f\"], [0.2222222222222222, \"#7201a8\"], [0.3333333333333333, \"#9c179e\"], [0.4444444444444444, \"#bd3786\"], [0.5555555555555556, \"#d8576b\"], [0.6666666666666666, \"#ed7953\"], [0.7777777777777778, \"#fb9f3a\"], [0.8888888888888888, \"#fdca26\"], [1.0, \"#f0f921\"]], \"type\": \"surface\"}], \"table\": [{\"cells\": {\"fill\": {\"color\": \"#EBF0F8\"}, \"line\": {\"color\": \"white\"}}, \"header\": {\"fill\": {\"color\": \"#C8D4E3\"}, \"line\": {\"color\": \"white\"}}, \"type\": \"table\"}]}, \"layout\": {\"annotationdefaults\": {\"arrowcolor\": \"#2a3f5f\", \"arrowhead\": 0, \"arrowwidth\": 1}, \"autotypenumbers\": \"strict\", \"coloraxis\": {\"colorbar\": {\"outlinewidth\": 0, \"ticks\": \"\"}}, \"colorscale\": {\"diverging\": [[0, \"#8e0152\"], [0.1, \"#c51b7d\"], [0.2, \"#de77ae\"], [0.3, \"#f1b6da\"], [0.4, \"#fde0ef\"], [0.5, \"#f7f7f7\"], [0.6, \"#e6f5d0\"], [0.7, \"#b8e186\"], [0.8, \"#7fbc41\"], [0.9, \"#4d9221\"], [1, \"#276419\"]], \"sequential\": [[0.0, \"#0d0887\"], [0.1111111111111111, \"#46039f\"], [0.2222222222222222, \"#7201a8\"], [0.3333333333333333, \"#9c179e\"], [0.4444444444444444, \"#bd3786\"], [0.5555555555555556, \"#d8576b\"], [0.6666666666666666, \"#ed7953\"], [0.7777777777777778, \"#fb9f3a\"], [0.8888888888888888, \"#fdca26\"], [1.0, \"#f0f921\"]], \"sequentialminus\": [[0.0, \"#0d0887\"], [0.1111111111111111, \"#46039f\"], [0.2222222222222222, \"#7201a8\"], [0.3333333333333333, \"#9c179e\"], [0.4444444444444444, \"#bd3786\"], [0.5555555555555556, \"#d8576b\"], [0.6666666666666666, \"#ed7953\"], [0.7777777777777778, \"#fb9f3a\"], [0.8888888888888888, \"#fdca26\"], [1.0, \"#f0f921\"]]}, \"colorway\": [\"#636efa\", \"#EF553B\", \"#00cc96\", \"#ab63fa\", \"#FFA15A\", \"#19d3f3\", \"#FF6692\", \"#B6E880\", \"#FF97FF\", \"#FECB52\"], \"font\": {\"color\": \"#2a3f5f\"}, \"geo\": {\"bgcolor\": \"white\", \"lakecolor\": \"white\", \"landcolor\": \"#E5ECF6\", \"showlakes\": true, \"showland\": true, \"subunitcolor\": \"white\"}, \"hoverlabel\": {\"align\": \"left\"}, \"hovermode\": \"closest\", \"mapbox\": {\"style\": \"light\"}, \"paper_bgcolor\": \"white\", \"plot_bgcolor\": \"#E5ECF6\", \"polar\": {\"angularaxis\": {\"gridcolor\": \"white\", \"linecolor\": \"white\", \"ticks\": \"\"}, \"bgcolor\": \"#E5ECF6\", \"radialaxis\": {\"gridcolor\": \"white\", \"linecolor\": \"white\", \"ticks\": \"\"}}, \"scene\": {\"xaxis\": {\"backgroundcolor\": \"#E5ECF6\", \"gridcolor\": \"white\", \"gridwidth\": 2, \"linecolor\": \"white\", \"showbackground\": true, \"ticks\": \"\", \"zerolinecolor\": \"white\"}, \"yaxis\": {\"backgroundcolor\": \"#E5ECF6\", \"gridcolor\": \"white\", \"gridwidth\": 2, \"linecolor\": \"white\", \"showbackground\": true, \"ticks\": \"\", \"zerolinecolor\": \"white\"}, \"zaxis\": {\"backgroundcolor\": \"#E5ECF6\", \"gridcolor\": \"white\", \"gridwidth\": 2, \"linecolor\": \"white\", \"showbackground\": true, \"ticks\": \"\", \"zerolinecolor\": \"white\"}}, \"shapedefaults\": {\"line\": {\"color\": \"#2a3f5f\"}}, \"ternary\": {\"aaxis\": {\"gridcolor\": \"white\", \"linecolor\": \"white\", \"ticks\": \"\"}, \"baxis\": {\"gridcolor\": \"white\", \"linecolor\": \"white\", \"ticks\": \"\"}, \"bgcolor\": \"#E5ECF6\", \"caxis\": {\"gridcolor\": \"white\", \"linecolor\": \"white\", \"ticks\": \"\"}}, \"title\": {\"x\": 0.05}, \"xaxis\": {\"automargin\": true, \"gridcolor\": \"white\", \"linecolor\": \"white\", \"ticks\": \"\", \"title\": {\"standoff\": 15}, \"zerolinecolor\": \"white\", \"zerolinewidth\": 2}, \"yaxis\": {\"automargin\": true, \"gridcolor\": \"white\", \"linecolor\": \"white\", \"ticks\": \"\", \"title\": {\"standoff\": 15}, \"zerolinecolor\": \"white\", \"zerolinewidth\": 2}}}, \"width\": 1000, \"xaxis\": {\"gridcolor\": \"lightgrey\", \"gridwidth\": 1, \"linecolor\": \"black\", \"linewidth\": 0.7, \"mirror\": true, \"range\": [[0.0, 0.0, 0.0], [1.0, 1.0, 1.0]], \"showline\": true, \"tickfont\": {\"color\": \"black\", \"family\": \"Times New Roman\", \"size\": 20}, \"ticks\": \"outside\", \"title\": {\"font\": {\"color\": \"black\", \"family\": \"Times New Roman\", \"size\": 25}, \"text\": \"x\"}}, \"yaxis\": {\"gridcolor\": \"lightgrey\", \"gridwidth\": 1, \"linecolor\": \"black\", \"linewidth\": 0.7, \"mirror\": true, \"range\": [[0.5088366588143951, 0.5046424168656272, 0.5114564335741214], [1.0001054541926881, 1.000026728370421, 1.000188661733568]], \"showline\": true, \"tickfont\": {\"color\": \"black\", \"family\": \"Times New Roman\", \"size\": 20}, \"ticks\": \"outside\", \"title\": {\"font\": {\"color\": \"black\", \"family\": \"Times New Roman\", \"size\": 25}, \"text\": \"-\"}}},                        {\"responsive\": true}                    ).then(function(){\n",
       "                            \n",
       "var gd = document.getElementById('0cbdcdb6-e468-4732-a8ac-39cd16666da8');\n",
       "var x = new MutationObserver(function (mutations, observer) {{\n",
       "        var display = window.getComputedStyle(gd).display;\n",
       "        if (!display || display === 'none') {{\n",
       "            console.log([gd, 'removed!']);\n",
       "            Plotly.purge(gd);\n",
       "            observer.disconnect();\n",
       "        }}\n",
       "}});\n",
       "\n",
       "// Listen for the removal of the full notebook cells\n",
       "var notebookContainer = gd.closest('#notebook-container');\n",
       "if (notebookContainer) {{\n",
       "    x.observe(notebookContainer, {childList: true});\n",
       "}}\n",
       "\n",
       "// Listen for the clearing of the current output cell\n",
       "var outputEl = gd.closest('.output');\n",
       "if (outputEl) {{\n",
       "    x.observe(outputEl, {childList: true});\n",
       "}}\n",
       "\n",
       "                        })                };                });            </script>        </div>"
      ]
     },
     "metadata": {},
     "output_type": "display_data"
    },
    {
     "name": "stdout",
     "output_type": "stream",
     "text": [
      "Successfully generated: ./fun_lagr.pdf\n"
     ]
    }
   ],
   "source": [
    "list_x, list_y = [], []\n",
    "M =1000\n",
    "x = np.linspace(0, 1, M)\n",
    "list_x.append(x)\n",
    "list_x.append(x)\n",
    "list_x.append(x)\n",
    "\n",
    "\n",
    "lagrange = LagrangePoly(xi_eq, fi_eq)\n",
    "list_y.append(lagrange.interpolate(x))\n",
    "\n",
    "lagrange = LagrangePoly(xi_cheb, fi_cheb)\n",
    "list_y.append(lagrange.interpolate(x))\n",
    "\n",
    "lagrange = LagrangePoly(xi_arc, fi_arc)\n",
    "list_y.append(lagrange.interpolate(x))\n",
    "\n",
    "fn = \"fun_lagr.pdf\"\n",
    "plot_graph(list_x, list_y, names=['equispaced', 'chebushev', 'arcsin'], xtitle='x', ytitle='-', \\\n",
    "            image_name=fn, mode=['markers','markers','markers'],\\\n",
    "#             xrange=[0,4], yrange=[0,0.45],\\\n",
    "#             dash=['solid', 'solid', 'solid', 'dash', 'dash', 'dash', 'dash', 'dash'],\\\n",
    "            colors=['blue', 'red', 'hsv(120,100,100)', 'green', 'indigo', 'aqua', 'goldenrod', 'black', 'pink'],\\\n",
    "            marker_size=10,\\\n",
    "            marker_style = ['circle', 'triangle-up', 'triangle-down','square', 'diamond', 'cross',  'x-thin', 'cross-thin', 'circle', 'triangle-up', 'triangle-down' ],\\\n",
    "            width=1000, height=500, path=\"./\")"
   ]
  },
  {
   "cell_type": "markdown",
   "metadata": {},
   "source": [
    "# Hermite polynomial\n",
    "\n",
    "Unlike Newton interpolation, Hermite interpolation matches an unknown function both in observed value, and the observed value of its first m derivatives. This means that n(m + 1) values\n",
    "\n",
    "${\\begin{matrix}(x_{0},y_{0}),&(x_{1},y_{1}),&\\ldots ,&(x_{{n-1}},y_{{n-1}}),\\\\(x_{0},y_{0}'),&(x_{1},y_{1}'),&\\ldots ,&(x_{{n-1}},y_{{n-1}}'),\\\\\\vdots &\\vdots &&\\vdots \\\\(x_{0},y_{0}^{{(m)}}),&(x_{1},y_{1}^{{(m)}}),&\\ldots ,&(x_{{n-1}},y_{{n-1}}^{{(m)}})\\end{matrix}}$\n",
    "\n",
    "must be known, rather than just the first n values required for Newton interpolation. The resulting polynomial may have degree at most n(m + 1) − 1, whereas the Newton polynomial has maximum degree n − 1."
   ]
  },
  {
   "cell_type": "code",
   "execution_count": 87,
   "metadata": {},
   "outputs": [],
   "source": [
    "class HermitePoly:\n",
    "\n",
    "    def __init__(self, X, Y, dY):\n",
    "        self.n = X.shape[0]\n",
    "        self.X = X\n",
    "        self.Y = Y\n",
    "        self.dY = dY\n",
    "\n",
    "    def basis(self, x, j):\n",
    "        b = [(x - self.X[m]) / (self.X[j] - self.X[m])\n",
    "             for m in range(self.n) if m != j]\n",
    "        return np.prod(b, axis=0)\n",
    "    \n",
    "    def basis_prime(self, x, j):\n",
    "        b = [ 1 / (self.X[j] - self.X[m])\n",
    "             for m in range(self.n) if m != j]\n",
    "        return np.prod(b, axis=0)\n",
    "    \n",
    "    def interpolate(self, x):\n",
    "        X = self.X\n",
    "        Y = self.Y\n",
    "        dY = self.dY\n",
    "        l_i = [self.basis(x,j) for j in range(self.n)]\n",
    "        b = [(1 - 2*(x - X[i])*self.basis_prime(X[i],i))*l_i[i]**2*Y[i]+\n",
    "             (x - X[i])*l_i[i]**2*dY[i] \n",
    "             for i in range(self.n)]\n",
    "        print(len(b), len(b[0])) \n",
    "        return np.sum(b, axis=0)    \n",
    "        "
   ]
  },
  {
   "cell_type": "markdown",
   "metadata": {},
   "source": [
    "# Hermite"
   ]
  },
  {
   "cell_type": "code",
   "execution_count": 88,
   "metadata": {},
   "outputs": [
    {
     "name": "stdout",
     "output_type": "stream",
     "text": [
      "5 100\n",
      "5 100\n",
      "5 100\n",
      "curve number 0\n",
      "curve number 1\n",
      "curve number 2\n",
      "curve number 3\n"
     ]
    },
    {
     "data": {
      "application/vnd.plotly.v1+json": {
       "config": {
        "plotlyServerURL": "https://plot.ly"
       },
       "data": [
        {
         "line": {
          "color": "blue",
          "dash": "solid",
          "width": 2
         },
         "marker": {
          "line": {
           "color": "blue",
           "width": 1
          },
          "size": 10,
          "symbol": "circle"
         },
         "mode": "lines",
         "name": "analytical",
         "textfont": {
          "color": "LightSeaGreen",
          "family": "Times New Roman",
          "size": 18
         },
         "type": "scatter",
         "x": [
          0,
          0.010101010101010102,
          0.020202020202020204,
          0.030303030303030304,
          0.04040404040404041,
          0.05050505050505051,
          0.06060606060606061,
          0.07070707070707072,
          0.08080808080808081,
          0.09090909090909091,
          0.10101010101010102,
          0.11111111111111112,
          0.12121212121212122,
          0.13131313131313133,
          0.14141414141414144,
          0.15151515151515152,
          0.16161616161616163,
          0.17171717171717174,
          0.18181818181818182,
          0.19191919191919193,
          0.20202020202020204,
          0.21212121212121213,
          0.22222222222222224,
          0.23232323232323235,
          0.24242424242424243,
          0.25252525252525254,
          0.26262626262626265,
          0.27272727272727276,
          0.2828282828282829,
          0.29292929292929293,
          0.30303030303030304,
          0.31313131313131315,
          0.32323232323232326,
          0.33333333333333337,
          0.3434343434343435,
          0.3535353535353536,
          0.36363636363636365,
          0.37373737373737376,
          0.38383838383838387,
          0.393939393939394,
          0.4040404040404041,
          0.4141414141414142,
          0.42424242424242425,
          0.43434343434343436,
          0.4444444444444445,
          0.4545454545454546,
          0.4646464646464647,
          0.4747474747474748,
          0.48484848484848486,
          0.494949494949495,
          0.5050505050505051,
          0.5151515151515152,
          0.5252525252525253,
          0.5353535353535354,
          0.5454545454545455,
          0.5555555555555556,
          0.5656565656565657,
          0.5757575757575758,
          0.5858585858585859,
          0.595959595959596,
          0.6060606060606061,
          0.6161616161616162,
          0.6262626262626263,
          0.6363636363636365,
          0.6464646464646465,
          0.6565656565656566,
          0.6666666666666667,
          0.6767676767676768,
          0.686868686868687,
          0.696969696969697,
          0.7070707070707072,
          0.7171717171717172,
          0.7272727272727273,
          0.7373737373737375,
          0.7474747474747475,
          0.7575757575757577,
          0.7676767676767677,
          0.7777777777777778,
          0.787878787878788,
          0.797979797979798,
          0.8080808080808082,
          0.8181818181818182,
          0.8282828282828284,
          0.8383838383838385,
          0.8484848484848485,
          0.8585858585858587,
          0.8686868686868687,
          0.8787878787878789,
          0.888888888888889,
          0.8989898989898991,
          0.9090909090909092,
          0.9191919191919192,
          0.9292929292929294,
          0.9393939393939394,
          0.9494949494949496,
          0.9595959595959597,
          0.9696969696969697,
          0.9797979797979799,
          0.98989898989899,
          1
         ],
         "y": [
          1,
          0.9998979800040808,
          0.9995920448750638,
          0.9990825688073394,
          0.9983701741876336,
          0.9974557296967229,
          0.9963403476669717,
          0.99502538071066,
          0.9935124176381146,
          0.9918032786885246,
          0.9899000100999898,
          0.9878048780487805,
          0.9855203619909502,
          0.9830491474423271,
          0.9803941182354706,
          0.9775583482944344,
          0.9745450929700705,
          0.9713577799801785,
          0.9680000000000001,
          0.9644754969494193,
          0.9607881580237232,
          0.9569420035149384,
          0.9529411764705883,
          0.9487899322362052,
          0.9444926279271465,
          0.9400537118741608,
          0.9354777130858071,
          0.9307692307692308,
          0.9259329239489844,
          0.920973501221575,
          0.9158957106812448,
          0.9107043300501766,
          0.9054041570438798,
          0.8999999999999999,
          0.8944966687962033,
          0.888898966080174,
          0.8832116788321168,
          0.8774395702775292,
          0.8715873721654068,
          0.8656597774244833,
          0.8596614332076133,
          0.8535969343319979,
          0.8474708171206226,
          0.8412875536480686,
          0.8350515463917526,
          0.8287671232876712,
          0.8224385331878828,
          0.8160699417152372,
          0.8096654275092936,
          0.8032289788559253,
          0.7967644906918138,
          0.7902757619738752,
          0.7837664934026389,
          0.7772402854877082,
          0.7707006369426751,
          0.7641509433962264,
          0.757594496405658,
          0.7510344827586206,
          0.7444739840486138,
          0.7379159765095618,
          0.7313633310946944,
          0.724818813784943,
          0.7182850861121289,
          0.7117647058823529,
          0.7052601280851982,
          0.6987737059746185,
          0.6923076923076922,
          0.6858642407277816,
          0.6794454072790294,
          0.673053152039555,
          0.6666893408611658,
          0.6603557472038808,
          0.654054054054054,
          0.6477858559153998,
          0.6415526608627348,
          0.6353558926487747,
          0.62919689285485,
          0.6230769230769231,
          0.6169971671388101,
          0.6109587333250218,
          0.6049626566261341,
          0.599009900990099,
          0.5931013615733736,
          0.5872378669862193,
          0.5814201815269621,
          0.5756490074004463,
          0.5699249869163225,
          0.5642487046632124,
          0.5586206896551724,
          0.5530414174472406,
          0.5475113122171945,
          0.5420307488109722,
          0.5366000547495209,
          0.531219512195122,
          0.5258893598755164,
          0.5206097949644108,
          0.5153809749171794,
          0.5102030192608016,
          0.5050760113372842,
          0.5
         ]
        },
        {
         "line": {
          "color": "red",
          "dash": "dot",
          "width": 2
         },
         "marker": {
          "line": {
           "color": "red",
           "width": 1
          },
          "size": 10,
          "symbol": "triangle-up"
         },
         "mode": "markers",
         "name": "equispaced",
         "textfont": {
          "color": "LightSeaGreen",
          "family": "Times New Roman",
          "size": 18
         },
         "type": "scatter",
         "x": [
          0,
          0.010101010101010102,
          0.020202020202020204,
          0.030303030303030304,
          0.04040404040404041,
          0.05050505050505051,
          0.06060606060606061,
          0.07070707070707072,
          0.08080808080808081,
          0.09090909090909091,
          0.10101010101010102,
          0.11111111111111112,
          0.12121212121212122,
          0.13131313131313133,
          0.14141414141414144,
          0.15151515151515152,
          0.16161616161616163,
          0.17171717171717174,
          0.18181818181818182,
          0.19191919191919193,
          0.20202020202020204,
          0.21212121212121213,
          0.22222222222222224,
          0.23232323232323235,
          0.24242424242424243,
          0.25252525252525254,
          0.26262626262626265,
          0.27272727272727276,
          0.2828282828282829,
          0.29292929292929293,
          0.30303030303030304,
          0.31313131313131315,
          0.32323232323232326,
          0.33333333333333337,
          0.3434343434343435,
          0.3535353535353536,
          0.36363636363636365,
          0.37373737373737376,
          0.38383838383838387,
          0.393939393939394,
          0.4040404040404041,
          0.4141414141414142,
          0.42424242424242425,
          0.43434343434343436,
          0.4444444444444445,
          0.4545454545454546,
          0.4646464646464647,
          0.4747474747474748,
          0.48484848484848486,
          0.494949494949495,
          0.5050505050505051,
          0.5151515151515152,
          0.5252525252525253,
          0.5353535353535354,
          0.5454545454545455,
          0.5555555555555556,
          0.5656565656565657,
          0.5757575757575758,
          0.5858585858585859,
          0.595959595959596,
          0.6060606060606061,
          0.6161616161616162,
          0.6262626262626263,
          0.6363636363636365,
          0.6464646464646465,
          0.6565656565656566,
          0.6666666666666667,
          0.6767676767676768,
          0.686868686868687,
          0.696969696969697,
          0.7070707070707072,
          0.7171717171717172,
          0.7272727272727273,
          0.7373737373737375,
          0.7474747474747475,
          0.7575757575757577,
          0.7676767676767677,
          0.7777777777777778,
          0.787878787878788,
          0.797979797979798,
          0.8080808080808082,
          0.8181818181818182,
          0.8282828282828284,
          0.8383838383838385,
          0.8484848484848485,
          0.8585858585858587,
          0.8686868686868687,
          0.8787878787878789,
          0.888888888888889,
          0.8989898989898991,
          0.9090909090909092,
          0.9191919191919192,
          0.9292929292929294,
          0.9393939393939394,
          0.9494949494949496,
          0.9595959595959597,
          0.9696969696969697,
          0.9797979797979799,
          0.98989898989899,
          1
         ],
         "y": [
          1,
          0.7655952317662822,
          1.1158864731245421,
          1.585981828922466,
          1.8915888581963687,
          1.8866043099899394,
          1.5272131691751614,
          0.8418434823814278,
          -0.09363687780694027,
          -1.1760567859993556,
          -2.2909496057101437,
          -3.3249336082793937,
          -4.174931376908941,
          -4.75466042480537,
          -4.998794299337083,
          -4.865161608854517,
          -4.335319695394228,
          -3.4138100848858888,
          -2.126374376708355,
          -0.5173818864965478,
          1.3533058700166636,
          3.413833868627436,
          5.584039442721747,
          7.779172183367116,
          9.913516471837257,
          11.903805859947553,
          13.672338008727943,
          15.149717269279604,
          16.27716924115441,
          17.008387773259564,
          17.31088988012617,
          17.1668679323883,
          16.573541244498525,
          15.543020825058006,
          14.101711575662488,
          12.289285622860993,
          10.157268744691896,
          7.767289008299495,
          5.189042768346406,
          2.4980380873194226,
          -0.2268205716179765,
          -2.9057398608465763,
          -5.460569209306932,
          -7.817288139959946,
          -9.908381453099928,
          -11.675036304513618,
          -13.069098148891442,
          -14.054726582139265,
          -14.60969730130848,
          -14.726302707759942,
          -14.411811107903143,
          -13.688453016406067,
          -12.592912739152906,
          -11.175314207437191,
          -9.497701950915888,
          -7.632031134716621,
          -5.657694745783774,
          -3.658631295072947,
          -1.7200728055522567,
          0.07498961885095663,
          1.6495267012136892,
          2.936262665511796,
          3.881401074802726,
          4.4481262195636395,
          4.619698307732051,
          4.401936451849905,
          3.8248580707359348,
          2.9432168233082523,
          1.8356535705478647,
          0.6021461181336865,
          -0.6405863730074162,
          -1.766099408107904,
          -2.64806682074038,
          -3.173392515359831,
          -3.2590650823953693,
          -2.8732655525073874,
          -2.0612751528822053,
          -0.9767676465206743,
          0.08089032461078449,
          0.6226675099574748,
          -0.08147953189521057,
          -3.06207653971665,
          -9.718514179147864,
          -21.89717764309133,
          -41.98020324170701,
          -72.98578869345577,
          -118.68103164316545,
          -183.70831986947,
          -273.7263467021473,
          -395.5668763499308,
          -557.408436141172,
          -768.96816610348,
          -1041.7131108539006,
          -1389.0922944385334,
          -1826.7909755497608,
          -2373.0085384600543,
          -3048.7615340443217,
          -3878.2134454173383,
          -4889.032813989208,
          -6112.781424140243
         ]
        },
        {
         "line": {
          "color": "hsv(120,100,100)",
          "dash": "dash",
          "width": 2
         },
         "marker": {
          "line": {
           "color": "hsv(120,100,100)",
           "width": 1
          },
          "size": 10,
          "symbol": "triangle-down"
         },
         "mode": "markers",
         "name": "chebushev",
         "textfont": {
          "color": "LightSeaGreen",
          "family": "Times New Roman",
          "size": 18
         },
         "type": "scatter",
         "x": [
          0,
          0.010101010101010102,
          0.020202020202020204,
          0.030303030303030304,
          0.04040404040404041,
          0.05050505050505051,
          0.06060606060606061,
          0.07070707070707072,
          0.08080808080808081,
          0.09090909090909091,
          0.10101010101010102,
          0.11111111111111112,
          0.12121212121212122,
          0.13131313131313133,
          0.14141414141414144,
          0.15151515151515152,
          0.16161616161616163,
          0.17171717171717174,
          0.18181818181818182,
          0.19191919191919193,
          0.20202020202020204,
          0.21212121212121213,
          0.22222222222222224,
          0.23232323232323235,
          0.24242424242424243,
          0.25252525252525254,
          0.26262626262626265,
          0.27272727272727276,
          0.2828282828282829,
          0.29292929292929293,
          0.30303030303030304,
          0.31313131313131315,
          0.32323232323232326,
          0.33333333333333337,
          0.3434343434343435,
          0.3535353535353536,
          0.36363636363636365,
          0.37373737373737376,
          0.38383838383838387,
          0.393939393939394,
          0.4040404040404041,
          0.4141414141414142,
          0.42424242424242425,
          0.43434343434343436,
          0.4444444444444445,
          0.4545454545454546,
          0.4646464646464647,
          0.4747474747474748,
          0.48484848484848486,
          0.494949494949495,
          0.5050505050505051,
          0.5151515151515152,
          0.5252525252525253,
          0.5353535353535354,
          0.5454545454545455,
          0.5555555555555556,
          0.5656565656565657,
          0.5757575757575758,
          0.5858585858585859,
          0.595959595959596,
          0.6060606060606061,
          0.6161616161616162,
          0.6262626262626263,
          0.6363636363636365,
          0.6464646464646465,
          0.6565656565656566,
          0.6666666666666667,
          0.6767676767676768,
          0.686868686868687,
          0.696969696969697,
          0.7070707070707072,
          0.7171717171717172,
          0.7272727272727273,
          0.7373737373737375,
          0.7474747474747475,
          0.7575757575757577,
          0.7676767676767677,
          0.7777777777777778,
          0.787878787878788,
          0.797979797979798,
          0.8080808080808082,
          0.8181818181818182,
          0.8282828282828284,
          0.8383838383838385,
          0.8484848484848485,
          0.8585858585858587,
          0.8686868686868687,
          0.8787878787878789,
          0.888888888888889,
          0.8989898989898991,
          0.9090909090909092,
          0.9191919191919192,
          0.9292929292929294,
          0.9393939393939394,
          0.9494949494949496,
          0.9595959595959597,
          0.9696969696969697,
          0.9797979797979799,
          0.98989898989899,
          1
         ],
         "y": [
          1,
          -0.4605256736874557,
          -1.897177912599669,
          -3.0533746458709956,
          -3.7716038726304584,
          -3.9729312759275683,
          -3.6392503517259507,
          -2.7980333031889693,
          -1.5093539424099598,
          0.14503349314455247,
          2.0707633639077483,
          4.168267234141311,
          6.338702118783644,
          8.488567071617734,
          10.533165784108986,
          12.399062160026352,
          14.025665453536105,
          15.366071507847247,
          16.3872769076894,
          17.06987346192014,
          17.40732136238672,
          17.404890621809415,
          17.078351976908202,
          16.452490353262355,
          15.559506225474259,
          14.437362770101693,
          13.128129599531643,
          11.676367082487616,
          10.127588801196978,
          8.526833566391044,
          6.917372609270187,
          5.339572094339594,
          3.829925948606666,
          2.4202691810305077,
          1.1371773713259927,
          0.001553839250124162,
          -0.9715978356631129,
          -1.7732217883018022,
          -2.400087368026692,
          -2.8545080572134465,
          -3.1439162348356646,
          -3.280310418733896,
          -3.2795935004988377,
          -3.160822040366693,
          -2.9453879161814815,
          -2.656154520322474,
          -2.3165702715258063,
          -1.9497824547462588,
          -1.577774321609878,
          -1.2205479765989098,
          -0.8953748398889928,
          -0.6161344167230793,
          -0.3927607153585198,
          -0.23081394096271762,
          -0.13119305135801956,
          -0.09000239222923141,
          -0.09858293430625431,
          -0.14371561312113798,
          -0.20800092321141414,
          -0.2704152431019837,
          -0.3070403650447172,
          -0.29195837432868543,
          -0.19829936699469072,
          0.0005754880045800318,
          0.3297783457630296,
          0.8115149814810881,
          1.4636553888416581,
          2.29829537396144,
          3.32035645503508,
          4.52627832146038,
          5.90286537671737,
          7.426356486570772,
          9.06179497827653,
          10.762784187395786,
          12.471722426556722,
          14.12062015505478,
          15.6326113595434,
          16.924280714245093,
          17.90893797409992,
          18.500981266072014,
          18.621501482449695,
          18.20529084540202,
          17.20942990429839,
          15.623638746350105,
          13.48259004700173,
          10.880393759181162,
          7.987475740010338,
          5.070085439886083,
          2.51268093196133,
          0.8434530399887141,
          0.7632641292368,
          3.1782912587470427,
          9.236677853573566,
          20.369512842832105,
          38.336471323385574,
          65.27646624980167,
          103.76367641884937,
          156.86933211123224,
          228.2296561745096,
          322.1203750792305
         ]
        },
        {
         "line": {
          "color": "green",
          "dash": "longdash",
          "width": 2
         },
         "marker": {
          "line": {
           "color": "green",
           "width": 1
          },
          "size": 10,
          "symbol": "square"
         },
         "mode": "markers",
         "name": "arcsin",
         "textfont": {
          "color": "LightSeaGreen",
          "family": "Times New Roman",
          "size": 18
         },
         "type": "scatter",
         "x": [
          0,
          0.010101010101010102,
          0.020202020202020204,
          0.030303030303030304,
          0.04040404040404041,
          0.05050505050505051,
          0.06060606060606061,
          0.07070707070707072,
          0.08080808080808081,
          0.09090909090909091,
          0.10101010101010102,
          0.11111111111111112,
          0.12121212121212122,
          0.13131313131313133,
          0.14141414141414144,
          0.15151515151515152,
          0.16161616161616163,
          0.17171717171717174,
          0.18181818181818182,
          0.19191919191919193,
          0.20202020202020204,
          0.21212121212121213,
          0.22222222222222224,
          0.23232323232323235,
          0.24242424242424243,
          0.25252525252525254,
          0.26262626262626265,
          0.27272727272727276,
          0.2828282828282829,
          0.29292929292929293,
          0.30303030303030304,
          0.31313131313131315,
          0.32323232323232326,
          0.33333333333333337,
          0.3434343434343435,
          0.3535353535353536,
          0.36363636363636365,
          0.37373737373737376,
          0.38383838383838387,
          0.393939393939394,
          0.4040404040404041,
          0.4141414141414142,
          0.42424242424242425,
          0.43434343434343436,
          0.4444444444444445,
          0.4545454545454546,
          0.4646464646464647,
          0.4747474747474748,
          0.48484848484848486,
          0.494949494949495,
          0.5050505050505051,
          0.5151515151515152,
          0.5252525252525253,
          0.5353535353535354,
          0.5454545454545455,
          0.5555555555555556,
          0.5656565656565657,
          0.5757575757575758,
          0.5858585858585859,
          0.595959595959596,
          0.6060606060606061,
          0.6161616161616162,
          0.6262626262626263,
          0.6363636363636365,
          0.6464646464646465,
          0.6565656565656566,
          0.6666666666666667,
          0.6767676767676768,
          0.686868686868687,
          0.696969696969697,
          0.7070707070707072,
          0.7171717171717172,
          0.7272727272727273,
          0.7373737373737375,
          0.7474747474747475,
          0.7575757575757577,
          0.7676767676767677,
          0.7777777777777778,
          0.787878787878788,
          0.797979797979798,
          0.8080808080808082,
          0.8181818181818182,
          0.8282828282828284,
          0.8383838383838385,
          0.8484848484848485,
          0.8585858585858587,
          0.8686868686868687,
          0.8787878787878789,
          0.888888888888889,
          0.8989898989898991,
          0.9090909090909092,
          0.9191919191919192,
          0.9292929292929294,
          0.9393939393939394,
          0.9494949494949496,
          0.9595959595959597,
          0.9696969696969697,
          0.9797979797979799,
          0.98989898989899,
          1
         ],
         "y": [
          1,
          49.55296597881563,
          166.93209107846727,
          317.46633210963944,
          475.18091280765026,
          622.0103562504377,
          746.2457788088145,
          841.195104996468,
          904.036091624241,
          934.8432446392062,
          935.7708729441218,
          910.3756503467544,
          863.0631495815887,
          798.6438710783139,
          721.9853138224718,
          637.7476262634682,
          550.191331774088,
          463.0465456534904,
          379.43398909247395,
          301.82895988566145,
          232.06023997999824,
          171.33670619277484,
          120.29516261510732,
          79.06363133855062,
          47.33502220323796,
          24.4467522656142,
          9.462501622516088,
          1.2528741059895518,
          -1.4277208201318166,
          0.12986512474197223,
          4.652813292532403,
          10.940748845455175,
          17.910434966697245,
          24.630295041658687,
          30.34465075911333,
          34.487873471124736,
          36.68892147901627,
          36.76697718013458,
          34.71910521656651,
          30.70102591236963,
          25.002237370254125,
          18.016824622013445,
          10.21136518933733,
          2.0913773129578104,
          -5.83224005162448,
          -13.075357594313086,
          -19.210003770710752,
          -23.889737429527187,
          -26.86988509787709,
          -28.021690540053726,
          -27.339625731191795,
          -24.94134797408311,
          -21.060057535278524,
          -16.02931388550014,
          -10.260706399300028,
          -4.215147199833992,
          1.6310402734291902,
          6.8236234432660146,
          10.969465974735908,
          13.774440736891352,
          15.077112590319706,
          14.87447704761876,
          13.335430595828615,
          10.797004150747247,
          7.737712732934672,
          4.721662014073004,
          2.3063058801884524,
          0.9059685950593026,
          0.6024305229323599,
          0.8930276844476968,
          0.365832673427039,
          -3.7094323450824143,
          -15.887050703402677,
          -43.160819443658134,
          -95.70371474157137,
          -187.74707166050078,
          -338.6157224669496,
          -573.9366589122016,
          -927.039939119091,
          -1440.5717490083887,
          -2168.340751555781,
          -3177.4201145876987,
          -4550.528899303074,
          -6388.717817247199,
          -8814.385723064894,
          -11974.65460402121,
          -16045.132255000772,
          -21234.093289480865,
          -27787.11063281643,
          -35992.1711740838,
          -46185.31081669205,
          -58756.80576600429,
          -74157.9585242943,
          -92908.51872951699,
          -115604.78067458344,
          -142928.40107809374,
          -175655.98244583284,
          -214669.46916470162,
          -260967.40530723313,
          -315677.10499535885
         ]
        }
       ],
       "layout": {
        "autosize": false,
        "height": 500,
        "legend": {
         "bgcolor": "White",
         "bordercolor": "Black",
         "borderwidth": 0.7
        },
        "margin": {
         "b": 0,
         "l": 0,
         "pad": 0.1,
         "r": 0,
         "t": 0
        },
        "paper_bgcolor": "rgba(255, 255, 255, 1)",
        "plot_bgcolor": "rgba(255, 255, 255, 1)",
        "showlegend": true,
        "template": {
         "data": {
          "bar": [
           {
            "error_x": {
             "color": "#2a3f5f"
            },
            "error_y": {
             "color": "#2a3f5f"
            },
            "marker": {
             "line": {
              "color": "#E5ECF6",
              "width": 0.5
             }
            },
            "type": "bar"
           }
          ],
          "barpolar": [
           {
            "marker": {
             "line": {
              "color": "#E5ECF6",
              "width": 0.5
             }
            },
            "type": "barpolar"
           }
          ],
          "carpet": [
           {
            "aaxis": {
             "endlinecolor": "#2a3f5f",
             "gridcolor": "white",
             "linecolor": "white",
             "minorgridcolor": "white",
             "startlinecolor": "#2a3f5f"
            },
            "baxis": {
             "endlinecolor": "#2a3f5f",
             "gridcolor": "white",
             "linecolor": "white",
             "minorgridcolor": "white",
             "startlinecolor": "#2a3f5f"
            },
            "type": "carpet"
           }
          ],
          "choropleth": [
           {
            "colorbar": {
             "outlinewidth": 0,
             "ticks": ""
            },
            "type": "choropleth"
           }
          ],
          "contour": [
           {
            "colorbar": {
             "outlinewidth": 0,
             "ticks": ""
            },
            "colorscale": [
             [
              0,
              "#0d0887"
             ],
             [
              0.1111111111111111,
              "#46039f"
             ],
             [
              0.2222222222222222,
              "#7201a8"
             ],
             [
              0.3333333333333333,
              "#9c179e"
             ],
             [
              0.4444444444444444,
              "#bd3786"
             ],
             [
              0.5555555555555556,
              "#d8576b"
             ],
             [
              0.6666666666666666,
              "#ed7953"
             ],
             [
              0.7777777777777778,
              "#fb9f3a"
             ],
             [
              0.8888888888888888,
              "#fdca26"
             ],
             [
              1,
              "#f0f921"
             ]
            ],
            "type": "contour"
           }
          ],
          "contourcarpet": [
           {
            "colorbar": {
             "outlinewidth": 0,
             "ticks": ""
            },
            "type": "contourcarpet"
           }
          ],
          "heatmap": [
           {
            "colorbar": {
             "outlinewidth": 0,
             "ticks": ""
            },
            "colorscale": [
             [
              0,
              "#0d0887"
             ],
             [
              0.1111111111111111,
              "#46039f"
             ],
             [
              0.2222222222222222,
              "#7201a8"
             ],
             [
              0.3333333333333333,
              "#9c179e"
             ],
             [
              0.4444444444444444,
              "#bd3786"
             ],
             [
              0.5555555555555556,
              "#d8576b"
             ],
             [
              0.6666666666666666,
              "#ed7953"
             ],
             [
              0.7777777777777778,
              "#fb9f3a"
             ],
             [
              0.8888888888888888,
              "#fdca26"
             ],
             [
              1,
              "#f0f921"
             ]
            ],
            "type": "heatmap"
           }
          ],
          "heatmapgl": [
           {
            "colorbar": {
             "outlinewidth": 0,
             "ticks": ""
            },
            "colorscale": [
             [
              0,
              "#0d0887"
             ],
             [
              0.1111111111111111,
              "#46039f"
             ],
             [
              0.2222222222222222,
              "#7201a8"
             ],
             [
              0.3333333333333333,
              "#9c179e"
             ],
             [
              0.4444444444444444,
              "#bd3786"
             ],
             [
              0.5555555555555556,
              "#d8576b"
             ],
             [
              0.6666666666666666,
              "#ed7953"
             ],
             [
              0.7777777777777778,
              "#fb9f3a"
             ],
             [
              0.8888888888888888,
              "#fdca26"
             ],
             [
              1,
              "#f0f921"
             ]
            ],
            "type": "heatmapgl"
           }
          ],
          "histogram": [
           {
            "marker": {
             "colorbar": {
              "outlinewidth": 0,
              "ticks": ""
             }
            },
            "type": "histogram"
           }
          ],
          "histogram2d": [
           {
            "colorbar": {
             "outlinewidth": 0,
             "ticks": ""
            },
            "colorscale": [
             [
              0,
              "#0d0887"
             ],
             [
              0.1111111111111111,
              "#46039f"
             ],
             [
              0.2222222222222222,
              "#7201a8"
             ],
             [
              0.3333333333333333,
              "#9c179e"
             ],
             [
              0.4444444444444444,
              "#bd3786"
             ],
             [
              0.5555555555555556,
              "#d8576b"
             ],
             [
              0.6666666666666666,
              "#ed7953"
             ],
             [
              0.7777777777777778,
              "#fb9f3a"
             ],
             [
              0.8888888888888888,
              "#fdca26"
             ],
             [
              1,
              "#f0f921"
             ]
            ],
            "type": "histogram2d"
           }
          ],
          "histogram2dcontour": [
           {
            "colorbar": {
             "outlinewidth": 0,
             "ticks": ""
            },
            "colorscale": [
             [
              0,
              "#0d0887"
             ],
             [
              0.1111111111111111,
              "#46039f"
             ],
             [
              0.2222222222222222,
              "#7201a8"
             ],
             [
              0.3333333333333333,
              "#9c179e"
             ],
             [
              0.4444444444444444,
              "#bd3786"
             ],
             [
              0.5555555555555556,
              "#d8576b"
             ],
             [
              0.6666666666666666,
              "#ed7953"
             ],
             [
              0.7777777777777778,
              "#fb9f3a"
             ],
             [
              0.8888888888888888,
              "#fdca26"
             ],
             [
              1,
              "#f0f921"
             ]
            ],
            "type": "histogram2dcontour"
           }
          ],
          "mesh3d": [
           {
            "colorbar": {
             "outlinewidth": 0,
             "ticks": ""
            },
            "type": "mesh3d"
           }
          ],
          "parcoords": [
           {
            "line": {
             "colorbar": {
              "outlinewidth": 0,
              "ticks": ""
             }
            },
            "type": "parcoords"
           }
          ],
          "pie": [
           {
            "automargin": true,
            "type": "pie"
           }
          ],
          "scatter": [
           {
            "marker": {
             "colorbar": {
              "outlinewidth": 0,
              "ticks": ""
             }
            },
            "type": "scatter"
           }
          ],
          "scatter3d": [
           {
            "line": {
             "colorbar": {
              "outlinewidth": 0,
              "ticks": ""
             }
            },
            "marker": {
             "colorbar": {
              "outlinewidth": 0,
              "ticks": ""
             }
            },
            "type": "scatter3d"
           }
          ],
          "scattercarpet": [
           {
            "marker": {
             "colorbar": {
              "outlinewidth": 0,
              "ticks": ""
             }
            },
            "type": "scattercarpet"
           }
          ],
          "scattergeo": [
           {
            "marker": {
             "colorbar": {
              "outlinewidth": 0,
              "ticks": ""
             }
            },
            "type": "scattergeo"
           }
          ],
          "scattergl": [
           {
            "marker": {
             "colorbar": {
              "outlinewidth": 0,
              "ticks": ""
             }
            },
            "type": "scattergl"
           }
          ],
          "scattermapbox": [
           {
            "marker": {
             "colorbar": {
              "outlinewidth": 0,
              "ticks": ""
             }
            },
            "type": "scattermapbox"
           }
          ],
          "scatterpolar": [
           {
            "marker": {
             "colorbar": {
              "outlinewidth": 0,
              "ticks": ""
             }
            },
            "type": "scatterpolar"
           }
          ],
          "scatterpolargl": [
           {
            "marker": {
             "colorbar": {
              "outlinewidth": 0,
              "ticks": ""
             }
            },
            "type": "scatterpolargl"
           }
          ],
          "scatterternary": [
           {
            "marker": {
             "colorbar": {
              "outlinewidth": 0,
              "ticks": ""
             }
            },
            "type": "scatterternary"
           }
          ],
          "surface": [
           {
            "colorbar": {
             "outlinewidth": 0,
             "ticks": ""
            },
            "colorscale": [
             [
              0,
              "#0d0887"
             ],
             [
              0.1111111111111111,
              "#46039f"
             ],
             [
              0.2222222222222222,
              "#7201a8"
             ],
             [
              0.3333333333333333,
              "#9c179e"
             ],
             [
              0.4444444444444444,
              "#bd3786"
             ],
             [
              0.5555555555555556,
              "#d8576b"
             ],
             [
              0.6666666666666666,
              "#ed7953"
             ],
             [
              0.7777777777777778,
              "#fb9f3a"
             ],
             [
              0.8888888888888888,
              "#fdca26"
             ],
             [
              1,
              "#f0f921"
             ]
            ],
            "type": "surface"
           }
          ],
          "table": [
           {
            "cells": {
             "fill": {
              "color": "#EBF0F8"
             },
             "line": {
              "color": "white"
             }
            },
            "header": {
             "fill": {
              "color": "#C8D4E3"
             },
             "line": {
              "color": "white"
             }
            },
            "type": "table"
           }
          ]
         },
         "layout": {
          "annotationdefaults": {
           "arrowcolor": "#2a3f5f",
           "arrowhead": 0,
           "arrowwidth": 1
          },
          "autotypenumbers": "strict",
          "coloraxis": {
           "colorbar": {
            "outlinewidth": 0,
            "ticks": ""
           }
          },
          "colorscale": {
           "diverging": [
            [
             0,
             "#8e0152"
            ],
            [
             0.1,
             "#c51b7d"
            ],
            [
             0.2,
             "#de77ae"
            ],
            [
             0.3,
             "#f1b6da"
            ],
            [
             0.4,
             "#fde0ef"
            ],
            [
             0.5,
             "#f7f7f7"
            ],
            [
             0.6,
             "#e6f5d0"
            ],
            [
             0.7,
             "#b8e186"
            ],
            [
             0.8,
             "#7fbc41"
            ],
            [
             0.9,
             "#4d9221"
            ],
            [
             1,
             "#276419"
            ]
           ],
           "sequential": [
            [
             0,
             "#0d0887"
            ],
            [
             0.1111111111111111,
             "#46039f"
            ],
            [
             0.2222222222222222,
             "#7201a8"
            ],
            [
             0.3333333333333333,
             "#9c179e"
            ],
            [
             0.4444444444444444,
             "#bd3786"
            ],
            [
             0.5555555555555556,
             "#d8576b"
            ],
            [
             0.6666666666666666,
             "#ed7953"
            ],
            [
             0.7777777777777778,
             "#fb9f3a"
            ],
            [
             0.8888888888888888,
             "#fdca26"
            ],
            [
             1,
             "#f0f921"
            ]
           ],
           "sequentialminus": [
            [
             0,
             "#0d0887"
            ],
            [
             0.1111111111111111,
             "#46039f"
            ],
            [
             0.2222222222222222,
             "#7201a8"
            ],
            [
             0.3333333333333333,
             "#9c179e"
            ],
            [
             0.4444444444444444,
             "#bd3786"
            ],
            [
             0.5555555555555556,
             "#d8576b"
            ],
            [
             0.6666666666666666,
             "#ed7953"
            ],
            [
             0.7777777777777778,
             "#fb9f3a"
            ],
            [
             0.8888888888888888,
             "#fdca26"
            ],
            [
             1,
             "#f0f921"
            ]
           ]
          },
          "colorway": [
           "#636efa",
           "#EF553B",
           "#00cc96",
           "#ab63fa",
           "#FFA15A",
           "#19d3f3",
           "#FF6692",
           "#B6E880",
           "#FF97FF",
           "#FECB52"
          ],
          "font": {
           "color": "#2a3f5f"
          },
          "geo": {
           "bgcolor": "white",
           "lakecolor": "white",
           "landcolor": "#E5ECF6",
           "showlakes": true,
           "showland": true,
           "subunitcolor": "white"
          },
          "hoverlabel": {
           "align": "left"
          },
          "hovermode": "closest",
          "mapbox": {
           "style": "light"
          },
          "paper_bgcolor": "white",
          "plot_bgcolor": "#E5ECF6",
          "polar": {
           "angularaxis": {
            "gridcolor": "white",
            "linecolor": "white",
            "ticks": ""
           },
           "bgcolor": "#E5ECF6",
           "radialaxis": {
            "gridcolor": "white",
            "linecolor": "white",
            "ticks": ""
           }
          },
          "scene": {
           "xaxis": {
            "backgroundcolor": "#E5ECF6",
            "gridcolor": "white",
            "gridwidth": 2,
            "linecolor": "white",
            "showbackground": true,
            "ticks": "",
            "zerolinecolor": "white"
           },
           "yaxis": {
            "backgroundcolor": "#E5ECF6",
            "gridcolor": "white",
            "gridwidth": 2,
            "linecolor": "white",
            "showbackground": true,
            "ticks": "",
            "zerolinecolor": "white"
           },
           "zaxis": {
            "backgroundcolor": "#E5ECF6",
            "gridcolor": "white",
            "gridwidth": 2,
            "linecolor": "white",
            "showbackground": true,
            "ticks": "",
            "zerolinecolor": "white"
           }
          },
          "shapedefaults": {
           "line": {
            "color": "#2a3f5f"
           }
          },
          "ternary": {
           "aaxis": {
            "gridcolor": "white",
            "linecolor": "white",
            "ticks": ""
           },
           "baxis": {
            "gridcolor": "white",
            "linecolor": "white",
            "ticks": ""
           },
           "bgcolor": "#E5ECF6",
           "caxis": {
            "gridcolor": "white",
            "linecolor": "white",
            "ticks": ""
           }
          },
          "title": {
           "x": 0.05
          },
          "xaxis": {
           "automargin": true,
           "gridcolor": "white",
           "linecolor": "white",
           "ticks": "",
           "title": {
            "standoff": 15
           },
           "zerolinecolor": "white",
           "zerolinewidth": 2
          },
          "yaxis": {
           "automargin": true,
           "gridcolor": "white",
           "linecolor": "white",
           "ticks": "",
           "title": {
            "standoff": 15
           },
           "zerolinecolor": "white",
           "zerolinewidth": 2
          }
         }
        },
        "width": 1000,
        "xaxis": {
         "gridcolor": "lightgrey",
         "gridwidth": 1,
         "linecolor": "black",
         "linewidth": 0.7,
         "mirror": true,
         "range": [
          [
           0,
           0,
           0,
           0
          ],
          [
           1,
           1,
           1,
           1
          ]
         ],
         "showline": true,
         "tickfont": {
          "color": "black",
          "family": "Times New Roman",
          "size": 20
         },
         "ticks": "outside",
         "title": {
          "font": {
           "color": "black",
           "family": "Times New Roman",
           "size": 25
          },
          "text": "x"
         }
        },
        "yaxis": {
         "gridcolor": "lightgrey",
         "gridwidth": 1,
         "linecolor": "black",
         "linewidth": 0.7,
         "mirror": true,
         "range": [
          [
           0.5,
           -6112.781424140243,
           -3.9729312759275683,
           -315677.10499535885
          ],
          [
           1,
           17.31088988012617,
           322.1203750792305,
           935.7708729441218
          ]
         ],
         "showline": true,
         "tickfont": {
          "color": "black",
          "family": "Times New Roman",
          "size": 20
         },
         "ticks": "outside",
         "title": {
          "font": {
           "color": "black",
           "family": "Times New Roman",
           "size": 25
          },
          "text": "-"
         }
        }
       }
      },
      "text/html": [
       "<div>                            <div id=\"5754d222-9f7f-4a89-abe1-ddb1cecd7925\" class=\"plotly-graph-div\" style=\"height:500px; width:1000px;\"></div>            <script type=\"text/javascript\">                require([\"plotly\"], function(Plotly) {                    window.PLOTLYENV=window.PLOTLYENV || {};                                    if (document.getElementById(\"5754d222-9f7f-4a89-abe1-ddb1cecd7925\")) {                    Plotly.newPlot(                        \"5754d222-9f7f-4a89-abe1-ddb1cecd7925\",                        [{\"line\": {\"color\": \"blue\", \"dash\": \"solid\", \"width\": 2}, \"marker\": {\"line\": {\"color\": \"blue\", \"width\": 1}, \"size\": 10, \"symbol\": \"circle\"}, \"mode\": \"lines\", \"name\": \"analytical\", \"textfont\": {\"color\": \"LightSeaGreen\", \"family\": \"Times New Roman\", \"size\": 18}, \"type\": \"scatter\", \"x\": [0.0, 0.010101010101010102, 0.020202020202020204, 0.030303030303030304, 0.04040404040404041, 0.05050505050505051, 0.06060606060606061, 0.07070707070707072, 0.08080808080808081, 0.09090909090909091, 0.10101010101010102, 0.11111111111111112, 0.12121212121212122, 0.13131313131313133, 0.14141414141414144, 0.15151515151515152, 0.16161616161616163, 0.17171717171717174, 0.18181818181818182, 0.19191919191919193, 0.20202020202020204, 0.21212121212121213, 0.22222222222222224, 0.23232323232323235, 0.24242424242424243, 0.25252525252525254, 0.26262626262626265, 0.27272727272727276, 0.2828282828282829, 0.29292929292929293, 0.30303030303030304, 0.31313131313131315, 0.32323232323232326, 0.33333333333333337, 0.3434343434343435, 0.3535353535353536, 0.36363636363636365, 0.37373737373737376, 0.38383838383838387, 0.393939393939394, 0.4040404040404041, 0.4141414141414142, 0.42424242424242425, 0.43434343434343436, 0.4444444444444445, 0.4545454545454546, 0.4646464646464647, 0.4747474747474748, 0.48484848484848486, 0.494949494949495, 0.5050505050505051, 0.5151515151515152, 0.5252525252525253, 0.5353535353535354, 0.5454545454545455, 0.5555555555555556, 0.5656565656565657, 0.5757575757575758, 0.5858585858585859, 0.595959595959596, 0.6060606060606061, 0.6161616161616162, 0.6262626262626263, 0.6363636363636365, 0.6464646464646465, 0.6565656565656566, 0.6666666666666667, 0.6767676767676768, 0.686868686868687, 0.696969696969697, 0.7070707070707072, 0.7171717171717172, 0.7272727272727273, 0.7373737373737375, 0.7474747474747475, 0.7575757575757577, 0.7676767676767677, 0.7777777777777778, 0.787878787878788, 0.797979797979798, 0.8080808080808082, 0.8181818181818182, 0.8282828282828284, 0.8383838383838385, 0.8484848484848485, 0.8585858585858587, 0.8686868686868687, 0.8787878787878789, 0.888888888888889, 0.8989898989898991, 0.9090909090909092, 0.9191919191919192, 0.9292929292929294, 0.9393939393939394, 0.9494949494949496, 0.9595959595959597, 0.9696969696969697, 0.9797979797979799, 0.98989898989899, 1.0], \"y\": [1.0, 0.9998979800040808, 0.9995920448750638, 0.9990825688073394, 0.9983701741876336, 0.9974557296967229, 0.9963403476669717, 0.99502538071066, 0.9935124176381146, 0.9918032786885246, 0.9899000100999898, 0.9878048780487805, 0.9855203619909502, 0.9830491474423271, 0.9803941182354706, 0.9775583482944344, 0.9745450929700705, 0.9713577799801785, 0.9680000000000001, 0.9644754969494193, 0.9607881580237232, 0.9569420035149384, 0.9529411764705883, 0.9487899322362052, 0.9444926279271465, 0.9400537118741608, 0.9354777130858071, 0.9307692307692308, 0.9259329239489844, 0.920973501221575, 0.9158957106812448, 0.9107043300501766, 0.9054041570438798, 0.8999999999999999, 0.8944966687962033, 0.888898966080174, 0.8832116788321168, 0.8774395702775292, 0.8715873721654068, 0.8656597774244833, 0.8596614332076133, 0.8535969343319979, 0.8474708171206226, 0.8412875536480686, 0.8350515463917526, 0.8287671232876712, 0.8224385331878828, 0.8160699417152372, 0.8096654275092936, 0.8032289788559253, 0.7967644906918138, 0.7902757619738752, 0.7837664934026389, 0.7772402854877082, 0.7707006369426751, 0.7641509433962264, 0.757594496405658, 0.7510344827586206, 0.7444739840486138, 0.7379159765095618, 0.7313633310946944, 0.724818813784943, 0.7182850861121289, 0.7117647058823529, 0.7052601280851982, 0.6987737059746185, 0.6923076923076922, 0.6858642407277816, 0.6794454072790294, 0.673053152039555, 0.6666893408611658, 0.6603557472038808, 0.654054054054054, 0.6477858559153998, 0.6415526608627348, 0.6353558926487747, 0.62919689285485, 0.6230769230769231, 0.6169971671388101, 0.6109587333250218, 0.6049626566261341, 0.599009900990099, 0.5931013615733736, 0.5872378669862193, 0.5814201815269621, 0.5756490074004463, 0.5699249869163225, 0.5642487046632124, 0.5586206896551724, 0.5530414174472406, 0.5475113122171945, 0.5420307488109722, 0.5366000547495209, 0.531219512195122, 0.5258893598755164, 0.5206097949644108, 0.5153809749171794, 0.5102030192608016, 0.5050760113372842, 0.5]}, {\"line\": {\"color\": \"red\", \"dash\": \"dot\", \"width\": 2}, \"marker\": {\"line\": {\"color\": \"red\", \"width\": 1}, \"size\": 10, \"symbol\": \"triangle-up\"}, \"mode\": \"markers\", \"name\": \"equispaced\", \"textfont\": {\"color\": \"LightSeaGreen\", \"family\": \"Times New Roman\", \"size\": 18}, \"type\": \"scatter\", \"x\": [0.0, 0.010101010101010102, 0.020202020202020204, 0.030303030303030304, 0.04040404040404041, 0.05050505050505051, 0.06060606060606061, 0.07070707070707072, 0.08080808080808081, 0.09090909090909091, 0.10101010101010102, 0.11111111111111112, 0.12121212121212122, 0.13131313131313133, 0.14141414141414144, 0.15151515151515152, 0.16161616161616163, 0.17171717171717174, 0.18181818181818182, 0.19191919191919193, 0.20202020202020204, 0.21212121212121213, 0.22222222222222224, 0.23232323232323235, 0.24242424242424243, 0.25252525252525254, 0.26262626262626265, 0.27272727272727276, 0.2828282828282829, 0.29292929292929293, 0.30303030303030304, 0.31313131313131315, 0.32323232323232326, 0.33333333333333337, 0.3434343434343435, 0.3535353535353536, 0.36363636363636365, 0.37373737373737376, 0.38383838383838387, 0.393939393939394, 0.4040404040404041, 0.4141414141414142, 0.42424242424242425, 0.43434343434343436, 0.4444444444444445, 0.4545454545454546, 0.4646464646464647, 0.4747474747474748, 0.48484848484848486, 0.494949494949495, 0.5050505050505051, 0.5151515151515152, 0.5252525252525253, 0.5353535353535354, 0.5454545454545455, 0.5555555555555556, 0.5656565656565657, 0.5757575757575758, 0.5858585858585859, 0.595959595959596, 0.6060606060606061, 0.6161616161616162, 0.6262626262626263, 0.6363636363636365, 0.6464646464646465, 0.6565656565656566, 0.6666666666666667, 0.6767676767676768, 0.686868686868687, 0.696969696969697, 0.7070707070707072, 0.7171717171717172, 0.7272727272727273, 0.7373737373737375, 0.7474747474747475, 0.7575757575757577, 0.7676767676767677, 0.7777777777777778, 0.787878787878788, 0.797979797979798, 0.8080808080808082, 0.8181818181818182, 0.8282828282828284, 0.8383838383838385, 0.8484848484848485, 0.8585858585858587, 0.8686868686868687, 0.8787878787878789, 0.888888888888889, 0.8989898989898991, 0.9090909090909092, 0.9191919191919192, 0.9292929292929294, 0.9393939393939394, 0.9494949494949496, 0.9595959595959597, 0.9696969696969697, 0.9797979797979799, 0.98989898989899, 1.0], \"y\": [1.0, 0.7655952317662822, 1.1158864731245421, 1.585981828922466, 1.8915888581963687, 1.8866043099899394, 1.5272131691751614, 0.8418434823814278, -0.09363687780694027, -1.1760567859993556, -2.2909496057101437, -3.3249336082793937, -4.174931376908941, -4.75466042480537, -4.998794299337083, -4.865161608854517, -4.335319695394228, -3.4138100848858888, -2.126374376708355, -0.5173818864965478, 1.3533058700166636, 3.413833868627436, 5.584039442721747, 7.779172183367116, 9.913516471837257, 11.903805859947553, 13.672338008727943, 15.149717269279604, 16.27716924115441, 17.008387773259564, 17.31088988012617, 17.1668679323883, 16.573541244498525, 15.543020825058006, 14.101711575662488, 12.289285622860993, 10.157268744691896, 7.767289008299495, 5.189042768346406, 2.4980380873194226, -0.2268205716179765, -2.9057398608465763, -5.460569209306932, -7.817288139959946, -9.908381453099928, -11.675036304513618, -13.069098148891442, -14.054726582139265, -14.60969730130848, -14.726302707759942, -14.411811107903143, -13.688453016406067, -12.592912739152906, -11.175314207437191, -9.497701950915888, -7.632031134716621, -5.657694745783774, -3.658631295072947, -1.7200728055522567, 0.07498961885095663, 1.6495267012136892, 2.936262665511796, 3.881401074802726, 4.4481262195636395, 4.619698307732051, 4.401936451849905, 3.8248580707359348, 2.9432168233082523, 1.8356535705478647, 0.6021461181336865, -0.6405863730074162, -1.766099408107904, -2.64806682074038, -3.173392515359831, -3.2590650823953693, -2.8732655525073874, -2.0612751528822053, -0.9767676465206743, 0.08089032461078449, 0.6226675099574748, -0.08147953189521057, -3.06207653971665, -9.718514179147864, -21.89717764309133, -41.98020324170701, -72.98578869345577, -118.68103164316545, -183.70831986947, -273.7263467021473, -395.5668763499308, -557.408436141172, -768.96816610348, -1041.7131108539006, -1389.0922944385334, -1826.7909755497608, -2373.0085384600543, -3048.7615340443217, -3878.2134454173383, -4889.032813989208, -6112.781424140243]}, {\"line\": {\"color\": \"hsv(120,100,100)\", \"dash\": \"dash\", \"width\": 2}, \"marker\": {\"line\": {\"color\": \"hsv(120,100,100)\", \"width\": 1}, \"size\": 10, \"symbol\": \"triangle-down\"}, \"mode\": \"markers\", \"name\": \"chebushev\", \"textfont\": {\"color\": \"LightSeaGreen\", \"family\": \"Times New Roman\", \"size\": 18}, \"type\": \"scatter\", \"x\": [0.0, 0.010101010101010102, 0.020202020202020204, 0.030303030303030304, 0.04040404040404041, 0.05050505050505051, 0.06060606060606061, 0.07070707070707072, 0.08080808080808081, 0.09090909090909091, 0.10101010101010102, 0.11111111111111112, 0.12121212121212122, 0.13131313131313133, 0.14141414141414144, 0.15151515151515152, 0.16161616161616163, 0.17171717171717174, 0.18181818181818182, 0.19191919191919193, 0.20202020202020204, 0.21212121212121213, 0.22222222222222224, 0.23232323232323235, 0.24242424242424243, 0.25252525252525254, 0.26262626262626265, 0.27272727272727276, 0.2828282828282829, 0.29292929292929293, 0.30303030303030304, 0.31313131313131315, 0.32323232323232326, 0.33333333333333337, 0.3434343434343435, 0.3535353535353536, 0.36363636363636365, 0.37373737373737376, 0.38383838383838387, 0.393939393939394, 0.4040404040404041, 0.4141414141414142, 0.42424242424242425, 0.43434343434343436, 0.4444444444444445, 0.4545454545454546, 0.4646464646464647, 0.4747474747474748, 0.48484848484848486, 0.494949494949495, 0.5050505050505051, 0.5151515151515152, 0.5252525252525253, 0.5353535353535354, 0.5454545454545455, 0.5555555555555556, 0.5656565656565657, 0.5757575757575758, 0.5858585858585859, 0.595959595959596, 0.6060606060606061, 0.6161616161616162, 0.6262626262626263, 0.6363636363636365, 0.6464646464646465, 0.6565656565656566, 0.6666666666666667, 0.6767676767676768, 0.686868686868687, 0.696969696969697, 0.7070707070707072, 0.7171717171717172, 0.7272727272727273, 0.7373737373737375, 0.7474747474747475, 0.7575757575757577, 0.7676767676767677, 0.7777777777777778, 0.787878787878788, 0.797979797979798, 0.8080808080808082, 0.8181818181818182, 0.8282828282828284, 0.8383838383838385, 0.8484848484848485, 0.8585858585858587, 0.8686868686868687, 0.8787878787878789, 0.888888888888889, 0.8989898989898991, 0.9090909090909092, 0.9191919191919192, 0.9292929292929294, 0.9393939393939394, 0.9494949494949496, 0.9595959595959597, 0.9696969696969697, 0.9797979797979799, 0.98989898989899, 1.0], \"y\": [1.0, -0.4605256736874557, -1.897177912599669, -3.0533746458709956, -3.7716038726304584, -3.9729312759275683, -3.6392503517259507, -2.7980333031889693, -1.5093539424099598, 0.14503349314455247, 2.0707633639077483, 4.168267234141311, 6.338702118783644, 8.488567071617734, 10.533165784108986, 12.399062160026352, 14.025665453536105, 15.366071507847247, 16.3872769076894, 17.06987346192014, 17.40732136238672, 17.404890621809415, 17.078351976908202, 16.452490353262355, 15.559506225474259, 14.437362770101693, 13.128129599531643, 11.676367082487616, 10.127588801196978, 8.526833566391044, 6.917372609270187, 5.339572094339594, 3.829925948606666, 2.4202691810305077, 1.1371773713259927, 0.001553839250124162, -0.9715978356631129, -1.7732217883018022, -2.400087368026692, -2.8545080572134465, -3.1439162348356646, -3.280310418733896, -3.2795935004988377, -3.160822040366693, -2.9453879161814815, -2.656154520322474, -2.3165702715258063, -1.9497824547462588, -1.577774321609878, -1.2205479765989098, -0.8953748398889928, -0.6161344167230793, -0.3927607153585198, -0.23081394096271762, -0.13119305135801956, -0.09000239222923141, -0.09858293430625431, -0.14371561312113798, -0.20800092321141414, -0.2704152431019837, -0.3070403650447172, -0.29195837432868543, -0.19829936699469072, 0.0005754880045800318, 0.3297783457630296, 0.8115149814810881, 1.4636553888416581, 2.29829537396144, 3.32035645503508, 4.52627832146038, 5.90286537671737, 7.426356486570772, 9.06179497827653, 10.762784187395786, 12.471722426556722, 14.12062015505478, 15.6326113595434, 16.924280714245093, 17.90893797409992, 18.500981266072014, 18.621501482449695, 18.20529084540202, 17.20942990429839, 15.623638746350105, 13.48259004700173, 10.880393759181162, 7.987475740010338, 5.070085439886083, 2.51268093196133, 0.8434530399887141, 0.7632641292368, 3.1782912587470427, 9.236677853573566, 20.369512842832105, 38.336471323385574, 65.27646624980167, 103.76367641884937, 156.86933211123224, 228.2296561745096, 322.1203750792305]}, {\"line\": {\"color\": \"green\", \"dash\": \"longdash\", \"width\": 2}, \"marker\": {\"line\": {\"color\": \"green\", \"width\": 1}, \"size\": 10, \"symbol\": \"square\"}, \"mode\": \"markers\", \"name\": \"arcsin\", \"textfont\": {\"color\": \"LightSeaGreen\", \"family\": \"Times New Roman\", \"size\": 18}, \"type\": \"scatter\", \"x\": [0.0, 0.010101010101010102, 0.020202020202020204, 0.030303030303030304, 0.04040404040404041, 0.05050505050505051, 0.06060606060606061, 0.07070707070707072, 0.08080808080808081, 0.09090909090909091, 0.10101010101010102, 0.11111111111111112, 0.12121212121212122, 0.13131313131313133, 0.14141414141414144, 0.15151515151515152, 0.16161616161616163, 0.17171717171717174, 0.18181818181818182, 0.19191919191919193, 0.20202020202020204, 0.21212121212121213, 0.22222222222222224, 0.23232323232323235, 0.24242424242424243, 0.25252525252525254, 0.26262626262626265, 0.27272727272727276, 0.2828282828282829, 0.29292929292929293, 0.30303030303030304, 0.31313131313131315, 0.32323232323232326, 0.33333333333333337, 0.3434343434343435, 0.3535353535353536, 0.36363636363636365, 0.37373737373737376, 0.38383838383838387, 0.393939393939394, 0.4040404040404041, 0.4141414141414142, 0.42424242424242425, 0.43434343434343436, 0.4444444444444445, 0.4545454545454546, 0.4646464646464647, 0.4747474747474748, 0.48484848484848486, 0.494949494949495, 0.5050505050505051, 0.5151515151515152, 0.5252525252525253, 0.5353535353535354, 0.5454545454545455, 0.5555555555555556, 0.5656565656565657, 0.5757575757575758, 0.5858585858585859, 0.595959595959596, 0.6060606060606061, 0.6161616161616162, 0.6262626262626263, 0.6363636363636365, 0.6464646464646465, 0.6565656565656566, 0.6666666666666667, 0.6767676767676768, 0.686868686868687, 0.696969696969697, 0.7070707070707072, 0.7171717171717172, 0.7272727272727273, 0.7373737373737375, 0.7474747474747475, 0.7575757575757577, 0.7676767676767677, 0.7777777777777778, 0.787878787878788, 0.797979797979798, 0.8080808080808082, 0.8181818181818182, 0.8282828282828284, 0.8383838383838385, 0.8484848484848485, 0.8585858585858587, 0.8686868686868687, 0.8787878787878789, 0.888888888888889, 0.8989898989898991, 0.9090909090909092, 0.9191919191919192, 0.9292929292929294, 0.9393939393939394, 0.9494949494949496, 0.9595959595959597, 0.9696969696969697, 0.9797979797979799, 0.98989898989899, 1.0], \"y\": [1.0, 49.55296597881563, 166.93209107846727, 317.46633210963944, 475.18091280765026, 622.0103562504377, 746.2457788088145, 841.195104996468, 904.036091624241, 934.8432446392062, 935.7708729441218, 910.3756503467544, 863.0631495815887, 798.6438710783139, 721.9853138224718, 637.7476262634682, 550.191331774088, 463.0465456534904, 379.43398909247395, 301.82895988566145, 232.06023997999824, 171.33670619277484, 120.29516261510732, 79.06363133855062, 47.33502220323796, 24.4467522656142, 9.462501622516088, 1.2528741059895518, -1.4277208201318166, 0.12986512474197223, 4.652813292532403, 10.940748845455175, 17.910434966697245, 24.630295041658687, 30.34465075911333, 34.487873471124736, 36.68892147901627, 36.76697718013458, 34.71910521656651, 30.70102591236963, 25.002237370254125, 18.016824622013445, 10.21136518933733, 2.0913773129578104, -5.83224005162448, -13.075357594313086, -19.210003770710752, -23.889737429527187, -26.86988509787709, -28.021690540053726, -27.339625731191795, -24.94134797408311, -21.060057535278524, -16.02931388550014, -10.260706399300028, -4.215147199833992, 1.6310402734291902, 6.8236234432660146, 10.969465974735908, 13.774440736891352, 15.077112590319706, 14.87447704761876, 13.335430595828615, 10.797004150747247, 7.737712732934672, 4.721662014073004, 2.3063058801884524, 0.9059685950593026, 0.6024305229323599, 0.8930276844476968, 0.365832673427039, -3.7094323450824143, -15.887050703402677, -43.160819443658134, -95.70371474157137, -187.74707166050078, -338.6157224669496, -573.9366589122016, -927.039939119091, -1440.5717490083887, -2168.340751555781, -3177.4201145876987, -4550.528899303074, -6388.717817247199, -8814.385723064894, -11974.65460402121, -16045.132255000772, -21234.093289480865, -27787.11063281643, -35992.1711740838, -46185.31081669205, -58756.80576600429, -74157.9585242943, -92908.51872951699, -115604.78067458344, -142928.40107809374, -175655.98244583284, -214669.46916470162, -260967.40530723313, -315677.10499535885]}],                        {\"autosize\": false, \"height\": 500, \"legend\": {\"bgcolor\": \"White\", \"bordercolor\": \"Black\", \"borderwidth\": 0.7}, \"margin\": {\"b\": 0, \"l\": 0, \"pad\": 0.1, \"r\": 0, \"t\": 0}, \"paper_bgcolor\": \"rgba(255, 255, 255, 1)\", \"plot_bgcolor\": \"rgba(255, 255, 255, 1)\", \"showlegend\": true, \"template\": {\"data\": {\"bar\": [{\"error_x\": {\"color\": \"#2a3f5f\"}, \"error_y\": {\"color\": \"#2a3f5f\"}, \"marker\": {\"line\": {\"color\": \"#E5ECF6\", \"width\": 0.5}}, \"type\": \"bar\"}], \"barpolar\": [{\"marker\": {\"line\": {\"color\": \"#E5ECF6\", \"width\": 0.5}}, \"type\": \"barpolar\"}], \"carpet\": [{\"aaxis\": {\"endlinecolor\": \"#2a3f5f\", \"gridcolor\": \"white\", \"linecolor\": \"white\", \"minorgridcolor\": \"white\", \"startlinecolor\": \"#2a3f5f\"}, \"baxis\": {\"endlinecolor\": \"#2a3f5f\", \"gridcolor\": \"white\", \"linecolor\": \"white\", \"minorgridcolor\": \"white\", \"startlinecolor\": \"#2a3f5f\"}, \"type\": \"carpet\"}], \"choropleth\": [{\"colorbar\": {\"outlinewidth\": 0, \"ticks\": \"\"}, \"type\": \"choropleth\"}], \"contour\": [{\"colorbar\": {\"outlinewidth\": 0, \"ticks\": \"\"}, \"colorscale\": [[0.0, \"#0d0887\"], [0.1111111111111111, \"#46039f\"], [0.2222222222222222, \"#7201a8\"], [0.3333333333333333, \"#9c179e\"], [0.4444444444444444, \"#bd3786\"], [0.5555555555555556, \"#d8576b\"], [0.6666666666666666, \"#ed7953\"], [0.7777777777777778, \"#fb9f3a\"], [0.8888888888888888, \"#fdca26\"], [1.0, \"#f0f921\"]], \"type\": \"contour\"}], \"contourcarpet\": [{\"colorbar\": {\"outlinewidth\": 0, \"ticks\": \"\"}, \"type\": \"contourcarpet\"}], \"heatmap\": [{\"colorbar\": {\"outlinewidth\": 0, \"ticks\": \"\"}, \"colorscale\": [[0.0, \"#0d0887\"], [0.1111111111111111, \"#46039f\"], [0.2222222222222222, \"#7201a8\"], [0.3333333333333333, \"#9c179e\"], [0.4444444444444444, \"#bd3786\"], [0.5555555555555556, \"#d8576b\"], [0.6666666666666666, \"#ed7953\"], [0.7777777777777778, \"#fb9f3a\"], [0.8888888888888888, \"#fdca26\"], [1.0, \"#f0f921\"]], \"type\": \"heatmap\"}], \"heatmapgl\": [{\"colorbar\": {\"outlinewidth\": 0, \"ticks\": \"\"}, \"colorscale\": [[0.0, \"#0d0887\"], [0.1111111111111111, \"#46039f\"], [0.2222222222222222, \"#7201a8\"], [0.3333333333333333, \"#9c179e\"], [0.4444444444444444, \"#bd3786\"], [0.5555555555555556, \"#d8576b\"], [0.6666666666666666, \"#ed7953\"], [0.7777777777777778, \"#fb9f3a\"], [0.8888888888888888, \"#fdca26\"], [1.0, \"#f0f921\"]], \"type\": \"heatmapgl\"}], \"histogram\": [{\"marker\": {\"colorbar\": {\"outlinewidth\": 0, \"ticks\": \"\"}}, \"type\": \"histogram\"}], \"histogram2d\": [{\"colorbar\": {\"outlinewidth\": 0, \"ticks\": \"\"}, \"colorscale\": [[0.0, \"#0d0887\"], [0.1111111111111111, \"#46039f\"], [0.2222222222222222, \"#7201a8\"], [0.3333333333333333, \"#9c179e\"], [0.4444444444444444, \"#bd3786\"], [0.5555555555555556, \"#d8576b\"], [0.6666666666666666, \"#ed7953\"], [0.7777777777777778, \"#fb9f3a\"], [0.8888888888888888, \"#fdca26\"], [1.0, \"#f0f921\"]], \"type\": \"histogram2d\"}], \"histogram2dcontour\": [{\"colorbar\": {\"outlinewidth\": 0, \"ticks\": \"\"}, \"colorscale\": [[0.0, \"#0d0887\"], [0.1111111111111111, \"#46039f\"], [0.2222222222222222, \"#7201a8\"], [0.3333333333333333, \"#9c179e\"], [0.4444444444444444, \"#bd3786\"], [0.5555555555555556, \"#d8576b\"], [0.6666666666666666, \"#ed7953\"], [0.7777777777777778, \"#fb9f3a\"], [0.8888888888888888, \"#fdca26\"], [1.0, \"#f0f921\"]], \"type\": \"histogram2dcontour\"}], \"mesh3d\": [{\"colorbar\": {\"outlinewidth\": 0, \"ticks\": \"\"}, \"type\": \"mesh3d\"}], \"parcoords\": [{\"line\": {\"colorbar\": {\"outlinewidth\": 0, \"ticks\": \"\"}}, \"type\": \"parcoords\"}], \"pie\": [{\"automargin\": true, \"type\": \"pie\"}], \"scatter\": [{\"marker\": {\"colorbar\": {\"outlinewidth\": 0, \"ticks\": \"\"}}, \"type\": \"scatter\"}], \"scatter3d\": [{\"line\": {\"colorbar\": {\"outlinewidth\": 0, \"ticks\": \"\"}}, \"marker\": {\"colorbar\": {\"outlinewidth\": 0, \"ticks\": \"\"}}, \"type\": \"scatter3d\"}], \"scattercarpet\": [{\"marker\": {\"colorbar\": {\"outlinewidth\": 0, \"ticks\": \"\"}}, \"type\": \"scattercarpet\"}], \"scattergeo\": [{\"marker\": {\"colorbar\": {\"outlinewidth\": 0, \"ticks\": \"\"}}, \"type\": \"scattergeo\"}], \"scattergl\": [{\"marker\": {\"colorbar\": {\"outlinewidth\": 0, \"ticks\": \"\"}}, \"type\": \"scattergl\"}], \"scattermapbox\": [{\"marker\": {\"colorbar\": {\"outlinewidth\": 0, \"ticks\": \"\"}}, \"type\": \"scattermapbox\"}], \"scatterpolar\": [{\"marker\": {\"colorbar\": {\"outlinewidth\": 0, \"ticks\": \"\"}}, \"type\": \"scatterpolar\"}], \"scatterpolargl\": [{\"marker\": {\"colorbar\": {\"outlinewidth\": 0, \"ticks\": \"\"}}, \"type\": \"scatterpolargl\"}], \"scatterternary\": [{\"marker\": {\"colorbar\": {\"outlinewidth\": 0, \"ticks\": \"\"}}, \"type\": \"scatterternary\"}], \"surface\": [{\"colorbar\": {\"outlinewidth\": 0, \"ticks\": \"\"}, \"colorscale\": [[0.0, \"#0d0887\"], [0.1111111111111111, \"#46039f\"], [0.2222222222222222, \"#7201a8\"], [0.3333333333333333, \"#9c179e\"], [0.4444444444444444, \"#bd3786\"], [0.5555555555555556, \"#d8576b\"], [0.6666666666666666, \"#ed7953\"], [0.7777777777777778, \"#fb9f3a\"], [0.8888888888888888, \"#fdca26\"], [1.0, \"#f0f921\"]], \"type\": \"surface\"}], \"table\": [{\"cells\": {\"fill\": {\"color\": \"#EBF0F8\"}, \"line\": {\"color\": \"white\"}}, \"header\": {\"fill\": {\"color\": \"#C8D4E3\"}, \"line\": {\"color\": \"white\"}}, \"type\": \"table\"}]}, \"layout\": {\"annotationdefaults\": {\"arrowcolor\": \"#2a3f5f\", \"arrowhead\": 0, \"arrowwidth\": 1}, \"autotypenumbers\": \"strict\", \"coloraxis\": {\"colorbar\": {\"outlinewidth\": 0, \"ticks\": \"\"}}, \"colorscale\": {\"diverging\": [[0, \"#8e0152\"], [0.1, \"#c51b7d\"], [0.2, \"#de77ae\"], [0.3, \"#f1b6da\"], [0.4, \"#fde0ef\"], [0.5, \"#f7f7f7\"], [0.6, \"#e6f5d0\"], [0.7, \"#b8e186\"], [0.8, \"#7fbc41\"], [0.9, \"#4d9221\"], [1, \"#276419\"]], \"sequential\": [[0.0, \"#0d0887\"], [0.1111111111111111, \"#46039f\"], [0.2222222222222222, \"#7201a8\"], [0.3333333333333333, \"#9c179e\"], [0.4444444444444444, \"#bd3786\"], [0.5555555555555556, \"#d8576b\"], [0.6666666666666666, \"#ed7953\"], [0.7777777777777778, \"#fb9f3a\"], [0.8888888888888888, \"#fdca26\"], [1.0, \"#f0f921\"]], \"sequentialminus\": [[0.0, \"#0d0887\"], [0.1111111111111111, \"#46039f\"], [0.2222222222222222, \"#7201a8\"], [0.3333333333333333, \"#9c179e\"], [0.4444444444444444, \"#bd3786\"], [0.5555555555555556, \"#d8576b\"], [0.6666666666666666, \"#ed7953\"], [0.7777777777777778, \"#fb9f3a\"], [0.8888888888888888, \"#fdca26\"], [1.0, \"#f0f921\"]]}, \"colorway\": [\"#636efa\", \"#EF553B\", \"#00cc96\", \"#ab63fa\", \"#FFA15A\", \"#19d3f3\", \"#FF6692\", \"#B6E880\", \"#FF97FF\", \"#FECB52\"], \"font\": {\"color\": \"#2a3f5f\"}, \"geo\": {\"bgcolor\": \"white\", \"lakecolor\": \"white\", \"landcolor\": \"#E5ECF6\", \"showlakes\": true, \"showland\": true, \"subunitcolor\": \"white\"}, \"hoverlabel\": {\"align\": \"left\"}, \"hovermode\": \"closest\", \"mapbox\": {\"style\": \"light\"}, \"paper_bgcolor\": \"white\", \"plot_bgcolor\": \"#E5ECF6\", \"polar\": {\"angularaxis\": {\"gridcolor\": \"white\", \"linecolor\": \"white\", \"ticks\": \"\"}, \"bgcolor\": \"#E5ECF6\", \"radialaxis\": {\"gridcolor\": \"white\", \"linecolor\": \"white\", \"ticks\": \"\"}}, \"scene\": {\"xaxis\": {\"backgroundcolor\": \"#E5ECF6\", \"gridcolor\": \"white\", \"gridwidth\": 2, \"linecolor\": \"white\", \"showbackground\": true, \"ticks\": \"\", \"zerolinecolor\": \"white\"}, \"yaxis\": {\"backgroundcolor\": \"#E5ECF6\", \"gridcolor\": \"white\", \"gridwidth\": 2, \"linecolor\": \"white\", \"showbackground\": true, \"ticks\": \"\", \"zerolinecolor\": \"white\"}, \"zaxis\": {\"backgroundcolor\": \"#E5ECF6\", \"gridcolor\": \"white\", \"gridwidth\": 2, \"linecolor\": \"white\", \"showbackground\": true, \"ticks\": \"\", \"zerolinecolor\": \"white\"}}, \"shapedefaults\": {\"line\": {\"color\": \"#2a3f5f\"}}, \"ternary\": {\"aaxis\": {\"gridcolor\": \"white\", \"linecolor\": \"white\", \"ticks\": \"\"}, \"baxis\": {\"gridcolor\": \"white\", \"linecolor\": \"white\", \"ticks\": \"\"}, \"bgcolor\": \"#E5ECF6\", \"caxis\": {\"gridcolor\": \"white\", \"linecolor\": \"white\", \"ticks\": \"\"}}, \"title\": {\"x\": 0.05}, \"xaxis\": {\"automargin\": true, \"gridcolor\": \"white\", \"linecolor\": \"white\", \"ticks\": \"\", \"title\": {\"standoff\": 15}, \"zerolinecolor\": \"white\", \"zerolinewidth\": 2}, \"yaxis\": {\"automargin\": true, \"gridcolor\": \"white\", \"linecolor\": \"white\", \"ticks\": \"\", \"title\": {\"standoff\": 15}, \"zerolinecolor\": \"white\", \"zerolinewidth\": 2}}}, \"width\": 1000, \"xaxis\": {\"gridcolor\": \"lightgrey\", \"gridwidth\": 1, \"linecolor\": \"black\", \"linewidth\": 0.7, \"mirror\": true, \"range\": [[0.0, 0.0, 0.0, 0.0], [1.0, 1.0, 1.0, 1.0]], \"showline\": true, \"tickfont\": {\"color\": \"black\", \"family\": \"Times New Roman\", \"size\": 20}, \"ticks\": \"outside\", \"title\": {\"font\": {\"color\": \"black\", \"family\": \"Times New Roman\", \"size\": 25}, \"text\": \"x\"}}, \"yaxis\": {\"gridcolor\": \"lightgrey\", \"gridwidth\": 1, \"linecolor\": \"black\", \"linewidth\": 0.7, \"mirror\": true, \"range\": [[0.5, -6112.781424140243, -3.9729312759275683, -315677.10499535885], [1.0, 17.31088988012617, 322.1203750792305, 935.7708729441218]], \"showline\": true, \"tickfont\": {\"color\": \"black\", \"family\": \"Times New Roman\", \"size\": 20}, \"ticks\": \"outside\", \"title\": {\"font\": {\"color\": \"black\", \"family\": \"Times New Roman\", \"size\": 25}, \"text\": \"-\"}}},                        {\"responsive\": true}                    ).then(function(){\n",
       "                            \n",
       "var gd = document.getElementById('5754d222-9f7f-4a89-abe1-ddb1cecd7925');\n",
       "var x = new MutationObserver(function (mutations, observer) {{\n",
       "        var display = window.getComputedStyle(gd).display;\n",
       "        if (!display || display === 'none') {{\n",
       "            console.log([gd, 'removed!']);\n",
       "            Plotly.purge(gd);\n",
       "            observer.disconnect();\n",
       "        }}\n",
       "}});\n",
       "\n",
       "// Listen for the removal of the full notebook cells\n",
       "var notebookContainer = gd.closest('#notebook-container');\n",
       "if (notebookContainer) {{\n",
       "    x.observe(notebookContainer, {childList: true});\n",
       "}}\n",
       "\n",
       "// Listen for the clearing of the current output cell\n",
       "var outputEl = gd.closest('.output');\n",
       "if (outputEl) {{\n",
       "    x.observe(outputEl, {childList: true});\n",
       "}}\n",
       "\n",
       "                        })                };                });            </script>        </div>"
      ]
     },
     "metadata": {},
     "output_type": "display_data"
    },
    {
     "name": "stdout",
     "output_type": "stream",
     "text": [
      "Successfully generated: ./fun_herm.pdf\n"
     ]
    }
   ],
   "source": [
    "list_x, list_y = [], []\n",
    "M =100\n",
    "x = np.linspace(0, 1, M)\n",
    "list_x.append(x)\n",
    "list_x.append(x)\n",
    "list_x.append(x)\n",
    "list_x.append(x)\n",
    "\n",
    "dfi_eq = df(xi_eq)\n",
    "dfi_cheb = df(xi_cheb)\n",
    "dfi_arc = df(xi_arc)\n",
    "\n",
    "list_y.append(f(x))\n",
    "\n",
    "herm = HermitePoly(xi_eq, fi_eq, dfi_eq)\n",
    "list_y.append(herm.interpolate(x))\n",
    "\n",
    "herm = HermitePoly(xi_cheb, fi_cheb, dfi_eq)\n",
    "list_y.append(herm.interpolate(x))\n",
    "\n",
    "herm = HermitePoly(xi_arc, fi_arc, dfi_eq)\n",
    "list_y.append(herm.interpolate(x))\n",
    "\n",
    "fn = \"fun_herm.pdf\"\n",
    "plot_graph(list_x, list_y, names=['analytical', 'equispaced', 'chebushev', 'arcsin'], xtitle='x', ytitle='-', \\\n",
    "            image_name=fn, mode=['lines','markers','markers','markers'],\\\n",
    "#             xrange=[0,4], yrange=[0,0.45],\\\n",
    "#             dash=['solid', 'solid', 'solid', 'dash', 'dash', 'dash', 'dash', 'dash'],\\\n",
    "            colors=['blue', 'red', 'hsv(120,100,100)', 'green', 'indigo', 'aqua', 'goldenrod', 'black', 'pink'],\\\n",
    "            marker_size=10,\\\n",
    "            marker_style = ['circle', 'triangle-up', 'triangle-down','square', 'diamond', 'cross',  'x-thin', 'cross-thin', 'circle', 'triangle-up', 'triangle-down' ],\\\n",
    "            width=1000, height=500, path=\"./\")"
   ]
  },
  {
   "cell_type": "code",
   "execution_count": null,
   "metadata": {},
   "outputs": [],
   "source": []
  },
  {
   "cell_type": "code",
   "execution_count": null,
   "metadata": {},
   "outputs": [],
   "source": []
  },
  {
   "cell_type": "code",
   "execution_count": null,
   "metadata": {},
   "outputs": [],
   "source": []
  }
 ],
 "metadata": {
  "kernelspec": {
   "display_name": "Python 3",
   "language": "python",
   "name": "python3"
  },
  "language_info": {
   "codemirror_mode": {
    "name": "ipython",
    "version": 3
   },
   "file_extension": ".py",
   "mimetype": "text/x-python",
   "name": "python",
   "nbconvert_exporter": "python",
   "pygments_lexer": "ipython3",
   "version": "3.8.5"
  }
 },
 "nbformat": 4,
 "nbformat_minor": 4
}
