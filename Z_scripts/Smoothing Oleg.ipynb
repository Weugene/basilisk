{
 "cells": [
  {
   "cell_type": "code",
   "execution_count": 1,
   "metadata": {},
   "outputs": [],
   "source": [
    "import numpy as np\n",
    "import json\n",
    "\n",
    "from scipy.spatial import Delaunay\n",
    "import numpy as np\n",
    "from scipy.signal import find_peaks\n",
    "from scipy.signal import butter,filtfilt # for fft filtering\n",
    "from scipy.signal import savgol_filter\n",
    "import matplotlib.pyplot as plt\n",
    "\n",
    "from scipy import interpolate, signal, ndimage\n",
    "from sklearn.decomposition import PCA\n",
    "from sklearn.utils import shuffle\n",
    "from sklearn.cluster import KMeans #, SpectralClustering, AgglomerativeClustering\n",
    "from sklearn.neighbors import NearestNeighbors\n",
    "import networkx as nx\n",
    "\n",
    "#Sample Period - 5 sec (t) number of \n",
    "#Sampling Freq - 30 samples / s , i.e 30 Hz (fs)\n",
    "#Total Samples - (fs x t) = 150\n",
    "#Signal Freq = 6 signal / 5 sec = 1.2 Hz\n",
    "#Nyquist Frequency = 0.5 * fs\n",
    "#order = Polynomial order of the signal\n",
    "#cutoff - which part of fs will be removed \n",
    "def butter_lowpass_filter(new_u, data, cutoff=0.1, order = 2):\n",
    "\ta, b = new_u[0], new_u[-1]\n",
    "\ttimestep = (b - a)/(new_u.shape[0] - 1) # dt of discretization\n",
    "\tfs = 1.0/timestep # frequency of discretization\n",
    "\tnyq = 0.5*fs\n",
    "\tnormal_cutoff = cutoff / (nyq * timestep)\n",
    "\t# Get the filter coefficients \n",
    "\tb, a = butter(order, normal_cutoff, btype='low', analog=False)\n",
    "\ty = filtfilt(b, a, data)#, method=\"pad\", padlen=5\n",
    "\treturn y\n",
    "\n",
    "def alpha_shape(points, alpha, only_outer=True):\n",
    "    \"\"\"\n",
    "    Compute the alpha shape (concave hull) of a set of points.\n",
    "    :param points: np.array of shape (n,2) points.\n",
    "    :param alpha: alpha value.\n",
    "    :param only_outer: boolean value to specify if we keep only the outer border\n",
    "    or also inner edges.\n",
    "    :return: set of (i,j) pairs representing edges of the alpha-shape. (i,j) are\n",
    "    the indices in the points array.\n",
    "    \"\"\"\n",
    "    assert points.shape[0] > 3, \"Need at least four points\"\n",
    "\n",
    "    def add_edge(edges, i, j):\n",
    "        \"\"\"\n",
    "        Add an edge between the i-th and j-th points,\n",
    "        if not in the list already\n",
    "        \"\"\"\n",
    "        if (i, j) in edges or (j, i) in edges:\n",
    "            # already added\n",
    "            assert (j, i) in edges, \"Can't go twice over same directed edge right?\"\n",
    "            if only_outer:\n",
    "                # if both neighboring triangles are in shape, it's not a boundary edge\n",
    "                edges.remove((j, i))\n",
    "            return\n",
    "        edges.add((i, j))\n",
    "\n",
    "    tri = Delaunay(points)\n",
    "    edges = set()\n",
    "    # Loop over triangles:\n",
    "    # ia, ib, ic = indices of corner points of the triangle\n",
    "    for ia, ib, ic in tri.vertices:\n",
    "        pa = points[ia]\n",
    "        pb = points[ib]\n",
    "        pc = points[ic]\n",
    "        # Computing radius of triangle circumcircle\n",
    "        # www.mathalino.com/reviewer/derivation-of-formulas/derivation-of-formula-for-radius-of-circumcircle\n",
    "        a = np.sqrt((pa[0] - pb[0]) ** 2 + (pa[1] - pb[1]) ** 2)\n",
    "        b = np.sqrt((pb[0] - pc[0]) ** 2 + (pb[1] - pc[1]) ** 2)\n",
    "        c = np.sqrt((pc[0] - pa[0]) ** 2 + (pc[1] - pa[1]) ** 2)\n",
    "        s = (a + b + c) / 2.0\n",
    "        area = np.sqrt(s * (s - a) * (s - b) * (s - c))\n",
    "        circum_r = a * b * c / (4.0 * area + 1e-15)\n",
    "        if circum_r < alpha:\n",
    "            add_edge(edges, ia, ib)\n",
    "            add_edge(edges, ib, ic)\n",
    "            add_edge(edges, ic, ia)\n",
    "    return edges\n",
    "\n",
    "def find_edges_with(i, edge_set):\n",
    "    i_first = [j for (x,j) in edge_set if x==i]\n",
    "    i_second = [j for (j,x) in edge_set if x==i]\n",
    "    return i_first,i_second\n",
    "\n",
    "def stitch_boundaries(edges):\n",
    "    edge_set = edges.copy()\n",
    "    boundary_lst = []\n",
    "    while len(edge_set) > 0:\n",
    "        boundary = []\n",
    "        edge0 = edge_set.pop()\n",
    "        boundary.append(edge0)\n",
    "        last_edge = edge0\n",
    "        while len(edge_set) > 0:\n",
    "            i,j = last_edge\n",
    "            j_first, j_second = find_edges_with(j, edge_set)\n",
    "            if j_first:\n",
    "                edge_set.remove((j, j_first[0]))\n",
    "                edge_with_j = (j, j_first[0])\n",
    "                boundary.append(edge_with_j)\n",
    "                last_edge = edge_with_j\n",
    "            elif j_second:\n",
    "                edge_set.remove((j_second[0], j))\n",
    "                edge_with_j = (j, j_second[0])  # flip edge rep\n",
    "                boundary.append(edge_with_j)\n",
    "                last_edge = edge_with_j\n",
    "\n",
    "            if edge0[0] == last_edge[1]:\n",
    "                break\n",
    "\n",
    "        boundary_lst.append(boundary)\n",
    "    return boundary_lst[0]\n",
    "\n",
    "from matplotlib.pyplot import *\n",
    "from scipy import interpolate\n",
    "def find_first_peak(x_fil, y_fil, x0, xmin, xmax, x_mean, time):\n",
    "\tif x_fil[0] > x_fil[-1]:\n",
    "\t\tx_fil = x_fil[::-1]\n",
    "\t\ty_fil = y_fil[::-1]\n",
    "\tind = np.argmax(y_fil) \n",
    "\tprint(\"max ={} {}\".format(x_fil[ind], y_fil[ind]))    \n",
    "\t#choose some points if they are:\n",
    "\targs = (y_fil >= 0.3) & (x_fil <= x_mean)\n",
    "\tx_ripple = x_fil[args]\n",
    "\ty_ripple = y_fil[args]\n",
    "    \n",
    "# \tplt.figure()\n",
    "# \tplt.plot(x_ripple, y_ripple)\n",
    "# \tplt.show()\n",
    "\n",
    "\tprint(\"sizes of ripple:{} {}\".format(x_ripple.shape, y_ripple.shape))\n",
    "\n",
    "\t#find the first peak in a smoothed curve\n",
    "\tpeaks, props = find_peaks(y_ripple, prominence=0.001)\n",
    "\tprint(\"peaks, props:\", peaks, props)\n",
    "\ttry:\n",
    "\t\tx_peak, y_peak = x_ripple[peaks[0]], y_ripple[peaks[0]]\n",
    "\texcept:\n",
    "\t\tx_peak, y_peak = np.inf, np.inf\n",
    "\tlength_x_clip = x_mean - x_peak\n",
    "\tprint('x_peak candidates=', x_ripple[peaks], 'y_peak candidates=', y_ripple[peaks])\n",
    "\tprint('x_peak', x_peak, 'y_peak=', y_peak)\n",
    "\n",
    "\t# calculate actual min max thickness and averaged min max values of thickness\n",
    "\targs = (x_fil >= x_peak) & (x_fil <= x_mean)\n",
    "\ty_ripple_slice = y_fil[args]\n",
    "\tdelta_min = 0.5 - y_ripple_slice.max()\n",
    "\tdelta_max = 0.5 - y_ripple_slice.min()\n",
    "\tdelta_min_smooth = 0.5 - y_ripple.max()\n",
    "\tdelta_max_smooth = 0.5 - y_ripple.min()\n",
    "\treturn x_peak, y_peak, length_x_clip, delta_min, delta_max, delta_min_smooth, delta_max_smooth\n",
    "\n",
    "\n",
    "\n",
    "\n",
    "def toX(x, y):\n",
    "    return np.concatenate((x.reshape(-1,1), y.reshape(-1,1)), axis=1)\n",
    "\n",
    "def fromX(X):\n",
    "    return X[:,0], X[:,1]\n",
    "\n",
    "def PCAsort(x, y):\n",
    "    # PCA\n",
    "    xy = toX(x, y)\n",
    "    pca = PCA(2).fit(xy)\n",
    "    xypca = pca.transform(xy)\n",
    "    newx, newy = fromX(xypca)\n",
    "\n",
    "    #sort\n",
    "    indexSort = np.argsort(newx)\n",
    "    return newx[indexSort], newy[indexSort], pca\n",
    "\n",
    "def interp_data(x, y, N):\n",
    "    f = interpolate.interp1d(x, y, kind='linear')\n",
    "    newx = np.linspace(x[0], x[-1], N)\n",
    "    return newx, f(newx)\n",
    "\n",
    "def align_data(x, y, direction):\n",
    "    ddir = np.hstack((x[-1] - x[0], y[-1] - y[0]));\n",
    "    return (x, y) if np.dot(direction, ddir) > 0 else (x[::-1], y[::-1])\n",
    "\n",
    "\n",
    "# Solution from https://stackoverflow.com/a/63368162/2531400\n",
    "def XYclean(x, y, window=None, N=None):\n",
    "    newx, newy, pca = PCAsort(x, y)\n",
    "\n",
    "    #add some more points (optional)\n",
    "    newx, newy = interp_data(newx, newy, N)\n",
    "\n",
    "    #smooth with a filter (optional)\n",
    "    newy = signal.savgol_filter(newy, window, 2)\n",
    "\n",
    "    #return back to old coordinates\n",
    "    xyclean = pca.inverse_transform(toX(newx, newy))\n",
    "\n",
    "    return fromX(xyclean)\n",
    "\n",
    "def smoother_vf(xin, yin, N_polynomials = 20, sigma = 1):\n",
    "    xin_min = min(xin)\n",
    "    xin_max = max(xin)\n",
    "    yin_min = min(yin)\n",
    "    yin_max = max(yin)\n",
    "    \n",
    "    x = (xin - xin_min)/(xin_max - xin_min)\n",
    "    y = (yin - yin_min)/(yin_max - yin_min)\n",
    "\n",
    "    x = x.reshape((len(x), 1))\n",
    "    D = np.hstack([np.cos(2*np.pi*x*i) for i in range(N_polynomials)] + [np.sin(2*np.pi*x*i) for i in range(N_polynomials)])\n",
    "    w = np.linalg.inv(D.T @ D + sigma*np.eye(2*N_polynomials)) @ D.T @ y\n",
    "    \n",
    "    X = np.linspace(min(x), max(x), 1000)\n",
    "\n",
    "    X = X.reshape((len(X), 1))\n",
    "    D = np.hstack([np.cos(2*np.pi*X*i)for i in range(N_polynomials)] + [np.sin(2*np.pi*X*i) for i in range(N_polynomials)])\n",
    "    Y = D @ w\n",
    "    X = X.reshape((len(X), ))\n",
    "#     plt.plot(x, y, \".\", color=\"grey\", alpha=0.3, label=\"data\")\n",
    "#     plt.plot(X, Y, color=\"red\", label=\"fit\")\n",
    "#     plt.legend();\n",
    "    \n",
    "    return (X + xin_min)*(xin_max - xin_min), (Y + yin_min)*(yin_max - yin_min)\n",
    "\n",
    "\n",
    "from tsmoothie.smoother import *\n",
    "\n",
    "def find_min_max_curve(points, alpha, p0, pN):\n",
    "    # Computing the alpha shape\n",
    "    edges = alpha_shape(points, alpha=alpha, only_outer=True)\n",
    "    #order edges\n",
    "    edges = stitch_boundaries(edges)\n",
    "    \n",
    "    edge_points = np.zeros((len(edges),2))\n",
    "    k=0\n",
    "    for i, j in edges:\n",
    "        edge_points[k,:] = points[[i, j], 0][0] , points[[i, j], 1][0]\n",
    "        k += 1\n",
    "    inodes, jnodes = zip(*edges)\n",
    "    min_x_ind = np.argmin(np.linalg.norm(edge_points - p0,axis=1))\n",
    "    max_x_ind = np.argmin(np.linalg.norm(edge_points - pN,axis=1))\n",
    "    print(\"min_x_ind={} max_x_ind={}\".format(min_x_ind, max_x_ind))\n",
    "#     min_x_ind = np.argmin(edge_points[:, 0])\n",
    "#     max_x_ind = np.argmax(edge_points[:, 0])\n",
    "    if min_x_ind < max_x_ind:\n",
    "        lower_hull = edge_points[min_x_ind:max_x_ind+1, :]\n",
    "        upper_hull = np.concatenate([edge_points[max_x_ind:, :], edge_points[:min_x_ind+1, :]])\n",
    "    else:\n",
    "        upper_hull = edge_points[max_x_ind:min_x_ind+1, :]\n",
    "        lower_hull = np.concatenate([edge_points[min_x_ind:, :], edge_points[:max_x_ind+1, :]])\n",
    "    return lower_hull, upper_hull\n",
    "    \n",
    "\n",
    "def plot_smoothed_curve(x, y, alpha = 0.1, N = 4000, M = 3, Ninterp = 4000, Npolyfit = 50, savgol_order = 2, window = 100,\n",
    "                        is_cycle = False, show_in_pca = False, plot_clusters=True, plot_all_points=True, \n",
    "                        plot_min_max_curves=True, plot_smooth_curve=True, plot_rhomb = True, show_cluster_num = True, show_split_line=True):\n",
    "    Npca = N//M\n",
    "    window += 1 if window % 2 == 0 else 0\n",
    "    \n",
    "    xmin = x.min()\n",
    "    xmax = x.max()\n",
    "    xcm = 0.5*(xmax + xmin)\n",
    "    inds = x < xcm\n",
    "    ind_xy0 = y[inds].argmin()\n",
    "    xy0 = x[inds][ind_xy0], y[inds][ind_xy0]\n",
    "#     print('xyo****=', xy0, y[inds])\n",
    "    inds = x > xcm\n",
    "    ind_xyN = y[inds].argmin()\n",
    "    xyN = x[inds][ind_xyN], y[inds][ind_xyN]\n",
    "    length = xyN[0] - xy0[0]\n",
    "    print('xy0=', xy0, 'xyN=', xyN, 'length=',length)\n",
    "    \n",
    "    wdw = max(window, Npolyfit)\n",
    "    x = np.concatenate([xy0[0] + length*np.linspace(-0.01, 0, wdw), x, xyN[0] + length*np.linspace(0, 0.01, wdw)])\n",
    "    y = np.concatenate([xy0[1] - np.linspace(0.1, 0, wdw), y, xyN[1] - np.linspace(0,0.1, wdw)])\n",
    "\n",
    "    plt.figure(figsize=(10,8))\n",
    "    if plot_all_points:\n",
    "        plt.plot(x,y, 'b.', linewidth=2, markersize=0.2)\n",
    "\n",
    "    #split points into 3 parts\n",
    "    cut_x1, cut_x2 = xmin + .08*(xmax-xmin), xmin + .7*(xmax-xmin)\n",
    "    if not show_in_pca and show_split_line:\n",
    "        plt.axvline(x=cut_x1, color='k', linestyle='-.', lw=1)\n",
    "        plt.axvline(x=cut_x2, color='k', linestyle='-.', lw=1)\n",
    "    dcut = 0.05\n",
    "    xmm = {\n",
    "        0: (-np.inf, cut_x1),\n",
    "        1: (cut_x1, cut_x2),\n",
    "        2: (cut_x2, np.inf),\n",
    "    }\n",
    "    ymm = np.min(y) + 0.01*(np.max(y) - np.min(y)) # to cut edges of the fitting curve\n",
    "    inds = [(x < cut_x1 + dcut*(xmax-xmin)),\n",
    "            (x > cut_x1 - dcut*(xmax-xmin)) & (x < cut_x2 + dcut*(xmax-xmin)),\n",
    "            (x >= cut_x2 - dcut*(xmax-xmin))]\n",
    "\n",
    "    ccenters = np.zeros((M, 2))\n",
    "    color = plt.cm.rainbow(np.linspace(0, 1, M))\n",
    "    for i, c in zip(range(M), color):\n",
    "        x_, y_ = np.asarray(x[inds[i]]), np.asarray(y[inds[i]])\n",
    "        ccenters[i,:] = x_.mean(), y_.mean()\n",
    "        if not show_in_pca and plot_clusters:\n",
    "            plt.scatter(x_, y_, s=1, color=c)\n",
    "            plt.text(ccenters[i,0]+.03, ccenters[i,1]+.03, i, color=c)\n",
    "            #plt.plot([np.min(x_)], [np.min(y_)], marker='>', markersize=5, color=c, markeredgecolor='k')\n",
    "            #plt.plot([np.min(x_)], [np.max(y_)], marker='>', markersize=5, color=c, markeredgecolor='k')\n",
    "            #plt.plot([np.max(x_)], [np.min(y_)], marker='<', markersize=5, color=c, markeredgecolor='k')\n",
    "            #plt.plot([np.max(x_)], [np.max(y_)], marker='<', markersize=5, color=c, markeredgecolor='k')\n",
    "\n",
    "    \n",
    "\n",
    "    # 3. Hybrid solution: clusterization + 2-NN + PCA\n",
    "    # Sort clusters: https://stackoverflow.com/a/37744549/2531400\n",
    "    clf = NearestNeighbors(n_neighbors=2).fit(ccenters)\n",
    "    G = clf.kneighbors_graph(mode='distance')\n",
    "    #print(G)\n",
    "    T = nx.from_scipy_sparse_matrix(G)\n",
    "    i0 = 0  # number of the first cluster\n",
    "    if not is_cycle:\n",
    "        min_dist = np.inf\n",
    "        for i in range(M):\n",
    "            dist = np.linalg.norm(ccenters[i] - xy0)\n",
    "            if dist < min_dist:\n",
    "                i0 = i; min_dist = dist\n",
    "\n",
    "    order = list(nx.dfs_preorder_nodes(T, i0))\n",
    "    #print(len(order))\n",
    "\n",
    "    X, Y = [], []\n",
    "    for i in range(M):\n",
    "        j = order[i]\n",
    "        x_, y_ = np.asarray(x[inds[j]]), np.asarray(y[inds[j]])\n",
    "        # x_, y_ = x[kmeans.labels_ == j], y[kmeans.labels_ == j]\n",
    "        if show_cluster_num:\n",
    "            plt.text(ccenters[j,0]-.03, ccenters[j,1]-.03, i, color='k')\n",
    "        x_, y_, pca = PCAsort(x_, y_)\n",
    "        x_, y_ = fromX(pca.inverse_transform(toX(x_, y_)))\n",
    "        if i < M-1:\n",
    "            x_, y_ = align_data(x_, y_, ccenters[order[i+1]] - ccenters[j])\n",
    "        else:\n",
    "            x_, y_ = align_data(x_, y_, ccenters[j] - ccenters[order[i-1]])\n",
    "            #print(ccenters[j], ccenters[order[i-1]])\n",
    "        X.append(x_); Y.append(y_)\n",
    "\n",
    "    XX, YY = np.array([]), np.array([])\n",
    "    for i, c in zip(range(M), color):\n",
    "        x_, y_ = X[i], Y[i]        \n",
    "        pca = PCA(2) #, whiten=True)\n",
    "        x_, y_ = fromX(pca.fit_transform(toX(x_, y_)))\n",
    "\n",
    "        xx = np.array([np.min(x_), np.max(x_), np.max(x_), np.min(x_), np.min(x_)])\n",
    "        yy = np.array([np.min(y_), np.min(y_), np.max(y_), np.max(y_), np.min(y_)])\n",
    "\n",
    "        print(f\"Cluster {i} contains {X[i].size} points within \\\n",
    "            {np.min(x_):.2}<x<{np.max(x_):.2} & {np.min(y_):.2}<y<{np.max(y_):.2}, \\\n",
    "            ratio = {(np.max(x_)-np.min(x_))/(np.max(y_)-np.min(y_)):.3}\")\n",
    "        if show_in_pca:\n",
    "            plt.scatter(x_, y_, color=c, s=1)\n",
    "            #print(pca.components_)\n",
    "            #for k in range(2):\n",
    "            #    plt.plot([0, pca.components_[k][0]], [0, pca.components_[k][1]], lw=1, color=c)\n",
    "\n",
    "        #'''Chebyshev polynomial fit\n",
    "        p = np.polynomial.Chebyshev.fit(x_, y_, Npolyfit)\n",
    "        x_ = np.linspace(x_[0], x_[-1], Ninterp//M); y_ = p(x_)\n",
    "#         x_ = np.linspace(xy0[0], xyN[0], Ninterp//M); y_ = p(x_)\n",
    "        \n",
    "        #'''\n",
    "        '''Convolution Smoother fit\n",
    "        # operate smoothing\n",
    "        N_x_ = len(x_)\n",
    "        print(\"N_x_=\",N_x_)\n",
    "        x_, y_ = Convolution(x_, y_, window=N_x_//50, n_sigma=2)\n",
    "        '''\n",
    "        \n",
    "        ''' operate smoothing\n",
    "        smoother = SplineSmoother(n_knots=10, spline_type='natural_cubic_spline')\n",
    "        smoother.smooth(y_); y_ = smoother.smooth_data[0]\n",
    "        # plot the first smoothed timeseries with intervals\n",
    "        # plt.plot(x_, smoother.smooth_data[0], linewidth=3, color='blue')\n",
    "        # plt.plot(x, smoother.data[0], '.k')\n",
    "        # plt.fill_between(x_, low[0], up[0], alpha=0.3)\n",
    "        # plt.fill_between(range(len(smoother.data[0])), low[0], up[0], alpha=0.3)\n",
    "        '''\n",
    "        '''Yet another solution based on LOWESS method (sophisticated SavGol)\n",
    "        xx_ = np.linspace(x_[0], x_[-1], Ninterp//M)\n",
    "        y_ = sm.nonparametric.lowess(y_, x_, xvals=xx_, frac=1e-2); x_ = xx_\n",
    "        '''\n",
    "\n",
    "        '''Savitsky-Golay filter applied to uniformly spaced data\n",
    "        x_, y_ = interp_data(x_, y_, Ninterp//M)\n",
    "        y_ = signal.savgol_filter(y_, window, savgol_order)\n",
    "        #'''\n",
    "        \n",
    "        if show_in_pca:\n",
    "            plt.plot(xx, yy, color=c, ls='--', lw=1)\n",
    "            plt.plot(x_, y_, color='k', ls='-', lw=2)\n",
    "        x_, y_ = fromX(pca.inverse_transform(toX(x_, y_)))\n",
    "        xx, yy = fromX(pca.inverse_transform(toX(xx, yy)))\n",
    "        print('Chebushev is done xminmax={} {}'.format(min(x_), max(x_)))\n",
    "        \n",
    "        mask = (x_ > xmm[i][0]) & (x_ < xmm[i][1]) & (y_ > ymm)\n",
    "        x_, y_ = x_[mask], y_[mask]\n",
    "        # Fill 1-D arrays\n",
    "        XX = np.hstack((XX, x_))\n",
    "        YY = np.hstack((YY, y_))\n",
    "        \n",
    "        if not show_in_pca and plot_rhomb:\n",
    "            plt.plot(xx, yy, color=c, ls=':', lw=1)\n",
    "            plt.plot(x_, y_, 'k', lw=1, ls='--')\n",
    "\n",
    "    # upper and lower lines\n",
    "    lower_hull, upper_hull = find_min_max_curve(np.c_[x,y], alpha = alpha, p0=xy0, pN=xyN)\n",
    "    if plot_min_max_curves:\n",
    "        plt.plot(upper_hull[:,0],upper_hull[:,1], \"r\", lw=1)\n",
    "        plt.plot(lower_hull[:,0],lower_hull[:,1], \"m\", lw=1)\n",
    "    \n",
    "    x_peak, y_peak, length_x_clip, delta_min, delta_max, delta_min_smooth, delta_max_smooth = find_first_peak(upper_hull[:,0], upper_hull[:,1], xy0[0], xmin, xmax, xcm, 0)  \n",
    "\n",
    "    if plot_smooth_curve:\n",
    "        plt.plot(XX, YY, 'k', lw=2)\n",
    "\n",
    "    if True:\n",
    "        plt.axvline(x=x_peak, color='k', linestyle='-.', lw=1)\n",
    "#         plt.axvline(x=cut_x2, color='k', linestyle='-.', lw=1)\n",
    "    plt.savefig(\"lower_upper_bounds.pdf\")\n",
    "    plt.show()\n",
    "    \n",
    "    return lower_hull, upper_hull, XX, YY, x_peak, y_peak, length_x_clip, delta_min, delta_max, delta_min_smooth, delta_max_smooth, xy0, xyN\n",
    "    \n",
    "\n",
    "def find_smooth_curve_and_bounds(x, y, xcm, alpha = 0.1, N = 4000, M = 3, Ninterp = 4000, Npolyfit = 50, savgol_order = 2, window = 100,\\\n",
    "                        is_cycle = False, show_in_pca = False, plot_clusters=True, plot_all_points=True, \\\n",
    "                        plot_rhomb = True, show_cluster_num = True, show_split_line=True):\n",
    "    Npca = N//M\n",
    "    window += 1 if window % 2 == 0 else 0\n",
    "    \n",
    "    xmin = x.min()\n",
    "    xmax = x.max()\n",
    "    xcm = 0.5*(xmax + xmin)\n",
    "    inds = x < xcm\n",
    "    ind_xy0 = y[inds].argmin()\n",
    "    xy0 = x[inds][ind_xy0], y[inds][ind_xy0]\n",
    "#     print('xyo****=', xy0, y[inds])\n",
    "    inds = x > xcm\n",
    "    ind_xyN = y[inds].argmin()\n",
    "    xyN = x[inds][ind_xyN], y[inds][ind_xyN]\n",
    "    length = xyN[0] - xy0[0]\n",
    "    print('xy0=', xy0, 'xyN=', xyN, 'length=',length)\n",
    "\n",
    "    wdw = max(window, Npolyfit)\n",
    "    x = np.concatenate([xy0[0] + length*np.linspace(-0.01, 0, wdw), x, xyN[0] + length*np.linspace(0, 0.01, wdw)])\n",
    "    y = np.concatenate([xy0[1] - np.linspace(0.1, 0, wdw), y, xyN[1] - np.linspace(0,0.1, wdw)])\n",
    "\n",
    "    #split points into 3 parts\n",
    "    cut_x1, cut_x2 = xmin + .08*(xmax-xmin), xmin + .7*(xmax-xmin)\n",
    "    \n",
    "    dcut = 0.05\n",
    "    xmm = {\n",
    "        0: (-np.inf, cut_x1),\n",
    "        1: (cut_x1, cut_x2),\n",
    "        2: (cut_x2, np.inf),\n",
    "    }\n",
    "    ymm = np.min(y) + 0.01*(np.max(y) - np.min(y)) # to cut edges of the fitting curve\n",
    "    inds = [(x < cut_x1 + dcut*(xmax-xmin)),\n",
    "            (x > cut_x1 - dcut*(xmax-xmin)) & (x < cut_x2 + dcut*(xmax-xmin)),\n",
    "            (x >= cut_x2 - dcut*(xmax-xmin))]\n",
    "\n",
    "    ccenters = np.zeros((M, 2))\n",
    "    color = plt.cm.rainbow(np.linspace(0, 1, M))\n",
    "    for i, c in zip(range(M), color):\n",
    "        x_, y_ = np.asarray(x[inds[i]]), np.asarray(y[inds[i]])\n",
    "        ccenters[i,:] = x_.mean(), y_.mean()\n",
    "       \n",
    "\n",
    "    # 3. Hybrid solution: clusterization + 2-NN + PCA\n",
    "    # Sort clusters: https://stackoverflow.com/a/37744549/2531400\n",
    "    clf = NearestNeighbors(n_neighbors=2).fit(ccenters)\n",
    "    G = clf.kneighbors_graph(mode='distance')\n",
    "\n",
    "    T = nx.from_scipy_sparse_matrix(G)\n",
    "    i0 = 0  # number of the first cluster\n",
    "    if not is_cycle:\n",
    "        min_dist = np.inf\n",
    "        for i in range(M):\n",
    "            dist = np.linalg.norm(ccenters[i] - xy0)\n",
    "            if dist < min_dist:\n",
    "                i0 = i; min_dist = dist\n",
    "\n",
    "    order = list(nx.dfs_preorder_nodes(T, i0))\n",
    "\n",
    "    X, Y = [], []\n",
    "    for i in range(M):\n",
    "        j = order[i]\n",
    "        x_, y_ = np.asarray(x[inds[j]]), np.asarray(y[inds[j]])\n",
    "        # x_, y_ = x[kmeans.labels_ == j], y[kmeans.labels_ == j]\n",
    "        x_, y_, pca = PCAsort(x_, y_)\n",
    "        x_, y_ = fromX(pca.inverse_transform(toX(x_, y_)))\n",
    "        if i < M-1:\n",
    "            x_, y_ = align_data(x_, y_, ccenters[order[i+1]] - ccenters[j])\n",
    "        else:\n",
    "            x_, y_ = align_data(x_, y_, ccenters[j] - ccenters[order[i-1]])\n",
    "            #print(ccenters[j], ccenters[order[i-1]])\n",
    "        X.append(x_); Y.append(y_)\n",
    "\n",
    "    XX, YY = np.array([]), np.array([])\n",
    "    for i, c in zip(range(M), color):\n",
    "        x_, y_ = X[i], Y[i]\n",
    "        pca = PCA(2) #, whiten=True)\n",
    "        x_, y_ = fromX(pca.fit_transform(toX(x_, y_)))\n",
    "\n",
    "        xx = np.array([np.min(x_), np.max(x_), np.max(x_), np.min(x_), np.min(x_)])\n",
    "        yy = np.array([np.min(y_), np.min(y_), np.max(y_), np.max(y_), np.min(y_)])\n",
    "\n",
    "        print(f\"Cluster {i} contains {X[i].size} points within \\\n",
    "            {np.min(x_):.2}<x<{np.max(x_):.2} & {np.min(y_):.2}<y<{np.max(y_):.2}, \\\n",
    "            ratio = {(np.max(x_)-np.min(x_))/(np.max(y_)-np.min(y_)):.3}\")\n",
    "        #'''Chebyshev polynomial fit\n",
    "\n",
    "        p = np.polynomial.Chebyshev.fit(x_, y_, Npolyfit)\n",
    "        x_ = np.linspace(x_[0], x_[-1], Ninterp//M); y_ = p(x_)\n",
    "        print('Chebushev is done xminmax={} {}'.format(min(x_), max(x_)))\n",
    "        #'''\n",
    "        '''Convolution Smoother fit\n",
    "        # operate smoothing\n",
    "        N_x_ = len(x_)\n",
    "        print(\"N_x_=\",N_x_)\n",
    "        x_, y_ = Convolution(x_, y_, window=N_x_//50, n_sigma=2)\n",
    "        '''\n",
    "        x_, y_ = fromX(pca.inverse_transform(toX(x_, y_)))\n",
    "\n",
    "        mask = (x_ > xmm[i][0]) & (x_ < xmm[i][1]) & (y_ > ymm)\n",
    "        x_, y_ = x_[mask], y_[mask]\n",
    "        # Fill 1-D arrays\n",
    "        XX = np.hstack((XX, x_))\n",
    "        YY = np.hstack((YY, y_))\n",
    "\n",
    "\n",
    "    # upper and lower lines\n",
    "    lower_hull, upper_hull = find_min_max_curve(np.c_[x,y], alpha = alpha, p0=xy0, pN=xyN)\n",
    "\n",
    "    x_peak, y_peak, length_x_clip, delta_min, delta_max, delta_min_smooth, delta_max_smooth = find_first_peak(upper_hull[:,0], upper_hull[:,1], xy0[0], xmin, xmax, xcm, 0)\n",
    "    return lower_hull, upper_hull, XX, YY, x_peak, y_peak, length_x_clip, delta_min, delta_max, delta_min_smooth, delta_max_smooth, xy0, xyN\n",
    "\n",
    "\n",
    "import plotly.graph_objects as go\n",
    "from pathlib import Path\n",
    "def plot_graph(list_x, list_y, names, xtitle, ytitle, image_name, list_x_fill=[], list_y_fill=[], mode=[],\\\n",
    "\t\t\t   dash=['solid', 'dot', 'dash', 'longdash'],\\\n",
    "\t\t\t   colors=['blue', 'red', 'hsv(120,100,100)', 'green', 'black' ],\\\n",
    "\t\t\t   marker_size=15, xrange =[], yrange = [], \\\n",
    "\t\t\t   marker_style = ['circle', 'triangle-up', 'triangle-down','square', 'diamond', 'cross',  'x-thin', 'cross-thin' ],\\\n",
    "\t\t\t   width=1000, height=500, path='./'):\n",
    "\tif mode == []:\n",
    "\t\tfor i in range(len(list_x)):\n",
    "\t\t\tmode.append('lines+markers')\n",
    "\n",
    "\tfigborderlinesize = 0.7\n",
    "\tlegborderlinesize = 0.7\n",
    "\tyaxis = dict(\n",
    "\t\ttickfont = dict(\n",
    "\t\t\tfamily = 'Times New Roman',\n",
    "\t\t\tsize = 20,\n",
    "\t\t\tcolor = 'black'\n",
    "\t\t),\n",
    "\t\ttitlefont = dict(\n",
    "\t\t\tfamily = 'Times New Roman',\n",
    "\t\t\tsize = 25,\n",
    "\t\t\tcolor = 'black'\n",
    "\t\t),\n",
    "\t)\n",
    "\txaxis = dict(\n",
    "\t\ttickfont = dict(\n",
    "\t\t\tfamily = 'Times New Roman',\n",
    "\t\t\tsize = 20,\n",
    "\t\t\tcolor = 'black'\n",
    "\t\t),\n",
    "\t\ttitlefont = dict(\n",
    "\t\t\tfamily = 'Times New Roman',\n",
    "\t\t\tsize = 25,\n",
    "\t\t\tcolor = 'black'\n",
    "\t\t)\n",
    "\t)\n",
    "\n",
    "\taxis_style = dict(showline=True, gridwidth=1, gridcolor='lightgrey', linewidth=figborderlinesize, linecolor='black', mirror=True, ticks='outside', tickfont = dict(family = 'Times New Roman', size = 20, color = 'black'))\n",
    "\tbg_style = {'plot_bgcolor': 'rgba(255, 255, 255, 1)', 'paper_bgcolor': 'rgba(255, 255, 255, 1)',}\n",
    "\n",
    "\n",
    "\tfig = go.Figure()\n",
    "\tif len(list_x_fill) == 2 and len(list_y_fill) == 2:\n",
    "\t\tfig.add_trace(go.Scatter(x=list_x_fill[1], y=list_y_fill[1], mode='lines', fillcolor='blueviolet', line_color='blueviolet', fill='tozeroy')) # fill to trace0 y\n",
    "\t\tfig.add_trace(go.Scatter(x=list_x_fill[0], y=list_y_fill[0], mode='lines', fillcolor='lightsteelblue',     line_color='indigo', fill='tozeroy')) # fill down to xaxis\n",
    "\t\t\t\n",
    "\tfor i,x in enumerate(list_x):\n",
    "\t\tprint('Plot curve number:', i)\n",
    "\t\ty = np.asarray(list_y[i])\n",
    "\t\tfig.add_trace(go.Scatter(x=x, y=y, name=names[i],\n",
    "\t\t\t\t\t\t\t\t mode=mode[i],\n",
    "\t\t\t\t\t\t\t\t marker=dict(\n",
    "\t\t\t\t\t\t\t\t\t size=marker_size,\n",
    "\t\t\t\t\t\t\t\t\t line=dict(\n",
    "\t\t\t\t\t\t\t\t\t\t color=colors[i],\n",
    "\t\t\t\t\t\t\t\t\t\t width=1\n",
    "\t\t\t\t\t\t\t\t\t )\n",
    "\t\t\t\t\t\t\t\t ),\n",
    "\t\t\t\t\t\t\t\t marker_symbol=marker_style[i],\n",
    "\t\t\t\t\t\t\t\t line=dict(color=colors[i], width=2, dash=dash[i]),\n",
    "\t\t\t\t\t\t\t\t textfont=dict(\n",
    "\t\t\t\t\t\t\t\t\t family=\"Times New Roman\",\n",
    "\t\t\t\t\t\t\t\t\t size=18,\n",
    "\t\t\t\t\t\t\t\t\t color=\"LightSeaGreen\")\n",
    "\t\t\t\t\t\t\t\t ))\n",
    "\t\n",
    "\n",
    "\tfig.update_layout(\n",
    "\t\twidth = width,\n",
    "\t\theight = height,\n",
    "\t\txaxis_title=xtitle,\n",
    "\t\tyaxis_title=ytitle,\n",
    "\t\tyaxis = yaxis,\n",
    "\t\txaxis = xaxis,\n",
    "\t\tshowlegend=True\n",
    "\t)\n",
    "\tfig.update_layout(bg_style)\n",
    "\tfig.update_xaxes(axis_style)\n",
    "\tfig.update_yaxes(axis_style)\n",
    "\tfig.update_layout(legend=dict(\n",
    "\t\t# yanchor=\"bottom\",\n",
    "\t\t# y=0.1,\n",
    "\t\t# xanchor=\"left\",\n",
    "\t\t# x=1.01,\n",
    "\t\tbgcolor=\"White\",\n",
    "\t\tbordercolor=\"Black\",\n",
    "\t\tborderwidth=figborderlinesize\n",
    "\t))\n",
    "\tfig.update_layout(\n",
    "\t\tautosize=False,\n",
    "\t\tmargin=dict(\n",
    "\t\t\tl=0,\n",
    "\t\t\tr=0,\n",
    "\t\t\tb=0,\n",
    "\t\t\tt=0,\n",
    "\t\t\tpad=0.1\n",
    "\t\t),\n",
    "\t\t#     paper_bgcolor=\"LightSteelBlue\",\n",
    "\t)\n",
    "\t\n",
    "\tif len(xrange) == 2:\n",
    "\t\tfig.update_xaxes(range=xrange)\n",
    "\tif len(yrange) == 2:\n",
    "\t\tfig.update_yaxes(range=yrange)\n",
    "\t#fig.show()\n",
    "\tfn = path + image_name\n",
    "\tprint('Write image to file:', fn)\n",
    "\tfig.write_image(str(Path(fn)), engine=\"kaleido\")\n",
    "\tprint(\"Successfully generated:\", fn)\n",
    "    \n",
    "    \n",
    "    \n",
    "    \n",
    "\n",
    "def pca_sort(x,y, M = 3, window = 100, is_cycle = False,  dcut = 0.05):\n",
    "    x = np.asarray(x)\n",
    "    y = np.asarray(y)\n",
    "    window += 1 if window % 2 == 0 else 0\n",
    "\n",
    "    xmin = x.min()\n",
    "    xmax = x.max()\n",
    "    xcm = 0.5*(xmax + xmin)\n",
    "    inds = x < xcm\n",
    "    ind_xy0 = y[inds].argmin()\n",
    "    xy0 = x[inds][ind_xy0], y[inds][ind_xy0]\n",
    "    #split points into 3 parts\n",
    "    cut_x1, cut_x2 = xmin + .08*(xmax-xmin), xmin + .7*(xmax-xmin)\n",
    "\n",
    "\n",
    "    inds = [(x < cut_x1 + dcut*(xmax-xmin)),\n",
    "            (x > cut_x1 - dcut*(xmax-xmin)) & (x < cut_x2 + dcut*(xmax-xmin)),\n",
    "            (x >= cut_x2 - dcut*(xmax-xmin))]\n",
    "\n",
    "    ccenters = np.zeros((M, 2))\n",
    "    color = plt.cm.rainbow(np.linspace(0, 1, M))\n",
    "    for i, c in zip(range(M), color):\n",
    "        x_, y_ = np.asarray(x[inds[i]]), np.asarray(y[inds[i]])\n",
    "        ccenters[i,:] = x_.mean(), y_.mean()\n",
    "\n",
    "\n",
    "    # 3. Hybrid solution: clusterization + 2-NN + PCA\n",
    "    # Sort clusters: https://stackoverflow.com/a/37744549/2531400\n",
    "    clf = NearestNeighbors(n_neighbors=2).fit(ccenters)\n",
    "    G = clf.kneighbors_graph(mode='distance')\n",
    "\n",
    "    T = nx.from_scipy_sparse_matrix(G)\n",
    "    i0 = 0  # number of the first cluster\n",
    "    if not is_cycle:\n",
    "        min_dist = np.inf\n",
    "        for i in range(M):\n",
    "            dist = np.linalg.norm(ccenters[i] - xy0)\n",
    "            if dist < min_dist:\n",
    "                i0 = i; min_dist = dist\n",
    "\n",
    "    order = list(nx.dfs_preorder_nodes(T, i0))\n",
    "\n",
    "    X, Y = [], []\n",
    "    for i in range(M):\n",
    "        j = order[i]\n",
    "        x_, y_ = np.asarray(x[inds[j]]), np.asarray(y[inds[j]])\n",
    "        x_, y_, pca = PCAsort(x_, y_)\n",
    "        x_, y_ = fromX(pca.inverse_transform(toX(x_, y_)))\n",
    "        if i < M-1:\n",
    "            x_, y_ = align_data(x_, y_, ccenters[order[i+1]] - ccenters[j])\n",
    "        else:\n",
    "            x_, y_ = align_data(x_, y_, ccenters[j] - ccenters[order[i-1]])\n",
    "        X.append(list(x_)); Y.append(list(y_))\n",
    "    return sum(X, []), sum(Y, [])\n",
    "    return np.asarray(X), np.asarray(Y)\n",
    "\n",
    "def Convolution(x, y, window=100, n_sigma=2):\n",
    "    smootherx = ConvolutionSmoother(window_len=window, window_type='ones')\n",
    "    smootherx.smooth(x)\n",
    "    # generate intervals\n",
    "    # lowx, upx = smootherx.get_intervals('sigma_interval', n_sigma=2)\n",
    "    # operate smoothing\n",
    "    smoothery = ConvolutionSmoother(window_len=window, window_type='ones')\n",
    "    smoothery.smooth(y)\n",
    "    # generate intervals\n",
    "    # lowy, upy = smoothery.get_intervals('sigma_interval', n_sigma=2)\n",
    "    return smootherx.smooth_data[0], smoothery.smooth_data[0];\n",
    "\n",
    "def sort_and_smooth(x,y, M = 3, convolution = False, chebushev = True, Ninterp = 4000, Npolyfit = 50, window = 100, is_cycle = False):\n",
    "    window += 1 if window % 2 == 0 else 0\n",
    "    xmin = x.min()\n",
    "    xmax = x.max()\n",
    "    xcm = 0.5*(xmax + xmin)\n",
    "    inds = x < xcm\n",
    "    ind_xy0 = y[inds].argmin()\n",
    "    xy0 = x[inds][ind_xy0], y[inds][ind_xy0]\n",
    "    inds = x > xcm\n",
    "    ind_xyN = y[inds].argmin()\n",
    "    xyN = x[inds][ind_xyN], y[inds][ind_xyN]\n",
    "    length_x_clip = xyN[0] - xy0[0]\n",
    "    print('xy0=', xy0, 'xyN=', xyN, 'length=',length_x_clip)\n",
    "    wdw = max(window, Npolyfit)\n",
    "    x = np.concatenate([xy0[0] + length_x_clip*np.linspace(-0.01, 0, wdw), x, xyN[0] + length_x_clip*np.linspace(0, 0.01, wdw)])\n",
    "    y = np.concatenate([xy0[1] - np.linspace(0.1, 0, wdw), y, xyN[1] - np.linspace(0,0.1, wdw)])\n",
    "\n",
    "    #split points into 3 parts\n",
    "    cut_x1, cut_x2 = xmin + .08*(xmax-xmin), xmin + .7*(xmax-xmin)\n",
    "\n",
    "    dcut = 0.05\n",
    "    xmm = {\n",
    "        0: (-np.inf, cut_x1),\n",
    "        1: (cut_x1, cut_x2),\n",
    "        2: (cut_x2, np.inf),\n",
    "    }\n",
    "    ymm = np.min(y) + 0.01*(np.max(y) - np.min(y)) # to cut edges of the fitting curve\n",
    "    inds = [(x < cut_x1 + dcut*(xmax-xmin)),\n",
    "            (x > cut_x1 - dcut*(xmax-xmin)) & (x < cut_x2 + dcut*(xmax-xmin)),\n",
    "            (x >= cut_x2 - dcut*(xmax-xmin))]\n",
    "\n",
    "    ccenters = np.zeros((M, 2))\n",
    "    color = plt.cm.rainbow(np.linspace(0, 1, M))\n",
    "    for i, c in zip(range(M), color):\n",
    "        x_, y_ = np.asarray(x[inds[i]]), np.asarray(y[inds[i]])\n",
    "        ccenters[i,:] = x_.mean(), y_.mean()\n",
    "\n",
    "    # 3. Hybrid solution: clusterization + 2-NN + PCA\n",
    "    # Sort clusters: https://stackoverflow.com/a/37744549/2531400\n",
    "    clf = NearestNeighbors(n_neighbors=2).fit(ccenters)\n",
    "    G = clf.kneighbors_graph(mode='distance')\n",
    "\n",
    "    T = nx.from_scipy_sparse_matrix(G)\n",
    "    i0 = 0  # number of the first cluster\n",
    "    if not is_cycle:\n",
    "        min_dist = np.inf\n",
    "        for i in range(M):\n",
    "            dist = np.linalg.norm(ccenters[i] - xy0)\n",
    "            if dist < min_dist:\n",
    "                i0 = i; min_dist = dist\n",
    "\n",
    "    order = list(nx.dfs_preorder_nodes(T, i0))\n",
    "\n",
    "    X, Y = [], []\n",
    "    for i in range(M):\n",
    "        j = order[i]\n",
    "        x_, y_ = np.asarray(x[inds[j]]), np.asarray(y[inds[j]])\n",
    "        # x_, y_ = x[kmeans.labels_ == j], y[kmeans.labels_ == j]\n",
    "        x_, y_, pca = PCAsort(x_, y_)\n",
    "        x_, y_ = fromX(pca.inverse_transform(toX(x_, y_)))\n",
    "        if i < M-1:\n",
    "            x_, y_ = align_data(x_, y_, ccenters[order[i+1]] - ccenters[j])\n",
    "        else:\n",
    "            x_, y_ = align_data(x_, y_, ccenters[j] - ccenters[order[i-1]])\n",
    "            #print(ccenters[j], ccenters[order[i-1]])\n",
    "        X.append(x_); Y.append(y_)\n",
    "\n",
    "    XX, YY = np.array([]), np.array([])\n",
    "    for i, c in zip(range(M), color):\n",
    "        x_, y_ = X[i], Y[i]\n",
    "        pca = PCA(2) #, whiten=True)\n",
    "        x_, y_ = fromX(pca.fit_transform(toX(x_, y_)))\n",
    "\n",
    "        xx = np.array([np.min(x_), np.max(x_), np.max(x_), np.min(x_), np.min(x_)])\n",
    "        yy = np.array([np.min(y_), np.min(y_), np.max(y_), np.max(y_), np.min(y_)])\n",
    "\n",
    "        print(f\"Cluster {i} contains {X[i].size} points within \\\n",
    "            {np.min(x_):.2}<x<{np.max(x_):.2} & {np.min(y_):.2}<y<{np.max(y_):.2}, \\\n",
    "            ratio = {(np.max(x_)-np.min(x_))/(np.max(y_)-np.min(y_)):.3}\")\n",
    "\n",
    "        #'''Chebyshev polynomial fit\n",
    "        if chebushev:\n",
    "            p = np.polynomial.Chebyshev.fit(x_, y_, Npolyfit)\n",
    "            x_ = np.linspace(x_[0], x_[-1], Ninterp//M); y_ = p(x_)\n",
    "            print('Chebushev is done xminmax={} {}'.format(min(x_), max(x_)))\n",
    "\n",
    "        if convolution: #Convolution Smoother fit\n",
    "            N_x_ = len(x_)\n",
    "            print(\"N_x_=\",N_x_)\n",
    "            x_, y_ = Convolution(x_, y_, window=N_x_//50, n_sigma=2)\n",
    "\n",
    "        x_, y_ = fromX(pca.inverse_transform(toX(x_, y_)))\n",
    "\n",
    "        mask = (x_ > xmm[i][0]) & (x_ < xmm[i][1]) & (y_ > ymm)\n",
    "        x_, y_ = x_[mask], y_[mask]\n",
    "        # Fill 1-D arrays\n",
    "        XX = np.hstack((XX, x_))\n",
    "        YY = np.hstack((YY, y_))\n",
    "    return XX, YY, length_x_clip, xy0, xyN, xmin, xmax, xcm\n",
    "\n",
    "def find_smooth_curve_and_bounds(x, y, alpha = 0.1, M = 3, convolution = False, chebushev = True, Ninterp = 4000, Npolyfit = 50, window = 100, is_cycle = False):\n",
    "    XX, YY, length_x_clip, xy0, xyN, xmin, xmax, xcm = sort_and_smooth(x,y, M = M, convolution = convolution, chebushev = chebushev, Ninterp = Ninterp, Npolyfit = Npolyfit, window = window, is_cycle = is_cycle)\n",
    "\n",
    "    # upper and lower lines\n",
    "    lower_hull, upper_hull = find_min_max_curve(np.c_[x,y], alpha = alpha, p0=xy0, pN=xyN)\n",
    "\n",
    "    x_peak, y_peak, length_x_clip, delta_min, delta_max, delta_min_smooth, delta_max_smooth = find_first_peak(upper_hull[:,0], upper_hull[:,1], xy0[0], xmin, xmax, xcm, 0)\n",
    "    return lower_hull, upper_hull, XX, YY, x_peak, y_peak, length_x_clip, delta_min, delta_max, delta_min_smooth, delta_max_smooth, xy0, xyN\n"
   ]
  },
  {
   "cell_type": "code",
   "execution_count": 2,
   "metadata": {},
   "outputs": [
    {
     "name": "stdout",
     "output_type": "stream",
     "text": [
      "xy0= (22.182716369628906, 0.0004700725034859927) xyN= (25.459623336791992, 0.005237827916105199) length= 3.276906967163086\n",
      "Cluster 0 contains 48316 points within             -0.23<x<0.44 & -0.15<y<0.28,             ratio = 1.59\n",
      "Chebushev is done xminmax=22.148398394905595 22.606436162350334\n",
      "Cluster 1 contains 190662 points within             -1.1<x<1.2 & -0.049<y<0.16,             ratio = 11.6\n",
      "Chebushev is done xminmax=22.27923936216862 24.642128702519333\n",
      "Cluster 2 contains 79983 points within             -0.57<x<0.69 & -0.032<y<0.31,             ratio = 3.62\n",
      "Chebushev is done xminmax=24.314032033112234 25.492844795933927\n",
      "min_x_ind=481 max_x_ind=944\n",
      "max =22.277782440185547 0.48439719147925225\n",
      "sizes of ripple:(243,) (243,)\n",
      "peaks, props: [ 48  97 106 126 179 223] {'prominences': array([0.05946762, 0.01354061, 0.00194661, 0.01127547, 0.00757122,\n",
      "       0.00439161]), 'left_bases': array([  0,  81, 103, 116, 161, 213]), 'right_bases': array([242, 242, 242, 242, 242, 242])}\n",
      "x_peak candidates= [22.27778244 22.6888504  22.7695961  22.93108749 23.34215546 23.66513634] y_peak candidates= [0.48439719 0.44820285 0.44637082 0.44206939 0.43631259 0.43176729]\n",
      "x_peak 22.277782440185547 y_peak= 0.48439719147925225\n"
     ]
    },
    {
     "data": {
      "image/png": "[encoded data removed]",
      "text/plain": [
       "<Figure size 720x576 with 1 Axes>"
      ]
     },
     "metadata": {
      "needs_background": "light"
     },
     "output_type": "display_data"
    }
   ],
   "source": [
    "\n",
    "path = '/home/e.sharaborin/Dropbox/Oleg-Evgenii/dumps/'\n",
    "fn = 'r_over_x_total_t=16.1542.csv'\n",
    "# fn = 'r_over_x_total_t=11.9414.csv'\n",
    "# fn = 'r_over_x_total_t=9.989.csv'\n",
    "with open(path + fn, 'r') as f:\n",
    "    lists = json.load(f)\n",
    "    x, y = np.array(lists[0]), np.array(lists[1])\n",
    "xcm = 18.7\n",
    "xz = plot_smoothed_curve(x, y, alpha=0.05, Npolyfit=50, plot_clusters=False, plot_all_points=True, plot_min_max_curves=True, plot_smooth_curve=True, plot_rhomb=False, show_cluster_num=False, show_split_line=False)"
   ]
  },
  {
   "cell_type": "code",
   "execution_count": 3,
   "metadata": {},
   "outputs": [
    {
     "name": "stdout",
     "output_type": "stream",
     "text": [
      "xy0= (22.182716369628906, 0.0004700725034859927) xyN= (25.459623336791992, 0.005237827916105199) length= 3.276906967163086\n",
      "Cluster 0 contains 48316 points within             -0.23<x<0.44 & -0.15<y<0.28,             ratio = 1.59\n",
      "Chebushev is done xminmax=-0.23441147830455183 0.4426976423367335\n",
      "Cluster 1 contains 190662 points within             -1.1<x<1.2 & -0.049<y<0.16,             ratio = 11.6\n",
      "Chebushev is done xminmax=-1.1182401317063357 1.2451723043209348\n",
      "Cluster 2 contains 79983 points within             -0.57<x<0.69 & -0.032<y<0.31,             ratio = 3.62\n",
      "Chebushev is done xminmax=-0.5654358915355416 0.685231742541699\n",
      "min_x_ind=505 max_x_ind=88\n",
      "max =22.277782440185547 0.48439719147925225\n",
      "sizes of ripple:(186,) (186,)\n",
      "peaks, props: [ 38  75  83  95 136 169] {'prominences': array([0.05946762, 0.01322222, 0.0018775 , 0.00857939, 0.00757122,\n",
      "       0.00410576]), 'left_bases': array([  0,  65,  80,  90, 122, 163]), 'right_bases': array([185, 185, 185, 185, 185, 185])}\n",
      "x_peak candidates= [22.27778244 22.6888504  22.7695961  22.93108749 23.34215546 23.66513634] y_peak candidates= [0.48439719 0.44820285 0.44637082 0.44206939 0.43631259 0.43176729]\n",
      "x_peak 22.277782440185547 y_peak= 0.48439719147925225\n"
     ]
    }
   ],
   "source": [
    "lower_hull, upper_hull, XX, YY, x_peak, y_peak, length_x_clip, delta_min, delta_max, delta_min_smooth, delta_max_smooth, xy0, xyN = find_smooth_curve_and_bounds(x, y, alpha = 0.1, M = 3, convolution = False, chebushev = True, Ninterp = 4000, Npolyfit = 50, window = 100, is_cycle = False)"
   ]
  },
  {
   "cell_type": "code",
   "execution_count": 22,
   "metadata": {},
   "outputs": [
    {
     "name": "stdout",
     "output_type": "stream",
     "text": [
      "Plot curve number: 0\n",
      "Write image to file: ./r_over_x_total_t=16.1542.pdf\n",
      "Successfully generated: ./r_over_x_total_t=16.1542.pdf\n"
     ]
    }
   ],
   "source": [
    "plot_graph([XX], [YY], \\\n",
    "\t\t   [ \"smoothed\", 'first peak', 'center of mass'], \\\n",
    "\t\t   list_x_fill=[lower_hull[:,0], upper_hull[:,0]], list_y_fill=[lower_hull[:,1], upper_hull[:,1]], \\\n",
    "\t\t   dash=['solid', 'solid', 'dot', 'dot'], \\\n",
    "\t\t   xtitle=\"x\", ytitle=\"r\", image_name=fn[:-3]+'pdf', mode=['markers', 'lines+markers', 'lines', 'lines'], \\\n",
    "\t\t   colors=['blue', 'red', 'black', 'black' ], yrange=[0,0.5], xrange=[xy0[0] - 0.1, xyN[0] + 0.1],\\\n",
    "\t\t   marker_size=1, width=1000, height=500, path='./')"
   ]
  },
  {
   "cell_type": "code",
   "execution_count": 5,
   "metadata": {},
   "outputs": [],
   "source": [
    "# !pip install -U kaleido"
   ]
  },
  {
   "cell_type": "code",
   "execution_count": null,
   "metadata": {},
   "outputs": [],
   "source": [
    "# import plotly.graph_objects as go\n",
    "\n",
    "# fig = go.Figure()\n",
    "# fig.add_trace(go.Scatter(x=[1, 2, 3, 4], y=[0, 2, 3, 5], fill='tozeroy')) # fill down to xaxis\n",
    "# fig.add_trace(go.Scatter(x=[1, 2, 3, 4], y=[3, 5, 1, 7], fill='tonexty')) # fill to trace0 y\n",
    "\n",
    "# fig.show()\n",
    "# def smooth_sort_in_mini_square(x, y, dx=0.01, dy=0.01):\n",
    "# \taa = np.c_[x,y]\n",
    "# \txmin = x.min()\n",
    "# \txmax = x.max()\n",
    "# \tx_cm = 0.5*(xmin + xmax)\n",
    "\n",
    "# \t#find initial point\n",
    "# \tfirst_part  = aa[(y <  0.35) & (x <  x_cm)]\n",
    "# \tfirst_part = sort_by_theta(first_part, x_cm, shift=True) # sort by theta\n",
    "# \tx0, y0 = first_part[0]\n",
    "# \tprint('Starting point:', x0, y0)\n",
    "# \tprint('MinMax point X:', xmin, xmax)\n",
    "\n",
    "# \txx, yy, x0_list = [], [], []\n",
    "# \tx0k, y0k, k = x0, y0, 0\n",
    "# \tx0_list.append(x0k)\n",
    "# \tdef find_next_box(x, y, x0k, y0k, dx, dy, i, j):\n",
    "# \t\tind = (x0k - (0.5 + i)*dx <= x) & (x <= x0k + (0.5 + i)*dx) & (y0k - (0.5 + j)*dy <= y) & (y <= y0k + (0.5 + j)*dy)\n",
    "# \t\txk = x[ind].mean()\n",
    "# \t\tyk = y[ind].mean()\n",
    "# \t\treturn xk, yk, x[ind].size\n",
    "\n",
    "# \twhile (1):\n",
    "# \t\tind = (x0k - 0.5*dx <= x) & (x <= x0k + 0.5*dx) & (y0k - 0.5*dy <= y) & (y <= y0k + 0.5*dy)\n",
    "# \t\txk, yk, num = find_next_box(x, y, x0k, y0k, dx, dy, 0, 0)\n",
    "# \t\txx.append(xk)\n",
    "# \t\tyy.append(yk)\n",
    "# \t\tk += 1\n",
    "# \t\tfor i in [-1, 0 , 1]:\n",
    "# \t\t\tfor j in [-1, 0, 1]:\n",
    "# \t\t\t\tx0k, y0k, n0k = find_next_box(x, y, x0k, y0k, dx, dy, i, j)\n",
    "\n",
    "# \t# jump = np.sqrt(np.diff(sorted_points[:,0])**2 + np.diff(sorted_points[:,1])**2)\n",
    "# \t# sorted_points = sorted_points[:-1]\n",
    "# \t# smooth_jump = gaussian_filter1d(jump, 5, mode='wrap')  # window of size 5 is arbitrary\n",
    "# \t# limit = 5*np.median(smooth_jump)    # factor 2 is arbitrary\n",
    "# \t# sorted_points = sorted_points[(jump > 0) & (smooth_jump < limit)]\n",
    "# \t# sorted_points = sorted_points[jump>0]\n",
    "\n",
    "# \treturn np.asarray(xx), np.asarray(yy), x0, xmin, xmax"
   ]
  },
  {
   "cell_type": "code",
   "execution_count": 14,
   "metadata": {},
   "outputs": [
    {
     "data": {
      "application/vnd.plotly.v1+json": {
       "config": {
        "plotlyServerURL": "https://plot.ly"
       },
       "data": [
        {
         "fill": "tozeroy",
         "type": "scatter",
         "x": [
          0,
          0.1,
          0.2,
          0.30000000000000004,
          0.4,
          0.5,
          0.6000000000000001,
          0.7000000000000001,
          0.8,
          0.9,
          1,
          1.1,
          1.2000000000000002,
          1.3,
          1.4000000000000001,
          1.5,
          1.6,
          1.7000000000000002,
          1.8,
          1.9000000000000001,
          2,
          2.1,
          2.2,
          2.3000000000000003,
          2.4000000000000004,
          2.5,
          2.6,
          2.7,
          2.8000000000000003,
          2.9000000000000004,
          3,
          3.1,
          3.2,
          3.3000000000000003,
          3.4000000000000004,
          3.5,
          3.6,
          3.7,
          3.8000000000000003,
          3.9000000000000004,
          4,
          4.1000000000000005,
          4.2,
          4.3,
          4.4,
          4.5,
          4.6000000000000005,
          4.7,
          4.800000000000001,
          4.9,
          5,
          5.1000000000000005,
          5.2,
          5.300000000000001,
          5.4,
          5.5,
          5.6000000000000005,
          5.7,
          5.800000000000001,
          5.9,
          6,
          6.1000000000000005,
          6.2,
          6.300000000000001,
          6.4,
          6.5,
          6.6000000000000005,
          6.7,
          6.800000000000001,
          6.9,
          7,
          7.1000000000000005,
          7.2,
          7.300000000000001,
          7.4,
          7.5,
          7.6000000000000005,
          7.7,
          7.800000000000001,
          7.9,
          8,
          8.1,
          8.200000000000001,
          8.3,
          8.4,
          8.5,
          8.6,
          8.700000000000001,
          8.8,
          8.9,
          9,
          9.1,
          9.200000000000001,
          9.3,
          9.4,
          9.5,
          9.600000000000001,
          9.700000000000001,
          9.8,
          9.9,
          10,
          10.100000000000001,
          10.200000000000001,
          10.3,
          10.4,
          10.5,
          10.600000000000001,
          10.700000000000001,
          10.8,
          10.9,
          11,
          11.100000000000001,
          11.200000000000001,
          11.3,
          11.4,
          11.5,
          11.600000000000001,
          11.700000000000001,
          11.8,
          11.9,
          12,
          12.100000000000001,
          12.200000000000001,
          12.3,
          12.4,
          12.5
         ],
         "y": [
          0,
          0.9983341664682815,
          1.9866933079506122,
          2.955202066613396,
          3.8941834230865053,
          4.79425538604203,
          5.646424733950354,
          6.442176872376911,
          7.173560908995228,
          7.833269096274834,
          8.414709848078965,
          8.912073600614354,
          9.320390859672264,
          9.63558185417193,
          9.854497299884603,
          9.974949866040545,
          9.99573603041505,
          9.916648104524686,
          9.738476308781951,
          9.463000876874144,
          9.092974268256818,
          8.632093666488737,
          8.084964038195901,
          7.4570521217672,
          6.754631805511506,
          5.984721441039565,
          5.155013718214642,
          4.273798802338298,
          3.3498815015590466,
          2.39249329213982,
          1.4112000805986722,
          0.41580662433290494,
          -0.5837414342758008,
          -1.5774569414324866,
          -2.5554110202683167,
          -3.5078322768961985,
          -4.425204432948525,
          -5.298361409084934,
          -6.1185789094271925,
          -6.8776615918397415,
          -7.5680249530792825,
          -8.182771110644108,
          -8.715757724135882,
          -9.161659367494549,
          -9.51602073889516,
          -9.77530117665097,
          -9.936910036334645,
          -9.999232575641008,
          -9.961646088358405,
          -9.824526126243324,
          -9.589242746631385,
          -9.258146823277322,
          -8.83454655720153,
          -8.322674422239007,
          -7.7276448755598715,
          -7.0554032557039195,
          -6.3126663787232085,
          -5.506855425976376,
          -4.646021794137566,
          -3.7387666483023603,
          -2.7941549819892586,
          -1.8216250427209502,
          -0.8308940281749639,
          0.16813900484350602,
          1.1654920485049365,
          2.1511998808781554,
          3.1154136351337867,
          4.0484992061659835,
          4.94113351138609,
          5.784397643882001,
          6.569865987187891,
          7.289690401258765,
          7.936678638491531,
          8.504366206285649,
          8.98708095811627,
          9.379999767747389,
          9.679196720314865,
          9.881682338770004,
          9.98543345374605,
          9.98941341839772,
          9.893582466233818,
          9.698898108450862,
          9.407305566797726,
          9.021718337562932,
          8.545989080882805,
          7.984871126234903,
          7.343970978741133,
          6.62969230082182,
          5.849171928917617,
          5.010208564578846,
          4.121184852417566,
          3.1909836234935214,
          2.2288991410024592,
          1.244544235070617,
          0.24775425453357763,
          -0.751511204618093,
          -1.743267812229814,
          -2.717606264109442,
          -3.6647912925192836,
          -4.575358937753213,
          -5.440211108893697,
          -6.250706488928834,
          -6.998746875935437,
          -7.676858097635825,
          -8.278264690856536,
          -8.7969575997167,
          -9.227754216128073,
          -9.566350162701884,
          -9.809362300664915,
          -9.954362533063774,
          -9.999902065507035,
          -9.94552588203989,
          -9.791777291513169,
          -9.54019249902089,
          -9.193285256646757,
          -8.754521746884285,
          -8.228285949687079,
          -7.619835839190321,
          -6.935250847771224,
          -6.181371122370333,
          -5.365729180004349,
          -4.496474645345999,
          -3.58229282236827,
          -2.6323179136580093,
          -1.656041754483094,
          -0.6632189735120069
         ]
        },
        {
         "fill": "tozeroy",
         "type": "scatter",
         "x": [
          0,
          0.1,
          0.2,
          0.30000000000000004,
          0.4,
          0.5,
          0.6000000000000001,
          0.7000000000000001,
          0.8,
          0.9,
          1,
          1.1,
          1.2000000000000002,
          1.3,
          1.4000000000000001,
          1.5,
          1.6,
          1.7000000000000002,
          1.8,
          1.9000000000000001,
          2,
          2.1,
          2.2,
          2.3000000000000003,
          2.4000000000000004,
          2.5,
          2.6,
          2.7,
          2.8000000000000003,
          2.9000000000000004,
          3,
          3.1,
          3.2,
          3.3000000000000003,
          3.4000000000000004,
          3.5,
          3.6,
          3.7,
          3.8000000000000003,
          3.9000000000000004,
          4,
          4.1000000000000005,
          4.2,
          4.3,
          4.4,
          4.5,
          4.6000000000000005,
          4.7,
          4.800000000000001,
          4.9,
          5,
          5.1000000000000005,
          5.2,
          5.300000000000001,
          5.4,
          5.5,
          5.6000000000000005,
          5.7,
          5.800000000000001,
          5.9,
          6,
          6.1000000000000005,
          6.2,
          6.300000000000001,
          6.4,
          6.5,
          6.6000000000000005,
          6.7,
          6.800000000000001,
          6.9,
          7,
          7.1000000000000005,
          7.2,
          7.300000000000001,
          7.4,
          7.5,
          7.6000000000000005,
          7.7,
          7.800000000000001,
          7.9,
          8,
          8.1,
          8.200000000000001,
          8.3,
          8.4,
          8.5,
          8.6,
          8.700000000000001,
          8.8,
          8.9,
          9,
          9.1,
          9.200000000000001,
          9.3,
          9.4,
          9.5,
          9.600000000000001,
          9.700000000000001,
          9.8,
          9.9,
          10,
          10.100000000000001,
          10.200000000000001,
          10.3,
          10.4,
          10.5,
          10.600000000000001,
          10.700000000000001,
          10.8,
          10.9,
          11,
          11.100000000000001,
          11.200000000000001,
          11.3,
          11.4,
          11.5,
          11.600000000000001,
          11.700000000000001,
          11.8,
          11.9,
          12,
          12.100000000000001,
          12.200000000000001,
          12.3,
          12.4,
          12.5
         ],
         "y": [
          0,
          0.09983341664682815,
          0.19866933079506122,
          0.2955202066613396,
          0.3894183423086505,
          0.479425538604203,
          0.5646424733950355,
          0.6442176872376911,
          0.7173560908995228,
          0.7833269096274834,
          0.8414709848078965,
          0.8912073600614354,
          0.9320390859672264,
          0.963558185417193,
          0.9854497299884603,
          0.9974949866040544,
          0.9995736030415051,
          0.9916648104524686,
          0.9738476308781951,
          0.9463000876874145,
          0.9092974268256817,
          0.8632093666488737,
          0.8084964038195901,
          0.74570521217672,
          0.6754631805511506,
          0.5984721441039565,
          0.5155013718214642,
          0.4273798802338298,
          0.33498815015590466,
          0.23924932921398198,
          0.1411200080598672,
          0.04158066243329049,
          -0.058374143427580086,
          -0.15774569414324865,
          -0.25554110202683167,
          -0.35078322768961984,
          -0.44252044329485246,
          -0.5298361409084934,
          -0.6118578909427193,
          -0.6877661591839741,
          -0.7568024953079282,
          -0.8182771110644108,
          -0.8715757724135882,
          -0.9161659367494549,
          -0.951602073889516,
          -0.977530117665097,
          -0.9936910036334645,
          -0.9999232575641008,
          -0.9961646088358406,
          -0.9824526126243325,
          -0.9589242746631385,
          -0.9258146823277321,
          -0.8834546557201531,
          -0.8322674422239008,
          -0.7727644875559871,
          -0.7055403255703919,
          -0.6312666378723208,
          -0.5506855425976376,
          -0.4646021794137566,
          -0.373876664830236,
          -0.27941549819892586,
          -0.18216250427209502,
          -0.0830894028174964,
          0.0168139004843506,
          0.11654920485049364,
          0.21511998808781552,
          0.3115413635133787,
          0.4048499206165983,
          0.49411335113860894,
          0.5784397643882001,
          0.6569865987187891,
          0.7289690401258765,
          0.7936678638491531,
          0.8504366206285648,
          0.8987080958116269,
          0.9379999767747389,
          0.9679196720314865,
          0.9881682338770004,
          0.998543345374605,
          0.998941341839772,
          0.9893582466233818,
          0.9698898108450863,
          0.9407305566797726,
          0.9021718337562933,
          0.8545989080882804,
          0.7984871126234903,
          0.7343970978741133,
          0.662969230082182,
          0.5849171928917617,
          0.5010208564578846,
          0.4121184852417566,
          0.3190983623493521,
          0.22288991410024592,
          0.1244544235070617,
          0.024775425453357765,
          -0.0751511204618093,
          -0.1743267812229814,
          -0.2717606264109442,
          -0.3664791292519284,
          -0.45753589377532133,
          -0.5440211108893698,
          -0.6250706488928834,
          -0.6998746875935437,
          -0.7676858097635825,
          -0.8278264690856537,
          -0.87969575997167,
          -0.9227754216128073,
          -0.9566350162701884,
          -0.9809362300664916,
          -0.9954362533063774,
          -0.9999902065507035,
          -0.9945525882039891,
          -0.979177729151317,
          -0.954019249902089,
          -0.9193285256646757,
          -0.8754521746884285,
          -0.8228285949687079,
          -0.7619835839190321,
          -0.6935250847771224,
          -0.6181371122370333,
          -0.5365729180004349,
          -0.44964746453459986,
          -0.35822928223682704,
          -0.26323179136580094,
          -0.1656041754483094,
          -0.06632189735120068
         ]
        }
       ],
       "layout": {
        "height": 600,
        "showlegend": false,
        "template": {
         "data": {
          "bar": [
           {
            "error_x": {
             "color": "#2a3f5f"
            },
            "error_y": {
             "color": "#2a3f5f"
            },
            "marker": {
             "line": {
              "color": "#E5ECF6",
              "width": 0.5
             }
            },
            "type": "bar"
           }
          ],
          "barpolar": [
           {
            "marker": {
             "line": {
              "color": "#E5ECF6",
              "width": 0.5
             }
            },
            "type": "barpolar"
           }
          ],
          "carpet": [
           {
            "aaxis": {
             "endlinecolor": "#2a3f5f",
             "gridcolor": "white",
             "linecolor": "white",
             "minorgridcolor": "white",
             "startlinecolor": "#2a3f5f"
            },
            "baxis": {
             "endlinecolor": "#2a3f5f",
             "gridcolor": "white",
             "linecolor": "white",
             "minorgridcolor": "white",
             "startlinecolor": "#2a3f5f"
            },
            "type": "carpet"
           }
          ],
          "choropleth": [
           {
            "colorbar": {
             "outlinewidth": 0,
             "ticks": ""
            },
            "type": "choropleth"
           }
          ],
          "contour": [
           {
            "colorbar": {
             "outlinewidth": 0,
             "ticks": ""
            },
            "colorscale": [
             [
              0,
              "#0d0887"
             ],
             [
              0.1111111111111111,
              "#46039f"
             ],
             [
              0.2222222222222222,
              "#7201a8"
             ],
             [
              0.3333333333333333,
              "#9c179e"
             ],
             [
              0.4444444444444444,
              "#bd3786"
             ],
             [
              0.5555555555555556,
              "#d8576b"
             ],
             [
              0.6666666666666666,
              "#ed7953"
             ],
             [
              0.7777777777777778,
              "#fb9f3a"
             ],
             [
              0.8888888888888888,
              "#fdca26"
             ],
             [
              1,
              "#f0f921"
             ]
            ],
            "type": "contour"
           }
          ],
          "contourcarpet": [
           {
            "colorbar": {
             "outlinewidth": 0,
             "ticks": ""
            },
            "type": "contourcarpet"
           }
          ],
          "heatmap": [
           {
            "colorbar": {
             "outlinewidth": 0,
             "ticks": ""
            },
            "colorscale": [
             [
              0,
              "#0d0887"
             ],
             [
              0.1111111111111111,
              "#46039f"
             ],
             [
              0.2222222222222222,
              "#7201a8"
             ],
             [
              0.3333333333333333,
              "#9c179e"
             ],
             [
              0.4444444444444444,
              "#bd3786"
             ],
             [
              0.5555555555555556,
              "#d8576b"
             ],
             [
              0.6666666666666666,
              "#ed7953"
             ],
             [
              0.7777777777777778,
              "#fb9f3a"
             ],
             [
              0.8888888888888888,
              "#fdca26"
             ],
             [
              1,
              "#f0f921"
             ]
            ],
            "type": "heatmap"
           }
          ],
          "heatmapgl": [
           {
            "colorbar": {
             "outlinewidth": 0,
             "ticks": ""
            },
            "colorscale": [
             [
              0,
              "#0d0887"
             ],
             [
              0.1111111111111111,
              "#46039f"
             ],
             [
              0.2222222222222222,
              "#7201a8"
             ],
             [
              0.3333333333333333,
              "#9c179e"
             ],
             [
              0.4444444444444444,
              "#bd3786"
             ],
             [
              0.5555555555555556,
              "#d8576b"
             ],
             [
              0.6666666666666666,
              "#ed7953"
             ],
             [
              0.7777777777777778,
              "#fb9f3a"
             ],
             [
              0.8888888888888888,
              "#fdca26"
             ],
             [
              1,
              "#f0f921"
             ]
            ],
            "type": "heatmapgl"
           }
          ],
          "histogram": [
           {
            "marker": {
             "colorbar": {
              "outlinewidth": 0,
              "ticks": ""
             }
            },
            "type": "histogram"
           }
          ],
          "histogram2d": [
           {
            "colorbar": {
             "outlinewidth": 0,
             "ticks": ""
            },
            "colorscale": [
             [
              0,
              "#0d0887"
             ],
             [
              0.1111111111111111,
              "#46039f"
             ],
             [
              0.2222222222222222,
              "#7201a8"
             ],
             [
              0.3333333333333333,
              "#9c179e"
             ],
             [
              0.4444444444444444,
              "#bd3786"
             ],
             [
              0.5555555555555556,
              "#d8576b"
             ],
             [
              0.6666666666666666,
              "#ed7953"
             ],
             [
              0.7777777777777778,
              "#fb9f3a"
             ],
             [
              0.8888888888888888,
              "#fdca26"
             ],
             [
              1,
              "#f0f921"
             ]
            ],
            "type": "histogram2d"
           }
          ],
          "histogram2dcontour": [
           {
            "colorbar": {
             "outlinewidth": 0,
             "ticks": ""
            },
            "colorscale": [
             [
              0,
              "#0d0887"
             ],
             [
              0.1111111111111111,
              "#46039f"
             ],
             [
              0.2222222222222222,
              "#7201a8"
             ],
             [
              0.3333333333333333,
              "#9c179e"
             ],
             [
              0.4444444444444444,
              "#bd3786"
             ],
             [
              0.5555555555555556,
              "#d8576b"
             ],
             [
              0.6666666666666666,
              "#ed7953"
             ],
             [
              0.7777777777777778,
              "#fb9f3a"
             ],
             [
              0.8888888888888888,
              "#fdca26"
             ],
             [
              1,
              "#f0f921"
             ]
            ],
            "type": "histogram2dcontour"
           }
          ],
          "mesh3d": [
           {
            "colorbar": {
             "outlinewidth": 0,
             "ticks": ""
            },
            "type": "mesh3d"
           }
          ],
          "parcoords": [
           {
            "line": {
             "colorbar": {
              "outlinewidth": 0,
              "ticks": ""
             }
            },
            "type": "parcoords"
           }
          ],
          "pie": [
           {
            "automargin": true,
            "type": "pie"
           }
          ],
          "scatter": [
           {
            "marker": {
             "colorbar": {
              "outlinewidth": 0,
              "ticks": ""
             }
            },
            "type": "scatter"
           }
          ],
          "scatter3d": [
           {
            "line": {
             "colorbar": {
              "outlinewidth": 0,
              "ticks": ""
             }
            },
            "marker": {
             "colorbar": {
              "outlinewidth": 0,
              "ticks": ""
             }
            },
            "type": "scatter3d"
           }
          ],
          "scattercarpet": [
           {
            "marker": {
             "colorbar": {
              "outlinewidth": 0,
              "ticks": ""
             }
            },
            "type": "scattercarpet"
           }
          ],
          "scattergeo": [
           {
            "marker": {
             "colorbar": {
              "outlinewidth": 0,
              "ticks": ""
             }
            },
            "type": "scattergeo"
           }
          ],
          "scattergl": [
           {
            "marker": {
             "colorbar": {
              "outlinewidth": 0,
              "ticks": ""
             }
            },
            "type": "scattergl"
           }
          ],
          "scattermapbox": [
           {
            "marker": {
             "colorbar": {
              "outlinewidth": 0,
              "ticks": ""
             }
            },
            "type": "scattermapbox"
           }
          ],
          "scatterpolar": [
           {
            "marker": {
             "colorbar": {
              "outlinewidth": 0,
              "ticks": ""
             }
            },
            "type": "scatterpolar"
           }
          ],
          "scatterpolargl": [
           {
            "marker": {
             "colorbar": {
              "outlinewidth": 0,
              "ticks": ""
             }
            },
            "type": "scatterpolargl"
           }
          ],
          "scatterternary": [
           {
            "marker": {
             "colorbar": {
              "outlinewidth": 0,
              "ticks": ""
             }
            },
            "type": "scatterternary"
           }
          ],
          "surface": [
           {
            "colorbar": {
             "outlinewidth": 0,
             "ticks": ""
            },
            "colorscale": [
             [
              0,
              "#0d0887"
             ],
             [
              0.1111111111111111,
              "#46039f"
             ],
             [
              0.2222222222222222,
              "#7201a8"
             ],
             [
              0.3333333333333333,
              "#9c179e"
             ],
             [
              0.4444444444444444,
              "#bd3786"
             ],
             [
              0.5555555555555556,
              "#d8576b"
             ],
             [
              0.6666666666666666,
              "#ed7953"
             ],
             [
              0.7777777777777778,
              "#fb9f3a"
             ],
             [
              0.8888888888888888,
              "#fdca26"
             ],
             [
              1,
              "#f0f921"
             ]
            ],
            "type": "surface"
           }
          ],
          "table": [
           {
            "cells": {
             "fill": {
              "color": "#EBF0F8"
             },
             "line": {
              "color": "white"
             }
            },
            "header": {
             "fill": {
              "color": "#C8D4E3"
             },
             "line": {
              "color": "white"
             }
            },
            "type": "table"
           }
          ]
         },
         "layout": {
          "annotationdefaults": {
           "arrowcolor": "#2a3f5f",
           "arrowhead": 0,
           "arrowwidth": 1
          },
          "autotypenumbers": "strict",
          "coloraxis": {
           "colorbar": {
            "outlinewidth": 0,
            "ticks": ""
           }
          },
          "colorscale": {
           "diverging": [
            [
             0,
             "#8e0152"
            ],
            [
             0.1,
             "#c51b7d"
            ],
            [
             0.2,
             "#de77ae"
            ],
            [
             0.3,
             "#f1b6da"
            ],
            [
             0.4,
             "#fde0ef"
            ],
            [
             0.5,
             "#f7f7f7"
            ],
            [
             0.6,
             "#e6f5d0"
            ],
            [
             0.7,
             "#b8e186"
            ],
            [
             0.8,
             "#7fbc41"
            ],
            [
             0.9,
             "#4d9221"
            ],
            [
             1,
             "#276419"
            ]
           ],
           "sequential": [
            [
             0,
             "#0d0887"
            ],
            [
             0.1111111111111111,
             "#46039f"
            ],
            [
             0.2222222222222222,
             "#7201a8"
            ],
            [
             0.3333333333333333,
             "#9c179e"
            ],
            [
             0.4444444444444444,
             "#bd3786"
            ],
            [
             0.5555555555555556,
             "#d8576b"
            ],
            [
             0.6666666666666666,
             "#ed7953"
            ],
            [
             0.7777777777777778,
             "#fb9f3a"
            ],
            [
             0.8888888888888888,
             "#fdca26"
            ],
            [
             1,
             "#f0f921"
            ]
           ],
           "sequentialminus": [
            [
             0,
             "#0d0887"
            ],
            [
             0.1111111111111111,
             "#46039f"
            ],
            [
             0.2222222222222222,
             "#7201a8"
            ],
            [
             0.3333333333333333,
             "#9c179e"
            ],
            [
             0.4444444444444444,
             "#bd3786"
            ],
            [
             0.5555555555555556,
             "#d8576b"
            ],
            [
             0.6666666666666666,
             "#ed7953"
            ],
            [
             0.7777777777777778,
             "#fb9f3a"
            ],
            [
             0.8888888888888888,
             "#fdca26"
            ],
            [
             1,
             "#f0f921"
            ]
           ]
          },
          "colorway": [
           "#636efa",
           "#EF553B",
           "#00cc96",
           "#ab63fa",
           "#FFA15A",
           "#19d3f3",
           "#FF6692",
           "#B6E880",
           "#FF97FF",
           "#FECB52"
          ],
          "font": {
           "color": "#2a3f5f"
          },
          "geo": {
           "bgcolor": "white",
           "lakecolor": "white",
           "landcolor": "#E5ECF6",
           "showlakes": true,
           "showland": true,
           "subunitcolor": "white"
          },
          "hoverlabel": {
           "align": "left"
          },
          "hovermode": "closest",
          "mapbox": {
           "style": "light"
          },
          "paper_bgcolor": "white",
          "plot_bgcolor": "#E5ECF6",
          "polar": {
           "angularaxis": {
            "gridcolor": "white",
            "linecolor": "white",
            "ticks": ""
           },
           "bgcolor": "#E5ECF6",
           "radialaxis": {
            "gridcolor": "white",
            "linecolor": "white",
            "ticks": ""
           }
          },
          "scene": {
           "xaxis": {
            "backgroundcolor": "#E5ECF6",
            "gridcolor": "white",
            "gridwidth": 2,
            "linecolor": "white",
            "showbackground": true,
            "ticks": "",
            "zerolinecolor": "white"
           },
           "yaxis": {
            "backgroundcolor": "#E5ECF6",
            "gridcolor": "white",
            "gridwidth": 2,
            "linecolor": "white",
            "showbackground": true,
            "ticks": "",
            "zerolinecolor": "white"
           },
           "zaxis": {
            "backgroundcolor": "#E5ECF6",
            "gridcolor": "white",
            "gridwidth": 2,
            "linecolor": "white",
            "showbackground": true,
            "ticks": "",
            "zerolinecolor": "white"
           }
          },
          "shapedefaults": {
           "line": {
            "color": "#2a3f5f"
           }
          },
          "ternary": {
           "aaxis": {
            "gridcolor": "white",
            "linecolor": "white",
            "ticks": ""
           },
           "baxis": {
            "gridcolor": "white",
            "linecolor": "white",
            "ticks": ""
           },
           "bgcolor": "#E5ECF6",
           "caxis": {
            "gridcolor": "white",
            "linecolor": "white",
            "ticks": ""
           }
          },
          "title": {
           "x": 0.05
          },
          "xaxis": {
           "automargin": true,
           "gridcolor": "white",
           "linecolor": "white",
           "ticks": "",
           "title": {
            "standoff": 15
           },
           "zerolinecolor": "white",
           "zerolinewidth": 2
          },
          "yaxis": {
           "automargin": true,
           "gridcolor": "white",
           "linecolor": "white",
           "ticks": "",
           "title": {
            "standoff": 15
           },
           "zerolinecolor": "white",
           "zerolinewidth": 2
          }
         }
        },
        "xaxis": {
         "linecolor": "black",
         "mirror": true
        },
        "yaxis": {
         "linecolor": "black",
         "mirror": true,
         "zeroline": false
        }
       }
      },
      "text/html": [
       "<div>                            <div id=\"601da044-7f36-4402-8351-b5c59da33c57\" class=\"plotly-graph-div\" style=\"height:600px; width:100%;\"></div>            <script type=\"text/javascript\">                require([\"plotly\"], function(Plotly) {                    window.PLOTLYENV=window.PLOTLYENV || {};                                    if (document.getElementById(\"601da044-7f36-4402-8351-b5c59da33c57\")) {                    Plotly.newPlot(                        \"601da044-7f36-4402-8351-b5c59da33c57\",                        [{\"fill\": \"tozeroy\", \"type\": \"scatter\", \"x\": [0.0, 0.1, 0.2, 0.30000000000000004, 0.4, 0.5, 0.6000000000000001, 0.7000000000000001, 0.8, 0.9, 1.0, 1.1, 1.2000000000000002, 1.3, 1.4000000000000001, 1.5, 1.6, 1.7000000000000002, 1.8, 1.9000000000000001, 2.0, 2.1, 2.2, 2.3000000000000003, 2.4000000000000004, 2.5, 2.6, 2.7, 2.8000000000000003, 2.9000000000000004, 3.0, 3.1, 3.2, 3.3000000000000003, 3.4000000000000004, 3.5, 3.6, 3.7, 3.8000000000000003, 3.9000000000000004, 4.0, 4.1000000000000005, 4.2, 4.3, 4.4, 4.5, 4.6000000000000005, 4.7, 4.800000000000001, 4.9, 5.0, 5.1000000000000005, 5.2, 5.300000000000001, 5.4, 5.5, 5.6000000000000005, 5.7, 5.800000000000001, 5.9, 6.0, 6.1000000000000005, 6.2, 6.300000000000001, 6.4, 6.5, 6.6000000000000005, 6.7, 6.800000000000001, 6.9, 7.0, 7.1000000000000005, 7.2, 7.300000000000001, 7.4, 7.5, 7.6000000000000005, 7.7, 7.800000000000001, 7.9, 8.0, 8.1, 8.200000000000001, 8.3, 8.4, 8.5, 8.6, 8.700000000000001, 8.8, 8.9, 9.0, 9.1, 9.200000000000001, 9.3, 9.4, 9.5, 9.600000000000001, 9.700000000000001, 9.8, 9.9, 10.0, 10.100000000000001, 10.200000000000001, 10.3, 10.4, 10.5, 10.600000000000001, 10.700000000000001, 10.8, 10.9, 11.0, 11.100000000000001, 11.200000000000001, 11.3, 11.4, 11.5, 11.600000000000001, 11.700000000000001, 11.8, 11.9, 12.0, 12.100000000000001, 12.200000000000001, 12.3, 12.4, 12.5], \"y\": [0.0, 0.9983341664682815, 1.9866933079506122, 2.955202066613396, 3.8941834230865053, 4.79425538604203, 5.646424733950354, 6.442176872376911, 7.173560908995228, 7.833269096274834, 8.414709848078965, 8.912073600614354, 9.320390859672264, 9.63558185417193, 9.854497299884603, 9.974949866040545, 9.99573603041505, 9.916648104524686, 9.738476308781951, 9.463000876874144, 9.092974268256818, 8.632093666488737, 8.084964038195901, 7.4570521217672, 6.754631805511506, 5.984721441039565, 5.155013718214642, 4.273798802338298, 3.3498815015590466, 2.39249329213982, 1.4112000805986722, 0.41580662433290494, -0.5837414342758008, -1.5774569414324866, -2.5554110202683167, -3.5078322768961985, -4.425204432948525, -5.298361409084934, -6.1185789094271925, -6.8776615918397415, -7.5680249530792825, -8.182771110644108, -8.715757724135882, -9.161659367494549, -9.51602073889516, -9.77530117665097, -9.936910036334645, -9.999232575641008, -9.961646088358405, -9.824526126243324, -9.589242746631385, -9.258146823277322, -8.83454655720153, -8.322674422239007, -7.7276448755598715, -7.0554032557039195, -6.3126663787232085, -5.506855425976376, -4.646021794137566, -3.7387666483023603, -2.7941549819892586, -1.8216250427209502, -0.8308940281749639, 0.16813900484350602, 1.1654920485049365, 2.1511998808781554, 3.1154136351337867, 4.0484992061659835, 4.94113351138609, 5.784397643882001, 6.569865987187891, 7.289690401258765, 7.936678638491531, 8.504366206285649, 8.98708095811627, 9.379999767747389, 9.679196720314865, 9.881682338770004, 9.98543345374605, 9.98941341839772, 9.893582466233818, 9.698898108450862, 9.407305566797726, 9.021718337562932, 8.545989080882805, 7.984871126234903, 7.343970978741133, 6.62969230082182, 5.849171928917617, 5.010208564578846, 4.121184852417566, 3.1909836234935214, 2.2288991410024592, 1.244544235070617, 0.24775425453357763, -0.751511204618093, -1.743267812229814, -2.717606264109442, -3.6647912925192836, -4.575358937753213, -5.440211108893697, -6.250706488928834, -6.998746875935437, -7.676858097635825, -8.278264690856536, -8.7969575997167, -9.227754216128073, -9.566350162701884, -9.809362300664915, -9.954362533063774, -9.999902065507035, -9.94552588203989, -9.791777291513169, -9.54019249902089, -9.193285256646757, -8.754521746884285, -8.228285949687079, -7.619835839190321, -6.935250847771224, -6.181371122370333, -5.365729180004349, -4.496474645345999, -3.58229282236827, -2.6323179136580093, -1.656041754483094, -0.6632189735120069]}, {\"fill\": \"tozeroy\", \"type\": \"scatter\", \"x\": [0.0, 0.1, 0.2, 0.30000000000000004, 0.4, 0.5, 0.6000000000000001, 0.7000000000000001, 0.8, 0.9, 1.0, 1.1, 1.2000000000000002, 1.3, 1.4000000000000001, 1.5, 1.6, 1.7000000000000002, 1.8, 1.9000000000000001, 2.0, 2.1, 2.2, 2.3000000000000003, 2.4000000000000004, 2.5, 2.6, 2.7, 2.8000000000000003, 2.9000000000000004, 3.0, 3.1, 3.2, 3.3000000000000003, 3.4000000000000004, 3.5, 3.6, 3.7, 3.8000000000000003, 3.9000000000000004, 4.0, 4.1000000000000005, 4.2, 4.3, 4.4, 4.5, 4.6000000000000005, 4.7, 4.800000000000001, 4.9, 5.0, 5.1000000000000005, 5.2, 5.300000000000001, 5.4, 5.5, 5.6000000000000005, 5.7, 5.800000000000001, 5.9, 6.0, 6.1000000000000005, 6.2, 6.300000000000001, 6.4, 6.5, 6.6000000000000005, 6.7, 6.800000000000001, 6.9, 7.0, 7.1000000000000005, 7.2, 7.300000000000001, 7.4, 7.5, 7.6000000000000005, 7.7, 7.800000000000001, 7.9, 8.0, 8.1, 8.200000000000001, 8.3, 8.4, 8.5, 8.6, 8.700000000000001, 8.8, 8.9, 9.0, 9.1, 9.200000000000001, 9.3, 9.4, 9.5, 9.600000000000001, 9.700000000000001, 9.8, 9.9, 10.0, 10.100000000000001, 10.200000000000001, 10.3, 10.4, 10.5, 10.600000000000001, 10.700000000000001, 10.8, 10.9, 11.0, 11.100000000000001, 11.200000000000001, 11.3, 11.4, 11.5, 11.600000000000001, 11.700000000000001, 11.8, 11.9, 12.0, 12.100000000000001, 12.200000000000001, 12.3, 12.4, 12.5], \"y\": [0.0, 0.09983341664682815, 0.19866933079506122, 0.2955202066613396, 0.3894183423086505, 0.479425538604203, 0.5646424733950355, 0.6442176872376911, 0.7173560908995228, 0.7833269096274834, 0.8414709848078965, 0.8912073600614354, 0.9320390859672264, 0.963558185417193, 0.9854497299884603, 0.9974949866040544, 0.9995736030415051, 0.9916648104524686, 0.9738476308781951, 0.9463000876874145, 0.9092974268256817, 0.8632093666488737, 0.8084964038195901, 0.74570521217672, 0.6754631805511506, 0.5984721441039565, 0.5155013718214642, 0.4273798802338298, 0.33498815015590466, 0.23924932921398198, 0.1411200080598672, 0.04158066243329049, -0.058374143427580086, -0.15774569414324865, -0.25554110202683167, -0.35078322768961984, -0.44252044329485246, -0.5298361409084934, -0.6118578909427193, -0.6877661591839741, -0.7568024953079282, -0.8182771110644108, -0.8715757724135882, -0.9161659367494549, -0.951602073889516, -0.977530117665097, -0.9936910036334645, -0.9999232575641008, -0.9961646088358406, -0.9824526126243325, -0.9589242746631385, -0.9258146823277321, -0.8834546557201531, -0.8322674422239008, -0.7727644875559871, -0.7055403255703919, -0.6312666378723208, -0.5506855425976376, -0.4646021794137566, -0.373876664830236, -0.27941549819892586, -0.18216250427209502, -0.0830894028174964, 0.0168139004843506, 0.11654920485049364, 0.21511998808781552, 0.3115413635133787, 0.4048499206165983, 0.49411335113860894, 0.5784397643882001, 0.6569865987187891, 0.7289690401258765, 0.7936678638491531, 0.8504366206285648, 0.8987080958116269, 0.9379999767747389, 0.9679196720314865, 0.9881682338770004, 0.998543345374605, 0.998941341839772, 0.9893582466233818, 0.9698898108450863, 0.9407305566797726, 0.9021718337562933, 0.8545989080882804, 0.7984871126234903, 0.7343970978741133, 0.662969230082182, 0.5849171928917617, 0.5010208564578846, 0.4121184852417566, 0.3190983623493521, 0.22288991410024592, 0.1244544235070617, 0.024775425453357765, -0.0751511204618093, -0.1743267812229814, -0.2717606264109442, -0.3664791292519284, -0.45753589377532133, -0.5440211108893698, -0.6250706488928834, -0.6998746875935437, -0.7676858097635825, -0.8278264690856537, -0.87969575997167, -0.9227754216128073, -0.9566350162701884, -0.9809362300664916, -0.9954362533063774, -0.9999902065507035, -0.9945525882039891, -0.979177729151317, -0.954019249902089, -0.9193285256646757, -0.8754521746884285, -0.8228285949687079, -0.7619835839190321, -0.6935250847771224, -0.6181371122370333, -0.5365729180004349, -0.44964746453459986, -0.35822928223682704, -0.26323179136580094, -0.1656041754483094, -0.06632189735120068]}],                        {\"height\": 600, \"showlegend\": false, \"template\": {\"data\": {\"bar\": [{\"error_x\": {\"color\": \"#2a3f5f\"}, \"error_y\": {\"color\": \"#2a3f5f\"}, \"marker\": {\"line\": {\"color\": \"#E5ECF6\", \"width\": 0.5}}, \"type\": \"bar\"}], \"barpolar\": [{\"marker\": {\"line\": {\"color\": \"#E5ECF6\", \"width\": 0.5}}, \"type\": \"barpolar\"}], \"carpet\": [{\"aaxis\": {\"endlinecolor\": \"#2a3f5f\", \"gridcolor\": \"white\", \"linecolor\": \"white\", \"minorgridcolor\": \"white\", \"startlinecolor\": \"#2a3f5f\"}, \"baxis\": {\"endlinecolor\": \"#2a3f5f\", \"gridcolor\": \"white\", \"linecolor\": \"white\", \"minorgridcolor\": \"white\", \"startlinecolor\": \"#2a3f5f\"}, \"type\": \"carpet\"}], \"choropleth\": [{\"colorbar\": {\"outlinewidth\": 0, \"ticks\": \"\"}, \"type\": \"choropleth\"}], \"contour\": [{\"colorbar\": {\"outlinewidth\": 0, \"ticks\": \"\"}, \"colorscale\": [[0.0, \"#0d0887\"], [0.1111111111111111, \"#46039f\"], [0.2222222222222222, \"#7201a8\"], [0.3333333333333333, \"#9c179e\"], [0.4444444444444444, \"#bd3786\"], [0.5555555555555556, \"#d8576b\"], [0.6666666666666666, \"#ed7953\"], [0.7777777777777778, \"#fb9f3a\"], [0.8888888888888888, \"#fdca26\"], [1.0, \"#f0f921\"]], \"type\": \"contour\"}], \"contourcarpet\": [{\"colorbar\": {\"outlinewidth\": 0, \"ticks\": \"\"}, \"type\": \"contourcarpet\"}], \"heatmap\": [{\"colorbar\": {\"outlinewidth\": 0, \"ticks\": \"\"}, \"colorscale\": [[0.0, \"#0d0887\"], [0.1111111111111111, \"#46039f\"], [0.2222222222222222, \"#7201a8\"], [0.3333333333333333, \"#9c179e\"], [0.4444444444444444, \"#bd3786\"], [0.5555555555555556, \"#d8576b\"], [0.6666666666666666, \"#ed7953\"], [0.7777777777777778, \"#fb9f3a\"], [0.8888888888888888, \"#fdca26\"], [1.0, \"#f0f921\"]], \"type\": \"heatmap\"}], \"heatmapgl\": [{\"colorbar\": {\"outlinewidth\": 0, \"ticks\": \"\"}, \"colorscale\": [[0.0, \"#0d0887\"], [0.1111111111111111, \"#46039f\"], [0.2222222222222222, \"#7201a8\"], [0.3333333333333333, \"#9c179e\"], [0.4444444444444444, \"#bd3786\"], [0.5555555555555556, \"#d8576b\"], [0.6666666666666666, \"#ed7953\"], [0.7777777777777778, \"#fb9f3a\"], [0.8888888888888888, \"#fdca26\"], [1.0, \"#f0f921\"]], \"type\": \"heatmapgl\"}], \"histogram\": [{\"marker\": {\"colorbar\": {\"outlinewidth\": 0, \"ticks\": \"\"}}, \"type\": \"histogram\"}], \"histogram2d\": [{\"colorbar\": {\"outlinewidth\": 0, \"ticks\": \"\"}, \"colorscale\": [[0.0, \"#0d0887\"], [0.1111111111111111, \"#46039f\"], [0.2222222222222222, \"#7201a8\"], [0.3333333333333333, \"#9c179e\"], [0.4444444444444444, \"#bd3786\"], [0.5555555555555556, \"#d8576b\"], [0.6666666666666666, \"#ed7953\"], [0.7777777777777778, \"#fb9f3a\"], [0.8888888888888888, \"#fdca26\"], [1.0, \"#f0f921\"]], \"type\": \"histogram2d\"}], \"histogram2dcontour\": [{\"colorbar\": {\"outlinewidth\": 0, \"ticks\": \"\"}, \"colorscale\": [[0.0, \"#0d0887\"], [0.1111111111111111, \"#46039f\"], [0.2222222222222222, \"#7201a8\"], [0.3333333333333333, \"#9c179e\"], [0.4444444444444444, \"#bd3786\"], [0.5555555555555556, \"#d8576b\"], [0.6666666666666666, \"#ed7953\"], [0.7777777777777778, \"#fb9f3a\"], [0.8888888888888888, \"#fdca26\"], [1.0, \"#f0f921\"]], \"type\": \"histogram2dcontour\"}], \"mesh3d\": [{\"colorbar\": {\"outlinewidth\": 0, \"ticks\": \"\"}, \"type\": \"mesh3d\"}], \"parcoords\": [{\"line\": {\"colorbar\": {\"outlinewidth\": 0, \"ticks\": \"\"}}, \"type\": \"parcoords\"}], \"pie\": [{\"automargin\": true, \"type\": \"pie\"}], \"scatter\": [{\"marker\": {\"colorbar\": {\"outlinewidth\": 0, \"ticks\": \"\"}}, \"type\": \"scatter\"}], \"scatter3d\": [{\"line\": {\"colorbar\": {\"outlinewidth\": 0, \"ticks\": \"\"}}, \"marker\": {\"colorbar\": {\"outlinewidth\": 0, \"ticks\": \"\"}}, \"type\": \"scatter3d\"}], \"scattercarpet\": [{\"marker\": {\"colorbar\": {\"outlinewidth\": 0, \"ticks\": \"\"}}, \"type\": \"scattercarpet\"}], \"scattergeo\": [{\"marker\": {\"colorbar\": {\"outlinewidth\": 0, \"ticks\": \"\"}}, \"type\": \"scattergeo\"}], \"scattergl\": [{\"marker\": {\"colorbar\": {\"outlinewidth\": 0, \"ticks\": \"\"}}, \"type\": \"scattergl\"}], \"scattermapbox\": [{\"marker\": {\"colorbar\": {\"outlinewidth\": 0, \"ticks\": \"\"}}, \"type\": \"scattermapbox\"}], \"scatterpolar\": [{\"marker\": {\"colorbar\": {\"outlinewidth\": 0, \"ticks\": \"\"}}, \"type\": \"scatterpolar\"}], \"scatterpolargl\": [{\"marker\": {\"colorbar\": {\"outlinewidth\": 0, \"ticks\": \"\"}}, \"type\": \"scatterpolargl\"}], \"scatterternary\": [{\"marker\": {\"colorbar\": {\"outlinewidth\": 0, \"ticks\": \"\"}}, \"type\": \"scatterternary\"}], \"surface\": [{\"colorbar\": {\"outlinewidth\": 0, \"ticks\": \"\"}, \"colorscale\": [[0.0, \"#0d0887\"], [0.1111111111111111, \"#46039f\"], [0.2222222222222222, \"#7201a8\"], [0.3333333333333333, \"#9c179e\"], [0.4444444444444444, \"#bd3786\"], [0.5555555555555556, \"#d8576b\"], [0.6666666666666666, \"#ed7953\"], [0.7777777777777778, \"#fb9f3a\"], [0.8888888888888888, \"#fdca26\"], [1.0, \"#f0f921\"]], \"type\": \"surface\"}], \"table\": [{\"cells\": {\"fill\": {\"color\": \"#EBF0F8\"}, \"line\": {\"color\": \"white\"}}, \"header\": {\"fill\": {\"color\": \"#C8D4E3\"}, \"line\": {\"color\": \"white\"}}, \"type\": \"table\"}]}, \"layout\": {\"annotationdefaults\": {\"arrowcolor\": \"#2a3f5f\", \"arrowhead\": 0, \"arrowwidth\": 1}, \"autotypenumbers\": \"strict\", \"coloraxis\": {\"colorbar\": {\"outlinewidth\": 0, \"ticks\": \"\"}}, \"colorscale\": {\"diverging\": [[0, \"#8e0152\"], [0.1, \"#c51b7d\"], [0.2, \"#de77ae\"], [0.3, \"#f1b6da\"], [0.4, \"#fde0ef\"], [0.5, \"#f7f7f7\"], [0.6, \"#e6f5d0\"], [0.7, \"#b8e186\"], [0.8, \"#7fbc41\"], [0.9, \"#4d9221\"], [1, \"#276419\"]], \"sequential\": [[0.0, \"#0d0887\"], [0.1111111111111111, \"#46039f\"], [0.2222222222222222, \"#7201a8\"], [0.3333333333333333, \"#9c179e\"], [0.4444444444444444, \"#bd3786\"], [0.5555555555555556, \"#d8576b\"], [0.6666666666666666, \"#ed7953\"], [0.7777777777777778, \"#fb9f3a\"], [0.8888888888888888, \"#fdca26\"], [1.0, \"#f0f921\"]], \"sequentialminus\": [[0.0, \"#0d0887\"], [0.1111111111111111, \"#46039f\"], [0.2222222222222222, \"#7201a8\"], [0.3333333333333333, \"#9c179e\"], [0.4444444444444444, \"#bd3786\"], [0.5555555555555556, \"#d8576b\"], [0.6666666666666666, \"#ed7953\"], [0.7777777777777778, \"#fb9f3a\"], [0.8888888888888888, \"#fdca26\"], [1.0, \"#f0f921\"]]}, \"colorway\": [\"#636efa\", \"#EF553B\", \"#00cc96\", \"#ab63fa\", \"#FFA15A\", \"#19d3f3\", \"#FF6692\", \"#B6E880\", \"#FF97FF\", \"#FECB52\"], \"font\": {\"color\": \"#2a3f5f\"}, \"geo\": {\"bgcolor\": \"white\", \"lakecolor\": \"white\", \"landcolor\": \"#E5ECF6\", \"showlakes\": true, \"showland\": true, \"subunitcolor\": \"white\"}, \"hoverlabel\": {\"align\": \"left\"}, \"hovermode\": \"closest\", \"mapbox\": {\"style\": \"light\"}, \"paper_bgcolor\": \"white\", \"plot_bgcolor\": \"#E5ECF6\", \"polar\": {\"angularaxis\": {\"gridcolor\": \"white\", \"linecolor\": \"white\", \"ticks\": \"\"}, \"bgcolor\": \"#E5ECF6\", \"radialaxis\": {\"gridcolor\": \"white\", \"linecolor\": \"white\", \"ticks\": \"\"}}, \"scene\": {\"xaxis\": {\"backgroundcolor\": \"#E5ECF6\", \"gridcolor\": \"white\", \"gridwidth\": 2, \"linecolor\": \"white\", \"showbackground\": true, \"ticks\": \"\", \"zerolinecolor\": \"white\"}, \"yaxis\": {\"backgroundcolor\": \"#E5ECF6\", \"gridcolor\": \"white\", \"gridwidth\": 2, \"linecolor\": \"white\", \"showbackground\": true, \"ticks\": \"\", \"zerolinecolor\": \"white\"}, \"zaxis\": {\"backgroundcolor\": \"#E5ECF6\", \"gridcolor\": \"white\", \"gridwidth\": 2, \"linecolor\": \"white\", \"showbackground\": true, \"ticks\": \"\", \"zerolinecolor\": \"white\"}}, \"shapedefaults\": {\"line\": {\"color\": \"#2a3f5f\"}}, \"ternary\": {\"aaxis\": {\"gridcolor\": \"white\", \"linecolor\": \"white\", \"ticks\": \"\"}, \"baxis\": {\"gridcolor\": \"white\", \"linecolor\": \"white\", \"ticks\": \"\"}, \"bgcolor\": \"#E5ECF6\", \"caxis\": {\"gridcolor\": \"white\", \"linecolor\": \"white\", \"ticks\": \"\"}}, \"title\": {\"x\": 0.05}, \"xaxis\": {\"automargin\": true, \"gridcolor\": \"white\", \"linecolor\": \"white\", \"ticks\": \"\", \"title\": {\"standoff\": 15}, \"zerolinecolor\": \"white\", \"zerolinewidth\": 2}, \"yaxis\": {\"automargin\": true, \"gridcolor\": \"white\", \"linecolor\": \"white\", \"ticks\": \"\", \"title\": {\"standoff\": 15}, \"zerolinecolor\": \"white\", \"zerolinewidth\": 2}}}, \"xaxis\": {\"linecolor\": \"black\", \"mirror\": true}, \"yaxis\": {\"linecolor\": \"black\", \"mirror\": true, \"zeroline\": false}},                        {\"responsive\": true}                    ).then(function(){\n",
       "                            \n",
       "var gd = document.getElementById('601da044-7f36-4402-8351-b5c59da33c57');\n",
       "var x = new MutationObserver(function (mutations, observer) {{\n",
       "        var display = window.getComputedStyle(gd).display;\n",
       "        if (!display || display === 'none') {{\n",
       "            console.log([gd, 'removed!']);\n",
       "            Plotly.purge(gd);\n",
       "            observer.disconnect();\n",
       "        }}\n",
       "}});\n",
       "\n",
       "// Listen for the removal of the full notebook cells\n",
       "var notebookContainer = gd.closest('#notebook-container');\n",
       "if (notebookContainer) {{\n",
       "    x.observe(notebookContainer, {childList: true});\n",
       "}}\n",
       "\n",
       "// Listen for the clearing of the current output cell\n",
       "var outputEl = gd.closest('.output');\n",
       "if (outputEl) {{\n",
       "    x.observe(outputEl, {childList: true});\n",
       "}}\n",
       "\n",
       "                        })                };                });            </script>        </div>"
      ]
     },
     "metadata": {},
     "output_type": "display_data"
    }
   ],
   "source": [
    "import plotly.graph_objects as go\n",
    "xs = np.arange(0,4*np.pi, 0.1)\n",
    "fig = go.Figure()\n",
    "fig.add_trace(go.Scatter(x=xs, y=(10)*np.sin(xs), fill='tozeroy'))\n",
    "fig.add_trace(go.Scatter(x=xs, y=np.sin(xs), fill='tozeroy'))\n",
    "\n",
    "# fig.add_scatter(x=xs[[0,-1]], y=[11,11], fill='tonexty')\n",
    "fig.layout = dict(xaxis=dict(linecolor='black', mirror=True),\n",
    "                  yaxis=dict(zeroline=False, linecolor='black', mirror=True),\n",
    "                  height=600, showlegend=False\n",
    "                 )\n",
    "fig"
   ]
  },
  {
   "cell_type": "code",
   "execution_count": null,
   "metadata": {},
   "outputs": [],
   "source": []
  }
 ],
 "metadata": {
  "kernelspec": {
   "display_name": "Python 3",
   "language": "python",
   "name": "python3"
  },
  "language_info": {
   "codemirror_mode": {
    "name": "ipython",
    "version": 3
   },
   "file_extension": ".py",
   "mimetype": "text/x-python",
   "name": "python",
   "nbconvert_exporter": "python",
   "pygments_lexer": "ipython3",
   "version": "3.8.5"
  }
 },
 "nbformat": 4,
 "nbformat_minor": 4
}
