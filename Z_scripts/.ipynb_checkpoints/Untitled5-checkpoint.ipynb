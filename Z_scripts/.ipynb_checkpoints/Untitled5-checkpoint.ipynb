{
 "cells": [
  {
   "cell_type": "code",
   "execution_count": 2,
   "metadata": {},
   "outputs": [
    {
     "data": {
      "text/plain": [
       "(920.0950454545456, 0.023760000000000003)"
      ]
     },
     "execution_count": 2,
     "metadata": {},
     "output_type": "execute_result"
    }
   ],
   "source": [
    "Ca = 0.0230\n",
    "V0=0.2179e-9\n",
    "Umean=1.580\n",
    "Ub=1.944\n",
    "delta_zv=0.054\n",
    "d = 0.514e-3\n",
    "mu=0.88e-3\n",
    "rho=997\n",
    "sigma=0.072\n",
    "\n",
    "Re=rho*d*Umean/mu\n",
    "Ca=mu*Ub/sigma\n",
    "Re, Ca"
   ]
  },
  {
   "cell_type": "code",
   "execution_count": 10,
   "metadata": {},
   "outputs": [
    {
     "data": {
      "text/plain": [
       "(1.5800085080143151,\n",
       " 0.023760000000000003,\n",
       " 2.0606566782058233,\n",
       " 2.5758208477572793)"
      ]
     },
     "execution_count": 10,
     "metadata": {},
     "output_type": "execute_result"
    }
   ],
   "source": [
    "def calcUmean(Re):\n",
    "    return Re*mu/(rho*d)\n",
    "\n",
    "def calcCa(Ub):\n",
    "    return mu*Ub/sigma\n",
    "\n",
    "calcUmean(920.1), calcCa(Ub), calcUmean(1200), calcUmean(1500),\n"
   ]
  },
  {
   "cell_type": "code",
   "execution_count": 5,
   "metadata": {},
   "outputs": [
    {
     "data": {
      "text/plain": [
       "2.5760869565217392"
      ]
     },
     "execution_count": 5,
     "metadata": {},
     "output_type": "execute_result"
    }
   ],
   "source": []
  },
  {
   "cell_type": "code",
   "execution_count": null,
   "metadata": {},
   "outputs": [],
   "source": []
  }
 ],
 "metadata": {
  "kernelspec": {
   "display_name": "Python 3",
   "language": "python",
   "name": "python3"
  },
  "language_info": {
   "codemirror_mode": {
    "name": "ipython",
    "version": 3
   },
   "file_extension": ".py",
   "mimetype": "text/x-python",
   "name": "python",
   "nbconvert_exporter": "python",
   "pygments_lexer": "ipython3",
   "version": "3.8.5"
  }
 },
 "nbformat": 4,
 "nbformat_minor": 4
}
