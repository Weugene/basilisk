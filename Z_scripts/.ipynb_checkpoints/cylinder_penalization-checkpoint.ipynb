{
 "cells": [
  {
   "cell_type": "code",
   "execution_count": 15,
   "metadata": {},
   "outputs": [],
   "source": [
    "# OS='UBUNTU'\n",
    "OS='MacOS'\n",
    "\n",
    "\n",
    "if OS == 'MacOS':\n",
    "    home_dir = \"/Users/weugene/\"\n",
    "    rpath = home_dir + '/basilisk/work/cylinders_penalization/comparison_BP_Pt_EB/res10/'\n",
    "elif OS == 'UBUNTU':\n",
    "    home_dir = \"/home/e.sharaborin/\"\n",
    "    rpath = home_dir + '/basilisk/work/cylinders_penalization/comparison_BP_Pt_EB/res10/'\n",
    "else:\n",
    "    home_dir = \"/home/e.sharaborin/\"\n",
    "    rpath = home_dir + '/basilisk/work/cylinders_penalization/comparison_BP_Pt_EB/res10/'\n",
    "\n",
    "MYPATH = home_dir + \"/Dropbox/Aslan-Evgenii/media/pictures/\"\n",
    "prefix = \"Sangani/\""
   ]
  },
  {
   "cell_type": "code",
   "execution_count": 16,
   "metadata": {},
   "outputs": [],
   "source": [
    "import plotly.graph_objects as go\n",
    "import plotly.express as px\n",
    "import plotly.io as pio\n",
    "from pathlib import Path\n",
    "from math import pi\n",
    "from numpy.fft import irfft\n",
    "import plotly\n",
    "from scipy.optimize import curve_fit\n",
    "plotly.io.orca.config.executable = '/Applications/orca.app/Contents/MacOS/orca'\n",
    "plotly.io.orca.config.save()\n",
    "\n",
    "def plot_graph(list_x_, list_y_, names, xtitle, ytitle, image_name, list_errors=None, add_error_bar=None, mode=['lines+markers'],\n",
    "               xrange=[], yrange=[],\n",
    "               dash=['solid', 'dot', 'dash', 'longdash'],\n",
    "               colors=['blue', 'red', 'hsv(120,100,100)', 'green', 'black' ],\n",
    "               marker_size=10, line_size=3,\n",
    "               marker_style = ['circle' ]*10, #'triangle-up', 'triangle-down','square', 'diamond', 'cross',  'x-thin', 'cross-thin' \n",
    "               width=1000, height=500, path='./', xlog=False, ylog=False, \n",
    "               yanchor='top', y0_anchor=0.99, xanchor='right', x0_anchor=0.99, legend_orientation=None, showlegend=True,\n",
    "               legborderlinesize=0.7, figborderlinesize=0.7, lmargin=0, rmargin=0, bmargin=0, tmargin=0, padmargin=0.1, debug=False):\n",
    "\n",
    "    list_x, list_y = [], []\n",
    "    for i,x in enumerate(list_x_):\n",
    "        y = list_y_[i]\n",
    "        list_x.append(np.array(x))\n",
    "        list_y.append(np.array(y))\n",
    "    if mode == []:\n",
    "        for i in range(len(list_x)):\n",
    "            mode.append('lines+markers')\n",
    "    if xrange == []:\n",
    "        minx, maxx = [], []\n",
    "        for i,x in enumerate(list_x):\n",
    "            minx.append(x.min())\n",
    "            maxx.append(x.max())\n",
    "        xrange = [minx, maxx]\n",
    "    if yrange == []:\n",
    "        miny, maxy = [], []\n",
    "        for i,y in enumerate(list_y):\n",
    "            miny.append(y.min())\n",
    "            maxy.append(y.max())\n",
    "        yrange = [miny, maxy]\n",
    "\n",
    "    yaxis = dict(\n",
    "        tickfont = dict(\n",
    "            family = 'Times New Roman',\n",
    "            size = 20,\n",
    "            color = 'black'\n",
    "        ),\n",
    "        titlefont = dict(\n",
    "            family = 'Times New Roman',\n",
    "            size = 25,\n",
    "            color = 'black'\n",
    "        ),\n",
    "    )\n",
    "    xaxis = dict(\n",
    "        tickfont = dict(\n",
    "            family = 'Times New Roman',\n",
    "            size = 20,\n",
    "            color = 'black'\n",
    "        ),\n",
    "        titlefont = dict(\n",
    "            family = 'Times New Roman',\n",
    "            size = 25,\n",
    "            color = 'black'\n",
    "        )\n",
    "    )\n",
    "\n",
    "    axis_style = dict(showline=True, gridwidth=1, gridcolor='lightgrey', linewidth=figborderlinesize, linecolor='black', mirror=True, ticks='outside',\n",
    "                      tickfont = dict(family = 'Times New Roman', size = 20, color = 'black'))\n",
    "    bg_style = {'plot_bgcolor': 'rgba(255, 255, 255, 1)', 'paper_bgcolor': 'rgba(255, 255, 255, 1)',}\n",
    "\n",
    "\n",
    "    fig = go.Figure()\n",
    "    for i,x in enumerate(list_x):\n",
    "        if debug:\n",
    "            print('curve number',i)        \n",
    "        y = list_y[i]\n",
    "        if list_errors!=None and add_error_bar[i]:\n",
    "            fig.add_trace(go.Scatter(x=x, y=y, name=names[i],\n",
    "                     error_y=dict(\n",
    "                         type='data', # value of error bar given in data coordinates\n",
    "                         array=list_errors[i],\n",
    "                         visible=True),\n",
    "                     mode=mode[i],\n",
    "                     marker=dict(\n",
    "                         size=marker_size,\n",
    "                         line=dict(\n",
    "                             color=colors[i],\n",
    "                             width=1\n",
    "                         )\n",
    "                     ),\n",
    "                     marker_symbol=marker_style[i],\n",
    "                     line=dict(color=colors[i], width=line_size, dash=dash[i]),\n",
    "                     textfont=dict(\n",
    "                         family=\"Times New Roman\",\n",
    "                         size=20,\n",
    "                         color=\"LightSeaGreen\")\n",
    "                     ))\n",
    "        else:\n",
    "            fig.add_trace(go.Scatter(x=x, y=y, name=names[i],\n",
    "                     mode=mode[i],\n",
    "                     marker=dict(\n",
    "                         size=marker_size,\n",
    "                         line=dict(\n",
    "                             color=colors[i],\n",
    "                             width=1\n",
    "                         )\n",
    "                     ),\n",
    "                     marker_symbol=marker_style[i],\n",
    "                     line=dict(color=colors[i], width=line_size, dash=dash[i]),\n",
    "                     textfont=dict(\n",
    "                         family=\"Times New Roman\",\n",
    "                         size=20,\n",
    "                         color=\"LightSeaGreen\")\n",
    "                     ))\n",
    "    fig.update_layout(\n",
    "        width = width,\n",
    "        height = height,\n",
    "        xaxis_title=xtitle,\n",
    "        yaxis_title=ytitle,\n",
    "        yaxis = yaxis,\n",
    "        xaxis = xaxis,\n",
    "        showlegend=showlegend\n",
    "    )\n",
    "    fig.update_layout(bg_style)\n",
    "    fig.update_xaxes(axis_style)\n",
    "    fig.update_yaxes(axis_style)\n",
    "    fig.update_layout(legend=dict(\n",
    "        # yanchor=\"bottom\",\n",
    "        # y=0.1,\n",
    "        # xanchor=\"left\",\n",
    "        # x=1.01,\n",
    "        bgcolor=\"White\",\n",
    "        bordercolor=\"Black\",\n",
    "        borderwidth=figborderlinesize\n",
    "    ))\n",
    "    fig.update_layout(\n",
    "        \n",
    "        autosize=False,\n",
    "        margin=dict(\n",
    "            l=lmargin,\n",
    "            r=rmargin,\n",
    "            b=bmargin,\n",
    "            t=tmargin,\n",
    "            pad=padmargin\n",
    "        ),\n",
    "        #     paper_bgcolor=\"LightSteelBlue\",\n",
    "    )\n",
    "    fig.update_yaxes(side='left',tickangle=0,automargin=True)\n",
    "    fig.update_xaxes(side='bottom',tickangle=0,automargin=True)\n",
    "\n",
    "\n",
    "    fig.update_layout(\n",
    "        legend=dict(\n",
    "        yanchor=yanchor,\n",
    "        y=y0_anchor,\n",
    "        xanchor=xanchor,\n",
    "        x=x0_anchor,\n",
    "            borderwidth=legborderlinesize\n",
    "    ))\n",
    "    fig.update_layout(\n",
    "        font=dict(\n",
    "            family=\"Times New Roman\",\n",
    "            size=20\n",
    "        )\n",
    "    )\n",
    "    if legend_orientation is not None:\n",
    "        fig.update_layout(legend_orientation=legend_orientation)\n",
    "\n",
    "    if xlog:\n",
    "        fig.update_xaxes(type=\"log\")\n",
    "    if ylog:\n",
    "        fig.update_yaxes(type=\"log\")\n",
    "    fig.update_xaxes(range=xrange)\n",
    "    fig.update_yaxes(range=yrange)\n",
    "    fig.show()\n",
    "    fn = path + image_name\n",
    "    pio.write_image(fig, str(Path(fn)))#, engine='kaleido'\n",
    "    print(\"Successfully generated:\", fn)"
   ]
  },
  {
   "cell_type": "code",
   "execution_count": 17,
   "metadata": {},
   "outputs": [
    {
     "name": "stdout",
     "output_type": "stream",
     "text": [
      "path: /Users/weugene//basilisk/work/cylinders_penalization/comparison_BP_Pt_EB/res10/\n",
      "FILE name:  /Users/weugene//basilisk/work/cylinders_penalization/comparison_BP_Pt_EB/res10/log_1e-15\n"
     ]
    },
    {
     "data": {
      "text/html": [
       "<div>\n",
       "<style scoped>\n",
       "    .dataframe tbody tr th:only-of-type {\n",
       "        vertical-align: middle;\n",
       "    }\n",
       "\n",
       "    .dataframe tbody tr th {\n",
       "        vertical-align: top;\n",
       "    }\n",
       "\n",
       "    .dataframe thead th {\n",
       "        text-align: right;\n",
       "    }\n",
       "</style>\n",
       "<table border=\"1\" class=\"dataframe\">\n",
       "  <thead>\n",
       "    <tr style=\"text-align: right;\">\n",
       "      <th></th>\n",
       "      <th>level</th>\n",
       "      <th>phi</th>\n",
       "      <th>f</th>\n",
       "      <th>fth</th>\n",
       "      <th>df_by_f0</th>\n",
       "      <th>i</th>\n",
       "      <th>iter_fp</th>\n",
       "      <th>Phi_Phia</th>\n",
       "      <th>F</th>\n",
       "      <th>dt</th>\n",
       "      <th>t</th>\n",
       "      <th>U</th>\n",
       "      <th>Uw</th>\n",
       "      <th>Ua</th>\n",
       "    </tr>\n",
       "  </thead>\n",
       "  <tbody>\n",
       "    <tr>\n",
       "      <th>0</th>\n",
       "      <td>10</td>\n",
       "      <td>0.05</td>\n",
       "      <td>15.5958</td>\n",
       "      <td>15.56</td>\n",
       "      <td>0.002298</td>\n",
       "      <td>i=1000</td>\n",
       "      <td>ifp=1|</td>\n",
       "      <td>0.0499883=0.05?</td>\n",
       "      <td>F:1.05262</td>\n",
       "      <td>dt:0.001</td>\n",
       "      <td>t:1</td>\n",
       "      <td>U:0.0674939</td>\n",
       "      <td>Uw:0.00144871</td>\n",
       "      <td>Ua:1.34078</td>\n",
       "    </tr>\n",
       "    <tr>\n",
       "      <th>1</th>\n",
       "      <td>10</td>\n",
       "      <td>0.10</td>\n",
       "      <td>24.8943</td>\n",
       "      <td>24.83</td>\n",
       "      <td>0.002589</td>\n",
       "      <td>i=1000</td>\n",
       "      <td>ifp=3|</td>\n",
       "      <td>0.100003=0.1?</td>\n",
       "      <td>F:1.11111</td>\n",
       "      <td>dt:0.001</td>\n",
       "      <td>t:1</td>\n",
       "      <td>U:0.0446333</td>\n",
       "      <td>Uw:0.000889104</td>\n",
       "      <td>Ua:0.901238</td>\n",
       "    </tr>\n",
       "    <tr>\n",
       "      <th>2</th>\n",
       "      <td>10</td>\n",
       "      <td>0.20</td>\n",
       "      <td>51.6815</td>\n",
       "      <td>51.53</td>\n",
       "      <td>0.002940</td>\n",
       "      <td>i=1000</td>\n",
       "      <td>ifp=5|</td>\n",
       "      <td>0.200013=0.2?</td>\n",
       "      <td>F:1.25002</td>\n",
       "      <td>dt:0.001</td>\n",
       "      <td>t:1</td>\n",
       "      <td>U:0.024187</td>\n",
       "      <td>Uw:0.000884779</td>\n",
       "      <td>Ua:0.649229</td>\n",
       "    </tr>\n",
       "    <tr>\n",
       "      <th>3</th>\n",
       "      <td>10</td>\n",
       "      <td>0.30</td>\n",
       "      <td>103.2520</td>\n",
       "      <td>102.90</td>\n",
       "      <td>0.003418</td>\n",
       "      <td>i=1000</td>\n",
       "      <td>ifp=7|</td>\n",
       "      <td>0.300023=0.3?</td>\n",
       "      <td>F:1.42862</td>\n",
       "      <td>dt:0.001</td>\n",
       "      <td>t:1</td>\n",
       "      <td>U:0.0138363</td>\n",
       "      <td>Uw:0.000856217</td>\n",
       "      <td>Ua:0.535357</td>\n",
       "    </tr>\n",
       "    <tr>\n",
       "      <th>4</th>\n",
       "      <td>10</td>\n",
       "      <td>0.40</td>\n",
       "      <td>218.8310</td>\n",
       "      <td>217.89</td>\n",
       "      <td>0.004318</td>\n",
       "      <td>i=1000</td>\n",
       "      <td>ifp=9|</td>\n",
       "      <td>0.400006=0.4?</td>\n",
       "      <td>F:1.66668</td>\n",
       "      <td>dt:0.001</td>\n",
       "      <td>t:1</td>\n",
       "      <td>U:0.00761631</td>\n",
       "      <td>Uw:0.00117054</td>\n",
       "      <td>Ua:0.465941</td>\n",
       "    </tr>\n",
       "    <tr>\n",
       "      <th>5</th>\n",
       "      <td>10</td>\n",
       "      <td>0.50</td>\n",
       "      <td>535.2310</td>\n",
       "      <td>532.55</td>\n",
       "      <td>0.005035</td>\n",
       "      <td>i=1000</td>\n",
       "      <td>ifp=11|</td>\n",
       "      <td>0.500007=0.5?</td>\n",
       "      <td>F:2.00003</td>\n",
       "      <td>dt:0.001</td>\n",
       "      <td>t:1</td>\n",
       "      <td>U:0.00373675</td>\n",
       "      <td>Uw:0.00183431</td>\n",
       "      <td>Ua:0.430641</td>\n",
       "    </tr>\n",
       "    <tr>\n",
       "      <th>6</th>\n",
       "      <td>10</td>\n",
       "      <td>0.60</td>\n",
       "      <td>1774.1000</td>\n",
       "      <td>1763.00</td>\n",
       "      <td>0.006299</td>\n",
       "      <td>i=1000</td>\n",
       "      <td>ifp=13|</td>\n",
       "      <td>0.599998=0.6?</td>\n",
       "      <td>F:2.49999</td>\n",
       "      <td>dt:0.001</td>\n",
       "      <td>t:1</td>\n",
       "      <td>U:0.00140915</td>\n",
       "      <td>Uw:0.00381195</td>\n",
       "      <td>Ua:0.421652</td>\n",
       "    </tr>\n",
       "    <tr>\n",
       "      <th>7</th>\n",
       "      <td>10</td>\n",
       "      <td>0.70</td>\n",
       "      <td>13457.3000</td>\n",
       "      <td>13520.00</td>\n",
       "      <td>0.004636</td>\n",
       "      <td>i=1000</td>\n",
       "      <td>ifp=15|</td>\n",
       "      <td>0.699982=0.7?</td>\n",
       "      <td>F:3.33314</td>\n",
       "      <td>dt:0.001</td>\n",
       "      <td>t:1</td>\n",
       "      <td>U:0.000247682</td>\n",
       "      <td>Uw:0.0222085</td>\n",
       "      <td>Ua:0.438771</td>\n",
       "    </tr>\n",
       "    <tr>\n",
       "      <th>8</th>\n",
       "      <td>10</td>\n",
       "      <td>0.75</td>\n",
       "      <td>108002.0000</td>\n",
       "      <td>126300.00</td>\n",
       "      <td>0.144880</td>\n",
       "      <td>i=1000</td>\n",
       "      <td>ifp=17|</td>\n",
       "      <td>0.750004=0.75?</td>\n",
       "      <td>F:4.00007</td>\n",
       "      <td>dt:0.001</td>\n",
       "      <td>t:1</td>\n",
       "      <td>U:3.70371e-05</td>\n",
       "      <td>Uw:0.0848659</td>\n",
       "      <td>Ua:0.474804</td>\n",
       "    </tr>\n",
       "  </tbody>\n",
       "</table>\n",
       "</div>"
      ],
      "text/plain": [
       "   level   phi            f        fth  df_by_f0       i  iter_fp  \\\n",
       "0     10  0.05      15.5958      15.56  0.002298  i=1000   ifp=1|   \n",
       "1     10  0.10      24.8943      24.83  0.002589  i=1000   ifp=3|   \n",
       "2     10  0.20      51.6815      51.53  0.002940  i=1000   ifp=5|   \n",
       "3     10  0.30     103.2520     102.90  0.003418  i=1000   ifp=7|   \n",
       "4     10  0.40     218.8310     217.89  0.004318  i=1000   ifp=9|   \n",
       "5     10  0.50     535.2310     532.55  0.005035  i=1000  ifp=11|   \n",
       "6     10  0.60    1774.1000    1763.00  0.006299  i=1000  ifp=13|   \n",
       "7     10  0.70   13457.3000   13520.00  0.004636  i=1000  ifp=15|   \n",
       "8     10  0.75  108002.0000  126300.00  0.144880  i=1000  ifp=17|   \n",
       "\n",
       "          Phi_Phia          F        dt    t              U              Uw  \\\n",
       "0  0.0499883=0.05?  F:1.05262  dt:0.001  t:1    U:0.0674939   Uw:0.00144871   \n",
       "1    0.100003=0.1?  F:1.11111  dt:0.001  t:1    U:0.0446333  Uw:0.000889104   \n",
       "2    0.200013=0.2?  F:1.25002  dt:0.001  t:1     U:0.024187  Uw:0.000884779   \n",
       "3    0.300023=0.3?  F:1.42862  dt:0.001  t:1    U:0.0138363  Uw:0.000856217   \n",
       "4    0.400006=0.4?  F:1.66668  dt:0.001  t:1   U:0.00761631   Uw:0.00117054   \n",
       "5    0.500007=0.5?  F:2.00003  dt:0.001  t:1   U:0.00373675   Uw:0.00183431   \n",
       "6    0.599998=0.6?  F:2.49999  dt:0.001  t:1   U:0.00140915   Uw:0.00381195   \n",
       "7    0.699982=0.7?  F:3.33314  dt:0.001  t:1  U:0.000247682    Uw:0.0222085   \n",
       "8   0.750004=0.75?  F:4.00007  dt:0.001  t:1  U:3.70371e-05    Uw:0.0848659   \n",
       "\n",
       "            Ua  \n",
       "0   Ua:1.34078  \n",
       "1  Ua:0.901238  \n",
       "2  Ua:0.649229  \n",
       "3  Ua:0.535357  \n",
       "4  Ua:0.465941  \n",
       "5  Ua:0.430641  \n",
       "6  Ua:0.421652  \n",
       "7  Ua:0.438771  \n",
       "8  Ua:0.474804  "
      ]
     },
     "metadata": {},
     "output_type": "display_data"
    },
    {
     "name": "stdout",
     "output_type": "stream",
     "text": [
      "FILE name:  /Users/weugene//basilisk/work/cylinders_penalization/comparison_BP_Pt_EB/res10/log_EB10\n"
     ]
    },
    {
     "data": {
      "text/html": [
       "<div>\n",
       "<style scoped>\n",
       "    .dataframe tbody tr th:only-of-type {\n",
       "        vertical-align: middle;\n",
       "    }\n",
       "\n",
       "    .dataframe tbody tr th {\n",
       "        vertical-align: top;\n",
       "    }\n",
       "\n",
       "    .dataframe thead th {\n",
       "        text-align: right;\n",
       "    }\n",
       "</style>\n",
       "<table border=\"1\" class=\"dataframe\">\n",
       "  <thead>\n",
       "    <tr style=\"text-align: right;\">\n",
       "      <th></th>\n",
       "      <th>level</th>\n",
       "      <th>phi</th>\n",
       "      <th>f</th>\n",
       "      <th>fth</th>\n",
       "      <th>df_by_f0</th>\n",
       "      <th>i</th>\n",
       "      <th>Phi_Phia</th>\n",
       "      <th>F</th>\n",
       "      <th>dt</th>\n",
       "      <th>t</th>\n",
       "      <th>U</th>\n",
       "      <th>Uw</th>\n",
       "      <th>Ua</th>\n",
       "    </tr>\n",
       "  </thead>\n",
       "  <tbody>\n",
       "    <tr>\n",
       "      <th>0</th>\n",
       "      <td>10</td>\n",
       "      <td>0.05</td>\n",
       "      <td>16.2117</td>\n",
       "      <td>15.56</td>\n",
       "      <td>0.041882</td>\n",
       "      <td>267|</td>\n",
       "      <td>0.0499986=0.05</td>\n",
       "      <td>F:1.05263</td>\n",
       "      <td>dt:0.001</td>\n",
       "      <td>t:0.267</td>\n",
       "      <td>U:</td>\n",
       "      <td>0.064930</td>\n",
       "      <td>0.064966</td>\n",
       "    </tr>\n",
       "    <tr>\n",
       "      <th>1</th>\n",
       "      <td>10</td>\n",
       "      <td>0.10</td>\n",
       "      <td>25.4102</td>\n",
       "      <td>24.83</td>\n",
       "      <td>0.023367</td>\n",
       "      <td>210|</td>\n",
       "      <td>0.0999986=0.1</td>\n",
       "      <td>F:1.11111</td>\n",
       "      <td>dt:0.001</td>\n",
       "      <td>t:0.21</td>\n",
       "      <td>U:</td>\n",
       "      <td>0.043727</td>\n",
       "      <td>0.043763</td>\n",
       "    </tr>\n",
       "    <tr>\n",
       "      <th>2</th>\n",
       "      <td>10</td>\n",
       "      <td>0.20</td>\n",
       "      <td>51.4718</td>\n",
       "      <td>51.53</td>\n",
       "      <td>0.001129</td>\n",
       "      <td>155|</td>\n",
       "      <td>0.19999=0.2</td>\n",
       "      <td>F:1.24998</td>\n",
       "      <td>dt:0.001</td>\n",
       "      <td>t:0.155</td>\n",
       "      <td>U:</td>\n",
       "      <td>0.024285</td>\n",
       "      <td>0.024349</td>\n",
       "    </tr>\n",
       "    <tr>\n",
       "      <th>3</th>\n",
       "      <td>10</td>\n",
       "      <td>0.30</td>\n",
       "      <td>101.5140</td>\n",
       "      <td>102.90</td>\n",
       "      <td>0.013468</td>\n",
       "      <td>5000|</td>\n",
       "      <td>0.299985=0.3</td>\n",
       "      <td>F:1.42854</td>\n",
       "      <td>dt:0.001</td>\n",
       "      <td>t:5</td>\n",
       "      <td>U:</td>\n",
       "      <td>0.014072</td>\n",
       "      <td>0.014124</td>\n",
       "    </tr>\n",
       "    <tr>\n",
       "      <th>4</th>\n",
       "      <td>10</td>\n",
       "      <td>0.40</td>\n",
       "      <td>213.1840</td>\n",
       "      <td>217.89</td>\n",
       "      <td>0.021599</td>\n",
       "      <td>5000|</td>\n",
       "      <td>0.399975=0.4</td>\n",
       "      <td>F:1.6666</td>\n",
       "      <td>dt:0.001</td>\n",
       "      <td>t:5</td>\n",
       "      <td>U:</td>\n",
       "      <td>0.007818</td>\n",
       "      <td>0.007861</td>\n",
       "    </tr>\n",
       "    <tr>\n",
       "      <th>5</th>\n",
       "      <td>10</td>\n",
       "      <td>0.50</td>\n",
       "      <td>521.4400</td>\n",
       "      <td>532.55</td>\n",
       "      <td>0.020863</td>\n",
       "      <td>55|</td>\n",
       "      <td>0.499982=0.5</td>\n",
       "      <td>F:1.99993</td>\n",
       "      <td>dt:0.001</td>\n",
       "      <td>t:0.055</td>\n",
       "      <td>U:</td>\n",
       "      <td>0.003835</td>\n",
       "      <td>0.003871</td>\n",
       "    </tr>\n",
       "    <tr>\n",
       "      <th>6</th>\n",
       "      <td>10</td>\n",
       "      <td>0.60</td>\n",
       "      <td>1658.0100</td>\n",
       "      <td>1763.00</td>\n",
       "      <td>0.059553</td>\n",
       "      <td>5000|</td>\n",
       "      <td>0.599945=0.6</td>\n",
       "      <td>F:2.49965</td>\n",
       "      <td>dt:0.001</td>\n",
       "      <td>t:5</td>\n",
       "      <td>U:</td>\n",
       "      <td>0.001508</td>\n",
       "      <td>0.001529</td>\n",
       "    </tr>\n",
       "    <tr>\n",
       "      <th>7</th>\n",
       "      <td>10</td>\n",
       "      <td>0.70</td>\n",
       "      <td>12968.7000</td>\n",
       "      <td>13520.00</td>\n",
       "      <td>0.040774</td>\n",
       "      <td>5000|</td>\n",
       "      <td>0.699945=0.7</td>\n",
       "      <td>F:3.33272</td>\n",
       "      <td>dt:0.001</td>\n",
       "      <td>t:5</td>\n",
       "      <td>U:</td>\n",
       "      <td>0.000257</td>\n",
       "      <td>0.000265</td>\n",
       "    </tr>\n",
       "    <tr>\n",
       "      <th>8</th>\n",
       "      <td>10</td>\n",
       "      <td>0.75</td>\n",
       "      <td>121546.0000</td>\n",
       "      <td>126300.00</td>\n",
       "      <td>0.037644</td>\n",
       "      <td>5000|</td>\n",
       "      <td>0.749974=0.75</td>\n",
       "      <td>F:3.99959</td>\n",
       "      <td>dt:0.001</td>\n",
       "      <td>t:5</td>\n",
       "      <td>U:</td>\n",
       "      <td>0.000033</td>\n",
       "      <td>0.000034</td>\n",
       "    </tr>\n",
       "  </tbody>\n",
       "</table>\n",
       "</div>"
      ],
      "text/plain": [
       "   level   phi            f        fth  df_by_f0      i        Phi_Phia  \\\n",
       "0     10  0.05      16.2117      15.56  0.041882   267|  0.0499986=0.05   \n",
       "1     10  0.10      25.4102      24.83  0.023367   210|   0.0999986=0.1   \n",
       "2     10  0.20      51.4718      51.53  0.001129   155|     0.19999=0.2   \n",
       "3     10  0.30     101.5140     102.90  0.013468  5000|    0.299985=0.3   \n",
       "4     10  0.40     213.1840     217.89  0.021599  5000|    0.399975=0.4   \n",
       "5     10  0.50     521.4400     532.55  0.020863    55|    0.499982=0.5   \n",
       "6     10  0.60    1658.0100    1763.00  0.059553  5000|    0.599945=0.6   \n",
       "7     10  0.70   12968.7000   13520.00  0.040774  5000|    0.699945=0.7   \n",
       "8     10  0.75  121546.0000  126300.00  0.037644  5000|   0.749974=0.75   \n",
       "\n",
       "           F        dt        t   U        Uw        Ua  \n",
       "0  F:1.05263  dt:0.001  t:0.267  U:  0.064930  0.064966  \n",
       "1  F:1.11111  dt:0.001   t:0.21  U:  0.043727  0.043763  \n",
       "2  F:1.24998  dt:0.001  t:0.155  U:  0.024285  0.024349  \n",
       "3  F:1.42854  dt:0.001      t:5  U:  0.014072  0.014124  \n",
       "4   F:1.6666  dt:0.001      t:5  U:  0.007818  0.007861  \n",
       "5  F:1.99993  dt:0.001  t:0.055  U:  0.003835  0.003871  \n",
       "6  F:2.49965  dt:0.001      t:5  U:  0.001508  0.001529  \n",
       "7  F:3.33272  dt:0.001      t:5  U:  0.000257  0.000265  \n",
       "8  F:3.99959  dt:0.001      t:5  U:  0.000033  0.000034  "
      ]
     },
     "metadata": {},
     "output_type": "display_data"
    },
    {
     "name": "stdout",
     "output_type": "stream",
     "text": [
      "FILE name:  /Users/weugene//basilisk/work/cylinders_penalization/comparison_BP_Pt_EB/res10/log_Pt10\n"
     ]
    },
    {
     "data": {
      "text/html": [
       "<div>\n",
       "<style scoped>\n",
       "    .dataframe tbody tr th:only-of-type {\n",
       "        vertical-align: middle;\n",
       "    }\n",
       "\n",
       "    .dataframe tbody tr th {\n",
       "        vertical-align: top;\n",
       "    }\n",
       "\n",
       "    .dataframe thead th {\n",
       "        text-align: right;\n",
       "    }\n",
       "</style>\n",
       "<table border=\"1\" class=\"dataframe\">\n",
       "  <thead>\n",
       "    <tr style=\"text-align: right;\">\n",
       "      <th></th>\n",
       "      <th>level</th>\n",
       "      <th>phi</th>\n",
       "      <th>f</th>\n",
       "      <th>fth</th>\n",
       "      <th>df_by_f0</th>\n",
       "      <th>i</th>\n",
       "      <th>iter_fp</th>\n",
       "      <th>Phi_Phia</th>\n",
       "      <th>F</th>\n",
       "      <th>dt</th>\n",
       "      <th>t</th>\n",
       "      <th>U</th>\n",
       "      <th>Uw</th>\n",
       "      <th>Ua</th>\n",
       "    </tr>\n",
       "  </thead>\n",
       "  <tbody>\n",
       "    <tr>\n",
       "      <th>0</th>\n",
       "      <td>10</td>\n",
       "      <td>0.05</td>\n",
       "      <td>10.4695</td>\n",
       "      <td>15.56</td>\n",
       "      <td>0.327155</td>\n",
       "      <td>i=5000</td>\n",
       "      <td>ifp=501|</td>\n",
       "      <td>0.0499883=0.05?</td>\n",
       "      <td>F:1.05262</td>\n",
       "      <td>dt:0.001</td>\n",
       "      <td>t:5</td>\n",
       "      <td>U:0.100542</td>\n",
       "      <td>Uw:1.04979e-05</td>\n",
       "      <td>Ua:1.44658</td>\n",
       "    </tr>\n",
       "    <tr>\n",
       "      <th>1</th>\n",
       "      <td>10</td>\n",
       "      <td>0.10</td>\n",
       "      <td>17.1356</td>\n",
       "      <td>24.83</td>\n",
       "      <td>0.309883</td>\n",
       "      <td>i=5000</td>\n",
       "      <td>ifp=1002|</td>\n",
       "      <td>0.100003=0.1?</td>\n",
       "      <td>F:1.11111</td>\n",
       "      <td>dt:0.001</td>\n",
       "      <td>t:5</td>\n",
       "      <td>U:0.0648425</td>\n",
       "      <td>Uw:0.000104258</td>\n",
       "      <td>Ua:1.00416</td>\n",
       "    </tr>\n",
       "    <tr>\n",
       "      <th>2</th>\n",
       "      <td>10</td>\n",
       "      <td>0.20</td>\n",
       "      <td>34.0835</td>\n",
       "      <td>51.53</td>\n",
       "      <td>0.338571</td>\n",
       "      <td>i=5000</td>\n",
       "      <td>ifp=1503|</td>\n",
       "      <td>0.200013=0.2?</td>\n",
       "      <td>F:1.25002</td>\n",
       "      <td>dt:0.001</td>\n",
       "      <td>t:5</td>\n",
       "      <td>U:0.0366753</td>\n",
       "      <td>Uw:1.83732e-05</td>\n",
       "      <td>Ua:0.619098</td>\n",
       "    </tr>\n",
       "    <tr>\n",
       "      <th>3</th>\n",
       "      <td>10</td>\n",
       "      <td>0.30</td>\n",
       "      <td>62.0465</td>\n",
       "      <td>102.90</td>\n",
       "      <td>0.397021</td>\n",
       "      <td>i=361</td>\n",
       "      <td>ifp=1541|</td>\n",
       "      <td>0.300023=0.3?</td>\n",
       "      <td>F:1.42862</td>\n",
       "      <td>dt:0.001</td>\n",
       "      <td>t:0.361</td>\n",
       "      <td>U:0.0230249</td>\n",
       "      <td>Uw:9.95439e-07</td>\n",
       "      <td>Ua:0.492892</td>\n",
       "    </tr>\n",
       "    <tr>\n",
       "      <th>4</th>\n",
       "      <td>10</td>\n",
       "      <td>0.40</td>\n",
       "      <td>113.9410</td>\n",
       "      <td>217.89</td>\n",
       "      <td>0.477073</td>\n",
       "      <td>i=5000</td>\n",
       "      <td>ifp=2042|</td>\n",
       "      <td>0.400006=0.4?</td>\n",
       "      <td>F:1.66668</td>\n",
       "      <td>dt:0.001</td>\n",
       "      <td>t:5</td>\n",
       "      <td>U:0.0146277</td>\n",
       "      <td>Uw:0.00043469</td>\n",
       "      <td>Ua:0.363572</td>\n",
       "    </tr>\n",
       "    <tr>\n",
       "      <th>5</th>\n",
       "      <td>10</td>\n",
       "      <td>0.50</td>\n",
       "      <td>217.6800</td>\n",
       "      <td>532.55</td>\n",
       "      <td>0.591249</td>\n",
       "      <td>i=5000</td>\n",
       "      <td>ifp=2543|</td>\n",
       "      <td>0.5=0.5?</td>\n",
       "      <td>F:2</td>\n",
       "      <td>dt:0.001</td>\n",
       "      <td>t:5</td>\n",
       "      <td>U:0.0091878</td>\n",
       "      <td>Uw:3.34019e-06</td>\n",
       "      <td>Ua:0.385963</td>\n",
       "    </tr>\n",
       "    <tr>\n",
       "      <th>6</th>\n",
       "      <td>10</td>\n",
       "      <td>0.60</td>\n",
       "      <td>447.3310</td>\n",
       "      <td>1763.00</td>\n",
       "      <td>0.746267</td>\n",
       "      <td>i=5000</td>\n",
       "      <td>ifp=3044|</td>\n",
       "      <td>0.600003=0.6?</td>\n",
       "      <td>F:2.50002</td>\n",
       "      <td>dt:0.001</td>\n",
       "      <td>t:5</td>\n",
       "      <td>U:0.00558875</td>\n",
       "      <td>Uw:2.0819e-06</td>\n",
       "      <td>Ua:0.352195</td>\n",
       "    </tr>\n",
       "    <tr>\n",
       "      <th>7</th>\n",
       "      <td>10</td>\n",
       "      <td>0.70</td>\n",
       "      <td>977.8360</td>\n",
       "      <td>13520.00</td>\n",
       "      <td>0.927675</td>\n",
       "      <td>i=5000</td>\n",
       "      <td>ifp=3545|</td>\n",
       "      <td>0.699982=0.7?</td>\n",
       "      <td>F:3.33314</td>\n",
       "      <td>dt:0.001</td>\n",
       "      <td>t:5</td>\n",
       "      <td>U:0.00340868</td>\n",
       "      <td>Uw:6.67773e-06</td>\n",
       "      <td>Ua:0.323843</td>\n",
       "    </tr>\n",
       "    <tr>\n",
       "      <th>8</th>\n",
       "      <td>10</td>\n",
       "      <td>0.75</td>\n",
       "      <td>1436.5300</td>\n",
       "      <td>126300.00</td>\n",
       "      <td>0.988626</td>\n",
       "      <td>i=5000</td>\n",
       "      <td>ifp=4046|</td>\n",
       "      <td>0.750004=0.75?</td>\n",
       "      <td>F:4.00007</td>\n",
       "      <td>dt:0.001</td>\n",
       "      <td>t:5</td>\n",
       "      <td>U:0.00278453</td>\n",
       "      <td>Uw:2.81842e-06</td>\n",
       "      <td>Ua:0.309307</td>\n",
       "    </tr>\n",
       "  </tbody>\n",
       "</table>\n",
       "</div>"
      ],
      "text/plain": [
       "   level   phi          f        fth  df_by_f0       i    iter_fp  \\\n",
       "0     10  0.05    10.4695      15.56  0.327155  i=5000   ifp=501|   \n",
       "1     10  0.10    17.1356      24.83  0.309883  i=5000  ifp=1002|   \n",
       "2     10  0.20    34.0835      51.53  0.338571  i=5000  ifp=1503|   \n",
       "3     10  0.30    62.0465     102.90  0.397021   i=361  ifp=1541|   \n",
       "4     10  0.40   113.9410     217.89  0.477073  i=5000  ifp=2042|   \n",
       "5     10  0.50   217.6800     532.55  0.591249  i=5000  ifp=2543|   \n",
       "6     10  0.60   447.3310    1763.00  0.746267  i=5000  ifp=3044|   \n",
       "7     10  0.70   977.8360   13520.00  0.927675  i=5000  ifp=3545|   \n",
       "8     10  0.75  1436.5300  126300.00  0.988626  i=5000  ifp=4046|   \n",
       "\n",
       "          Phi_Phia          F        dt        t             U  \\\n",
       "0  0.0499883=0.05?  F:1.05262  dt:0.001      t:5    U:0.100542   \n",
       "1    0.100003=0.1?  F:1.11111  dt:0.001      t:5   U:0.0648425   \n",
       "2    0.200013=0.2?  F:1.25002  dt:0.001      t:5   U:0.0366753   \n",
       "3    0.300023=0.3?  F:1.42862  dt:0.001  t:0.361   U:0.0230249   \n",
       "4    0.400006=0.4?  F:1.66668  dt:0.001      t:5   U:0.0146277   \n",
       "5         0.5=0.5?        F:2  dt:0.001      t:5   U:0.0091878   \n",
       "6    0.600003=0.6?  F:2.50002  dt:0.001      t:5  U:0.00558875   \n",
       "7    0.699982=0.7?  F:3.33314  dt:0.001      t:5  U:0.00340868   \n",
       "8   0.750004=0.75?  F:4.00007  dt:0.001      t:5  U:0.00278453   \n",
       "\n",
       "               Uw           Ua  \n",
       "0  Uw:1.04979e-05   Ua:1.44658  \n",
       "1  Uw:0.000104258   Ua:1.00416  \n",
       "2  Uw:1.83732e-05  Ua:0.619098  \n",
       "3  Uw:9.95439e-07  Ua:0.492892  \n",
       "4   Uw:0.00043469  Ua:0.363572  \n",
       "5  Uw:3.34019e-06  Ua:0.385963  \n",
       "6   Uw:2.0819e-06  Ua:0.352195  \n",
       "7  Uw:6.67773e-06  Ua:0.323843  \n",
       "8  Uw:2.81842e-06  Ua:0.309307  "
      ]
     },
     "metadata": {},
     "output_type": "display_data"
    },
    {
     "data": {
      "application/vnd.plotly.v1+json": {
       "config": {
        "linkText": "Export to plot.ly",
        "plotlyServerURL": "https://plot.ly",
        "showLink": false
       },
       "data": [
        {
         "line": {
          "color": "blue",
          "dash": "solid",
          "width": 2
         },
         "mode": "lines+markers",
         "name": "BPM",
         "textfont": {
          "color": "LightSeaGreen",
          "family": "sans serif",
          "size": 18
         },
         "type": "scatter",
         "x": [
          0.05,
          0.1,
          0.2,
          0.3,
          0.4,
          0.5,
          0.6,
          0.7,
          0.75
         ],
         "y": [
          15.5958,
          24.8943,
          51.6815,
          103.25200000000001,
          218.831,
          535.231,
          1774.1,
          13457.3,
          108002
         ]
        },
        {
         "line": {
          "color": "red",
          "dash": "dot",
          "width": 2
         },
         "mode": "lines+markers",
         "name": "EBM",
         "textfont": {
          "color": "LightSeaGreen",
          "family": "sans serif",
          "size": 18
         },
         "type": "scatter",
         "x": [
          0.05,
          0.1,
          0.2,
          0.3,
          0.4,
          0.5,
          0.6,
          0.7,
          0.75
         ],
         "y": [
          16.2117,
          25.4102,
          51.4718,
          101.514,
          213.18400000000003,
          521.44,
          1658.01,
          12968.7,
          121546
         ]
        },
        {
         "line": {
          "color": "hsv(120,100,100)",
          "dash": "dash",
          "width": 2
         },
         "mode": "lines+markers",
         "name": "SSM",
         "textfont": {
          "color": "LightSeaGreen",
          "family": "sans serif",
          "size": 18
         },
         "type": "scatter",
         "x": [
          0.05,
          0.1,
          0.2,
          0.3,
          0.4,
          0.5,
          0.6,
          0.7,
          0.75
         ],
         "y": [
          10.4695,
          17.1356,
          34.0835,
          62.0465,
          113.941,
          217.68,
          447.33099999999996,
          977.836,
          1436.53
         ]
        },
        {
         "line": {
          "color": "black",
          "dash": "longdash",
          "width": 2
         },
         "mode": "lines+markers",
         "name": "Theory",
         "textfont": {
          "color": "LightSeaGreen",
          "family": "Times New Roman",
          "size": 18
         },
         "type": "scatter",
         "x": [
          0.05,
          0.1,
          0.2,
          0.3,
          0.4,
          0.5,
          0.6,
          0.7,
          0.75
         ],
         "y": [
          15.56,
          24.83,
          51.53,
          102.9,
          217.89,
          532.55,
          1763,
          13520,
          126300
         ]
        }
       ],
       "layout": {
        "height": 800,
        "legend": {
         "bordercolor": "Black",
         "borderwidth": 2,
         "font": {
          "color": "black",
          "family": "Times New Roman",
          "size": 20
         },
         "title": {
          "font": {
           "color": "blue",
           "family": "Times New Roman",
           "size": 20
          }
         },
         "x": 0.01,
         "xanchor": "left",
         "y": 0.99,
         "yanchor": "top"
        },
        "margin": {
         "b": 0,
         "l": 0,
         "pad": 0,
         "r": 0,
         "t": 0
        },
        "paper_bgcolor": "rgba(255, 255, 255, 1)",
        "plot_bgcolor": "rgba(255, 255, 255, 1)",
        "showlegend": true,
        "template": {
         "data": {
          "bar": [
           {
            "error_x": {
             "color": "#2a3f5f"
            },
            "error_y": {
             "color": "#2a3f5f"
            },
            "marker": {
             "line": {
              "color": "#E5ECF6",
              "width": 0.5
             }
            },
            "type": "bar"
           }
          ],
          "barpolar": [
           {
            "marker": {
             "line": {
              "color": "#E5ECF6",
              "width": 0.5
             }
            },
            "type": "barpolar"
           }
          ],
          "carpet": [
           {
            "aaxis": {
             "endlinecolor": "#2a3f5f",
             "gridcolor": "white",
             "linecolor": "white",
             "minorgridcolor": "white",
             "startlinecolor": "#2a3f5f"
            },
            "baxis": {
             "endlinecolor": "#2a3f5f",
             "gridcolor": "white",
             "linecolor": "white",
             "minorgridcolor": "white",
             "startlinecolor": "#2a3f5f"
            },
            "type": "carpet"
           }
          ],
          "choropleth": [
           {
            "colorbar": {
             "outlinewidth": 0,
             "ticks": ""
            },
            "type": "choropleth"
           }
          ],
          "contour": [
           {
            "colorbar": {
             "outlinewidth": 0,
             "ticks": ""
            },
            "colorscale": [
             [
              0,
              "#0d0887"
             ],
             [
              0.1111111111111111,
              "#46039f"
             ],
             [
              0.2222222222222222,
              "#7201a8"
             ],
             [
              0.3333333333333333,
              "#9c179e"
             ],
             [
              0.4444444444444444,
              "#bd3786"
             ],
             [
              0.5555555555555556,
              "#d8576b"
             ],
             [
              0.6666666666666666,
              "#ed7953"
             ],
             [
              0.7777777777777778,
              "#fb9f3a"
             ],
             [
              0.8888888888888888,
              "#fdca26"
             ],
             [
              1,
              "#f0f921"
             ]
            ],
            "type": "contour"
           }
          ],
          "contourcarpet": [
           {
            "colorbar": {
             "outlinewidth": 0,
             "ticks": ""
            },
            "type": "contourcarpet"
           }
          ],
          "heatmap": [
           {
            "colorbar": {
             "outlinewidth": 0,
             "ticks": ""
            },
            "colorscale": [
             [
              0,
              "#0d0887"
             ],
             [
              0.1111111111111111,
              "#46039f"
             ],
             [
              0.2222222222222222,
              "#7201a8"
             ],
             [
              0.3333333333333333,
              "#9c179e"
             ],
             [
              0.4444444444444444,
              "#bd3786"
             ],
             [
              0.5555555555555556,
              "#d8576b"
             ],
             [
              0.6666666666666666,
              "#ed7953"
             ],
             [
              0.7777777777777778,
              "#fb9f3a"
             ],
             [
              0.8888888888888888,
              "#fdca26"
             ],
             [
              1,
              "#f0f921"
             ]
            ],
            "type": "heatmap"
           }
          ],
          "heatmapgl": [
           {
            "colorbar": {
             "outlinewidth": 0,
             "ticks": ""
            },
            "colorscale": [
             [
              0,
              "#0d0887"
             ],
             [
              0.1111111111111111,
              "#46039f"
             ],
             [
              0.2222222222222222,
              "#7201a8"
             ],
             [
              0.3333333333333333,
              "#9c179e"
             ],
             [
              0.4444444444444444,
              "#bd3786"
             ],
             [
              0.5555555555555556,
              "#d8576b"
             ],
             [
              0.6666666666666666,
              "#ed7953"
             ],
             [
              0.7777777777777778,
              "#fb9f3a"
             ],
             [
              0.8888888888888888,
              "#fdca26"
             ],
             [
              1,
              "#f0f921"
             ]
            ],
            "type": "heatmapgl"
           }
          ],
          "histogram": [
           {
            "marker": {
             "colorbar": {
              "outlinewidth": 0,
              "ticks": ""
             }
            },
            "type": "histogram"
           }
          ],
          "histogram2d": [
           {
            "colorbar": {
             "outlinewidth": 0,
             "ticks": ""
            },
            "colorscale": [
             [
              0,
              "#0d0887"
             ],
             [
              0.1111111111111111,
              "#46039f"
             ],
             [
              0.2222222222222222,
              "#7201a8"
             ],
             [
              0.3333333333333333,
              "#9c179e"
             ],
             [
              0.4444444444444444,
              "#bd3786"
             ],
             [
              0.5555555555555556,
              "#d8576b"
             ],
             [
              0.6666666666666666,
              "#ed7953"
             ],
             [
              0.7777777777777778,
              "#fb9f3a"
             ],
             [
              0.8888888888888888,
              "#fdca26"
             ],
             [
              1,
              "#f0f921"
             ]
            ],
            "type": "histogram2d"
           }
          ],
          "histogram2dcontour": [
           {
            "colorbar": {
             "outlinewidth": 0,
             "ticks": ""
            },
            "colorscale": [
             [
              0,
              "#0d0887"
             ],
             [
              0.1111111111111111,
              "#46039f"
             ],
             [
              0.2222222222222222,
              "#7201a8"
             ],
             [
              0.3333333333333333,
              "#9c179e"
             ],
             [
              0.4444444444444444,
              "#bd3786"
             ],
             [
              0.5555555555555556,
              "#d8576b"
             ],
             [
              0.6666666666666666,
              "#ed7953"
             ],
             [
              0.7777777777777778,
              "#fb9f3a"
             ],
             [
              0.8888888888888888,
              "#fdca26"
             ],
             [
              1,
              "#f0f921"
             ]
            ],
            "type": "histogram2dcontour"
           }
          ],
          "mesh3d": [
           {
            "colorbar": {
             "outlinewidth": 0,
             "ticks": ""
            },
            "type": "mesh3d"
           }
          ],
          "parcoords": [
           {
            "line": {
             "colorbar": {
              "outlinewidth": 0,
              "ticks": ""
             }
            },
            "type": "parcoords"
           }
          ],
          "pie": [
           {
            "automargin": true,
            "type": "pie"
           }
          ],
          "scatter": [
           {
            "marker": {
             "colorbar": {
              "outlinewidth": 0,
              "ticks": ""
             }
            },
            "type": "scatter"
           }
          ],
          "scatter3d": [
           {
            "line": {
             "colorbar": {
              "outlinewidth": 0,
              "ticks": ""
             }
            },
            "marker": {
             "colorbar": {
              "outlinewidth": 0,
              "ticks": ""
             }
            },
            "type": "scatter3d"
           }
          ],
          "scattercarpet": [
           {
            "marker": {
             "colorbar": {
              "outlinewidth": 0,
              "ticks": ""
             }
            },
            "type": "scattercarpet"
           }
          ],
          "scattergeo": [
           {
            "marker": {
             "colorbar": {
              "outlinewidth": 0,
              "ticks": ""
             }
            },
            "type": "scattergeo"
           }
          ],
          "scattergl": [
           {
            "marker": {
             "colorbar": {
              "outlinewidth": 0,
              "ticks": ""
             }
            },
            "type": "scattergl"
           }
          ],
          "scattermapbox": [
           {
            "marker": {
             "colorbar": {
              "outlinewidth": 0,
              "ticks": ""
             }
            },
            "type": "scattermapbox"
           }
          ],
          "scatterpolar": [
           {
            "marker": {
             "colorbar": {
              "outlinewidth": 0,
              "ticks": ""
             }
            },
            "type": "scatterpolar"
           }
          ],
          "scatterpolargl": [
           {
            "marker": {
             "colorbar": {
              "outlinewidth": 0,
              "ticks": ""
             }
            },
            "type": "scatterpolargl"
           }
          ],
          "scatterternary": [
           {
            "marker": {
             "colorbar": {
              "outlinewidth": 0,
              "ticks": ""
             }
            },
            "type": "scatterternary"
           }
          ],
          "surface": [
           {
            "colorbar": {
             "outlinewidth": 0,
             "ticks": ""
            },
            "colorscale": [
             [
              0,
              "#0d0887"
             ],
             [
              0.1111111111111111,
              "#46039f"
             ],
             [
              0.2222222222222222,
              "#7201a8"
             ],
             [
              0.3333333333333333,
              "#9c179e"
             ],
             [
              0.4444444444444444,
              "#bd3786"
             ],
             [
              0.5555555555555556,
              "#d8576b"
             ],
             [
              0.6666666666666666,
              "#ed7953"
             ],
             [
              0.7777777777777778,
              "#fb9f3a"
             ],
             [
              0.8888888888888888,
              "#fdca26"
             ],
             [
              1,
              "#f0f921"
             ]
            ],
            "type": "surface"
           }
          ],
          "table": [
           {
            "cells": {
             "fill": {
              "color": "#EBF0F8"
             },
             "line": {
              "color": "white"
             }
            },
            "header": {
             "fill": {
              "color": "#C8D4E3"
             },
             "line": {
              "color": "white"
             }
            },
            "type": "table"
           }
          ]
         },
         "layout": {
          "annotationdefaults": {
           "arrowcolor": "#2a3f5f",
           "arrowhead": 0,
           "arrowwidth": 1
          },
          "autotypenumbers": "strict",
          "coloraxis": {
           "colorbar": {
            "outlinewidth": 0,
            "ticks": ""
           }
          },
          "colorscale": {
           "diverging": [
            [
             0,
             "#8e0152"
            ],
            [
             0.1,
             "#c51b7d"
            ],
            [
             0.2,
             "#de77ae"
            ],
            [
             0.3,
             "#f1b6da"
            ],
            [
             0.4,
             "#fde0ef"
            ],
            [
             0.5,
             "#f7f7f7"
            ],
            [
             0.6,
             "#e6f5d0"
            ],
            [
             0.7,
             "#b8e186"
            ],
            [
             0.8,
             "#7fbc41"
            ],
            [
             0.9,
             "#4d9221"
            ],
            [
             1,
             "#276419"
            ]
           ],
           "sequential": [
            [
             0,
             "#0d0887"
            ],
            [
             0.1111111111111111,
             "#46039f"
            ],
            [
             0.2222222222222222,
             "#7201a8"
            ],
            [
             0.3333333333333333,
             "#9c179e"
            ],
            [
             0.4444444444444444,
             "#bd3786"
            ],
            [
             0.5555555555555556,
             "#d8576b"
            ],
            [
             0.6666666666666666,
             "#ed7953"
            ],
            [
             0.7777777777777778,
             "#fb9f3a"
            ],
            [
             0.8888888888888888,
             "#fdca26"
            ],
            [
             1,
             "#f0f921"
            ]
           ],
           "sequentialminus": [
            [
             0,
             "#0d0887"
            ],
            [
             0.1111111111111111,
             "#46039f"
            ],
            [
             0.2222222222222222,
             "#7201a8"
            ],
            [
             0.3333333333333333,
             "#9c179e"
            ],
            [
             0.4444444444444444,
             "#bd3786"
            ],
            [
             0.5555555555555556,
             "#d8576b"
            ],
            [
             0.6666666666666666,
             "#ed7953"
            ],
            [
             0.7777777777777778,
             "#fb9f3a"
            ],
            [
             0.8888888888888888,
             "#fdca26"
            ],
            [
             1,
             "#f0f921"
            ]
           ]
          },
          "colorway": [
           "#636efa",
           "#EF553B",
           "#00cc96",
           "#ab63fa",
           "#FFA15A",
           "#19d3f3",
           "#FF6692",
           "#B6E880",
           "#FF97FF",
           "#FECB52"
          ],
          "font": {
           "color": "#2a3f5f"
          },
          "geo": {
           "bgcolor": "white",
           "lakecolor": "white",
           "landcolor": "#E5ECF6",
           "showlakes": true,
           "showland": true,
           "subunitcolor": "white"
          },
          "hoverlabel": {
           "align": "left"
          },
          "hovermode": "closest",
          "mapbox": {
           "style": "light"
          },
          "paper_bgcolor": "white",
          "plot_bgcolor": "#E5ECF6",
          "polar": {
           "angularaxis": {
            "gridcolor": "white",
            "linecolor": "white",
            "ticks": ""
           },
           "bgcolor": "#E5ECF6",
           "radialaxis": {
            "gridcolor": "white",
            "linecolor": "white",
            "ticks": ""
           }
          },
          "scene": {
           "xaxis": {
            "backgroundcolor": "#E5ECF6",
            "gridcolor": "white",
            "gridwidth": 2,
            "linecolor": "white",
            "showbackground": true,
            "ticks": "",
            "zerolinecolor": "white"
           },
           "yaxis": {
            "backgroundcolor": "#E5ECF6",
            "gridcolor": "white",
            "gridwidth": 2,
            "linecolor": "white",
            "showbackground": true,
            "ticks": "",
            "zerolinecolor": "white"
           },
           "zaxis": {
            "backgroundcolor": "#E5ECF6",
            "gridcolor": "white",
            "gridwidth": 2,
            "linecolor": "white",
            "showbackground": true,
            "ticks": "",
            "zerolinecolor": "white"
           }
          },
          "shapedefaults": {
           "line": {
            "color": "#2a3f5f"
           }
          },
          "ternary": {
           "aaxis": {
            "gridcolor": "white",
            "linecolor": "white",
            "ticks": ""
           },
           "baxis": {
            "gridcolor": "white",
            "linecolor": "white",
            "ticks": ""
           },
           "bgcolor": "#E5ECF6",
           "caxis": {
            "gridcolor": "white",
            "linecolor": "white",
            "ticks": ""
           }
          },
          "title": {
           "x": 0.05
          },
          "xaxis": {
           "automargin": true,
           "gridcolor": "white",
           "linecolor": "white",
           "ticks": "",
           "title": {
            "standoff": 15
           },
           "zerolinecolor": "white",
           "zerolinewidth": 2
          },
          "yaxis": {
           "automargin": true,
           "gridcolor": "white",
           "linecolor": "white",
           "ticks": "",
           "title": {
            "standoff": 15
           },
           "zerolinecolor": "white",
           "zerolinewidth": 2
          }
         }
        },
        "width": 800,
        "xaxis": {
         "gridcolor": "lightgrey",
         "gridwidth": 1,
         "linecolor": "black",
         "linewidth": 2,
         "mirror": true,
         "showline": true,
         "tickfont": {
          "color": "black",
          "family": "Times New Roman",
          "size": 20
         },
         "ticks": "outside",
         "title": {
          "font": {
           "color": "black",
           "family": "Times New Roman",
           "size": 25
          },
          "text": "φ<sub>s</sub>"
         }
        },
        "yaxis": {
         "gridcolor": "lightgrey",
         "gridwidth": 1,
         "linecolor": "black",
         "linewidth": 2,
         "mirror": true,
         "showline": true,
         "tickfont": {
          "color": "black",
          "family": "Times New Roman",
          "size": 20
         },
         "ticks": "outside",
         "title": {
          "font": {
           "color": "black",
           "family": "Times New Roman",
           "size": 25
          },
          "text": "f"
         },
         "type": "log"
        }
       }
      },
      "text/html": [
       "<div>                            <div id=\"a1ac6ca9-477e-456c-9e77-35a02d275fca\" class=\"plotly-graph-div\" style=\"height:800px; width:800px;\"></div>            <script type=\"text/javascript\">                require([\"plotly\"], function(Plotly) {                    window.PLOTLYENV=window.PLOTLYENV || {};                                    if (document.getElementById(\"a1ac6ca9-477e-456c-9e77-35a02d275fca\")) {                    Plotly.newPlot(                        \"a1ac6ca9-477e-456c-9e77-35a02d275fca\",                        [{\"line\": {\"color\": \"blue\", \"dash\": \"solid\", \"width\": 2}, \"mode\": \"lines+markers\", \"name\": \"BPM\", \"textfont\": {\"color\": \"LightSeaGreen\", \"family\": \"sans serif\", \"size\": 18}, \"type\": \"scatter\", \"x\": [0.05, 0.1, 0.2, 0.3, 0.4, 0.5, 0.6, 0.7, 0.75], \"y\": [15.5958, 24.8943, 51.6815, 103.25200000000001, 218.831, 535.231, 1774.1, 13457.3, 108002.0]}, {\"line\": {\"color\": \"red\", \"dash\": \"dot\", \"width\": 2}, \"mode\": \"lines+markers\", \"name\": \"EBM\", \"textfont\": {\"color\": \"LightSeaGreen\", \"family\": \"sans serif\", \"size\": 18}, \"type\": \"scatter\", \"x\": [0.05, 0.1, 0.2, 0.3, 0.4, 0.5, 0.6, 0.7, 0.75], \"y\": [16.2117, 25.4102, 51.4718, 101.514, 213.18400000000003, 521.44, 1658.01, 12968.7, 121546.0]}, {\"line\": {\"color\": \"hsv(120,100,100)\", \"dash\": \"dash\", \"width\": 2}, \"mode\": \"lines+markers\", \"name\": \"SSM\", \"textfont\": {\"color\": \"LightSeaGreen\", \"family\": \"sans serif\", \"size\": 18}, \"type\": \"scatter\", \"x\": [0.05, 0.1, 0.2, 0.3, 0.4, 0.5, 0.6, 0.7, 0.75], \"y\": [10.4695, 17.1356, 34.0835, 62.0465, 113.941, 217.68, 447.33099999999996, 977.836, 1436.53]}, {\"line\": {\"color\": \"black\", \"dash\": \"longdash\", \"width\": 2}, \"mode\": \"lines+markers\", \"name\": \"Theory\", \"textfont\": {\"color\": \"LightSeaGreen\", \"family\": \"Times New Roman\", \"size\": 18}, \"type\": \"scatter\", \"x\": [0.05, 0.1, 0.2, 0.3, 0.4, 0.5, 0.6, 0.7, 0.75], \"y\": [15.56, 24.83, 51.53, 102.9, 217.89, 532.55, 1763.0, 13520.0, 126300.0]}],                        {\"height\": 800, \"legend\": {\"bordercolor\": \"Black\", \"borderwidth\": 2, \"font\": {\"color\": \"black\", \"family\": \"Times New Roman\", \"size\": 20}, \"title\": {\"font\": {\"color\": \"blue\", \"family\": \"Times New Roman\", \"size\": 20}}, \"x\": 0.01, \"xanchor\": \"left\", \"y\": 0.99, \"yanchor\": \"top\"}, \"margin\": {\"b\": 0.0, \"l\": 0, \"pad\": 0, \"r\": 0, \"t\": 0}, \"paper_bgcolor\": \"rgba(255, 255, 255, 1)\", \"plot_bgcolor\": \"rgba(255, 255, 255, 1)\", \"showlegend\": true, \"template\": {\"data\": {\"bar\": [{\"error_x\": {\"color\": \"#2a3f5f\"}, \"error_y\": {\"color\": \"#2a3f5f\"}, \"marker\": {\"line\": {\"color\": \"#E5ECF6\", \"width\": 0.5}}, \"type\": \"bar\"}], \"barpolar\": [{\"marker\": {\"line\": {\"color\": \"#E5ECF6\", \"width\": 0.5}}, \"type\": \"barpolar\"}], \"carpet\": [{\"aaxis\": {\"endlinecolor\": \"#2a3f5f\", \"gridcolor\": \"white\", \"linecolor\": \"white\", \"minorgridcolor\": \"white\", \"startlinecolor\": \"#2a3f5f\"}, \"baxis\": {\"endlinecolor\": \"#2a3f5f\", \"gridcolor\": \"white\", \"linecolor\": \"white\", \"minorgridcolor\": \"white\", \"startlinecolor\": \"#2a3f5f\"}, \"type\": \"carpet\"}], \"choropleth\": [{\"colorbar\": {\"outlinewidth\": 0, \"ticks\": \"\"}, \"type\": \"choropleth\"}], \"contour\": [{\"colorbar\": {\"outlinewidth\": 0, \"ticks\": \"\"}, \"colorscale\": [[0.0, \"#0d0887\"], [0.1111111111111111, \"#46039f\"], [0.2222222222222222, \"#7201a8\"], [0.3333333333333333, \"#9c179e\"], [0.4444444444444444, \"#bd3786\"], [0.5555555555555556, \"#d8576b\"], [0.6666666666666666, \"#ed7953\"], [0.7777777777777778, \"#fb9f3a\"], [0.8888888888888888, \"#fdca26\"], [1.0, \"#f0f921\"]], \"type\": \"contour\"}], \"contourcarpet\": [{\"colorbar\": {\"outlinewidth\": 0, \"ticks\": \"\"}, \"type\": \"contourcarpet\"}], \"heatmap\": [{\"colorbar\": {\"outlinewidth\": 0, \"ticks\": \"\"}, \"colorscale\": [[0.0, \"#0d0887\"], [0.1111111111111111, \"#46039f\"], [0.2222222222222222, \"#7201a8\"], [0.3333333333333333, \"#9c179e\"], [0.4444444444444444, \"#bd3786\"], [0.5555555555555556, \"#d8576b\"], [0.6666666666666666, \"#ed7953\"], [0.7777777777777778, \"#fb9f3a\"], [0.8888888888888888, \"#fdca26\"], [1.0, \"#f0f921\"]], \"type\": \"heatmap\"}], \"heatmapgl\": [{\"colorbar\": {\"outlinewidth\": 0, \"ticks\": \"\"}, \"colorscale\": [[0.0, \"#0d0887\"], [0.1111111111111111, \"#46039f\"], [0.2222222222222222, \"#7201a8\"], [0.3333333333333333, \"#9c179e\"], [0.4444444444444444, \"#bd3786\"], [0.5555555555555556, \"#d8576b\"], [0.6666666666666666, \"#ed7953\"], [0.7777777777777778, \"#fb9f3a\"], [0.8888888888888888, \"#fdca26\"], [1.0, \"#f0f921\"]], \"type\": \"heatmapgl\"}], \"histogram\": [{\"marker\": {\"colorbar\": {\"outlinewidth\": 0, \"ticks\": \"\"}}, \"type\": \"histogram\"}], \"histogram2d\": [{\"colorbar\": {\"outlinewidth\": 0, \"ticks\": \"\"}, \"colorscale\": [[0.0, \"#0d0887\"], [0.1111111111111111, \"#46039f\"], [0.2222222222222222, \"#7201a8\"], [0.3333333333333333, \"#9c179e\"], [0.4444444444444444, \"#bd3786\"], [0.5555555555555556, \"#d8576b\"], [0.6666666666666666, \"#ed7953\"], [0.7777777777777778, \"#fb9f3a\"], [0.8888888888888888, \"#fdca26\"], [1.0, \"#f0f921\"]], \"type\": \"histogram2d\"}], \"histogram2dcontour\": [{\"colorbar\": {\"outlinewidth\": 0, \"ticks\": \"\"}, \"colorscale\": [[0.0, \"#0d0887\"], [0.1111111111111111, \"#46039f\"], [0.2222222222222222, \"#7201a8\"], [0.3333333333333333, \"#9c179e\"], [0.4444444444444444, \"#bd3786\"], [0.5555555555555556, \"#d8576b\"], [0.6666666666666666, \"#ed7953\"], [0.7777777777777778, \"#fb9f3a\"], [0.8888888888888888, \"#fdca26\"], [1.0, \"#f0f921\"]], \"type\": \"histogram2dcontour\"}], \"mesh3d\": [{\"colorbar\": {\"outlinewidth\": 0, \"ticks\": \"\"}, \"type\": \"mesh3d\"}], \"parcoords\": [{\"line\": {\"colorbar\": {\"outlinewidth\": 0, \"ticks\": \"\"}}, \"type\": \"parcoords\"}], \"pie\": [{\"automargin\": true, \"type\": \"pie\"}], \"scatter\": [{\"marker\": {\"colorbar\": {\"outlinewidth\": 0, \"ticks\": \"\"}}, \"type\": \"scatter\"}], \"scatter3d\": [{\"line\": {\"colorbar\": {\"outlinewidth\": 0, \"ticks\": \"\"}}, \"marker\": {\"colorbar\": {\"outlinewidth\": 0, \"ticks\": \"\"}}, \"type\": \"scatter3d\"}], \"scattercarpet\": [{\"marker\": {\"colorbar\": {\"outlinewidth\": 0, \"ticks\": \"\"}}, \"type\": \"scattercarpet\"}], \"scattergeo\": [{\"marker\": {\"colorbar\": {\"outlinewidth\": 0, \"ticks\": \"\"}}, \"type\": \"scattergeo\"}], \"scattergl\": [{\"marker\": {\"colorbar\": {\"outlinewidth\": 0, \"ticks\": \"\"}}, \"type\": \"scattergl\"}], \"scattermapbox\": [{\"marker\": {\"colorbar\": {\"outlinewidth\": 0, \"ticks\": \"\"}}, \"type\": \"scattermapbox\"}], \"scatterpolar\": [{\"marker\": {\"colorbar\": {\"outlinewidth\": 0, \"ticks\": \"\"}}, \"type\": \"scatterpolar\"}], \"scatterpolargl\": [{\"marker\": {\"colorbar\": {\"outlinewidth\": 0, \"ticks\": \"\"}}, \"type\": \"scatterpolargl\"}], \"scatterternary\": [{\"marker\": {\"colorbar\": {\"outlinewidth\": 0, \"ticks\": \"\"}}, \"type\": \"scatterternary\"}], \"surface\": [{\"colorbar\": {\"outlinewidth\": 0, \"ticks\": \"\"}, \"colorscale\": [[0.0, \"#0d0887\"], [0.1111111111111111, \"#46039f\"], [0.2222222222222222, \"#7201a8\"], [0.3333333333333333, \"#9c179e\"], [0.4444444444444444, \"#bd3786\"], [0.5555555555555556, \"#d8576b\"], [0.6666666666666666, \"#ed7953\"], [0.7777777777777778, \"#fb9f3a\"], [0.8888888888888888, \"#fdca26\"], [1.0, \"#f0f921\"]], \"type\": \"surface\"}], \"table\": [{\"cells\": {\"fill\": {\"color\": \"#EBF0F8\"}, \"line\": {\"color\": \"white\"}}, \"header\": {\"fill\": {\"color\": \"#C8D4E3\"}, \"line\": {\"color\": \"white\"}}, \"type\": \"table\"}]}, \"layout\": {\"annotationdefaults\": {\"arrowcolor\": \"#2a3f5f\", \"arrowhead\": 0, \"arrowwidth\": 1}, \"autotypenumbers\": \"strict\", \"coloraxis\": {\"colorbar\": {\"outlinewidth\": 0, \"ticks\": \"\"}}, \"colorscale\": {\"diverging\": [[0, \"#8e0152\"], [0.1, \"#c51b7d\"], [0.2, \"#de77ae\"], [0.3, \"#f1b6da\"], [0.4, \"#fde0ef\"], [0.5, \"#f7f7f7\"], [0.6, \"#e6f5d0\"], [0.7, \"#b8e186\"], [0.8, \"#7fbc41\"], [0.9, \"#4d9221\"], [1, \"#276419\"]], \"sequential\": [[0.0, \"#0d0887\"], [0.1111111111111111, \"#46039f\"], [0.2222222222222222, \"#7201a8\"], [0.3333333333333333, \"#9c179e\"], [0.4444444444444444, \"#bd3786\"], [0.5555555555555556, \"#d8576b\"], [0.6666666666666666, \"#ed7953\"], [0.7777777777777778, \"#fb9f3a\"], [0.8888888888888888, \"#fdca26\"], [1.0, \"#f0f921\"]], \"sequentialminus\": [[0.0, \"#0d0887\"], [0.1111111111111111, \"#46039f\"], [0.2222222222222222, \"#7201a8\"], [0.3333333333333333, \"#9c179e\"], [0.4444444444444444, \"#bd3786\"], [0.5555555555555556, \"#d8576b\"], [0.6666666666666666, \"#ed7953\"], [0.7777777777777778, \"#fb9f3a\"], [0.8888888888888888, \"#fdca26\"], [1.0, \"#f0f921\"]]}, \"colorway\": [\"#636efa\", \"#EF553B\", \"#00cc96\", \"#ab63fa\", \"#FFA15A\", \"#19d3f3\", \"#FF6692\", \"#B6E880\", \"#FF97FF\", \"#FECB52\"], \"font\": {\"color\": \"#2a3f5f\"}, \"geo\": {\"bgcolor\": \"white\", \"lakecolor\": \"white\", \"landcolor\": \"#E5ECF6\", \"showlakes\": true, \"showland\": true, \"subunitcolor\": \"white\"}, \"hoverlabel\": {\"align\": \"left\"}, \"hovermode\": \"closest\", \"mapbox\": {\"style\": \"light\"}, \"paper_bgcolor\": \"white\", \"plot_bgcolor\": \"#E5ECF6\", \"polar\": {\"angularaxis\": {\"gridcolor\": \"white\", \"linecolor\": \"white\", \"ticks\": \"\"}, \"bgcolor\": \"#E5ECF6\", \"radialaxis\": {\"gridcolor\": \"white\", \"linecolor\": \"white\", \"ticks\": \"\"}}, \"scene\": {\"xaxis\": {\"backgroundcolor\": \"#E5ECF6\", \"gridcolor\": \"white\", \"gridwidth\": 2, \"linecolor\": \"white\", \"showbackground\": true, \"ticks\": \"\", \"zerolinecolor\": \"white\"}, \"yaxis\": {\"backgroundcolor\": \"#E5ECF6\", \"gridcolor\": \"white\", \"gridwidth\": 2, \"linecolor\": \"white\", \"showbackground\": true, \"ticks\": \"\", \"zerolinecolor\": \"white\"}, \"zaxis\": {\"backgroundcolor\": \"#E5ECF6\", \"gridcolor\": \"white\", \"gridwidth\": 2, \"linecolor\": \"white\", \"showbackground\": true, \"ticks\": \"\", \"zerolinecolor\": \"white\"}}, \"shapedefaults\": {\"line\": {\"color\": \"#2a3f5f\"}}, \"ternary\": {\"aaxis\": {\"gridcolor\": \"white\", \"linecolor\": \"white\", \"ticks\": \"\"}, \"baxis\": {\"gridcolor\": \"white\", \"linecolor\": \"white\", \"ticks\": \"\"}, \"bgcolor\": \"#E5ECF6\", \"caxis\": {\"gridcolor\": \"white\", \"linecolor\": \"white\", \"ticks\": \"\"}}, \"title\": {\"x\": 0.05}, \"xaxis\": {\"automargin\": true, \"gridcolor\": \"white\", \"linecolor\": \"white\", \"ticks\": \"\", \"title\": {\"standoff\": 15}, \"zerolinecolor\": \"white\", \"zerolinewidth\": 2}, \"yaxis\": {\"automargin\": true, \"gridcolor\": \"white\", \"linecolor\": \"white\", \"ticks\": \"\", \"title\": {\"standoff\": 15}, \"zerolinecolor\": \"white\", \"zerolinewidth\": 2}}}, \"width\": 800, \"xaxis\": {\"gridcolor\": \"lightgrey\", \"gridwidth\": 1, \"linecolor\": \"black\", \"linewidth\": 2, \"mirror\": true, \"showline\": true, \"tickfont\": {\"color\": \"black\", \"family\": \"Times New Roman\", \"size\": 20}, \"ticks\": \"outside\", \"title\": {\"font\": {\"color\": \"black\", \"family\": \"Times New Roman\", \"size\": 25}, \"text\": \"\\u03c6<sub>s</sub>\"}}, \"yaxis\": {\"gridcolor\": \"lightgrey\", \"gridwidth\": 1, \"linecolor\": \"black\", \"linewidth\": 2, \"mirror\": true, \"showline\": true, \"tickfont\": {\"color\": \"black\", \"family\": \"Times New Roman\", \"size\": 20}, \"ticks\": \"outside\", \"title\": {\"font\": {\"color\": \"black\", \"family\": \"Times New Roman\", \"size\": 25}, \"text\": \"f\"}, \"type\": \"log\"}},                        {\"responsive\": true}                    ).then(function(){\n",
       "                            \n",
       "var gd = document.getElementById('a1ac6ca9-477e-456c-9e77-35a02d275fca');\n",
       "var x = new MutationObserver(function (mutations, observer) {{\n",
       "        var display = window.getComputedStyle(gd).display;\n",
       "        if (!display || display === 'none') {{\n",
       "            console.log([gd, 'removed!']);\n",
       "            Plotly.purge(gd);\n",
       "            observer.disconnect();\n",
       "        }}\n",
       "}});\n",
       "\n",
       "// Listen for the removal of the full notebook cells\n",
       "var notebookContainer = gd.closest('#notebook-container');\n",
       "if (notebookContainer) {{\n",
       "    x.observe(notebookContainer, {childList: true});\n",
       "}}\n",
       "\n",
       "// Listen for the clearing of the current output cell\n",
       "var outputEl = gd.closest('.output');\n",
       "if (outputEl) {{\n",
       "    x.observe(outputEl, {childList: true});\n",
       "}}\n",
       "\n",
       "                        })                };                });            </script>        </div>"
      ]
     },
     "metadata": {},
     "output_type": "display_data"
    },
    {
     "name": "stdout",
     "output_type": "stream",
     "text": [
      "Successfully generated: /Users/weugene//Dropbox/Aslan-Evgenii/media/pictures/Sangani/comparison10.pdf\n"
     ]
    }
   ],
   "source": [
    "import pandas as pd\n",
    "import numpy as np\n",
    "import plotly.graph_objects as go\n",
    "import plotly.express as px\n",
    "from plotly.offline import iplot, init_notebook_mode\n",
    "import plotly.io as pio\n",
    "import glob, os, sys\n",
    "import logging\n",
    "from sys import argv\n",
    "import re\n",
    "import csv\n",
    "from scipy.signal import find_peaks\n",
    "from pathlib import Path\n",
    "# pio.orca.config.executable = str(Path('C:/Users/Weugene/AppData/Local/Programs/orca/orca.exe'))\n",
    "np.set_printoptions(threshold=sys.maxsize)\n",
    "import scipy.spatial.distance as ds\n",
    "\n",
    "files_csv = ['log_1e-15',  'log_EB10',  'log_Pt10']\n",
    "names = ['BPM', 'EBM', 'SSM', 'Theory' ]\n",
    "lines = ['solid', 'dot', 'dash', 'longdash']\n",
    "print (\"path:\", rpath)\n",
    "\n",
    "#WINDOWS 10\n",
    "path_ex = rpath\n",
    "#MAC OS\n",
    "# path_ex = '/Users/weugene/basilisk/work/tube/'\n",
    "for i,f in enumerate(files_csv):\n",
    "    files_csv[i] = rpath + files_csv[i]\n",
    "### STYLE\n",
    "yaxis = dict(\n",
    "              tickfont = dict(\n",
    "              family = 'Times New Roman',\n",
    "              size = 20,\n",
    "              color = 'black'\n",
    "              ),\n",
    "              titlefont = dict(\n",
    "                  family = 'Times New Roman',\n",
    "                  size = 25,\n",
    "                  color = 'black'\n",
    "              ),\n",
    "          )\n",
    "xaxis = dict(\n",
    "              tickfont = dict(\n",
    "                  family = 'Times New Roman',\n",
    "                  size = 20,\n",
    "                  color = 'black'\n",
    "              ),\n",
    "              titlefont = dict(\n",
    "                  family = 'Times New Roman',\n",
    "                  size = 25,\n",
    "                  color = 'black'\n",
    "              )\n",
    "          )\n",
    "axis_style = dict(showline=True, gridwidth=1, gridcolor='lightgrey', linewidth=2, linecolor='black', mirror=True, ticks='outside',\n",
    "                 tickfont = dict(family = 'Times New Roman', size = 18, color = 'black'))\n",
    "bg_style = {'plot_bgcolor': 'rgba(255, 255, 255, 1)', 'paper_bgcolor': 'rgba(255, 255, 255, 1)',}\n",
    "col =   ['blue',           'red',        'hsv(120,100,100)',       'black' ]\n",
    "\n",
    "No_margin_scheme = dict(\n",
    "#     autosize=False,\n",
    "    width=800,\n",
    "    height=800,\n",
    "    margin=dict(\n",
    "        l=0,\n",
    "        r=0,\n",
    "        b=0.,\n",
    "        t=0,\n",
    "        pad=0\n",
    "    )\n",
    "#     paper_bgcolor=\"LightSteelBlue\",\n",
    ")\n",
    "### END of STYLE\n",
    "\n",
    "\n",
    "\n",
    "\n",
    "headers1=['level', 'phi', 'f', 'fth','df_by_f0','i', 'iter_fp', 'Phi_Phia', 'F', 'dt', 't', 'U', 'Uw', 'Ua' ] \n",
    "headers2=['level', 'phi', 'f', 'fth','df_by_f0','i', 'Phi_Phia', 'F', 'dt', 't', 'U', 'Uw', 'Ua' ]\n",
    "df_exp = []\n",
    "fig = go.Figure()\n",
    "for i, file in enumerate(files_csv):\n",
    "    print('FILE name: ',file)\n",
    "    df_exp.append(pd.read_csv(Path(file), header=None, sep=' '))\n",
    "    if i!=1:\n",
    "        df_exp[i].columns = headers1\n",
    "    else:\n",
    "        df_exp[i].columns = headers2\n",
    "    display(df_exp[i].head(11))\n",
    "    \n",
    "    fig.add_trace(go.Scatter(x=df_exp[i]['phi'], y=df_exp[i]['f'], name=names[i],\n",
    "                         mode='lines+markers',\n",
    "                         line=dict(color=col[i], width=2, dash = lines[i]),\n",
    "                         textfont=dict(\n",
    "                            family=\"sans serif\",\n",
    "                            size=18,\n",
    "                            color=\"LightSeaGreen\")\n",
    "                         ))\n",
    "# Theory    \n",
    "fig.add_trace(go.Scatter(x=df_exp[0]['phi'], y=df_exp[0]['fth'], name=names[3],\n",
    "                         mode='lines+markers',\n",
    "                         line=dict(color=col[3], width=2, dash = lines[3]),\n",
    "                         textfont=dict(\n",
    "                            family=\"Times New Roman\",\n",
    "                            size=18,\n",
    "                            color=\"LightSeaGreen\")\n",
    "                         ))\n",
    "\n",
    "\n",
    "fig.update_layout(bg_style)\n",
    "fig.update_xaxes(axis_style)\n",
    "fig.update_yaxes(axis_style)\n",
    "fig.update_layout( yaxis_type = \"log\" )\n",
    "# fig.update_layout( xaxis_type = \"log\" )\n",
    "#     fig.update_yaxes(range=[0,0.5])\n",
    "# fig.update_xaxes(range=[0,0.8])\n",
    "fig.update_layout(showlegend=True)\n",
    "fig.update_layout(legend = dict(font = dict(family = \"Times New Roman\", size = 20, color = \"black\")),\n",
    "                  legend_title = dict(font = dict(family = \"Times New Roman\", size = 20, color = \"blue\")))\n",
    "\n",
    "fig.update_layout(legend=dict(\n",
    "    yanchor=\"top\",\n",
    "    y=0.99,\n",
    "    xanchor=\"left\",\n",
    "    x=0.01,\n",
    "    bordercolor=\"Black\",\n",
    "    borderwidth=2\n",
    "))\n",
    "fig.update_layout(No_margin_scheme)\n",
    "fig.update_layout(\n",
    "#     width = 800,\n",
    "#     height = 800,\n",
    "    xaxis_title='\\u03C6<sub>s</sub>',\n",
    "    yaxis_title='f',\n",
    "    yaxis = yaxis,\n",
    "    xaxis = xaxis\n",
    ")\n",
    "\n",
    "if True:\n",
    "    fn = MYPATH + prefix + 'comparison10.pdf'\n",
    "    iplot(fig)\n",
    "    pio.write_image(fig, str(Path(fn)))\n",
    "    print(\"Successfully generated:\", fn)\n"
   ]
  },
  {
   "cell_type": "code",
   "execution_count": 18,
   "metadata": {},
   "outputs": [
    {
     "name": "stdout",
     "output_type": "stream",
     "text": [
      "FILE name:  /Users/weugene//basilisk/work/cylinders_penalization/comparison_BP_Pt_EB/res10/log_1e-15\n",
      "x= [0.05 0.1  0.2  0.3  0.4  0.5  0.6  0.7  0.75]\n",
      "y= [0.00230077 0.00258961 0.00294003 0.0034208  0.00431869 0.00503427\n",
      " 0.00629609 0.00463757 0.14487728]\n",
      "FILE name:  /Users/weugene//basilisk/work/cylinders_penalization/comparison_BP_Pt_EB/res10/log_EB10\n",
      "x= [0.05 0.1  0.2  0.3  0.4  0.5  0.6  0.7  0.75]\n",
      "y= [0.04188303 0.02336689 0.00112944 0.01346939 0.02159805 0.02086189\n",
      " 0.0595519  0.04077663 0.03764054]\n",
      "FILE name:  /Users/weugene//basilisk/work/cylinders_penalization/comparison_BP_Pt_EB/res10/log_Pt10\n",
      "x= [0.05 0.1  0.2  0.3  0.4  0.5  0.6  0.7  0.75]\n",
      "y= [0.32715296 0.30988321 0.33856977 0.39702138 0.477071   0.59124965\n",
      " 0.74626716 0.92767485 0.98862605]\n"
     ]
    },
    {
     "data": {
      "application/vnd.plotly.v1+json": {
       "config": {
        "linkText": "Export to plot.ly",
        "plotlyServerURL": "https://plot.ly",
        "showLink": false
       },
       "data": [
        {
         "line": {
          "color": "blue",
          "dash": "solid",
          "width": 4
         },
         "marker": {
          "size": 10
         },
         "mode": "lines+markers",
         "name": "BPM",
         "textfont": {
          "color": "LightSeaGreen",
          "family": "Times New Romanf",
          "size": 18
         },
         "type": "scatter",
         "x": [
          0.05,
          0.1,
          0.2,
          0.3,
          0.4,
          0.5,
          0.6,
          0.7,
          0.75
         ],
         "y": [
          0.0023007712082262245,
          0.0025896093435361623,
          0.002940034931108066,
          0.0034207968901846827,
          0.0043186929184450985,
          0.005034269082715314,
          0.006296086216676069,
          0.004637573964497095,
          0.14487727632620745
         ]
        },
        {
         "line": {
          "color": "red",
          "dash": "dot",
          "width": 4
         },
         "marker": {
          "size": 10
         },
         "mode": "lines+markers",
         "name": "EBM",
         "textfont": {
          "color": "LightSeaGreen",
          "family": "Times New Romanf",
          "size": 18
         },
         "type": "scatter",
         "x": [
          0.05,
          0.1,
          0.2,
          0.3,
          0.4,
          0.5,
          0.6,
          0.7,
          0.75
         ],
         "y": [
          0.04188303341902313,
          0.02336689488521955,
          0.0011294391616533935,
          0.013469387755102136,
          0.021598054063977055,
          0.020861890902262512,
          0.0595519001701645,
          0.04077662721893486,
          0.03764053840063341
         ]
        },
        {
         "line": {
          "color": "hsv(120,100,100)",
          "dash": "dash",
          "width": 4
         },
         "marker": {
          "size": 10
         },
         "mode": "lines+markers",
         "name": "SSM",
         "textfont": {
          "color": "LightSeaGreen",
          "family": "Times New Romanf",
          "size": 18
         },
         "type": "scatter",
         "x": [
          0.05,
          0.1,
          0.2,
          0.3,
          0.4,
          0.5,
          0.6,
          0.7,
          0.75
         ],
         "y": [
          0.3271529562982005,
          0.3098832057994361,
          0.33856976518532894,
          0.3970213799805637,
          0.47707099912800033,
          0.591249647920383,
          0.746267158252978,
          0.927674852071006,
          0.9886260490894695
         ]
        }
       ],
       "layout": {
        "height": 800,
        "legend": {
         "bordercolor": "Black",
         "borderwidth": 2,
         "font": {
          "color": "black",
          "family": "Times New Roman",
          "size": 30
         },
         "title": {
          "font": {
           "color": "blue",
           "family": "Times New Roman",
           "size": 30
          }
         },
         "x": 0.99,
         "xanchor": "right",
         "y": 0.01,
         "yanchor": "bottom"
        },
        "margin": {
         "b": 0,
         "l": 0,
         "pad": 0,
         "r": 0,
         "t": 0
        },
        "paper_bgcolor": "rgba(255, 255, 255, 1)",
        "plot_bgcolor": "rgba(255, 255, 255, 1)",
        "showlegend": true,
        "template": {
         "data": {
          "bar": [
           {
            "error_x": {
             "color": "#2a3f5f"
            },
            "error_y": {
             "color": "#2a3f5f"
            },
            "marker": {
             "line": {
              "color": "#E5ECF6",
              "width": 0.5
             }
            },
            "type": "bar"
           }
          ],
          "barpolar": [
           {
            "marker": {
             "line": {
              "color": "#E5ECF6",
              "width": 0.5
             }
            },
            "type": "barpolar"
           }
          ],
          "carpet": [
           {
            "aaxis": {
             "endlinecolor": "#2a3f5f",
             "gridcolor": "white",
             "linecolor": "white",
             "minorgridcolor": "white",
             "startlinecolor": "#2a3f5f"
            },
            "baxis": {
             "endlinecolor": "#2a3f5f",
             "gridcolor": "white",
             "linecolor": "white",
             "minorgridcolor": "white",
             "startlinecolor": "#2a3f5f"
            },
            "type": "carpet"
           }
          ],
          "choropleth": [
           {
            "colorbar": {
             "outlinewidth": 0,
             "ticks": ""
            },
            "type": "choropleth"
           }
          ],
          "contour": [
           {
            "colorbar": {
             "outlinewidth": 0,
             "ticks": ""
            },
            "colorscale": [
             [
              0,
              "#0d0887"
             ],
             [
              0.1111111111111111,
              "#46039f"
             ],
             [
              0.2222222222222222,
              "#7201a8"
             ],
             [
              0.3333333333333333,
              "#9c179e"
             ],
             [
              0.4444444444444444,
              "#bd3786"
             ],
             [
              0.5555555555555556,
              "#d8576b"
             ],
             [
              0.6666666666666666,
              "#ed7953"
             ],
             [
              0.7777777777777778,
              "#fb9f3a"
             ],
             [
              0.8888888888888888,
              "#fdca26"
             ],
             [
              1,
              "#f0f921"
             ]
            ],
            "type": "contour"
           }
          ],
          "contourcarpet": [
           {
            "colorbar": {
             "outlinewidth": 0,
             "ticks": ""
            },
            "type": "contourcarpet"
           }
          ],
          "heatmap": [
           {
            "colorbar": {
             "outlinewidth": 0,
             "ticks": ""
            },
            "colorscale": [
             [
              0,
              "#0d0887"
             ],
             [
              0.1111111111111111,
              "#46039f"
             ],
             [
              0.2222222222222222,
              "#7201a8"
             ],
             [
              0.3333333333333333,
              "#9c179e"
             ],
             [
              0.4444444444444444,
              "#bd3786"
             ],
             [
              0.5555555555555556,
              "#d8576b"
             ],
             [
              0.6666666666666666,
              "#ed7953"
             ],
             [
              0.7777777777777778,
              "#fb9f3a"
             ],
             [
              0.8888888888888888,
              "#fdca26"
             ],
             [
              1,
              "#f0f921"
             ]
            ],
            "type": "heatmap"
           }
          ],
          "heatmapgl": [
           {
            "colorbar": {
             "outlinewidth": 0,
             "ticks": ""
            },
            "colorscale": [
             [
              0,
              "#0d0887"
             ],
             [
              0.1111111111111111,
              "#46039f"
             ],
             [
              0.2222222222222222,
              "#7201a8"
             ],
             [
              0.3333333333333333,
              "#9c179e"
             ],
             [
              0.4444444444444444,
              "#bd3786"
             ],
             [
              0.5555555555555556,
              "#d8576b"
             ],
             [
              0.6666666666666666,
              "#ed7953"
             ],
             [
              0.7777777777777778,
              "#fb9f3a"
             ],
             [
              0.8888888888888888,
              "#fdca26"
             ],
             [
              1,
              "#f0f921"
             ]
            ],
            "type": "heatmapgl"
           }
          ],
          "histogram": [
           {
            "marker": {
             "colorbar": {
              "outlinewidth": 0,
              "ticks": ""
             }
            },
            "type": "histogram"
           }
          ],
          "histogram2d": [
           {
            "colorbar": {
             "outlinewidth": 0,
             "ticks": ""
            },
            "colorscale": [
             [
              0,
              "#0d0887"
             ],
             [
              0.1111111111111111,
              "#46039f"
             ],
             [
              0.2222222222222222,
              "#7201a8"
             ],
             [
              0.3333333333333333,
              "#9c179e"
             ],
             [
              0.4444444444444444,
              "#bd3786"
             ],
             [
              0.5555555555555556,
              "#d8576b"
             ],
             [
              0.6666666666666666,
              "#ed7953"
             ],
             [
              0.7777777777777778,
              "#fb9f3a"
             ],
             [
              0.8888888888888888,
              "#fdca26"
             ],
             [
              1,
              "#f0f921"
             ]
            ],
            "type": "histogram2d"
           }
          ],
          "histogram2dcontour": [
           {
            "colorbar": {
             "outlinewidth": 0,
             "ticks": ""
            },
            "colorscale": [
             [
              0,
              "#0d0887"
             ],
             [
              0.1111111111111111,
              "#46039f"
             ],
             [
              0.2222222222222222,
              "#7201a8"
             ],
             [
              0.3333333333333333,
              "#9c179e"
             ],
             [
              0.4444444444444444,
              "#bd3786"
             ],
             [
              0.5555555555555556,
              "#d8576b"
             ],
             [
              0.6666666666666666,
              "#ed7953"
             ],
             [
              0.7777777777777778,
              "#fb9f3a"
             ],
             [
              0.8888888888888888,
              "#fdca26"
             ],
             [
              1,
              "#f0f921"
             ]
            ],
            "type": "histogram2dcontour"
           }
          ],
          "mesh3d": [
           {
            "colorbar": {
             "outlinewidth": 0,
             "ticks": ""
            },
            "type": "mesh3d"
           }
          ],
          "parcoords": [
           {
            "line": {
             "colorbar": {
              "outlinewidth": 0,
              "ticks": ""
             }
            },
            "type": "parcoords"
           }
          ],
          "pie": [
           {
            "automargin": true,
            "type": "pie"
           }
          ],
          "scatter": [
           {
            "marker": {
             "colorbar": {
              "outlinewidth": 0,
              "ticks": ""
             }
            },
            "type": "scatter"
           }
          ],
          "scatter3d": [
           {
            "line": {
             "colorbar": {
              "outlinewidth": 0,
              "ticks": ""
             }
            },
            "marker": {
             "colorbar": {
              "outlinewidth": 0,
              "ticks": ""
             }
            },
            "type": "scatter3d"
           }
          ],
          "scattercarpet": [
           {
            "marker": {
             "colorbar": {
              "outlinewidth": 0,
              "ticks": ""
             }
            },
            "type": "scattercarpet"
           }
          ],
          "scattergeo": [
           {
            "marker": {
             "colorbar": {
              "outlinewidth": 0,
              "ticks": ""
             }
            },
            "type": "scattergeo"
           }
          ],
          "scattergl": [
           {
            "marker": {
             "colorbar": {
              "outlinewidth": 0,
              "ticks": ""
             }
            },
            "type": "scattergl"
           }
          ],
          "scattermapbox": [
           {
            "marker": {
             "colorbar": {
              "outlinewidth": 0,
              "ticks": ""
             }
            },
            "type": "scattermapbox"
           }
          ],
          "scatterpolar": [
           {
            "marker": {
             "colorbar": {
              "outlinewidth": 0,
              "ticks": ""
             }
            },
            "type": "scatterpolar"
           }
          ],
          "scatterpolargl": [
           {
            "marker": {
             "colorbar": {
              "outlinewidth": 0,
              "ticks": ""
             }
            },
            "type": "scatterpolargl"
           }
          ],
          "scatterternary": [
           {
            "marker": {
             "colorbar": {
              "outlinewidth": 0,
              "ticks": ""
             }
            },
            "type": "scatterternary"
           }
          ],
          "surface": [
           {
            "colorbar": {
             "outlinewidth": 0,
             "ticks": ""
            },
            "colorscale": [
             [
              0,
              "#0d0887"
             ],
             [
              0.1111111111111111,
              "#46039f"
             ],
             [
              0.2222222222222222,
              "#7201a8"
             ],
             [
              0.3333333333333333,
              "#9c179e"
             ],
             [
              0.4444444444444444,
              "#bd3786"
             ],
             [
              0.5555555555555556,
              "#d8576b"
             ],
             [
              0.6666666666666666,
              "#ed7953"
             ],
             [
              0.7777777777777778,
              "#fb9f3a"
             ],
             [
              0.8888888888888888,
              "#fdca26"
             ],
             [
              1,
              "#f0f921"
             ]
            ],
            "type": "surface"
           }
          ],
          "table": [
           {
            "cells": {
             "fill": {
              "color": "#EBF0F8"
             },
             "line": {
              "color": "white"
             }
            },
            "header": {
             "fill": {
              "color": "#C8D4E3"
             },
             "line": {
              "color": "white"
             }
            },
            "type": "table"
           }
          ]
         },
         "layout": {
          "annotationdefaults": {
           "arrowcolor": "#2a3f5f",
           "arrowhead": 0,
           "arrowwidth": 1
          },
          "autotypenumbers": "strict",
          "coloraxis": {
           "colorbar": {
            "outlinewidth": 0,
            "ticks": ""
           }
          },
          "colorscale": {
           "diverging": [
            [
             0,
             "#8e0152"
            ],
            [
             0.1,
             "#c51b7d"
            ],
            [
             0.2,
             "#de77ae"
            ],
            [
             0.3,
             "#f1b6da"
            ],
            [
             0.4,
             "#fde0ef"
            ],
            [
             0.5,
             "#f7f7f7"
            ],
            [
             0.6,
             "#e6f5d0"
            ],
            [
             0.7,
             "#b8e186"
            ],
            [
             0.8,
             "#7fbc41"
            ],
            [
             0.9,
             "#4d9221"
            ],
            [
             1,
             "#276419"
            ]
           ],
           "sequential": [
            [
             0,
             "#0d0887"
            ],
            [
             0.1111111111111111,
             "#46039f"
            ],
            [
             0.2222222222222222,
             "#7201a8"
            ],
            [
             0.3333333333333333,
             "#9c179e"
            ],
            [
             0.4444444444444444,
             "#bd3786"
            ],
            [
             0.5555555555555556,
             "#d8576b"
            ],
            [
             0.6666666666666666,
             "#ed7953"
            ],
            [
             0.7777777777777778,
             "#fb9f3a"
            ],
            [
             0.8888888888888888,
             "#fdca26"
            ],
            [
             1,
             "#f0f921"
            ]
           ],
           "sequentialminus": [
            [
             0,
             "#0d0887"
            ],
            [
             0.1111111111111111,
             "#46039f"
            ],
            [
             0.2222222222222222,
             "#7201a8"
            ],
            [
             0.3333333333333333,
             "#9c179e"
            ],
            [
             0.4444444444444444,
             "#bd3786"
            ],
            [
             0.5555555555555556,
             "#d8576b"
            ],
            [
             0.6666666666666666,
             "#ed7953"
            ],
            [
             0.7777777777777778,
             "#fb9f3a"
            ],
            [
             0.8888888888888888,
             "#fdca26"
            ],
            [
             1,
             "#f0f921"
            ]
           ]
          },
          "colorway": [
           "#636efa",
           "#EF553B",
           "#00cc96",
           "#ab63fa",
           "#FFA15A",
           "#19d3f3",
           "#FF6692",
           "#B6E880",
           "#FF97FF",
           "#FECB52"
          ],
          "font": {
           "color": "#2a3f5f"
          },
          "geo": {
           "bgcolor": "white",
           "lakecolor": "white",
           "landcolor": "#E5ECF6",
           "showlakes": true,
           "showland": true,
           "subunitcolor": "white"
          },
          "hoverlabel": {
           "align": "left"
          },
          "hovermode": "closest",
          "mapbox": {
           "style": "light"
          },
          "paper_bgcolor": "white",
          "plot_bgcolor": "#E5ECF6",
          "polar": {
           "angularaxis": {
            "gridcolor": "white",
            "linecolor": "white",
            "ticks": ""
           },
           "bgcolor": "#E5ECF6",
           "radialaxis": {
            "gridcolor": "white",
            "linecolor": "white",
            "ticks": ""
           }
          },
          "scene": {
           "xaxis": {
            "backgroundcolor": "#E5ECF6",
            "gridcolor": "white",
            "gridwidth": 2,
            "linecolor": "white",
            "showbackground": true,
            "ticks": "",
            "zerolinecolor": "white"
           },
           "yaxis": {
            "backgroundcolor": "#E5ECF6",
            "gridcolor": "white",
            "gridwidth": 2,
            "linecolor": "white",
            "showbackground": true,
            "ticks": "",
            "zerolinecolor": "white"
           },
           "zaxis": {
            "backgroundcolor": "#E5ECF6",
            "gridcolor": "white",
            "gridwidth": 2,
            "linecolor": "white",
            "showbackground": true,
            "ticks": "",
            "zerolinecolor": "white"
           }
          },
          "shapedefaults": {
           "line": {
            "color": "#2a3f5f"
           }
          },
          "ternary": {
           "aaxis": {
            "gridcolor": "white",
            "linecolor": "white",
            "ticks": ""
           },
           "baxis": {
            "gridcolor": "white",
            "linecolor": "white",
            "ticks": ""
           },
           "bgcolor": "#E5ECF6",
           "caxis": {
            "gridcolor": "white",
            "linecolor": "white",
            "ticks": ""
           }
          },
          "title": {
           "x": 0.05
          },
          "xaxis": {
           "automargin": true,
           "gridcolor": "white",
           "linecolor": "white",
           "ticks": "",
           "title": {
            "standoff": 15
           },
           "zerolinecolor": "white",
           "zerolinewidth": 2
          },
          "yaxis": {
           "automargin": true,
           "gridcolor": "white",
           "linecolor": "white",
           "ticks": "",
           "title": {
            "standoff": 15
           },
           "zerolinecolor": "white",
           "zerolinewidth": 2
          }
         }
        },
        "width": 800,
        "xaxis": {
         "gridcolor": "lightgrey",
         "gridwidth": 1,
         "linecolor": "black",
         "linewidth": 2,
         "mirror": true,
         "range": [
          0,
          0.8
         ],
         "showline": true,
         "tickfont": {
          "color": "black",
          "family": "Times New Roman",
          "size": 30
         },
         "ticks": "outside",
         "title": {
          "font": {
           "color": "black",
           "family": "Times New Roman",
           "size": 30
          },
          "text": "φ<sub>s</sub>"
         }
        },
        "yaxis": {
         "gridcolor": "lightgrey",
         "gridwidth": 1,
         "linecolor": "black",
         "linewidth": 2,
         "mirror": true,
         "showline": true,
         "tickfont": {
          "color": "black",
          "family": "Times New Roman",
          "size": 30
         },
         "ticks": "outside",
         "title": {
          "font": {
           "color": "black",
           "family": "Times New Roman",
           "size": 30
          },
          "text": "E"
         },
         "type": "log"
        }
       }
      },
      "text/html": [
       "<div>                            <div id=\"8ef4eebb-f7ec-4bf5-b342-72287641072a\" class=\"plotly-graph-div\" style=\"height:800px; width:800px;\"></div>            <script type=\"text/javascript\">                require([\"plotly\"], function(Plotly) {                    window.PLOTLYENV=window.PLOTLYENV || {};                                    if (document.getElementById(\"8ef4eebb-f7ec-4bf5-b342-72287641072a\")) {                    Plotly.newPlot(                        \"8ef4eebb-f7ec-4bf5-b342-72287641072a\",                        [{\"line\": {\"color\": \"blue\", \"dash\": \"solid\", \"width\": 4}, \"marker\": {\"size\": 10}, \"mode\": \"lines+markers\", \"name\": \"BPM\", \"textfont\": {\"color\": \"LightSeaGreen\", \"family\": \"Times New Romanf\", \"size\": 18}, \"type\": \"scatter\", \"x\": [0.05, 0.1, 0.2, 0.3, 0.4, 0.5, 0.6, 0.7, 0.75], \"y\": [0.0023007712082262245, 0.0025896093435361623, 0.002940034931108066, 0.0034207968901846827, 0.0043186929184450985, 0.005034269082715314, 0.006296086216676069, 0.004637573964497095, 0.14487727632620745]}, {\"line\": {\"color\": \"red\", \"dash\": \"dot\", \"width\": 4}, \"marker\": {\"size\": 10}, \"mode\": \"lines+markers\", \"name\": \"EBM\", \"textfont\": {\"color\": \"LightSeaGreen\", \"family\": \"Times New Romanf\", \"size\": 18}, \"type\": \"scatter\", \"x\": [0.05, 0.1, 0.2, 0.3, 0.4, 0.5, 0.6, 0.7, 0.75], \"y\": [0.04188303341902313, 0.02336689488521955, 0.0011294391616533935, 0.013469387755102136, 0.021598054063977055, 0.020861890902262512, 0.0595519001701645, 0.04077662721893486, 0.03764053840063341]}, {\"line\": {\"color\": \"hsv(120,100,100)\", \"dash\": \"dash\", \"width\": 4}, \"marker\": {\"size\": 10}, \"mode\": \"lines+markers\", \"name\": \"SSM\", \"textfont\": {\"color\": \"LightSeaGreen\", \"family\": \"Times New Romanf\", \"size\": 18}, \"type\": \"scatter\", \"x\": [0.05, 0.1, 0.2, 0.3, 0.4, 0.5, 0.6, 0.7, 0.75], \"y\": [0.3271529562982005, 0.3098832057994361, 0.33856976518532894, 0.3970213799805637, 0.47707099912800033, 0.591249647920383, 0.746267158252978, 0.927674852071006, 0.9886260490894695]}],                        {\"height\": 800, \"legend\": {\"bordercolor\": \"Black\", \"borderwidth\": 2, \"font\": {\"color\": \"black\", \"family\": \"Times New Roman\", \"size\": 30}, \"title\": {\"font\": {\"color\": \"blue\", \"family\": \"Times New Roman\", \"size\": 30}}, \"x\": 0.99, \"xanchor\": \"right\", \"y\": 0.01, \"yanchor\": \"bottom\"}, \"margin\": {\"b\": 0.0, \"l\": 0, \"pad\": 0, \"r\": 0, \"t\": 0}, \"paper_bgcolor\": \"rgba(255, 255, 255, 1)\", \"plot_bgcolor\": \"rgba(255, 255, 255, 1)\", \"showlegend\": true, \"template\": {\"data\": {\"bar\": [{\"error_x\": {\"color\": \"#2a3f5f\"}, \"error_y\": {\"color\": \"#2a3f5f\"}, \"marker\": {\"line\": {\"color\": \"#E5ECF6\", \"width\": 0.5}}, \"type\": \"bar\"}], \"barpolar\": [{\"marker\": {\"line\": {\"color\": \"#E5ECF6\", \"width\": 0.5}}, \"type\": \"barpolar\"}], \"carpet\": [{\"aaxis\": {\"endlinecolor\": \"#2a3f5f\", \"gridcolor\": \"white\", \"linecolor\": \"white\", \"minorgridcolor\": \"white\", \"startlinecolor\": \"#2a3f5f\"}, \"baxis\": {\"endlinecolor\": \"#2a3f5f\", \"gridcolor\": \"white\", \"linecolor\": \"white\", \"minorgridcolor\": \"white\", \"startlinecolor\": \"#2a3f5f\"}, \"type\": \"carpet\"}], \"choropleth\": [{\"colorbar\": {\"outlinewidth\": 0, \"ticks\": \"\"}, \"type\": \"choropleth\"}], \"contour\": [{\"colorbar\": {\"outlinewidth\": 0, \"ticks\": \"\"}, \"colorscale\": [[0.0, \"#0d0887\"], [0.1111111111111111, \"#46039f\"], [0.2222222222222222, \"#7201a8\"], [0.3333333333333333, \"#9c179e\"], [0.4444444444444444, \"#bd3786\"], [0.5555555555555556, \"#d8576b\"], [0.6666666666666666, \"#ed7953\"], [0.7777777777777778, \"#fb9f3a\"], [0.8888888888888888, \"#fdca26\"], [1.0, \"#f0f921\"]], \"type\": \"contour\"}], \"contourcarpet\": [{\"colorbar\": {\"outlinewidth\": 0, \"ticks\": \"\"}, \"type\": \"contourcarpet\"}], \"heatmap\": [{\"colorbar\": {\"outlinewidth\": 0, \"ticks\": \"\"}, \"colorscale\": [[0.0, \"#0d0887\"], [0.1111111111111111, \"#46039f\"], [0.2222222222222222, \"#7201a8\"], [0.3333333333333333, \"#9c179e\"], [0.4444444444444444, \"#bd3786\"], [0.5555555555555556, \"#d8576b\"], [0.6666666666666666, \"#ed7953\"], [0.7777777777777778, \"#fb9f3a\"], [0.8888888888888888, \"#fdca26\"], [1.0, \"#f0f921\"]], \"type\": \"heatmap\"}], \"heatmapgl\": [{\"colorbar\": {\"outlinewidth\": 0, \"ticks\": \"\"}, \"colorscale\": [[0.0, \"#0d0887\"], [0.1111111111111111, \"#46039f\"], [0.2222222222222222, \"#7201a8\"], [0.3333333333333333, \"#9c179e\"], [0.4444444444444444, \"#bd3786\"], [0.5555555555555556, \"#d8576b\"], [0.6666666666666666, \"#ed7953\"], [0.7777777777777778, \"#fb9f3a\"], [0.8888888888888888, \"#fdca26\"], [1.0, \"#f0f921\"]], \"type\": \"heatmapgl\"}], \"histogram\": [{\"marker\": {\"colorbar\": {\"outlinewidth\": 0, \"ticks\": \"\"}}, \"type\": \"histogram\"}], \"histogram2d\": [{\"colorbar\": {\"outlinewidth\": 0, \"ticks\": \"\"}, \"colorscale\": [[0.0, \"#0d0887\"], [0.1111111111111111, \"#46039f\"], [0.2222222222222222, \"#7201a8\"], [0.3333333333333333, \"#9c179e\"], [0.4444444444444444, \"#bd3786\"], [0.5555555555555556, \"#d8576b\"], [0.6666666666666666, \"#ed7953\"], [0.7777777777777778, \"#fb9f3a\"], [0.8888888888888888, \"#fdca26\"], [1.0, \"#f0f921\"]], \"type\": \"histogram2d\"}], \"histogram2dcontour\": [{\"colorbar\": {\"outlinewidth\": 0, \"ticks\": \"\"}, \"colorscale\": [[0.0, \"#0d0887\"], [0.1111111111111111, \"#46039f\"], [0.2222222222222222, \"#7201a8\"], [0.3333333333333333, \"#9c179e\"], [0.4444444444444444, \"#bd3786\"], [0.5555555555555556, \"#d8576b\"], [0.6666666666666666, \"#ed7953\"], [0.7777777777777778, \"#fb9f3a\"], [0.8888888888888888, \"#fdca26\"], [1.0, \"#f0f921\"]], \"type\": \"histogram2dcontour\"}], \"mesh3d\": [{\"colorbar\": {\"outlinewidth\": 0, \"ticks\": \"\"}, \"type\": \"mesh3d\"}], \"parcoords\": [{\"line\": {\"colorbar\": {\"outlinewidth\": 0, \"ticks\": \"\"}}, \"type\": \"parcoords\"}], \"pie\": [{\"automargin\": true, \"type\": \"pie\"}], \"scatter\": [{\"marker\": {\"colorbar\": {\"outlinewidth\": 0, \"ticks\": \"\"}}, \"type\": \"scatter\"}], \"scatter3d\": [{\"line\": {\"colorbar\": {\"outlinewidth\": 0, \"ticks\": \"\"}}, \"marker\": {\"colorbar\": {\"outlinewidth\": 0, \"ticks\": \"\"}}, \"type\": \"scatter3d\"}], \"scattercarpet\": [{\"marker\": {\"colorbar\": {\"outlinewidth\": 0, \"ticks\": \"\"}}, \"type\": \"scattercarpet\"}], \"scattergeo\": [{\"marker\": {\"colorbar\": {\"outlinewidth\": 0, \"ticks\": \"\"}}, \"type\": \"scattergeo\"}], \"scattergl\": [{\"marker\": {\"colorbar\": {\"outlinewidth\": 0, \"ticks\": \"\"}}, \"type\": \"scattergl\"}], \"scattermapbox\": [{\"marker\": {\"colorbar\": {\"outlinewidth\": 0, \"ticks\": \"\"}}, \"type\": \"scattermapbox\"}], \"scatterpolar\": [{\"marker\": {\"colorbar\": {\"outlinewidth\": 0, \"ticks\": \"\"}}, \"type\": \"scatterpolar\"}], \"scatterpolargl\": [{\"marker\": {\"colorbar\": {\"outlinewidth\": 0, \"ticks\": \"\"}}, \"type\": \"scatterpolargl\"}], \"scatterternary\": [{\"marker\": {\"colorbar\": {\"outlinewidth\": 0, \"ticks\": \"\"}}, \"type\": \"scatterternary\"}], \"surface\": [{\"colorbar\": {\"outlinewidth\": 0, \"ticks\": \"\"}, \"colorscale\": [[0.0, \"#0d0887\"], [0.1111111111111111, \"#46039f\"], [0.2222222222222222, \"#7201a8\"], [0.3333333333333333, \"#9c179e\"], [0.4444444444444444, \"#bd3786\"], [0.5555555555555556, \"#d8576b\"], [0.6666666666666666, \"#ed7953\"], [0.7777777777777778, \"#fb9f3a\"], [0.8888888888888888, \"#fdca26\"], [1.0, \"#f0f921\"]], \"type\": \"surface\"}], \"table\": [{\"cells\": {\"fill\": {\"color\": \"#EBF0F8\"}, \"line\": {\"color\": \"white\"}}, \"header\": {\"fill\": {\"color\": \"#C8D4E3\"}, \"line\": {\"color\": \"white\"}}, \"type\": \"table\"}]}, \"layout\": {\"annotationdefaults\": {\"arrowcolor\": \"#2a3f5f\", \"arrowhead\": 0, \"arrowwidth\": 1}, \"autotypenumbers\": \"strict\", \"coloraxis\": {\"colorbar\": {\"outlinewidth\": 0, \"ticks\": \"\"}}, \"colorscale\": {\"diverging\": [[0, \"#8e0152\"], [0.1, \"#c51b7d\"], [0.2, \"#de77ae\"], [0.3, \"#f1b6da\"], [0.4, \"#fde0ef\"], [0.5, \"#f7f7f7\"], [0.6, \"#e6f5d0\"], [0.7, \"#b8e186\"], [0.8, \"#7fbc41\"], [0.9, \"#4d9221\"], [1, \"#276419\"]], \"sequential\": [[0.0, \"#0d0887\"], [0.1111111111111111, \"#46039f\"], [0.2222222222222222, \"#7201a8\"], [0.3333333333333333, \"#9c179e\"], [0.4444444444444444, \"#bd3786\"], [0.5555555555555556, \"#d8576b\"], [0.6666666666666666, \"#ed7953\"], [0.7777777777777778, \"#fb9f3a\"], [0.8888888888888888, \"#fdca26\"], [1.0, \"#f0f921\"]], \"sequentialminus\": [[0.0, \"#0d0887\"], [0.1111111111111111, \"#46039f\"], [0.2222222222222222, \"#7201a8\"], [0.3333333333333333, \"#9c179e\"], [0.4444444444444444, \"#bd3786\"], [0.5555555555555556, \"#d8576b\"], [0.6666666666666666, \"#ed7953\"], [0.7777777777777778, \"#fb9f3a\"], [0.8888888888888888, \"#fdca26\"], [1.0, \"#f0f921\"]]}, \"colorway\": [\"#636efa\", \"#EF553B\", \"#00cc96\", \"#ab63fa\", \"#FFA15A\", \"#19d3f3\", \"#FF6692\", \"#B6E880\", \"#FF97FF\", \"#FECB52\"], \"font\": {\"color\": \"#2a3f5f\"}, \"geo\": {\"bgcolor\": \"white\", \"lakecolor\": \"white\", \"landcolor\": \"#E5ECF6\", \"showlakes\": true, \"showland\": true, \"subunitcolor\": \"white\"}, \"hoverlabel\": {\"align\": \"left\"}, \"hovermode\": \"closest\", \"mapbox\": {\"style\": \"light\"}, \"paper_bgcolor\": \"white\", \"plot_bgcolor\": \"#E5ECF6\", \"polar\": {\"angularaxis\": {\"gridcolor\": \"white\", \"linecolor\": \"white\", \"ticks\": \"\"}, \"bgcolor\": \"#E5ECF6\", \"radialaxis\": {\"gridcolor\": \"white\", \"linecolor\": \"white\", \"ticks\": \"\"}}, \"scene\": {\"xaxis\": {\"backgroundcolor\": \"#E5ECF6\", \"gridcolor\": \"white\", \"gridwidth\": 2, \"linecolor\": \"white\", \"showbackground\": true, \"ticks\": \"\", \"zerolinecolor\": \"white\"}, \"yaxis\": {\"backgroundcolor\": \"#E5ECF6\", \"gridcolor\": \"white\", \"gridwidth\": 2, \"linecolor\": \"white\", \"showbackground\": true, \"ticks\": \"\", \"zerolinecolor\": \"white\"}, \"zaxis\": {\"backgroundcolor\": \"#E5ECF6\", \"gridcolor\": \"white\", \"gridwidth\": 2, \"linecolor\": \"white\", \"showbackground\": true, \"ticks\": \"\", \"zerolinecolor\": \"white\"}}, \"shapedefaults\": {\"line\": {\"color\": \"#2a3f5f\"}}, \"ternary\": {\"aaxis\": {\"gridcolor\": \"white\", \"linecolor\": \"white\", \"ticks\": \"\"}, \"baxis\": {\"gridcolor\": \"white\", \"linecolor\": \"white\", \"ticks\": \"\"}, \"bgcolor\": \"#E5ECF6\", \"caxis\": {\"gridcolor\": \"white\", \"linecolor\": \"white\", \"ticks\": \"\"}}, \"title\": {\"x\": 0.05}, \"xaxis\": {\"automargin\": true, \"gridcolor\": \"white\", \"linecolor\": \"white\", \"ticks\": \"\", \"title\": {\"standoff\": 15}, \"zerolinecolor\": \"white\", \"zerolinewidth\": 2}, \"yaxis\": {\"automargin\": true, \"gridcolor\": \"white\", \"linecolor\": \"white\", \"ticks\": \"\", \"title\": {\"standoff\": 15}, \"zerolinecolor\": \"white\", \"zerolinewidth\": 2}}}, \"width\": 800, \"xaxis\": {\"gridcolor\": \"lightgrey\", \"gridwidth\": 1, \"linecolor\": \"black\", \"linewidth\": 2, \"mirror\": true, \"range\": [0, 0.8], \"showline\": true, \"tickfont\": {\"color\": \"black\", \"family\": \"Times New Roman\", \"size\": 30}, \"ticks\": \"outside\", \"title\": {\"font\": {\"color\": \"black\", \"family\": \"Times New Roman\", \"size\": 30}, \"text\": \"\\u03c6<sub>s</sub>\"}}, \"yaxis\": {\"gridcolor\": \"lightgrey\", \"gridwidth\": 1, \"linecolor\": \"black\", \"linewidth\": 2, \"mirror\": true, \"showline\": true, \"tickfont\": {\"color\": \"black\", \"family\": \"Times New Roman\", \"size\": 30}, \"ticks\": \"outside\", \"title\": {\"font\": {\"color\": \"black\", \"family\": \"Times New Roman\", \"size\": 30}, \"text\": \"E\"}, \"type\": \"log\"}},                        {\"responsive\": true}                    ).then(function(){\n",
       "                            \n",
       "var gd = document.getElementById('8ef4eebb-f7ec-4bf5-b342-72287641072a');\n",
       "var x = new MutationObserver(function (mutations, observer) {{\n",
       "        var display = window.getComputedStyle(gd).display;\n",
       "        if (!display || display === 'none') {{\n",
       "            console.log([gd, 'removed!']);\n",
       "            Plotly.purge(gd);\n",
       "            observer.disconnect();\n",
       "        }}\n",
       "}});\n",
       "\n",
       "// Listen for the removal of the full notebook cells\n",
       "var notebookContainer = gd.closest('#notebook-container');\n",
       "if (notebookContainer) {{\n",
       "    x.observe(notebookContainer, {childList: true});\n",
       "}}\n",
       "\n",
       "// Listen for the clearing of the current output cell\n",
       "var outputEl = gd.closest('.output');\n",
       "if (outputEl) {{\n",
       "    x.observe(outputEl, {childList: true});\n",
       "}}\n",
       "\n",
       "                        })                };                });            </script>        </div>"
      ]
     },
     "metadata": {},
     "output_type": "display_data"
    },
    {
     "name": "stdout",
     "output_type": "stream",
     "text": [
      "Successfully generated: /Users/weugene//Dropbox/Aslan-Evgenii/media/pictures/Sangani/comparison10_rel.eps\n"
     ]
    }
   ],
   "source": [
    "### STYLE\n",
    "yaxis = dict(\n",
    "              tickfont = dict(\n",
    "              family = 'Times New Roman',\n",
    "              size = 30,\n",
    "              color = 'black'\n",
    "              ),\n",
    "              titlefont = dict(\n",
    "                  family = 'Times New Roman',\n",
    "                  size = 30,\n",
    "                  color = 'black'\n",
    "              ),\n",
    "          )\n",
    "xaxis = dict(\n",
    "              tickfont = dict(\n",
    "                  family = 'Times New Roman',\n",
    "                  size = 30,\n",
    "                  color = 'black'\n",
    "              ),\n",
    "              titlefont = dict(\n",
    "                  family = 'Times New Roman',\n",
    "                  size = 30,\n",
    "                  color = 'black'\n",
    "              )\n",
    "          )\n",
    "\n",
    "headers1=['level', 'phi', 'f', 'fth','df_by_f0','i', 'iter_fp', 'Phi_Phia', 'F', 'dt', 't', 'U', 'Uw', 'Ua' ] \n",
    "headers2=['level', 'phi', 'f', 'fth','df_by_f0','i', 'Phi_Phia', 'F', 'dt', 't', 'U', 'Uw', 'Ua' ]\n",
    "df_exp = []\n",
    "fig = go.Figure()\n",
    "for i, file in enumerate(files_csv):\n",
    "    print('FILE name: ',file)\n",
    "    df_exp.append(pd.read_csv(Path(file), header=None, sep=' '))\n",
    "    if i!=1:\n",
    "        df_exp[i].columns = headers1\n",
    "    else:\n",
    "        df_exp[i].columns = headers2\n",
    "#     display(df_exp[i].head(11))\n",
    "    x = df_exp[i]['phi']\n",
    "    y = np.abs(df_exp[i]['f'] - df_exp[0]['fth'])/df_exp[0]['fth']\n",
    "    print('x=', x.values)\n",
    "    print('y=', y.values)\n",
    "#     display(y)\n",
    "    fig.add_trace(go.Scatter(x=x, y=y, name=names[i],\n",
    "                         mode='lines+markers',\n",
    "                         line=dict(color=col[i], width=4, dash = lines[i]),\n",
    "                         textfont=dict(\n",
    "                            family=\"Times New Romanf\",\n",
    "                            size=18,\n",
    "                            color=\"LightSeaGreen\"),\n",
    "                         marker=dict(size=10)\n",
    "                         ))\n",
    "\n",
    "fig.update_layout(bg_style)\n",
    "fig.update_xaxes(axis_style)\n",
    "fig.update_yaxes(axis_style)\n",
    "fig.update_layout( yaxis_type = \"log\" )\n",
    "#     fig.update_yaxes(range=[0,0.5])\n",
    "fig.update_xaxes(range=[0,0.8])\n",
    "fig.update_layout(showlegend=True)\n",
    "fig.update_layout(legend = dict(font = dict(family = \"Times New Roman\", size = 30, color = \"black\")),\n",
    "                  legend_title = dict(font = dict(family = \"Times New Roman\", size = 30, color = \"blue\")))\n",
    "\n",
    "fig.update_layout(legend=dict(\n",
    "    yanchor=\"bottom\",\n",
    "    y=0.01,\n",
    "    xanchor=\"right\",\n",
    "    x=0.99,\n",
    "    bordercolor=\"Black\",\n",
    "    borderwidth=2\n",
    "))\n",
    "fig.update_layout(\n",
    "    width = 1000,\n",
    "    height = 500,\n",
    "    xaxis_title='\\u03C6<sub>s</sub>',\n",
    "    yaxis_title='E',\n",
    "    yaxis = yaxis,\n",
    "    xaxis = xaxis\n",
    ")\n",
    "# fig.update_layout(\n",
    "#     autosize=False,\n",
    "#     width=800,\n",
    "#     height=800,\n",
    "#     margin=dict(\n",
    "#         l=1,\n",
    "#         r=1,\n",
    "#         b=1,\n",
    "#         t=5,\n",
    "#         pad=0\n",
    "#     ),\n",
    "# #     paper_bgcolor=\"LightSteelBlue\",\n",
    "# )\n",
    "fig.update_layout(No_margin_scheme)\n",
    "if True:\n",
    "    fn = MYPATH + prefix + 'comparison10_rel.eps'\n",
    "    iplot(fig)\n",
    "    pio.write_image(fig, str(Path(fn)))\n",
    "    print(\"Successfully generated:\", fn)"
   ]
  },
  {
   "cell_type": "code",
   "execution_count": null,
   "metadata": {},
   "outputs": [],
   "source": []
  },
  {
   "cell_type": "code",
   "execution_count": 19,
   "metadata": {},
   "outputs": [],
   "source": [
    "import numpy as np\n",
    "import pandas as pd\n",
    "from mpl_toolkits.mplot3d import axes3d\n",
    "import plotly.express as px\n",
    "import plotly.graph_objects as go\n",
    "from matplotlib import cm\n",
    "from scipy.interpolate import griddata\n",
    "from matplotlib.ticker import LinearLocator, FormatStrFormatter\n",
    "from scipy import interpolate\n",
    "import matplotlib.ticker as ticker\n",
    "import matplotlib as mpl\n",
    "import matplotlib.pyplot as plt\n",
    "%matplotlib inline\n",
    "\n",
    "#Plot numbers without .0. i.e. 1.000 => just 1\n",
    "class nf(float):\n",
    "    def __repr__(self):\n",
    "        s = f'{self:.1f}'\n",
    "        return f'{self:.0f}' if s[-1] == '0' else s\n",
    "\n",
    "    \n",
    "\n",
    "df_dict = pd.read_excel('https://drive.google.com/u/0/uc?id=1X7McO1BVxzI7ntRDWX3ycpKbFmqVUItg&export=download', header=[0, 1], index_col=0, sheet_name='Sheet2')\n",
    "df=df_dict.rename_axis((None,None), axis=1)\n",
    "df.columns.names = ['level', 'eta']\n",
    "level_l=list(df.columns.get_level_values('level'))\n",
    "eta_l=list(df.columns.get_level_values('eta'))\n",
    "level=list(df.columns.get_level_values('level').unique())\n",
    "eta=list(df.columns.get_level_values('eta').unique())\n",
    "phi = np.array([.05, .1, .2, .3, .4, .5, .6, .7, .75])\n",
    "\n",
    "minErr=df.min().min()\n",
    "maxErr=df.max().max()\n",
    "levels_log = np.logspace(np.log10(minErr), np.log10(maxErr), 11) #Log of Error\n",
    "levels = np.array([-3, -2.6, -2.2, -2, -1.5, -1.2, -1., -0.7, 0]) # log Error \n",
    "Nphi=len(phi)\n",
    "Nlevel=len(level)\n",
    "Neta=len(eta)\n",
    "fi=list(df.index)\n",
    "M = np.array(df).reshape(9, 4, 6) #PHI, LEVEL, ETA\n",
    "minErr=M.min()\n",
    "maxErr=M.max()\n",
    "\n"
   ]
  },
  {
   "cell_type": "code",
   "execution_count": 20,
   "metadata": {},
   "outputs": [
    {
     "name": "stdout",
     "output_type": "stream",
     "text": [
      "5\n",
      "2.56\n",
      "0.81\n",
      "0.26\n",
      "0.0\n",
      "5\n",
      "5\n",
      "1.62\n",
      "0.51\n",
      "0.0\n",
      "5\n",
      "5\n",
      "3.24\n",
      "1.02\n",
      "0.0\n",
      "5\n",
      "5\n",
      "5\n",
      "2.05\n",
      "0.0\n"
     ]
    },
    {
     "data": {
      "application/vnd.plotly.v1+json": {
       "config": {
        "linkText": "Export to plot.ly",
        "plotlyServerURL": "https://plot.ly",
        "showLink": false
       },
       "data": [
        {
         "line": {
          "color": "blue",
          "dash": "solid",
          "width": 2
         },
         "marker": {
          "line": {
           "color": "rgb(0, 0, 250)",
           "width": 1
          },
          "size": 15,
          "symbol": "cross-open"
         },
         "mode": "lines+markers",
         "name": "J<sub>max</sub>=8 η=10<sup>-3</sup>, m≥ 5",
         "textfont": {
          "color": "LightSeaGreen",
          "family": "Times New Roman",
          "size": 18
         },
         "type": "scatter",
         "x": [
          0.05,
          0.1,
          0.2,
          0.3,
          0.4,
          0.5,
          0.6,
          0.7,
          0.75
         ],
         "y": [
          0.1114588688946016,
          0.10648811921063223,
          0.1216941587424802,
          0.15728474246841595,
          0.22154298040295559,
          0.33327011548211427,
          0.5529517867271696,
          0.8714630177514793,
          0.9808992082343627
         ]
        },
        {
         "line": {
          "color": "blue",
          "dash": "dot",
          "width": 2
         },
         "marker": {
          "line": {
           "color": "rgb(0, 0, 250)",
           "width": 1
          },
          "size": 15,
          "symbol": "triangle-down-open"
         },
         "mode": "lines+markers",
         "name": "J<sub>max</sub>=8 η=10<sup>-4</sup>, m= 2.56",
         "textfont": {
          "color": "LightSeaGreen",
          "family": "Times New Roman",
          "size": 18
         },
         "type": "scatter",
         "x": [
          0.05,
          0.1,
          0.2,
          0.3,
          0.4,
          0.5,
          0.6,
          0.7,
          0.75
         ],
         "y": [
          0.03706298200514143,
          0.042823197744663644,
          0.05200077624684651,
          0.06393683187560749,
          0.09226215062646281,
          0.12949018871467466,
          0.24384004537719803,
          0.5908779585798817,
          0.9128543151227236
         ]
        },
        {
         "line": {
          "color": "blue",
          "dash": "dash",
          "width": 2
         },
         "marker": {
          "line": {
           "color": "rgb(0, 0, 250)",
           "width": 1
          },
          "size": 15,
          "symbol": "circle-open"
         },
         "mode": "lines+markers",
         "name": "J<sub>max</sub>=8 η=10<sup>-5</sup>, m= 0.81",
         "textfont": {
          "color": "LightSeaGreen",
          "family": "Times New Roman",
          "size": 18
         },
         "type": "scatter",
         "x": [
          0.05,
          0.1,
          0.2,
          0.3,
          0.4,
          0.5,
          0.6,
          0.7,
          0.75
         ],
         "y": [
          0.012930591259640105,
          0.01848973016512281,
          0.02457209392586838,
          0.029789115646258576,
          0.04340722382853733,
          0.05185428598253677,
          0.10032898468519576,
          0.25108727810650894,
          0.6667110055423595
         ]
        },
        {
         "line": {
          "color": "blue",
          "dash": "longdash",
          "width": 2
         },
         "marker": {
          "line": {
           "color": "rgb(0, 0, 250)",
           "width": 1
          },
          "size": 15,
          "symbol": "circle-open"
         },
         "mode": "lines+markers",
         "name": "J<sub>max</sub>=8 η=10<sup>-6</sup>, m= 0.26",
         "textfont": {
          "color": "LightSeaGreen",
          "family": "Times New Roman",
          "size": 18
         },
         "type": "scatter",
         "x": [
          0.05,
          0.1,
          0.2,
          0.3,
          0.4,
          0.5,
          0.6,
          0.7,
          0.75
         ],
         "y": [
          0.0019537275064267483,
          0.0034716069271042314,
          0.007217155055307659,
          0.005004859086491745,
          0.015273761989994836,
          0.010900384940381092,
          0.06568916619398749,
          0.08566568047337283,
          0.386387965162312
         ]
        },
        {
         "line": {
          "color": "blue",
          "dash": "dashdot",
          "width": 2
         },
         "marker": {
          "line": {
           "color": "rgb(0, 0, 250)",
           "width": 1
          },
          "size": 15,
          "symbol": "circle-open"
         },
         "mode": "lines+markers",
         "name": "J<sub>max</sub>=8 η=10<sup>-15</sup>, m= 0.0",
         "textfont": {
          "color": "LightSeaGreen",
          "family": "Times New Roman",
          "size": 18
         },
         "type": "scatter",
         "x": [
          0.05,
          0.1,
          0.2,
          0.3,
          0.4,
          0.5,
          0.6,
          0.7,
          0.75
         ],
         "y": [
          0.012538560411311057,
          0.004744260974627571,
          0.00248204929167469,
          0.007006802721088333,
          0.0010968837486804164,
          0.008290301380152245,
          0.04204197390811111,
          0.03484467455621305,
          0.2790989707046714
         ]
        },
        {
         "line": {
          "color": "red",
          "dash": "solid",
          "width": 2
         },
         "marker": {
          "line": {
           "color": "rgb(0, 0, 250)",
           "width": 1
          },
          "size": 15,
          "symbol": "cross-open"
         },
         "mode": "lines+markers",
         "name": "J<sub>max</sub>=9 η=10<sup>-3</sup>, m≥ 5",
         "textfont": {
          "color": "LightSeaGreen",
          "family": "Times New Roman",
          "size": 18
         },
         "type": "scatter",
         "x": [
          0.05,
          0.1,
          0.2,
          0.3,
          0.4,
          0.5,
          0.6,
          0.7,
          0.75
         ],
         "y": [
          0.100694087403599,
          0.09383809907370111,
          0.10792742091985255,
          0.14009135082604474,
          0.203327367020056,
          0.3151309736175007,
          0.5386834940442428,
          0.8688683431952663,
          0.9806194774346794
         ]
        },
        {
         "line": {
          "color": "red",
          "dash": "dot",
          "width": 2
         },
         "marker": {
          "line": {
           "color": "rgb(0, 0, 250)",
           "width": 1
          },
          "size": 15,
          "symbol": "cross-open"
         },
         "mode": "lines+markers",
         "name": "J<sub>max</sub>=9 η=10<sup>-4</sup>, m≥ 5",
         "textfont": {
          "color": "LightSeaGreen",
          "family": "Times New Roman",
          "size": 18
         },
         "type": "scatter",
         "x": [
          0.05,
          0.1,
          0.2,
          0.3,
          0.4,
          0.5,
          0.6,
          0.7,
          0.75
         ],
         "y": [
          0.028399742930591283,
          0.03213451469995967,
          0.04039006404036481,
          0.04791836734693882,
          0.0743219055486713,
          0.10663224110412164,
          0.2082926829268293,
          0.5687707100591716,
          0.9099627870150435
         ]
        },
        {
         "line": {
          "color": "red",
          "dash": "dash",
          "width": 2
         },
         "marker": {
          "line": {
           "color": "rgb(0, 0, 250)",
           "width": 1
          },
          "size": 15,
          "symbol": "triangle-up-open"
         },
         "mode": "lines+markers",
         "name": "J<sub>max</sub>=9 η=10<sup>-5</sup>, m= 1.62",
         "textfont": {
          "color": "LightSeaGreen",
          "family": "Times New Roman",
          "size": 18
         },
         "type": "scatter",
         "x": [
          0.05,
          0.1,
          0.2,
          0.3,
          0.4,
          0.5,
          0.6,
          0.7,
          0.75
         ],
         "y": [
          0.013971722365038648,
          0.017660088602496887,
          0.024655540461866843,
          0.02699708454810501,
          0.04362292900087198,
          0.05310487278189832,
          0.09139534883720936,
          0.2329068047337278,
          0.650132224861441
         ]
        },
        {
         "line": {
          "color": "red",
          "dash": "longdash",
          "width": 2
         },
         "marker": {
          "line": {
           "color": "rgb(0, 0, 250)",
           "width": 1
          },
          "size": 15,
          "symbol": "circle-open"
         },
         "mode": "lines+markers",
         "name": "J<sub>max</sub>=9 η=10<sup>-6</sup>, m= 0.51",
         "textfont": {
          "color": "LightSeaGreen",
          "family": "Times New Roman",
          "size": 18
         },
         "type": "scatter",
         "x": [
          0.05,
          0.1,
          0.2,
          0.3,
          0.4,
          0.5,
          0.6,
          0.7,
          0.75
         ],
         "y": [
          0.004910025706940961,
          0.008385018123237937,
          0.013627013390258057,
          0.012886297376093368,
          0.025090642067098008,
          0.025477419960567054,
          0.07399319342030632,
          0.09420118343195269,
          0.3696302454473476
         ]
        },
        {
         "line": {
          "color": "red",
          "dash": "dashdot",
          "width": 2
         },
         "marker": {
          "line": {
           "color": "rgb(0, 0, 250)",
           "width": 1
          },
          "size": 15,
          "symbol": "circle-open"
         },
         "mode": "lines+markers",
         "name": "J<sub>max</sub>=9 η=10<sup>-15</sup>, m= 0.0",
         "textfont": {
          "color": "LightSeaGreen",
          "family": "Times New Roman",
          "size": 18
         },
         "type": "scatter",
         "x": [
          0.05,
          0.1,
          0.2,
          0.3,
          0.4,
          0.5,
          0.6,
          0.7,
          0.75
         ],
         "y": [
          0.0035411311053984242,
          0.0003584373741440605,
          0.004215020376479687,
          0.001457725947521921,
          0.008963238331267954,
          0.006512064594873648,
          0.04842881452070341,
          0.03496301775147934,
          0.243646080760095
         ]
        },
        {
         "line": {
          "color": "hsv(120,100,100)",
          "dash": "solid",
          "width": 2
         },
         "marker": {
          "line": {
           "color": "rgb(0, 0, 250)",
           "width": 1
          },
          "size": 15,
          "symbol": "cross-open"
         },
         "mode": "lines+markers",
         "name": "J<sub>max</sub>=10 η=10<sup>-3</sup>, m≥ 5",
         "textfont": {
          "color": "LightSeaGreen",
          "family": "Times New Roman",
          "size": 18
         },
         "type": "scatter",
         "x": [
          0.05,
          0.1,
          0.2,
          0.3,
          0.4,
          0.5,
          0.6,
          0.7,
          0.75
         ],
         "y": [
          0.09185732647814919,
          0.09001610954490533,
          0.1206908596933825,
          0.17026044703595727,
          0.25033273670200556,
          0.38164491597033134,
          0.6181695972773682,
          0.9013254437869822,
          0.9858583531274743
         ]
        },
        {
         "line": {
          "color": "hsv(120,100,100)",
          "dash": "dot",
          "width": 2
         },
         "marker": {
          "line": {
           "color": "rgb(0, 0, 250)",
           "width": 1
          },
          "size": 15,
          "symbol": "cross-open"
         },
         "mode": "lines+markers",
         "name": "J<sub>max</sub>=10 η=10<sup>-4</sup>, m≥ 5",
         "textfont": {
          "color": "LightSeaGreen",
          "family": "Times New Roman",
          "size": 18
         },
         "type": "scatter",
         "x": [
          0.05,
          0.1,
          0.2,
          0.3,
          0.4,
          0.5,
          0.6,
          0.7,
          0.75
         ],
         "y": [
          0.01662596401028273,
          0.0012444623439388882,
          0.021624296526295363,
          0.03459572400388726,
          0.06016797466611586,
          0.09290207492254243,
          0.21414066931366987,
          0.573599852071006,
          0.9141448931116389
         ]
        },
        {
         "line": {
          "color": "hsv(120,100,100)",
          "dash": "dash",
          "width": 2
         },
         "marker": {
          "line": {
           "color": "rgb(0, 0, 250)",
           "width": 1
          },
          "size": 15,
          "symbol": "square-open"
         },
         "mode": "lines+markers",
         "name": "J<sub>max</sub>=10 η=10<sup>-5</sup>, m= 3.24",
         "textfont": {
          "color": "LightSeaGreen",
          "family": "Times New Roman",
          "size": 18
         },
         "type": "scatter",
         "x": [
          0.05,
          0.1,
          0.2,
          0.3,
          0.4,
          0.5,
          0.6,
          0.7,
          0.75
         ],
         "y": [
          0.036368894601542474,
          0.0130527587595651,
          0.007189986415680183,
          0.017862001943634673,
          0.032066639129836136,
          0.042104966669796164,
          0.10265456608054453,
          0.20565828402366865,
          0.6281923990498812
         ]
        },
        {
         "line": {
          "color": "hsv(120,100,100)",
          "dash": "longdash",
          "width": 2
         },
         "marker": {
          "line": {
           "color": "rgb(0, 0, 250)",
           "width": 1
          },
          "size": 15,
          "symbol": "triangle-up-open"
         },
         "mode": "lines+markers",
         "name": "J<sub>max</sub>=10 η=10<sup>-6</sup>, m= 1.02",
         "textfont": {
          "color": "LightSeaGreen",
          "family": "Times New Roman",
          "size": 18
         },
         "type": "scatter",
         "x": [
          0.05,
          0.1,
          0.2,
          0.3,
          0.4,
          0.5,
          0.6,
          0.7,
          0.75
         ],
         "y": [
          0.03602827763496138,
          0.01782521143777698,
          0.007776052784785571,
          0.011205053449951465,
          0.022901464041488736,
          0.027991737864989066,
          0.07728871242200794,
          0.09318786982248518,
          0.33963895486935863
         ]
        },
        {
         "line": {
          "color": "hsv(120,100,100)",
          "dash": "dashdot",
          "width": 2
         },
         "marker": {
          "line": {
           "color": "rgb(0, 0, 250)",
           "width": 1
          },
          "size": 15,
          "symbol": "circle-open"
         },
         "mode": "lines+markers",
         "name": "J<sub>max</sub>=10 η=10<sup>-15</sup>, m= 0.0",
         "textfont": {
          "color": "LightSeaGreen",
          "family": "Times New Roman",
          "size": 18
         },
         "type": "scatter",
         "x": [
          0.05,
          0.1,
          0.2,
          0.3,
          0.4,
          0.5,
          0.6,
          0.7,
          0.75
         ],
         "y": [
          0.041150385604112986,
          0.023878372935964568,
          0.0002445177566465953,
          0.0013508260447036929,
          0.011138647941621886,
          0.011163271054360975,
          0.05372093023255816,
          0.03254437869822485,
          0.1976326207442597
         ]
        },
        {
         "line": {
          "color": "black",
          "dash": "solid",
          "width": 2
         },
         "marker": {
          "line": {
           "color": "rgb(0, 0, 250)",
           "width": 1
          },
          "size": 15,
          "symbol": "cross-open"
         },
         "mode": "lines+markers",
         "name": "J<sub>max</sub>=11 η=10<sup>-3</sup>, m≥ 5",
         "textfont": {
          "color": "LightSeaGreen",
          "family": "Times New Roman",
          "size": 18
         },
         "type": "scatter",
         "x": [
          0.05,
          0.1,
          0.2,
          0.3,
          0.4,
          0.5,
          0.6,
          0.7,
          0.75
         ],
         "y": [
          0.08706940874035995,
          0.08740636327023751,
          0.11755870366776636,
          0.16662390670553937,
          0.2464546330717334,
          0.3780058210496667,
          0.6162370958593306,
          0.901073224852071,
          0.9858472684085511
         ]
        },
        {
         "line": {
          "color": "black",
          "dash": "dot",
          "width": 2
         },
         "marker": {
          "line": {
           "color": "rgb(0, 0, 250)",
           "width": 1
          },
          "size": 15,
          "symbol": "cross-open"
         },
         "mode": "lines+markers",
         "name": "J<sub>max</sub>=11 η=10<sup>-4</sup>, m≥ 5",
         "textfont": {
          "color": "LightSeaGreen",
          "family": "Times New Roman",
          "size": 18
         },
         "type": "scatter",
         "x": [
          0.05,
          0.1,
          0.2,
          0.3,
          0.4,
          0.5,
          0.6,
          0.7,
          0.75
         ],
         "y": [
          0.02426092544987143,
          0.005497382198952946,
          0.017304482825538522,
          0.029275996112730834,
          0.05334801964293908,
          0.08367477232184768,
          0.20365853658536584,
          0.5669282544378698,
          0.9134125098970705
         ]
        },
        {
         "line": {
          "color": "black",
          "dash": "dash",
          "width": 2
         },
         "marker": {
          "line": {
           "color": "rgb(0, 0, 250)",
           "width": 1
          },
          "size": 15,
          "symbol": "cross-open"
         },
         "mode": "lines+markers",
         "name": "J<sub>max</sub>=11 η=10<sup>-5</sup>, m≥ 5",
         "textfont": {
          "color": "LightSeaGreen",
          "family": "Times New Roman",
          "size": 18
         },
         "type": "scatter",
         "x": [
          0.05,
          0.1,
          0.2,
          0.3,
          0.4,
          0.5,
          0.6,
          0.7,
          0.75
         ],
         "y": [
          0.04041773778920307,
          0.019387837293596485,
          0.009192703279642944,
          0.013265306122449068,
          0.02601312588921005,
          0.03362688949394405,
          0.09104934770277934,
          0.1837056213017752,
          0.6122224861441014
         ]
        },
        {
         "line": {
          "color": "black",
          "dash": "longdash",
          "width": 2
         },
         "marker": {
          "line": {
           "color": "rgb(0, 0, 250)",
           "width": 1
          },
          "size": 15,
          "symbol": "triangle-down-open"
         },
         "mode": "lines+markers",
         "name": "J<sub>max</sub>=11 η=10<sup>-6</sup>, m= 2.05",
         "textfont": {
          "color": "LightSeaGreen",
          "family": "Times New Roman",
          "size": 18
         },
         "type": "scatter",
         "x": [
          0.05,
          0.1,
          0.2,
          0.3,
          0.4,
          0.5,
          0.6,
          0.7,
          0.75
         ],
         "y": [
          0.04311053984575823,
          0.021264599275070573,
          0.006992043469823448,
          0.010330417881438313,
          0.02206159071090912,
          0.026200356774011783,
          0.07486103233125356,
          0.08674556213017746,
          0.3020791765637372
         ]
        },
        {
         "line": {
          "color": "black",
          "dash": "dashdot",
          "width": 2
         },
         "marker": {
          "line": {
           "color": "rgb(0, 0, 250)",
           "width": 1
          },
          "size": 15,
          "symbol": "circle-open"
         },
         "mode": "lines+markers",
         "name": "J<sub>max</sub>=11 η=10<sup>-15</sup>, m= 0.0",
         "textfont": {
          "color": "LightSeaGreen",
          "family": "Times New Roman",
          "size": 18
         },
         "type": "scatter",
         "x": [
          0.05,
          0.1,
          0.2,
          0.3,
          0.4,
          0.5,
          0.6,
          0.7,
          0.75
         ],
         "y": [
          0.04723650385604121,
          0.025678614579138247,
          0.0017096836794099977,
          0.003712342079689067,
          0.013525173252558514,
          0.014101962257065049,
          0.057725467952353934,
          0.0394452662721893,
          0.16541567695961995
         ]
        }
       ],
       "layout": {
        "autosize": false,
        "height": 600,
        "legend": {
         "bordercolor": "Black",
         "borderwidth": 0,
         "font": {
          "color": "black",
          "family": "Times New Roman",
          "size": 18
         },
         "title": {
          "font": {
           "color": "black",
           "family": "Times New Roman",
           "size": 20
          }
         },
         "x": 1.009,
         "xanchor": "left",
         "y": 0,
         "yanchor": "bottom"
        },
        "margin": {
         "b": 1,
         "l": 1,
         "pad": 4,
         "r": 1,
         "t": 1
        },
        "paper_bgcolor": "rgba(255, 255, 255, 1)",
        "plot_bgcolor": "rgba(255, 255, 255, 1)",
        "showlegend": true,
        "template": {
         "data": {
          "bar": [
           {
            "error_x": {
             "color": "#2a3f5f"
            },
            "error_y": {
             "color": "#2a3f5f"
            },
            "marker": {
             "line": {
              "color": "#E5ECF6",
              "width": 0.5
             }
            },
            "type": "bar"
           }
          ],
          "barpolar": [
           {
            "marker": {
             "line": {
              "color": "#E5ECF6",
              "width": 0.5
             }
            },
            "type": "barpolar"
           }
          ],
          "carpet": [
           {
            "aaxis": {
             "endlinecolor": "#2a3f5f",
             "gridcolor": "white",
             "linecolor": "white",
             "minorgridcolor": "white",
             "startlinecolor": "#2a3f5f"
            },
            "baxis": {
             "endlinecolor": "#2a3f5f",
             "gridcolor": "white",
             "linecolor": "white",
             "minorgridcolor": "white",
             "startlinecolor": "#2a3f5f"
            },
            "type": "carpet"
           }
          ],
          "choropleth": [
           {
            "colorbar": {
             "outlinewidth": 0,
             "ticks": ""
            },
            "type": "choropleth"
           }
          ],
          "contour": [
           {
            "colorbar": {
             "outlinewidth": 0,
             "ticks": ""
            },
            "colorscale": [
             [
              0,
              "#0d0887"
             ],
             [
              0.1111111111111111,
              "#46039f"
             ],
             [
              0.2222222222222222,
              "#7201a8"
             ],
             [
              0.3333333333333333,
              "#9c179e"
             ],
             [
              0.4444444444444444,
              "#bd3786"
             ],
             [
              0.5555555555555556,
              "#d8576b"
             ],
             [
              0.6666666666666666,
              "#ed7953"
             ],
             [
              0.7777777777777778,
              "#fb9f3a"
             ],
             [
              0.8888888888888888,
              "#fdca26"
             ],
             [
              1,
              "#f0f921"
             ]
            ],
            "type": "contour"
           }
          ],
          "contourcarpet": [
           {
            "colorbar": {
             "outlinewidth": 0,
             "ticks": ""
            },
            "type": "contourcarpet"
           }
          ],
          "heatmap": [
           {
            "colorbar": {
             "outlinewidth": 0,
             "ticks": ""
            },
            "colorscale": [
             [
              0,
              "#0d0887"
             ],
             [
              0.1111111111111111,
              "#46039f"
             ],
             [
              0.2222222222222222,
              "#7201a8"
             ],
             [
              0.3333333333333333,
              "#9c179e"
             ],
             [
              0.4444444444444444,
              "#bd3786"
             ],
             [
              0.5555555555555556,
              "#d8576b"
             ],
             [
              0.6666666666666666,
              "#ed7953"
             ],
             [
              0.7777777777777778,
              "#fb9f3a"
             ],
             [
              0.8888888888888888,
              "#fdca26"
             ],
             [
              1,
              "#f0f921"
             ]
            ],
            "type": "heatmap"
           }
          ],
          "heatmapgl": [
           {
            "colorbar": {
             "outlinewidth": 0,
             "ticks": ""
            },
            "colorscale": [
             [
              0,
              "#0d0887"
             ],
             [
              0.1111111111111111,
              "#46039f"
             ],
             [
              0.2222222222222222,
              "#7201a8"
             ],
             [
              0.3333333333333333,
              "#9c179e"
             ],
             [
              0.4444444444444444,
              "#bd3786"
             ],
             [
              0.5555555555555556,
              "#d8576b"
             ],
             [
              0.6666666666666666,
              "#ed7953"
             ],
             [
              0.7777777777777778,
              "#fb9f3a"
             ],
             [
              0.8888888888888888,
              "#fdca26"
             ],
             [
              1,
              "#f0f921"
             ]
            ],
            "type": "heatmapgl"
           }
          ],
          "histogram": [
           {
            "marker": {
             "colorbar": {
              "outlinewidth": 0,
              "ticks": ""
             }
            },
            "type": "histogram"
           }
          ],
          "histogram2d": [
           {
            "colorbar": {
             "outlinewidth": 0,
             "ticks": ""
            },
            "colorscale": [
             [
              0,
              "#0d0887"
             ],
             [
              0.1111111111111111,
              "#46039f"
             ],
             [
              0.2222222222222222,
              "#7201a8"
             ],
             [
              0.3333333333333333,
              "#9c179e"
             ],
             [
              0.4444444444444444,
              "#bd3786"
             ],
             [
              0.5555555555555556,
              "#d8576b"
             ],
             [
              0.6666666666666666,
              "#ed7953"
             ],
             [
              0.7777777777777778,
              "#fb9f3a"
             ],
             [
              0.8888888888888888,
              "#fdca26"
             ],
             [
              1,
              "#f0f921"
             ]
            ],
            "type": "histogram2d"
           }
          ],
          "histogram2dcontour": [
           {
            "colorbar": {
             "outlinewidth": 0,
             "ticks": ""
            },
            "colorscale": [
             [
              0,
              "#0d0887"
             ],
             [
              0.1111111111111111,
              "#46039f"
             ],
             [
              0.2222222222222222,
              "#7201a8"
             ],
             [
              0.3333333333333333,
              "#9c179e"
             ],
             [
              0.4444444444444444,
              "#bd3786"
             ],
             [
              0.5555555555555556,
              "#d8576b"
             ],
             [
              0.6666666666666666,
              "#ed7953"
             ],
             [
              0.7777777777777778,
              "#fb9f3a"
             ],
             [
              0.8888888888888888,
              "#fdca26"
             ],
             [
              1,
              "#f0f921"
             ]
            ],
            "type": "histogram2dcontour"
           }
          ],
          "mesh3d": [
           {
            "colorbar": {
             "outlinewidth": 0,
             "ticks": ""
            },
            "type": "mesh3d"
           }
          ],
          "parcoords": [
           {
            "line": {
             "colorbar": {
              "outlinewidth": 0,
              "ticks": ""
             }
            },
            "type": "parcoords"
           }
          ],
          "pie": [
           {
            "automargin": true,
            "type": "pie"
           }
          ],
          "scatter": [
           {
            "marker": {
             "colorbar": {
              "outlinewidth": 0,
              "ticks": ""
             }
            },
            "type": "scatter"
           }
          ],
          "scatter3d": [
           {
            "line": {
             "colorbar": {
              "outlinewidth": 0,
              "ticks": ""
             }
            },
            "marker": {
             "colorbar": {
              "outlinewidth": 0,
              "ticks": ""
             }
            },
            "type": "scatter3d"
           }
          ],
          "scattercarpet": [
           {
            "marker": {
             "colorbar": {
              "outlinewidth": 0,
              "ticks": ""
             }
            },
            "type": "scattercarpet"
           }
          ],
          "scattergeo": [
           {
            "marker": {
             "colorbar": {
              "outlinewidth": 0,
              "ticks": ""
             }
            },
            "type": "scattergeo"
           }
          ],
          "scattergl": [
           {
            "marker": {
             "colorbar": {
              "outlinewidth": 0,
              "ticks": ""
             }
            },
            "type": "scattergl"
           }
          ],
          "scattermapbox": [
           {
            "marker": {
             "colorbar": {
              "outlinewidth": 0,
              "ticks": ""
             }
            },
            "type": "scattermapbox"
           }
          ],
          "scatterpolar": [
           {
            "marker": {
             "colorbar": {
              "outlinewidth": 0,
              "ticks": ""
             }
            },
            "type": "scatterpolar"
           }
          ],
          "scatterpolargl": [
           {
            "marker": {
             "colorbar": {
              "outlinewidth": 0,
              "ticks": ""
             }
            },
            "type": "scatterpolargl"
           }
          ],
          "scatterternary": [
           {
            "marker": {
             "colorbar": {
              "outlinewidth": 0,
              "ticks": ""
             }
            },
            "type": "scatterternary"
           }
          ],
          "surface": [
           {
            "colorbar": {
             "outlinewidth": 0,
             "ticks": ""
            },
            "colorscale": [
             [
              0,
              "#0d0887"
             ],
             [
              0.1111111111111111,
              "#46039f"
             ],
             [
              0.2222222222222222,
              "#7201a8"
             ],
             [
              0.3333333333333333,
              "#9c179e"
             ],
             [
              0.4444444444444444,
              "#bd3786"
             ],
             [
              0.5555555555555556,
              "#d8576b"
             ],
             [
              0.6666666666666666,
              "#ed7953"
             ],
             [
              0.7777777777777778,
              "#fb9f3a"
             ],
             [
              0.8888888888888888,
              "#fdca26"
             ],
             [
              1,
              "#f0f921"
             ]
            ],
            "type": "surface"
           }
          ],
          "table": [
           {
            "cells": {
             "fill": {
              "color": "#EBF0F8"
             },
             "line": {
              "color": "white"
             }
            },
            "header": {
             "fill": {
              "color": "#C8D4E3"
             },
             "line": {
              "color": "white"
             }
            },
            "type": "table"
           }
          ]
         },
         "layout": {
          "annotationdefaults": {
           "arrowcolor": "#2a3f5f",
           "arrowhead": 0,
           "arrowwidth": 1
          },
          "autotypenumbers": "strict",
          "coloraxis": {
           "colorbar": {
            "outlinewidth": 0,
            "ticks": ""
           }
          },
          "colorscale": {
           "diverging": [
            [
             0,
             "#8e0152"
            ],
            [
             0.1,
             "#c51b7d"
            ],
            [
             0.2,
             "#de77ae"
            ],
            [
             0.3,
             "#f1b6da"
            ],
            [
             0.4,
             "#fde0ef"
            ],
            [
             0.5,
             "#f7f7f7"
            ],
            [
             0.6,
             "#e6f5d0"
            ],
            [
             0.7,
             "#b8e186"
            ],
            [
             0.8,
             "#7fbc41"
            ],
            [
             0.9,
             "#4d9221"
            ],
            [
             1,
             "#276419"
            ]
           ],
           "sequential": [
            [
             0,
             "#0d0887"
            ],
            [
             0.1111111111111111,
             "#46039f"
            ],
            [
             0.2222222222222222,
             "#7201a8"
            ],
            [
             0.3333333333333333,
             "#9c179e"
            ],
            [
             0.4444444444444444,
             "#bd3786"
            ],
            [
             0.5555555555555556,
             "#d8576b"
            ],
            [
             0.6666666666666666,
             "#ed7953"
            ],
            [
             0.7777777777777778,
             "#fb9f3a"
            ],
            [
             0.8888888888888888,
             "#fdca26"
            ],
            [
             1,
             "#f0f921"
            ]
           ],
           "sequentialminus": [
            [
             0,
             "#0d0887"
            ],
            [
             0.1111111111111111,
             "#46039f"
            ],
            [
             0.2222222222222222,
             "#7201a8"
            ],
            [
             0.3333333333333333,
             "#9c179e"
            ],
            [
             0.4444444444444444,
             "#bd3786"
            ],
            [
             0.5555555555555556,
             "#d8576b"
            ],
            [
             0.6666666666666666,
             "#ed7953"
            ],
            [
             0.7777777777777778,
             "#fb9f3a"
            ],
            [
             0.8888888888888888,
             "#fdca26"
            ],
            [
             1,
             "#f0f921"
            ]
           ]
          },
          "colorway": [
           "#636efa",
           "#EF553B",
           "#00cc96",
           "#ab63fa",
           "#FFA15A",
           "#19d3f3",
           "#FF6692",
           "#B6E880",
           "#FF97FF",
           "#FECB52"
          ],
          "font": {
           "color": "#2a3f5f"
          },
          "geo": {
           "bgcolor": "white",
           "lakecolor": "white",
           "landcolor": "#E5ECF6",
           "showlakes": true,
           "showland": true,
           "subunitcolor": "white"
          },
          "hoverlabel": {
           "align": "left"
          },
          "hovermode": "closest",
          "mapbox": {
           "style": "light"
          },
          "paper_bgcolor": "white",
          "plot_bgcolor": "#E5ECF6",
          "polar": {
           "angularaxis": {
            "gridcolor": "white",
            "linecolor": "white",
            "ticks": ""
           },
           "bgcolor": "#E5ECF6",
           "radialaxis": {
            "gridcolor": "white",
            "linecolor": "white",
            "ticks": ""
           }
          },
          "scene": {
           "xaxis": {
            "backgroundcolor": "#E5ECF6",
            "gridcolor": "white",
            "gridwidth": 2,
            "linecolor": "white",
            "showbackground": true,
            "ticks": "",
            "zerolinecolor": "white"
           },
           "yaxis": {
            "backgroundcolor": "#E5ECF6",
            "gridcolor": "white",
            "gridwidth": 2,
            "linecolor": "white",
            "showbackground": true,
            "ticks": "",
            "zerolinecolor": "white"
           },
           "zaxis": {
            "backgroundcolor": "#E5ECF6",
            "gridcolor": "white",
            "gridwidth": 2,
            "linecolor": "white",
            "showbackground": true,
            "ticks": "",
            "zerolinecolor": "white"
           }
          },
          "shapedefaults": {
           "line": {
            "color": "#2a3f5f"
           }
          },
          "ternary": {
           "aaxis": {
            "gridcolor": "white",
            "linecolor": "white",
            "ticks": ""
           },
           "baxis": {
            "gridcolor": "white",
            "linecolor": "white",
            "ticks": ""
           },
           "bgcolor": "#E5ECF6",
           "caxis": {
            "gridcolor": "white",
            "linecolor": "white",
            "ticks": ""
           }
          },
          "title": {
           "x": 0.05
          },
          "xaxis": {
           "automargin": true,
           "gridcolor": "white",
           "linecolor": "white",
           "ticks": "",
           "title": {
            "standoff": 15
           },
           "zerolinecolor": "white",
           "zerolinewidth": 2
          },
          "yaxis": {
           "automargin": true,
           "gridcolor": "white",
           "linecolor": "white",
           "ticks": "",
           "title": {
            "standoff": 15
           },
           "zerolinecolor": "white",
           "zerolinewidth": 2
          }
         }
        },
        "width": 850,
        "xaxis": {
         "gridcolor": "lightgrey",
         "gridwidth": 1,
         "linecolor": "black",
         "linewidth": 1,
         "mirror": true,
         "range": [
          0.07,
          0.8
         ],
         "showline": true,
         "tickfont": {
          "color": "black",
          "family": "Times New Roman",
          "size": 18
         },
         "ticks": "outside",
         "title": {
          "font": {
           "color": "black",
           "family": "Times New Roman",
           "size": 25
          },
          "text": "φ<sub>s</sub>"
         }
        },
        "yaxis": {
         "gridcolor": "lightgrey",
         "gridwidth": 1,
         "linecolor": "black",
         "linewidth": 1,
         "mirror": true,
         "showline": true,
         "tickfont": {
          "color": "black",
          "family": "Times New Roman",
          "size": 18
         },
         "ticks": "outside",
         "title": {
          "font": {
           "color": "black",
           "family": "Times New Roman",
           "size": 25
          },
          "text": "E"
         },
         "type": "log"
        }
       }
      },
      "text/html": [
       "<div>                            <div id=\"e89ddf35-27e0-4879-b87b-9b8d96273959\" class=\"plotly-graph-div\" style=\"height:600px; width:850px;\"></div>            <script type=\"text/javascript\">                require([\"plotly\"], function(Plotly) {                    window.PLOTLYENV=window.PLOTLYENV || {};                                    if (document.getElementById(\"e89ddf35-27e0-4879-b87b-9b8d96273959\")) {                    Plotly.newPlot(                        \"e89ddf35-27e0-4879-b87b-9b8d96273959\",                        [{\"line\": {\"color\": \"blue\", \"dash\": \"solid\", \"width\": 2}, \"marker\": {\"line\": {\"color\": \"rgb(0, 0, 250)\", \"width\": 1}, \"size\": 15, \"symbol\": \"cross-open\"}, \"mode\": \"lines+markers\", \"name\": \"J<sub>max</sub>=8 \\u03b7=10<sup>-3</sup>, m\\u2265 5\", \"textfont\": {\"color\": \"LightSeaGreen\", \"family\": \"Times New Roman\", \"size\": 18}, \"type\": \"scatter\", \"x\": [0.05, 0.1, 0.2, 0.3, 0.4, 0.5, 0.6, 0.7, 0.75], \"y\": [0.1114588688946016, 0.10648811921063223, 0.1216941587424802, 0.15728474246841595, 0.22154298040295559, 0.33327011548211427, 0.5529517867271696, 0.8714630177514793, 0.9808992082343627]}, {\"line\": {\"color\": \"blue\", \"dash\": \"dot\", \"width\": 2}, \"marker\": {\"line\": {\"color\": \"rgb(0, 0, 250)\", \"width\": 1}, \"size\": 15, \"symbol\": \"triangle-down-open\"}, \"mode\": \"lines+markers\", \"name\": \"J<sub>max</sub>=8 \\u03b7=10<sup>-4</sup>, m= 2.56\", \"textfont\": {\"color\": \"LightSeaGreen\", \"family\": \"Times New Roman\", \"size\": 18}, \"type\": \"scatter\", \"x\": [0.05, 0.1, 0.2, 0.3, 0.4, 0.5, 0.6, 0.7, 0.75], \"y\": [0.03706298200514143, 0.042823197744663644, 0.05200077624684651, 0.06393683187560749, 0.09226215062646281, 0.12949018871467466, 0.24384004537719803, 0.5908779585798817, 0.9128543151227236]}, {\"line\": {\"color\": \"blue\", \"dash\": \"dash\", \"width\": 2}, \"marker\": {\"line\": {\"color\": \"rgb(0, 0, 250)\", \"width\": 1}, \"size\": 15, \"symbol\": \"circle-open\"}, \"mode\": \"lines+markers\", \"name\": \"J<sub>max</sub>=8 \\u03b7=10<sup>-5</sup>, m= 0.81\", \"textfont\": {\"color\": \"LightSeaGreen\", \"family\": \"Times New Roman\", \"size\": 18}, \"type\": \"scatter\", \"x\": [0.05, 0.1, 0.2, 0.3, 0.4, 0.5, 0.6, 0.7, 0.75], \"y\": [0.012930591259640105, 0.01848973016512281, 0.02457209392586838, 0.029789115646258576, 0.04340722382853733, 0.05185428598253677, 0.10032898468519576, 0.25108727810650894, 0.6667110055423595]}, {\"line\": {\"color\": \"blue\", \"dash\": \"longdash\", \"width\": 2}, \"marker\": {\"line\": {\"color\": \"rgb(0, 0, 250)\", \"width\": 1}, \"size\": 15, \"symbol\": \"circle-open\"}, \"mode\": \"lines+markers\", \"name\": \"J<sub>max</sub>=8 \\u03b7=10<sup>-6</sup>, m= 0.26\", \"textfont\": {\"color\": \"LightSeaGreen\", \"family\": \"Times New Roman\", \"size\": 18}, \"type\": \"scatter\", \"x\": [0.05, 0.1, 0.2, 0.3, 0.4, 0.5, 0.6, 0.7, 0.75], \"y\": [0.0019537275064267483, 0.0034716069271042314, 0.007217155055307659, 0.005004859086491745, 0.015273761989994836, 0.010900384940381092, 0.06568916619398749, 0.08566568047337283, 0.386387965162312]}, {\"line\": {\"color\": \"blue\", \"dash\": \"dashdot\", \"width\": 2}, \"marker\": {\"line\": {\"color\": \"rgb(0, 0, 250)\", \"width\": 1}, \"size\": 15, \"symbol\": \"circle-open\"}, \"mode\": \"lines+markers\", \"name\": \"J<sub>max</sub>=8 \\u03b7=10<sup>-15</sup>, m= 0.0\", \"textfont\": {\"color\": \"LightSeaGreen\", \"family\": \"Times New Roman\", \"size\": 18}, \"type\": \"scatter\", \"x\": [0.05, 0.1, 0.2, 0.3, 0.4, 0.5, 0.6, 0.7, 0.75], \"y\": [0.012538560411311057, 0.004744260974627571, 0.00248204929167469, 0.007006802721088333, 0.0010968837486804164, 0.008290301380152245, 0.04204197390811111, 0.03484467455621305, 0.2790989707046714]}, {\"line\": {\"color\": \"red\", \"dash\": \"solid\", \"width\": 2}, \"marker\": {\"line\": {\"color\": \"rgb(0, 0, 250)\", \"width\": 1}, \"size\": 15, \"symbol\": \"cross-open\"}, \"mode\": \"lines+markers\", \"name\": \"J<sub>max</sub>=9 \\u03b7=10<sup>-3</sup>, m\\u2265 5\", \"textfont\": {\"color\": \"LightSeaGreen\", \"family\": \"Times New Roman\", \"size\": 18}, \"type\": \"scatter\", \"x\": [0.05, 0.1, 0.2, 0.3, 0.4, 0.5, 0.6, 0.7, 0.75], \"y\": [0.100694087403599, 0.09383809907370111, 0.10792742091985255, 0.14009135082604474, 0.203327367020056, 0.3151309736175007, 0.5386834940442428, 0.8688683431952663, 0.9806194774346794]}, {\"line\": {\"color\": \"red\", \"dash\": \"dot\", \"width\": 2}, \"marker\": {\"line\": {\"color\": \"rgb(0, 0, 250)\", \"width\": 1}, \"size\": 15, \"symbol\": \"cross-open\"}, \"mode\": \"lines+markers\", \"name\": \"J<sub>max</sub>=9 \\u03b7=10<sup>-4</sup>, m\\u2265 5\", \"textfont\": {\"color\": \"LightSeaGreen\", \"family\": \"Times New Roman\", \"size\": 18}, \"type\": \"scatter\", \"x\": [0.05, 0.1, 0.2, 0.3, 0.4, 0.5, 0.6, 0.7, 0.75], \"y\": [0.028399742930591283, 0.03213451469995967, 0.04039006404036481, 0.04791836734693882, 0.0743219055486713, 0.10663224110412164, 0.2082926829268293, 0.5687707100591716, 0.9099627870150435]}, {\"line\": {\"color\": \"red\", \"dash\": \"dash\", \"width\": 2}, \"marker\": {\"line\": {\"color\": \"rgb(0, 0, 250)\", \"width\": 1}, \"size\": 15, \"symbol\": \"triangle-up-open\"}, \"mode\": \"lines+markers\", \"name\": \"J<sub>max</sub>=9 \\u03b7=10<sup>-5</sup>, m= 1.62\", \"textfont\": {\"color\": \"LightSeaGreen\", \"family\": \"Times New Roman\", \"size\": 18}, \"type\": \"scatter\", \"x\": [0.05, 0.1, 0.2, 0.3, 0.4, 0.5, 0.6, 0.7, 0.75], \"y\": [0.013971722365038648, 0.017660088602496887, 0.024655540461866843, 0.02699708454810501, 0.04362292900087198, 0.05310487278189832, 0.09139534883720936, 0.2329068047337278, 0.650132224861441]}, {\"line\": {\"color\": \"red\", \"dash\": \"longdash\", \"width\": 2}, \"marker\": {\"line\": {\"color\": \"rgb(0, 0, 250)\", \"width\": 1}, \"size\": 15, \"symbol\": \"circle-open\"}, \"mode\": \"lines+markers\", \"name\": \"J<sub>max</sub>=9 \\u03b7=10<sup>-6</sup>, m= 0.51\", \"textfont\": {\"color\": \"LightSeaGreen\", \"family\": \"Times New Roman\", \"size\": 18}, \"type\": \"scatter\", \"x\": [0.05, 0.1, 0.2, 0.3, 0.4, 0.5, 0.6, 0.7, 0.75], \"y\": [0.004910025706940961, 0.008385018123237937, 0.013627013390258057, 0.012886297376093368, 0.025090642067098008, 0.025477419960567054, 0.07399319342030632, 0.09420118343195269, 0.3696302454473476]}, {\"line\": {\"color\": \"red\", \"dash\": \"dashdot\", \"width\": 2}, \"marker\": {\"line\": {\"color\": \"rgb(0, 0, 250)\", \"width\": 1}, \"size\": 15, \"symbol\": \"circle-open\"}, \"mode\": \"lines+markers\", \"name\": \"J<sub>max</sub>=9 \\u03b7=10<sup>-15</sup>, m= 0.0\", \"textfont\": {\"color\": \"LightSeaGreen\", \"family\": \"Times New Roman\", \"size\": 18}, \"type\": \"scatter\", \"x\": [0.05, 0.1, 0.2, 0.3, 0.4, 0.5, 0.6, 0.7, 0.75], \"y\": [0.0035411311053984242, 0.0003584373741440605, 0.004215020376479687, 0.001457725947521921, 0.008963238331267954, 0.006512064594873648, 0.04842881452070341, 0.03496301775147934, 0.243646080760095]}, {\"line\": {\"color\": \"hsv(120,100,100)\", \"dash\": \"solid\", \"width\": 2}, \"marker\": {\"line\": {\"color\": \"rgb(0, 0, 250)\", \"width\": 1}, \"size\": 15, \"symbol\": \"cross-open\"}, \"mode\": \"lines+markers\", \"name\": \"J<sub>max</sub>=10 \\u03b7=10<sup>-3</sup>, m\\u2265 5\", \"textfont\": {\"color\": \"LightSeaGreen\", \"family\": \"Times New Roman\", \"size\": 18}, \"type\": \"scatter\", \"x\": [0.05, 0.1, 0.2, 0.3, 0.4, 0.5, 0.6, 0.7, 0.75], \"y\": [0.09185732647814919, 0.09001610954490533, 0.1206908596933825, 0.17026044703595727, 0.25033273670200556, 0.38164491597033134, 0.6181695972773682, 0.9013254437869822, 0.9858583531274743]}, {\"line\": {\"color\": \"hsv(120,100,100)\", \"dash\": \"dot\", \"width\": 2}, \"marker\": {\"line\": {\"color\": \"rgb(0, 0, 250)\", \"width\": 1}, \"size\": 15, \"symbol\": \"cross-open\"}, \"mode\": \"lines+markers\", \"name\": \"J<sub>max</sub>=10 \\u03b7=10<sup>-4</sup>, m\\u2265 5\", \"textfont\": {\"color\": \"LightSeaGreen\", \"family\": \"Times New Roman\", \"size\": 18}, \"type\": \"scatter\", \"x\": [0.05, 0.1, 0.2, 0.3, 0.4, 0.5, 0.6, 0.7, 0.75], \"y\": [0.01662596401028273, 0.0012444623439388882, 0.021624296526295363, 0.03459572400388726, 0.06016797466611586, 0.09290207492254243, 0.21414066931366987, 0.573599852071006, 0.9141448931116389]}, {\"line\": {\"color\": \"hsv(120,100,100)\", \"dash\": \"dash\", \"width\": 2}, \"marker\": {\"line\": {\"color\": \"rgb(0, 0, 250)\", \"width\": 1}, \"size\": 15, \"symbol\": \"square-open\"}, \"mode\": \"lines+markers\", \"name\": \"J<sub>max</sub>=10 \\u03b7=10<sup>-5</sup>, m= 3.24\", \"textfont\": {\"color\": \"LightSeaGreen\", \"family\": \"Times New Roman\", \"size\": 18}, \"type\": \"scatter\", \"x\": [0.05, 0.1, 0.2, 0.3, 0.4, 0.5, 0.6, 0.7, 0.75], \"y\": [0.036368894601542474, 0.0130527587595651, 0.007189986415680183, 0.017862001943634673, 0.032066639129836136, 0.042104966669796164, 0.10265456608054453, 0.20565828402366865, 0.6281923990498812]}, {\"line\": {\"color\": \"hsv(120,100,100)\", \"dash\": \"longdash\", \"width\": 2}, \"marker\": {\"line\": {\"color\": \"rgb(0, 0, 250)\", \"width\": 1}, \"size\": 15, \"symbol\": \"triangle-up-open\"}, \"mode\": \"lines+markers\", \"name\": \"J<sub>max</sub>=10 \\u03b7=10<sup>-6</sup>, m= 1.02\", \"textfont\": {\"color\": \"LightSeaGreen\", \"family\": \"Times New Roman\", \"size\": 18}, \"type\": \"scatter\", \"x\": [0.05, 0.1, 0.2, 0.3, 0.4, 0.5, 0.6, 0.7, 0.75], \"y\": [0.03602827763496138, 0.01782521143777698, 0.007776052784785571, 0.011205053449951465, 0.022901464041488736, 0.027991737864989066, 0.07728871242200794, 0.09318786982248518, 0.33963895486935863]}, {\"line\": {\"color\": \"hsv(120,100,100)\", \"dash\": \"dashdot\", \"width\": 2}, \"marker\": {\"line\": {\"color\": \"rgb(0, 0, 250)\", \"width\": 1}, \"size\": 15, \"symbol\": \"circle-open\"}, \"mode\": \"lines+markers\", \"name\": \"J<sub>max</sub>=10 \\u03b7=10<sup>-15</sup>, m= 0.0\", \"textfont\": {\"color\": \"LightSeaGreen\", \"family\": \"Times New Roman\", \"size\": 18}, \"type\": \"scatter\", \"x\": [0.05, 0.1, 0.2, 0.3, 0.4, 0.5, 0.6, 0.7, 0.75], \"y\": [0.041150385604112986, 0.023878372935964568, 0.0002445177566465953, 0.0013508260447036929, 0.011138647941621886, 0.011163271054360975, 0.05372093023255816, 0.03254437869822485, 0.1976326207442597]}, {\"line\": {\"color\": \"black\", \"dash\": \"solid\", \"width\": 2}, \"marker\": {\"line\": {\"color\": \"rgb(0, 0, 250)\", \"width\": 1}, \"size\": 15, \"symbol\": \"cross-open\"}, \"mode\": \"lines+markers\", \"name\": \"J<sub>max</sub>=11 \\u03b7=10<sup>-3</sup>, m\\u2265 5\", \"textfont\": {\"color\": \"LightSeaGreen\", \"family\": \"Times New Roman\", \"size\": 18}, \"type\": \"scatter\", \"x\": [0.05, 0.1, 0.2, 0.3, 0.4, 0.5, 0.6, 0.7, 0.75], \"y\": [0.08706940874035995, 0.08740636327023751, 0.11755870366776636, 0.16662390670553937, 0.2464546330717334, 0.3780058210496667, 0.6162370958593306, 0.901073224852071, 0.9858472684085511]}, {\"line\": {\"color\": \"black\", \"dash\": \"dot\", \"width\": 2}, \"marker\": {\"line\": {\"color\": \"rgb(0, 0, 250)\", \"width\": 1}, \"size\": 15, \"symbol\": \"cross-open\"}, \"mode\": \"lines+markers\", \"name\": \"J<sub>max</sub>=11 \\u03b7=10<sup>-4</sup>, m\\u2265 5\", \"textfont\": {\"color\": \"LightSeaGreen\", \"family\": \"Times New Roman\", \"size\": 18}, \"type\": \"scatter\", \"x\": [0.05, 0.1, 0.2, 0.3, 0.4, 0.5, 0.6, 0.7, 0.75], \"y\": [0.02426092544987143, 0.005497382198952946, 0.017304482825538522, 0.029275996112730834, 0.05334801964293908, 0.08367477232184768, 0.20365853658536584, 0.5669282544378698, 0.9134125098970705]}, {\"line\": {\"color\": \"black\", \"dash\": \"dash\", \"width\": 2}, \"marker\": {\"line\": {\"color\": \"rgb(0, 0, 250)\", \"width\": 1}, \"size\": 15, \"symbol\": \"cross-open\"}, \"mode\": \"lines+markers\", \"name\": \"J<sub>max</sub>=11 \\u03b7=10<sup>-5</sup>, m\\u2265 5\", \"textfont\": {\"color\": \"LightSeaGreen\", \"family\": \"Times New Roman\", \"size\": 18}, \"type\": \"scatter\", \"x\": [0.05, 0.1, 0.2, 0.3, 0.4, 0.5, 0.6, 0.7, 0.75], \"y\": [0.04041773778920307, 0.019387837293596485, 0.009192703279642944, 0.013265306122449068, 0.02601312588921005, 0.03362688949394405, 0.09104934770277934, 0.1837056213017752, 0.6122224861441014]}, {\"line\": {\"color\": \"black\", \"dash\": \"longdash\", \"width\": 2}, \"marker\": {\"line\": {\"color\": \"rgb(0, 0, 250)\", \"width\": 1}, \"size\": 15, \"symbol\": \"triangle-down-open\"}, \"mode\": \"lines+markers\", \"name\": \"J<sub>max</sub>=11 \\u03b7=10<sup>-6</sup>, m= 2.05\", \"textfont\": {\"color\": \"LightSeaGreen\", \"family\": \"Times New Roman\", \"size\": 18}, \"type\": \"scatter\", \"x\": [0.05, 0.1, 0.2, 0.3, 0.4, 0.5, 0.6, 0.7, 0.75], \"y\": [0.04311053984575823, 0.021264599275070573, 0.006992043469823448, 0.010330417881438313, 0.02206159071090912, 0.026200356774011783, 0.07486103233125356, 0.08674556213017746, 0.3020791765637372]}, {\"line\": {\"color\": \"black\", \"dash\": \"dashdot\", \"width\": 2}, \"marker\": {\"line\": {\"color\": \"rgb(0, 0, 250)\", \"width\": 1}, \"size\": 15, \"symbol\": \"circle-open\"}, \"mode\": \"lines+markers\", \"name\": \"J<sub>max</sub>=11 \\u03b7=10<sup>-15</sup>, m= 0.0\", \"textfont\": {\"color\": \"LightSeaGreen\", \"family\": \"Times New Roman\", \"size\": 18}, \"type\": \"scatter\", \"x\": [0.05, 0.1, 0.2, 0.3, 0.4, 0.5, 0.6, 0.7, 0.75], \"y\": [0.04723650385604121, 0.025678614579138247, 0.0017096836794099977, 0.003712342079689067, 0.013525173252558514, 0.014101962257065049, 0.057725467952353934, 0.0394452662721893, 0.16541567695961995]}],                        {\"autosize\": false, \"height\": 600, \"legend\": {\"bordercolor\": \"Black\", \"borderwidth\": 0, \"font\": {\"color\": \"black\", \"family\": \"Times New Roman\", \"size\": 18}, \"title\": {\"font\": {\"color\": \"black\", \"family\": \"Times New Roman\", \"size\": 20}}, \"x\": 1.009, \"xanchor\": \"left\", \"y\": 0, \"yanchor\": \"bottom\"}, \"margin\": {\"b\": 1, \"l\": 1, \"pad\": 4, \"r\": 1, \"t\": 1}, \"paper_bgcolor\": \"rgba(255, 255, 255, 1)\", \"plot_bgcolor\": \"rgba(255, 255, 255, 1)\", \"showlegend\": true, \"template\": {\"data\": {\"bar\": [{\"error_x\": {\"color\": \"#2a3f5f\"}, \"error_y\": {\"color\": \"#2a3f5f\"}, \"marker\": {\"line\": {\"color\": \"#E5ECF6\", \"width\": 0.5}}, \"type\": \"bar\"}], \"barpolar\": [{\"marker\": {\"line\": {\"color\": \"#E5ECF6\", \"width\": 0.5}}, \"type\": \"barpolar\"}], \"carpet\": [{\"aaxis\": {\"endlinecolor\": \"#2a3f5f\", \"gridcolor\": \"white\", \"linecolor\": \"white\", \"minorgridcolor\": \"white\", \"startlinecolor\": \"#2a3f5f\"}, \"baxis\": {\"endlinecolor\": \"#2a3f5f\", \"gridcolor\": \"white\", \"linecolor\": \"white\", \"minorgridcolor\": \"white\", \"startlinecolor\": \"#2a3f5f\"}, \"type\": \"carpet\"}], \"choropleth\": [{\"colorbar\": {\"outlinewidth\": 0, \"ticks\": \"\"}, \"type\": \"choropleth\"}], \"contour\": [{\"colorbar\": {\"outlinewidth\": 0, \"ticks\": \"\"}, \"colorscale\": [[0.0, \"#0d0887\"], [0.1111111111111111, \"#46039f\"], [0.2222222222222222, \"#7201a8\"], [0.3333333333333333, \"#9c179e\"], [0.4444444444444444, \"#bd3786\"], [0.5555555555555556, \"#d8576b\"], [0.6666666666666666, \"#ed7953\"], [0.7777777777777778, \"#fb9f3a\"], [0.8888888888888888, \"#fdca26\"], [1.0, \"#f0f921\"]], \"type\": \"contour\"}], \"contourcarpet\": [{\"colorbar\": {\"outlinewidth\": 0, \"ticks\": \"\"}, \"type\": \"contourcarpet\"}], \"heatmap\": [{\"colorbar\": {\"outlinewidth\": 0, \"ticks\": \"\"}, \"colorscale\": [[0.0, \"#0d0887\"], [0.1111111111111111, \"#46039f\"], [0.2222222222222222, \"#7201a8\"], [0.3333333333333333, \"#9c179e\"], [0.4444444444444444, \"#bd3786\"], [0.5555555555555556, \"#d8576b\"], [0.6666666666666666, \"#ed7953\"], [0.7777777777777778, \"#fb9f3a\"], [0.8888888888888888, \"#fdca26\"], [1.0, \"#f0f921\"]], \"type\": \"heatmap\"}], \"heatmapgl\": [{\"colorbar\": {\"outlinewidth\": 0, \"ticks\": \"\"}, \"colorscale\": [[0.0, \"#0d0887\"], [0.1111111111111111, \"#46039f\"], [0.2222222222222222, \"#7201a8\"], [0.3333333333333333, \"#9c179e\"], [0.4444444444444444, \"#bd3786\"], [0.5555555555555556, \"#d8576b\"], [0.6666666666666666, \"#ed7953\"], [0.7777777777777778, \"#fb9f3a\"], [0.8888888888888888, \"#fdca26\"], [1.0, \"#f0f921\"]], \"type\": \"heatmapgl\"}], \"histogram\": [{\"marker\": {\"colorbar\": {\"outlinewidth\": 0, \"ticks\": \"\"}}, \"type\": \"histogram\"}], \"histogram2d\": [{\"colorbar\": {\"outlinewidth\": 0, \"ticks\": \"\"}, \"colorscale\": [[0.0, \"#0d0887\"], [0.1111111111111111, \"#46039f\"], [0.2222222222222222, \"#7201a8\"], [0.3333333333333333, \"#9c179e\"], [0.4444444444444444, \"#bd3786\"], [0.5555555555555556, \"#d8576b\"], [0.6666666666666666, \"#ed7953\"], [0.7777777777777778, \"#fb9f3a\"], [0.8888888888888888, \"#fdca26\"], [1.0, \"#f0f921\"]], \"type\": \"histogram2d\"}], \"histogram2dcontour\": [{\"colorbar\": {\"outlinewidth\": 0, \"ticks\": \"\"}, \"colorscale\": [[0.0, \"#0d0887\"], [0.1111111111111111, \"#46039f\"], [0.2222222222222222, \"#7201a8\"], [0.3333333333333333, \"#9c179e\"], [0.4444444444444444, \"#bd3786\"], [0.5555555555555556, \"#d8576b\"], [0.6666666666666666, \"#ed7953\"], [0.7777777777777778, \"#fb9f3a\"], [0.8888888888888888, \"#fdca26\"], [1.0, \"#f0f921\"]], \"type\": \"histogram2dcontour\"}], \"mesh3d\": [{\"colorbar\": {\"outlinewidth\": 0, \"ticks\": \"\"}, \"type\": \"mesh3d\"}], \"parcoords\": [{\"line\": {\"colorbar\": {\"outlinewidth\": 0, \"ticks\": \"\"}}, \"type\": \"parcoords\"}], \"pie\": [{\"automargin\": true, \"type\": \"pie\"}], \"scatter\": [{\"marker\": {\"colorbar\": {\"outlinewidth\": 0, \"ticks\": \"\"}}, \"type\": \"scatter\"}], \"scatter3d\": [{\"line\": {\"colorbar\": {\"outlinewidth\": 0, \"ticks\": \"\"}}, \"marker\": {\"colorbar\": {\"outlinewidth\": 0, \"ticks\": \"\"}}, \"type\": \"scatter3d\"}], \"scattercarpet\": [{\"marker\": {\"colorbar\": {\"outlinewidth\": 0, \"ticks\": \"\"}}, \"type\": \"scattercarpet\"}], \"scattergeo\": [{\"marker\": {\"colorbar\": {\"outlinewidth\": 0, \"ticks\": \"\"}}, \"type\": \"scattergeo\"}], \"scattergl\": [{\"marker\": {\"colorbar\": {\"outlinewidth\": 0, \"ticks\": \"\"}}, \"type\": \"scattergl\"}], \"scattermapbox\": [{\"marker\": {\"colorbar\": {\"outlinewidth\": 0, \"ticks\": \"\"}}, \"type\": \"scattermapbox\"}], \"scatterpolar\": [{\"marker\": {\"colorbar\": {\"outlinewidth\": 0, \"ticks\": \"\"}}, \"type\": \"scatterpolar\"}], \"scatterpolargl\": [{\"marker\": {\"colorbar\": {\"outlinewidth\": 0, \"ticks\": \"\"}}, \"type\": \"scatterpolargl\"}], \"scatterternary\": [{\"marker\": {\"colorbar\": {\"outlinewidth\": 0, \"ticks\": \"\"}}, \"type\": \"scatterternary\"}], \"surface\": [{\"colorbar\": {\"outlinewidth\": 0, \"ticks\": \"\"}, \"colorscale\": [[0.0, \"#0d0887\"], [0.1111111111111111, \"#46039f\"], [0.2222222222222222, \"#7201a8\"], [0.3333333333333333, \"#9c179e\"], [0.4444444444444444, \"#bd3786\"], [0.5555555555555556, \"#d8576b\"], [0.6666666666666666, \"#ed7953\"], [0.7777777777777778, \"#fb9f3a\"], [0.8888888888888888, \"#fdca26\"], [1.0, \"#f0f921\"]], \"type\": \"surface\"}], \"table\": [{\"cells\": {\"fill\": {\"color\": \"#EBF0F8\"}, \"line\": {\"color\": \"white\"}}, \"header\": {\"fill\": {\"color\": \"#C8D4E3\"}, \"line\": {\"color\": \"white\"}}, \"type\": \"table\"}]}, \"layout\": {\"annotationdefaults\": {\"arrowcolor\": \"#2a3f5f\", \"arrowhead\": 0, \"arrowwidth\": 1}, \"autotypenumbers\": \"strict\", \"coloraxis\": {\"colorbar\": {\"outlinewidth\": 0, \"ticks\": \"\"}}, \"colorscale\": {\"diverging\": [[0, \"#8e0152\"], [0.1, \"#c51b7d\"], [0.2, \"#de77ae\"], [0.3, \"#f1b6da\"], [0.4, \"#fde0ef\"], [0.5, \"#f7f7f7\"], [0.6, \"#e6f5d0\"], [0.7, \"#b8e186\"], [0.8, \"#7fbc41\"], [0.9, \"#4d9221\"], [1, \"#276419\"]], \"sequential\": [[0.0, \"#0d0887\"], [0.1111111111111111, \"#46039f\"], [0.2222222222222222, \"#7201a8\"], [0.3333333333333333, \"#9c179e\"], [0.4444444444444444, \"#bd3786\"], [0.5555555555555556, \"#d8576b\"], [0.6666666666666666, \"#ed7953\"], [0.7777777777777778, \"#fb9f3a\"], [0.8888888888888888, \"#fdca26\"], [1.0, \"#f0f921\"]], \"sequentialminus\": [[0.0, \"#0d0887\"], [0.1111111111111111, \"#46039f\"], [0.2222222222222222, \"#7201a8\"], [0.3333333333333333, \"#9c179e\"], [0.4444444444444444, \"#bd3786\"], [0.5555555555555556, \"#d8576b\"], [0.6666666666666666, \"#ed7953\"], [0.7777777777777778, \"#fb9f3a\"], [0.8888888888888888, \"#fdca26\"], [1.0, \"#f0f921\"]]}, \"colorway\": [\"#636efa\", \"#EF553B\", \"#00cc96\", \"#ab63fa\", \"#FFA15A\", \"#19d3f3\", \"#FF6692\", \"#B6E880\", \"#FF97FF\", \"#FECB52\"], \"font\": {\"color\": \"#2a3f5f\"}, \"geo\": {\"bgcolor\": \"white\", \"lakecolor\": \"white\", \"landcolor\": \"#E5ECF6\", \"showlakes\": true, \"showland\": true, \"subunitcolor\": \"white\"}, \"hoverlabel\": {\"align\": \"left\"}, \"hovermode\": \"closest\", \"mapbox\": {\"style\": \"light\"}, \"paper_bgcolor\": \"white\", \"plot_bgcolor\": \"#E5ECF6\", \"polar\": {\"angularaxis\": {\"gridcolor\": \"white\", \"linecolor\": \"white\", \"ticks\": \"\"}, \"bgcolor\": \"#E5ECF6\", \"radialaxis\": {\"gridcolor\": \"white\", \"linecolor\": \"white\", \"ticks\": \"\"}}, \"scene\": {\"xaxis\": {\"backgroundcolor\": \"#E5ECF6\", \"gridcolor\": \"white\", \"gridwidth\": 2, \"linecolor\": \"white\", \"showbackground\": true, \"ticks\": \"\", \"zerolinecolor\": \"white\"}, \"yaxis\": {\"backgroundcolor\": \"#E5ECF6\", \"gridcolor\": \"white\", \"gridwidth\": 2, \"linecolor\": \"white\", \"showbackground\": true, \"ticks\": \"\", \"zerolinecolor\": \"white\"}, \"zaxis\": {\"backgroundcolor\": \"#E5ECF6\", \"gridcolor\": \"white\", \"gridwidth\": 2, \"linecolor\": \"white\", \"showbackground\": true, \"ticks\": \"\", \"zerolinecolor\": \"white\"}}, \"shapedefaults\": {\"line\": {\"color\": \"#2a3f5f\"}}, \"ternary\": {\"aaxis\": {\"gridcolor\": \"white\", \"linecolor\": \"white\", \"ticks\": \"\"}, \"baxis\": {\"gridcolor\": \"white\", \"linecolor\": \"white\", \"ticks\": \"\"}, \"bgcolor\": \"#E5ECF6\", \"caxis\": {\"gridcolor\": \"white\", \"linecolor\": \"white\", \"ticks\": \"\"}}, \"title\": {\"x\": 0.05}, \"xaxis\": {\"automargin\": true, \"gridcolor\": \"white\", \"linecolor\": \"white\", \"ticks\": \"\", \"title\": {\"standoff\": 15}, \"zerolinecolor\": \"white\", \"zerolinewidth\": 2}, \"yaxis\": {\"automargin\": true, \"gridcolor\": \"white\", \"linecolor\": \"white\", \"ticks\": \"\", \"title\": {\"standoff\": 15}, \"zerolinecolor\": \"white\", \"zerolinewidth\": 2}}}, \"width\": 850, \"xaxis\": {\"gridcolor\": \"lightgrey\", \"gridwidth\": 1, \"linecolor\": \"black\", \"linewidth\": 1, \"mirror\": true, \"range\": [0.07, 0.8], \"showline\": true, \"tickfont\": {\"color\": \"black\", \"family\": \"Times New Roman\", \"size\": 18}, \"ticks\": \"outside\", \"title\": {\"font\": {\"color\": \"black\", \"family\": \"Times New Roman\", \"size\": 25}, \"text\": \"\\u03c6<sub>s</sub>\"}}, \"yaxis\": {\"gridcolor\": \"lightgrey\", \"gridwidth\": 1, \"linecolor\": \"black\", \"linewidth\": 1, \"mirror\": true, \"showline\": true, \"tickfont\": {\"color\": \"black\", \"family\": \"Times New Roman\", \"size\": 18}, \"ticks\": \"outside\", \"title\": {\"font\": {\"color\": \"black\", \"family\": \"Times New Roman\", \"size\": 25}, \"text\": \"E\"}, \"type\": \"log\"}},                        {\"responsive\": true}                    ).then(function(){\n",
       "                            \n",
       "var gd = document.getElementById('e89ddf35-27e0-4879-b87b-9b8d96273959');\n",
       "var x = new MutationObserver(function (mutations, observer) {{\n",
       "        var display = window.getComputedStyle(gd).display;\n",
       "        if (!display || display === 'none') {{\n",
       "            console.log([gd, 'removed!']);\n",
       "            Plotly.purge(gd);\n",
       "            observer.disconnect();\n",
       "        }}\n",
       "}});\n",
       "\n",
       "// Listen for the removal of the full notebook cells\n",
       "var notebookContainer = gd.closest('#notebook-container');\n",
       "if (notebookContainer) {{\n",
       "    x.observe(notebookContainer, {childList: true});\n",
       "}}\n",
       "\n",
       "// Listen for the clearing of the current output cell\n",
       "var outputEl = gd.closest('.output');\n",
       "if (outputEl) {{\n",
       "    x.observe(outputEl, {childList: true});\n",
       "}}\n",
       "\n",
       "                        })                };                });            </script>        </div>"
      ]
     },
     "metadata": {},
     "output_type": "display_data"
    },
    {
     "name": "stdout",
     "output_type": "stream",
     "text": [
      "Successfully generated: /Users/weugene//basilisk/work/cylinders_penalization/comparison_BP_Pt_EB/res10/logError_vs_phi_for_diff_eta_l=8-11.pdf\n"
     ]
    }
   ],
   "source": [
    "#Parameters\n",
    "lev = 10\n",
    "# etas = [1e-15, 1e-06, 0.0001, 0.001]\n",
    "etas = [ 1e-03, 1e-4, 1e-05, 1e-06, 1e-15 ]\n",
    "levels = [8,9,10,11]\n",
    "\n",
    "# Plotly for Pandas\n",
    "# pd.options.plotting.backend = \"plotly\"\n",
    "### STYLE\n",
    "yaxis = dict(\n",
    "              tickfont = dict(\n",
    "              family = 'Times New Roman',\n",
    "              size = 20,\n",
    "              color = 'black'\n",
    "              ),\n",
    "              titlefont = dict(\n",
    "                  family = 'Times New Roman',\n",
    "                  size = 25,\n",
    "                  color = 'black'\n",
    "              ),\n",
    "          )\n",
    "xaxis = dict(\n",
    "              tickfont = dict(\n",
    "                  family = 'Times New Roman',\n",
    "                  size = 20,\n",
    "                  color = 'black'\n",
    "              ),\n",
    "              titlefont = dict(\n",
    "                  family = 'Times New Roman',\n",
    "                  size = 25,\n",
    "                  color = 'black'\n",
    "              )\n",
    "          )\n",
    "axis_style = dict(showline=True, gridwidth=1, gridcolor='lightgrey', linewidth=1, linecolor='black', mirror=True, ticks='outside',\n",
    "                 tickfont = dict(family = 'Times New Roman', size = 18, color = 'black'))\n",
    "bg_style = {'plot_bgcolor': 'rgba(255, 255, 255, 1)', 'paper_bgcolor': 'rgba(255, 255, 255, 1)',}\n",
    "col =   ['blue',           'red',        'hsv(120,100,100)',       'black', 'magenta', 'goldenrod' ]\n",
    "lines = ['solid', 'dot', 'dash', 'longdash', \"dashdot\", \"longdashdot\"]\n",
    "mst = ['circle', 'triangle-up', 'triangle-down','square', 'diamond', 'cross',  'x-thin', 'cross-thin' ]\n",
    "mst = ['circle-open', 'triangle-up-open', 'triangle-down-open', 'square-open', 'diamond-open', 'cross-open', 'x-thin-open', 'cross-thin-open' ]\n",
    "### END of STYLE\n",
    "# m = []\n",
    "# for i,et in enumerate(eta):\n",
    "#     print(int(np.sqrt(et)*2**lev))\n",
    "#     m.append(max(5,int(np.sqrt(et)*2**lev)))\n",
    "    \n",
    "    \n",
    "fig = go.Figure()\n",
    "for j,lev in enumerate(levels):\n",
    "    for i,et in enumerate(etas):\n",
    "        m = min(np.round(np.sqrt(et)*2**lev, 2), 5)\n",
    "        if m == 5:\n",
    "            nm = '≥ ' + str(m)\n",
    "        else:\n",
    "            nm = '= ' + str(m)\n",
    "        print(m)\n",
    "        pw=np.log10(et)\n",
    "#         fig.add_trace(go.Scatter(x=phi, y=df[lev][et].values, name=u\"\\u03B7=10<sup>\" + str(int(pw))+'</sup>, J<sub>max</sub>='+str(lev)+', m ' + nm,\n",
    "        fig.add_trace(go.Scatter(x=phi, y=df[lev][et].values, name='J<sub>max</sub>='+str(lev)+u\" \\u03B7=10<sup>\" + str(int(pw))+'</sup>, m' + nm,\n",
    "\n",
    "                             mode='lines+markers',\n",
    "                             marker = dict(\n",
    "                                     size = 15,\n",
    "                                     line = dict(\n",
    "                                      color = 'rgb(0, 0, 250)',\n",
    "                                      width = 1\n",
    "                                      )\n",
    "                                 ),\n",
    "                             marker_symbol = mst[int(m)],\n",
    "                             line=dict(width=2, dash = lines[i], color = col[j]\n",
    "                                      ),\n",
    "                             textfont=dict(\n",
    "                                family=\"Times New Roman\",\n",
    "                                size=18,\n",
    "                                color=\"LightSeaGreen\")\n",
    "                             ))\n",
    "\n",
    "    \n",
    "fig.update_layout(\n",
    "    width = 1000,\n",
    "    height = 500,\n",
    "    xaxis_title=u'\\u03c6<sub>s</sub>',\n",
    "    yaxis_title='E',\n",
    "    yaxis = yaxis,\n",
    "    xaxis = xaxis\n",
    ")\n",
    "fig.update_layout(bg_style)\n",
    "fig.update_xaxes(axis_style)\n",
    "fig.update_yaxes(axis_style)\n",
    "fig.update_layout( yaxis_type = \"log\" )\n",
    "# fig.update_yaxes(range=[-5,0])\n",
    "fig.update_xaxes(range=[0.07,0.8])\n",
    "fig.update_layout(showlegend=True)\n",
    "fig.update_layout(legend = dict(font = dict(family = \"Times New Roman\", size = 20, color = \"black\")),\n",
    "                  legend_title = dict(font = dict(family = \"Times New Roman\", size = 20, color = \"black\")))\n",
    "\n",
    "\n",
    "# fig.update_layout(legend_title_text=u\"          \\u03B7\")\n",
    "fig.update_layout(\n",
    "    autosize=False,\n",
    "    width=850,\n",
    "    height=600,\n",
    "    margin=dict(\n",
    "        l=1,\n",
    "        r=1,\n",
    "        b=1,\n",
    "        t=1,\n",
    "        pad=4\n",
    "    ),\n",
    "#     paper_bgcolor=\"LightSteelBlue\"\n",
    ")\n",
    "fig.update_layout(legend=dict(\n",
    "    font = dict(family = \"Times New Roman\", size = 18, color = \"black\"),\n",
    "    yanchor=\"bottom\",\n",
    "    y=0,\n",
    "    xanchor=\"left\",\n",
    "    x=1.009,\n",
    "    bordercolor=\"Black\",\n",
    "    borderwidth=0\n",
    "))\n",
    "if True:\n",
    "    fn = rpath + 'logError_vs_phi_for_diff_eta_l=8-11.pdf'\n",
    "    iplot(fig)\n",
    "    pio.write_image(fig, str(Path(fn)))\n",
    "    print(\"Successfully generated:\", fn)"
   ]
  },
  {
   "cell_type": "markdown",
   "metadata": {},
   "source": [
    "# Fixed level=9, different eta"
   ]
  },
  {
   "cell_type": "code",
   "execution_count": 21,
   "metadata": {},
   "outputs": [],
   "source": [
    "# #Parameters\n",
    "# lev = 10\n",
    "# # etas = [1e-15, 1e-06, 0.0001, 0.001]\n",
    "# etas = [ 1e-03, 1e-4, 1e-05, 1e-06, 1e-15 ]\n",
    "# levels = [9]\n",
    "\n",
    "# # Plotly for Pandas\n",
    "# # pd.options.plotting.backend = \"plotly\"\n",
    "# ### STYLE\n",
    "# yaxis = dict(\n",
    "#               tickfont = dict(\n",
    "#               family = 'Times New Roman',\n",
    "#               size = 20,\n",
    "#               color = 'black'\n",
    "#               ),\n",
    "#               titlefont = dict(\n",
    "#                   family = 'Times New Roman',\n",
    "#                   size = 25,\n",
    "#                   color = 'black'\n",
    "#               ),\n",
    "#           )\n",
    "# xaxis = dict(\n",
    "#               tickfont = dict(\n",
    "#                   family = 'Times New Roman',\n",
    "#                   size = 20,\n",
    "#                   color = 'black'\n",
    "#               ),\n",
    "#               titlefont = dict(\n",
    "#                   family = 'Times New Roman',\n",
    "#                   size = 25,\n",
    "#                   color = 'black'\n",
    "#               )\n",
    "#           )\n",
    "# axis_style = dict(showline=True, gridwidth=1, gridcolor='lightgrey', linewidth=1, linecolor='black', mirror=True, ticks='outside',\n",
    "#                  tickfont = dict(family = 'Times New Roman', size = 18, color = 'black'))\n",
    "# bg_style = {'plot_bgcolor': 'rgba(255, 255, 255, 1)', 'paper_bgcolor': 'rgba(255, 255, 255, 1)',}\n",
    "# col =   ['blue',           'red',        'hsv(120,100,100)',       'black', 'magenta', 'goldenrod' ]\n",
    "# lines = ['solid', 'dot', 'dash', 'longdash', \"dashdot\", \"longdashdot\"]\n",
    "# mst = ['circle', 'triangle-up', 'triangle-down','square', 'diamond', 'cross',  'x-thin', 'cross-thin' ]\n",
    "# mst = ['circle-open', 'triangle-up-open', 'triangle-down-open', 'square-open', 'diamond-open', 'cross-open', 'x-thin-open', 'cross-thin-open' ]\n",
    "# ### END of STYLE\n",
    "# # m = []\n",
    "# # for i,et in enumerate(eta):\n",
    "# #     print(int(np.sqrt(et)*2**lev))\n",
    "# #     m.append(max(5,int(np.sqrt(et)*2**lev)))\n",
    "    \n",
    "    \n",
    "# fig = go.Figure()\n",
    "# for j,lev in enumerate(levels):\n",
    "#     for i,et in enumerate(etas):\n",
    "#         m = min(np.round(np.sqrt(et)*2**lev,2), 5)\n",
    "#         if m == 5:\n",
    "#             nm = '≥ ' + str(m)\n",
    "#         else:\n",
    "#             nm = '= ' + str(m)\n",
    "#         print(m)\n",
    "#         pw=np.log10(et)\n",
    "# #         fig.add_trace(go.Scatter(x=phi, y=df[lev][et].values, name=u\"\\u03B7=10<sup>\" + str(int(pw))+'</sup>, J<sub>max</sub>='+str(lev)+', m ' + nm,\n",
    "#         fig.add_trace(go.Scatter(x=phi, y=df[lev][et].values, name=u\" \\u03B7=10<sup>\" + str(int(pw))+'</sup>, m' + nm,\n",
    "\n",
    "#                              mode='lines+markers',\n",
    "#                              marker = dict(\n",
    "#                                      size = 8\n",
    "#                                  ),\n",
    "#                              marker_symbol = 'circle',\n",
    "#                              line=dict(width=2, dash = 'solid', color = col[i]#col[j]\n",
    "#                                       ),\n",
    "#                              textfont=dict(\n",
    "#                                 family=\"Times New Roman\",\n",
    "#                                 size=18,\n",
    "#                                 color=\"LightSeaGreen\")\n",
    "#                              ))\n",
    "\n",
    "    \n",
    "# fig.update_layout(\n",
    "#     width = 1000,\n",
    "#     height = 500,\n",
    "#     xaxis_title=u'\\u03c6<sub>s</sub>',\n",
    "#     yaxis_title='E',\n",
    "#     yaxis = yaxis,\n",
    "#     xaxis = xaxis\n",
    "# )\n",
    "# fig.update_layout(bg_style)\n",
    "# fig.update_xaxes(axis_style)\n",
    "# fig.update_yaxes(axis_style)\n",
    "# fig.update_layout( yaxis_type = \"log\" )\n",
    "# # fig.update_yaxes(range=[-5,0])\n",
    "# fig.update_xaxes(range=[0.07,0.8])\n",
    "# fig.update_layout(showlegend=True)\n",
    "# fig.update_layout(legend = dict(font = dict(family = \"Times New Roman\", size = 20, color = \"black\")),\n",
    "#                   legend_title = dict(font = dict(family = \"Times New Roman\", size = 20, color = \"black\")))\n",
    "\n",
    "\n",
    "# # fig.update_layout(legend_title_text=u\"          \\u03B7\")\n",
    "# fig.update_layout(\n",
    "#     autosize=False,\n",
    "#     width=850,\n",
    "#     height=600,\n",
    "# #     margin=dict(\n",
    "# #         l=1,\n",
    "# #         r=1,\n",
    "# #         b=1,\n",
    "# #         t=1,\n",
    "# #         pad=4\n",
    "# #     ),\n",
    "# #     paper_bgcolor=\"LightSteelBlue\"\n",
    "# )\n",
    "# fig.update_layout(\n",
    "#         legend=dict(\n",
    "#         yanchor=yanchor,\n",
    "#         y=y0_anchor,\n",
    "#         xanchor=xanchor,\n",
    "#         x=x0_anchor,\n",
    "#             borderwidth=legborderlinesize\n",
    "#     ))\n",
    "#     fig.update_layout(\n",
    "#         font=dict(\n",
    "#             family=\"Times New Roman\",\n",
    "#             size=20\n",
    "#         )\n",
    "#     )\n",
    "    \n",
    "# fig.update_layout(legend=dict(\n",
    "#     font = dict(family = \"Times New Roman\", size = 18, color = \"black\"),\n",
    "#     yanchor=\"bottom\",\n",
    "#     y=0,\n",
    "#     xanchor=\"left\",\n",
    "#     x=1.009,\n",
    "#     bordercolor=\"Black\",\n",
    "#     borderwidth=0\n",
    "# ))\n",
    "# if True:\n",
    "#     fn = rpath + 'logError_vs_phi_for_diff_eta_l=8-11.pdf'\n",
    "#     iplot(fig)\n",
    "#     pio.write_image(fig, str(Path(fn)))\n",
    "#     print(\"Successfully generated:\", fn)\n",
    "\n",
    "\n"
   ]
  },
  {
   "cell_type": "code",
   "execution_count": 28,
   "metadata": {},
   "outputs": [
    {
     "name": "stderr",
     "output_type": "stream",
     "text": [
      "/Users/weugene/anaconda3/lib/python3.7/site-packages/ipykernel_launcher.py:17: DeprecationWarning:\n",
      "\n",
      "`np.int` is a deprecated alias for the builtin `int`. To silence this warning, use `int` by itself. Doing this will not modify any behavior and is safe. When replacing `np.int`, you may wish to use e.g. `np.int64` or `np.int32` to specify the precision. If you wish to review your current use, check the release note link for additional information.\n",
      "Deprecated in NumPy 1.20; for more details and guidance: https://numpy.org/devdocs/release/1.20.0-notes.html#deprecations\n",
      "\n"
     ]
    },
    {
     "data": {
      "application/vnd.plotly.v1+json": {
       "config": {
        "plotlyServerURL": "https://plot.ly"
       },
       "data": [
        {
         "line": {
          "color": "blue",
          "dash": "solid",
          "width": 3
         },
         "marker": {
          "line": {
           "color": "blue",
           "width": 1
          },
          "size": 15,
          "symbol": "circle"
         },
         "mode": "lines+markers",
         "name": " η=10<sup>-3</sup>, m≥ 5",
         "textfont": {
          "color": "LightSeaGreen",
          "family": "Times New Roman",
          "size": 20
         },
         "type": "scatter",
         "x": [
          0.05,
          0.1,
          0.2,
          0.3,
          0.4,
          0.5,
          0.6,
          0.7,
          0.75
         ],
         "y": [
          0.100694087403599,
          0.09383809907370111,
          0.10792742091985255,
          0.14009135082604474,
          0.203327367020056,
          0.3151309736175007,
          0.5386834940442428,
          0.8688683431952663,
          0.9806194774346794
         ]
        },
        {
         "line": {
          "color": "red",
          "dash": "solid",
          "width": 3
         },
         "marker": {
          "line": {
           "color": "red",
           "width": 1
          },
          "size": 15,
          "symbol": "circle"
         },
         "mode": "lines+markers",
         "name": " η=10<sup>-4</sup>, m≥ 5",
         "textfont": {
          "color": "LightSeaGreen",
          "family": "Times New Roman",
          "size": 20
         },
         "type": "scatter",
         "x": [
          0.05,
          0.1,
          0.2,
          0.3,
          0.4,
          0.5,
          0.6,
          0.7,
          0.75
         ],
         "y": [
          0.028399742930591283,
          0.03213451469995967,
          0.04039006404036481,
          0.04791836734693882,
          0.0743219055486713,
          0.10663224110412164,
          0.2082926829268293,
          0.5687707100591716,
          0.9099627870150435
         ]
        },
        {
         "line": {
          "color": "hsv(120,100,100)",
          "dash": "solid",
          "width": 3
         },
         "marker": {
          "line": {
           "color": "hsv(120,100,100)",
           "width": 1
          },
          "size": 15,
          "symbol": "circle"
         },
         "mode": "lines+markers",
         "name": " η=10<sup>-5</sup>, m= 1.6",
         "textfont": {
          "color": "LightSeaGreen",
          "family": "Times New Roman",
          "size": 20
         },
         "type": "scatter",
         "x": [
          0.05,
          0.1,
          0.2,
          0.3,
          0.4,
          0.5,
          0.6,
          0.7,
          0.75
         ],
         "y": [
          0.013971722365038648,
          0.017660088602496887,
          0.024655540461866843,
          0.02699708454810501,
          0.04362292900087198,
          0.05310487278189832,
          0.09139534883720936,
          0.2329068047337278,
          0.650132224861441
         ]
        },
        {
         "line": {
          "color": "green",
          "dash": "solid",
          "width": 3
         },
         "marker": {
          "line": {
           "color": "green",
           "width": 1
          },
          "size": 15,
          "symbol": "circle"
         },
         "mode": "lines+markers",
         "name": " η=10<sup>-6</sup>, m= 0.5",
         "textfont": {
          "color": "LightSeaGreen",
          "family": "Times New Roman",
          "size": 20
         },
         "type": "scatter",
         "x": [
          0.05,
          0.1,
          0.2,
          0.3,
          0.4,
          0.5,
          0.6,
          0.7,
          0.75
         ],
         "y": [
          0.004910025706940961,
          0.008385018123237937,
          0.013627013390258057,
          0.012886297376093368,
          0.025090642067098008,
          0.025477419960567054,
          0.07399319342030632,
          0.09420118343195269,
          0.3696302454473476
         ]
        },
        {
         "line": {
          "color": "black",
          "dash": "solid",
          "width": 3
         },
         "marker": {
          "line": {
           "color": "black",
           "width": 1
          },
          "size": 15,
          "symbol": "circle"
         },
         "mode": "lines+markers",
         "name": " η=10<sup>-15</sup>, m=10<sup>-4</sup>",
         "textfont": {
          "color": "LightSeaGreen",
          "family": "Times New Roman",
          "size": 20
         },
         "type": "scatter",
         "x": [
          0.05,
          0.1,
          0.2,
          0.3,
          0.4,
          0.5,
          0.6,
          0.7,
          0.75
         ],
         "y": [
          0.0035411311053984242,
          0.0003584373741440605,
          0.004215020376479687,
          0.001457725947521921,
          0.008963238331267954,
          0.006512064594873648,
          0.04842881452070341,
          0.03496301775147934,
          0.243646080760095
         ]
        }
       ],
       "layout": {
        "autosize": false,
        "font": {
         "family": "Times New Roman",
         "size": 20
        },
        "height": 500,
        "legend": {
         "bgcolor": "White",
         "bordercolor": "Black",
         "borderwidth": 0.1,
         "orientation": "v",
         "x": 0.99,
         "xanchor": "right",
         "y": 0.01,
         "yanchor": "bottom"
        },
        "margin": {
         "b": 0,
         "l": 0,
         "pad": 0.1,
         "r": 0,
         "t": 0
        },
        "paper_bgcolor": "rgba(255, 255, 255, 1)",
        "plot_bgcolor": "rgba(255, 255, 255, 1)",
        "showlegend": true,
        "template": {
         "data": {
          "bar": [
           {
            "error_x": {
             "color": "#2a3f5f"
            },
            "error_y": {
             "color": "#2a3f5f"
            },
            "marker": {
             "line": {
              "color": "#E5ECF6",
              "width": 0.5
             }
            },
            "type": "bar"
           }
          ],
          "barpolar": [
           {
            "marker": {
             "line": {
              "color": "#E5ECF6",
              "width": 0.5
             }
            },
            "type": "barpolar"
           }
          ],
          "carpet": [
           {
            "aaxis": {
             "endlinecolor": "#2a3f5f",
             "gridcolor": "white",
             "linecolor": "white",
             "minorgridcolor": "white",
             "startlinecolor": "#2a3f5f"
            },
            "baxis": {
             "endlinecolor": "#2a3f5f",
             "gridcolor": "white",
             "linecolor": "white",
             "minorgridcolor": "white",
             "startlinecolor": "#2a3f5f"
            },
            "type": "carpet"
           }
          ],
          "choropleth": [
           {
            "colorbar": {
             "outlinewidth": 0,
             "ticks": ""
            },
            "type": "choropleth"
           }
          ],
          "contour": [
           {
            "colorbar": {
             "outlinewidth": 0,
             "ticks": ""
            },
            "colorscale": [
             [
              0,
              "#0d0887"
             ],
             [
              0.1111111111111111,
              "#46039f"
             ],
             [
              0.2222222222222222,
              "#7201a8"
             ],
             [
              0.3333333333333333,
              "#9c179e"
             ],
             [
              0.4444444444444444,
              "#bd3786"
             ],
             [
              0.5555555555555556,
              "#d8576b"
             ],
             [
              0.6666666666666666,
              "#ed7953"
             ],
             [
              0.7777777777777778,
              "#fb9f3a"
             ],
             [
              0.8888888888888888,
              "#fdca26"
             ],
             [
              1,
              "#f0f921"
             ]
            ],
            "type": "contour"
           }
          ],
          "contourcarpet": [
           {
            "colorbar": {
             "outlinewidth": 0,
             "ticks": ""
            },
            "type": "contourcarpet"
           }
          ],
          "heatmap": [
           {
            "colorbar": {
             "outlinewidth": 0,
             "ticks": ""
            },
            "colorscale": [
             [
              0,
              "#0d0887"
             ],
             [
              0.1111111111111111,
              "#46039f"
             ],
             [
              0.2222222222222222,
              "#7201a8"
             ],
             [
              0.3333333333333333,
              "#9c179e"
             ],
             [
              0.4444444444444444,
              "#bd3786"
             ],
             [
              0.5555555555555556,
              "#d8576b"
             ],
             [
              0.6666666666666666,
              "#ed7953"
             ],
             [
              0.7777777777777778,
              "#fb9f3a"
             ],
             [
              0.8888888888888888,
              "#fdca26"
             ],
             [
              1,
              "#f0f921"
             ]
            ],
            "type": "heatmap"
           }
          ],
          "heatmapgl": [
           {
            "colorbar": {
             "outlinewidth": 0,
             "ticks": ""
            },
            "colorscale": [
             [
              0,
              "#0d0887"
             ],
             [
              0.1111111111111111,
              "#46039f"
             ],
             [
              0.2222222222222222,
              "#7201a8"
             ],
             [
              0.3333333333333333,
              "#9c179e"
             ],
             [
              0.4444444444444444,
              "#bd3786"
             ],
             [
              0.5555555555555556,
              "#d8576b"
             ],
             [
              0.6666666666666666,
              "#ed7953"
             ],
             [
              0.7777777777777778,
              "#fb9f3a"
             ],
             [
              0.8888888888888888,
              "#fdca26"
             ],
             [
              1,
              "#f0f921"
             ]
            ],
            "type": "heatmapgl"
           }
          ],
          "histogram": [
           {
            "marker": {
             "colorbar": {
              "outlinewidth": 0,
              "ticks": ""
             }
            },
            "type": "histogram"
           }
          ],
          "histogram2d": [
           {
            "colorbar": {
             "outlinewidth": 0,
             "ticks": ""
            },
            "colorscale": [
             [
              0,
              "#0d0887"
             ],
             [
              0.1111111111111111,
              "#46039f"
             ],
             [
              0.2222222222222222,
              "#7201a8"
             ],
             [
              0.3333333333333333,
              "#9c179e"
             ],
             [
              0.4444444444444444,
              "#bd3786"
             ],
             [
              0.5555555555555556,
              "#d8576b"
             ],
             [
              0.6666666666666666,
              "#ed7953"
             ],
             [
              0.7777777777777778,
              "#fb9f3a"
             ],
             [
              0.8888888888888888,
              "#fdca26"
             ],
             [
              1,
              "#f0f921"
             ]
            ],
            "type": "histogram2d"
           }
          ],
          "histogram2dcontour": [
           {
            "colorbar": {
             "outlinewidth": 0,
             "ticks": ""
            },
            "colorscale": [
             [
              0,
              "#0d0887"
             ],
             [
              0.1111111111111111,
              "#46039f"
             ],
             [
              0.2222222222222222,
              "#7201a8"
             ],
             [
              0.3333333333333333,
              "#9c179e"
             ],
             [
              0.4444444444444444,
              "#bd3786"
             ],
             [
              0.5555555555555556,
              "#d8576b"
             ],
             [
              0.6666666666666666,
              "#ed7953"
             ],
             [
              0.7777777777777778,
              "#fb9f3a"
             ],
             [
              0.8888888888888888,
              "#fdca26"
             ],
             [
              1,
              "#f0f921"
             ]
            ],
            "type": "histogram2dcontour"
           }
          ],
          "mesh3d": [
           {
            "colorbar": {
             "outlinewidth": 0,
             "ticks": ""
            },
            "type": "mesh3d"
           }
          ],
          "parcoords": [
           {
            "line": {
             "colorbar": {
              "outlinewidth": 0,
              "ticks": ""
             }
            },
            "type": "parcoords"
           }
          ],
          "pie": [
           {
            "automargin": true,
            "type": "pie"
           }
          ],
          "scatter": [
           {
            "marker": {
             "colorbar": {
              "outlinewidth": 0,
              "ticks": ""
             }
            },
            "type": "scatter"
           }
          ],
          "scatter3d": [
           {
            "line": {
             "colorbar": {
              "outlinewidth": 0,
              "ticks": ""
             }
            },
            "marker": {
             "colorbar": {
              "outlinewidth": 0,
              "ticks": ""
             }
            },
            "type": "scatter3d"
           }
          ],
          "scattercarpet": [
           {
            "marker": {
             "colorbar": {
              "outlinewidth": 0,
              "ticks": ""
             }
            },
            "type": "scattercarpet"
           }
          ],
          "scattergeo": [
           {
            "marker": {
             "colorbar": {
              "outlinewidth": 0,
              "ticks": ""
             }
            },
            "type": "scattergeo"
           }
          ],
          "scattergl": [
           {
            "marker": {
             "colorbar": {
              "outlinewidth": 0,
              "ticks": ""
             }
            },
            "type": "scattergl"
           }
          ],
          "scattermapbox": [
           {
            "marker": {
             "colorbar": {
              "outlinewidth": 0,
              "ticks": ""
             }
            },
            "type": "scattermapbox"
           }
          ],
          "scatterpolar": [
           {
            "marker": {
             "colorbar": {
              "outlinewidth": 0,
              "ticks": ""
             }
            },
            "type": "scatterpolar"
           }
          ],
          "scatterpolargl": [
           {
            "marker": {
             "colorbar": {
              "outlinewidth": 0,
              "ticks": ""
             }
            },
            "type": "scatterpolargl"
           }
          ],
          "scatterternary": [
           {
            "marker": {
             "colorbar": {
              "outlinewidth": 0,
              "ticks": ""
             }
            },
            "type": "scatterternary"
           }
          ],
          "surface": [
           {
            "colorbar": {
             "outlinewidth": 0,
             "ticks": ""
            },
            "colorscale": [
             [
              0,
              "#0d0887"
             ],
             [
              0.1111111111111111,
              "#46039f"
             ],
             [
              0.2222222222222222,
              "#7201a8"
             ],
             [
              0.3333333333333333,
              "#9c179e"
             ],
             [
              0.4444444444444444,
              "#bd3786"
             ],
             [
              0.5555555555555556,
              "#d8576b"
             ],
             [
              0.6666666666666666,
              "#ed7953"
             ],
             [
              0.7777777777777778,
              "#fb9f3a"
             ],
             [
              0.8888888888888888,
              "#fdca26"
             ],
             [
              1,
              "#f0f921"
             ]
            ],
            "type": "surface"
           }
          ],
          "table": [
           {
            "cells": {
             "fill": {
              "color": "#EBF0F8"
             },
             "line": {
              "color": "white"
             }
            },
            "header": {
             "fill": {
              "color": "#C8D4E3"
             },
             "line": {
              "color": "white"
             }
            },
            "type": "table"
           }
          ]
         },
         "layout": {
          "annotationdefaults": {
           "arrowcolor": "#2a3f5f",
           "arrowhead": 0,
           "arrowwidth": 1
          },
          "autotypenumbers": "strict",
          "coloraxis": {
           "colorbar": {
            "outlinewidth": 0,
            "ticks": ""
           }
          },
          "colorscale": {
           "diverging": [
            [
             0,
             "#8e0152"
            ],
            [
             0.1,
             "#c51b7d"
            ],
            [
             0.2,
             "#de77ae"
            ],
            [
             0.3,
             "#f1b6da"
            ],
            [
             0.4,
             "#fde0ef"
            ],
            [
             0.5,
             "#f7f7f7"
            ],
            [
             0.6,
             "#e6f5d0"
            ],
            [
             0.7,
             "#b8e186"
            ],
            [
             0.8,
             "#7fbc41"
            ],
            [
             0.9,
             "#4d9221"
            ],
            [
             1,
             "#276419"
            ]
           ],
           "sequential": [
            [
             0,
             "#0d0887"
            ],
            [
             0.1111111111111111,
             "#46039f"
            ],
            [
             0.2222222222222222,
             "#7201a8"
            ],
            [
             0.3333333333333333,
             "#9c179e"
            ],
            [
             0.4444444444444444,
             "#bd3786"
            ],
            [
             0.5555555555555556,
             "#d8576b"
            ],
            [
             0.6666666666666666,
             "#ed7953"
            ],
            [
             0.7777777777777778,
             "#fb9f3a"
            ],
            [
             0.8888888888888888,
             "#fdca26"
            ],
            [
             1,
             "#f0f921"
            ]
           ],
           "sequentialminus": [
            [
             0,
             "#0d0887"
            ],
            [
             0.1111111111111111,
             "#46039f"
            ],
            [
             0.2222222222222222,
             "#7201a8"
            ],
            [
             0.3333333333333333,
             "#9c179e"
            ],
            [
             0.4444444444444444,
             "#bd3786"
            ],
            [
             0.5555555555555556,
             "#d8576b"
            ],
            [
             0.6666666666666666,
             "#ed7953"
            ],
            [
             0.7777777777777778,
             "#fb9f3a"
            ],
            [
             0.8888888888888888,
             "#fdca26"
            ],
            [
             1,
             "#f0f921"
            ]
           ]
          },
          "colorway": [
           "#636efa",
           "#EF553B",
           "#00cc96",
           "#ab63fa",
           "#FFA15A",
           "#19d3f3",
           "#FF6692",
           "#B6E880",
           "#FF97FF",
           "#FECB52"
          ],
          "font": {
           "color": "#2a3f5f"
          },
          "geo": {
           "bgcolor": "white",
           "lakecolor": "white",
           "landcolor": "#E5ECF6",
           "showlakes": true,
           "showland": true,
           "subunitcolor": "white"
          },
          "hoverlabel": {
           "align": "left"
          },
          "hovermode": "closest",
          "mapbox": {
           "style": "light"
          },
          "paper_bgcolor": "white",
          "plot_bgcolor": "#E5ECF6",
          "polar": {
           "angularaxis": {
            "gridcolor": "white",
            "linecolor": "white",
            "ticks": ""
           },
           "bgcolor": "#E5ECF6",
           "radialaxis": {
            "gridcolor": "white",
            "linecolor": "white",
            "ticks": ""
           }
          },
          "scene": {
           "xaxis": {
            "backgroundcolor": "#E5ECF6",
            "gridcolor": "white",
            "gridwidth": 2,
            "linecolor": "white",
            "showbackground": true,
            "ticks": "",
            "zerolinecolor": "white"
           },
           "yaxis": {
            "backgroundcolor": "#E5ECF6",
            "gridcolor": "white",
            "gridwidth": 2,
            "linecolor": "white",
            "showbackground": true,
            "ticks": "",
            "zerolinecolor": "white"
           },
           "zaxis": {
            "backgroundcolor": "#E5ECF6",
            "gridcolor": "white",
            "gridwidth": 2,
            "linecolor": "white",
            "showbackground": true,
            "ticks": "",
            "zerolinecolor": "white"
           }
          },
          "shapedefaults": {
           "line": {
            "color": "#2a3f5f"
           }
          },
          "ternary": {
           "aaxis": {
            "gridcolor": "white",
            "linecolor": "white",
            "ticks": ""
           },
           "baxis": {
            "gridcolor": "white",
            "linecolor": "white",
            "ticks": ""
           },
           "bgcolor": "#E5ECF6",
           "caxis": {
            "gridcolor": "white",
            "linecolor": "white",
            "ticks": ""
           }
          },
          "title": {
           "x": 0.05
          },
          "xaxis": {
           "automargin": true,
           "gridcolor": "white",
           "linecolor": "white",
           "ticks": "",
           "title": {
            "standoff": 15
           },
           "zerolinecolor": "white",
           "zerolinewidth": 2
          },
          "yaxis": {
           "automargin": true,
           "gridcolor": "white",
           "linecolor": "white",
           "ticks": "",
           "title": {
            "standoff": 15
           },
           "zerolinecolor": "white",
           "zerolinewidth": 2
          }
         }
        },
        "width": 1000,
        "xaxis": {
         "automargin": true,
         "gridcolor": "lightgrey",
         "gridwidth": 1,
         "linecolor": "black",
         "linewidth": 0.7,
         "mirror": true,
         "range": [
          [
           0.05,
           0.05,
           0.05,
           0.05,
           0.05
          ],
          [
           0.75,
           0.75,
           0.75,
           0.75,
           0.75
          ]
         ],
         "showline": true,
         "side": "bottom",
         "tickangle": 0,
         "tickfont": {
          "color": "black",
          "family": "Times New Roman",
          "size": 20
         },
         "ticks": "outside",
         "title": {
          "font": {
           "color": "black",
           "family": "Times New Roman",
           "size": 25
          },
          "text": "φ<sub>s</sub>"
         }
        },
        "yaxis": {
         "automargin": true,
         "gridcolor": "lightgrey",
         "gridwidth": 1,
         "linecolor": "black",
         "linewidth": 0.7,
         "mirror": true,
         "range": [
          -3.7,
          0.3
         ],
         "showline": true,
         "side": "left",
         "tickangle": 0,
         "tickfont": {
          "color": "black",
          "family": "Times New Roman",
          "size": 20
         },
         "ticks": "outside",
         "title": {
          "font": {
           "color": "black",
           "family": "Times New Roman",
           "size": 25
          },
          "text": "E"
         },
         "type": "log"
        }
       }
      },
      "text/html": [
       "<div>                            <div id=\"e78fe33c-a78d-4fdb-b4ad-c2e35cc26818\" class=\"plotly-graph-div\" style=\"height:500px; width:1000px;\"></div>            <script type=\"text/javascript\">                require([\"plotly\"], function(Plotly) {                    window.PLOTLYENV=window.PLOTLYENV || {};                                    if (document.getElementById(\"e78fe33c-a78d-4fdb-b4ad-c2e35cc26818\")) {                    Plotly.newPlot(                        \"e78fe33c-a78d-4fdb-b4ad-c2e35cc26818\",                        [{\"line\": {\"color\": \"blue\", \"dash\": \"solid\", \"width\": 3}, \"marker\": {\"line\": {\"color\": \"blue\", \"width\": 1}, \"size\": 15, \"symbol\": \"circle\"}, \"mode\": \"lines+markers\", \"name\": \" \\u03b7=10<sup>-3</sup>, m\\u2265 5\", \"textfont\": {\"color\": \"LightSeaGreen\", \"family\": \"Times New Roman\", \"size\": 20}, \"type\": \"scatter\", \"x\": [0.05, 0.1, 0.2, 0.3, 0.4, 0.5, 0.6, 0.7, 0.75], \"y\": [0.100694087403599, 0.09383809907370111, 0.10792742091985255, 0.14009135082604474, 0.203327367020056, 0.3151309736175007, 0.5386834940442428, 0.8688683431952663, 0.9806194774346794]}, {\"line\": {\"color\": \"red\", \"dash\": \"solid\", \"width\": 3}, \"marker\": {\"line\": {\"color\": \"red\", \"width\": 1}, \"size\": 15, \"symbol\": \"circle\"}, \"mode\": \"lines+markers\", \"name\": \" \\u03b7=10<sup>-4</sup>, m\\u2265 5\", \"textfont\": {\"color\": \"LightSeaGreen\", \"family\": \"Times New Roman\", \"size\": 20}, \"type\": \"scatter\", \"x\": [0.05, 0.1, 0.2, 0.3, 0.4, 0.5, 0.6, 0.7, 0.75], \"y\": [0.028399742930591283, 0.03213451469995967, 0.04039006404036481, 0.04791836734693882, 0.0743219055486713, 0.10663224110412164, 0.2082926829268293, 0.5687707100591716, 0.9099627870150435]}, {\"line\": {\"color\": \"hsv(120,100,100)\", \"dash\": \"solid\", \"width\": 3}, \"marker\": {\"line\": {\"color\": \"hsv(120,100,100)\", \"width\": 1}, \"size\": 15, \"symbol\": \"circle\"}, \"mode\": \"lines+markers\", \"name\": \" \\u03b7=10<sup>-5</sup>, m= 1.6\", \"textfont\": {\"color\": \"LightSeaGreen\", \"family\": \"Times New Roman\", \"size\": 20}, \"type\": \"scatter\", \"x\": [0.05, 0.1, 0.2, 0.3, 0.4, 0.5, 0.6, 0.7, 0.75], \"y\": [0.013971722365038648, 0.017660088602496887, 0.024655540461866843, 0.02699708454810501, 0.04362292900087198, 0.05310487278189832, 0.09139534883720936, 0.2329068047337278, 0.650132224861441]}, {\"line\": {\"color\": \"green\", \"dash\": \"solid\", \"width\": 3}, \"marker\": {\"line\": {\"color\": \"green\", \"width\": 1}, \"size\": 15, \"symbol\": \"circle\"}, \"mode\": \"lines+markers\", \"name\": \" \\u03b7=10<sup>-6</sup>, m= 0.5\", \"textfont\": {\"color\": \"LightSeaGreen\", \"family\": \"Times New Roman\", \"size\": 20}, \"type\": \"scatter\", \"x\": [0.05, 0.1, 0.2, 0.3, 0.4, 0.5, 0.6, 0.7, 0.75], \"y\": [0.004910025706940961, 0.008385018123237937, 0.013627013390258057, 0.012886297376093368, 0.025090642067098008, 0.025477419960567054, 0.07399319342030632, 0.09420118343195269, 0.3696302454473476]}, {\"line\": {\"color\": \"black\", \"dash\": \"solid\", \"width\": 3}, \"marker\": {\"line\": {\"color\": \"black\", \"width\": 1}, \"size\": 15, \"symbol\": \"circle\"}, \"mode\": \"lines+markers\", \"name\": \" \\u03b7=10<sup>-15</sup>, m=10<sup>-4</sup>\", \"textfont\": {\"color\": \"LightSeaGreen\", \"family\": \"Times New Roman\", \"size\": 20}, \"type\": \"scatter\", \"x\": [0.05, 0.1, 0.2, 0.3, 0.4, 0.5, 0.6, 0.7, 0.75], \"y\": [0.0035411311053984242, 0.0003584373741440605, 0.004215020376479687, 0.001457725947521921, 0.008963238331267954, 0.006512064594873648, 0.04842881452070341, 0.03496301775147934, 0.243646080760095]}],                        {\"autosize\": false, \"font\": {\"family\": \"Times New Roman\", \"size\": 20}, \"height\": 500, \"legend\": {\"bgcolor\": \"White\", \"bordercolor\": \"Black\", \"borderwidth\": 0.1, \"orientation\": \"v\", \"x\": 0.99, \"xanchor\": \"right\", \"y\": 0.01, \"yanchor\": \"bottom\"}, \"margin\": {\"b\": 0, \"l\": 0, \"pad\": 0.1, \"r\": 0, \"t\": 0}, \"paper_bgcolor\": \"rgba(255, 255, 255, 1)\", \"plot_bgcolor\": \"rgba(255, 255, 255, 1)\", \"showlegend\": true, \"template\": {\"data\": {\"bar\": [{\"error_x\": {\"color\": \"#2a3f5f\"}, \"error_y\": {\"color\": \"#2a3f5f\"}, \"marker\": {\"line\": {\"color\": \"#E5ECF6\", \"width\": 0.5}}, \"type\": \"bar\"}], \"barpolar\": [{\"marker\": {\"line\": {\"color\": \"#E5ECF6\", \"width\": 0.5}}, \"type\": \"barpolar\"}], \"carpet\": [{\"aaxis\": {\"endlinecolor\": \"#2a3f5f\", \"gridcolor\": \"white\", \"linecolor\": \"white\", \"minorgridcolor\": \"white\", \"startlinecolor\": \"#2a3f5f\"}, \"baxis\": {\"endlinecolor\": \"#2a3f5f\", \"gridcolor\": \"white\", \"linecolor\": \"white\", \"minorgridcolor\": \"white\", \"startlinecolor\": \"#2a3f5f\"}, \"type\": \"carpet\"}], \"choropleth\": [{\"colorbar\": {\"outlinewidth\": 0, \"ticks\": \"\"}, \"type\": \"choropleth\"}], \"contour\": [{\"colorbar\": {\"outlinewidth\": 0, \"ticks\": \"\"}, \"colorscale\": [[0.0, \"#0d0887\"], [0.1111111111111111, \"#46039f\"], [0.2222222222222222, \"#7201a8\"], [0.3333333333333333, \"#9c179e\"], [0.4444444444444444, \"#bd3786\"], [0.5555555555555556, \"#d8576b\"], [0.6666666666666666, \"#ed7953\"], [0.7777777777777778, \"#fb9f3a\"], [0.8888888888888888, \"#fdca26\"], [1.0, \"#f0f921\"]], \"type\": \"contour\"}], \"contourcarpet\": [{\"colorbar\": {\"outlinewidth\": 0, \"ticks\": \"\"}, \"type\": \"contourcarpet\"}], \"heatmap\": [{\"colorbar\": {\"outlinewidth\": 0, \"ticks\": \"\"}, \"colorscale\": [[0.0, \"#0d0887\"], [0.1111111111111111, \"#46039f\"], [0.2222222222222222, \"#7201a8\"], [0.3333333333333333, \"#9c179e\"], [0.4444444444444444, \"#bd3786\"], [0.5555555555555556, \"#d8576b\"], [0.6666666666666666, \"#ed7953\"], [0.7777777777777778, \"#fb9f3a\"], [0.8888888888888888, \"#fdca26\"], [1.0, \"#f0f921\"]], \"type\": \"heatmap\"}], \"heatmapgl\": [{\"colorbar\": {\"outlinewidth\": 0, \"ticks\": \"\"}, \"colorscale\": [[0.0, \"#0d0887\"], [0.1111111111111111, \"#46039f\"], [0.2222222222222222, \"#7201a8\"], [0.3333333333333333, \"#9c179e\"], [0.4444444444444444, \"#bd3786\"], [0.5555555555555556, \"#d8576b\"], [0.6666666666666666, \"#ed7953\"], [0.7777777777777778, \"#fb9f3a\"], [0.8888888888888888, \"#fdca26\"], [1.0, \"#f0f921\"]], \"type\": \"heatmapgl\"}], \"histogram\": [{\"marker\": {\"colorbar\": {\"outlinewidth\": 0, \"ticks\": \"\"}}, \"type\": \"histogram\"}], \"histogram2d\": [{\"colorbar\": {\"outlinewidth\": 0, \"ticks\": \"\"}, \"colorscale\": [[0.0, \"#0d0887\"], [0.1111111111111111, \"#46039f\"], [0.2222222222222222, \"#7201a8\"], [0.3333333333333333, \"#9c179e\"], [0.4444444444444444, \"#bd3786\"], [0.5555555555555556, \"#d8576b\"], [0.6666666666666666, \"#ed7953\"], [0.7777777777777778, \"#fb9f3a\"], [0.8888888888888888, \"#fdca26\"], [1.0, \"#f0f921\"]], \"type\": \"histogram2d\"}], \"histogram2dcontour\": [{\"colorbar\": {\"outlinewidth\": 0, \"ticks\": \"\"}, \"colorscale\": [[0.0, \"#0d0887\"], [0.1111111111111111, \"#46039f\"], [0.2222222222222222, \"#7201a8\"], [0.3333333333333333, \"#9c179e\"], [0.4444444444444444, \"#bd3786\"], [0.5555555555555556, \"#d8576b\"], [0.6666666666666666, \"#ed7953\"], [0.7777777777777778, \"#fb9f3a\"], [0.8888888888888888, \"#fdca26\"], [1.0, \"#f0f921\"]], \"type\": \"histogram2dcontour\"}], \"mesh3d\": [{\"colorbar\": {\"outlinewidth\": 0, \"ticks\": \"\"}, \"type\": \"mesh3d\"}], \"parcoords\": [{\"line\": {\"colorbar\": {\"outlinewidth\": 0, \"ticks\": \"\"}}, \"type\": \"parcoords\"}], \"pie\": [{\"automargin\": true, \"type\": \"pie\"}], \"scatter\": [{\"marker\": {\"colorbar\": {\"outlinewidth\": 0, \"ticks\": \"\"}}, \"type\": \"scatter\"}], \"scatter3d\": [{\"line\": {\"colorbar\": {\"outlinewidth\": 0, \"ticks\": \"\"}}, \"marker\": {\"colorbar\": {\"outlinewidth\": 0, \"ticks\": \"\"}}, \"type\": \"scatter3d\"}], \"scattercarpet\": [{\"marker\": {\"colorbar\": {\"outlinewidth\": 0, \"ticks\": \"\"}}, \"type\": \"scattercarpet\"}], \"scattergeo\": [{\"marker\": {\"colorbar\": {\"outlinewidth\": 0, \"ticks\": \"\"}}, \"type\": \"scattergeo\"}], \"scattergl\": [{\"marker\": {\"colorbar\": {\"outlinewidth\": 0, \"ticks\": \"\"}}, \"type\": \"scattergl\"}], \"scattermapbox\": [{\"marker\": {\"colorbar\": {\"outlinewidth\": 0, \"ticks\": \"\"}}, \"type\": \"scattermapbox\"}], \"scatterpolar\": [{\"marker\": {\"colorbar\": {\"outlinewidth\": 0, \"ticks\": \"\"}}, \"type\": \"scatterpolar\"}], \"scatterpolargl\": [{\"marker\": {\"colorbar\": {\"outlinewidth\": 0, \"ticks\": \"\"}}, \"type\": \"scatterpolargl\"}], \"scatterternary\": [{\"marker\": {\"colorbar\": {\"outlinewidth\": 0, \"ticks\": \"\"}}, \"type\": \"scatterternary\"}], \"surface\": [{\"colorbar\": {\"outlinewidth\": 0, \"ticks\": \"\"}, \"colorscale\": [[0.0, \"#0d0887\"], [0.1111111111111111, \"#46039f\"], [0.2222222222222222, \"#7201a8\"], [0.3333333333333333, \"#9c179e\"], [0.4444444444444444, \"#bd3786\"], [0.5555555555555556, \"#d8576b\"], [0.6666666666666666, \"#ed7953\"], [0.7777777777777778, \"#fb9f3a\"], [0.8888888888888888, \"#fdca26\"], [1.0, \"#f0f921\"]], \"type\": \"surface\"}], \"table\": [{\"cells\": {\"fill\": {\"color\": \"#EBF0F8\"}, \"line\": {\"color\": \"white\"}}, \"header\": {\"fill\": {\"color\": \"#C8D4E3\"}, \"line\": {\"color\": \"white\"}}, \"type\": \"table\"}]}, \"layout\": {\"annotationdefaults\": {\"arrowcolor\": \"#2a3f5f\", \"arrowhead\": 0, \"arrowwidth\": 1}, \"autotypenumbers\": \"strict\", \"coloraxis\": {\"colorbar\": {\"outlinewidth\": 0, \"ticks\": \"\"}}, \"colorscale\": {\"diverging\": [[0, \"#8e0152\"], [0.1, \"#c51b7d\"], [0.2, \"#de77ae\"], [0.3, \"#f1b6da\"], [0.4, \"#fde0ef\"], [0.5, \"#f7f7f7\"], [0.6, \"#e6f5d0\"], [0.7, \"#b8e186\"], [0.8, \"#7fbc41\"], [0.9, \"#4d9221\"], [1, \"#276419\"]], \"sequential\": [[0.0, \"#0d0887\"], [0.1111111111111111, \"#46039f\"], [0.2222222222222222, \"#7201a8\"], [0.3333333333333333, \"#9c179e\"], [0.4444444444444444, \"#bd3786\"], [0.5555555555555556, \"#d8576b\"], [0.6666666666666666, \"#ed7953\"], [0.7777777777777778, \"#fb9f3a\"], [0.8888888888888888, \"#fdca26\"], [1.0, \"#f0f921\"]], \"sequentialminus\": [[0.0, \"#0d0887\"], [0.1111111111111111, \"#46039f\"], [0.2222222222222222, \"#7201a8\"], [0.3333333333333333, \"#9c179e\"], [0.4444444444444444, \"#bd3786\"], [0.5555555555555556, \"#d8576b\"], [0.6666666666666666, \"#ed7953\"], [0.7777777777777778, \"#fb9f3a\"], [0.8888888888888888, \"#fdca26\"], [1.0, \"#f0f921\"]]}, \"colorway\": [\"#636efa\", \"#EF553B\", \"#00cc96\", \"#ab63fa\", \"#FFA15A\", \"#19d3f3\", \"#FF6692\", \"#B6E880\", \"#FF97FF\", \"#FECB52\"], \"font\": {\"color\": \"#2a3f5f\"}, \"geo\": {\"bgcolor\": \"white\", \"lakecolor\": \"white\", \"landcolor\": \"#E5ECF6\", \"showlakes\": true, \"showland\": true, \"subunitcolor\": \"white\"}, \"hoverlabel\": {\"align\": \"left\"}, \"hovermode\": \"closest\", \"mapbox\": {\"style\": \"light\"}, \"paper_bgcolor\": \"white\", \"plot_bgcolor\": \"#E5ECF6\", \"polar\": {\"angularaxis\": {\"gridcolor\": \"white\", \"linecolor\": \"white\", \"ticks\": \"\"}, \"bgcolor\": \"#E5ECF6\", \"radialaxis\": {\"gridcolor\": \"white\", \"linecolor\": \"white\", \"ticks\": \"\"}}, \"scene\": {\"xaxis\": {\"backgroundcolor\": \"#E5ECF6\", \"gridcolor\": \"white\", \"gridwidth\": 2, \"linecolor\": \"white\", \"showbackground\": true, \"ticks\": \"\", \"zerolinecolor\": \"white\"}, \"yaxis\": {\"backgroundcolor\": \"#E5ECF6\", \"gridcolor\": \"white\", \"gridwidth\": 2, \"linecolor\": \"white\", \"showbackground\": true, \"ticks\": \"\", \"zerolinecolor\": \"white\"}, \"zaxis\": {\"backgroundcolor\": \"#E5ECF6\", \"gridcolor\": \"white\", \"gridwidth\": 2, \"linecolor\": \"white\", \"showbackground\": true, \"ticks\": \"\", \"zerolinecolor\": \"white\"}}, \"shapedefaults\": {\"line\": {\"color\": \"#2a3f5f\"}}, \"ternary\": {\"aaxis\": {\"gridcolor\": \"white\", \"linecolor\": \"white\", \"ticks\": \"\"}, \"baxis\": {\"gridcolor\": \"white\", \"linecolor\": \"white\", \"ticks\": \"\"}, \"bgcolor\": \"#E5ECF6\", \"caxis\": {\"gridcolor\": \"white\", \"linecolor\": \"white\", \"ticks\": \"\"}}, \"title\": {\"x\": 0.05}, \"xaxis\": {\"automargin\": true, \"gridcolor\": \"white\", \"linecolor\": \"white\", \"ticks\": \"\", \"title\": {\"standoff\": 15}, \"zerolinecolor\": \"white\", \"zerolinewidth\": 2}, \"yaxis\": {\"automargin\": true, \"gridcolor\": \"white\", \"linecolor\": \"white\", \"ticks\": \"\", \"title\": {\"standoff\": 15}, \"zerolinecolor\": \"white\", \"zerolinewidth\": 2}}}, \"width\": 1000, \"xaxis\": {\"automargin\": true, \"gridcolor\": \"lightgrey\", \"gridwidth\": 1, \"linecolor\": \"black\", \"linewidth\": 0.7, \"mirror\": true, \"range\": [[0.05, 0.05, 0.05, 0.05, 0.05], [0.75, 0.75, 0.75, 0.75, 0.75]], \"showline\": true, \"side\": \"bottom\", \"tickangle\": 0, \"tickfont\": {\"color\": \"black\", \"family\": \"Times New Roman\", \"size\": 20}, \"ticks\": \"outside\", \"title\": {\"font\": {\"color\": \"black\", \"family\": \"Times New Roman\", \"size\": 25}, \"text\": \"\\u03c6<sub>s</sub>\"}}, \"yaxis\": {\"automargin\": true, \"gridcolor\": \"lightgrey\", \"gridwidth\": 1, \"linecolor\": \"black\", \"linewidth\": 0.7, \"mirror\": true, \"range\": [-3.7, 0.3], \"showline\": true, \"side\": \"left\", \"tickangle\": 0, \"tickfont\": {\"color\": \"black\", \"family\": \"Times New Roman\", \"size\": 20}, \"ticks\": \"outside\", \"title\": {\"font\": {\"color\": \"black\", \"family\": \"Times New Roman\", \"size\": 25}, \"text\": \"E\"}, \"type\": \"log\"}},                        {\"responsive\": true}                    ).then(function(){\n",
       "                            \n",
       "var gd = document.getElementById('e78fe33c-a78d-4fdb-b4ad-c2e35cc26818');\n",
       "var x = new MutationObserver(function (mutations, observer) {{\n",
       "        var display = window.getComputedStyle(gd).display;\n",
       "        if (!display || display === 'none') {{\n",
       "            console.log([gd, 'removed!']);\n",
       "            Plotly.purge(gd);\n",
       "            observer.disconnect();\n",
       "        }}\n",
       "}});\n",
       "\n",
       "// Listen for the removal of the full notebook cells\n",
       "var notebookContainer = gd.closest('#notebook-container');\n",
       "if (notebookContainer) {{\n",
       "    x.observe(notebookContainer, {childList: true});\n",
       "}}\n",
       "\n",
       "// Listen for the clearing of the current output cell\n",
       "var outputEl = gd.closest('.output');\n",
       "if (outputEl) {{\n",
       "    x.observe(outputEl, {childList: true});\n",
       "}}\n",
       "\n",
       "                        })                };                });            </script>        </div>"
      ]
     },
     "metadata": {},
     "output_type": "display_data"
    },
    {
     "name": "stdout",
     "output_type": "stream",
     "text": [
      "Successfully generated: /Users/weugene//Dropbox/Aslan-Evgenii/media/pictures/Sangani/fixed_level=9_E_vs_eta.pdf\n"
     ]
    }
   ],
   "source": [
    "\n",
    "lev = 9\n",
    "list_x, list_y, list_names, list_colors, list_lines = [], [], [], [], []\n",
    "xaxis='\\u03c6<sub>s</sub>'\n",
    "yaxis=\"E\"\n",
    "for i,et in enumerate(etas):\n",
    "        list_x.append(phi)\n",
    "        list_y.append(df[lev][et].values)\n",
    "        \n",
    "        m = min(np.round(np.sqrt(et)*2**lev,1), 5)\n",
    "        if m == 5:\n",
    "            nm = '≥ ' + str(m)\n",
    "        else:\n",
    "            nm = '= ' + str(m)\n",
    "            \n",
    "        if m  < 0.01:\n",
    "            nm = '=10<sup>' + str(np.int(np.log10(np.sqrt(et)*2**lev))) + '</sup>'\n",
    "\n",
    "        pw=np.log10(et)\n",
    "        list_names.append(u\" \\u03B7=10<sup>\" + str(int(pw))+'</sup>, m' + nm)\n",
    "        list_lines.append('solid')\n",
    "        \n",
    "\n",
    "fn = 'fixed_level={}_E_vs_eta.pdf'.format(lev)\n",
    "plot_graph(list_x, list_y, names=list_names, xtitle=xaxis, ytitle=yaxis, image_name=fn, \\\n",
    "               mode=['lines+markers']*10,\\\n",
    "               yrange=[-3.7,0.3],\\\n",
    "               dash=list_lines,\\\n",
    "               ylog=True,\\\n",
    "               width=1000, height=500, path=MYPATH + prefix ,  legend_orientation='v', showlegend=True,\\\n",
    "               yanchor='bottom', y0_anchor=0.01, xanchor='right', x0_anchor=0.99, legborderlinesize=0.1)"
   ]
  },
  {
   "cell_type": "markdown",
   "metadata": {},
   "source": [
    "# Error vs level of refinement for m around 1 and fixed the solid volume fraction "
   ]
  },
  {
   "cell_type": "code",
   "execution_count": 9,
   "metadata": {},
   "outputs": [
    {
     "name": "stdout",
     "output_type": "stream",
     "text": [
      "m= 5  eta= 0.001\n",
      "m= 2.56  eta= 0.0001\n",
      "m= 0.81  eta= 1e-05\n",
      "m= 0.256  eta= 1e-06\n",
      "m= 0.0  eta= 1e-15\n",
      "m_opt= 0.81  eta= 1e-05\n",
      "m= 5  eta= 0.001\n",
      "m= 5  eta= 0.0001\n",
      "m= 1.619  eta= 1e-05\n",
      "m= 0.512  eta= 1e-06\n",
      "m= 0.0  eta= 1e-15\n",
      "m_opt= 0.512  eta= 1e-06\n",
      "m= 5  eta= 0.001\n",
      "m= 5  eta= 0.0001\n",
      "m= 3.238  eta= 1e-05\n",
      "m= 1.024  eta= 1e-06\n",
      "m= 0.0  eta= 1e-15\n",
      "m_opt= 1.024  eta= 1e-06\n",
      "m= 5  eta= 0.001\n",
      "m= 5  eta= 0.0001\n",
      "m= 5  eta= 1e-05\n",
      "m= 2.048  eta= 1e-06\n",
      "m= 0.0  eta= 1e-15\n",
      "m_opt= 0.0  eta= 1e-15\n",
      "m= 5  eta= 0.001\n",
      "m= 2.56  eta= 0.0001\n",
      "m= 0.81  eta= 1e-05\n",
      "m= 0.256  eta= 1e-06\n",
      "m= 0.0  eta= 1e-15\n",
      "m_opt= 0.81  eta= 1e-05\n",
      "m= 5  eta= 0.001\n",
      "m= 5  eta= 0.0001\n",
      "m= 1.619  eta= 1e-05\n",
      "m= 0.512  eta= 1e-06\n",
      "m= 0.0  eta= 1e-15\n",
      "m_opt= 0.512  eta= 1e-06\n",
      "m= 5  eta= 0.001\n",
      "m= 5  eta= 0.0001\n",
      "m= 3.238  eta= 1e-05\n",
      "m= 1.024  eta= 1e-06\n",
      "m= 0.0  eta= 1e-15\n",
      "m_opt= 1.024  eta= 1e-06\n",
      "m= 5  eta= 0.001\n",
      "m= 5  eta= 0.0001\n",
      "m= 5  eta= 1e-05\n",
      "m= 2.048  eta= 1e-06\n",
      "m= 0.0  eta= 1e-15\n",
      "m_opt= 0.0  eta= 1e-15\n",
      "m= 5  eta= 0.001\n",
      "m= 2.56  eta= 0.0001\n",
      "m= 0.81  eta= 1e-05\n",
      "m= 0.256  eta= 1e-06\n",
      "m= 0.0  eta= 1e-15\n",
      "m_opt= 0.81  eta= 1e-05\n",
      "m= 5  eta= 0.001\n",
      "m= 5  eta= 0.0001\n",
      "m= 1.619  eta= 1e-05\n",
      "m= 0.512  eta= 1e-06\n",
      "m= 0.0  eta= 1e-15\n",
      "m_opt= 0.512  eta= 1e-06\n",
      "m= 5  eta= 0.001\n",
      "m= 5  eta= 0.0001\n",
      "m= 3.238  eta= 1e-05\n",
      "m= 1.024  eta= 1e-06\n",
      "m= 0.0  eta= 1e-15\n",
      "m_opt= 1.024  eta= 1e-06\n",
      "m= 5  eta= 0.001\n",
      "m= 5  eta= 0.0001\n",
      "m= 5  eta= 1e-05\n",
      "m= 2.048  eta= 1e-06\n",
      "m= 0.0  eta= 1e-15\n",
      "m_opt= 0.0  eta= 1e-15\n",
      "m= 5  eta= 0.001\n",
      "m= 2.56  eta= 0.0001\n",
      "m= 0.81  eta= 1e-05\n",
      "m= 0.256  eta= 1e-06\n",
      "m= 0.0  eta= 1e-15\n",
      "m_opt= 0.81  eta= 1e-05\n",
      "m= 5  eta= 0.001\n",
      "m= 5  eta= 0.0001\n",
      "m= 1.619  eta= 1e-05\n",
      "m= 0.512  eta= 1e-06\n",
      "m= 0.0  eta= 1e-15\n",
      "m_opt= 0.512  eta= 1e-06\n",
      "m= 5  eta= 0.001\n",
      "m= 5  eta= 0.0001\n",
      "m= 3.238  eta= 1e-05\n",
      "m= 1.024  eta= 1e-06\n",
      "m= 0.0  eta= 1e-15\n",
      "m_opt= 1.024  eta= 1e-06\n",
      "m= 5  eta= 0.001\n",
      "m= 5  eta= 0.0001\n",
      "m= 5  eta= 1e-05\n",
      "m= 2.048  eta= 1e-06\n",
      "m= 0.0  eta= 1e-15\n",
      "m_opt= 0.0  eta= 1e-15\n"
     ]
    },
    {
     "data": {
      "application/vnd.plotly.v1+json": {
       "config": {
        "plotlyServerURL": "https://plot.ly"
       },
       "data": [
        {
         "line": {
          "color": "blue",
          "dash": "solid",
          "width": 3
         },
         "marker": {
          "line": {
           "color": "blue",
           "width": 1
          },
          "size": 15,
          "symbol": "circle"
         },
         "mode": "lines+markers",
         "name": "φ<sub>s</sub>=0.3",
         "textfont": {
          "color": "LightSeaGreen",
          "family": "Times New Roman",
          "size": 20
         },
         "type": "scatter",
         "x": [
          0.00390625,
          0.001953125,
          0.0009765625,
          0.00048828125
         ],
         "y": [
          0.029789115646258576,
          0.012886297376093368,
          0.011205053449951465,
          0.003712342079689067
         ]
        },
        {
         "line": {
          "color": "red",
          "dash": "solid",
          "width": 3
         },
         "marker": {
          "line": {
           "color": "red",
           "width": 1
          },
          "size": 15,
          "symbol": "circle"
         },
         "mode": "lines+markers",
         "name": "φ<sub>s</sub>=0.4",
         "textfont": {
          "color": "LightSeaGreen",
          "family": "Times New Roman",
          "size": 20
         },
         "type": "scatter",
         "x": [
          0.00390625,
          0.001953125,
          0.0009765625,
          0.00048828125
         ],
         "y": [
          0.04340722382853733,
          0.025090642067098008,
          0.022901464041488736,
          0.013525173252558514
         ]
        },
        {
         "line": {
          "color": "hsv(120,100,100)",
          "dash": "solid",
          "width": 3
         },
         "marker": {
          "line": {
           "color": "hsv(120,100,100)",
           "width": 1
          },
          "size": 15,
          "symbol": "circle"
         },
         "mode": "lines+markers",
         "name": "φ<sub>s</sub>=0.5",
         "textfont": {
          "color": "LightSeaGreen",
          "family": "Times New Roman",
          "size": 20
         },
         "type": "scatter",
         "x": [
          0.00390625,
          0.001953125,
          0.0009765625,
          0.00048828125
         ],
         "y": [
          0.05185428598253677,
          0.025477419960567054,
          0.027991737864989066,
          0.014101962257065049
         ]
        },
        {
         "line": {
          "color": "green",
          "dash": "solid",
          "width": 3
         },
         "marker": {
          "line": {
           "color": "green",
           "width": 1
          },
          "size": 15,
          "symbol": "circle"
         },
         "mode": "lines+markers",
         "name": "φ<sub>s</sub>=0.6",
         "textfont": {
          "color": "LightSeaGreen",
          "family": "Times New Roman",
          "size": 20
         },
         "type": "scatter",
         "x": [
          0.00390625,
          0.001953125,
          0.0009765625,
          0.00048828125
         ],
         "y": [
          0.10032898468519576,
          0.07399319342030632,
          0.07728871242200794,
          0.057725467952353934
         ]
        }
       ],
       "layout": {
        "autosize": false,
        "font": {
         "family": "Times New Roman",
         "size": 20
        },
        "height": 500,
        "legend": {
         "bgcolor": "White",
         "bordercolor": "Black",
         "borderwidth": 0.1,
         "orientation": "v",
         "x": 0.99,
         "xanchor": "right",
         "y": 0.01,
         "yanchor": "bottom"
        },
        "margin": {
         "b": 0,
         "l": 0,
         "pad": 0.1,
         "r": 0,
         "t": 0
        },
        "paper_bgcolor": "rgba(255, 255, 255, 1)",
        "plot_bgcolor": "rgba(255, 255, 255, 1)",
        "showlegend": true,
        "template": {
         "data": {
          "bar": [
           {
            "error_x": {
             "color": "#2a3f5f"
            },
            "error_y": {
             "color": "#2a3f5f"
            },
            "marker": {
             "line": {
              "color": "#E5ECF6",
              "width": 0.5
             }
            },
            "type": "bar"
           }
          ],
          "barpolar": [
           {
            "marker": {
             "line": {
              "color": "#E5ECF6",
              "width": 0.5
             }
            },
            "type": "barpolar"
           }
          ],
          "carpet": [
           {
            "aaxis": {
             "endlinecolor": "#2a3f5f",
             "gridcolor": "white",
             "linecolor": "white",
             "minorgridcolor": "white",
             "startlinecolor": "#2a3f5f"
            },
            "baxis": {
             "endlinecolor": "#2a3f5f",
             "gridcolor": "white",
             "linecolor": "white",
             "minorgridcolor": "white",
             "startlinecolor": "#2a3f5f"
            },
            "type": "carpet"
           }
          ],
          "choropleth": [
           {
            "colorbar": {
             "outlinewidth": 0,
             "ticks": ""
            },
            "type": "choropleth"
           }
          ],
          "contour": [
           {
            "colorbar": {
             "outlinewidth": 0,
             "ticks": ""
            },
            "colorscale": [
             [
              0,
              "#0d0887"
             ],
             [
              0.1111111111111111,
              "#46039f"
             ],
             [
              0.2222222222222222,
              "#7201a8"
             ],
             [
              0.3333333333333333,
              "#9c179e"
             ],
             [
              0.4444444444444444,
              "#bd3786"
             ],
             [
              0.5555555555555556,
              "#d8576b"
             ],
             [
              0.6666666666666666,
              "#ed7953"
             ],
             [
              0.7777777777777778,
              "#fb9f3a"
             ],
             [
              0.8888888888888888,
              "#fdca26"
             ],
             [
              1,
              "#f0f921"
             ]
            ],
            "type": "contour"
           }
          ],
          "contourcarpet": [
           {
            "colorbar": {
             "outlinewidth": 0,
             "ticks": ""
            },
            "type": "contourcarpet"
           }
          ],
          "heatmap": [
           {
            "colorbar": {
             "outlinewidth": 0,
             "ticks": ""
            },
            "colorscale": [
             [
              0,
              "#0d0887"
             ],
             [
              0.1111111111111111,
              "#46039f"
             ],
             [
              0.2222222222222222,
              "#7201a8"
             ],
             [
              0.3333333333333333,
              "#9c179e"
             ],
             [
              0.4444444444444444,
              "#bd3786"
             ],
             [
              0.5555555555555556,
              "#d8576b"
             ],
             [
              0.6666666666666666,
              "#ed7953"
             ],
             [
              0.7777777777777778,
              "#fb9f3a"
             ],
             [
              0.8888888888888888,
              "#fdca26"
             ],
             [
              1,
              "#f0f921"
             ]
            ],
            "type": "heatmap"
           }
          ],
          "heatmapgl": [
           {
            "colorbar": {
             "outlinewidth": 0,
             "ticks": ""
            },
            "colorscale": [
             [
              0,
              "#0d0887"
             ],
             [
              0.1111111111111111,
              "#46039f"
             ],
             [
              0.2222222222222222,
              "#7201a8"
             ],
             [
              0.3333333333333333,
              "#9c179e"
             ],
             [
              0.4444444444444444,
              "#bd3786"
             ],
             [
              0.5555555555555556,
              "#d8576b"
             ],
             [
              0.6666666666666666,
              "#ed7953"
             ],
             [
              0.7777777777777778,
              "#fb9f3a"
             ],
             [
              0.8888888888888888,
              "#fdca26"
             ],
             [
              1,
              "#f0f921"
             ]
            ],
            "type": "heatmapgl"
           }
          ],
          "histogram": [
           {
            "marker": {
             "colorbar": {
              "outlinewidth": 0,
              "ticks": ""
             }
            },
            "type": "histogram"
           }
          ],
          "histogram2d": [
           {
            "colorbar": {
             "outlinewidth": 0,
             "ticks": ""
            },
            "colorscale": [
             [
              0,
              "#0d0887"
             ],
             [
              0.1111111111111111,
              "#46039f"
             ],
             [
              0.2222222222222222,
              "#7201a8"
             ],
             [
              0.3333333333333333,
              "#9c179e"
             ],
             [
              0.4444444444444444,
              "#bd3786"
             ],
             [
              0.5555555555555556,
              "#d8576b"
             ],
             [
              0.6666666666666666,
              "#ed7953"
             ],
             [
              0.7777777777777778,
              "#fb9f3a"
             ],
             [
              0.8888888888888888,
              "#fdca26"
             ],
             [
              1,
              "#f0f921"
             ]
            ],
            "type": "histogram2d"
           }
          ],
          "histogram2dcontour": [
           {
            "colorbar": {
             "outlinewidth": 0,
             "ticks": ""
            },
            "colorscale": [
             [
              0,
              "#0d0887"
             ],
             [
              0.1111111111111111,
              "#46039f"
             ],
             [
              0.2222222222222222,
              "#7201a8"
             ],
             [
              0.3333333333333333,
              "#9c179e"
             ],
             [
              0.4444444444444444,
              "#bd3786"
             ],
             [
              0.5555555555555556,
              "#d8576b"
             ],
             [
              0.6666666666666666,
              "#ed7953"
             ],
             [
              0.7777777777777778,
              "#fb9f3a"
             ],
             [
              0.8888888888888888,
              "#fdca26"
             ],
             [
              1,
              "#f0f921"
             ]
            ],
            "type": "histogram2dcontour"
           }
          ],
          "mesh3d": [
           {
            "colorbar": {
             "outlinewidth": 0,
             "ticks": ""
            },
            "type": "mesh3d"
           }
          ],
          "parcoords": [
           {
            "line": {
             "colorbar": {
              "outlinewidth": 0,
              "ticks": ""
             }
            },
            "type": "parcoords"
           }
          ],
          "pie": [
           {
            "automargin": true,
            "type": "pie"
           }
          ],
          "scatter": [
           {
            "marker": {
             "colorbar": {
              "outlinewidth": 0,
              "ticks": ""
             }
            },
            "type": "scatter"
           }
          ],
          "scatter3d": [
           {
            "line": {
             "colorbar": {
              "outlinewidth": 0,
              "ticks": ""
             }
            },
            "marker": {
             "colorbar": {
              "outlinewidth": 0,
              "ticks": ""
             }
            },
            "type": "scatter3d"
           }
          ],
          "scattercarpet": [
           {
            "marker": {
             "colorbar": {
              "outlinewidth": 0,
              "ticks": ""
             }
            },
            "type": "scattercarpet"
           }
          ],
          "scattergeo": [
           {
            "marker": {
             "colorbar": {
              "outlinewidth": 0,
              "ticks": ""
             }
            },
            "type": "scattergeo"
           }
          ],
          "scattergl": [
           {
            "marker": {
             "colorbar": {
              "outlinewidth": 0,
              "ticks": ""
             }
            },
            "type": "scattergl"
           }
          ],
          "scattermapbox": [
           {
            "marker": {
             "colorbar": {
              "outlinewidth": 0,
              "ticks": ""
             }
            },
            "type": "scattermapbox"
           }
          ],
          "scatterpolar": [
           {
            "marker": {
             "colorbar": {
              "outlinewidth": 0,
              "ticks": ""
             }
            },
            "type": "scatterpolar"
           }
          ],
          "scatterpolargl": [
           {
            "marker": {
             "colorbar": {
              "outlinewidth": 0,
              "ticks": ""
             }
            },
            "type": "scatterpolargl"
           }
          ],
          "scatterternary": [
           {
            "marker": {
             "colorbar": {
              "outlinewidth": 0,
              "ticks": ""
             }
            },
            "type": "scatterternary"
           }
          ],
          "surface": [
           {
            "colorbar": {
             "outlinewidth": 0,
             "ticks": ""
            },
            "colorscale": [
             [
              0,
              "#0d0887"
             ],
             [
              0.1111111111111111,
              "#46039f"
             ],
             [
              0.2222222222222222,
              "#7201a8"
             ],
             [
              0.3333333333333333,
              "#9c179e"
             ],
             [
              0.4444444444444444,
              "#bd3786"
             ],
             [
              0.5555555555555556,
              "#d8576b"
             ],
             [
              0.6666666666666666,
              "#ed7953"
             ],
             [
              0.7777777777777778,
              "#fb9f3a"
             ],
             [
              0.8888888888888888,
              "#fdca26"
             ],
             [
              1,
              "#f0f921"
             ]
            ],
            "type": "surface"
           }
          ],
          "table": [
           {
            "cells": {
             "fill": {
              "color": "#EBF0F8"
             },
             "line": {
              "color": "white"
             }
            },
            "header": {
             "fill": {
              "color": "#C8D4E3"
             },
             "line": {
              "color": "white"
             }
            },
            "type": "table"
           }
          ]
         },
         "layout": {
          "annotationdefaults": {
           "arrowcolor": "#2a3f5f",
           "arrowhead": 0,
           "arrowwidth": 1
          },
          "autotypenumbers": "strict",
          "coloraxis": {
           "colorbar": {
            "outlinewidth": 0,
            "ticks": ""
           }
          },
          "colorscale": {
           "diverging": [
            [
             0,
             "#8e0152"
            ],
            [
             0.1,
             "#c51b7d"
            ],
            [
             0.2,
             "#de77ae"
            ],
            [
             0.3,
             "#f1b6da"
            ],
            [
             0.4,
             "#fde0ef"
            ],
            [
             0.5,
             "#f7f7f7"
            ],
            [
             0.6,
             "#e6f5d0"
            ],
            [
             0.7,
             "#b8e186"
            ],
            [
             0.8,
             "#7fbc41"
            ],
            [
             0.9,
             "#4d9221"
            ],
            [
             1,
             "#276419"
            ]
           ],
           "sequential": [
            [
             0,
             "#0d0887"
            ],
            [
             0.1111111111111111,
             "#46039f"
            ],
            [
             0.2222222222222222,
             "#7201a8"
            ],
            [
             0.3333333333333333,
             "#9c179e"
            ],
            [
             0.4444444444444444,
             "#bd3786"
            ],
            [
             0.5555555555555556,
             "#d8576b"
            ],
            [
             0.6666666666666666,
             "#ed7953"
            ],
            [
             0.7777777777777778,
             "#fb9f3a"
            ],
            [
             0.8888888888888888,
             "#fdca26"
            ],
            [
             1,
             "#f0f921"
            ]
           ],
           "sequentialminus": [
            [
             0,
             "#0d0887"
            ],
            [
             0.1111111111111111,
             "#46039f"
            ],
            [
             0.2222222222222222,
             "#7201a8"
            ],
            [
             0.3333333333333333,
             "#9c179e"
            ],
            [
             0.4444444444444444,
             "#bd3786"
            ],
            [
             0.5555555555555556,
             "#d8576b"
            ],
            [
             0.6666666666666666,
             "#ed7953"
            ],
            [
             0.7777777777777778,
             "#fb9f3a"
            ],
            [
             0.8888888888888888,
             "#fdca26"
            ],
            [
             1,
             "#f0f921"
            ]
           ]
          },
          "colorway": [
           "#636efa",
           "#EF553B",
           "#00cc96",
           "#ab63fa",
           "#FFA15A",
           "#19d3f3",
           "#FF6692",
           "#B6E880",
           "#FF97FF",
           "#FECB52"
          ],
          "font": {
           "color": "#2a3f5f"
          },
          "geo": {
           "bgcolor": "white",
           "lakecolor": "white",
           "landcolor": "#E5ECF6",
           "showlakes": true,
           "showland": true,
           "subunitcolor": "white"
          },
          "hoverlabel": {
           "align": "left"
          },
          "hovermode": "closest",
          "mapbox": {
           "style": "light"
          },
          "paper_bgcolor": "white",
          "plot_bgcolor": "#E5ECF6",
          "polar": {
           "angularaxis": {
            "gridcolor": "white",
            "linecolor": "white",
            "ticks": ""
           },
           "bgcolor": "#E5ECF6",
           "radialaxis": {
            "gridcolor": "white",
            "linecolor": "white",
            "ticks": ""
           }
          },
          "scene": {
           "xaxis": {
            "backgroundcolor": "#E5ECF6",
            "gridcolor": "white",
            "gridwidth": 2,
            "linecolor": "white",
            "showbackground": true,
            "ticks": "",
            "zerolinecolor": "white"
           },
           "yaxis": {
            "backgroundcolor": "#E5ECF6",
            "gridcolor": "white",
            "gridwidth": 2,
            "linecolor": "white",
            "showbackground": true,
            "ticks": "",
            "zerolinecolor": "white"
           },
           "zaxis": {
            "backgroundcolor": "#E5ECF6",
            "gridcolor": "white",
            "gridwidth": 2,
            "linecolor": "white",
            "showbackground": true,
            "ticks": "",
            "zerolinecolor": "white"
           }
          },
          "shapedefaults": {
           "line": {
            "color": "#2a3f5f"
           }
          },
          "ternary": {
           "aaxis": {
            "gridcolor": "white",
            "linecolor": "white",
            "ticks": ""
           },
           "baxis": {
            "gridcolor": "white",
            "linecolor": "white",
            "ticks": ""
           },
           "bgcolor": "#E5ECF6",
           "caxis": {
            "gridcolor": "white",
            "linecolor": "white",
            "ticks": ""
           }
          },
          "title": {
           "x": 0.05
          },
          "xaxis": {
           "automargin": true,
           "gridcolor": "white",
           "linecolor": "white",
           "ticks": "",
           "title": {
            "standoff": 15
           },
           "zerolinecolor": "white",
           "zerolinewidth": 2
          },
          "yaxis": {
           "automargin": true,
           "gridcolor": "white",
           "linecolor": "white",
           "ticks": "",
           "title": {
            "standoff": 15
           },
           "zerolinecolor": "white",
           "zerolinewidth": 2
          }
         }
        },
        "width": 1000,
        "xaxis": {
         "automargin": true,
         "gridcolor": "lightgrey",
         "gridwidth": 1,
         "linecolor": "black",
         "linewidth": 0.7,
         "mirror": true,
         "range": [
          [
           0.00048828125,
           0.00048828125,
           0.00048828125,
           0.00048828125
          ],
          [
           0.00390625,
           0.00390625,
           0.00390625,
           0.00390625
          ]
         ],
         "showline": true,
         "side": "bottom",
         "tickangle": 0,
         "tickfont": {
          "color": "black",
          "family": "Times New Roman",
          "size": 20
         },
         "ticks": "outside",
         "title": {
          "font": {
           "color": "black",
           "family": "Times New Roman",
           "size": 25
          },
          "text": "h"
         },
         "type": "log"
        },
        "yaxis": {
         "automargin": true,
         "gridcolor": "lightgrey",
         "gridwidth": 1,
         "linecolor": "black",
         "linewidth": 0.7,
         "mirror": true,
         "range": [
          -2.5,
          -0.9
         ],
         "showline": true,
         "side": "left",
         "tickangle": 0,
         "tickfont": {
          "color": "black",
          "family": "Times New Roman",
          "size": 20
         },
         "ticks": "outside",
         "title": {
          "font": {
           "color": "black",
           "family": "Times New Roman",
           "size": 25
          },
          "text": "E"
         },
         "type": "log"
        }
       }
      },
      "text/html": [
       "<div>                            <div id=\"3162230f-f1c8-41ad-880b-c97277eb3883\" class=\"plotly-graph-div\" style=\"height:500px; width:1000px;\"></div>            <script type=\"text/javascript\">                require([\"plotly\"], function(Plotly) {                    window.PLOTLYENV=window.PLOTLYENV || {};                                    if (document.getElementById(\"3162230f-f1c8-41ad-880b-c97277eb3883\")) {                    Plotly.newPlot(                        \"3162230f-f1c8-41ad-880b-c97277eb3883\",                        [{\"line\": {\"color\": \"blue\", \"dash\": \"solid\", \"width\": 3}, \"marker\": {\"line\": {\"color\": \"blue\", \"width\": 1}, \"size\": 15, \"symbol\": \"circle\"}, \"mode\": \"lines+markers\", \"name\": \"\\u03c6<sub>s</sub>=0.3\", \"textfont\": {\"color\": \"LightSeaGreen\", \"family\": \"Times New Roman\", \"size\": 20}, \"type\": \"scatter\", \"x\": [0.00390625, 0.001953125, 0.0009765625, 0.00048828125], \"y\": [0.029789115646258576, 0.012886297376093368, 0.011205053449951465, 0.003712342079689067]}, {\"line\": {\"color\": \"red\", \"dash\": \"solid\", \"width\": 3}, \"marker\": {\"line\": {\"color\": \"red\", \"width\": 1}, \"size\": 15, \"symbol\": \"circle\"}, \"mode\": \"lines+markers\", \"name\": \"\\u03c6<sub>s</sub>=0.4\", \"textfont\": {\"color\": \"LightSeaGreen\", \"family\": \"Times New Roman\", \"size\": 20}, \"type\": \"scatter\", \"x\": [0.00390625, 0.001953125, 0.0009765625, 0.00048828125], \"y\": [0.04340722382853733, 0.025090642067098008, 0.022901464041488736, 0.013525173252558514]}, {\"line\": {\"color\": \"hsv(120,100,100)\", \"dash\": \"solid\", \"width\": 3}, \"marker\": {\"line\": {\"color\": \"hsv(120,100,100)\", \"width\": 1}, \"size\": 15, \"symbol\": \"circle\"}, \"mode\": \"lines+markers\", \"name\": \"\\u03c6<sub>s</sub>=0.5\", \"textfont\": {\"color\": \"LightSeaGreen\", \"family\": \"Times New Roman\", \"size\": 20}, \"type\": \"scatter\", \"x\": [0.00390625, 0.001953125, 0.0009765625, 0.00048828125], \"y\": [0.05185428598253677, 0.025477419960567054, 0.027991737864989066, 0.014101962257065049]}, {\"line\": {\"color\": \"green\", \"dash\": \"solid\", \"width\": 3}, \"marker\": {\"line\": {\"color\": \"green\", \"width\": 1}, \"size\": 15, \"symbol\": \"circle\"}, \"mode\": \"lines+markers\", \"name\": \"\\u03c6<sub>s</sub>=0.6\", \"textfont\": {\"color\": \"LightSeaGreen\", \"family\": \"Times New Roman\", \"size\": 20}, \"type\": \"scatter\", \"x\": [0.00390625, 0.001953125, 0.0009765625, 0.00048828125], \"y\": [0.10032898468519576, 0.07399319342030632, 0.07728871242200794, 0.057725467952353934]}],                        {\"autosize\": false, \"font\": {\"family\": \"Times New Roman\", \"size\": 20}, \"height\": 500, \"legend\": {\"bgcolor\": \"White\", \"bordercolor\": \"Black\", \"borderwidth\": 0.1, \"orientation\": \"v\", \"x\": 0.99, \"xanchor\": \"right\", \"y\": 0.01, \"yanchor\": \"bottom\"}, \"margin\": {\"b\": 0, \"l\": 0, \"pad\": 0.1, \"r\": 0, \"t\": 0}, \"paper_bgcolor\": \"rgba(255, 255, 255, 1)\", \"plot_bgcolor\": \"rgba(255, 255, 255, 1)\", \"showlegend\": true, \"template\": {\"data\": {\"bar\": [{\"error_x\": {\"color\": \"#2a3f5f\"}, \"error_y\": {\"color\": \"#2a3f5f\"}, \"marker\": {\"line\": {\"color\": \"#E5ECF6\", \"width\": 0.5}}, \"type\": \"bar\"}], \"barpolar\": [{\"marker\": {\"line\": {\"color\": \"#E5ECF6\", \"width\": 0.5}}, \"type\": \"barpolar\"}], \"carpet\": [{\"aaxis\": {\"endlinecolor\": \"#2a3f5f\", \"gridcolor\": \"white\", \"linecolor\": \"white\", \"minorgridcolor\": \"white\", \"startlinecolor\": \"#2a3f5f\"}, \"baxis\": {\"endlinecolor\": \"#2a3f5f\", \"gridcolor\": \"white\", \"linecolor\": \"white\", \"minorgridcolor\": \"white\", \"startlinecolor\": \"#2a3f5f\"}, \"type\": \"carpet\"}], \"choropleth\": [{\"colorbar\": {\"outlinewidth\": 0, \"ticks\": \"\"}, \"type\": \"choropleth\"}], \"contour\": [{\"colorbar\": {\"outlinewidth\": 0, \"ticks\": \"\"}, \"colorscale\": [[0.0, \"#0d0887\"], [0.1111111111111111, \"#46039f\"], [0.2222222222222222, \"#7201a8\"], [0.3333333333333333, \"#9c179e\"], [0.4444444444444444, \"#bd3786\"], [0.5555555555555556, \"#d8576b\"], [0.6666666666666666, \"#ed7953\"], [0.7777777777777778, \"#fb9f3a\"], [0.8888888888888888, \"#fdca26\"], [1.0, \"#f0f921\"]], \"type\": \"contour\"}], \"contourcarpet\": [{\"colorbar\": {\"outlinewidth\": 0, \"ticks\": \"\"}, \"type\": \"contourcarpet\"}], \"heatmap\": [{\"colorbar\": {\"outlinewidth\": 0, \"ticks\": \"\"}, \"colorscale\": [[0.0, \"#0d0887\"], [0.1111111111111111, \"#46039f\"], [0.2222222222222222, \"#7201a8\"], [0.3333333333333333, \"#9c179e\"], [0.4444444444444444, \"#bd3786\"], [0.5555555555555556, \"#d8576b\"], [0.6666666666666666, \"#ed7953\"], [0.7777777777777778, \"#fb9f3a\"], [0.8888888888888888, \"#fdca26\"], [1.0, \"#f0f921\"]], \"type\": \"heatmap\"}], \"heatmapgl\": [{\"colorbar\": {\"outlinewidth\": 0, \"ticks\": \"\"}, \"colorscale\": [[0.0, \"#0d0887\"], [0.1111111111111111, \"#46039f\"], [0.2222222222222222, \"#7201a8\"], [0.3333333333333333, \"#9c179e\"], [0.4444444444444444, \"#bd3786\"], [0.5555555555555556, \"#d8576b\"], [0.6666666666666666, \"#ed7953\"], [0.7777777777777778, \"#fb9f3a\"], [0.8888888888888888, \"#fdca26\"], [1.0, \"#f0f921\"]], \"type\": \"heatmapgl\"}], \"histogram\": [{\"marker\": {\"colorbar\": {\"outlinewidth\": 0, \"ticks\": \"\"}}, \"type\": \"histogram\"}], \"histogram2d\": [{\"colorbar\": {\"outlinewidth\": 0, \"ticks\": \"\"}, \"colorscale\": [[0.0, \"#0d0887\"], [0.1111111111111111, \"#46039f\"], [0.2222222222222222, \"#7201a8\"], [0.3333333333333333, \"#9c179e\"], [0.4444444444444444, \"#bd3786\"], [0.5555555555555556, \"#d8576b\"], [0.6666666666666666, \"#ed7953\"], [0.7777777777777778, \"#fb9f3a\"], [0.8888888888888888, \"#fdca26\"], [1.0, \"#f0f921\"]], \"type\": \"histogram2d\"}], \"histogram2dcontour\": [{\"colorbar\": {\"outlinewidth\": 0, \"ticks\": \"\"}, \"colorscale\": [[0.0, \"#0d0887\"], [0.1111111111111111, \"#46039f\"], [0.2222222222222222, \"#7201a8\"], [0.3333333333333333, \"#9c179e\"], [0.4444444444444444, \"#bd3786\"], [0.5555555555555556, \"#d8576b\"], [0.6666666666666666, \"#ed7953\"], [0.7777777777777778, \"#fb9f3a\"], [0.8888888888888888, \"#fdca26\"], [1.0, \"#f0f921\"]], \"type\": \"histogram2dcontour\"}], \"mesh3d\": [{\"colorbar\": {\"outlinewidth\": 0, \"ticks\": \"\"}, \"type\": \"mesh3d\"}], \"parcoords\": [{\"line\": {\"colorbar\": {\"outlinewidth\": 0, \"ticks\": \"\"}}, \"type\": \"parcoords\"}], \"pie\": [{\"automargin\": true, \"type\": \"pie\"}], \"scatter\": [{\"marker\": {\"colorbar\": {\"outlinewidth\": 0, \"ticks\": \"\"}}, \"type\": \"scatter\"}], \"scatter3d\": [{\"line\": {\"colorbar\": {\"outlinewidth\": 0, \"ticks\": \"\"}}, \"marker\": {\"colorbar\": {\"outlinewidth\": 0, \"ticks\": \"\"}}, \"type\": \"scatter3d\"}], \"scattercarpet\": [{\"marker\": {\"colorbar\": {\"outlinewidth\": 0, \"ticks\": \"\"}}, \"type\": \"scattercarpet\"}], \"scattergeo\": [{\"marker\": {\"colorbar\": {\"outlinewidth\": 0, \"ticks\": \"\"}}, \"type\": \"scattergeo\"}], \"scattergl\": [{\"marker\": {\"colorbar\": {\"outlinewidth\": 0, \"ticks\": \"\"}}, \"type\": \"scattergl\"}], \"scattermapbox\": [{\"marker\": {\"colorbar\": {\"outlinewidth\": 0, \"ticks\": \"\"}}, \"type\": \"scattermapbox\"}], \"scatterpolar\": [{\"marker\": {\"colorbar\": {\"outlinewidth\": 0, \"ticks\": \"\"}}, \"type\": \"scatterpolar\"}], \"scatterpolargl\": [{\"marker\": {\"colorbar\": {\"outlinewidth\": 0, \"ticks\": \"\"}}, \"type\": \"scatterpolargl\"}], \"scatterternary\": [{\"marker\": {\"colorbar\": {\"outlinewidth\": 0, \"ticks\": \"\"}}, \"type\": \"scatterternary\"}], \"surface\": [{\"colorbar\": {\"outlinewidth\": 0, \"ticks\": \"\"}, \"colorscale\": [[0.0, \"#0d0887\"], [0.1111111111111111, \"#46039f\"], [0.2222222222222222, \"#7201a8\"], [0.3333333333333333, \"#9c179e\"], [0.4444444444444444, \"#bd3786\"], [0.5555555555555556, \"#d8576b\"], [0.6666666666666666, \"#ed7953\"], [0.7777777777777778, \"#fb9f3a\"], [0.8888888888888888, \"#fdca26\"], [1.0, \"#f0f921\"]], \"type\": \"surface\"}], \"table\": [{\"cells\": {\"fill\": {\"color\": \"#EBF0F8\"}, \"line\": {\"color\": \"white\"}}, \"header\": {\"fill\": {\"color\": \"#C8D4E3\"}, \"line\": {\"color\": \"white\"}}, \"type\": \"table\"}]}, \"layout\": {\"annotationdefaults\": {\"arrowcolor\": \"#2a3f5f\", \"arrowhead\": 0, \"arrowwidth\": 1}, \"autotypenumbers\": \"strict\", \"coloraxis\": {\"colorbar\": {\"outlinewidth\": 0, \"ticks\": \"\"}}, \"colorscale\": {\"diverging\": [[0, \"#8e0152\"], [0.1, \"#c51b7d\"], [0.2, \"#de77ae\"], [0.3, \"#f1b6da\"], [0.4, \"#fde0ef\"], [0.5, \"#f7f7f7\"], [0.6, \"#e6f5d0\"], [0.7, \"#b8e186\"], [0.8, \"#7fbc41\"], [0.9, \"#4d9221\"], [1, \"#276419\"]], \"sequential\": [[0.0, \"#0d0887\"], [0.1111111111111111, \"#46039f\"], [0.2222222222222222, \"#7201a8\"], [0.3333333333333333, \"#9c179e\"], [0.4444444444444444, \"#bd3786\"], [0.5555555555555556, \"#d8576b\"], [0.6666666666666666, \"#ed7953\"], [0.7777777777777778, \"#fb9f3a\"], [0.8888888888888888, \"#fdca26\"], [1.0, \"#f0f921\"]], \"sequentialminus\": [[0.0, \"#0d0887\"], [0.1111111111111111, \"#46039f\"], [0.2222222222222222, \"#7201a8\"], [0.3333333333333333, \"#9c179e\"], [0.4444444444444444, \"#bd3786\"], [0.5555555555555556, \"#d8576b\"], [0.6666666666666666, \"#ed7953\"], [0.7777777777777778, \"#fb9f3a\"], [0.8888888888888888, \"#fdca26\"], [1.0, \"#f0f921\"]]}, \"colorway\": [\"#636efa\", \"#EF553B\", \"#00cc96\", \"#ab63fa\", \"#FFA15A\", \"#19d3f3\", \"#FF6692\", \"#B6E880\", \"#FF97FF\", \"#FECB52\"], \"font\": {\"color\": \"#2a3f5f\"}, \"geo\": {\"bgcolor\": \"white\", \"lakecolor\": \"white\", \"landcolor\": \"#E5ECF6\", \"showlakes\": true, \"showland\": true, \"subunitcolor\": \"white\"}, \"hoverlabel\": {\"align\": \"left\"}, \"hovermode\": \"closest\", \"mapbox\": {\"style\": \"light\"}, \"paper_bgcolor\": \"white\", \"plot_bgcolor\": \"#E5ECF6\", \"polar\": {\"angularaxis\": {\"gridcolor\": \"white\", \"linecolor\": \"white\", \"ticks\": \"\"}, \"bgcolor\": \"#E5ECF6\", \"radialaxis\": {\"gridcolor\": \"white\", \"linecolor\": \"white\", \"ticks\": \"\"}}, \"scene\": {\"xaxis\": {\"backgroundcolor\": \"#E5ECF6\", \"gridcolor\": \"white\", \"gridwidth\": 2, \"linecolor\": \"white\", \"showbackground\": true, \"ticks\": \"\", \"zerolinecolor\": \"white\"}, \"yaxis\": {\"backgroundcolor\": \"#E5ECF6\", \"gridcolor\": \"white\", \"gridwidth\": 2, \"linecolor\": \"white\", \"showbackground\": true, \"ticks\": \"\", \"zerolinecolor\": \"white\"}, \"zaxis\": {\"backgroundcolor\": \"#E5ECF6\", \"gridcolor\": \"white\", \"gridwidth\": 2, \"linecolor\": \"white\", \"showbackground\": true, \"ticks\": \"\", \"zerolinecolor\": \"white\"}}, \"shapedefaults\": {\"line\": {\"color\": \"#2a3f5f\"}}, \"ternary\": {\"aaxis\": {\"gridcolor\": \"white\", \"linecolor\": \"white\", \"ticks\": \"\"}, \"baxis\": {\"gridcolor\": \"white\", \"linecolor\": \"white\", \"ticks\": \"\"}, \"bgcolor\": \"#E5ECF6\", \"caxis\": {\"gridcolor\": \"white\", \"linecolor\": \"white\", \"ticks\": \"\"}}, \"title\": {\"x\": 0.05}, \"xaxis\": {\"automargin\": true, \"gridcolor\": \"white\", \"linecolor\": \"white\", \"ticks\": \"\", \"title\": {\"standoff\": 15}, \"zerolinecolor\": \"white\", \"zerolinewidth\": 2}, \"yaxis\": {\"automargin\": true, \"gridcolor\": \"white\", \"linecolor\": \"white\", \"ticks\": \"\", \"title\": {\"standoff\": 15}, \"zerolinecolor\": \"white\", \"zerolinewidth\": 2}}}, \"width\": 1000, \"xaxis\": {\"automargin\": true, \"gridcolor\": \"lightgrey\", \"gridwidth\": 1, \"linecolor\": \"black\", \"linewidth\": 0.7, \"mirror\": true, \"range\": [[0.00048828125, 0.00048828125, 0.00048828125, 0.00048828125], [0.00390625, 0.00390625, 0.00390625, 0.00390625]], \"showline\": true, \"side\": \"bottom\", \"tickangle\": 0, \"tickfont\": {\"color\": \"black\", \"family\": \"Times New Roman\", \"size\": 20}, \"ticks\": \"outside\", \"title\": {\"font\": {\"color\": \"black\", \"family\": \"Times New Roman\", \"size\": 25}, \"text\": \"h\"}, \"type\": \"log\"}, \"yaxis\": {\"automargin\": true, \"gridcolor\": \"lightgrey\", \"gridwidth\": 1, \"linecolor\": \"black\", \"linewidth\": 0.7, \"mirror\": true, \"range\": [-2.5, -0.9], \"showline\": true, \"side\": \"left\", \"tickangle\": 0, \"tickfont\": {\"color\": \"black\", \"family\": \"Times New Roman\", \"size\": 20}, \"ticks\": \"outside\", \"title\": {\"font\": {\"color\": \"black\", \"family\": \"Times New Roman\", \"size\": 25}, \"text\": \"E\"}, \"type\": \"log\"}},                        {\"responsive\": true}                    ).then(function(){\n",
       "                            \n",
       "var gd = document.getElementById('3162230f-f1c8-41ad-880b-c97277eb3883');\n",
       "var x = new MutationObserver(function (mutations, observer) {{\n",
       "        var display = window.getComputedStyle(gd).display;\n",
       "        if (!display || display === 'none') {{\n",
       "            console.log([gd, 'removed!']);\n",
       "            Plotly.purge(gd);\n",
       "            observer.disconnect();\n",
       "        }}\n",
       "}});\n",
       "\n",
       "// Listen for the removal of the full notebook cells\n",
       "var notebookContainer = gd.closest('#notebook-container');\n",
       "if (notebookContainer) {{\n",
       "    x.observe(notebookContainer, {childList: true});\n",
       "}}\n",
       "\n",
       "// Listen for the clearing of the current output cell\n",
       "var outputEl = gd.closest('.output');\n",
       "if (outputEl) {{\n",
       "    x.observe(outputEl, {childList: true});\n",
       "}}\n",
       "\n",
       "                        })                };                });            </script>        </div>"
      ]
     },
     "metadata": {},
     "output_type": "display_data"
    },
    {
     "name": "stdout",
     "output_type": "stream",
     "text": [
      "Successfully generated: /Users/weugene//Dropbox/Aslan-Evgenii/media/pictures/Sangani/fixed_phi=0.3_0.4_0.5_0.6_E_vs_lev.pdf\n"
     ]
    }
   ],
   "source": [
    "etas = [ 1e-03, 1e-4, 1e-05, 1e-06, 1e-15 ]\n",
    "levels = [8,9,10,11]\n",
    "phis = [0.3, 0.4, 0.5, 0.6] \n",
    "\n",
    "list_x, list_y, list_names, list_colors, list_lines = [], [], [], [], []\n",
    "xaxis='h'\n",
    "yaxis=\"E\"\n",
    "\n",
    "# for fixed m\n",
    "for i,phi in enumerate(phis):\n",
    "    x, y = [], []\n",
    "    m_list, eta_list = [], []\n",
    "    for j,lev in enumerate(levels):\n",
    "        eta_opt = 100\n",
    "        m_opt = 100\n",
    "        for k,et in enumerate(etas):\n",
    "            \n",
    "            m = min(np.round(np.sqrt(et)*2**lev,3), 5)\n",
    "            print('m=', m, ' eta=', et)\n",
    "            tmp1 = np.abs(m - 1)\n",
    "            tmp2 = np.abs(m_opt - 1)\n",
    "            if tmp1 < tmp2 :\n",
    "                m_opt = m\n",
    "                eta_opt = et\n",
    "        print('m_opt=', m_opt, ' eta=', eta_opt)\n",
    "        x.append(1/2**(lev))\n",
    "        y.append(df[lev][eta_opt][phi])\n",
    "        m_list.append(m_opt)\n",
    "        eta_list.append(eta_opt)\n",
    "    list_x.append(x)\n",
    "    list_y.append(y)\n",
    "    m_opt = np.mean(m_list)\n",
    "    eta_opt = np.mean(eta_list)\n",
    "    if m_opt == 5:\n",
    "        nm = '≥ ' + str(m_opt)\n",
    "    else:\n",
    "        nm = '= ' + str(m_opt)\n",
    "    pw=np.log10(eta_opt)\n",
    "    list_names.append('\\u03C6<sub>s</sub>=' + str(phi) ) #+ \"  \\u03B7=10<sup>\" + str(int(pw))+'</sup>, m' + nm\n",
    "    list_lines.append('solid')\n",
    "        \n",
    "\n",
    "fn = 'fixed_phi={}_E_vs_lev.pdf'.format(\"_\".join(map(str, phis)), lev)\n",
    "plot_graph(list_x, list_y, names=list_names, xtitle=xaxis, ytitle=yaxis, image_name=fn, \\\n",
    "               mode=['lines+markers']*10,\\\n",
    "#                xrange=[0,20], \n",
    "               yrange=[-2.5,-0.9],\\\n",
    "               dash=list_lines,\\\n",
    "#                colors=None,\\\n",
    "               xlog=True, ylog=True,\\\n",
    "               width=1000, height=500, path=MYPATH + prefix ,  legend_orientation='v', showlegend=True,\\\n",
    "               yanchor='bottom', y0_anchor=0.01, xanchor='right', x0_anchor=0.99, legborderlinesize=0.1)"
   ]
  },
  {
   "cell_type": "markdown",
   "metadata": {},
   "source": [
    "# Error vs level of refinement for a fixed eta and fixed the solid volume fraction "
   ]
  },
  {
   "cell_type": "code",
   "execution_count": 1,
   "metadata": {},
   "outputs": [
    {
     "ename": "NameError",
     "evalue": "name 'np' is not defined",
     "output_type": "error",
     "traceback": [
      "\u001b[0;31m---------------------------------------------------------------------------\u001b[0m",
      "\u001b[0;31mNameError\u001b[0m                                 Traceback (most recent call last)",
      "\u001b[0;32m<ipython-input-1-6635b3364822>\u001b[0m in \u001b[0;36m<module>\u001b[0;34m\u001b[0m\n\u001b[1;32m     17\u001b[0m         \u001b[0;32mfor\u001b[0m \u001b[0mk\u001b[0m\u001b[0;34m,\u001b[0m\u001b[0met\u001b[0m \u001b[0;32min\u001b[0m \u001b[0menumerate\u001b[0m\u001b[0;34m(\u001b[0m\u001b[0metas\u001b[0m\u001b[0;34m)\u001b[0m\u001b[0;34m:\u001b[0m\u001b[0;34m\u001b[0m\u001b[0;34m\u001b[0m\u001b[0m\n\u001b[1;32m     18\u001b[0m \u001b[0;34m\u001b[0m\u001b[0m\n\u001b[0;32m---> 19\u001b[0;31m             \u001b[0mm\u001b[0m \u001b[0;34m=\u001b[0m \u001b[0mmin\u001b[0m\u001b[0;34m(\u001b[0m\u001b[0mnp\u001b[0m\u001b[0;34m.\u001b[0m\u001b[0mround\u001b[0m\u001b[0;34m(\u001b[0m\u001b[0mnp\u001b[0m\u001b[0;34m.\u001b[0m\u001b[0msqrt\u001b[0m\u001b[0;34m(\u001b[0m\u001b[0met\u001b[0m\u001b[0;34m)\u001b[0m\u001b[0;34m*\u001b[0m\u001b[0;36m2\u001b[0m\u001b[0;34m**\u001b[0m\u001b[0mlev\u001b[0m\u001b[0;34m,\u001b[0m\u001b[0;36m3\u001b[0m\u001b[0;34m)\u001b[0m\u001b[0;34m,\u001b[0m \u001b[0;36m5\u001b[0m\u001b[0;34m)\u001b[0m\u001b[0;34m\u001b[0m\u001b[0;34m\u001b[0m\u001b[0m\n\u001b[0m\u001b[1;32m     20\u001b[0m             \u001b[0mprint\u001b[0m\u001b[0;34m(\u001b[0m\u001b[0;34m'm='\u001b[0m\u001b[0;34m,\u001b[0m \u001b[0mm\u001b[0m\u001b[0;34m,\u001b[0m \u001b[0;34m' eta='\u001b[0m\u001b[0;34m,\u001b[0m \u001b[0met\u001b[0m\u001b[0;34m)\u001b[0m\u001b[0;34m\u001b[0m\u001b[0;34m\u001b[0m\u001b[0m\n\u001b[1;32m     21\u001b[0m             \u001b[0mtmp1\u001b[0m \u001b[0;34m=\u001b[0m \u001b[0mnp\u001b[0m\u001b[0;34m.\u001b[0m\u001b[0mabs\u001b[0m\u001b[0;34m(\u001b[0m\u001b[0mm\u001b[0m \u001b[0;34m-\u001b[0m \u001b[0;36m0\u001b[0m\u001b[0;34m)\u001b[0m\u001b[0;34m\u001b[0m\u001b[0;34m\u001b[0m\u001b[0m\n",
      "\u001b[0;31mNameError\u001b[0m: name 'np' is not defined"
     ]
    }
   ],
   "source": [
    "etas = [ 1e-06 ]\n",
    "# etas = [ 1e-03, 1e-4, 1e-05, 1e-06, 1e-15 ]\n",
    "levels = [8,9,10,11]\n",
    "phis = [0.3, 0.4, 0.5, 0.6] \n",
    "\n",
    "list_x, list_y, list_names, list_colors, list_lines, list_eta, list_m = [], [], [], [], [], [], []\n",
    "xaxis='h'\n",
    "yaxis=\"E\"\n",
    "\n",
    "# for fixed m\n",
    "for i,phi in enumerate(phis):\n",
    "    x, y = [], []\n",
    "    list_m, list_eta = [], []\n",
    "    for j,lev in enumerate(levels):\n",
    "        eta_opt = 100\n",
    "        m_opt = 100\n",
    "        for k,et in enumerate(etas):\n",
    "            \n",
    "            m = min(np.round(np.sqrt(et)*2**lev,3), 5)\n",
    "            print('m=', m, ' eta=', et)\n",
    "            tmp1 = np.abs(m - 0)\n",
    "            tmp2 = np.abs(m_opt - 0)\n",
    "            if tmp1 < tmp2 :\n",
    "                m_opt = m\n",
    "                eta_opt = et\n",
    "        print('m_opt=', m_opt, ' eta=', eta_opt)\n",
    "        x.append(1/2**(lev))\n",
    "        y.append(df[lev][eta_opt][phi])\n",
    "        list_m.append(m_opt)\n",
    "        list_eta.append(eta_opt)\n",
    "    list_x.append(x)\n",
    "    list_y.append(y)\n",
    "        \n",
    "    m_opt = np.mean(list_m)\n",
    "    eta_opt = np.mean(list_eta)\n",
    "    if m_opt == 5:\n",
    "        nm = '≥ ' + str(m_opt)\n",
    "    else:\n",
    "        nm = '= ' + str(m_opt)\n",
    "    pw=np.log10(eta_opt)\n",
    "    list_names.append('\\u03C6<sub>s</sub>=' + str(phi))\n",
    "    list_lines.append('solid')\n",
    "        \n",
    "\n",
    "fn = 'fixed_phi={}_E_vs_lev.pdf'.format(\"_\".join(map(str, phis)), lev)\n",
    "plot_graph(list_x, list_y, names=list_names, xtitle=xaxis, ytitle=yaxis, image_name=fn, \\\n",
    "               mode=['lines+markers']*10,\\\n",
    "#                xrange=[0,20], \n",
    "               yrange=[0,0.08],\\\n",
    "#                yrange=[-3.7,0.3],\\\n",
    "               dash=list_lines,\\\n",
    "#                colors=None,\\\n",
    "#                xlog=True, ylog=True,\\\n",
    "               width=1000, height=500, path=MYPATH + prefix ,  legend_orientation='v', showlegend=True,\\\n",
    "               yanchor='bottom', y0_anchor=0.3, xanchor='right', x0_anchor=0.99, legborderlinesize=0.1)"
   ]
  },
  {
   "cell_type": "markdown",
   "metadata": {},
   "source": [
    "# Interpolate 2D mesh m and level"
   ]
  },
  {
   "cell_type": "code",
   "execution_count": 12,
   "metadata": {},
   "outputs": [
    {
     "name": "stdout",
     "output_type": "stream",
     "text": [
      "phi= 0.3\n"
     ]
    },
    {
     "name": "stderr",
     "output_type": "stream",
     "text": [
      "/Users/weugene/anaconda3/lib/python3.7/site-packages/matplotlib/contour.py:1557: UserWarning:\n",
      "\n",
      "Warning: converting a masked element to nan.\n",
      "\n",
      "/Users/weugene/anaconda3/lib/python3.7/site-packages/matplotlib/contour.py:1558: UserWarning:\n",
      "\n",
      "Warning: converting a masked element to nan.\n",
      "\n",
      "/Users/weugene/anaconda3/lib/python3.7/site-packages/matplotlib/contour.py:1243: UserWarning:\n",
      "\n",
      "No contour levels were found within the data range.\n",
      "\n"
     ]
    },
    {
     "data": {
      "image/png": "[encoded data removed]",
      "text/plain": [
       "<Figure size 432x288 with 2 Axes>"
      ]
     },
     "metadata": {
      "needs_background": "light"
     },
     "output_type": "display_data"
    },
    {
     "data": {
      "application/vnd.plotly.v1+json": {
       "config": {
        "plotlyServerURL": "https://plot.ly"
       },
       "data": [
        {
         "line": {
          "color": "blue",
          "dash": "solid",
          "width": 3
         },
         "marker": {
          "line": {
           "color": "blue",
           "width": 1
          },
          "size": 15,
          "symbol": "circle"
         },
         "mode": "lines+markers",
         "name": "m= 0.01",
         "textfont": {
          "color": "LightSeaGreen",
          "family": "Times New Roman",
          "size": 20
         },
         "type": "scatter",
         "x": [
          0.00390625,
          0.001953125,
          0.0009765625,
          0.00048828125
         ],
         "y": [
          0.007003747999523698,
          0.0014620855901155676,
          0.0013517658072088462,
          0.003712499860294054
         ]
        },
        {
         "line": {
          "color": "red",
          "dash": "solid",
          "width": 3
         },
         "marker": {
          "line": {
           "color": "red",
           "width": 1
          },
          "size": 15,
          "symbol": "circle"
         },
         "mode": "lines+markers",
         "name": "m= 0.5",
         "textfont": {
          "color": "LightSeaGreen",
          "family": "Times New Roman",
          "size": 20
         },
         "type": "scatter",
         "x": [
          0.00390625,
          0.001953125,
          0.0009765625,
          0.00048828125
         ],
         "y": [
          0.012755990105305544,
          0.01235686099163536,
          0.0037002569333017474,
          0.004106810130725332
         ]
        },
        {
         "line": {
          "color": "hsv(120,100,100)",
          "dash": "solid",
          "width": 3
         },
         "marker": {
          "line": {
           "color": "hsv(120,100,100)",
           "width": 1
          },
          "size": 15,
          "symbol": "circle"
         },
         "mode": "lines+markers",
         "name": "m= 1",
         "textfont": {
          "color": "LightSeaGreen",
          "family": "Times New Roman",
          "size": 20
         },
         "type": "scatter",
         "x": [
          0.00390625,
          0.001953125,
          0.0009765625,
          0.00048828125
         ],
         "y": [
          0.03178440049755028,
          0.01729936338374642,
          0.01074854962865859,
          0.005290214303688354
         ]
        },
        {
         "line": {
          "color": "green",
          "dash": "solid",
          "width": 3
         },
         "marker": {
          "line": {
           "color": "green",
           "width": 1
          },
          "size": 15,
          "symbol": "circle"
         },
         "mode": "lines+markers",
         "name": "m= 1.5",
         "textfont": {
          "color": "LightSeaGreen",
          "family": "Times New Roman",
          "size": 20
         },
         "type": "scatter",
         "x": [
          0.00390625,
          0.001953125,
          0.0009765625,
          0.00048828125
         ],
         "y": [
          0.03902124492685227,
          0.024775527444981023,
          0.012052532707225123,
          0.007262554591960056
         ]
        },
        {
         "line": {
          "color": "black",
          "dash": "solid",
          "width": 3
         },
         "marker": {
          "line": {
           "color": "black",
           "width": 1
          },
          "size": 15,
          "symbol": "circle"
         },
         "mode": "lines+markers",
         "name": "m= 2",
         "textfont": {
          "color": "LightSeaGreen",
          "family": "Times New Roman",
          "size": 20
         },
         "type": "scatter",
         "x": [
          0.00390625,
          0.001953125,
          0.0009765625,
          0.00048828125
         ],
         "y": [
          0.04915282712787505,
          0.028219535805393645,
          0.01328697508579331,
          0.01002383099554044
         ]
        }
       ],
       "layout": {
        "autosize": false,
        "font": {
         "family": "Times New Roman",
         "size": 20
        },
        "height": 500,
        "legend": {
         "bgcolor": "White",
         "bordercolor": "Black",
         "borderwidth": 0.1,
         "orientation": "v",
         "x": 0.99,
         "xanchor": "right",
         "y": 0.01,
         "yanchor": "bottom"
        },
        "margin": {
         "b": 0,
         "l": 0,
         "pad": 0.1,
         "r": 0,
         "t": 0
        },
        "paper_bgcolor": "rgba(255, 255, 255, 1)",
        "plot_bgcolor": "rgba(255, 255, 255, 1)",
        "showlegend": true,
        "template": {
         "data": {
          "bar": [
           {
            "error_x": {
             "color": "#2a3f5f"
            },
            "error_y": {
             "color": "#2a3f5f"
            },
            "marker": {
             "line": {
              "color": "#E5ECF6",
              "width": 0.5
             }
            },
            "type": "bar"
           }
          ],
          "barpolar": [
           {
            "marker": {
             "line": {
              "color": "#E5ECF6",
              "width": 0.5
             }
            },
            "type": "barpolar"
           }
          ],
          "carpet": [
           {
            "aaxis": {
             "endlinecolor": "#2a3f5f",
             "gridcolor": "white",
             "linecolor": "white",
             "minorgridcolor": "white",
             "startlinecolor": "#2a3f5f"
            },
            "baxis": {
             "endlinecolor": "#2a3f5f",
             "gridcolor": "white",
             "linecolor": "white",
             "minorgridcolor": "white",
             "startlinecolor": "#2a3f5f"
            },
            "type": "carpet"
           }
          ],
          "choropleth": [
           {
            "colorbar": {
             "outlinewidth": 0,
             "ticks": ""
            },
            "type": "choropleth"
           }
          ],
          "contour": [
           {
            "colorbar": {
             "outlinewidth": 0,
             "ticks": ""
            },
            "colorscale": [
             [
              0,
              "#0d0887"
             ],
             [
              0.1111111111111111,
              "#46039f"
             ],
             [
              0.2222222222222222,
              "#7201a8"
             ],
             [
              0.3333333333333333,
              "#9c179e"
             ],
             [
              0.4444444444444444,
              "#bd3786"
             ],
             [
              0.5555555555555556,
              "#d8576b"
             ],
             [
              0.6666666666666666,
              "#ed7953"
             ],
             [
              0.7777777777777778,
              "#fb9f3a"
             ],
             [
              0.8888888888888888,
              "#fdca26"
             ],
             [
              1,
              "#f0f921"
             ]
            ],
            "type": "contour"
           }
          ],
          "contourcarpet": [
           {
            "colorbar": {
             "outlinewidth": 0,
             "ticks": ""
            },
            "type": "contourcarpet"
           }
          ],
          "heatmap": [
           {
            "colorbar": {
             "outlinewidth": 0,
             "ticks": ""
            },
            "colorscale": [
             [
              0,
              "#0d0887"
             ],
             [
              0.1111111111111111,
              "#46039f"
             ],
             [
              0.2222222222222222,
              "#7201a8"
             ],
             [
              0.3333333333333333,
              "#9c179e"
             ],
             [
              0.4444444444444444,
              "#bd3786"
             ],
             [
              0.5555555555555556,
              "#d8576b"
             ],
             [
              0.6666666666666666,
              "#ed7953"
             ],
             [
              0.7777777777777778,
              "#fb9f3a"
             ],
             [
              0.8888888888888888,
              "#fdca26"
             ],
             [
              1,
              "#f0f921"
             ]
            ],
            "type": "heatmap"
           }
          ],
          "heatmapgl": [
           {
            "colorbar": {
             "outlinewidth": 0,
             "ticks": ""
            },
            "colorscale": [
             [
              0,
              "#0d0887"
             ],
             [
              0.1111111111111111,
              "#46039f"
             ],
             [
              0.2222222222222222,
              "#7201a8"
             ],
             [
              0.3333333333333333,
              "#9c179e"
             ],
             [
              0.4444444444444444,
              "#bd3786"
             ],
             [
              0.5555555555555556,
              "#d8576b"
             ],
             [
              0.6666666666666666,
              "#ed7953"
             ],
             [
              0.7777777777777778,
              "#fb9f3a"
             ],
             [
              0.8888888888888888,
              "#fdca26"
             ],
             [
              1,
              "#f0f921"
             ]
            ],
            "type": "heatmapgl"
           }
          ],
          "histogram": [
           {
            "marker": {
             "colorbar": {
              "outlinewidth": 0,
              "ticks": ""
             }
            },
            "type": "histogram"
           }
          ],
          "histogram2d": [
           {
            "colorbar": {
             "outlinewidth": 0,
             "ticks": ""
            },
            "colorscale": [
             [
              0,
              "#0d0887"
             ],
             [
              0.1111111111111111,
              "#46039f"
             ],
             [
              0.2222222222222222,
              "#7201a8"
             ],
             [
              0.3333333333333333,
              "#9c179e"
             ],
             [
              0.4444444444444444,
              "#bd3786"
             ],
             [
              0.5555555555555556,
              "#d8576b"
             ],
             [
              0.6666666666666666,
              "#ed7953"
             ],
             [
              0.7777777777777778,
              "#fb9f3a"
             ],
             [
              0.8888888888888888,
              "#fdca26"
             ],
             [
              1,
              "#f0f921"
             ]
            ],
            "type": "histogram2d"
           }
          ],
          "histogram2dcontour": [
           {
            "colorbar": {
             "outlinewidth": 0,
             "ticks": ""
            },
            "colorscale": [
             [
              0,
              "#0d0887"
             ],
             [
              0.1111111111111111,
              "#46039f"
             ],
             [
              0.2222222222222222,
              "#7201a8"
             ],
             [
              0.3333333333333333,
              "#9c179e"
             ],
             [
              0.4444444444444444,
              "#bd3786"
             ],
             [
              0.5555555555555556,
              "#d8576b"
             ],
             [
              0.6666666666666666,
              "#ed7953"
             ],
             [
              0.7777777777777778,
              "#fb9f3a"
             ],
             [
              0.8888888888888888,
              "#fdca26"
             ],
             [
              1,
              "#f0f921"
             ]
            ],
            "type": "histogram2dcontour"
           }
          ],
          "mesh3d": [
           {
            "colorbar": {
             "outlinewidth": 0,
             "ticks": ""
            },
            "type": "mesh3d"
           }
          ],
          "parcoords": [
           {
            "line": {
             "colorbar": {
              "outlinewidth": 0,
              "ticks": ""
             }
            },
            "type": "parcoords"
           }
          ],
          "pie": [
           {
            "automargin": true,
            "type": "pie"
           }
          ],
          "scatter": [
           {
            "marker": {
             "colorbar": {
              "outlinewidth": 0,
              "ticks": ""
             }
            },
            "type": "scatter"
           }
          ],
          "scatter3d": [
           {
            "line": {
             "colorbar": {
              "outlinewidth": 0,
              "ticks": ""
             }
            },
            "marker": {
             "colorbar": {
              "outlinewidth": 0,
              "ticks": ""
             }
            },
            "type": "scatter3d"
           }
          ],
          "scattercarpet": [
           {
            "marker": {
             "colorbar": {
              "outlinewidth": 0,
              "ticks": ""
             }
            },
            "type": "scattercarpet"
           }
          ],
          "scattergeo": [
           {
            "marker": {
             "colorbar": {
              "outlinewidth": 0,
              "ticks": ""
             }
            },
            "type": "scattergeo"
           }
          ],
          "scattergl": [
           {
            "marker": {
             "colorbar": {
              "outlinewidth": 0,
              "ticks": ""
             }
            },
            "type": "scattergl"
           }
          ],
          "scattermapbox": [
           {
            "marker": {
             "colorbar": {
              "outlinewidth": 0,
              "ticks": ""
             }
            },
            "type": "scattermapbox"
           }
          ],
          "scatterpolar": [
           {
            "marker": {
             "colorbar": {
              "outlinewidth": 0,
              "ticks": ""
             }
            },
            "type": "scatterpolar"
           }
          ],
          "scatterpolargl": [
           {
            "marker": {
             "colorbar": {
              "outlinewidth": 0,
              "ticks": ""
             }
            },
            "type": "scatterpolargl"
           }
          ],
          "scatterternary": [
           {
            "marker": {
             "colorbar": {
              "outlinewidth": 0,
              "ticks": ""
             }
            },
            "type": "scatterternary"
           }
          ],
          "surface": [
           {
            "colorbar": {
             "outlinewidth": 0,
             "ticks": ""
            },
            "colorscale": [
             [
              0,
              "#0d0887"
             ],
             [
              0.1111111111111111,
              "#46039f"
             ],
             [
              0.2222222222222222,
              "#7201a8"
             ],
             [
              0.3333333333333333,
              "#9c179e"
             ],
             [
              0.4444444444444444,
              "#bd3786"
             ],
             [
              0.5555555555555556,
              "#d8576b"
             ],
             [
              0.6666666666666666,
              "#ed7953"
             ],
             [
              0.7777777777777778,
              "#fb9f3a"
             ],
             [
              0.8888888888888888,
              "#fdca26"
             ],
             [
              1,
              "#f0f921"
             ]
            ],
            "type": "surface"
           }
          ],
          "table": [
           {
            "cells": {
             "fill": {
              "color": "#EBF0F8"
             },
             "line": {
              "color": "white"
             }
            },
            "header": {
             "fill": {
              "color": "#C8D4E3"
             },
             "line": {
              "color": "white"
             }
            },
            "type": "table"
           }
          ]
         },
         "layout": {
          "annotationdefaults": {
           "arrowcolor": "#2a3f5f",
           "arrowhead": 0,
           "arrowwidth": 1
          },
          "autotypenumbers": "strict",
          "coloraxis": {
           "colorbar": {
            "outlinewidth": 0,
            "ticks": ""
           }
          },
          "colorscale": {
           "diverging": [
            [
             0,
             "#8e0152"
            ],
            [
             0.1,
             "#c51b7d"
            ],
            [
             0.2,
             "#de77ae"
            ],
            [
             0.3,
             "#f1b6da"
            ],
            [
             0.4,
             "#fde0ef"
            ],
            [
             0.5,
             "#f7f7f7"
            ],
            [
             0.6,
             "#e6f5d0"
            ],
            [
             0.7,
             "#b8e186"
            ],
            [
             0.8,
             "#7fbc41"
            ],
            [
             0.9,
             "#4d9221"
            ],
            [
             1,
             "#276419"
            ]
           ],
           "sequential": [
            [
             0,
             "#0d0887"
            ],
            [
             0.1111111111111111,
             "#46039f"
            ],
            [
             0.2222222222222222,
             "#7201a8"
            ],
            [
             0.3333333333333333,
             "#9c179e"
            ],
            [
             0.4444444444444444,
             "#bd3786"
            ],
            [
             0.5555555555555556,
             "#d8576b"
            ],
            [
             0.6666666666666666,
             "#ed7953"
            ],
            [
             0.7777777777777778,
             "#fb9f3a"
            ],
            [
             0.8888888888888888,
             "#fdca26"
            ],
            [
             1,
             "#f0f921"
            ]
           ],
           "sequentialminus": [
            [
             0,
             "#0d0887"
            ],
            [
             0.1111111111111111,
             "#46039f"
            ],
            [
             0.2222222222222222,
             "#7201a8"
            ],
            [
             0.3333333333333333,
             "#9c179e"
            ],
            [
             0.4444444444444444,
             "#bd3786"
            ],
            [
             0.5555555555555556,
             "#d8576b"
            ],
            [
             0.6666666666666666,
             "#ed7953"
            ],
            [
             0.7777777777777778,
             "#fb9f3a"
            ],
            [
             0.8888888888888888,
             "#fdca26"
            ],
            [
             1,
             "#f0f921"
            ]
           ]
          },
          "colorway": [
           "#636efa",
           "#EF553B",
           "#00cc96",
           "#ab63fa",
           "#FFA15A",
           "#19d3f3",
           "#FF6692",
           "#B6E880",
           "#FF97FF",
           "#FECB52"
          ],
          "font": {
           "color": "#2a3f5f"
          },
          "geo": {
           "bgcolor": "white",
           "lakecolor": "white",
           "landcolor": "#E5ECF6",
           "showlakes": true,
           "showland": true,
           "subunitcolor": "white"
          },
          "hoverlabel": {
           "align": "left"
          },
          "hovermode": "closest",
          "mapbox": {
           "style": "light"
          },
          "paper_bgcolor": "white",
          "plot_bgcolor": "#E5ECF6",
          "polar": {
           "angularaxis": {
            "gridcolor": "white",
            "linecolor": "white",
            "ticks": ""
           },
           "bgcolor": "#E5ECF6",
           "radialaxis": {
            "gridcolor": "white",
            "linecolor": "white",
            "ticks": ""
           }
          },
          "scene": {
           "xaxis": {
            "backgroundcolor": "#E5ECF6",
            "gridcolor": "white",
            "gridwidth": 2,
            "linecolor": "white",
            "showbackground": true,
            "ticks": "",
            "zerolinecolor": "white"
           },
           "yaxis": {
            "backgroundcolor": "#E5ECF6",
            "gridcolor": "white",
            "gridwidth": 2,
            "linecolor": "white",
            "showbackground": true,
            "ticks": "",
            "zerolinecolor": "white"
           },
           "zaxis": {
            "backgroundcolor": "#E5ECF6",
            "gridcolor": "white",
            "gridwidth": 2,
            "linecolor": "white",
            "showbackground": true,
            "ticks": "",
            "zerolinecolor": "white"
           }
          },
          "shapedefaults": {
           "line": {
            "color": "#2a3f5f"
           }
          },
          "ternary": {
           "aaxis": {
            "gridcolor": "white",
            "linecolor": "white",
            "ticks": ""
           },
           "baxis": {
            "gridcolor": "white",
            "linecolor": "white",
            "ticks": ""
           },
           "bgcolor": "#E5ECF6",
           "caxis": {
            "gridcolor": "white",
            "linecolor": "white",
            "ticks": ""
           }
          },
          "title": {
           "x": 0.05
          },
          "xaxis": {
           "automargin": true,
           "gridcolor": "white",
           "linecolor": "white",
           "ticks": "",
           "title": {
            "standoff": 15
           },
           "zerolinecolor": "white",
           "zerolinewidth": 2
          },
          "yaxis": {
           "automargin": true,
           "gridcolor": "white",
           "linecolor": "white",
           "ticks": "",
           "title": {
            "standoff": 15
           },
           "zerolinecolor": "white",
           "zerolinewidth": 2
          }
         }
        },
        "width": 1000,
        "xaxis": {
         "automargin": true,
         "gridcolor": "lightgrey",
         "gridwidth": 1,
         "linecolor": "black",
         "linewidth": 0.7,
         "mirror": true,
         "range": [
          [
           0.00048828125,
           0.00048828125,
           0.00048828125,
           0.00048828125,
           0.00048828125
          ],
          [
           0.00390625,
           0.00390625,
           0.00390625,
           0.00390625,
           0.00390625
          ]
         ],
         "showline": true,
         "side": "bottom",
         "tickangle": 0,
         "tickfont": {
          "color": "black",
          "family": "Times New Roman",
          "size": 20
         },
         "ticks": "outside",
         "title": {
          "font": {
           "color": "black",
           "family": "Times New Roman",
           "size": 25
          },
          "text": "h"
         },
         "type": "log"
        },
        "yaxis": {
         "automargin": true,
         "gridcolor": "lightgrey",
         "gridwidth": 1,
         "linecolor": "black",
         "linewidth": 0.7,
         "mirror": true,
         "range": [
          [
           0.0013517658072088462,
           0.0037002569333017474,
           0.005290214303688354,
           0.007262554591960056,
           0.01002383099554044
          ],
          [
           0.007003747999523698,
           0.012755990105305544,
           0.03178440049755028,
           0.03902124492685227,
           0.04915282712787505
          ]
         ],
         "showline": true,
         "side": "left",
         "tickangle": 0,
         "tickfont": {
          "color": "black",
          "family": "Times New Roman",
          "size": 20
         },
         "ticks": "outside",
         "title": {
          "font": {
           "color": "black",
           "family": "Times New Roman",
           "size": 25
          },
          "text": "E"
         },
         "type": "log"
        }
       }
      },
      "text/html": [
       "<div>                            <div id=\"e6e30044-5cdb-4a63-bb8a-46e6f649cf29\" class=\"plotly-graph-div\" style=\"height:500px; width:1000px;\"></div>            <script type=\"text/javascript\">                require([\"plotly\"], function(Plotly) {                    window.PLOTLYENV=window.PLOTLYENV || {};                                    if (document.getElementById(\"e6e30044-5cdb-4a63-bb8a-46e6f649cf29\")) {                    Plotly.newPlot(                        \"e6e30044-5cdb-4a63-bb8a-46e6f649cf29\",                        [{\"line\": {\"color\": \"blue\", \"dash\": \"solid\", \"width\": 3}, \"marker\": {\"line\": {\"color\": \"blue\", \"width\": 1}, \"size\": 15, \"symbol\": \"circle\"}, \"mode\": \"lines+markers\", \"name\": \"m= 0.01\", \"textfont\": {\"color\": \"LightSeaGreen\", \"family\": \"Times New Roman\", \"size\": 20}, \"type\": \"scatter\", \"x\": [0.00390625, 0.001953125, 0.0009765625, 0.00048828125], \"y\": [0.007003747999523698, 0.0014620855901155676, 0.0013517658072088462, 0.003712499860294054]}, {\"line\": {\"color\": \"red\", \"dash\": \"solid\", \"width\": 3}, \"marker\": {\"line\": {\"color\": \"red\", \"width\": 1}, \"size\": 15, \"symbol\": \"circle\"}, \"mode\": \"lines+markers\", \"name\": \"m= 0.5\", \"textfont\": {\"color\": \"LightSeaGreen\", \"family\": \"Times New Roman\", \"size\": 20}, \"type\": \"scatter\", \"x\": [0.00390625, 0.001953125, 0.0009765625, 0.00048828125], \"y\": [0.012755990105305544, 0.01235686099163536, 0.0037002569333017474, 0.004106810130725332]}, {\"line\": {\"color\": \"hsv(120,100,100)\", \"dash\": \"solid\", \"width\": 3}, \"marker\": {\"line\": {\"color\": \"hsv(120,100,100)\", \"width\": 1}, \"size\": 15, \"symbol\": \"circle\"}, \"mode\": \"lines+markers\", \"name\": \"m= 1\", \"textfont\": {\"color\": \"LightSeaGreen\", \"family\": \"Times New Roman\", \"size\": 20}, \"type\": \"scatter\", \"x\": [0.00390625, 0.001953125, 0.0009765625, 0.00048828125], \"y\": [0.03178440049755028, 0.01729936338374642, 0.01074854962865859, 0.005290214303688354]}, {\"line\": {\"color\": \"green\", \"dash\": \"solid\", \"width\": 3}, \"marker\": {\"line\": {\"color\": \"green\", \"width\": 1}, \"size\": 15, \"symbol\": \"circle\"}, \"mode\": \"lines+markers\", \"name\": \"m= 1.5\", \"textfont\": {\"color\": \"LightSeaGreen\", \"family\": \"Times New Roman\", \"size\": 20}, \"type\": \"scatter\", \"x\": [0.00390625, 0.001953125, 0.0009765625, 0.00048828125], \"y\": [0.03902124492685227, 0.024775527444981023, 0.012052532707225123, 0.007262554591960056]}, {\"line\": {\"color\": \"black\", \"dash\": \"solid\", \"width\": 3}, \"marker\": {\"line\": {\"color\": \"black\", \"width\": 1}, \"size\": 15, \"symbol\": \"circle\"}, \"mode\": \"lines+markers\", \"name\": \"m= 2\", \"textfont\": {\"color\": \"LightSeaGreen\", \"family\": \"Times New Roman\", \"size\": 20}, \"type\": \"scatter\", \"x\": [0.00390625, 0.001953125, 0.0009765625, 0.00048828125], \"y\": [0.04915282712787505, 0.028219535805393645, 0.01328697508579331, 0.01002383099554044]}],                        {\"autosize\": false, \"font\": {\"family\": \"Times New Roman\", \"size\": 20}, \"height\": 500, \"legend\": {\"bgcolor\": \"White\", \"bordercolor\": \"Black\", \"borderwidth\": 0.1, \"orientation\": \"v\", \"x\": 0.99, \"xanchor\": \"right\", \"y\": 0.01, \"yanchor\": \"bottom\"}, \"margin\": {\"b\": 0, \"l\": 0, \"pad\": 0.1, \"r\": 0, \"t\": 0}, \"paper_bgcolor\": \"rgba(255, 255, 255, 1)\", \"plot_bgcolor\": \"rgba(255, 255, 255, 1)\", \"showlegend\": true, \"template\": {\"data\": {\"bar\": [{\"error_x\": {\"color\": \"#2a3f5f\"}, \"error_y\": {\"color\": \"#2a3f5f\"}, \"marker\": {\"line\": {\"color\": \"#E5ECF6\", \"width\": 0.5}}, \"type\": \"bar\"}], \"barpolar\": [{\"marker\": {\"line\": {\"color\": \"#E5ECF6\", \"width\": 0.5}}, \"type\": \"barpolar\"}], \"carpet\": [{\"aaxis\": {\"endlinecolor\": \"#2a3f5f\", \"gridcolor\": \"white\", \"linecolor\": \"white\", \"minorgridcolor\": \"white\", \"startlinecolor\": \"#2a3f5f\"}, \"baxis\": {\"endlinecolor\": \"#2a3f5f\", \"gridcolor\": \"white\", \"linecolor\": \"white\", \"minorgridcolor\": \"white\", \"startlinecolor\": \"#2a3f5f\"}, \"type\": \"carpet\"}], \"choropleth\": [{\"colorbar\": {\"outlinewidth\": 0, \"ticks\": \"\"}, \"type\": \"choropleth\"}], \"contour\": [{\"colorbar\": {\"outlinewidth\": 0, \"ticks\": \"\"}, \"colorscale\": [[0.0, \"#0d0887\"], [0.1111111111111111, \"#46039f\"], [0.2222222222222222, \"#7201a8\"], [0.3333333333333333, \"#9c179e\"], [0.4444444444444444, \"#bd3786\"], [0.5555555555555556, \"#d8576b\"], [0.6666666666666666, \"#ed7953\"], [0.7777777777777778, \"#fb9f3a\"], [0.8888888888888888, \"#fdca26\"], [1.0, \"#f0f921\"]], \"type\": \"contour\"}], \"contourcarpet\": [{\"colorbar\": {\"outlinewidth\": 0, \"ticks\": \"\"}, \"type\": \"contourcarpet\"}], \"heatmap\": [{\"colorbar\": {\"outlinewidth\": 0, \"ticks\": \"\"}, \"colorscale\": [[0.0, \"#0d0887\"], [0.1111111111111111, \"#46039f\"], [0.2222222222222222, \"#7201a8\"], [0.3333333333333333, \"#9c179e\"], [0.4444444444444444, \"#bd3786\"], [0.5555555555555556, \"#d8576b\"], [0.6666666666666666, \"#ed7953\"], [0.7777777777777778, \"#fb9f3a\"], [0.8888888888888888, \"#fdca26\"], [1.0, \"#f0f921\"]], \"type\": \"heatmap\"}], \"heatmapgl\": [{\"colorbar\": {\"outlinewidth\": 0, \"ticks\": \"\"}, \"colorscale\": [[0.0, \"#0d0887\"], [0.1111111111111111, \"#46039f\"], [0.2222222222222222, \"#7201a8\"], [0.3333333333333333, \"#9c179e\"], [0.4444444444444444, \"#bd3786\"], [0.5555555555555556, \"#d8576b\"], [0.6666666666666666, \"#ed7953\"], [0.7777777777777778, \"#fb9f3a\"], [0.8888888888888888, \"#fdca26\"], [1.0, \"#f0f921\"]], \"type\": \"heatmapgl\"}], \"histogram\": [{\"marker\": {\"colorbar\": {\"outlinewidth\": 0, \"ticks\": \"\"}}, \"type\": \"histogram\"}], \"histogram2d\": [{\"colorbar\": {\"outlinewidth\": 0, \"ticks\": \"\"}, \"colorscale\": [[0.0, \"#0d0887\"], [0.1111111111111111, \"#46039f\"], [0.2222222222222222, \"#7201a8\"], [0.3333333333333333, \"#9c179e\"], [0.4444444444444444, \"#bd3786\"], [0.5555555555555556, \"#d8576b\"], [0.6666666666666666, \"#ed7953\"], [0.7777777777777778, \"#fb9f3a\"], [0.8888888888888888, \"#fdca26\"], [1.0, \"#f0f921\"]], \"type\": \"histogram2d\"}], \"histogram2dcontour\": [{\"colorbar\": {\"outlinewidth\": 0, \"ticks\": \"\"}, \"colorscale\": [[0.0, \"#0d0887\"], [0.1111111111111111, \"#46039f\"], [0.2222222222222222, \"#7201a8\"], [0.3333333333333333, \"#9c179e\"], [0.4444444444444444, \"#bd3786\"], [0.5555555555555556, \"#d8576b\"], [0.6666666666666666, \"#ed7953\"], [0.7777777777777778, \"#fb9f3a\"], [0.8888888888888888, \"#fdca26\"], [1.0, \"#f0f921\"]], \"type\": \"histogram2dcontour\"}], \"mesh3d\": [{\"colorbar\": {\"outlinewidth\": 0, \"ticks\": \"\"}, \"type\": \"mesh3d\"}], \"parcoords\": [{\"line\": {\"colorbar\": {\"outlinewidth\": 0, \"ticks\": \"\"}}, \"type\": \"parcoords\"}], \"pie\": [{\"automargin\": true, \"type\": \"pie\"}], \"scatter\": [{\"marker\": {\"colorbar\": {\"outlinewidth\": 0, \"ticks\": \"\"}}, \"type\": \"scatter\"}], \"scatter3d\": [{\"line\": {\"colorbar\": {\"outlinewidth\": 0, \"ticks\": \"\"}}, \"marker\": {\"colorbar\": {\"outlinewidth\": 0, \"ticks\": \"\"}}, \"type\": \"scatter3d\"}], \"scattercarpet\": [{\"marker\": {\"colorbar\": {\"outlinewidth\": 0, \"ticks\": \"\"}}, \"type\": \"scattercarpet\"}], \"scattergeo\": [{\"marker\": {\"colorbar\": {\"outlinewidth\": 0, \"ticks\": \"\"}}, \"type\": \"scattergeo\"}], \"scattergl\": [{\"marker\": {\"colorbar\": {\"outlinewidth\": 0, \"ticks\": \"\"}}, \"type\": \"scattergl\"}], \"scattermapbox\": [{\"marker\": {\"colorbar\": {\"outlinewidth\": 0, \"ticks\": \"\"}}, \"type\": \"scattermapbox\"}], \"scatterpolar\": [{\"marker\": {\"colorbar\": {\"outlinewidth\": 0, \"ticks\": \"\"}}, \"type\": \"scatterpolar\"}], \"scatterpolargl\": [{\"marker\": {\"colorbar\": {\"outlinewidth\": 0, \"ticks\": \"\"}}, \"type\": \"scatterpolargl\"}], \"scatterternary\": [{\"marker\": {\"colorbar\": {\"outlinewidth\": 0, \"ticks\": \"\"}}, \"type\": \"scatterternary\"}], \"surface\": [{\"colorbar\": {\"outlinewidth\": 0, \"ticks\": \"\"}, \"colorscale\": [[0.0, \"#0d0887\"], [0.1111111111111111, \"#46039f\"], [0.2222222222222222, \"#7201a8\"], [0.3333333333333333, \"#9c179e\"], [0.4444444444444444, \"#bd3786\"], [0.5555555555555556, \"#d8576b\"], [0.6666666666666666, \"#ed7953\"], [0.7777777777777778, \"#fb9f3a\"], [0.8888888888888888, \"#fdca26\"], [1.0, \"#f0f921\"]], \"type\": \"surface\"}], \"table\": [{\"cells\": {\"fill\": {\"color\": \"#EBF0F8\"}, \"line\": {\"color\": \"white\"}}, \"header\": {\"fill\": {\"color\": \"#C8D4E3\"}, \"line\": {\"color\": \"white\"}}, \"type\": \"table\"}]}, \"layout\": {\"annotationdefaults\": {\"arrowcolor\": \"#2a3f5f\", \"arrowhead\": 0, \"arrowwidth\": 1}, \"autotypenumbers\": \"strict\", \"coloraxis\": {\"colorbar\": {\"outlinewidth\": 0, \"ticks\": \"\"}}, \"colorscale\": {\"diverging\": [[0, \"#8e0152\"], [0.1, \"#c51b7d\"], [0.2, \"#de77ae\"], [0.3, \"#f1b6da\"], [0.4, \"#fde0ef\"], [0.5, \"#f7f7f7\"], [0.6, \"#e6f5d0\"], [0.7, \"#b8e186\"], [0.8, \"#7fbc41\"], [0.9, \"#4d9221\"], [1, \"#276419\"]], \"sequential\": [[0.0, \"#0d0887\"], [0.1111111111111111, \"#46039f\"], [0.2222222222222222, \"#7201a8\"], [0.3333333333333333, \"#9c179e\"], [0.4444444444444444, \"#bd3786\"], [0.5555555555555556, \"#d8576b\"], [0.6666666666666666, \"#ed7953\"], [0.7777777777777778, \"#fb9f3a\"], [0.8888888888888888, \"#fdca26\"], [1.0, \"#f0f921\"]], \"sequentialminus\": [[0.0, \"#0d0887\"], [0.1111111111111111, \"#46039f\"], [0.2222222222222222, \"#7201a8\"], [0.3333333333333333, \"#9c179e\"], [0.4444444444444444, \"#bd3786\"], [0.5555555555555556, \"#d8576b\"], [0.6666666666666666, \"#ed7953\"], [0.7777777777777778, \"#fb9f3a\"], [0.8888888888888888, \"#fdca26\"], [1.0, \"#f0f921\"]]}, \"colorway\": [\"#636efa\", \"#EF553B\", \"#00cc96\", \"#ab63fa\", \"#FFA15A\", \"#19d3f3\", \"#FF6692\", \"#B6E880\", \"#FF97FF\", \"#FECB52\"], \"font\": {\"color\": \"#2a3f5f\"}, \"geo\": {\"bgcolor\": \"white\", \"lakecolor\": \"white\", \"landcolor\": \"#E5ECF6\", \"showlakes\": true, \"showland\": true, \"subunitcolor\": \"white\"}, \"hoverlabel\": {\"align\": \"left\"}, \"hovermode\": \"closest\", \"mapbox\": {\"style\": \"light\"}, \"paper_bgcolor\": \"white\", \"plot_bgcolor\": \"#E5ECF6\", \"polar\": {\"angularaxis\": {\"gridcolor\": \"white\", \"linecolor\": \"white\", \"ticks\": \"\"}, \"bgcolor\": \"#E5ECF6\", \"radialaxis\": {\"gridcolor\": \"white\", \"linecolor\": \"white\", \"ticks\": \"\"}}, \"scene\": {\"xaxis\": {\"backgroundcolor\": \"#E5ECF6\", \"gridcolor\": \"white\", \"gridwidth\": 2, \"linecolor\": \"white\", \"showbackground\": true, \"ticks\": \"\", \"zerolinecolor\": \"white\"}, \"yaxis\": {\"backgroundcolor\": \"#E5ECF6\", \"gridcolor\": \"white\", \"gridwidth\": 2, \"linecolor\": \"white\", \"showbackground\": true, \"ticks\": \"\", \"zerolinecolor\": \"white\"}, \"zaxis\": {\"backgroundcolor\": \"#E5ECF6\", \"gridcolor\": \"white\", \"gridwidth\": 2, \"linecolor\": \"white\", \"showbackground\": true, \"ticks\": \"\", \"zerolinecolor\": \"white\"}}, \"shapedefaults\": {\"line\": {\"color\": \"#2a3f5f\"}}, \"ternary\": {\"aaxis\": {\"gridcolor\": \"white\", \"linecolor\": \"white\", \"ticks\": \"\"}, \"baxis\": {\"gridcolor\": \"white\", \"linecolor\": \"white\", \"ticks\": \"\"}, \"bgcolor\": \"#E5ECF6\", \"caxis\": {\"gridcolor\": \"white\", \"linecolor\": \"white\", \"ticks\": \"\"}}, \"title\": {\"x\": 0.05}, \"xaxis\": {\"automargin\": true, \"gridcolor\": \"white\", \"linecolor\": \"white\", \"ticks\": \"\", \"title\": {\"standoff\": 15}, \"zerolinecolor\": \"white\", \"zerolinewidth\": 2}, \"yaxis\": {\"automargin\": true, \"gridcolor\": \"white\", \"linecolor\": \"white\", \"ticks\": \"\", \"title\": {\"standoff\": 15}, \"zerolinecolor\": \"white\", \"zerolinewidth\": 2}}}, \"width\": 1000, \"xaxis\": {\"automargin\": true, \"gridcolor\": \"lightgrey\", \"gridwidth\": 1, \"linecolor\": \"black\", \"linewidth\": 0.7, \"mirror\": true, \"range\": [[0.00048828125, 0.00048828125, 0.00048828125, 0.00048828125, 0.00048828125], [0.00390625, 0.00390625, 0.00390625, 0.00390625, 0.00390625]], \"showline\": true, \"side\": \"bottom\", \"tickangle\": 0, \"tickfont\": {\"color\": \"black\", \"family\": \"Times New Roman\", \"size\": 20}, \"ticks\": \"outside\", \"title\": {\"font\": {\"color\": \"black\", \"family\": \"Times New Roman\", \"size\": 25}, \"text\": \"h\"}, \"type\": \"log\"}, \"yaxis\": {\"automargin\": true, \"gridcolor\": \"lightgrey\", \"gridwidth\": 1, \"linecolor\": \"black\", \"linewidth\": 0.7, \"mirror\": true, \"range\": [[0.0013517658072088462, 0.0037002569333017474, 0.005290214303688354, 0.007262554591960056, 0.01002383099554044], [0.007003747999523698, 0.012755990105305544, 0.03178440049755028, 0.03902124492685227, 0.04915282712787505]], \"showline\": true, \"side\": \"left\", \"tickangle\": 0, \"tickfont\": {\"color\": \"black\", \"family\": \"Times New Roman\", \"size\": 20}, \"ticks\": \"outside\", \"title\": {\"font\": {\"color\": \"black\", \"family\": \"Times New Roman\", \"size\": 25}, \"text\": \"E\"}, \"type\": \"log\"}},                        {\"responsive\": true}                    ).then(function(){\n",
       "                            \n",
       "var gd = document.getElementById('e6e30044-5cdb-4a63-bb8a-46e6f649cf29');\n",
       "var x = new MutationObserver(function (mutations, observer) {{\n",
       "        var display = window.getComputedStyle(gd).display;\n",
       "        if (!display || display === 'none') {{\n",
       "            console.log([gd, 'removed!']);\n",
       "            Plotly.purge(gd);\n",
       "            observer.disconnect();\n",
       "        }}\n",
       "}});\n",
       "\n",
       "// Listen for the removal of the full notebook cells\n",
       "var notebookContainer = gd.closest('#notebook-container');\n",
       "if (notebookContainer) {{\n",
       "    x.observe(notebookContainer, {childList: true});\n",
       "}}\n",
       "\n",
       "// Listen for the clearing of the current output cell\n",
       "var outputEl = gd.closest('.output');\n",
       "if (outputEl) {{\n",
       "    x.observe(outputEl, {childList: true});\n",
       "}}\n",
       "\n",
       "                        })                };                });            </script>        </div>"
      ]
     },
     "metadata": {},
     "output_type": "display_data"
    },
    {
     "name": "stdout",
     "output_type": "stream",
     "text": [
      "Successfully generated: /Users/weugene//Dropbox/Aslan-Evgenii/media/pictures/Sangani/fixed_phi=0.3_m=11_E_vs_h.pdf\n",
      "phi= 0.4\n"
     ]
    },
    {
     "data": {
      "image/png": "[encoded data removed]",
      "text/plain": [
       "<Figure size 432x288 with 2 Axes>"
      ]
     },
     "metadata": {
      "needs_background": "light"
     },
     "output_type": "display_data"
    },
    {
     "data": {
      "application/vnd.plotly.v1+json": {
       "config": {
        "plotlyServerURL": "https://plot.ly"
       },
       "data": [
        {
         "line": {
          "color": "blue",
          "dash": "solid",
          "width": 3
         },
         "marker": {
          "line": {
           "color": "blue",
           "width": 1
          },
          "size": 15,
          "symbol": "circle"
         },
         "mode": "lines+markers",
         "name": "m= 0.01",
         "textfont": {
          "color": "LightSeaGreen",
          "family": "Times New Roman",
          "size": 20
         },
         "type": "scatter",
         "x": [
          0.00390625,
          0.001953125,
          0.0009765625,
          0.00048828125
         ],
         "y": [
          0.0011185159339900663,
          0.008969390431439975,
          0.011139769719420496,
          0.013525376768074407
         ]
        },
        {
         "line": {
          "color": "red",
          "dash": "solid",
          "width": 3
         },
         "marker": {
          "line": {
           "color": "red",
           "width": 1
          },
          "size": 15,
          "symbol": "circle"
         },
         "mode": "lines+markers",
         "name": "m= 0.5",
         "textfont": {
          "color": "LightSeaGreen",
          "family": "Times New Roman",
          "size": 20
         },
         "type": "scatter",
         "x": [
          0.00390625,
          0.001953125,
          0.0009765625,
          0.00048828125
         ],
         "y": [
          0.024072337335496047,
          0.02434352906369617,
          0.013943121833426782,
          0.01403398337479034
         ]
        },
        {
         "line": {
          "color": "hsv(120,100,100)",
          "dash": "solid",
          "width": 3
         },
         "marker": {
          "line": {
           "color": "hsv(120,100,100)",
           "width": 1
          },
          "size": 15,
          "symbol": "circle"
         },
         "mode": "lines+markers",
         "name": "m= 1",
         "textfont": {
          "color": "LightSeaGreen",
          "family": "Times New Roman",
          "size": 20
         },
         "type": "scatter",
         "x": [
          0.00390625,
          0.001953125,
          0.0009765625,
          0.00048828125
         ],
         "y": [
          0.046261865547361426,
          0.03088650621801707,
          0.02235654354412991,
          0.015560413767095063
         ]
        },
        {
         "line": {
          "color": "green",
          "dash": "solid",
          "width": 3
         },
         "marker": {
          "line": {
           "color": "green",
           "width": 1
          },
          "size": 15,
          "symbol": "circle"
         },
         "mode": "lines+markers",
         "name": "m= 1.5",
         "textfont": {
          "color": "LightSeaGreen",
          "family": "Times New Roman",
          "size": 20
         },
         "type": "scatter",
         "x": [
          0.00390625,
          0.001953125,
          0.0009765625,
          0.00048828125
         ],
         "y": [
          0.056615574195603424,
          0.040705265147467834,
          0.024068259275675408,
          0.018104464420936266
         ]
        },
        {
         "line": {
          "color": "black",
          "dash": "solid",
          "width": 3
         },
         "marker": {
          "line": {
           "color": "black",
           "width": 1
          },
          "size": 15,
          "symbol": "circle"
         },
         "mode": "lines+markers",
         "name": "m= 2",
         "textfont": {
          "color": "LightSeaGreen",
          "family": "Times New Roman",
          "size": 20
         },
         "type": "scatter",
         "x": [
          0.00390625,
          0.001953125,
          0.0009765625,
          0.00048828125
         ],
         "y": [
          0.07111076630314221,
          0.0454167005797554,
          0.025767818848171607,
          0.021666135336313952
         ]
        }
       ],
       "layout": {
        "autosize": false,
        "font": {
         "family": "Times New Roman",
         "size": 20
        },
        "height": 500,
        "legend": {
         "bgcolor": "White",
         "bordercolor": "Black",
         "borderwidth": 0.1,
         "orientation": "v",
         "x": 0.99,
         "xanchor": "right",
         "y": 0.01,
         "yanchor": "bottom"
        },
        "margin": {
         "b": 0,
         "l": 0,
         "pad": 0.1,
         "r": 0,
         "t": 0
        },
        "paper_bgcolor": "rgba(255, 255, 255, 1)",
        "plot_bgcolor": "rgba(255, 255, 255, 1)",
        "showlegend": true,
        "template": {
         "data": {
          "bar": [
           {
            "error_x": {
             "color": "#2a3f5f"
            },
            "error_y": {
             "color": "#2a3f5f"
            },
            "marker": {
             "line": {
              "color": "#E5ECF6",
              "width": 0.5
             }
            },
            "type": "bar"
           }
          ],
          "barpolar": [
           {
            "marker": {
             "line": {
              "color": "#E5ECF6",
              "width": 0.5
             }
            },
            "type": "barpolar"
           }
          ],
          "carpet": [
           {
            "aaxis": {
             "endlinecolor": "#2a3f5f",
             "gridcolor": "white",
             "linecolor": "white",
             "minorgridcolor": "white",
             "startlinecolor": "#2a3f5f"
            },
            "baxis": {
             "endlinecolor": "#2a3f5f",
             "gridcolor": "white",
             "linecolor": "white",
             "minorgridcolor": "white",
             "startlinecolor": "#2a3f5f"
            },
            "type": "carpet"
           }
          ],
          "choropleth": [
           {
            "colorbar": {
             "outlinewidth": 0,
             "ticks": ""
            },
            "type": "choropleth"
           }
          ],
          "contour": [
           {
            "colorbar": {
             "outlinewidth": 0,
             "ticks": ""
            },
            "colorscale": [
             [
              0,
              "#0d0887"
             ],
             [
              0.1111111111111111,
              "#46039f"
             ],
             [
              0.2222222222222222,
              "#7201a8"
             ],
             [
              0.3333333333333333,
              "#9c179e"
             ],
             [
              0.4444444444444444,
              "#bd3786"
             ],
             [
              0.5555555555555556,
              "#d8576b"
             ],
             [
              0.6666666666666666,
              "#ed7953"
             ],
             [
              0.7777777777777778,
              "#fb9f3a"
             ],
             [
              0.8888888888888888,
              "#fdca26"
             ],
             [
              1,
              "#f0f921"
             ]
            ],
            "type": "contour"
           }
          ],
          "contourcarpet": [
           {
            "colorbar": {
             "outlinewidth": 0,
             "ticks": ""
            },
            "type": "contourcarpet"
           }
          ],
          "heatmap": [
           {
            "colorbar": {
             "outlinewidth": 0,
             "ticks": ""
            },
            "colorscale": [
             [
              0,
              "#0d0887"
             ],
             [
              0.1111111111111111,
              "#46039f"
             ],
             [
              0.2222222222222222,
              "#7201a8"
             ],
             [
              0.3333333333333333,
              "#9c179e"
             ],
             [
              0.4444444444444444,
              "#bd3786"
             ],
             [
              0.5555555555555556,
              "#d8576b"
             ],
             [
              0.6666666666666666,
              "#ed7953"
             ],
             [
              0.7777777777777778,
              "#fb9f3a"
             ],
             [
              0.8888888888888888,
              "#fdca26"
             ],
             [
              1,
              "#f0f921"
             ]
            ],
            "type": "heatmap"
           }
          ],
          "heatmapgl": [
           {
            "colorbar": {
             "outlinewidth": 0,
             "ticks": ""
            },
            "colorscale": [
             [
              0,
              "#0d0887"
             ],
             [
              0.1111111111111111,
              "#46039f"
             ],
             [
              0.2222222222222222,
              "#7201a8"
             ],
             [
              0.3333333333333333,
              "#9c179e"
             ],
             [
              0.4444444444444444,
              "#bd3786"
             ],
             [
              0.5555555555555556,
              "#d8576b"
             ],
             [
              0.6666666666666666,
              "#ed7953"
             ],
             [
              0.7777777777777778,
              "#fb9f3a"
             ],
             [
              0.8888888888888888,
              "#fdca26"
             ],
             [
              1,
              "#f0f921"
             ]
            ],
            "type": "heatmapgl"
           }
          ],
          "histogram": [
           {
            "marker": {
             "colorbar": {
              "outlinewidth": 0,
              "ticks": ""
             }
            },
            "type": "histogram"
           }
          ],
          "histogram2d": [
           {
            "colorbar": {
             "outlinewidth": 0,
             "ticks": ""
            },
            "colorscale": [
             [
              0,
              "#0d0887"
             ],
             [
              0.1111111111111111,
              "#46039f"
             ],
             [
              0.2222222222222222,
              "#7201a8"
             ],
             [
              0.3333333333333333,
              "#9c179e"
             ],
             [
              0.4444444444444444,
              "#bd3786"
             ],
             [
              0.5555555555555556,
              "#d8576b"
             ],
             [
              0.6666666666666666,
              "#ed7953"
             ],
             [
              0.7777777777777778,
              "#fb9f3a"
             ],
             [
              0.8888888888888888,
              "#fdca26"
             ],
             [
              1,
              "#f0f921"
             ]
            ],
            "type": "histogram2d"
           }
          ],
          "histogram2dcontour": [
           {
            "colorbar": {
             "outlinewidth": 0,
             "ticks": ""
            },
            "colorscale": [
             [
              0,
              "#0d0887"
             ],
             [
              0.1111111111111111,
              "#46039f"
             ],
             [
              0.2222222222222222,
              "#7201a8"
             ],
             [
              0.3333333333333333,
              "#9c179e"
             ],
             [
              0.4444444444444444,
              "#bd3786"
             ],
             [
              0.5555555555555556,
              "#d8576b"
             ],
             [
              0.6666666666666666,
              "#ed7953"
             ],
             [
              0.7777777777777778,
              "#fb9f3a"
             ],
             [
              0.8888888888888888,
              "#fdca26"
             ],
             [
              1,
              "#f0f921"
             ]
            ],
            "type": "histogram2dcontour"
           }
          ],
          "mesh3d": [
           {
            "colorbar": {
             "outlinewidth": 0,
             "ticks": ""
            },
            "type": "mesh3d"
           }
          ],
          "parcoords": [
           {
            "line": {
             "colorbar": {
              "outlinewidth": 0,
              "ticks": ""
             }
            },
            "type": "parcoords"
           }
          ],
          "pie": [
           {
            "automargin": true,
            "type": "pie"
           }
          ],
          "scatter": [
           {
            "marker": {
             "colorbar": {
              "outlinewidth": 0,
              "ticks": ""
             }
            },
            "type": "scatter"
           }
          ],
          "scatter3d": [
           {
            "line": {
             "colorbar": {
              "outlinewidth": 0,
              "ticks": ""
             }
            },
            "marker": {
             "colorbar": {
              "outlinewidth": 0,
              "ticks": ""
             }
            },
            "type": "scatter3d"
           }
          ],
          "scattercarpet": [
           {
            "marker": {
             "colorbar": {
              "outlinewidth": 0,
              "ticks": ""
             }
            },
            "type": "scattercarpet"
           }
          ],
          "scattergeo": [
           {
            "marker": {
             "colorbar": {
              "outlinewidth": 0,
              "ticks": ""
             }
            },
            "type": "scattergeo"
           }
          ],
          "scattergl": [
           {
            "marker": {
             "colorbar": {
              "outlinewidth": 0,
              "ticks": ""
             }
            },
            "type": "scattergl"
           }
          ],
          "scattermapbox": [
           {
            "marker": {
             "colorbar": {
              "outlinewidth": 0,
              "ticks": ""
             }
            },
            "type": "scattermapbox"
           }
          ],
          "scatterpolar": [
           {
            "marker": {
             "colorbar": {
              "outlinewidth": 0,
              "ticks": ""
             }
            },
            "type": "scatterpolar"
           }
          ],
          "scatterpolargl": [
           {
            "marker": {
             "colorbar": {
              "outlinewidth": 0,
              "ticks": ""
             }
            },
            "type": "scatterpolargl"
           }
          ],
          "scatterternary": [
           {
            "marker": {
             "colorbar": {
              "outlinewidth": 0,
              "ticks": ""
             }
            },
            "type": "scatterternary"
           }
          ],
          "surface": [
           {
            "colorbar": {
             "outlinewidth": 0,
             "ticks": ""
            },
            "colorscale": [
             [
              0,
              "#0d0887"
             ],
             [
              0.1111111111111111,
              "#46039f"
             ],
             [
              0.2222222222222222,
              "#7201a8"
             ],
             [
              0.3333333333333333,
              "#9c179e"
             ],
             [
              0.4444444444444444,
              "#bd3786"
             ],
             [
              0.5555555555555556,
              "#d8576b"
             ],
             [
              0.6666666666666666,
              "#ed7953"
             ],
             [
              0.7777777777777778,
              "#fb9f3a"
             ],
             [
              0.8888888888888888,
              "#fdca26"
             ],
             [
              1,
              "#f0f921"
             ]
            ],
            "type": "surface"
           }
          ],
          "table": [
           {
            "cells": {
             "fill": {
              "color": "#EBF0F8"
             },
             "line": {
              "color": "white"
             }
            },
            "header": {
             "fill": {
              "color": "#C8D4E3"
             },
             "line": {
              "color": "white"
             }
            },
            "type": "table"
           }
          ]
         },
         "layout": {
          "annotationdefaults": {
           "arrowcolor": "#2a3f5f",
           "arrowhead": 0,
           "arrowwidth": 1
          },
          "autotypenumbers": "strict",
          "coloraxis": {
           "colorbar": {
            "outlinewidth": 0,
            "ticks": ""
           }
          },
          "colorscale": {
           "diverging": [
            [
             0,
             "#8e0152"
            ],
            [
             0.1,
             "#c51b7d"
            ],
            [
             0.2,
             "#de77ae"
            ],
            [
             0.3,
             "#f1b6da"
            ],
            [
             0.4,
             "#fde0ef"
            ],
            [
             0.5,
             "#f7f7f7"
            ],
            [
             0.6,
             "#e6f5d0"
            ],
            [
             0.7,
             "#b8e186"
            ],
            [
             0.8,
             "#7fbc41"
            ],
            [
             0.9,
             "#4d9221"
            ],
            [
             1,
             "#276419"
            ]
           ],
           "sequential": [
            [
             0,
             "#0d0887"
            ],
            [
             0.1111111111111111,
             "#46039f"
            ],
            [
             0.2222222222222222,
             "#7201a8"
            ],
            [
             0.3333333333333333,
             "#9c179e"
            ],
            [
             0.4444444444444444,
             "#bd3786"
            ],
            [
             0.5555555555555556,
             "#d8576b"
            ],
            [
             0.6666666666666666,
             "#ed7953"
            ],
            [
             0.7777777777777778,
             "#fb9f3a"
            ],
            [
             0.8888888888888888,
             "#fdca26"
            ],
            [
             1,
             "#f0f921"
            ]
           ],
           "sequentialminus": [
            [
             0,
             "#0d0887"
            ],
            [
             0.1111111111111111,
             "#46039f"
            ],
            [
             0.2222222222222222,
             "#7201a8"
            ],
            [
             0.3333333333333333,
             "#9c179e"
            ],
            [
             0.4444444444444444,
             "#bd3786"
            ],
            [
             0.5555555555555556,
             "#d8576b"
            ],
            [
             0.6666666666666666,
             "#ed7953"
            ],
            [
             0.7777777777777778,
             "#fb9f3a"
            ],
            [
             0.8888888888888888,
             "#fdca26"
            ],
            [
             1,
             "#f0f921"
            ]
           ]
          },
          "colorway": [
           "#636efa",
           "#EF553B",
           "#00cc96",
           "#ab63fa",
           "#FFA15A",
           "#19d3f3",
           "#FF6692",
           "#B6E880",
           "#FF97FF",
           "#FECB52"
          ],
          "font": {
           "color": "#2a3f5f"
          },
          "geo": {
           "bgcolor": "white",
           "lakecolor": "white",
           "landcolor": "#E5ECF6",
           "showlakes": true,
           "showland": true,
           "subunitcolor": "white"
          },
          "hoverlabel": {
           "align": "left"
          },
          "hovermode": "closest",
          "mapbox": {
           "style": "light"
          },
          "paper_bgcolor": "white",
          "plot_bgcolor": "#E5ECF6",
          "polar": {
           "angularaxis": {
            "gridcolor": "white",
            "linecolor": "white",
            "ticks": ""
           },
           "bgcolor": "#E5ECF6",
           "radialaxis": {
            "gridcolor": "white",
            "linecolor": "white",
            "ticks": ""
           }
          },
          "scene": {
           "xaxis": {
            "backgroundcolor": "#E5ECF6",
            "gridcolor": "white",
            "gridwidth": 2,
            "linecolor": "white",
            "showbackground": true,
            "ticks": "",
            "zerolinecolor": "white"
           },
           "yaxis": {
            "backgroundcolor": "#E5ECF6",
            "gridcolor": "white",
            "gridwidth": 2,
            "linecolor": "white",
            "showbackground": true,
            "ticks": "",
            "zerolinecolor": "white"
           },
           "zaxis": {
            "backgroundcolor": "#E5ECF6",
            "gridcolor": "white",
            "gridwidth": 2,
            "linecolor": "white",
            "showbackground": true,
            "ticks": "",
            "zerolinecolor": "white"
           }
          },
          "shapedefaults": {
           "line": {
            "color": "#2a3f5f"
           }
          },
          "ternary": {
           "aaxis": {
            "gridcolor": "white",
            "linecolor": "white",
            "ticks": ""
           },
           "baxis": {
            "gridcolor": "white",
            "linecolor": "white",
            "ticks": ""
           },
           "bgcolor": "#E5ECF6",
           "caxis": {
            "gridcolor": "white",
            "linecolor": "white",
            "ticks": ""
           }
          },
          "title": {
           "x": 0.05
          },
          "xaxis": {
           "automargin": true,
           "gridcolor": "white",
           "linecolor": "white",
           "ticks": "",
           "title": {
            "standoff": 15
           },
           "zerolinecolor": "white",
           "zerolinewidth": 2
          },
          "yaxis": {
           "automargin": true,
           "gridcolor": "white",
           "linecolor": "white",
           "ticks": "",
           "title": {
            "standoff": 15
           },
           "zerolinecolor": "white",
           "zerolinewidth": 2
          }
         }
        },
        "width": 1000,
        "xaxis": {
         "automargin": true,
         "gridcolor": "lightgrey",
         "gridwidth": 1,
         "linecolor": "black",
         "linewidth": 0.7,
         "mirror": true,
         "range": [
          [
           0.00048828125,
           0.00048828125,
           0.00048828125,
           0.00048828125,
           0.00048828125
          ],
          [
           0.00390625,
           0.00390625,
           0.00390625,
           0.00390625,
           0.00390625
          ]
         ],
         "showline": true,
         "side": "bottom",
         "tickangle": 0,
         "tickfont": {
          "color": "black",
          "family": "Times New Roman",
          "size": 20
         },
         "ticks": "outside",
         "title": {
          "font": {
           "color": "black",
           "family": "Times New Roman",
           "size": 25
          },
          "text": "h"
         },
         "type": "log"
        },
        "yaxis": {
         "automargin": true,
         "gridcolor": "lightgrey",
         "gridwidth": 1,
         "linecolor": "black",
         "linewidth": 0.7,
         "mirror": true,
         "range": [
          [
           0.0011185159339900663,
           0.013943121833426782,
           0.015560413767095063,
           0.018104464420936266,
           0.021666135336313952
          ],
          [
           0.013525376768074407,
           0.02434352906369617,
           0.046261865547361426,
           0.056615574195603424,
           0.07111076630314221
          ]
         ],
         "showline": true,
         "side": "left",
         "tickangle": 0,
         "tickfont": {
          "color": "black",
          "family": "Times New Roman",
          "size": 20
         },
         "ticks": "outside",
         "title": {
          "font": {
           "color": "black",
           "family": "Times New Roman",
           "size": 25
          },
          "text": "E"
         },
         "type": "log"
        }
       }
      },
      "text/html": [
       "<div>                            <div id=\"7cade19d-6561-4411-9c25-06c2b74a39ba\" class=\"plotly-graph-div\" style=\"height:500px; width:1000px;\"></div>            <script type=\"text/javascript\">                require([\"plotly\"], function(Plotly) {                    window.PLOTLYENV=window.PLOTLYENV || {};                                    if (document.getElementById(\"7cade19d-6561-4411-9c25-06c2b74a39ba\")) {                    Plotly.newPlot(                        \"7cade19d-6561-4411-9c25-06c2b74a39ba\",                        [{\"line\": {\"color\": \"blue\", \"dash\": \"solid\", \"width\": 3}, \"marker\": {\"line\": {\"color\": \"blue\", \"width\": 1}, \"size\": 15, \"symbol\": \"circle\"}, \"mode\": \"lines+markers\", \"name\": \"m= 0.01\", \"textfont\": {\"color\": \"LightSeaGreen\", \"family\": \"Times New Roman\", \"size\": 20}, \"type\": \"scatter\", \"x\": [0.00390625, 0.001953125, 0.0009765625, 0.00048828125], \"y\": [0.0011185159339900663, 0.008969390431439975, 0.011139769719420496, 0.013525376768074407]}, {\"line\": {\"color\": \"red\", \"dash\": \"solid\", \"width\": 3}, \"marker\": {\"line\": {\"color\": \"red\", \"width\": 1}, \"size\": 15, \"symbol\": \"circle\"}, \"mode\": \"lines+markers\", \"name\": \"m= 0.5\", \"textfont\": {\"color\": \"LightSeaGreen\", \"family\": \"Times New Roman\", \"size\": 20}, \"type\": \"scatter\", \"x\": [0.00390625, 0.001953125, 0.0009765625, 0.00048828125], \"y\": [0.024072337335496047, 0.02434352906369617, 0.013943121833426782, 0.01403398337479034]}, {\"line\": {\"color\": \"hsv(120,100,100)\", \"dash\": \"solid\", \"width\": 3}, \"marker\": {\"line\": {\"color\": \"hsv(120,100,100)\", \"width\": 1}, \"size\": 15, \"symbol\": \"circle\"}, \"mode\": \"lines+markers\", \"name\": \"m= 1\", \"textfont\": {\"color\": \"LightSeaGreen\", \"family\": \"Times New Roman\", \"size\": 20}, \"type\": \"scatter\", \"x\": [0.00390625, 0.001953125, 0.0009765625, 0.00048828125], \"y\": [0.046261865547361426, 0.03088650621801707, 0.02235654354412991, 0.015560413767095063]}, {\"line\": {\"color\": \"green\", \"dash\": \"solid\", \"width\": 3}, \"marker\": {\"line\": {\"color\": \"green\", \"width\": 1}, \"size\": 15, \"symbol\": \"circle\"}, \"mode\": \"lines+markers\", \"name\": \"m= 1.5\", \"textfont\": {\"color\": \"LightSeaGreen\", \"family\": \"Times New Roman\", \"size\": 20}, \"type\": \"scatter\", \"x\": [0.00390625, 0.001953125, 0.0009765625, 0.00048828125], \"y\": [0.056615574195603424, 0.040705265147467834, 0.024068259275675408, 0.018104464420936266]}, {\"line\": {\"color\": \"black\", \"dash\": \"solid\", \"width\": 3}, \"marker\": {\"line\": {\"color\": \"black\", \"width\": 1}, \"size\": 15, \"symbol\": \"circle\"}, \"mode\": \"lines+markers\", \"name\": \"m= 2\", \"textfont\": {\"color\": \"LightSeaGreen\", \"family\": \"Times New Roman\", \"size\": 20}, \"type\": \"scatter\", \"x\": [0.00390625, 0.001953125, 0.0009765625, 0.00048828125], \"y\": [0.07111076630314221, 0.0454167005797554, 0.025767818848171607, 0.021666135336313952]}],                        {\"autosize\": false, \"font\": {\"family\": \"Times New Roman\", \"size\": 20}, \"height\": 500, \"legend\": {\"bgcolor\": \"White\", \"bordercolor\": \"Black\", \"borderwidth\": 0.1, \"orientation\": \"v\", \"x\": 0.99, \"xanchor\": \"right\", \"y\": 0.01, \"yanchor\": \"bottom\"}, \"margin\": {\"b\": 0, \"l\": 0, \"pad\": 0.1, \"r\": 0, \"t\": 0}, \"paper_bgcolor\": \"rgba(255, 255, 255, 1)\", \"plot_bgcolor\": \"rgba(255, 255, 255, 1)\", \"showlegend\": true, \"template\": {\"data\": {\"bar\": [{\"error_x\": {\"color\": \"#2a3f5f\"}, \"error_y\": {\"color\": \"#2a3f5f\"}, \"marker\": {\"line\": {\"color\": \"#E5ECF6\", \"width\": 0.5}}, \"type\": \"bar\"}], \"barpolar\": [{\"marker\": {\"line\": {\"color\": \"#E5ECF6\", \"width\": 0.5}}, \"type\": \"barpolar\"}], \"carpet\": [{\"aaxis\": {\"endlinecolor\": \"#2a3f5f\", \"gridcolor\": \"white\", \"linecolor\": \"white\", \"minorgridcolor\": \"white\", \"startlinecolor\": \"#2a3f5f\"}, \"baxis\": {\"endlinecolor\": \"#2a3f5f\", \"gridcolor\": \"white\", \"linecolor\": \"white\", \"minorgridcolor\": \"white\", \"startlinecolor\": \"#2a3f5f\"}, \"type\": \"carpet\"}], \"choropleth\": [{\"colorbar\": {\"outlinewidth\": 0, \"ticks\": \"\"}, \"type\": \"choropleth\"}], \"contour\": [{\"colorbar\": {\"outlinewidth\": 0, \"ticks\": \"\"}, \"colorscale\": [[0.0, \"#0d0887\"], [0.1111111111111111, \"#46039f\"], [0.2222222222222222, \"#7201a8\"], [0.3333333333333333, \"#9c179e\"], [0.4444444444444444, \"#bd3786\"], [0.5555555555555556, \"#d8576b\"], [0.6666666666666666, \"#ed7953\"], [0.7777777777777778, \"#fb9f3a\"], [0.8888888888888888, \"#fdca26\"], [1.0, \"#f0f921\"]], \"type\": \"contour\"}], \"contourcarpet\": [{\"colorbar\": {\"outlinewidth\": 0, \"ticks\": \"\"}, \"type\": \"contourcarpet\"}], \"heatmap\": [{\"colorbar\": {\"outlinewidth\": 0, \"ticks\": \"\"}, \"colorscale\": [[0.0, \"#0d0887\"], [0.1111111111111111, \"#46039f\"], [0.2222222222222222, \"#7201a8\"], [0.3333333333333333, \"#9c179e\"], [0.4444444444444444, \"#bd3786\"], [0.5555555555555556, \"#d8576b\"], [0.6666666666666666, \"#ed7953\"], [0.7777777777777778, \"#fb9f3a\"], [0.8888888888888888, \"#fdca26\"], [1.0, \"#f0f921\"]], \"type\": \"heatmap\"}], \"heatmapgl\": [{\"colorbar\": {\"outlinewidth\": 0, \"ticks\": \"\"}, \"colorscale\": [[0.0, \"#0d0887\"], [0.1111111111111111, \"#46039f\"], [0.2222222222222222, \"#7201a8\"], [0.3333333333333333, \"#9c179e\"], [0.4444444444444444, \"#bd3786\"], [0.5555555555555556, \"#d8576b\"], [0.6666666666666666, \"#ed7953\"], [0.7777777777777778, \"#fb9f3a\"], [0.8888888888888888, \"#fdca26\"], [1.0, \"#f0f921\"]], \"type\": \"heatmapgl\"}], \"histogram\": [{\"marker\": {\"colorbar\": {\"outlinewidth\": 0, \"ticks\": \"\"}}, \"type\": \"histogram\"}], \"histogram2d\": [{\"colorbar\": {\"outlinewidth\": 0, \"ticks\": \"\"}, \"colorscale\": [[0.0, \"#0d0887\"], [0.1111111111111111, \"#46039f\"], [0.2222222222222222, \"#7201a8\"], [0.3333333333333333, \"#9c179e\"], [0.4444444444444444, \"#bd3786\"], [0.5555555555555556, \"#d8576b\"], [0.6666666666666666, \"#ed7953\"], [0.7777777777777778, \"#fb9f3a\"], [0.8888888888888888, \"#fdca26\"], [1.0, \"#f0f921\"]], \"type\": \"histogram2d\"}], \"histogram2dcontour\": [{\"colorbar\": {\"outlinewidth\": 0, \"ticks\": \"\"}, \"colorscale\": [[0.0, \"#0d0887\"], [0.1111111111111111, \"#46039f\"], [0.2222222222222222, \"#7201a8\"], [0.3333333333333333, \"#9c179e\"], [0.4444444444444444, \"#bd3786\"], [0.5555555555555556, \"#d8576b\"], [0.6666666666666666, \"#ed7953\"], [0.7777777777777778, \"#fb9f3a\"], [0.8888888888888888, \"#fdca26\"], [1.0, \"#f0f921\"]], \"type\": \"histogram2dcontour\"}], \"mesh3d\": [{\"colorbar\": {\"outlinewidth\": 0, \"ticks\": \"\"}, \"type\": \"mesh3d\"}], \"parcoords\": [{\"line\": {\"colorbar\": {\"outlinewidth\": 0, \"ticks\": \"\"}}, \"type\": \"parcoords\"}], \"pie\": [{\"automargin\": true, \"type\": \"pie\"}], \"scatter\": [{\"marker\": {\"colorbar\": {\"outlinewidth\": 0, \"ticks\": \"\"}}, \"type\": \"scatter\"}], \"scatter3d\": [{\"line\": {\"colorbar\": {\"outlinewidth\": 0, \"ticks\": \"\"}}, \"marker\": {\"colorbar\": {\"outlinewidth\": 0, \"ticks\": \"\"}}, \"type\": \"scatter3d\"}], \"scattercarpet\": [{\"marker\": {\"colorbar\": {\"outlinewidth\": 0, \"ticks\": \"\"}}, \"type\": \"scattercarpet\"}], \"scattergeo\": [{\"marker\": {\"colorbar\": {\"outlinewidth\": 0, \"ticks\": \"\"}}, \"type\": \"scattergeo\"}], \"scattergl\": [{\"marker\": {\"colorbar\": {\"outlinewidth\": 0, \"ticks\": \"\"}}, \"type\": \"scattergl\"}], \"scattermapbox\": [{\"marker\": {\"colorbar\": {\"outlinewidth\": 0, \"ticks\": \"\"}}, \"type\": \"scattermapbox\"}], \"scatterpolar\": [{\"marker\": {\"colorbar\": {\"outlinewidth\": 0, \"ticks\": \"\"}}, \"type\": \"scatterpolar\"}], \"scatterpolargl\": [{\"marker\": {\"colorbar\": {\"outlinewidth\": 0, \"ticks\": \"\"}}, \"type\": \"scatterpolargl\"}], \"scatterternary\": [{\"marker\": {\"colorbar\": {\"outlinewidth\": 0, \"ticks\": \"\"}}, \"type\": \"scatterternary\"}], \"surface\": [{\"colorbar\": {\"outlinewidth\": 0, \"ticks\": \"\"}, \"colorscale\": [[0.0, \"#0d0887\"], [0.1111111111111111, \"#46039f\"], [0.2222222222222222, \"#7201a8\"], [0.3333333333333333, \"#9c179e\"], [0.4444444444444444, \"#bd3786\"], [0.5555555555555556, \"#d8576b\"], [0.6666666666666666, \"#ed7953\"], [0.7777777777777778, \"#fb9f3a\"], [0.8888888888888888, \"#fdca26\"], [1.0, \"#f0f921\"]], \"type\": \"surface\"}], \"table\": [{\"cells\": {\"fill\": {\"color\": \"#EBF0F8\"}, \"line\": {\"color\": \"white\"}}, \"header\": {\"fill\": {\"color\": \"#C8D4E3\"}, \"line\": {\"color\": \"white\"}}, \"type\": \"table\"}]}, \"layout\": {\"annotationdefaults\": {\"arrowcolor\": \"#2a3f5f\", \"arrowhead\": 0, \"arrowwidth\": 1}, \"autotypenumbers\": \"strict\", \"coloraxis\": {\"colorbar\": {\"outlinewidth\": 0, \"ticks\": \"\"}}, \"colorscale\": {\"diverging\": [[0, \"#8e0152\"], [0.1, \"#c51b7d\"], [0.2, \"#de77ae\"], [0.3, \"#f1b6da\"], [0.4, \"#fde0ef\"], [0.5, \"#f7f7f7\"], [0.6, \"#e6f5d0\"], [0.7, \"#b8e186\"], [0.8, \"#7fbc41\"], [0.9, \"#4d9221\"], [1, \"#276419\"]], \"sequential\": [[0.0, \"#0d0887\"], [0.1111111111111111, \"#46039f\"], [0.2222222222222222, \"#7201a8\"], [0.3333333333333333, \"#9c179e\"], [0.4444444444444444, \"#bd3786\"], [0.5555555555555556, \"#d8576b\"], [0.6666666666666666, \"#ed7953\"], [0.7777777777777778, \"#fb9f3a\"], [0.8888888888888888, \"#fdca26\"], [1.0, \"#f0f921\"]], \"sequentialminus\": [[0.0, \"#0d0887\"], [0.1111111111111111, \"#46039f\"], [0.2222222222222222, \"#7201a8\"], [0.3333333333333333, \"#9c179e\"], [0.4444444444444444, \"#bd3786\"], [0.5555555555555556, \"#d8576b\"], [0.6666666666666666, \"#ed7953\"], [0.7777777777777778, \"#fb9f3a\"], [0.8888888888888888, \"#fdca26\"], [1.0, \"#f0f921\"]]}, \"colorway\": [\"#636efa\", \"#EF553B\", \"#00cc96\", \"#ab63fa\", \"#FFA15A\", \"#19d3f3\", \"#FF6692\", \"#B6E880\", \"#FF97FF\", \"#FECB52\"], \"font\": {\"color\": \"#2a3f5f\"}, \"geo\": {\"bgcolor\": \"white\", \"lakecolor\": \"white\", \"landcolor\": \"#E5ECF6\", \"showlakes\": true, \"showland\": true, \"subunitcolor\": \"white\"}, \"hoverlabel\": {\"align\": \"left\"}, \"hovermode\": \"closest\", \"mapbox\": {\"style\": \"light\"}, \"paper_bgcolor\": \"white\", \"plot_bgcolor\": \"#E5ECF6\", \"polar\": {\"angularaxis\": {\"gridcolor\": \"white\", \"linecolor\": \"white\", \"ticks\": \"\"}, \"bgcolor\": \"#E5ECF6\", \"radialaxis\": {\"gridcolor\": \"white\", \"linecolor\": \"white\", \"ticks\": \"\"}}, \"scene\": {\"xaxis\": {\"backgroundcolor\": \"#E5ECF6\", \"gridcolor\": \"white\", \"gridwidth\": 2, \"linecolor\": \"white\", \"showbackground\": true, \"ticks\": \"\", \"zerolinecolor\": \"white\"}, \"yaxis\": {\"backgroundcolor\": \"#E5ECF6\", \"gridcolor\": \"white\", \"gridwidth\": 2, \"linecolor\": \"white\", \"showbackground\": true, \"ticks\": \"\", \"zerolinecolor\": \"white\"}, \"zaxis\": {\"backgroundcolor\": \"#E5ECF6\", \"gridcolor\": \"white\", \"gridwidth\": 2, \"linecolor\": \"white\", \"showbackground\": true, \"ticks\": \"\", \"zerolinecolor\": \"white\"}}, \"shapedefaults\": {\"line\": {\"color\": \"#2a3f5f\"}}, \"ternary\": {\"aaxis\": {\"gridcolor\": \"white\", \"linecolor\": \"white\", \"ticks\": \"\"}, \"baxis\": {\"gridcolor\": \"white\", \"linecolor\": \"white\", \"ticks\": \"\"}, \"bgcolor\": \"#E5ECF6\", \"caxis\": {\"gridcolor\": \"white\", \"linecolor\": \"white\", \"ticks\": \"\"}}, \"title\": {\"x\": 0.05}, \"xaxis\": {\"automargin\": true, \"gridcolor\": \"white\", \"linecolor\": \"white\", \"ticks\": \"\", \"title\": {\"standoff\": 15}, \"zerolinecolor\": \"white\", \"zerolinewidth\": 2}, \"yaxis\": {\"automargin\": true, \"gridcolor\": \"white\", \"linecolor\": \"white\", \"ticks\": \"\", \"title\": {\"standoff\": 15}, \"zerolinecolor\": \"white\", \"zerolinewidth\": 2}}}, \"width\": 1000, \"xaxis\": {\"automargin\": true, \"gridcolor\": \"lightgrey\", \"gridwidth\": 1, \"linecolor\": \"black\", \"linewidth\": 0.7, \"mirror\": true, \"range\": [[0.00048828125, 0.00048828125, 0.00048828125, 0.00048828125, 0.00048828125], [0.00390625, 0.00390625, 0.00390625, 0.00390625, 0.00390625]], \"showline\": true, \"side\": \"bottom\", \"tickangle\": 0, \"tickfont\": {\"color\": \"black\", \"family\": \"Times New Roman\", \"size\": 20}, \"ticks\": \"outside\", \"title\": {\"font\": {\"color\": \"black\", \"family\": \"Times New Roman\", \"size\": 25}, \"text\": \"h\"}, \"type\": \"log\"}, \"yaxis\": {\"automargin\": true, \"gridcolor\": \"lightgrey\", \"gridwidth\": 1, \"linecolor\": \"black\", \"linewidth\": 0.7, \"mirror\": true, \"range\": [[0.0011185159339900663, 0.013943121833426782, 0.015560413767095063, 0.018104464420936266, 0.021666135336313952], [0.013525376768074407, 0.02434352906369617, 0.046261865547361426, 0.056615574195603424, 0.07111076630314221]], \"showline\": true, \"side\": \"left\", \"tickangle\": 0, \"tickfont\": {\"color\": \"black\", \"family\": \"Times New Roman\", \"size\": 20}, \"ticks\": \"outside\", \"title\": {\"font\": {\"color\": \"black\", \"family\": \"Times New Roman\", \"size\": 25}, \"text\": \"E\"}, \"type\": \"log\"}},                        {\"responsive\": true}                    ).then(function(){\n",
       "                            \n",
       "var gd = document.getElementById('7cade19d-6561-4411-9c25-06c2b74a39ba');\n",
       "var x = new MutationObserver(function (mutations, observer) {{\n",
       "        var display = window.getComputedStyle(gd).display;\n",
       "        if (!display || display === 'none') {{\n",
       "            console.log([gd, 'removed!']);\n",
       "            Plotly.purge(gd);\n",
       "            observer.disconnect();\n",
       "        }}\n",
       "}});\n",
       "\n",
       "// Listen for the removal of the full notebook cells\n",
       "var notebookContainer = gd.closest('#notebook-container');\n",
       "if (notebookContainer) {{\n",
       "    x.observe(notebookContainer, {childList: true});\n",
       "}}\n",
       "\n",
       "// Listen for the clearing of the current output cell\n",
       "var outputEl = gd.closest('.output');\n",
       "if (outputEl) {{\n",
       "    x.observe(outputEl, {childList: true});\n",
       "}}\n",
       "\n",
       "                        })                };                });            </script>        </div>"
      ]
     },
     "metadata": {},
     "output_type": "display_data"
    },
    {
     "name": "stdout",
     "output_type": "stream",
     "text": [
      "Successfully generated: /Users/weugene//Dropbox/Aslan-Evgenii/media/pictures/Sangani/fixed_phi=0.4_m=11_E_vs_h.pdf\n",
      "phi= 0.5\n"
     ]
    },
    {
     "data": {
      "image/png": "[encoded data removed]",
      "text/plain": [
       "<Figure size 432x288 with 2 Axes>"
      ]
     },
     "metadata": {
      "needs_background": "light"
     },
     "output_type": "display_data"
    },
    {
     "data": {
      "application/vnd.plotly.v1+json": {
       "config": {
        "plotlyServerURL": "https://plot.ly"
       },
       "data": [
        {
         "line": {
          "color": "blue",
          "dash": "solid",
          "width": 3
         },
         "marker": {
          "line": {
           "color": "blue",
           "width": 1
          },
          "size": 15,
          "symbol": "circle"
         },
         "mode": "lines+markers",
         "name": "m= 0.01",
         "textfont": {
          "color": "LightSeaGreen",
          "family": "Times New Roman",
          "size": 20
         },
         "type": "scatter",
         "x": [
          0.00390625,
          0.001953125,
          0.0009765625,
          0.00048828125
         ],
         "y": [
          0.008294284048994252,
          0.006519299284841042,
          0.011164875925192292,
          0.014102250693169956
         ]
        },
        {
         "line": {
          "color": "red",
          "dash": "solid",
          "width": 3
         },
         "marker": {
          "line": {
           "color": "red",
           "width": 1
          },
          "size": 15,
          "symbol": "circle"
         },
         "mode": "lines+markers",
         "name": "m= 0.5",
         "textfont": {
          "color": "LightSeaGreen",
          "family": "Times New Roman",
          "size": 20
         },
         "type": "scatter",
         "x": [
          0.00390625,
          0.001953125,
          0.0009765625,
          0.00048828125
         ],
         "y": [
          0.02370847752705138,
          0.024598836907774327,
          0.01517549018699248,
          0.01482308275322292
         ]
        },
        {
         "line": {
          "color": "hsv(120,100,100)",
          "dash": "solid",
          "width": 3
         },
         "marker": {
          "line": {
           "color": "hsv(120,100,100)",
           "width": 1
          },
          "size": 15,
          "symbol": "circle"
         },
         "mode": "lines+markers",
         "name": "m= 1",
         "textfont": {
          "color": "LightSeaGreen",
          "family": "Times New Roman",
          "size": 20
         },
         "type": "scatter",
         "x": [
          0.00390625,
          0.001953125,
          0.0009765625,
          0.00048828125
         ],
         "y": [
          0.05639062860637099,
          0.03411774395083203,
          0.027212147635372396,
          0.01698644427799171
         ]
        },
        {
         "line": {
          "color": "green",
          "dash": "solid",
          "width": 3
         },
         "marker": {
          "line": {
           "color": "green",
           "width": 1
          },
          "size": 15,
          "symbol": "circle"
         },
         "mode": "lines+markers",
         "name": "m= 1.5",
         "textfont": {
          "color": "LightSeaGreen",
          "family": "Times New Roman",
          "size": 20
         },
         "type": "scatter",
         "x": [
          0.00390625,
          0.001953125,
          0.0009765625,
          0.00048828125
         ],
         "y": [
          0.07284382115451626,
          0.048755295163848154,
          0.029788457289298978,
          0.02059204681927303
         ]
        },
        {
         "line": {
          "color": "black",
          "dash": "solid",
          "width": 3
         },
         "marker": {
          "line": {
           "color": "black",
           "width": 1
          },
          "size": 15,
          "symbol": "circle"
         },
         "mode": "lines+markers",
         "name": "m= 2",
         "textfont": {
          "color": "LightSeaGreen",
          "family": "Times New Roman",
          "size": 20
         },
         "type": "scatter",
         "x": [
          0.00390625,
          0.001953125,
          0.0009765625,
          0.00048828125
         ],
         "y": [
          0.09587829072191964,
          0.0562325298827574,
          0.03240556747899247,
          0.025639890377066883
         ]
        }
       ],
       "layout": {
        "autosize": false,
        "font": {
         "family": "Times New Roman",
         "size": 20
        },
        "height": 500,
        "legend": {
         "bgcolor": "White",
         "bordercolor": "Black",
         "borderwidth": 0.1,
         "orientation": "v",
         "x": 0.99,
         "xanchor": "right",
         "y": 0.01,
         "yanchor": "bottom"
        },
        "margin": {
         "b": 0,
         "l": 0,
         "pad": 0.1,
         "r": 0,
         "t": 0
        },
        "paper_bgcolor": "rgba(255, 255, 255, 1)",
        "plot_bgcolor": "rgba(255, 255, 255, 1)",
        "showlegend": true,
        "template": {
         "data": {
          "bar": [
           {
            "error_x": {
             "color": "#2a3f5f"
            },
            "error_y": {
             "color": "#2a3f5f"
            },
            "marker": {
             "line": {
              "color": "#E5ECF6",
              "width": 0.5
             }
            },
            "type": "bar"
           }
          ],
          "barpolar": [
           {
            "marker": {
             "line": {
              "color": "#E5ECF6",
              "width": 0.5
             }
            },
            "type": "barpolar"
           }
          ],
          "carpet": [
           {
            "aaxis": {
             "endlinecolor": "#2a3f5f",
             "gridcolor": "white",
             "linecolor": "white",
             "minorgridcolor": "white",
             "startlinecolor": "#2a3f5f"
            },
            "baxis": {
             "endlinecolor": "#2a3f5f",
             "gridcolor": "white",
             "linecolor": "white",
             "minorgridcolor": "white",
             "startlinecolor": "#2a3f5f"
            },
            "type": "carpet"
           }
          ],
          "choropleth": [
           {
            "colorbar": {
             "outlinewidth": 0,
             "ticks": ""
            },
            "type": "choropleth"
           }
          ],
          "contour": [
           {
            "colorbar": {
             "outlinewidth": 0,
             "ticks": ""
            },
            "colorscale": [
             [
              0,
              "#0d0887"
             ],
             [
              0.1111111111111111,
              "#46039f"
             ],
             [
              0.2222222222222222,
              "#7201a8"
             ],
             [
              0.3333333333333333,
              "#9c179e"
             ],
             [
              0.4444444444444444,
              "#bd3786"
             ],
             [
              0.5555555555555556,
              "#d8576b"
             ],
             [
              0.6666666666666666,
              "#ed7953"
             ],
             [
              0.7777777777777778,
              "#fb9f3a"
             ],
             [
              0.8888888888888888,
              "#fdca26"
             ],
             [
              1,
              "#f0f921"
             ]
            ],
            "type": "contour"
           }
          ],
          "contourcarpet": [
           {
            "colorbar": {
             "outlinewidth": 0,
             "ticks": ""
            },
            "type": "contourcarpet"
           }
          ],
          "heatmap": [
           {
            "colorbar": {
             "outlinewidth": 0,
             "ticks": ""
            },
            "colorscale": [
             [
              0,
              "#0d0887"
             ],
             [
              0.1111111111111111,
              "#46039f"
             ],
             [
              0.2222222222222222,
              "#7201a8"
             ],
             [
              0.3333333333333333,
              "#9c179e"
             ],
             [
              0.4444444444444444,
              "#bd3786"
             ],
             [
              0.5555555555555556,
              "#d8576b"
             ],
             [
              0.6666666666666666,
              "#ed7953"
             ],
             [
              0.7777777777777778,
              "#fb9f3a"
             ],
             [
              0.8888888888888888,
              "#fdca26"
             ],
             [
              1,
              "#f0f921"
             ]
            ],
            "type": "heatmap"
           }
          ],
          "heatmapgl": [
           {
            "colorbar": {
             "outlinewidth": 0,
             "ticks": ""
            },
            "colorscale": [
             [
              0,
              "#0d0887"
             ],
             [
              0.1111111111111111,
              "#46039f"
             ],
             [
              0.2222222222222222,
              "#7201a8"
             ],
             [
              0.3333333333333333,
              "#9c179e"
             ],
             [
              0.4444444444444444,
              "#bd3786"
             ],
             [
              0.5555555555555556,
              "#d8576b"
             ],
             [
              0.6666666666666666,
              "#ed7953"
             ],
             [
              0.7777777777777778,
              "#fb9f3a"
             ],
             [
              0.8888888888888888,
              "#fdca26"
             ],
             [
              1,
              "#f0f921"
             ]
            ],
            "type": "heatmapgl"
           }
          ],
          "histogram": [
           {
            "marker": {
             "colorbar": {
              "outlinewidth": 0,
              "ticks": ""
             }
            },
            "type": "histogram"
           }
          ],
          "histogram2d": [
           {
            "colorbar": {
             "outlinewidth": 0,
             "ticks": ""
            },
            "colorscale": [
             [
              0,
              "#0d0887"
             ],
             [
              0.1111111111111111,
              "#46039f"
             ],
             [
              0.2222222222222222,
              "#7201a8"
             ],
             [
              0.3333333333333333,
              "#9c179e"
             ],
             [
              0.4444444444444444,
              "#bd3786"
             ],
             [
              0.5555555555555556,
              "#d8576b"
             ],
             [
              0.6666666666666666,
              "#ed7953"
             ],
             [
              0.7777777777777778,
              "#fb9f3a"
             ],
             [
              0.8888888888888888,
              "#fdca26"
             ],
             [
              1,
              "#f0f921"
             ]
            ],
            "type": "histogram2d"
           }
          ],
          "histogram2dcontour": [
           {
            "colorbar": {
             "outlinewidth": 0,
             "ticks": ""
            },
            "colorscale": [
             [
              0,
              "#0d0887"
             ],
             [
              0.1111111111111111,
              "#46039f"
             ],
             [
              0.2222222222222222,
              "#7201a8"
             ],
             [
              0.3333333333333333,
              "#9c179e"
             ],
             [
              0.4444444444444444,
              "#bd3786"
             ],
             [
              0.5555555555555556,
              "#d8576b"
             ],
             [
              0.6666666666666666,
              "#ed7953"
             ],
             [
              0.7777777777777778,
              "#fb9f3a"
             ],
             [
              0.8888888888888888,
              "#fdca26"
             ],
             [
              1,
              "#f0f921"
             ]
            ],
            "type": "histogram2dcontour"
           }
          ],
          "mesh3d": [
           {
            "colorbar": {
             "outlinewidth": 0,
             "ticks": ""
            },
            "type": "mesh3d"
           }
          ],
          "parcoords": [
           {
            "line": {
             "colorbar": {
              "outlinewidth": 0,
              "ticks": ""
             }
            },
            "type": "parcoords"
           }
          ],
          "pie": [
           {
            "automargin": true,
            "type": "pie"
           }
          ],
          "scatter": [
           {
            "marker": {
             "colorbar": {
              "outlinewidth": 0,
              "ticks": ""
             }
            },
            "type": "scatter"
           }
          ],
          "scatter3d": [
           {
            "line": {
             "colorbar": {
              "outlinewidth": 0,
              "ticks": ""
             }
            },
            "marker": {
             "colorbar": {
              "outlinewidth": 0,
              "ticks": ""
             }
            },
            "type": "scatter3d"
           }
          ],
          "scattercarpet": [
           {
            "marker": {
             "colorbar": {
              "outlinewidth": 0,
              "ticks": ""
             }
            },
            "type": "scattercarpet"
           }
          ],
          "scattergeo": [
           {
            "marker": {
             "colorbar": {
              "outlinewidth": 0,
              "ticks": ""
             }
            },
            "type": "scattergeo"
           }
          ],
          "scattergl": [
           {
            "marker": {
             "colorbar": {
              "outlinewidth": 0,
              "ticks": ""
             }
            },
            "type": "scattergl"
           }
          ],
          "scattermapbox": [
           {
            "marker": {
             "colorbar": {
              "outlinewidth": 0,
              "ticks": ""
             }
            },
            "type": "scattermapbox"
           }
          ],
          "scatterpolar": [
           {
            "marker": {
             "colorbar": {
              "outlinewidth": 0,
              "ticks": ""
             }
            },
            "type": "scatterpolar"
           }
          ],
          "scatterpolargl": [
           {
            "marker": {
             "colorbar": {
              "outlinewidth": 0,
              "ticks": ""
             }
            },
            "type": "scatterpolargl"
           }
          ],
          "scatterternary": [
           {
            "marker": {
             "colorbar": {
              "outlinewidth": 0,
              "ticks": ""
             }
            },
            "type": "scatterternary"
           }
          ],
          "surface": [
           {
            "colorbar": {
             "outlinewidth": 0,
             "ticks": ""
            },
            "colorscale": [
             [
              0,
              "#0d0887"
             ],
             [
              0.1111111111111111,
              "#46039f"
             ],
             [
              0.2222222222222222,
              "#7201a8"
             ],
             [
              0.3333333333333333,
              "#9c179e"
             ],
             [
              0.4444444444444444,
              "#bd3786"
             ],
             [
              0.5555555555555556,
              "#d8576b"
             ],
             [
              0.6666666666666666,
              "#ed7953"
             ],
             [
              0.7777777777777778,
              "#fb9f3a"
             ],
             [
              0.8888888888888888,
              "#fdca26"
             ],
             [
              1,
              "#f0f921"
             ]
            ],
            "type": "surface"
           }
          ],
          "table": [
           {
            "cells": {
             "fill": {
              "color": "#EBF0F8"
             },
             "line": {
              "color": "white"
             }
            },
            "header": {
             "fill": {
              "color": "#C8D4E3"
             },
             "line": {
              "color": "white"
             }
            },
            "type": "table"
           }
          ]
         },
         "layout": {
          "annotationdefaults": {
           "arrowcolor": "#2a3f5f",
           "arrowhead": 0,
           "arrowwidth": 1
          },
          "autotypenumbers": "strict",
          "coloraxis": {
           "colorbar": {
            "outlinewidth": 0,
            "ticks": ""
           }
          },
          "colorscale": {
           "diverging": [
            [
             0,
             "#8e0152"
            ],
            [
             0.1,
             "#c51b7d"
            ],
            [
             0.2,
             "#de77ae"
            ],
            [
             0.3,
             "#f1b6da"
            ],
            [
             0.4,
             "#fde0ef"
            ],
            [
             0.5,
             "#f7f7f7"
            ],
            [
             0.6,
             "#e6f5d0"
            ],
            [
             0.7,
             "#b8e186"
            ],
            [
             0.8,
             "#7fbc41"
            ],
            [
             0.9,
             "#4d9221"
            ],
            [
             1,
             "#276419"
            ]
           ],
           "sequential": [
            [
             0,
             "#0d0887"
            ],
            [
             0.1111111111111111,
             "#46039f"
            ],
            [
             0.2222222222222222,
             "#7201a8"
            ],
            [
             0.3333333333333333,
             "#9c179e"
            ],
            [
             0.4444444444444444,
             "#bd3786"
            ],
            [
             0.5555555555555556,
             "#d8576b"
            ],
            [
             0.6666666666666666,
             "#ed7953"
            ],
            [
             0.7777777777777778,
             "#fb9f3a"
            ],
            [
             0.8888888888888888,
             "#fdca26"
            ],
            [
             1,
             "#f0f921"
            ]
           ],
           "sequentialminus": [
            [
             0,
             "#0d0887"
            ],
            [
             0.1111111111111111,
             "#46039f"
            ],
            [
             0.2222222222222222,
             "#7201a8"
            ],
            [
             0.3333333333333333,
             "#9c179e"
            ],
            [
             0.4444444444444444,
             "#bd3786"
            ],
            [
             0.5555555555555556,
             "#d8576b"
            ],
            [
             0.6666666666666666,
             "#ed7953"
            ],
            [
             0.7777777777777778,
             "#fb9f3a"
            ],
            [
             0.8888888888888888,
             "#fdca26"
            ],
            [
             1,
             "#f0f921"
            ]
           ]
          },
          "colorway": [
           "#636efa",
           "#EF553B",
           "#00cc96",
           "#ab63fa",
           "#FFA15A",
           "#19d3f3",
           "#FF6692",
           "#B6E880",
           "#FF97FF",
           "#FECB52"
          ],
          "font": {
           "color": "#2a3f5f"
          },
          "geo": {
           "bgcolor": "white",
           "lakecolor": "white",
           "landcolor": "#E5ECF6",
           "showlakes": true,
           "showland": true,
           "subunitcolor": "white"
          },
          "hoverlabel": {
           "align": "left"
          },
          "hovermode": "closest",
          "mapbox": {
           "style": "light"
          },
          "paper_bgcolor": "white",
          "plot_bgcolor": "#E5ECF6",
          "polar": {
           "angularaxis": {
            "gridcolor": "white",
            "linecolor": "white",
            "ticks": ""
           },
           "bgcolor": "#E5ECF6",
           "radialaxis": {
            "gridcolor": "white",
            "linecolor": "white",
            "ticks": ""
           }
          },
          "scene": {
           "xaxis": {
            "backgroundcolor": "#E5ECF6",
            "gridcolor": "white",
            "gridwidth": 2,
            "linecolor": "white",
            "showbackground": true,
            "ticks": "",
            "zerolinecolor": "white"
           },
           "yaxis": {
            "backgroundcolor": "#E5ECF6",
            "gridcolor": "white",
            "gridwidth": 2,
            "linecolor": "white",
            "showbackground": true,
            "ticks": "",
            "zerolinecolor": "white"
           },
           "zaxis": {
            "backgroundcolor": "#E5ECF6",
            "gridcolor": "white",
            "gridwidth": 2,
            "linecolor": "white",
            "showbackground": true,
            "ticks": "",
            "zerolinecolor": "white"
           }
          },
          "shapedefaults": {
           "line": {
            "color": "#2a3f5f"
           }
          },
          "ternary": {
           "aaxis": {
            "gridcolor": "white",
            "linecolor": "white",
            "ticks": ""
           },
           "baxis": {
            "gridcolor": "white",
            "linecolor": "white",
            "ticks": ""
           },
           "bgcolor": "#E5ECF6",
           "caxis": {
            "gridcolor": "white",
            "linecolor": "white",
            "ticks": ""
           }
          },
          "title": {
           "x": 0.05
          },
          "xaxis": {
           "automargin": true,
           "gridcolor": "white",
           "linecolor": "white",
           "ticks": "",
           "title": {
            "standoff": 15
           },
           "zerolinecolor": "white",
           "zerolinewidth": 2
          },
          "yaxis": {
           "automargin": true,
           "gridcolor": "white",
           "linecolor": "white",
           "ticks": "",
           "title": {
            "standoff": 15
           },
           "zerolinecolor": "white",
           "zerolinewidth": 2
          }
         }
        },
        "width": 1000,
        "xaxis": {
         "automargin": true,
         "gridcolor": "lightgrey",
         "gridwidth": 1,
         "linecolor": "black",
         "linewidth": 0.7,
         "mirror": true,
         "range": [
          [
           0.00048828125,
           0.00048828125,
           0.00048828125,
           0.00048828125,
           0.00048828125
          ],
          [
           0.00390625,
           0.00390625,
           0.00390625,
           0.00390625,
           0.00390625
          ]
         ],
         "showline": true,
         "side": "bottom",
         "tickangle": 0,
         "tickfont": {
          "color": "black",
          "family": "Times New Roman",
          "size": 20
         },
         "ticks": "outside",
         "title": {
          "font": {
           "color": "black",
           "family": "Times New Roman",
           "size": 25
          },
          "text": "h"
         },
         "type": "log"
        },
        "yaxis": {
         "automargin": true,
         "gridcolor": "lightgrey",
         "gridwidth": 1,
         "linecolor": "black",
         "linewidth": 0.7,
         "mirror": true,
         "range": [
          [
           0.006519299284841042,
           0.01482308275322292,
           0.01698644427799171,
           0.02059204681927303,
           0.025639890377066883
          ],
          [
           0.014102250693169956,
           0.024598836907774327,
           0.05639062860637099,
           0.07284382115451626,
           0.09587829072191964
          ]
         ],
         "showline": true,
         "side": "left",
         "tickangle": 0,
         "tickfont": {
          "color": "black",
          "family": "Times New Roman",
          "size": 20
         },
         "ticks": "outside",
         "title": {
          "font": {
           "color": "black",
           "family": "Times New Roman",
           "size": 25
          },
          "text": "E"
         },
         "type": "log"
        }
       }
      },
      "text/html": [
       "<div>                            <div id=\"b325d32b-4202-4338-9d91-54799bc9b8cc\" class=\"plotly-graph-div\" style=\"height:500px; width:1000px;\"></div>            <script type=\"text/javascript\">                require([\"plotly\"], function(Plotly) {                    window.PLOTLYENV=window.PLOTLYENV || {};                                    if (document.getElementById(\"b325d32b-4202-4338-9d91-54799bc9b8cc\")) {                    Plotly.newPlot(                        \"b325d32b-4202-4338-9d91-54799bc9b8cc\",                        [{\"line\": {\"color\": \"blue\", \"dash\": \"solid\", \"width\": 3}, \"marker\": {\"line\": {\"color\": \"blue\", \"width\": 1}, \"size\": 15, \"symbol\": \"circle\"}, \"mode\": \"lines+markers\", \"name\": \"m= 0.01\", \"textfont\": {\"color\": \"LightSeaGreen\", \"family\": \"Times New Roman\", \"size\": 20}, \"type\": \"scatter\", \"x\": [0.00390625, 0.001953125, 0.0009765625, 0.00048828125], \"y\": [0.008294284048994252, 0.006519299284841042, 0.011164875925192292, 0.014102250693169956]}, {\"line\": {\"color\": \"red\", \"dash\": \"solid\", \"width\": 3}, \"marker\": {\"line\": {\"color\": \"red\", \"width\": 1}, \"size\": 15, \"symbol\": \"circle\"}, \"mode\": \"lines+markers\", \"name\": \"m= 0.5\", \"textfont\": {\"color\": \"LightSeaGreen\", \"family\": \"Times New Roman\", \"size\": 20}, \"type\": \"scatter\", \"x\": [0.00390625, 0.001953125, 0.0009765625, 0.00048828125], \"y\": [0.02370847752705138, 0.024598836907774327, 0.01517549018699248, 0.01482308275322292]}, {\"line\": {\"color\": \"hsv(120,100,100)\", \"dash\": \"solid\", \"width\": 3}, \"marker\": {\"line\": {\"color\": \"hsv(120,100,100)\", \"width\": 1}, \"size\": 15, \"symbol\": \"circle\"}, \"mode\": \"lines+markers\", \"name\": \"m= 1\", \"textfont\": {\"color\": \"LightSeaGreen\", \"family\": \"Times New Roman\", \"size\": 20}, \"type\": \"scatter\", \"x\": [0.00390625, 0.001953125, 0.0009765625, 0.00048828125], \"y\": [0.05639062860637099, 0.03411774395083203, 0.027212147635372396, 0.01698644427799171]}, {\"line\": {\"color\": \"green\", \"dash\": \"solid\", \"width\": 3}, \"marker\": {\"line\": {\"color\": \"green\", \"width\": 1}, \"size\": 15, \"symbol\": \"circle\"}, \"mode\": \"lines+markers\", \"name\": \"m= 1.5\", \"textfont\": {\"color\": \"LightSeaGreen\", \"family\": \"Times New Roman\", \"size\": 20}, \"type\": \"scatter\", \"x\": [0.00390625, 0.001953125, 0.0009765625, 0.00048828125], \"y\": [0.07284382115451626, 0.048755295163848154, 0.029788457289298978, 0.02059204681927303]}, {\"line\": {\"color\": \"black\", \"dash\": \"solid\", \"width\": 3}, \"marker\": {\"line\": {\"color\": \"black\", \"width\": 1}, \"size\": 15, \"symbol\": \"circle\"}, \"mode\": \"lines+markers\", \"name\": \"m= 2\", \"textfont\": {\"color\": \"LightSeaGreen\", \"family\": \"Times New Roman\", \"size\": 20}, \"type\": \"scatter\", \"x\": [0.00390625, 0.001953125, 0.0009765625, 0.00048828125], \"y\": [0.09587829072191964, 0.0562325298827574, 0.03240556747899247, 0.025639890377066883]}],                        {\"autosize\": false, \"font\": {\"family\": \"Times New Roman\", \"size\": 20}, \"height\": 500, \"legend\": {\"bgcolor\": \"White\", \"bordercolor\": \"Black\", \"borderwidth\": 0.1, \"orientation\": \"v\", \"x\": 0.99, \"xanchor\": \"right\", \"y\": 0.01, \"yanchor\": \"bottom\"}, \"margin\": {\"b\": 0, \"l\": 0, \"pad\": 0.1, \"r\": 0, \"t\": 0}, \"paper_bgcolor\": \"rgba(255, 255, 255, 1)\", \"plot_bgcolor\": \"rgba(255, 255, 255, 1)\", \"showlegend\": true, \"template\": {\"data\": {\"bar\": [{\"error_x\": {\"color\": \"#2a3f5f\"}, \"error_y\": {\"color\": \"#2a3f5f\"}, \"marker\": {\"line\": {\"color\": \"#E5ECF6\", \"width\": 0.5}}, \"type\": \"bar\"}], \"barpolar\": [{\"marker\": {\"line\": {\"color\": \"#E5ECF6\", \"width\": 0.5}}, \"type\": \"barpolar\"}], \"carpet\": [{\"aaxis\": {\"endlinecolor\": \"#2a3f5f\", \"gridcolor\": \"white\", \"linecolor\": \"white\", \"minorgridcolor\": \"white\", \"startlinecolor\": \"#2a3f5f\"}, \"baxis\": {\"endlinecolor\": \"#2a3f5f\", \"gridcolor\": \"white\", \"linecolor\": \"white\", \"minorgridcolor\": \"white\", \"startlinecolor\": \"#2a3f5f\"}, \"type\": \"carpet\"}], \"choropleth\": [{\"colorbar\": {\"outlinewidth\": 0, \"ticks\": \"\"}, \"type\": \"choropleth\"}], \"contour\": [{\"colorbar\": {\"outlinewidth\": 0, \"ticks\": \"\"}, \"colorscale\": [[0.0, \"#0d0887\"], [0.1111111111111111, \"#46039f\"], [0.2222222222222222, \"#7201a8\"], [0.3333333333333333, \"#9c179e\"], [0.4444444444444444, \"#bd3786\"], [0.5555555555555556, \"#d8576b\"], [0.6666666666666666, \"#ed7953\"], [0.7777777777777778, \"#fb9f3a\"], [0.8888888888888888, \"#fdca26\"], [1.0, \"#f0f921\"]], \"type\": \"contour\"}], \"contourcarpet\": [{\"colorbar\": {\"outlinewidth\": 0, \"ticks\": \"\"}, \"type\": \"contourcarpet\"}], \"heatmap\": [{\"colorbar\": {\"outlinewidth\": 0, \"ticks\": \"\"}, \"colorscale\": [[0.0, \"#0d0887\"], [0.1111111111111111, \"#46039f\"], [0.2222222222222222, \"#7201a8\"], [0.3333333333333333, \"#9c179e\"], [0.4444444444444444, \"#bd3786\"], [0.5555555555555556, \"#d8576b\"], [0.6666666666666666, \"#ed7953\"], [0.7777777777777778, \"#fb9f3a\"], [0.8888888888888888, \"#fdca26\"], [1.0, \"#f0f921\"]], \"type\": \"heatmap\"}], \"heatmapgl\": [{\"colorbar\": {\"outlinewidth\": 0, \"ticks\": \"\"}, \"colorscale\": [[0.0, \"#0d0887\"], [0.1111111111111111, \"#46039f\"], [0.2222222222222222, \"#7201a8\"], [0.3333333333333333, \"#9c179e\"], [0.4444444444444444, \"#bd3786\"], [0.5555555555555556, \"#d8576b\"], [0.6666666666666666, \"#ed7953\"], [0.7777777777777778, \"#fb9f3a\"], [0.8888888888888888, \"#fdca26\"], [1.0, \"#f0f921\"]], \"type\": \"heatmapgl\"}], \"histogram\": [{\"marker\": {\"colorbar\": {\"outlinewidth\": 0, \"ticks\": \"\"}}, \"type\": \"histogram\"}], \"histogram2d\": [{\"colorbar\": {\"outlinewidth\": 0, \"ticks\": \"\"}, \"colorscale\": [[0.0, \"#0d0887\"], [0.1111111111111111, \"#46039f\"], [0.2222222222222222, \"#7201a8\"], [0.3333333333333333, \"#9c179e\"], [0.4444444444444444, \"#bd3786\"], [0.5555555555555556, \"#d8576b\"], [0.6666666666666666, \"#ed7953\"], [0.7777777777777778, \"#fb9f3a\"], [0.8888888888888888, \"#fdca26\"], [1.0, \"#f0f921\"]], \"type\": \"histogram2d\"}], \"histogram2dcontour\": [{\"colorbar\": {\"outlinewidth\": 0, \"ticks\": \"\"}, \"colorscale\": [[0.0, \"#0d0887\"], [0.1111111111111111, \"#46039f\"], [0.2222222222222222, \"#7201a8\"], [0.3333333333333333, \"#9c179e\"], [0.4444444444444444, \"#bd3786\"], [0.5555555555555556, \"#d8576b\"], [0.6666666666666666, \"#ed7953\"], [0.7777777777777778, \"#fb9f3a\"], [0.8888888888888888, \"#fdca26\"], [1.0, \"#f0f921\"]], \"type\": \"histogram2dcontour\"}], \"mesh3d\": [{\"colorbar\": {\"outlinewidth\": 0, \"ticks\": \"\"}, \"type\": \"mesh3d\"}], \"parcoords\": [{\"line\": {\"colorbar\": {\"outlinewidth\": 0, \"ticks\": \"\"}}, \"type\": \"parcoords\"}], \"pie\": [{\"automargin\": true, \"type\": \"pie\"}], \"scatter\": [{\"marker\": {\"colorbar\": {\"outlinewidth\": 0, \"ticks\": \"\"}}, \"type\": \"scatter\"}], \"scatter3d\": [{\"line\": {\"colorbar\": {\"outlinewidth\": 0, \"ticks\": \"\"}}, \"marker\": {\"colorbar\": {\"outlinewidth\": 0, \"ticks\": \"\"}}, \"type\": \"scatter3d\"}], \"scattercarpet\": [{\"marker\": {\"colorbar\": {\"outlinewidth\": 0, \"ticks\": \"\"}}, \"type\": \"scattercarpet\"}], \"scattergeo\": [{\"marker\": {\"colorbar\": {\"outlinewidth\": 0, \"ticks\": \"\"}}, \"type\": \"scattergeo\"}], \"scattergl\": [{\"marker\": {\"colorbar\": {\"outlinewidth\": 0, \"ticks\": \"\"}}, \"type\": \"scattergl\"}], \"scattermapbox\": [{\"marker\": {\"colorbar\": {\"outlinewidth\": 0, \"ticks\": \"\"}}, \"type\": \"scattermapbox\"}], \"scatterpolar\": [{\"marker\": {\"colorbar\": {\"outlinewidth\": 0, \"ticks\": \"\"}}, \"type\": \"scatterpolar\"}], \"scatterpolargl\": [{\"marker\": {\"colorbar\": {\"outlinewidth\": 0, \"ticks\": \"\"}}, \"type\": \"scatterpolargl\"}], \"scatterternary\": [{\"marker\": {\"colorbar\": {\"outlinewidth\": 0, \"ticks\": \"\"}}, \"type\": \"scatterternary\"}], \"surface\": [{\"colorbar\": {\"outlinewidth\": 0, \"ticks\": \"\"}, \"colorscale\": [[0.0, \"#0d0887\"], [0.1111111111111111, \"#46039f\"], [0.2222222222222222, \"#7201a8\"], [0.3333333333333333, \"#9c179e\"], [0.4444444444444444, \"#bd3786\"], [0.5555555555555556, \"#d8576b\"], [0.6666666666666666, \"#ed7953\"], [0.7777777777777778, \"#fb9f3a\"], [0.8888888888888888, \"#fdca26\"], [1.0, \"#f0f921\"]], \"type\": \"surface\"}], \"table\": [{\"cells\": {\"fill\": {\"color\": \"#EBF0F8\"}, \"line\": {\"color\": \"white\"}}, \"header\": {\"fill\": {\"color\": \"#C8D4E3\"}, \"line\": {\"color\": \"white\"}}, \"type\": \"table\"}]}, \"layout\": {\"annotationdefaults\": {\"arrowcolor\": \"#2a3f5f\", \"arrowhead\": 0, \"arrowwidth\": 1}, \"autotypenumbers\": \"strict\", \"coloraxis\": {\"colorbar\": {\"outlinewidth\": 0, \"ticks\": \"\"}}, \"colorscale\": {\"diverging\": [[0, \"#8e0152\"], [0.1, \"#c51b7d\"], [0.2, \"#de77ae\"], [0.3, \"#f1b6da\"], [0.4, \"#fde0ef\"], [0.5, \"#f7f7f7\"], [0.6, \"#e6f5d0\"], [0.7, \"#b8e186\"], [0.8, \"#7fbc41\"], [0.9, \"#4d9221\"], [1, \"#276419\"]], \"sequential\": [[0.0, \"#0d0887\"], [0.1111111111111111, \"#46039f\"], [0.2222222222222222, \"#7201a8\"], [0.3333333333333333, \"#9c179e\"], [0.4444444444444444, \"#bd3786\"], [0.5555555555555556, \"#d8576b\"], [0.6666666666666666, \"#ed7953\"], [0.7777777777777778, \"#fb9f3a\"], [0.8888888888888888, \"#fdca26\"], [1.0, \"#f0f921\"]], \"sequentialminus\": [[0.0, \"#0d0887\"], [0.1111111111111111, \"#46039f\"], [0.2222222222222222, \"#7201a8\"], [0.3333333333333333, \"#9c179e\"], [0.4444444444444444, \"#bd3786\"], [0.5555555555555556, \"#d8576b\"], [0.6666666666666666, \"#ed7953\"], [0.7777777777777778, \"#fb9f3a\"], [0.8888888888888888, \"#fdca26\"], [1.0, \"#f0f921\"]]}, \"colorway\": [\"#636efa\", \"#EF553B\", \"#00cc96\", \"#ab63fa\", \"#FFA15A\", \"#19d3f3\", \"#FF6692\", \"#B6E880\", \"#FF97FF\", \"#FECB52\"], \"font\": {\"color\": \"#2a3f5f\"}, \"geo\": {\"bgcolor\": \"white\", \"lakecolor\": \"white\", \"landcolor\": \"#E5ECF6\", \"showlakes\": true, \"showland\": true, \"subunitcolor\": \"white\"}, \"hoverlabel\": {\"align\": \"left\"}, \"hovermode\": \"closest\", \"mapbox\": {\"style\": \"light\"}, \"paper_bgcolor\": \"white\", \"plot_bgcolor\": \"#E5ECF6\", \"polar\": {\"angularaxis\": {\"gridcolor\": \"white\", \"linecolor\": \"white\", \"ticks\": \"\"}, \"bgcolor\": \"#E5ECF6\", \"radialaxis\": {\"gridcolor\": \"white\", \"linecolor\": \"white\", \"ticks\": \"\"}}, \"scene\": {\"xaxis\": {\"backgroundcolor\": \"#E5ECF6\", \"gridcolor\": \"white\", \"gridwidth\": 2, \"linecolor\": \"white\", \"showbackground\": true, \"ticks\": \"\", \"zerolinecolor\": \"white\"}, \"yaxis\": {\"backgroundcolor\": \"#E5ECF6\", \"gridcolor\": \"white\", \"gridwidth\": 2, \"linecolor\": \"white\", \"showbackground\": true, \"ticks\": \"\", \"zerolinecolor\": \"white\"}, \"zaxis\": {\"backgroundcolor\": \"#E5ECF6\", \"gridcolor\": \"white\", \"gridwidth\": 2, \"linecolor\": \"white\", \"showbackground\": true, \"ticks\": \"\", \"zerolinecolor\": \"white\"}}, \"shapedefaults\": {\"line\": {\"color\": \"#2a3f5f\"}}, \"ternary\": {\"aaxis\": {\"gridcolor\": \"white\", \"linecolor\": \"white\", \"ticks\": \"\"}, \"baxis\": {\"gridcolor\": \"white\", \"linecolor\": \"white\", \"ticks\": \"\"}, \"bgcolor\": \"#E5ECF6\", \"caxis\": {\"gridcolor\": \"white\", \"linecolor\": \"white\", \"ticks\": \"\"}}, \"title\": {\"x\": 0.05}, \"xaxis\": {\"automargin\": true, \"gridcolor\": \"white\", \"linecolor\": \"white\", \"ticks\": \"\", \"title\": {\"standoff\": 15}, \"zerolinecolor\": \"white\", \"zerolinewidth\": 2}, \"yaxis\": {\"automargin\": true, \"gridcolor\": \"white\", \"linecolor\": \"white\", \"ticks\": \"\", \"title\": {\"standoff\": 15}, \"zerolinecolor\": \"white\", \"zerolinewidth\": 2}}}, \"width\": 1000, \"xaxis\": {\"automargin\": true, \"gridcolor\": \"lightgrey\", \"gridwidth\": 1, \"linecolor\": \"black\", \"linewidth\": 0.7, \"mirror\": true, \"range\": [[0.00048828125, 0.00048828125, 0.00048828125, 0.00048828125, 0.00048828125], [0.00390625, 0.00390625, 0.00390625, 0.00390625, 0.00390625]], \"showline\": true, \"side\": \"bottom\", \"tickangle\": 0, \"tickfont\": {\"color\": \"black\", \"family\": \"Times New Roman\", \"size\": 20}, \"ticks\": \"outside\", \"title\": {\"font\": {\"color\": \"black\", \"family\": \"Times New Roman\", \"size\": 25}, \"text\": \"h\"}, \"type\": \"log\"}, \"yaxis\": {\"automargin\": true, \"gridcolor\": \"lightgrey\", \"gridwidth\": 1, \"linecolor\": \"black\", \"linewidth\": 0.7, \"mirror\": true, \"range\": [[0.006519299284841042, 0.01482308275322292, 0.01698644427799171, 0.02059204681927303, 0.025639890377066883], [0.014102250693169956, 0.024598836907774327, 0.05639062860637099, 0.07284382115451626, 0.09587829072191964]], \"showline\": true, \"side\": \"left\", \"tickangle\": 0, \"tickfont\": {\"color\": \"black\", \"family\": \"Times New Roman\", \"size\": 20}, \"ticks\": \"outside\", \"title\": {\"font\": {\"color\": \"black\", \"family\": \"Times New Roman\", \"size\": 25}, \"text\": \"E\"}, \"type\": \"log\"}},                        {\"responsive\": true}                    ).then(function(){\n",
       "                            \n",
       "var gd = document.getElementById('b325d32b-4202-4338-9d91-54799bc9b8cc');\n",
       "var x = new MutationObserver(function (mutations, observer) {{\n",
       "        var display = window.getComputedStyle(gd).display;\n",
       "        if (!display || display === 'none') {{\n",
       "            console.log([gd, 'removed!']);\n",
       "            Plotly.purge(gd);\n",
       "            observer.disconnect();\n",
       "        }}\n",
       "}});\n",
       "\n",
       "// Listen for the removal of the full notebook cells\n",
       "var notebookContainer = gd.closest('#notebook-container');\n",
       "if (notebookContainer) {{\n",
       "    x.observe(notebookContainer, {childList: true});\n",
       "}}\n",
       "\n",
       "// Listen for the clearing of the current output cell\n",
       "var outputEl = gd.closest('.output');\n",
       "if (outputEl) {{\n",
       "    x.observe(outputEl, {childList: true});\n",
       "}}\n",
       "\n",
       "                        })                };                });            </script>        </div>"
      ]
     },
     "metadata": {},
     "output_type": "display_data"
    },
    {
     "name": "stdout",
     "output_type": "stream",
     "text": [
      "Successfully generated: /Users/weugene//Dropbox/Aslan-Evgenii/media/pictures/Sangani/fixed_phi=0.5_m=11_E_vs_h.pdf\n",
      "phi= 0.6\n"
     ]
    },
    {
     "data": {
      "image/png": "[encoded data removed]",
      "text/plain": [
       "<Figure size 432x288 with 2 Axes>"
      ]
     },
     "metadata": {
      "needs_background": "light"
     },
     "output_type": "display_data"
    },
    {
     "data": {
      "application/vnd.plotly.v1+json": {
       "config": {
        "plotlyServerURL": "https://plot.ly"
       },
       "data": [
        {
         "line": {
          "color": "blue",
          "dash": "solid",
          "width": 3
         },
         "marker": {
          "line": {
           "color": "blue",
           "width": 1
          },
          "size": 15,
          "symbol": "circle"
         },
         "mode": "lines+markers",
         "name": "m= 0.01",
         "textfont": {
          "color": "LightSeaGreen",
          "family": "Times New Roman",
          "size": 20
         },
         "type": "scatter",
         "x": [
          0.00390625,
          0.001953125,
          0.0009765625,
          0.00048828125
         ],
         "y": [
          0.04207805663640106,
          0.048438566531777354,
          0.05372317780784949,
          0.05772587647890992
         ]
        },
        {
         "line": {
          "color": "red",
          "dash": "solid",
          "width": 3
         },
         "marker": {
          "line": {
           "color": "red",
           "width": 1
          },
          "size": 15,
          "symbol": "circle"
         },
         "mode": "lines+markers",
         "name": "m= 0.5",
         "textfont": {
          "color": "LightSeaGreen",
          "family": "Times New Roman",
          "size": 20
         },
         "type": "scatter",
         "x": [
          0.00390625,
          0.001953125,
          0.0009765625,
          0.00048828125
         ],
         "y": [
          0.07652256645942641,
          0.07280890609094828,
          0.059339927356793096,
          0.058746827164069884
         ]
        },
        {
         "line": {
          "color": "hsv(120,100,100)",
          "dash": "solid",
          "width": 3
         },
         "marker": {
          "line": {
           "color": "hsv(120,100,100)",
           "width": 1
          },
          "size": 15,
          "symbol": "circle"
         },
         "mode": "lines+markers",
         "name": "m= 1",
         "textfont": {
          "color": "LightSeaGreen",
          "family": "Times New Roman",
          "size": 20
         },
         "type": "scatter",
         "x": [
          0.00390625,
          0.001953125,
          0.0009765625,
          0.00048828125
         ],
         "y": [
          0.10871447797758325,
          0.07943561556118836,
          0.07619691880020127,
          0.06181090485062441
         ]
        },
        {
         "line": {
          "color": "green",
          "dash": "solid",
          "width": 3
         },
         "marker": {
          "line": {
           "color": "green",
           "width": 1
          },
          "size": 15,
          "symbol": "circle"
         },
         "mode": "lines+markers",
         "name": "m= 1.5",
         "textfont": {
          "color": "LightSeaGreen",
          "family": "Times New Roman",
          "size": 20
         },
         "type": "scatter",
         "x": [
          0.00390625,
          0.001953125,
          0.0009765625,
          0.00048828125
         ],
         "y": [
          0.1391284363558457,
          0.08865560926741631,
          0.08051797502469257,
          0.06691770099488195
         ]
        },
        {
         "line": {
          "color": "black",
          "dash": "solid",
          "width": 3
         },
         "marker": {
          "line": {
           "color": "black",
           "width": 1
          },
          "size": 15,
          "symbol": "circle"
         },
         "mode": "lines+markers",
         "name": "m= 2",
         "textfont": {
          "color": "LightSeaGreen",
          "family": "Times New Roman",
          "size": 20
         },
         "type": "scatter",
         "x": [
          0.00390625,
          0.001953125,
          0.0009765625,
          0.00048828125
         ],
         "y": [
          0.18170797808541317,
          0.09822577574771936,
          0.0852217345256665,
          0.07406721559684251
         ]
        }
       ],
       "layout": {
        "autosize": false,
        "font": {
         "family": "Times New Roman",
         "size": 20
        },
        "height": 500,
        "legend": {
         "bgcolor": "White",
         "bordercolor": "Black",
         "borderwidth": 0.1,
         "orientation": "v",
         "x": 0.99,
         "xanchor": "right",
         "y": 0.01,
         "yanchor": "bottom"
        },
        "margin": {
         "b": 0,
         "l": 0,
         "pad": 0.1,
         "r": 0,
         "t": 0
        },
        "paper_bgcolor": "rgba(255, 255, 255, 1)",
        "plot_bgcolor": "rgba(255, 255, 255, 1)",
        "showlegend": true,
        "template": {
         "data": {
          "bar": [
           {
            "error_x": {
             "color": "#2a3f5f"
            },
            "error_y": {
             "color": "#2a3f5f"
            },
            "marker": {
             "line": {
              "color": "#E5ECF6",
              "width": 0.5
             }
            },
            "type": "bar"
           }
          ],
          "barpolar": [
           {
            "marker": {
             "line": {
              "color": "#E5ECF6",
              "width": 0.5
             }
            },
            "type": "barpolar"
           }
          ],
          "carpet": [
           {
            "aaxis": {
             "endlinecolor": "#2a3f5f",
             "gridcolor": "white",
             "linecolor": "white",
             "minorgridcolor": "white",
             "startlinecolor": "#2a3f5f"
            },
            "baxis": {
             "endlinecolor": "#2a3f5f",
             "gridcolor": "white",
             "linecolor": "white",
             "minorgridcolor": "white",
             "startlinecolor": "#2a3f5f"
            },
            "type": "carpet"
           }
          ],
          "choropleth": [
           {
            "colorbar": {
             "outlinewidth": 0,
             "ticks": ""
            },
            "type": "choropleth"
           }
          ],
          "contour": [
           {
            "colorbar": {
             "outlinewidth": 0,
             "ticks": ""
            },
            "colorscale": [
             [
              0,
              "#0d0887"
             ],
             [
              0.1111111111111111,
              "#46039f"
             ],
             [
              0.2222222222222222,
              "#7201a8"
             ],
             [
              0.3333333333333333,
              "#9c179e"
             ],
             [
              0.4444444444444444,
              "#bd3786"
             ],
             [
              0.5555555555555556,
              "#d8576b"
             ],
             [
              0.6666666666666666,
              "#ed7953"
             ],
             [
              0.7777777777777778,
              "#fb9f3a"
             ],
             [
              0.8888888888888888,
              "#fdca26"
             ],
             [
              1,
              "#f0f921"
             ]
            ],
            "type": "contour"
           }
          ],
          "contourcarpet": [
           {
            "colorbar": {
             "outlinewidth": 0,
             "ticks": ""
            },
            "type": "contourcarpet"
           }
          ],
          "heatmap": [
           {
            "colorbar": {
             "outlinewidth": 0,
             "ticks": ""
            },
            "colorscale": [
             [
              0,
              "#0d0887"
             ],
             [
              0.1111111111111111,
              "#46039f"
             ],
             [
              0.2222222222222222,
              "#7201a8"
             ],
             [
              0.3333333333333333,
              "#9c179e"
             ],
             [
              0.4444444444444444,
              "#bd3786"
             ],
             [
              0.5555555555555556,
              "#d8576b"
             ],
             [
              0.6666666666666666,
              "#ed7953"
             ],
             [
              0.7777777777777778,
              "#fb9f3a"
             ],
             [
              0.8888888888888888,
              "#fdca26"
             ],
             [
              1,
              "#f0f921"
             ]
            ],
            "type": "heatmap"
           }
          ],
          "heatmapgl": [
           {
            "colorbar": {
             "outlinewidth": 0,
             "ticks": ""
            },
            "colorscale": [
             [
              0,
              "#0d0887"
             ],
             [
              0.1111111111111111,
              "#46039f"
             ],
             [
              0.2222222222222222,
              "#7201a8"
             ],
             [
              0.3333333333333333,
              "#9c179e"
             ],
             [
              0.4444444444444444,
              "#bd3786"
             ],
             [
              0.5555555555555556,
              "#d8576b"
             ],
             [
              0.6666666666666666,
              "#ed7953"
             ],
             [
              0.7777777777777778,
              "#fb9f3a"
             ],
             [
              0.8888888888888888,
              "#fdca26"
             ],
             [
              1,
              "#f0f921"
             ]
            ],
            "type": "heatmapgl"
           }
          ],
          "histogram": [
           {
            "marker": {
             "colorbar": {
              "outlinewidth": 0,
              "ticks": ""
             }
            },
            "type": "histogram"
           }
          ],
          "histogram2d": [
           {
            "colorbar": {
             "outlinewidth": 0,
             "ticks": ""
            },
            "colorscale": [
             [
              0,
              "#0d0887"
             ],
             [
              0.1111111111111111,
              "#46039f"
             ],
             [
              0.2222222222222222,
              "#7201a8"
             ],
             [
              0.3333333333333333,
              "#9c179e"
             ],
             [
              0.4444444444444444,
              "#bd3786"
             ],
             [
              0.5555555555555556,
              "#d8576b"
             ],
             [
              0.6666666666666666,
              "#ed7953"
             ],
             [
              0.7777777777777778,
              "#fb9f3a"
             ],
             [
              0.8888888888888888,
              "#fdca26"
             ],
             [
              1,
              "#f0f921"
             ]
            ],
            "type": "histogram2d"
           }
          ],
          "histogram2dcontour": [
           {
            "colorbar": {
             "outlinewidth": 0,
             "ticks": ""
            },
            "colorscale": [
             [
              0,
              "#0d0887"
             ],
             [
              0.1111111111111111,
              "#46039f"
             ],
             [
              0.2222222222222222,
              "#7201a8"
             ],
             [
              0.3333333333333333,
              "#9c179e"
             ],
             [
              0.4444444444444444,
              "#bd3786"
             ],
             [
              0.5555555555555556,
              "#d8576b"
             ],
             [
              0.6666666666666666,
              "#ed7953"
             ],
             [
              0.7777777777777778,
              "#fb9f3a"
             ],
             [
              0.8888888888888888,
              "#fdca26"
             ],
             [
              1,
              "#f0f921"
             ]
            ],
            "type": "histogram2dcontour"
           }
          ],
          "mesh3d": [
           {
            "colorbar": {
             "outlinewidth": 0,
             "ticks": ""
            },
            "type": "mesh3d"
           }
          ],
          "parcoords": [
           {
            "line": {
             "colorbar": {
              "outlinewidth": 0,
              "ticks": ""
             }
            },
            "type": "parcoords"
           }
          ],
          "pie": [
           {
            "automargin": true,
            "type": "pie"
           }
          ],
          "scatter": [
           {
            "marker": {
             "colorbar": {
              "outlinewidth": 0,
              "ticks": ""
             }
            },
            "type": "scatter"
           }
          ],
          "scatter3d": [
           {
            "line": {
             "colorbar": {
              "outlinewidth": 0,
              "ticks": ""
             }
            },
            "marker": {
             "colorbar": {
              "outlinewidth": 0,
              "ticks": ""
             }
            },
            "type": "scatter3d"
           }
          ],
          "scattercarpet": [
           {
            "marker": {
             "colorbar": {
              "outlinewidth": 0,
              "ticks": ""
             }
            },
            "type": "scattercarpet"
           }
          ],
          "scattergeo": [
           {
            "marker": {
             "colorbar": {
              "outlinewidth": 0,
              "ticks": ""
             }
            },
            "type": "scattergeo"
           }
          ],
          "scattergl": [
           {
            "marker": {
             "colorbar": {
              "outlinewidth": 0,
              "ticks": ""
             }
            },
            "type": "scattergl"
           }
          ],
          "scattermapbox": [
           {
            "marker": {
             "colorbar": {
              "outlinewidth": 0,
              "ticks": ""
             }
            },
            "type": "scattermapbox"
           }
          ],
          "scatterpolar": [
           {
            "marker": {
             "colorbar": {
              "outlinewidth": 0,
              "ticks": ""
             }
            },
            "type": "scatterpolar"
           }
          ],
          "scatterpolargl": [
           {
            "marker": {
             "colorbar": {
              "outlinewidth": 0,
              "ticks": ""
             }
            },
            "type": "scatterpolargl"
           }
          ],
          "scatterternary": [
           {
            "marker": {
             "colorbar": {
              "outlinewidth": 0,
              "ticks": ""
             }
            },
            "type": "scatterternary"
           }
          ],
          "surface": [
           {
            "colorbar": {
             "outlinewidth": 0,
             "ticks": ""
            },
            "colorscale": [
             [
              0,
              "#0d0887"
             ],
             [
              0.1111111111111111,
              "#46039f"
             ],
             [
              0.2222222222222222,
              "#7201a8"
             ],
             [
              0.3333333333333333,
              "#9c179e"
             ],
             [
              0.4444444444444444,
              "#bd3786"
             ],
             [
              0.5555555555555556,
              "#d8576b"
             ],
             [
              0.6666666666666666,
              "#ed7953"
             ],
             [
              0.7777777777777778,
              "#fb9f3a"
             ],
             [
              0.8888888888888888,
              "#fdca26"
             ],
             [
              1,
              "#f0f921"
             ]
            ],
            "type": "surface"
           }
          ],
          "table": [
           {
            "cells": {
             "fill": {
              "color": "#EBF0F8"
             },
             "line": {
              "color": "white"
             }
            },
            "header": {
             "fill": {
              "color": "#C8D4E3"
             },
             "line": {
              "color": "white"
             }
            },
            "type": "table"
           }
          ]
         },
         "layout": {
          "annotationdefaults": {
           "arrowcolor": "#2a3f5f",
           "arrowhead": 0,
           "arrowwidth": 1
          },
          "autotypenumbers": "strict",
          "coloraxis": {
           "colorbar": {
            "outlinewidth": 0,
            "ticks": ""
           }
          },
          "colorscale": {
           "diverging": [
            [
             0,
             "#8e0152"
            ],
            [
             0.1,
             "#c51b7d"
            ],
            [
             0.2,
             "#de77ae"
            ],
            [
             0.3,
             "#f1b6da"
            ],
            [
             0.4,
             "#fde0ef"
            ],
            [
             0.5,
             "#f7f7f7"
            ],
            [
             0.6,
             "#e6f5d0"
            ],
            [
             0.7,
             "#b8e186"
            ],
            [
             0.8,
             "#7fbc41"
            ],
            [
             0.9,
             "#4d9221"
            ],
            [
             1,
             "#276419"
            ]
           ],
           "sequential": [
            [
             0,
             "#0d0887"
            ],
            [
             0.1111111111111111,
             "#46039f"
            ],
            [
             0.2222222222222222,
             "#7201a8"
            ],
            [
             0.3333333333333333,
             "#9c179e"
            ],
            [
             0.4444444444444444,
             "#bd3786"
            ],
            [
             0.5555555555555556,
             "#d8576b"
            ],
            [
             0.6666666666666666,
             "#ed7953"
            ],
            [
             0.7777777777777778,
             "#fb9f3a"
            ],
            [
             0.8888888888888888,
             "#fdca26"
            ],
            [
             1,
             "#f0f921"
            ]
           ],
           "sequentialminus": [
            [
             0,
             "#0d0887"
            ],
            [
             0.1111111111111111,
             "#46039f"
            ],
            [
             0.2222222222222222,
             "#7201a8"
            ],
            [
             0.3333333333333333,
             "#9c179e"
            ],
            [
             0.4444444444444444,
             "#bd3786"
            ],
            [
             0.5555555555555556,
             "#d8576b"
            ],
            [
             0.6666666666666666,
             "#ed7953"
            ],
            [
             0.7777777777777778,
             "#fb9f3a"
            ],
            [
             0.8888888888888888,
             "#fdca26"
            ],
            [
             1,
             "#f0f921"
            ]
           ]
          },
          "colorway": [
           "#636efa",
           "#EF553B",
           "#00cc96",
           "#ab63fa",
           "#FFA15A",
           "#19d3f3",
           "#FF6692",
           "#B6E880",
           "#FF97FF",
           "#FECB52"
          ],
          "font": {
           "color": "#2a3f5f"
          },
          "geo": {
           "bgcolor": "white",
           "lakecolor": "white",
           "landcolor": "#E5ECF6",
           "showlakes": true,
           "showland": true,
           "subunitcolor": "white"
          },
          "hoverlabel": {
           "align": "left"
          },
          "hovermode": "closest",
          "mapbox": {
           "style": "light"
          },
          "paper_bgcolor": "white",
          "plot_bgcolor": "#E5ECF6",
          "polar": {
           "angularaxis": {
            "gridcolor": "white",
            "linecolor": "white",
            "ticks": ""
           },
           "bgcolor": "#E5ECF6",
           "radialaxis": {
            "gridcolor": "white",
            "linecolor": "white",
            "ticks": ""
           }
          },
          "scene": {
           "xaxis": {
            "backgroundcolor": "#E5ECF6",
            "gridcolor": "white",
            "gridwidth": 2,
            "linecolor": "white",
            "showbackground": true,
            "ticks": "",
            "zerolinecolor": "white"
           },
           "yaxis": {
            "backgroundcolor": "#E5ECF6",
            "gridcolor": "white",
            "gridwidth": 2,
            "linecolor": "white",
            "showbackground": true,
            "ticks": "",
            "zerolinecolor": "white"
           },
           "zaxis": {
            "backgroundcolor": "#E5ECF6",
            "gridcolor": "white",
            "gridwidth": 2,
            "linecolor": "white",
            "showbackground": true,
            "ticks": "",
            "zerolinecolor": "white"
           }
          },
          "shapedefaults": {
           "line": {
            "color": "#2a3f5f"
           }
          },
          "ternary": {
           "aaxis": {
            "gridcolor": "white",
            "linecolor": "white",
            "ticks": ""
           },
           "baxis": {
            "gridcolor": "white",
            "linecolor": "white",
            "ticks": ""
           },
           "bgcolor": "#E5ECF6",
           "caxis": {
            "gridcolor": "white",
            "linecolor": "white",
            "ticks": ""
           }
          },
          "title": {
           "x": 0.05
          },
          "xaxis": {
           "automargin": true,
           "gridcolor": "white",
           "linecolor": "white",
           "ticks": "",
           "title": {
            "standoff": 15
           },
           "zerolinecolor": "white",
           "zerolinewidth": 2
          },
          "yaxis": {
           "automargin": true,
           "gridcolor": "white",
           "linecolor": "white",
           "ticks": "",
           "title": {
            "standoff": 15
           },
           "zerolinecolor": "white",
           "zerolinewidth": 2
          }
         }
        },
        "width": 1000,
        "xaxis": {
         "automargin": true,
         "gridcolor": "lightgrey",
         "gridwidth": 1,
         "linecolor": "black",
         "linewidth": 0.7,
         "mirror": true,
         "range": [
          [
           0.00048828125,
           0.00048828125,
           0.00048828125,
           0.00048828125,
           0.00048828125
          ],
          [
           0.00390625,
           0.00390625,
           0.00390625,
           0.00390625,
           0.00390625
          ]
         ],
         "showline": true,
         "side": "bottom",
         "tickangle": 0,
         "tickfont": {
          "color": "black",
          "family": "Times New Roman",
          "size": 20
         },
         "ticks": "outside",
         "title": {
          "font": {
           "color": "black",
           "family": "Times New Roman",
           "size": 25
          },
          "text": "h"
         },
         "type": "log"
        },
        "yaxis": {
         "automargin": true,
         "gridcolor": "lightgrey",
         "gridwidth": 1,
         "linecolor": "black",
         "linewidth": 0.7,
         "mirror": true,
         "range": [
          [
           0.04207805663640106,
           0.058746827164069884,
           0.06181090485062441,
           0.06691770099488195,
           0.07406721559684251
          ],
          [
           0.05772587647890992,
           0.07652256645942641,
           0.10871447797758325,
           0.1391284363558457,
           0.18170797808541317
          ]
         ],
         "showline": true,
         "side": "left",
         "tickangle": 0,
         "tickfont": {
          "color": "black",
          "family": "Times New Roman",
          "size": 20
         },
         "ticks": "outside",
         "title": {
          "font": {
           "color": "black",
           "family": "Times New Roman",
           "size": 25
          },
          "text": "E"
         },
         "type": "log"
        }
       }
      },
      "text/html": [
       "<div>                            <div id=\"6663fc70-ede3-4a52-9766-ff87a0a2ab35\" class=\"plotly-graph-div\" style=\"height:500px; width:1000px;\"></div>            <script type=\"text/javascript\">                require([\"plotly\"], function(Plotly) {                    window.PLOTLYENV=window.PLOTLYENV || {};                                    if (document.getElementById(\"6663fc70-ede3-4a52-9766-ff87a0a2ab35\")) {                    Plotly.newPlot(                        \"6663fc70-ede3-4a52-9766-ff87a0a2ab35\",                        [{\"line\": {\"color\": \"blue\", \"dash\": \"solid\", \"width\": 3}, \"marker\": {\"line\": {\"color\": \"blue\", \"width\": 1}, \"size\": 15, \"symbol\": \"circle\"}, \"mode\": \"lines+markers\", \"name\": \"m= 0.01\", \"textfont\": {\"color\": \"LightSeaGreen\", \"family\": \"Times New Roman\", \"size\": 20}, \"type\": \"scatter\", \"x\": [0.00390625, 0.001953125, 0.0009765625, 0.00048828125], \"y\": [0.04207805663640106, 0.048438566531777354, 0.05372317780784949, 0.05772587647890992]}, {\"line\": {\"color\": \"red\", \"dash\": \"solid\", \"width\": 3}, \"marker\": {\"line\": {\"color\": \"red\", \"width\": 1}, \"size\": 15, \"symbol\": \"circle\"}, \"mode\": \"lines+markers\", \"name\": \"m= 0.5\", \"textfont\": {\"color\": \"LightSeaGreen\", \"family\": \"Times New Roman\", \"size\": 20}, \"type\": \"scatter\", \"x\": [0.00390625, 0.001953125, 0.0009765625, 0.00048828125], \"y\": [0.07652256645942641, 0.07280890609094828, 0.059339927356793096, 0.058746827164069884]}, {\"line\": {\"color\": \"hsv(120,100,100)\", \"dash\": \"solid\", \"width\": 3}, \"marker\": {\"line\": {\"color\": \"hsv(120,100,100)\", \"width\": 1}, \"size\": 15, \"symbol\": \"circle\"}, \"mode\": \"lines+markers\", \"name\": \"m= 1\", \"textfont\": {\"color\": \"LightSeaGreen\", \"family\": \"Times New Roman\", \"size\": 20}, \"type\": \"scatter\", \"x\": [0.00390625, 0.001953125, 0.0009765625, 0.00048828125], \"y\": [0.10871447797758325, 0.07943561556118836, 0.07619691880020127, 0.06181090485062441]}, {\"line\": {\"color\": \"green\", \"dash\": \"solid\", \"width\": 3}, \"marker\": {\"line\": {\"color\": \"green\", \"width\": 1}, \"size\": 15, \"symbol\": \"circle\"}, \"mode\": \"lines+markers\", \"name\": \"m= 1.5\", \"textfont\": {\"color\": \"LightSeaGreen\", \"family\": \"Times New Roman\", \"size\": 20}, \"type\": \"scatter\", \"x\": [0.00390625, 0.001953125, 0.0009765625, 0.00048828125], \"y\": [0.1391284363558457, 0.08865560926741631, 0.08051797502469257, 0.06691770099488195]}, {\"line\": {\"color\": \"black\", \"dash\": \"solid\", \"width\": 3}, \"marker\": {\"line\": {\"color\": \"black\", \"width\": 1}, \"size\": 15, \"symbol\": \"circle\"}, \"mode\": \"lines+markers\", \"name\": \"m= 2\", \"textfont\": {\"color\": \"LightSeaGreen\", \"family\": \"Times New Roman\", \"size\": 20}, \"type\": \"scatter\", \"x\": [0.00390625, 0.001953125, 0.0009765625, 0.00048828125], \"y\": [0.18170797808541317, 0.09822577574771936, 0.0852217345256665, 0.07406721559684251]}],                        {\"autosize\": false, \"font\": {\"family\": \"Times New Roman\", \"size\": 20}, \"height\": 500, \"legend\": {\"bgcolor\": \"White\", \"bordercolor\": \"Black\", \"borderwidth\": 0.1, \"orientation\": \"v\", \"x\": 0.99, \"xanchor\": \"right\", \"y\": 0.01, \"yanchor\": \"bottom\"}, \"margin\": {\"b\": 0, \"l\": 0, \"pad\": 0.1, \"r\": 0, \"t\": 0}, \"paper_bgcolor\": \"rgba(255, 255, 255, 1)\", \"plot_bgcolor\": \"rgba(255, 255, 255, 1)\", \"showlegend\": true, \"template\": {\"data\": {\"bar\": [{\"error_x\": {\"color\": \"#2a3f5f\"}, \"error_y\": {\"color\": \"#2a3f5f\"}, \"marker\": {\"line\": {\"color\": \"#E5ECF6\", \"width\": 0.5}}, \"type\": \"bar\"}], \"barpolar\": [{\"marker\": {\"line\": {\"color\": \"#E5ECF6\", \"width\": 0.5}}, \"type\": \"barpolar\"}], \"carpet\": [{\"aaxis\": {\"endlinecolor\": \"#2a3f5f\", \"gridcolor\": \"white\", \"linecolor\": \"white\", \"minorgridcolor\": \"white\", \"startlinecolor\": \"#2a3f5f\"}, \"baxis\": {\"endlinecolor\": \"#2a3f5f\", \"gridcolor\": \"white\", \"linecolor\": \"white\", \"minorgridcolor\": \"white\", \"startlinecolor\": \"#2a3f5f\"}, \"type\": \"carpet\"}], \"choropleth\": [{\"colorbar\": {\"outlinewidth\": 0, \"ticks\": \"\"}, \"type\": \"choropleth\"}], \"contour\": [{\"colorbar\": {\"outlinewidth\": 0, \"ticks\": \"\"}, \"colorscale\": [[0.0, \"#0d0887\"], [0.1111111111111111, \"#46039f\"], [0.2222222222222222, \"#7201a8\"], [0.3333333333333333, \"#9c179e\"], [0.4444444444444444, \"#bd3786\"], [0.5555555555555556, \"#d8576b\"], [0.6666666666666666, \"#ed7953\"], [0.7777777777777778, \"#fb9f3a\"], [0.8888888888888888, \"#fdca26\"], [1.0, \"#f0f921\"]], \"type\": \"contour\"}], \"contourcarpet\": [{\"colorbar\": {\"outlinewidth\": 0, \"ticks\": \"\"}, \"type\": \"contourcarpet\"}], \"heatmap\": [{\"colorbar\": {\"outlinewidth\": 0, \"ticks\": \"\"}, \"colorscale\": [[0.0, \"#0d0887\"], [0.1111111111111111, \"#46039f\"], [0.2222222222222222, \"#7201a8\"], [0.3333333333333333, \"#9c179e\"], [0.4444444444444444, \"#bd3786\"], [0.5555555555555556, \"#d8576b\"], [0.6666666666666666, \"#ed7953\"], [0.7777777777777778, \"#fb9f3a\"], [0.8888888888888888, \"#fdca26\"], [1.0, \"#f0f921\"]], \"type\": \"heatmap\"}], \"heatmapgl\": [{\"colorbar\": {\"outlinewidth\": 0, \"ticks\": \"\"}, \"colorscale\": [[0.0, \"#0d0887\"], [0.1111111111111111, \"#46039f\"], [0.2222222222222222, \"#7201a8\"], [0.3333333333333333, \"#9c179e\"], [0.4444444444444444, \"#bd3786\"], [0.5555555555555556, \"#d8576b\"], [0.6666666666666666, \"#ed7953\"], [0.7777777777777778, \"#fb9f3a\"], [0.8888888888888888, \"#fdca26\"], [1.0, \"#f0f921\"]], \"type\": \"heatmapgl\"}], \"histogram\": [{\"marker\": {\"colorbar\": {\"outlinewidth\": 0, \"ticks\": \"\"}}, \"type\": \"histogram\"}], \"histogram2d\": [{\"colorbar\": {\"outlinewidth\": 0, \"ticks\": \"\"}, \"colorscale\": [[0.0, \"#0d0887\"], [0.1111111111111111, \"#46039f\"], [0.2222222222222222, \"#7201a8\"], [0.3333333333333333, \"#9c179e\"], [0.4444444444444444, \"#bd3786\"], [0.5555555555555556, \"#d8576b\"], [0.6666666666666666, \"#ed7953\"], [0.7777777777777778, \"#fb9f3a\"], [0.8888888888888888, \"#fdca26\"], [1.0, \"#f0f921\"]], \"type\": \"histogram2d\"}], \"histogram2dcontour\": [{\"colorbar\": {\"outlinewidth\": 0, \"ticks\": \"\"}, \"colorscale\": [[0.0, \"#0d0887\"], [0.1111111111111111, \"#46039f\"], [0.2222222222222222, \"#7201a8\"], [0.3333333333333333, \"#9c179e\"], [0.4444444444444444, \"#bd3786\"], [0.5555555555555556, \"#d8576b\"], [0.6666666666666666, \"#ed7953\"], [0.7777777777777778, \"#fb9f3a\"], [0.8888888888888888, \"#fdca26\"], [1.0, \"#f0f921\"]], \"type\": \"histogram2dcontour\"}], \"mesh3d\": [{\"colorbar\": {\"outlinewidth\": 0, \"ticks\": \"\"}, \"type\": \"mesh3d\"}], \"parcoords\": [{\"line\": {\"colorbar\": {\"outlinewidth\": 0, \"ticks\": \"\"}}, \"type\": \"parcoords\"}], \"pie\": [{\"automargin\": true, \"type\": \"pie\"}], \"scatter\": [{\"marker\": {\"colorbar\": {\"outlinewidth\": 0, \"ticks\": \"\"}}, \"type\": \"scatter\"}], \"scatter3d\": [{\"line\": {\"colorbar\": {\"outlinewidth\": 0, \"ticks\": \"\"}}, \"marker\": {\"colorbar\": {\"outlinewidth\": 0, \"ticks\": \"\"}}, \"type\": \"scatter3d\"}], \"scattercarpet\": [{\"marker\": {\"colorbar\": {\"outlinewidth\": 0, \"ticks\": \"\"}}, \"type\": \"scattercarpet\"}], \"scattergeo\": [{\"marker\": {\"colorbar\": {\"outlinewidth\": 0, \"ticks\": \"\"}}, \"type\": \"scattergeo\"}], \"scattergl\": [{\"marker\": {\"colorbar\": {\"outlinewidth\": 0, \"ticks\": \"\"}}, \"type\": \"scattergl\"}], \"scattermapbox\": [{\"marker\": {\"colorbar\": {\"outlinewidth\": 0, \"ticks\": \"\"}}, \"type\": \"scattermapbox\"}], \"scatterpolar\": [{\"marker\": {\"colorbar\": {\"outlinewidth\": 0, \"ticks\": \"\"}}, \"type\": \"scatterpolar\"}], \"scatterpolargl\": [{\"marker\": {\"colorbar\": {\"outlinewidth\": 0, \"ticks\": \"\"}}, \"type\": \"scatterpolargl\"}], \"scatterternary\": [{\"marker\": {\"colorbar\": {\"outlinewidth\": 0, \"ticks\": \"\"}}, \"type\": \"scatterternary\"}], \"surface\": [{\"colorbar\": {\"outlinewidth\": 0, \"ticks\": \"\"}, \"colorscale\": [[0.0, \"#0d0887\"], [0.1111111111111111, \"#46039f\"], [0.2222222222222222, \"#7201a8\"], [0.3333333333333333, \"#9c179e\"], [0.4444444444444444, \"#bd3786\"], [0.5555555555555556, \"#d8576b\"], [0.6666666666666666, \"#ed7953\"], [0.7777777777777778, \"#fb9f3a\"], [0.8888888888888888, \"#fdca26\"], [1.0, \"#f0f921\"]], \"type\": \"surface\"}], \"table\": [{\"cells\": {\"fill\": {\"color\": \"#EBF0F8\"}, \"line\": {\"color\": \"white\"}}, \"header\": {\"fill\": {\"color\": \"#C8D4E3\"}, \"line\": {\"color\": \"white\"}}, \"type\": \"table\"}]}, \"layout\": {\"annotationdefaults\": {\"arrowcolor\": \"#2a3f5f\", \"arrowhead\": 0, \"arrowwidth\": 1}, \"autotypenumbers\": \"strict\", \"coloraxis\": {\"colorbar\": {\"outlinewidth\": 0, \"ticks\": \"\"}}, \"colorscale\": {\"diverging\": [[0, \"#8e0152\"], [0.1, \"#c51b7d\"], [0.2, \"#de77ae\"], [0.3, \"#f1b6da\"], [0.4, \"#fde0ef\"], [0.5, \"#f7f7f7\"], [0.6, \"#e6f5d0\"], [0.7, \"#b8e186\"], [0.8, \"#7fbc41\"], [0.9, \"#4d9221\"], [1, \"#276419\"]], \"sequential\": [[0.0, \"#0d0887\"], [0.1111111111111111, \"#46039f\"], [0.2222222222222222, \"#7201a8\"], [0.3333333333333333, \"#9c179e\"], [0.4444444444444444, \"#bd3786\"], [0.5555555555555556, \"#d8576b\"], [0.6666666666666666, \"#ed7953\"], [0.7777777777777778, \"#fb9f3a\"], [0.8888888888888888, \"#fdca26\"], [1.0, \"#f0f921\"]], \"sequentialminus\": [[0.0, \"#0d0887\"], [0.1111111111111111, \"#46039f\"], [0.2222222222222222, \"#7201a8\"], [0.3333333333333333, \"#9c179e\"], [0.4444444444444444, \"#bd3786\"], [0.5555555555555556, \"#d8576b\"], [0.6666666666666666, \"#ed7953\"], [0.7777777777777778, \"#fb9f3a\"], [0.8888888888888888, \"#fdca26\"], [1.0, \"#f0f921\"]]}, \"colorway\": [\"#636efa\", \"#EF553B\", \"#00cc96\", \"#ab63fa\", \"#FFA15A\", \"#19d3f3\", \"#FF6692\", \"#B6E880\", \"#FF97FF\", \"#FECB52\"], \"font\": {\"color\": \"#2a3f5f\"}, \"geo\": {\"bgcolor\": \"white\", \"lakecolor\": \"white\", \"landcolor\": \"#E5ECF6\", \"showlakes\": true, \"showland\": true, \"subunitcolor\": \"white\"}, \"hoverlabel\": {\"align\": \"left\"}, \"hovermode\": \"closest\", \"mapbox\": {\"style\": \"light\"}, \"paper_bgcolor\": \"white\", \"plot_bgcolor\": \"#E5ECF6\", \"polar\": {\"angularaxis\": {\"gridcolor\": \"white\", \"linecolor\": \"white\", \"ticks\": \"\"}, \"bgcolor\": \"#E5ECF6\", \"radialaxis\": {\"gridcolor\": \"white\", \"linecolor\": \"white\", \"ticks\": \"\"}}, \"scene\": {\"xaxis\": {\"backgroundcolor\": \"#E5ECF6\", \"gridcolor\": \"white\", \"gridwidth\": 2, \"linecolor\": \"white\", \"showbackground\": true, \"ticks\": \"\", \"zerolinecolor\": \"white\"}, \"yaxis\": {\"backgroundcolor\": \"#E5ECF6\", \"gridcolor\": \"white\", \"gridwidth\": 2, \"linecolor\": \"white\", \"showbackground\": true, \"ticks\": \"\", \"zerolinecolor\": \"white\"}, \"zaxis\": {\"backgroundcolor\": \"#E5ECF6\", \"gridcolor\": \"white\", \"gridwidth\": 2, \"linecolor\": \"white\", \"showbackground\": true, \"ticks\": \"\", \"zerolinecolor\": \"white\"}}, \"shapedefaults\": {\"line\": {\"color\": \"#2a3f5f\"}}, \"ternary\": {\"aaxis\": {\"gridcolor\": \"white\", \"linecolor\": \"white\", \"ticks\": \"\"}, \"baxis\": {\"gridcolor\": \"white\", \"linecolor\": \"white\", \"ticks\": \"\"}, \"bgcolor\": \"#E5ECF6\", \"caxis\": {\"gridcolor\": \"white\", \"linecolor\": \"white\", \"ticks\": \"\"}}, \"title\": {\"x\": 0.05}, \"xaxis\": {\"automargin\": true, \"gridcolor\": \"white\", \"linecolor\": \"white\", \"ticks\": \"\", \"title\": {\"standoff\": 15}, \"zerolinecolor\": \"white\", \"zerolinewidth\": 2}, \"yaxis\": {\"automargin\": true, \"gridcolor\": \"white\", \"linecolor\": \"white\", \"ticks\": \"\", \"title\": {\"standoff\": 15}, \"zerolinecolor\": \"white\", \"zerolinewidth\": 2}}}, \"width\": 1000, \"xaxis\": {\"automargin\": true, \"gridcolor\": \"lightgrey\", \"gridwidth\": 1, \"linecolor\": \"black\", \"linewidth\": 0.7, \"mirror\": true, \"range\": [[0.00048828125, 0.00048828125, 0.00048828125, 0.00048828125, 0.00048828125], [0.00390625, 0.00390625, 0.00390625, 0.00390625, 0.00390625]], \"showline\": true, \"side\": \"bottom\", \"tickangle\": 0, \"tickfont\": {\"color\": \"black\", \"family\": \"Times New Roman\", \"size\": 20}, \"ticks\": \"outside\", \"title\": {\"font\": {\"color\": \"black\", \"family\": \"Times New Roman\", \"size\": 25}, \"text\": \"h\"}, \"type\": \"log\"}, \"yaxis\": {\"automargin\": true, \"gridcolor\": \"lightgrey\", \"gridwidth\": 1, \"linecolor\": \"black\", \"linewidth\": 0.7, \"mirror\": true, \"range\": [[0.04207805663640106, 0.058746827164069884, 0.06181090485062441, 0.06691770099488195, 0.07406721559684251], [0.05772587647890992, 0.07652256645942641, 0.10871447797758325, 0.1391284363558457, 0.18170797808541317]], \"showline\": true, \"side\": \"left\", \"tickangle\": 0, \"tickfont\": {\"color\": \"black\", \"family\": \"Times New Roman\", \"size\": 20}, \"ticks\": \"outside\", \"title\": {\"font\": {\"color\": \"black\", \"family\": \"Times New Roman\", \"size\": 25}, \"text\": \"E\"}, \"type\": \"log\"}},                        {\"responsive\": true}                    ).then(function(){\n",
       "                            \n",
       "var gd = document.getElementById('6663fc70-ede3-4a52-9766-ff87a0a2ab35');\n",
       "var x = new MutationObserver(function (mutations, observer) {{\n",
       "        var display = window.getComputedStyle(gd).display;\n",
       "        if (!display || display === 'none') {{\n",
       "            console.log([gd, 'removed!']);\n",
       "            Plotly.purge(gd);\n",
       "            observer.disconnect();\n",
       "        }}\n",
       "}});\n",
       "\n",
       "// Listen for the removal of the full notebook cells\n",
       "var notebookContainer = gd.closest('#notebook-container');\n",
       "if (notebookContainer) {{\n",
       "    x.observe(notebookContainer, {childList: true});\n",
       "}}\n",
       "\n",
       "// Listen for the clearing of the current output cell\n",
       "var outputEl = gd.closest('.output');\n",
       "if (outputEl) {{\n",
       "    x.observe(outputEl, {childList: true});\n",
       "}}\n",
       "\n",
       "                        })                };                });            </script>        </div>"
      ]
     },
     "metadata": {},
     "output_type": "display_data"
    },
    {
     "name": "stdout",
     "output_type": "stream",
     "text": [
      "Successfully generated: /Users/weugene//Dropbox/Aslan-Evgenii/media/pictures/Sangani/fixed_phi=0.6_m=11_E_vs_h.pdf\n"
     ]
    }
   ],
   "source": [
    "from scipy import interpolate\n",
    "from matplotlib import tri\n",
    "# etas = np.array([ 1e-06 ])\n",
    "etas = np.array([ 1e-03, 1e-4, 1e-05, 1e-06, 1e-15 ])\n",
    "levels = np.array([8,9,10,11])\n",
    "# phis = np.array([0.3, 0.4, 0.5, 0.6])\n",
    "phis = np.array([0.3, 0.4, 0.5, 0.6])\n",
    "\n",
    "\n",
    "xaxis='h'\n",
    "yaxis=\"E\"\n",
    "ngridx = ngridy = 100\n",
    "\n",
    "logFig=False\n",
    "# logFig=True\n",
    "\n",
    "if not logFig:\n",
    "    etamin, etamax, levmin, levmax = min(etas), max(etas), min(levels), max(levels)\n",
    "else:\n",
    "    etamin, etamax, levmin, levmax = min(np.log(etas)), max(np.log(etas)), min(np.log(levels)), max(np.log(levels))\n",
    "\n",
    "list_x, list_y, list_names, list_colors, list_lines = [], [], [], [], []\n",
    "xaxis='h'\n",
    "yaxis=\"E\"\n",
    "\n",
    "for i,phi in enumerate(phis):\n",
    "    print('phi=', phi)\n",
    "    \n",
    "    N = levels.size*etas.size\n",
    "    points = np.zeros((N, 2))\n",
    "    values = np.zeros(N)\n",
    "    n = 0\n",
    "    for j,lev in enumerate(levels):\n",
    "\n",
    "        dx = 1/2**lev\n",
    "        for k,et in enumerate(etas):\n",
    "            if not logFig:\n",
    "                points[n][0] = et\n",
    "                points[n][1] = lev\n",
    "            else:\n",
    "                points[n][0] = np.log(et)\n",
    "                points[n][1] = np.log(dx)\n",
    "            \n",
    "            values[n] = df[lev][et][phi]#**2\n",
    "            n += 1\n",
    "    triang = tri.Triangulation(points[:,0], points[:,1])\n",
    "    interpolator = tri.LinearTriInterpolator(triang, values)\n",
    "    \n",
    "    xi = np.linspace(points[:,0].min() - 0.5, points[:,0].max() + 0.5, ngridx)\n",
    "    yi = np.linspace(points[:,1].min() - 0.1, points[:,1].max() + 0.1, ngridy)\n",
    "    Xi, Yi = np.meshgrid(xi, yi)\n",
    "    zi = interpolator(Xi, Yi)\n",
    "    \n",
    "    fig, (ax1) = plt.subplots(nrows=1)\n",
    "    ax1.contour(xi, yi, zi, levels=100, linewidths=0.5, colors='k')\n",
    "    cntr1 = ax1.contourf(xi, yi, zi, levels=14, cmap=\"RdBu_r\")\n",
    "\n",
    "    fig.colorbar(cntr1, ax=ax1)\n",
    "    ax1.plot(points[:,0], points[:,1], 'ko', ms=3)\n",
    "#     ax1.set(xlim=(0.8*etamin, 1.2*etamax), ylim=(0.99*levmin, 1.01*levmax))\n",
    "    ax1.set_title('grid and contour (%d points, %d grid points)' %\n",
    "                  (points.shape[0], ngridx * ngridy))\n",
    "    if not logFig:\n",
    "        ax1.set_xscale(\"log\")\n",
    "    plt.subplots_adjust(hspace=0.5)\n",
    "    plt.show()\n",
    "    \n",
    "    \n",
    "    list_x, list_y, list_names, list_colors, list_lines, list_eta, list_m = [], [], [], [], [], [], []\n",
    "    for m in [0.01, 0.5, 1, 1.5, 2]:\n",
    "        xx, yy = [], []\n",
    "        for j,lev in enumerate(levels): \n",
    "            dx = 1/2**lev\n",
    "            et = (m*dx)**2/1\n",
    "            xx.append(dx)\n",
    "            if not logFig:\n",
    "                yy.append(interpolator(et, lev).data)\n",
    "            else:\n",
    "                yy.append(interpolator(np.log(et), np.log(dx)).data)\n",
    "        if m == 5:\n",
    "            nm = '≥ ' + str(m)\n",
    "        else:\n",
    "            nm = '= ' + str(m)\n",
    "#         pw=np.log10(et)\n",
    "        list_x.append(xx)\n",
    "        list_y.append(yy)\n",
    "        list_names.append('m' + nm)\n",
    "        list_lines.append('solid')\n",
    "\n",
    "    fn = 'fixed_phi={}_m={}_E_vs_h.pdf'.format(phi, lev)\n",
    "    plot_graph(list_x, list_y, names=list_names, xtitle=xaxis, ytitle=yaxis, image_name=fn, \\\n",
    "                   mode=['lines+markers']*10,\\\n",
    "    #                xrange=[0,20], \n",
    "#                    yrange=[-3.7,0.3],\\\n",
    "                   dash=list_lines,\\\n",
    "    #                colors=None,\\\n",
    "                   ylog=True,\\\n",
    "                   xlog=True, \\\n",
    "                   width=1000, height=500, path=MYPATH + prefix ,  legend_orientation='v', showlegend=True,\\\n",
    "                   yanchor='bottom', y0_anchor=0.01, xanchor='right', x0_anchor=0.99, legborderlinesize=0.1)\n"
   ]
  },
  {
   "cell_type": "code",
   "execution_count": null,
   "metadata": {},
   "outputs": [],
   "source": [
    "(0.0317844 - 0.005290214)/(0.00390625 - 488.2813e-6)"
   ]
  },
  {
   "cell_type": "code",
   "execution_count": null,
   "metadata": {},
   "outputs": [],
   "source": [
    "(np.log(0.0317844) - np.log(0.005290214))/(np.log(0.00390625) - np.log(488.2813e-6))"
   ]
  },
  {
   "cell_type": "code",
   "execution_count": null,
   "metadata": {},
   "outputs": [],
   "source": [
    "(np.log(0.0039) - np.log(35.9e-6))/(np.log(0.00390625) - np.log(488.2813e-6))"
   ]
  },
  {
   "cell_type": "code",
   "execution_count": null,
   "metadata": {},
   "outputs": [],
   "source": []
  },
  {
   "cell_type": "code",
   "execution_count": null,
   "metadata": {},
   "outputs": [],
   "source": []
  },
  {
   "cell_type": "code",
   "execution_count": null,
   "metadata": {},
   "outputs": [],
   "source": []
  },
  {
   "cell_type": "code",
   "execution_count": null,
   "metadata": {},
   "outputs": [],
   "source": []
  },
  {
   "cell_type": "code",
   "execution_count": null,
   "metadata": {},
   "outputs": [],
   "source": []
  }
 ],
 "metadata": {
  "kernelspec": {
   "display_name": "Python 3",
   "language": "python",
   "name": "python3"
  },
  "language_info": {
   "codemirror_mode": {
    "name": "ipython",
    "version": 3
   },
   "file_extension": ".py",
   "mimetype": "text/x-python",
   "name": "python",
   "nbconvert_exporter": "python",
   "pygments_lexer": "ipython3",
   "version": "3.7.1"
  }
 },
 "nbformat": 4,
 "nbformat_minor": 2
}
